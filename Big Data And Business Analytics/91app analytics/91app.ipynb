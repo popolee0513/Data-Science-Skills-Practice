{
 "cells": [
  {
   "cell_type": "code",
   "execution_count": 1,
   "metadata": {},
   "outputs": [],
   "source": [
    "import pandas as pd\n",
    "import warnings\n",
    "import numpy as np\n",
    "import matplotlib.pyplot as plt\n",
    "import seaborn as sns\n",
    "from datetime import datetime ,timedelta \n",
    "import datetime as dt\n",
    "import math\n",
    "warnings.filterwarnings('ignore')"
   ]
  },
  {
   "cell_type": "code",
   "execution_count": 2,
   "metadata": {},
   "outputs": [],
   "source": [
    "online=pd.read_csv(\"OrderData.csv\")\n",
    "online = online[online[\"Status\"].isin([\"Finish\",\"Return\"])]"
   ]
  },
  {
   "cell_type": "code",
   "execution_count": 3,
   "metadata": {},
   "outputs": [
    {
     "name": "stdout",
     "output_type": "stream",
     "text": [
      "There are 181388 customers in this dataset.\n",
      "There are 450454 records.\n"
     ]
    }
   ],
   "source": [
    "print(\"There are %d customers in this dataset.\" %len(pd.unique(online[\"MemberID\"])))\n",
    "print(\"There are %d records.\" %online.shape[0])"
   ]
  },
  {
   "cell_type": "code",
   "execution_count": 4,
   "metadata": {},
   "outputs": [
    {
     "data": {
      "text/html": [
       "<div>\n",
       "<style scoped>\n",
       "    .dataframe tbody tr th:only-of-type {\n",
       "        vertical-align: middle;\n",
       "    }\n",
       "\n",
       "    .dataframe tbody tr th {\n",
       "        vertical-align: top;\n",
       "    }\n",
       "\n",
       "    .dataframe thead th {\n",
       "        text-align: right;\n",
       "    }\n",
       "</style>\n",
       "<table border=\"1\" class=\"dataframe\">\n",
       "  <thead>\n",
       "    <tr style=\"text-align: right;\">\n",
       "      <th></th>\n",
       "      <th>TradesGroupCode</th>\n",
       "      <th>TradesDateTime</th>\n",
       "      <th>ChannelType</th>\n",
       "      <th>ChannelDetail</th>\n",
       "      <th>PaymentType</th>\n",
       "      <th>ShippingType</th>\n",
       "      <th>TsCount</th>\n",
       "      <th>Qty</th>\n",
       "      <th>TotalSalesAmount</th>\n",
       "      <th>TotalPrice</th>\n",
       "      <th>TotalDiscount</th>\n",
       "      <th>TotalPromotionDiscount</th>\n",
       "      <th>TotalCouponDiscount</th>\n",
       "      <th>TotalLoyaltyDiscount</th>\n",
       "      <th>Status</th>\n",
       "      <th>MemberID</th>\n",
       "    </tr>\n",
       "  </thead>\n",
       "  <tbody>\n",
       "    <tr>\n",
       "      <th>0</th>\n",
       "      <td>TG190926B00185</td>\n",
       "      <td>2019-09-26 01:15:10.297</td>\n",
       "      <td>OfficialECom</td>\n",
       "      <td>MobileWeb</td>\n",
       "      <td>JKOPay</td>\n",
       "      <td>Home</td>\n",
       "      <td>1</td>\n",
       "      <td>1</td>\n",
       "      <td>680</td>\n",
       "      <td>680</td>\n",
       "      <td>0</td>\n",
       "      <td>0</td>\n",
       "      <td>0</td>\n",
       "      <td>0</td>\n",
       "      <td>Finish</td>\n",
       "      <td>JAE7ypAI%2BmBkMAd1REpPJI3zcEQBI9WBTeg5QlsEri4%3D</td>\n",
       "    </tr>\n",
       "    <tr>\n",
       "      <th>1</th>\n",
       "      <td>TG190926X00450</td>\n",
       "      <td>2019-09-26 21:16:59.167</td>\n",
       "      <td>OfficialECom</td>\n",
       "      <td>iOSApp</td>\n",
       "      <td>JKOPay</td>\n",
       "      <td>FamilyPickup</td>\n",
       "      <td>4</td>\n",
       "      <td>4</td>\n",
       "      <td>2660</td>\n",
       "      <td>2760</td>\n",
       "      <td>-100</td>\n",
       "      <td>0</td>\n",
       "      <td>-100</td>\n",
       "      <td>0</td>\n",
       "      <td>Finish</td>\n",
       "      <td>UB%2F0WwXAdW5GhwWmVB036mhSMcUnbK1IA5kXp31h4XQ%3D</td>\n",
       "    </tr>\n",
       "    <tr>\n",
       "      <th>2</th>\n",
       "      <td>TG190928M00620</td>\n",
       "      <td>2019-09-28 11:31:04.847</td>\n",
       "      <td>OfficialECom</td>\n",
       "      <td>MobileWeb</td>\n",
       "      <td>JKOPay</td>\n",
       "      <td>FamilyPickup</td>\n",
       "      <td>1</td>\n",
       "      <td>1</td>\n",
       "      <td>1016</td>\n",
       "      <td>1280</td>\n",
       "      <td>-264</td>\n",
       "      <td>-64</td>\n",
       "      <td>-200</td>\n",
       "      <td>0</td>\n",
       "      <td>Finish</td>\n",
       "      <td>rKUVLmkXyUqqVN8zU1UB40kuhBLRok8FvQtDZTGIS00%3D</td>\n",
       "    </tr>\n",
       "    <tr>\n",
       "      <th>3</th>\n",
       "      <td>TG190928U00383</td>\n",
       "      <td>2019-09-28 18:23:28.130</td>\n",
       "      <td>OfficialECom</td>\n",
       "      <td>iOSApp</td>\n",
       "      <td>JKOPay</td>\n",
       "      <td>FamilyPickup</td>\n",
       "      <td>1</td>\n",
       "      <td>1</td>\n",
       "      <td>1380</td>\n",
       "      <td>1480</td>\n",
       "      <td>-100</td>\n",
       "      <td>0</td>\n",
       "      <td>-100</td>\n",
       "      <td>0</td>\n",
       "      <td>Finish</td>\n",
       "      <td>WpUUri%2BOuznMIisbG5ramILffQkqoQr8TPOj0L8lqN8%3D</td>\n",
       "    </tr>\n",
       "    <tr>\n",
       "      <th>6</th>\n",
       "      <td>TG190930U00304</td>\n",
       "      <td>2019-09-30 18:11:13.930</td>\n",
       "      <td>OfficialECom</td>\n",
       "      <td>DesktopOfficialWeb</td>\n",
       "      <td>JKOPay</td>\n",
       "      <td>FamilyPickup</td>\n",
       "      <td>1</td>\n",
       "      <td>1</td>\n",
       "      <td>1880</td>\n",
       "      <td>1880</td>\n",
       "      <td>0</td>\n",
       "      <td>0</td>\n",
       "      <td>0</td>\n",
       "      <td>0</td>\n",
       "      <td>Finish</td>\n",
       "      <td>e2qLn%2F56IF%2Fgbd9DzhAksayeVEVwHxGYtV15nldbZ8...</td>\n",
       "    </tr>\n",
       "  </tbody>\n",
       "</table>\n",
       "</div>"
      ],
      "text/plain": [
       "  TradesGroupCode           TradesDateTime   ChannelType       ChannelDetail  \\\n",
       "0  TG190926B00185  2019-09-26 01:15:10.297  OfficialECom           MobileWeb   \n",
       "1  TG190926X00450  2019-09-26 21:16:59.167  OfficialECom              iOSApp   \n",
       "2  TG190928M00620  2019-09-28 11:31:04.847  OfficialECom           MobileWeb   \n",
       "3  TG190928U00383  2019-09-28 18:23:28.130  OfficialECom              iOSApp   \n",
       "6  TG190930U00304  2019-09-30 18:11:13.930  OfficialECom  DesktopOfficialWeb   \n",
       "\n",
       "  PaymentType  ShippingType  TsCount  Qty  TotalSalesAmount  TotalPrice  \\\n",
       "0      JKOPay          Home        1    1               680         680   \n",
       "1      JKOPay  FamilyPickup        4    4              2660        2760   \n",
       "2      JKOPay  FamilyPickup        1    1              1016        1280   \n",
       "3      JKOPay  FamilyPickup        1    1              1380        1480   \n",
       "6      JKOPay  FamilyPickup        1    1              1880        1880   \n",
       "\n",
       "   TotalDiscount  TotalPromotionDiscount  TotalCouponDiscount  \\\n",
       "0              0                       0                    0   \n",
       "1           -100                       0                 -100   \n",
       "2           -264                     -64                 -200   \n",
       "3           -100                       0                 -100   \n",
       "6              0                       0                    0   \n",
       "\n",
       "   TotalLoyaltyDiscount  Status  \\\n",
       "0                     0  Finish   \n",
       "1                     0  Finish   \n",
       "2                     0  Finish   \n",
       "3                     0  Finish   \n",
       "6                     0  Finish   \n",
       "\n",
       "                                            MemberID  \n",
       "0   JAE7ypAI%2BmBkMAd1REpPJI3zcEQBI9WBTeg5QlsEri4%3D  \n",
       "1   UB%2F0WwXAdW5GhwWmVB036mhSMcUnbK1IA5kXp31h4XQ%3D  \n",
       "2     rKUVLmkXyUqqVN8zU1UB40kuhBLRok8FvQtDZTGIS00%3D  \n",
       "3   WpUUri%2BOuznMIisbG5ramILffQkqoQr8TPOj0L8lqN8%3D  \n",
       "6  e2qLn%2F56IF%2Fgbd9DzhAksayeVEVwHxGYtV15nldbZ8...  "
      ]
     },
     "execution_count": 4,
     "metadata": {},
     "output_type": "execute_result"
    }
   ],
   "source": [
    "online.head()"
   ]
  },
  {
   "cell_type": "code",
   "execution_count": 5,
   "metadata": {},
   "outputs": [
    {
     "data": {
      "text/html": [
       "<div>\n",
       "<style scoped>\n",
       "    .dataframe tbody tr th:only-of-type {\n",
       "        vertical-align: middle;\n",
       "    }\n",
       "\n",
       "    .dataframe tbody tr th {\n",
       "        vertical-align: top;\n",
       "    }\n",
       "\n",
       "    .dataframe thead th {\n",
       "        text-align: right;\n",
       "    }\n",
       "</style>\n",
       "<table border=\"1\" class=\"dataframe\">\n",
       "  <thead>\n",
       "    <tr style=\"text-align: right;\">\n",
       "      <th></th>\n",
       "      <th>TradesGroupCode</th>\n",
       "      <th>TradesDateTime</th>\n",
       "      <th>ChannelType</th>\n",
       "      <th>ChannelDetail</th>\n",
       "      <th>PaymentType</th>\n",
       "      <th>ShippingType</th>\n",
       "      <th>TsCount</th>\n",
       "      <th>Qty</th>\n",
       "      <th>TotalSalesAmount</th>\n",
       "      <th>TotalPrice</th>\n",
       "      <th>TotalDiscount</th>\n",
       "      <th>TotalPromotionDiscount</th>\n",
       "      <th>TotalCouponDiscount</th>\n",
       "      <th>TotalLoyaltyDiscount</th>\n",
       "      <th>Status</th>\n",
       "      <th>MemberID</th>\n",
       "    </tr>\n",
       "  </thead>\n",
       "  <tbody>\n",
       "    <tr>\n",
       "      <th>12</th>\n",
       "      <td>TG191002Q00291</td>\n",
       "      <td>2019-10-02 14:14:39.180</td>\n",
       "      <td>OfficialECom</td>\n",
       "      <td>DesktopOfficialWeb</td>\n",
       "      <td>JKOPay</td>\n",
       "      <td>Home</td>\n",
       "      <td>2</td>\n",
       "      <td>-2</td>\n",
       "      <td>-1199</td>\n",
       "      <td>-1199</td>\n",
       "      <td>0</td>\n",
       "      <td>0</td>\n",
       "      <td>0</td>\n",
       "      <td>0</td>\n",
       "      <td>Return</td>\n",
       "      <td>VgB2jqtj014XsyRKw%2Bbp7tAWMYkjb1hTEeT%2BgWhKwA...</td>\n",
       "    </tr>\n",
       "  </tbody>\n",
       "</table>\n",
       "</div>"
      ],
      "text/plain": [
       "   TradesGroupCode           TradesDateTime   ChannelType       ChannelDetail  \\\n",
       "12  TG191002Q00291  2019-10-02 14:14:39.180  OfficialECom  DesktopOfficialWeb   \n",
       "\n",
       "   PaymentType ShippingType  TsCount  Qty  TotalSalesAmount  TotalPrice  \\\n",
       "12      JKOPay         Home        2   -2             -1199       -1199   \n",
       "\n",
       "    TotalDiscount  TotalPromotionDiscount  TotalCouponDiscount  \\\n",
       "12              0                       0                    0   \n",
       "\n",
       "    TotalLoyaltyDiscount  Status  \\\n",
       "12                     0  Return   \n",
       "\n",
       "                                             MemberID  \n",
       "12  VgB2jqtj014XsyRKw%2Bbp7tAWMYkjb1hTEeT%2BgWhKwA...  "
      ]
     },
     "execution_count": 5,
     "metadata": {},
     "output_type": "execute_result"
    }
   ],
   "source": [
    "#Qty =負值代表退貨\n",
    "online[online[\"TsCount\"]!=online[\"Qty\"]].head(1)"
   ]
  },
  {
   "cell_type": "code",
   "execution_count": 6,
   "metadata": {},
   "outputs": [
    {
     "data": {
      "text/html": [
       "<div>\n",
       "<style scoped>\n",
       "    .dataframe tbody tr th:only-of-type {\n",
       "        vertical-align: middle;\n",
       "    }\n",
       "\n",
       "    .dataframe tbody tr th {\n",
       "        vertical-align: top;\n",
       "    }\n",
       "\n",
       "    .dataframe thead th {\n",
       "        text-align: right;\n",
       "    }\n",
       "</style>\n",
       "<table border=\"1\" class=\"dataframe\">\n",
       "  <thead>\n",
       "    <tr style=\"text-align: right;\">\n",
       "      <th></th>\n",
       "      <th>TradesGroupCode</th>\n",
       "      <th>TradesDateTime</th>\n",
       "      <th>ChannelType</th>\n",
       "      <th>ChannelDetail</th>\n",
       "      <th>PaymentType</th>\n",
       "      <th>ShippingType</th>\n",
       "      <th>TsCount</th>\n",
       "      <th>Qty</th>\n",
       "      <th>TotalSalesAmount</th>\n",
       "      <th>TotalPrice</th>\n",
       "      <th>TotalDiscount</th>\n",
       "      <th>TotalPromotionDiscount</th>\n",
       "      <th>TotalCouponDiscount</th>\n",
       "      <th>TotalLoyaltyDiscount</th>\n",
       "      <th>Status</th>\n",
       "      <th>MemberID</th>\n",
       "    </tr>\n",
       "  </thead>\n",
       "  <tbody>\n",
       "    <tr>\n",
       "      <th>1435</th>\n",
       "      <td>TG200308S01758</td>\n",
       "      <td>2020-03-08 16:59:57.377</td>\n",
       "      <td>OfficialECom</td>\n",
       "      <td>iOSApp</td>\n",
       "      <td>JKOPay</td>\n",
       "      <td>Home</td>\n",
       "      <td>5</td>\n",
       "      <td>-6</td>\n",
       "      <td>-3120</td>\n",
       "      <td>-3220</td>\n",
       "      <td>100</td>\n",
       "      <td>0</td>\n",
       "      <td>100</td>\n",
       "      <td>0</td>\n",
       "      <td>Return</td>\n",
       "      <td>ZJcp5HsmhLuZJ%2FcdgvG6PSYrN5F7tf%2B7ksQO7dEQPp...</td>\n",
       "    </tr>\n",
       "  </tbody>\n",
       "</table>\n",
       "</div>"
      ],
      "text/plain": [
       "     TradesGroupCode           TradesDateTime   ChannelType ChannelDetail  \\\n",
       "1435  TG200308S01758  2020-03-08 16:59:57.377  OfficialECom        iOSApp   \n",
       "\n",
       "     PaymentType ShippingType  TsCount  Qty  TotalSalesAmount  TotalPrice  \\\n",
       "1435      JKOPay         Home        5   -6             -3120       -3220   \n",
       "\n",
       "      TotalDiscount  TotalPromotionDiscount  TotalCouponDiscount  \\\n",
       "1435            100                       0                  100   \n",
       "\n",
       "      TotalLoyaltyDiscount  Status  \\\n",
       "1435                     0  Return   \n",
       "\n",
       "                                               MemberID  \n",
       "1435  ZJcp5HsmhLuZJ%2FcdgvG6PSYrN5F7tf%2B7ksQO7dEQPp...  "
      ]
     },
     "execution_count": 6,
     "metadata": {},
     "output_type": "execute_result"
    }
   ],
   "source": [
    "online[online[\"TsCount\"]<-online[\"Qty\"]].head(1)"
   ]
  },
  {
   "cell_type": "code",
   "execution_count": 7,
   "metadata": {},
   "outputs": [
    {
     "data": {
      "text/html": [
       "<div>\n",
       "<style scoped>\n",
       "    .dataframe tbody tr th:only-of-type {\n",
       "        vertical-align: middle;\n",
       "    }\n",
       "\n",
       "    .dataframe tbody tr th {\n",
       "        vertical-align: top;\n",
       "    }\n",
       "\n",
       "    .dataframe thead th {\n",
       "        text-align: right;\n",
       "    }\n",
       "</style>\n",
       "<table border=\"1\" class=\"dataframe\">\n",
       "  <thead>\n",
       "    <tr style=\"text-align: right;\">\n",
       "      <th></th>\n",
       "      <th>TradesGroupCode</th>\n",
       "      <th>TradesDateTime</th>\n",
       "      <th>ChannelType</th>\n",
       "      <th>ChannelDetail</th>\n",
       "      <th>PaymentType</th>\n",
       "      <th>ShippingType</th>\n",
       "      <th>TsCount</th>\n",
       "      <th>Qty</th>\n",
       "      <th>TotalSalesAmount</th>\n",
       "      <th>TotalPrice</th>\n",
       "      <th>TotalDiscount</th>\n",
       "      <th>TotalPromotionDiscount</th>\n",
       "      <th>TotalCouponDiscount</th>\n",
       "      <th>TotalLoyaltyDiscount</th>\n",
       "      <th>Status</th>\n",
       "      <th>MemberID</th>\n",
       "    </tr>\n",
       "  </thead>\n",
       "  <tbody>\n",
       "    <tr>\n",
       "      <th>1435</th>\n",
       "      <td>TG200308S01758</td>\n",
       "      <td>2020-03-08 16:59:57.377</td>\n",
       "      <td>OfficialECom</td>\n",
       "      <td>iOSApp</td>\n",
       "      <td>JKOPay</td>\n",
       "      <td>Home</td>\n",
       "      <td>5</td>\n",
       "      <td>-6</td>\n",
       "      <td>-3120</td>\n",
       "      <td>-3220</td>\n",
       "      <td>100</td>\n",
       "      <td>0</td>\n",
       "      <td>100</td>\n",
       "      <td>0</td>\n",
       "      <td>Return</td>\n",
       "      <td>ZJcp5HsmhLuZJ%2FcdgvG6PSYrN5F7tf%2B7ksQO7dEQPp...</td>\n",
       "    </tr>\n",
       "    <tr>\n",
       "      <th>1436</th>\n",
       "      <td>TG200308S01758</td>\n",
       "      <td>2020-03-08 16:59:57.377</td>\n",
       "      <td>OfficialECom</td>\n",
       "      <td>iOSApp</td>\n",
       "      <td>JKOPay</td>\n",
       "      <td>Home</td>\n",
       "      <td>5</td>\n",
       "      <td>6</td>\n",
       "      <td>3120</td>\n",
       "      <td>3220</td>\n",
       "      <td>-100</td>\n",
       "      <td>0</td>\n",
       "      <td>-100</td>\n",
       "      <td>0</td>\n",
       "      <td>Finish</td>\n",
       "      <td>ZJcp5HsmhLuZJ%2FcdgvG6PSYrN5F7tf%2B7ksQO7dEQPp...</td>\n",
       "    </tr>\n",
       "  </tbody>\n",
       "</table>\n",
       "</div>"
      ],
      "text/plain": [
       "     TradesGroupCode           TradesDateTime   ChannelType ChannelDetail  \\\n",
       "1435  TG200308S01758  2020-03-08 16:59:57.377  OfficialECom        iOSApp   \n",
       "1436  TG200308S01758  2020-03-08 16:59:57.377  OfficialECom        iOSApp   \n",
       "\n",
       "     PaymentType ShippingType  TsCount  Qty  TotalSalesAmount  TotalPrice  \\\n",
       "1435      JKOPay         Home        5   -6             -3120       -3220   \n",
       "1436      JKOPay         Home        5    6              3120        3220   \n",
       "\n",
       "      TotalDiscount  TotalPromotionDiscount  TotalCouponDiscount  \\\n",
       "1435            100                       0                  100   \n",
       "1436           -100                       0                 -100   \n",
       "\n",
       "      TotalLoyaltyDiscount  Status  \\\n",
       "1435                     0  Return   \n",
       "1436                     0  Finish   \n",
       "\n",
       "                                               MemberID  \n",
       "1435  ZJcp5HsmhLuZJ%2FcdgvG6PSYrN5F7tf%2B7ksQO7dEQPp...  \n",
       "1436  ZJcp5HsmhLuZJ%2FcdgvG6PSYrN5F7tf%2B7ksQO7dEQPp...  "
      ]
     },
     "execution_count": 7,
     "metadata": {},
     "output_type": "execute_result"
    }
   ],
   "source": [
    "online[online[\"TradesGroupCode\"]==\"TG200308S01758\"]"
   ]
  },
  {
   "cell_type": "code",
   "execution_count": 8,
   "metadata": {},
   "outputs": [
    {
     "data": {
      "text/html": [
       "<div>\n",
       "<style scoped>\n",
       "    .dataframe tbody tr th:only-of-type {\n",
       "        vertical-align: middle;\n",
       "    }\n",
       "\n",
       "    .dataframe tbody tr th {\n",
       "        vertical-align: top;\n",
       "    }\n",
       "\n",
       "    .dataframe thead th {\n",
       "        text-align: right;\n",
       "    }\n",
       "</style>\n",
       "<table border=\"1\" class=\"dataframe\">\n",
       "  <thead>\n",
       "    <tr style=\"text-align: right;\">\n",
       "      <th></th>\n",
       "      <th>TradesGroupCode</th>\n",
       "      <th>TradesDateTime</th>\n",
       "      <th>ChannelType</th>\n",
       "      <th>ChannelDetail</th>\n",
       "      <th>PaymentType</th>\n",
       "      <th>ShippingType</th>\n",
       "      <th>OuterProductSkuCode</th>\n",
       "      <th>ProductSkuCode</th>\n",
       "      <th>SalePageCode</th>\n",
       "      <th>Qty</th>\n",
       "      <th>TotalSalesAmount</th>\n",
       "      <th>TotalPrice</th>\n",
       "      <th>TotalDiscount</th>\n",
       "      <th>Status</th>\n",
       "      <th>MemberID</th>\n",
       "    </tr>\n",
       "  </thead>\n",
       "  <tbody>\n",
       "    <tr>\n",
       "      <th>2</th>\n",
       "      <td>TG190926X00450</td>\n",
       "      <td>2019-09-26 21:16:59.167</td>\n",
       "      <td>OfficialECom</td>\n",
       "      <td>iOSApp</td>\n",
       "      <td>JKOPay</td>\n",
       "      <td>FamilyPickup</td>\n",
       "      <td>8309-3WH34</td>\n",
       "      <td>11397813.0</td>\n",
       "      <td>3904262.0</td>\n",
       "      <td>1</td>\n",
       "      <td>2660</td>\n",
       "      <td>2760</td>\n",
       "      <td>-100</td>\n",
       "      <td>Finish</td>\n",
       "      <td>UB%2F0WwXAdW5GhwWmVB036mhSMcUnbK1IA5kXp31h4XQ%3D</td>\n",
       "    </tr>\n",
       "    <tr>\n",
       "      <th>3</th>\n",
       "      <td>TG190926X00450</td>\n",
       "      <td>2019-09-26 21:16:59.167</td>\n",
       "      <td>OfficialECom</td>\n",
       "      <td>iOSApp</td>\n",
       "      <td>JKOPay</td>\n",
       "      <td>FamilyPickup</td>\n",
       "      <td>SSS84</td>\n",
       "      <td>16578545.0</td>\n",
       "      <td>5575777.0</td>\n",
       "      <td>1</td>\n",
       "      <td>2660</td>\n",
       "      <td>2760</td>\n",
       "      <td>-100</td>\n",
       "      <td>Finish</td>\n",
       "      <td>UB%2F0WwXAdW5GhwWmVB036mhSMcUnbK1IA5kXp31h4XQ%3D</td>\n",
       "    </tr>\n",
       "    <tr>\n",
       "      <th>4</th>\n",
       "      <td>TG190928U00383</td>\n",
       "      <td>2019-09-28 18:23:28.130</td>\n",
       "      <td>OfficialECom</td>\n",
       "      <td>iOSApp</td>\n",
       "      <td>JKOPay</td>\n",
       "      <td>FamilyPickup</td>\n",
       "      <td>002-3WH40</td>\n",
       "      <td>8771599.0</td>\n",
       "      <td>3136651.0</td>\n",
       "      <td>1</td>\n",
       "      <td>1380</td>\n",
       "      <td>1480</td>\n",
       "      <td>-100</td>\n",
       "      <td>Finish</td>\n",
       "      <td>WpUUri%2BOuznMIisbG5ramILffQkqoQr8TPOj0L8lqN8%3D</td>\n",
       "    </tr>\n",
       "    <tr>\n",
       "      <th>5</th>\n",
       "      <td>TG190929N01374</td>\n",
       "      <td>2019-09-29 12:52:03.887</td>\n",
       "      <td>OfficialECom</td>\n",
       "      <td>AndroidApp</td>\n",
       "      <td>JKOPay</td>\n",
       "      <td>FamilyPickup</td>\n",
       "      <td>AAA24</td>\n",
       "      <td>12551665.0</td>\n",
       "      <td>4310845.0</td>\n",
       "      <td>1</td>\n",
       "      <td>2079</td>\n",
       "      <td>2179</td>\n",
       "      <td>-100</td>\n",
       "      <td>Finish</td>\n",
       "      <td>m%2BdiqkQX4SRkxdjhDJcvgfoWgNue9os%2B%2FcYbuMUl...</td>\n",
       "    </tr>\n",
       "    <tr>\n",
       "      <th>6</th>\n",
       "      <td>TG190930U00304</td>\n",
       "      <td>2019-09-30 18:11:13.930</td>\n",
       "      <td>OfficialECom</td>\n",
       "      <td>DesktopOfficialWeb</td>\n",
       "      <td>JKOPay</td>\n",
       "      <td>FamilyPickup</td>\n",
       "      <td>20139-5BK38</td>\n",
       "      <td>16992609.0</td>\n",
       "      <td>5729423.0</td>\n",
       "      <td>1</td>\n",
       "      <td>1880</td>\n",
       "      <td>1880</td>\n",
       "      <td>0</td>\n",
       "      <td>Finish</td>\n",
       "      <td>e2qLn%2F56IF%2Fgbd9DzhAksayeVEVwHxGYtV15nldbZ8...</td>\n",
       "    </tr>\n",
       "  </tbody>\n",
       "</table>\n",
       "</div>"
      ],
      "text/plain": [
       "  TradesGroupCode           TradesDateTime   ChannelType       ChannelDetail  \\\n",
       "2  TG190926X00450  2019-09-26 21:16:59.167  OfficialECom              iOSApp   \n",
       "3  TG190926X00450  2019-09-26 21:16:59.167  OfficialECom              iOSApp   \n",
       "4  TG190928U00383  2019-09-28 18:23:28.130  OfficialECom              iOSApp   \n",
       "5  TG190929N01374  2019-09-29 12:52:03.887  OfficialECom          AndroidApp   \n",
       "6  TG190930U00304  2019-09-30 18:11:13.930  OfficialECom  DesktopOfficialWeb   \n",
       "\n",
       "  PaymentType  ShippingType OuterProductSkuCode  ProductSkuCode  SalePageCode  \\\n",
       "2      JKOPay  FamilyPickup          8309-3WH34      11397813.0     3904262.0   \n",
       "3      JKOPay  FamilyPickup               SSS84      16578545.0     5575777.0   \n",
       "4      JKOPay  FamilyPickup           002-3WH40       8771599.0     3136651.0   \n",
       "5      JKOPay  FamilyPickup               AAA24      12551665.0     4310845.0   \n",
       "6      JKOPay  FamilyPickup         20139-5BK38      16992609.0     5729423.0   \n",
       "\n",
       "   Qty  TotalSalesAmount  TotalPrice  TotalDiscount  Status  \\\n",
       "2    1              2660        2760           -100  Finish   \n",
       "3    1              2660        2760           -100  Finish   \n",
       "4    1              1380        1480           -100  Finish   \n",
       "5    1              2079        2179           -100  Finish   \n",
       "6    1              1880        1880              0  Finish   \n",
       "\n",
       "                                            MemberID  \n",
       "2   UB%2F0WwXAdW5GhwWmVB036mhSMcUnbK1IA5kXp31h4XQ%3D  \n",
       "3   UB%2F0WwXAdW5GhwWmVB036mhSMcUnbK1IA5kXp31h4XQ%3D  \n",
       "4   WpUUri%2BOuznMIisbG5ramILffQkqoQr8TPOj0L8lqN8%3D  \n",
       "5  m%2BdiqkQX4SRkxdjhDJcvgfoWgNue9os%2B%2FcYbuMUl...  \n",
       "6  e2qLn%2F56IF%2Fgbd9DzhAksayeVEVwHxGYtV15nldbZ8...  "
      ]
     },
     "execution_count": 8,
     "metadata": {},
     "output_type": "execute_result"
    }
   ],
   "source": [
    "orderslave=pd.read_csv(\"OrderSlaveData.csv\")\n",
    "\n",
    "orderslave = orderslave[orderslave[\"Status\"].isin([\"Finish\",\"Return\"])]\n",
    "orderslave.head()"
   ]
  },
  {
   "cell_type": "code",
   "execution_count": 9,
   "metadata": {},
   "outputs": [],
   "source": [
    "#TsCount 訂單交易品類數(品項)\n",
    "# Qty :交易數量\n",
    "#check = orderslave[orderslave[\"TradesGroupCode\"]==\"TG200308S01758\"]\n",
    "#print(pd.unique(check[check[\"Qty\"]>0][\"OuterProductSkuCode\"]))\n",
    "#print(check[check[\"Qty\"]<0][\"Qty\"].sum())"
   ]
  },
  {
   "cell_type": "code",
   "execution_count": 10,
   "metadata": {},
   "outputs": [
    {
     "data": {
      "text/plain": [
       "MobileWeb             103639\n",
       "iOSApp                 95409\n",
       "AndroidApp             49140\n",
       "DesktopOfficialWeb     35123\n",
       "3                      33155\n",
       "15                     23710\n",
       "5                      22751\n",
       "6                      13257\n",
       "18                     11991\n",
       "12                     11717\n",
       "003                    10771\n",
       "21                      9012\n",
       "015                     7253\n",
       "005                     6706\n",
       "006                     5323\n",
       "24                      4990\n",
       "021                     1840\n",
       "024                     1404\n",
       "012                     1274\n",
       "018                     1097\n",
       "4                        210\n",
       "004                      200\n",
       "099                      112\n",
       "99                        84\n",
       "16951                     34\n",
       "1                         31\n",
       "122                       31\n",
       "21483                     26\n",
       "001                       22\n",
       "24472                     20\n",
       "16951                     14\n",
       "122                       14\n",
       "14191                     13\n",
       "25496                     12\n",
       "14191                     12\n",
       "21807                     11\n",
       "24472                     10\n",
       "211                        9\n",
       "21483                      7\n",
       "25496                      6\n",
       "2                          5\n",
       "24897                      5\n",
       "24897                      3\n",
       "002                        1\n",
       "Name: ChannelDetail, dtype: int64"
      ]
     },
     "execution_count": 10,
     "metadata": {},
     "output_type": "execute_result"
    }
   ],
   "source": [
    "pd.value_counts(online[\"ChannelDetail\"])"
   ]
  },
  {
   "cell_type": "code",
   "execution_count": 11,
   "metadata": {},
   "outputs": [
    {
     "data": {
      "text/plain": [
       "physical stores       167143\n",
       "MobileWeb             103639\n",
       "iOSApp                 95409\n",
       "AndroidApp             49140\n",
       "DesktopOfficialWeb     35123\n",
       "Name: ChannelDetail, dtype: int64"
      ]
     },
     "execution_count": 11,
     "metadata": {},
     "output_type": "execute_result"
    }
   ],
   "source": [
    "def mapping(x):\n",
    "    if str(x)[0] not in [\"M\",\"i\",\"A\",\"D\"]:\n",
    "        return \"physical stores\"\n",
    "    else:\n",
    "        return x\n",
    "online[\"ChannelDetail\"]=online[\"ChannelDetail\"].apply(lambda x:mapping(x))\n",
    "pd.value_counts(online[\"ChannelDetail\"])"
   ]
  },
  {
   "cell_type": "code",
   "execution_count": 12,
   "metadata": {},
   "outputs": [
    {
     "name": "stdout",
     "output_type": "stream",
     "text": [
      "2020-05-01 23:53:00\n"
     ]
    },
    {
     "data": {
      "text/html": [
       "<div>\n",
       "<style scoped>\n",
       "    .dataframe tbody tr th:only-of-type {\n",
       "        vertical-align: middle;\n",
       "    }\n",
       "\n",
       "    .dataframe tbody tr th {\n",
       "        vertical-align: top;\n",
       "    }\n",
       "\n",
       "    .dataframe thead th {\n",
       "        text-align: right;\n",
       "    }\n",
       "</style>\n",
       "<table border=\"1\" class=\"dataframe\">\n",
       "  <thead>\n",
       "    <tr style=\"text-align: right;\">\n",
       "      <th></th>\n",
       "      <th>TradesGroupCode</th>\n",
       "      <th>TradesDateTime</th>\n",
       "      <th>ChannelType</th>\n",
       "      <th>ChannelDetail</th>\n",
       "      <th>PaymentType</th>\n",
       "      <th>ShippingType</th>\n",
       "      <th>TsCount</th>\n",
       "      <th>Qty</th>\n",
       "      <th>TotalSalesAmount</th>\n",
       "      <th>TotalPrice</th>\n",
       "      <th>...</th>\n",
       "      <th>MemberID</th>\n",
       "      <th>TradesDate</th>\n",
       "      <th>TradesIndex</th>\n",
       "      <th>TradesYear</th>\n",
       "      <th>TradesMonth</th>\n",
       "      <th>hour</th>\n",
       "      <th>week day</th>\n",
       "      <th>First Visit</th>\n",
       "      <th>First Visit_Index</th>\n",
       "      <th>old_or_new</th>\n",
       "    </tr>\n",
       "  </thead>\n",
       "  <tbody>\n",
       "    <tr>\n",
       "      <th>0</th>\n",
       "      <td>TG190926B00185</td>\n",
       "      <td>2019-09-26 01:15:10</td>\n",
       "      <td>OfficialECom</td>\n",
       "      <td>MobileWeb</td>\n",
       "      <td>JKOPay</td>\n",
       "      <td>Home</td>\n",
       "      <td>1</td>\n",
       "      <td>1</td>\n",
       "      <td>680</td>\n",
       "      <td>680</td>\n",
       "      <td>...</td>\n",
       "      <td>JAE7ypAI%2BmBkMAd1REpPJI3zcEQBI9WBTeg5QlsEri4%3D</td>\n",
       "      <td>2019-09-26</td>\n",
       "      <td>2019-09-01</td>\n",
       "      <td>2019</td>\n",
       "      <td>9</td>\n",
       "      <td>1</td>\n",
       "      <td>Thursday</td>\n",
       "      <td>2019-09-26</td>\n",
       "      <td>2019-09-01</td>\n",
       "      <td>New Customer</td>\n",
       "    </tr>\n",
       "    <tr>\n",
       "      <th>1</th>\n",
       "      <td>TG190926X00450</td>\n",
       "      <td>2019-09-26 21:16:59</td>\n",
       "      <td>OfficialECom</td>\n",
       "      <td>iOSApp</td>\n",
       "      <td>JKOPay</td>\n",
       "      <td>FamilyPickup</td>\n",
       "      <td>4</td>\n",
       "      <td>4</td>\n",
       "      <td>2660</td>\n",
       "      <td>2760</td>\n",
       "      <td>...</td>\n",
       "      <td>UB%2F0WwXAdW5GhwWmVB036mhSMcUnbK1IA5kXp31h4XQ%3D</td>\n",
       "      <td>2019-09-26</td>\n",
       "      <td>2019-09-01</td>\n",
       "      <td>2019</td>\n",
       "      <td>9</td>\n",
       "      <td>21</td>\n",
       "      <td>Thursday</td>\n",
       "      <td>2019-09-26</td>\n",
       "      <td>2019-09-01</td>\n",
       "      <td>New Customer</td>\n",
       "    </tr>\n",
       "    <tr>\n",
       "      <th>2</th>\n",
       "      <td>TG190928M00620</td>\n",
       "      <td>2019-09-28 11:31:04</td>\n",
       "      <td>OfficialECom</td>\n",
       "      <td>MobileWeb</td>\n",
       "      <td>JKOPay</td>\n",
       "      <td>FamilyPickup</td>\n",
       "      <td>1</td>\n",
       "      <td>1</td>\n",
       "      <td>1016</td>\n",
       "      <td>1280</td>\n",
       "      <td>...</td>\n",
       "      <td>rKUVLmkXyUqqVN8zU1UB40kuhBLRok8FvQtDZTGIS00%3D</td>\n",
       "      <td>2019-09-28</td>\n",
       "      <td>2019-09-01</td>\n",
       "      <td>2019</td>\n",
       "      <td>9</td>\n",
       "      <td>11</td>\n",
       "      <td>Saturday</td>\n",
       "      <td>2015-07-17</td>\n",
       "      <td>2015-07-01</td>\n",
       "      <td>Old Customer</td>\n",
       "    </tr>\n",
       "    <tr>\n",
       "      <th>3</th>\n",
       "      <td>TG190928U00383</td>\n",
       "      <td>2019-09-28 18:23:28</td>\n",
       "      <td>OfficialECom</td>\n",
       "      <td>iOSApp</td>\n",
       "      <td>JKOPay</td>\n",
       "      <td>FamilyPickup</td>\n",
       "      <td>1</td>\n",
       "      <td>1</td>\n",
       "      <td>1380</td>\n",
       "      <td>1480</td>\n",
       "      <td>...</td>\n",
       "      <td>WpUUri%2BOuznMIisbG5ramILffQkqoQr8TPOj0L8lqN8%3D</td>\n",
       "      <td>2019-09-28</td>\n",
       "      <td>2019-09-01</td>\n",
       "      <td>2019</td>\n",
       "      <td>9</td>\n",
       "      <td>18</td>\n",
       "      <td>Saturday</td>\n",
       "      <td>2019-09-28</td>\n",
       "      <td>2019-09-01</td>\n",
       "      <td>New Customer</td>\n",
       "    </tr>\n",
       "    <tr>\n",
       "      <th>6</th>\n",
       "      <td>TG190930U00304</td>\n",
       "      <td>2019-09-30 18:11:13</td>\n",
       "      <td>OfficialECom</td>\n",
       "      <td>DesktopOfficialWeb</td>\n",
       "      <td>JKOPay</td>\n",
       "      <td>FamilyPickup</td>\n",
       "      <td>1</td>\n",
       "      <td>1</td>\n",
       "      <td>1880</td>\n",
       "      <td>1880</td>\n",
       "      <td>...</td>\n",
       "      <td>e2qLn%2F56IF%2Fgbd9DzhAksayeVEVwHxGYtV15nldbZ8...</td>\n",
       "      <td>2019-09-30</td>\n",
       "      <td>2019-09-01</td>\n",
       "      <td>2019</td>\n",
       "      <td>9</td>\n",
       "      <td>18</td>\n",
       "      <td>Monday</td>\n",
       "      <td>2019-09-30</td>\n",
       "      <td>2019-09-01</td>\n",
       "      <td>New Customer</td>\n",
       "    </tr>\n",
       "  </tbody>\n",
       "</table>\n",
       "<p>5 rows × 25 columns</p>\n",
       "</div>"
      ],
      "text/plain": [
       "  TradesGroupCode      TradesDateTime   ChannelType       ChannelDetail  \\\n",
       "0  TG190926B00185 2019-09-26 01:15:10  OfficialECom           MobileWeb   \n",
       "1  TG190926X00450 2019-09-26 21:16:59  OfficialECom              iOSApp   \n",
       "2  TG190928M00620 2019-09-28 11:31:04  OfficialECom           MobileWeb   \n",
       "3  TG190928U00383 2019-09-28 18:23:28  OfficialECom              iOSApp   \n",
       "6  TG190930U00304 2019-09-30 18:11:13  OfficialECom  DesktopOfficialWeb   \n",
       "\n",
       "  PaymentType  ShippingType  TsCount  Qty  TotalSalesAmount  TotalPrice  ...  \\\n",
       "0      JKOPay          Home        1    1               680         680  ...   \n",
       "1      JKOPay  FamilyPickup        4    4              2660        2760  ...   \n",
       "2      JKOPay  FamilyPickup        1    1              1016        1280  ...   \n",
       "3      JKOPay  FamilyPickup        1    1              1380        1480  ...   \n",
       "6      JKOPay  FamilyPickup        1    1              1880        1880  ...   \n",
       "\n",
       "                                            MemberID  TradesDate  TradesIndex  \\\n",
       "0   JAE7ypAI%2BmBkMAd1REpPJI3zcEQBI9WBTeg5QlsEri4%3D  2019-09-26   2019-09-01   \n",
       "1   UB%2F0WwXAdW5GhwWmVB036mhSMcUnbK1IA5kXp31h4XQ%3D  2019-09-26   2019-09-01   \n",
       "2     rKUVLmkXyUqqVN8zU1UB40kuhBLRok8FvQtDZTGIS00%3D  2019-09-28   2019-09-01   \n",
       "3   WpUUri%2BOuznMIisbG5ramILffQkqoQr8TPOj0L8lqN8%3D  2019-09-28   2019-09-01   \n",
       "6  e2qLn%2F56IF%2Fgbd9DzhAksayeVEVwHxGYtV15nldbZ8...  2019-09-30   2019-09-01   \n",
       "\n",
       "   TradesYear TradesMonth hour  week day First Visit  First Visit_Index  \\\n",
       "0        2019           9    1  Thursday  2019-09-26         2019-09-01   \n",
       "1        2019           9   21  Thursday  2019-09-26         2019-09-01   \n",
       "2        2019           9   11  Saturday  2015-07-17         2015-07-01   \n",
       "3        2019           9   18  Saturday  2019-09-28         2019-09-01   \n",
       "6        2019           9   18    Monday  2019-09-30         2019-09-01   \n",
       "\n",
       "     old_or_new  \n",
       "0  New Customer  \n",
       "1  New Customer  \n",
       "2  Old Customer  \n",
       "3  New Customer  \n",
       "6  New Customer  \n",
       "\n",
       "[5 rows x 25 columns]"
      ]
     },
     "execution_count": 12,
     "metadata": {},
     "output_type": "execute_result"
    }
   ],
   "source": [
    "online[\"TradesDateTime\"]=pd.to_datetime(online['TradesDateTime'].astype(\"str\").str[0:19],format=\"%Y-%m-%d %H:%M:%S\")\n",
    "online[\"TradesDate\"]=online[\"TradesDateTime\"].apply(lambda x:x.date())\n",
    "online[\"TradesIndex\"]=online[\"TradesDateTime\"].apply(lambda x:dt.datetime(x.year,x.month,1))\n",
    "online[\"TradesYear\"]=online[\"TradesIndex\"].apply(lambda x:x.year)\n",
    "online[\"TradesMonth\"]=online[\"TradesIndex\"].apply(lambda x:x.month)\n",
    "online[\"hour\"]=online[\"TradesDateTime\"].apply(lambda x:x.hour)\n",
    "online[\"week day\"]=online[\"TradesDateTime\"].dt.day_name()\n",
    "#####First visit time\n",
    "online[\"First Visit\"] = online.groupby('MemberID')['TradesDateTime'].transform('min').apply(lambda x:dt.datetime(x.year,x.month,x.day))\n",
    "online[\"First Visit_Index\"]=online[\"First Visit\"].apply(lambda x:dt.datetime(x.year,x.month,1))\n",
    "###old or new\n",
    "def f(x):\n",
    "    if x[\"TradesIndex\"]>x[\"First Visit_Index\"]:\n",
    "        return \"Old Customer\" \n",
    "    else: \n",
    "        return \"New Customer\"\n",
    "online[\"old_or_new\"]=online.apply(lambda x:f(x),axis=1)\n",
    "\n",
    "###also processing on orderslave \n",
    "orderslave[\"TradesDateTime\"]=pd.to_datetime(orderslave['TradesDateTime'].astype(\"str\").str[0:19],format=\"%Y-%m-%d %H:%M:%S\")\n",
    "orderslave[\"TradesDate\"]=orderslave[\"TradesDateTime\"].apply(lambda x:x.date())\n",
    "orderslave[\"TradesIndex\"]=orderslave[\"TradesDateTime\"].apply(lambda x:dt.datetime(x.year,x.month,1))\n",
    "orderslave[\"TradesYear\"]=orderslave[\"TradesIndex\"].apply(lambda x:x.year)\n",
    "orderslave[\"TradesMonth\"]=orderslave[\"TradesIndex\"].apply(lambda x:x.month)\n",
    "orderslave[\"First Visit\"] = orderslave.groupby('MemberID')['TradesDateTime'].transform('min').apply(lambda x:dt.datetime(x.year,x.month,x.day))\n",
    "orderslave[\"First Visit_Index\"]=orderslave[\"First Visit\"].apply(lambda x:dt.datetime(x.year,x.month,1))\n",
    "orderslave[\"old_or_new\"]=orderslave.apply(lambda x:f(x),axis=1)\n",
    "orderslave[\"week day\"]=orderslave[\"TradesDateTime\"].dt.day_name()\n",
    "orderslave[\"hour\"]=orderslave[\"TradesDateTime\"].apply(lambda x:x.hour)\n",
    "\n",
    "###snapshot_date\n",
    "snapshot_date = pd.to_datetime(online.TradesDateTime).max() + timedelta(days=1)\n",
    "snapshot_date=datetime.strptime(str(snapshot_date), \"%Y-%m-%d %H:%M:%S\")\n",
    "snapshot_date=pd.to_datetime(snapshot_date)\n",
    "print(snapshot_date)\n",
    "\n",
    "online.head()"
   ]
  },
  {
   "cell_type": "code",
   "execution_count": 13,
   "metadata": {},
   "outputs": [],
   "source": [
    "online =online.drop_duplicates()"
   ]
  },
  {
   "cell_type": "code",
   "execution_count": 14,
   "metadata": {},
   "outputs": [
    {
     "data": {
      "image/png": "[encoded data removed]",
      "text/plain": [
       "<Figure size 324x324 with 1 Axes>"
      ]
     },
     "metadata": {},
     "output_type": "display_data"
    }
   ],
   "source": [
    "####Proportion of e-commerce cross-device performance from sources\n",
    "ChannelDetail= online[online[\"ChannelDetail\"]!=\"physical stores\"].groupby(\"ChannelDetail\")[\"TotalSalesAmount\"].sum()/online[online[\"ChannelDetail\"]!=\"physical stores\"].groupby(\"ChannelDetail\")[\"TotalSalesAmount\"].sum().sum()\n",
    "def pie_pct_format(value):\n",
    "    \"\"\" Determine the appropriate format string for the pie chart percentage label\n",
    "    Args:\n",
    "        value: value of the pie slice\n",
    "    Returns:\n",
    "        str: formated string label; if the slice is too small to fit, returns an empty string for label\n",
    "    \"\"\"\n",
    "    return '' if value < 7 else '%.0f%%' % value\n",
    "\n",
    "fig = plt.figure(figsize=(4.5, 4.5), facecolor='white', edgecolor='white')\n",
    "colors = ['lightskyblue', 'gold', 'yellowgreen', 'lightcoral']\n",
    "explode = (0.05, 0.05, 0.05, 0.05)\n",
    "\n",
    "\n",
    "patches, texts, autotexts = plt.pie(ChannelDetail.values, labels=ChannelDetail.index, colors=colors,\n",
    "                                    explode=explode, autopct=pie_pct_format,\n",
    "                                    shadow=False,  startangle=125)\n",
    "for text, autotext in zip(texts, autotexts):\n",
    "    if autotext.get_text() == '':\n",
    "        text.set_text('')  # If the slice is small to fit, don't show a text label\n",
    "plt.legend(labels=ChannelDetail.index, loc=(1,0.5), shadow=True)\n",
    "plt.title(\"Proportion of e-commerce cross-device performance from sources\")\n",
    "pass"
   ]
  },
  {
   "cell_type": "code",
   "execution_count": 15,
   "metadata": {},
   "outputs": [
    {
     "data": {
      "image/png": "[encoded data removed]",
      "text/plain": [
       "<Figure size 324x324 with 1 Axes>"
      ]
     },
     "metadata": {},
     "output_type": "display_data"
    }
   ],
   "source": [
    "####線上線下 業績占比\n",
    "\n",
    "online[\"Channel\"]=online[\"ChannelDetail\"].apply(lambda x:  \"online shopping\"   if x!=\"physical stores\"  else \"offline shopping\")\n",
    "ChannelDetail= online.groupby(\"Channel\")[\"TotalSalesAmount\"].sum()/online.groupby(\"Channel\")[\"TotalSalesAmount\"].sum().sum()\n",
    "fig = plt.figure(figsize=(4.5, 4.5), facecolor='white', edgecolor='white')\n",
    "colors = ['lightskyblue', 'gold']\n",
    "explode = (0.05, 0.05)\n",
    "patches, texts, autotexts = plt.pie(ChannelDetail.values, labels=ChannelDetail.index, colors=colors,\n",
    "                                    explode=explode, autopct=pie_pct_format,\n",
    "                                    shadow=False,  startangle=125)\n",
    "for text, autotext in zip(texts, autotexts):\n",
    "    if autotext.get_text() == '':\n",
    "        text.set_text('')  # If the slice is small to fit, don't show a text label\n",
    "plt.legend(labels=ChannelDetail.index, loc=(1,0.5), shadow=True)\n",
    "plt.title(\"revenue performance between online and offline shopping\")\n",
    "pass"
   ]
  },
  {
   "cell_type": "code",
   "execution_count": 16,
   "metadata": {},
   "outputs": [
    {
     "data": {
      "text/plain": [
       "Text(0.5, 1.0, 'Offline weekday revenue')"
      ]
     },
     "execution_count": 16,
     "metadata": {},
     "output_type": "execute_result"
    },
    {
     "data": {
      "image/png": "[encoded data removed]",
      "text/plain": [
       "<Figure size 1080x288 with 2 Axes>"
      ]
     },
     "metadata": {
      "needs_background": "light"
     },
     "output_type": "display_data"
    }
   ],
   "source": [
    "#small[\"week day\"]\n",
    "week_day_online=online[online[\"Channel\"]==\"online shopping\"].groupby(\"week day\")[\"TotalSalesAmount\"].sum().reset_index(name=\"TotalSalesAmount\")\n",
    "week_day_offline=online[online[\"Channel\"]==\"offline shopping\"].groupby(\"week day\")[\"TotalSalesAmount\"].sum().reset_index(name=\"TotalSalesAmount\")\n",
    "\n",
    "fig, ax = plt.subplots(1,2,figsize=(15,4))\n",
    "day_order = [\"Monday\", \"Tuesday\", \"Wednesday\", \"Thursday\", \"Friday\", \"Saturday\", \"Sunday\"]\n",
    "sns.set_style(\"darkgrid\")\n",
    "sns.barplot(data=week_day_online,x=\"week day\",y=\"TotalSalesAmount\",palette = \"Paired\",ax=ax[0], order = day_order)\n",
    "sns.barplot(data=week_day_offline,x=\"week day\",y=\"TotalSalesAmount\",palette = \"Paired\",ax=ax[1], order = day_order)\n",
    "ax[0].xaxis.label.set_size(13)\n",
    "ax[0].yaxis.label.set_size(13)\n",
    "ax[1].xaxis.label.set_size(13)\n",
    "ax[1].yaxis.label.set_size(13)\n",
    "ax[0].yaxis.set_tick_params(labelsize=11)\n",
    "ax[0].xaxis.set_tick_params(labelsize=11)\n",
    "ax[1].yaxis.set_tick_params(labelsize=11)\n",
    "ax[1].xaxis.set_tick_params(labelsize=11)\n",
    "plt.tight_layout()\n",
    "ax[0].set_title(label=\"Online weekday revenue\",fontdict={'fontsize':14})\n",
    "ax[1].set_title(label=\"Offline weekday revenue\",fontdict={'fontsize':14})"
   ]
  },
  {
   "cell_type": "code",
   "execution_count": 17,
   "metadata": {},
   "outputs": [
    {
     "data": {
      "text/plain": [
       "Text(0.5, 1.0, 'Offline revenue by hour')"
      ]
     },
     "execution_count": 17,
     "metadata": {},
     "output_type": "execute_result"
    },
    {
     "data": {
      "image/png": "[encoded data removed]",
      "text/plain": [
       "<Figure size 1080x288 with 2 Axes>"
      ]
     },
     "metadata": {},
     "output_type": "display_data"
    }
   ],
   "source": [
    "hour_online=online[online[\"Channel\"]==\"online shopping\"].groupby(\"hour\")[\"TotalSalesAmount\"].sum().reset_index(name=\"TotalSalesAmount\")\n",
    "hour_offline=online[online[\"Channel\"]==\"offline shopping\"].groupby(\"hour\")[\"TotalSalesAmount\"].sum().reset_index(name=\"TotalSalesAmount\")\n",
    "fig, ax = plt.subplots(1,2,figsize=(15,4))\n",
    "hour_order = list(range(24))\n",
    "sns.set_style(\"darkgrid\")\n",
    "sns.barplot(data=hour_online,x=\"hour\",y=\"TotalSalesAmount\",palette = \"Paired\",ax=ax[0], order = hour_order)\n",
    "sns.barplot(data=hour_offline,x=\"hour\",y=\"TotalSalesAmount\",palette = \"Paired\",ax=ax[1], order = hour_order)\n",
    "ax[0].xaxis.label.set_size(13)\n",
    "ax[0].yaxis.label.set_size(13)\n",
    "ax[1].xaxis.label.set_size(13)\n",
    "ax[1].yaxis.label.set_size(13)\n",
    "ax[0].yaxis.set_tick_params(labelsize=11)\n",
    "ax[0].xaxis.set_tick_params(labelsize=11)\n",
    "ax[1].yaxis.set_tick_params(labelsize=11)\n",
    "ax[1].xaxis.set_tick_params(labelsize=11)\n",
    "plt.tight_layout()\n",
    "ax[0].set_title(label=\"Online revenue by hour\",fontdict={'fontsize':14})\n",
    "ax[1].set_title(label=\"Offline revenue by hour\",fontdict={'fontsize':14})"
   ]
  },
  {
   "cell_type": "code",
   "execution_count": 21,
   "metadata": {},
   "outputs": [
    {
     "data": {
      "image/png": "[encoded data removed]",
      "text/plain": [
       "<Figure size 1080x360 with 1 Axes>"
      ]
     },
     "metadata": {},
     "output_type": "display_data"
    }
   ],
   "source": [
    "#per_customer_transaction\n",
    "#客單價=有效訂單總金額（已成交）/消費總人數 \n",
    "#      =有效訂單總金額（已成交）/成交訂單總筆數\n",
    "\n",
    "transaction_channel=online.groupby([\"TradesIndex\",\"ChannelDetail\"]).agg({\n",
    "'TotalSalesAmount': 'sum','TradesGroupCode':'count'}).reset_index()\n",
    "transaction_channel[\"per_customer_transaction\"]=transaction_channel[\"TotalSalesAmount\"]/transaction_channel[\"TradesGroupCode\"]\n",
    "transaction_channel=transaction_channel[[\"TradesIndex\",\"ChannelDetail\",\"per_customer_transaction\"]]\n",
    "transaction_channel=transaction_channel.set_index(\"TradesIndex\")\n",
    "transaction_channel=transaction_channel[(transaction_channel.index>\"2017-11-01\") & (transaction_channel.index<\"2020-05-01\")]\n",
    "\n",
    "plt.figure(figsize=[15,5])\n",
    "sns.set_style(\"darkgrid\")\n",
    "ax=sns.lineplot(data=transaction_channel, x=transaction_channel.index, y=\"per_customer_transaction\",hue=\"ChannelDetail\")\n",
    "               \n",
    "plt.title(\"Average Order Value between different channels\",fontsize = 15)\n",
    "plt.xlabel('Time')\n",
    "plt.ylabel('Average Order Value')\n",
    "ax.xaxis.label.set_size(13)\n",
    "ax.yaxis.label.set_size(13)"
   ]
  },
  {
   "cell_type": "code",
   "execution_count": 22,
   "metadata": {},
   "outputs": [
    {
     "data": {
      "image/png": "[encoded data removed]",
      "text/plain": [
       "<Figure size 720x360 with 1 Axes>"
      ]
     },
     "metadata": {},
     "output_type": "display_data"
    }
   ],
   "source": [
    "year_month_totalSalesAmount= online.groupby(\"TradesIndex\")[\"TotalSalesAmount\"].sum().reset_index(name='TotalSalesAmount') \n",
    "year_month_totalSalesAmount=year_month_totalSalesAmount.iloc[:-1]\n",
    "plt.figure(figsize=[10,5])\n",
    "sns.set_style(\"darkgrid\")\n",
    "ax=sns.lineplot(data=year_month_totalSalesAmount, x=\"TradesIndex\", y=\"TotalSalesAmount\")\n",
    "plt.xlabel('Time')\n",
    "plt.title(\"Changes over Time in the Revenue\",fontsize = 15)\n",
    "ax.xaxis.label.set_size(13)\n",
    "ax.yaxis.label.set_size(13)"
   ]
  },
  {
   "cell_type": "code",
   "execution_count": 23,
   "metadata": {},
   "outputs": [
    {
     "data": {
      "image/png": "[encoded data removed]",
      "text/plain": [
       "<Figure size 720x360 with 1 Axes>"
      ]
     },
     "metadata": {},
     "output_type": "display_data"
    }
   ],
   "source": [
    "growth=pd.crosstab(online[\"TradesYear\"], online[\"TradesMonth\"],values=online[\"TotalSalesAmount\"],aggfunc='sum').iloc[1:-1].T\n",
    "growth.index=['Jau','Feb','Mar','Apr','May','Jun','Jul','Aug','Sep','Oct','Nov','Dec']\n",
    "plt.figure(figsize=[10,5])\n",
    "sns.set_style(\"darkgrid\")\n",
    "ax=sns.lineplot(data=growth,sort= False)\n",
    "ax.yaxis.set_tick_params(labelsize=11)\n",
    "ax.xaxis.set_tick_params(labelsize=11)\n",
    "ax.yaxis.label.set_size(13)\n",
    "plt.ylabel('TotalSalesAmount')\n",
    "plt.legend(loc='upper left')\n",
    "plt.margins(0.015, tight=True)"
   ]
  },
  {
   "cell_type": "code",
   "execution_count": 25,
   "metadata": {},
   "outputs": [
    {
     "data": {
      "image/png": "[encoded data removed]",
      "text/plain": [
       "<Figure size 720x360 with 1 Axes>"
      ]
     },
     "metadata": {},
     "output_type": "display_data"
    }
   ],
   "source": [
    "repurchase_rate=pd.crosstab(online[\"TradesIndex\"],online[\"old_or_new\"])\n",
    "repurchase_rate[\"repurchase_rate\"]=repurchase_rate[\"Old Customer\"]/repurchase_rate[[\"New Customer\",\"Old Customer\"]].sum(axis=1)\n",
    "#購買次數大於1次的人/所有購買過的人=回購率\n",
    "plt.figure(figsize=[10,5])\n",
    "sns.set_style(\"darkgrid\")\n",
    "ax=sns.lineplot(data=repurchase_rate, x=repurchase_rate.index, y=\"repurchase_rate\")\n",
    "plt.xlabel('Time')\n",
    "plt.title(\"Changes over Time in the Repurchase rate\",fontsize = 15)\n",
    "ax.xaxis.label.set_size(13)\n",
    "ax.yaxis.label.set_size(13)"
   ]
  },
  {
   "cell_type": "code",
   "execution_count": 26,
   "metadata": {},
   "outputs": [
    {
     "data": {
      "text/plain": [
       "<matplotlib.legend.Legend at 0x2c383d7b250>"
      ]
     },
     "execution_count": 26,
     "metadata": {},
     "output_type": "execute_result"
    },
    {
     "data": {
      "image/png": "[encoded data removed]",
      "text/plain": [
       "<Figure size 720x360 with 1 Axes>"
      ]
     },
     "metadata": {},
     "output_type": "display_data"
    }
   ],
   "source": [
    "customers_visit=online.groupby([\"TradesIndex\"])[\"MemberID\"].nunique().reset_index()\n",
    "gain_customer_count=online.groupby(\"First Visit_Index\")[\"MemberID\"].nunique().reset_index()\n",
    "gain_customer_count.columns=[\"Date\",\"new customer count\"]\n",
    "customers_visit.columns=[\"Date\",\"customer count\"]\n",
    "customer_info=pd.merge(gain_customer_count,customers_visit,on=\"Date\")\n",
    "customer_info=customer_info.iloc[:-1]\n",
    "customer_info=customer_info.set_index(\"Date\")\n",
    "plt.figure(figsize=[10,5])\n",
    "ax=sns.lineplot(data=customer_info,sort= False)\n",
    "ax.yaxis.set_tick_params(labelsize=14)\n",
    "ax.xaxis.set_tick_params(labelsize=14)\n",
    "ax.xaxis.label.set_size(15)\n",
    "ax.yaxis.label.set_size(15)\n",
    "plt.xlabel('Time')\n",
    "plt.ylabel('Count')\n",
    "plt.legend(prop={'size': 15})"
   ]
  },
  {
   "cell_type": "code",
   "execution_count": 27,
   "metadata": {},
   "outputs": [
    {
     "name": "stdout",
     "output_type": "stream",
     "text": [
      "181388\n"
     ]
    },
    {
     "data": {
      "text/plain": [
       "<matplotlib.lines.Line2D at 0x2c383d7ba60>"
      ]
     },
     "execution_count": 27,
     "metadata": {},
     "output_type": "execute_result"
    },
    {
     "data": {
      "image/png": "[encoded data removed]",
      "text/plain": [
       "<Figure size 720x360 with 1 Axes>"
      ]
     },
     "metadata": {},
     "output_type": "display_data"
    }
   ],
   "source": [
    "#80/20 Rule\n",
    "check = online.groupby(\"MemberID\")[\"TotalSalesAmount\"].sum().reset_index(name=\"TotalSalesAmount\").sort_values(\"TotalSalesAmount\",ascending=False)\n",
    "print(check.shape[0])\n",
    "check['cum_sum'] = check[\"TotalSalesAmount\"].cumsum()\n",
    "check['cum_perc'] = round(100*check.cum_sum/check[\"TotalSalesAmount\"].sum(),2)\n",
    "\n",
    "plt.figure(figsize=[10,5])\n",
    "ax=sns.lineplot(x=list(range(check.shape[0])),y=check[\"cum_perc\"])\n",
    "ax.yaxis.set_tick_params(labelsize=14)\n",
    "ax.xaxis.set_tick_params(labelsize=14)\n",
    "ax.xaxis.label.set_size(15)\n",
    "ax.yaxis.label.set_size(15)\n",
    "ax.axhline(60, color=\"red\", linestyle=\"--\")\n",
    "ax.axvline(50000, color=\"red\", linestyle=\"--\")"
   ]
  },
  {
   "cell_type": "code",
   "execution_count": 28,
   "metadata": {},
   "outputs": [
    {
     "data": {
      "image/png": "[encoded data removed]",
      "text/plain": [
       "<Figure size 1080x432 with 3 Axes>"
      ]
     },
     "metadata": {},
     "output_type": "display_data"
    }
   ],
   "source": [
    "small =online[online[\"Status\"]==\"Finish\"]\n",
    "fig, ax = plt.subplots(3,1,figsize=(15,6))\n",
    "sns.set_style(\"darkgrid\")\n",
    "for i,j in enumerate(['ChannelDetail','PaymentType','ShippingType']):\n",
    "    sns.countplot(small[j],palette = \"Paired\",ax=ax[i])\n",
    "    ax[i].xaxis.label.set_size(15)\n",
    "    ax[i].yaxis.label.set_size(15)\n",
    "    ax[i].yaxis.set_tick_params(labelsize=12)\n",
    "    ax[i].xaxis.set_tick_params(labelsize=12)\n",
    "    plt.tight_layout()"
   ]
  },
  {
   "cell_type": "code",
   "execution_count": 29,
   "metadata": {},
   "outputs": [
    {
     "name": "stdout",
     "output_type": "stream",
     "text": [
      "The hottest product for 2013 is: ['AAA04', 'AAA01', 'AAA02', 'AAA03', '193-26BK37']\n",
      "The hottest product for 2014 is: ['AAA01', 'AAA04', 'AAA02', 'A223-2WH38', 'A223-2WH37']\n",
      "The hottest product for 2015 is: ['防水噴霧', 'AAA01', 'AAA02', '331BK01', 'AAA04']\n",
      "The hottest product for 2016 is: ['Z002F', 'SSS11', 'AAA05', 'AAA05F', '592-1WH37']\n",
      "The hottest product for 2017 is: ['Z002F', 'SSS34', 'AAA05F', 'SSS20', 'AAA05']\n",
      "The hottest product for 2018 is: ['SSS34', 'Z002F', 'SSS57', 'AAA05F', 'SSS54']\n",
      "The hottest product for 2019 is: ['Z002F', 'SSS34', 'SSS03', 'Z006F', 'SSS82']\n",
      "The hottest product for 2020 is: ['BBB10', 'BBB15', 'BBB12', 'CCC06', 'DDD04']\n"
     ]
    },
    {
     "data": {
      "text/html": [
       "<div>\n",
       "<style scoped>\n",
       "    .dataframe tbody tr th:only-of-type {\n",
       "        vertical-align: middle;\n",
       "    }\n",
       "\n",
       "    .dataframe tbody tr th {\n",
       "        vertical-align: top;\n",
       "    }\n",
       "\n",
       "    .dataframe thead th {\n",
       "        text-align: right;\n",
       "    }\n",
       "</style>\n",
       "<table border=\"1\" class=\"dataframe\">\n",
       "  <thead>\n",
       "    <tr style=\"text-align: right;\">\n",
       "      <th></th>\n",
       "      <th>OuterProductSkuCode</th>\n",
       "      <th>TotalSalesAmount</th>\n",
       "      <th>Rank</th>\n",
       "    </tr>\n",
       "    <tr>\n",
       "      <th>TradesYear</th>\n",
       "      <th></th>\n",
       "      <th></th>\n",
       "      <th></th>\n",
       "    </tr>\n",
       "  </thead>\n",
       "  <tbody>\n",
       "    <tr>\n",
       "      <th>2013</th>\n",
       "      <td>AAA04</td>\n",
       "      <td>87892</td>\n",
       "      <td>1</td>\n",
       "    </tr>\n",
       "    <tr>\n",
       "      <th>2013</th>\n",
       "      <td>AAA01</td>\n",
       "      <td>56211</td>\n",
       "      <td>2</td>\n",
       "    </tr>\n",
       "    <tr>\n",
       "      <th>2013</th>\n",
       "      <td>AAA02</td>\n",
       "      <td>25197</td>\n",
       "      <td>3</td>\n",
       "    </tr>\n",
       "    <tr>\n",
       "      <th>2013</th>\n",
       "      <td>AAA03</td>\n",
       "      <td>19451</td>\n",
       "      <td>4</td>\n",
       "    </tr>\n",
       "    <tr>\n",
       "      <th>2013</th>\n",
       "      <td>193-26BK37</td>\n",
       "      <td>8600</td>\n",
       "      <td>5</td>\n",
       "    </tr>\n",
       "    <tr>\n",
       "      <th>2014</th>\n",
       "      <td>AAA01</td>\n",
       "      <td>126712</td>\n",
       "      <td>1</td>\n",
       "    </tr>\n",
       "    <tr>\n",
       "      <th>2014</th>\n",
       "      <td>AAA04</td>\n",
       "      <td>102986</td>\n",
       "      <td>2</td>\n",
       "    </tr>\n",
       "    <tr>\n",
       "      <th>2014</th>\n",
       "      <td>AAA02</td>\n",
       "      <td>96437</td>\n",
       "      <td>3</td>\n",
       "    </tr>\n",
       "    <tr>\n",
       "      <th>2014</th>\n",
       "      <td>A223-2WH38</td>\n",
       "      <td>50353</td>\n",
       "      <td>4</td>\n",
       "    </tr>\n",
       "    <tr>\n",
       "      <th>2014</th>\n",
       "      <td>A223-2WH37</td>\n",
       "      <td>50303</td>\n",
       "      <td>5</td>\n",
       "    </tr>\n",
       "    <tr>\n",
       "      <th>2015</th>\n",
       "      <td>防水噴霧</td>\n",
       "      <td>1295567</td>\n",
       "      <td>1</td>\n",
       "    </tr>\n",
       "    <tr>\n",
       "      <th>2015</th>\n",
       "      <td>AAA01</td>\n",
       "      <td>731977</td>\n",
       "      <td>2</td>\n",
       "    </tr>\n",
       "    <tr>\n",
       "      <th>2015</th>\n",
       "      <td>AAA02</td>\n",
       "      <td>491248</td>\n",
       "      <td>3</td>\n",
       "    </tr>\n",
       "    <tr>\n",
       "      <th>2015</th>\n",
       "      <td>331BK01</td>\n",
       "      <td>147848</td>\n",
       "      <td>4</td>\n",
       "    </tr>\n",
       "    <tr>\n",
       "      <th>2015</th>\n",
       "      <td>AAA04</td>\n",
       "      <td>135459</td>\n",
       "      <td>5</td>\n",
       "    </tr>\n",
       "    <tr>\n",
       "      <th>2016</th>\n",
       "      <td>Z002F</td>\n",
       "      <td>8370701</td>\n",
       "      <td>1</td>\n",
       "    </tr>\n",
       "    <tr>\n",
       "      <th>2016</th>\n",
       "      <td>SSS11</td>\n",
       "      <td>7543580</td>\n",
       "      <td>2</td>\n",
       "    </tr>\n",
       "    <tr>\n",
       "      <th>2016</th>\n",
       "      <td>AAA05</td>\n",
       "      <td>6570629</td>\n",
       "      <td>3</td>\n",
       "    </tr>\n",
       "    <tr>\n",
       "      <th>2016</th>\n",
       "      <td>AAA05F</td>\n",
       "      <td>2800350</td>\n",
       "      <td>4</td>\n",
       "    </tr>\n",
       "    <tr>\n",
       "      <th>2016</th>\n",
       "      <td>592-1WH37</td>\n",
       "      <td>2053062</td>\n",
       "      <td>5</td>\n",
       "    </tr>\n",
       "    <tr>\n",
       "      <th>2017</th>\n",
       "      <td>Z002F</td>\n",
       "      <td>23480433</td>\n",
       "      <td>1</td>\n",
       "    </tr>\n",
       "    <tr>\n",
       "      <th>2017</th>\n",
       "      <td>SSS34</td>\n",
       "      <td>4398260</td>\n",
       "      <td>2</td>\n",
       "    </tr>\n",
       "    <tr>\n",
       "      <th>2017</th>\n",
       "      <td>AAA05F</td>\n",
       "      <td>3334491</td>\n",
       "      <td>3</td>\n",
       "    </tr>\n",
       "    <tr>\n",
       "      <th>2017</th>\n",
       "      <td>SSS20</td>\n",
       "      <td>3314129</td>\n",
       "      <td>4</td>\n",
       "    </tr>\n",
       "    <tr>\n",
       "      <th>2017</th>\n",
       "      <td>AAA05</td>\n",
       "      <td>2947772</td>\n",
       "      <td>5</td>\n",
       "    </tr>\n",
       "    <tr>\n",
       "      <th>2018</th>\n",
       "      <td>SSS34</td>\n",
       "      <td>25772488</td>\n",
       "      <td>1</td>\n",
       "    </tr>\n",
       "    <tr>\n",
       "      <th>2018</th>\n",
       "      <td>Z002F</td>\n",
       "      <td>23502172</td>\n",
       "      <td>2</td>\n",
       "    </tr>\n",
       "    <tr>\n",
       "      <th>2018</th>\n",
       "      <td>SSS57</td>\n",
       "      <td>9764991</td>\n",
       "      <td>3</td>\n",
       "    </tr>\n",
       "    <tr>\n",
       "      <th>2018</th>\n",
       "      <td>AAA05F</td>\n",
       "      <td>4652202</td>\n",
       "      <td>4</td>\n",
       "    </tr>\n",
       "    <tr>\n",
       "      <th>2018</th>\n",
       "      <td>SSS54</td>\n",
       "      <td>4535201</td>\n",
       "      <td>5</td>\n",
       "    </tr>\n",
       "    <tr>\n",
       "      <th>2019</th>\n",
       "      <td>Z002F</td>\n",
       "      <td>16623312</td>\n",
       "      <td>1</td>\n",
       "    </tr>\n",
       "    <tr>\n",
       "      <th>2019</th>\n",
       "      <td>SSS34</td>\n",
       "      <td>13402350</td>\n",
       "      <td>2</td>\n",
       "    </tr>\n",
       "    <tr>\n",
       "      <th>2019</th>\n",
       "      <td>SSS03</td>\n",
       "      <td>9158203</td>\n",
       "      <td>3</td>\n",
       "    </tr>\n",
       "    <tr>\n",
       "      <th>2019</th>\n",
       "      <td>Z006F</td>\n",
       "      <td>8954525</td>\n",
       "      <td>4</td>\n",
       "    </tr>\n",
       "    <tr>\n",
       "      <th>2019</th>\n",
       "      <td>SSS82</td>\n",
       "      <td>8836273</td>\n",
       "      <td>5</td>\n",
       "    </tr>\n",
       "    <tr>\n",
       "      <th>2020</th>\n",
       "      <td>BBB10</td>\n",
       "      <td>4508803</td>\n",
       "      <td>1</td>\n",
       "    </tr>\n",
       "    <tr>\n",
       "      <th>2020</th>\n",
       "      <td>BBB15</td>\n",
       "      <td>4034797</td>\n",
       "      <td>2</td>\n",
       "    </tr>\n",
       "    <tr>\n",
       "      <th>2020</th>\n",
       "      <td>BBB12</td>\n",
       "      <td>3770850</td>\n",
       "      <td>3</td>\n",
       "    </tr>\n",
       "    <tr>\n",
       "      <th>2020</th>\n",
       "      <td>CCC06</td>\n",
       "      <td>3409837</td>\n",
       "      <td>4</td>\n",
       "    </tr>\n",
       "    <tr>\n",
       "      <th>2020</th>\n",
       "      <td>DDD04</td>\n",
       "      <td>3213232</td>\n",
       "      <td>5</td>\n",
       "    </tr>\n",
       "  </tbody>\n",
       "</table>\n",
       "</div>"
      ],
      "text/plain": [
       "           OuterProductSkuCode  TotalSalesAmount  Rank\n",
       "TradesYear                                            \n",
       "2013                     AAA04             87892     1\n",
       "2013                     AAA01             56211     2\n",
       "2013                     AAA02             25197     3\n",
       "2013                     AAA03             19451     4\n",
       "2013                193-26BK37              8600     5\n",
       "2014                     AAA01            126712     1\n",
       "2014                     AAA04            102986     2\n",
       "2014                     AAA02             96437     3\n",
       "2014                A223-2WH38             50353     4\n",
       "2014                A223-2WH37             50303     5\n",
       "2015                      防水噴霧           1295567     1\n",
       "2015                     AAA01            731977     2\n",
       "2015                     AAA02            491248     3\n",
       "2015                   331BK01            147848     4\n",
       "2015                     AAA04            135459     5\n",
       "2016                     Z002F           8370701     1\n",
       "2016                     SSS11           7543580     2\n",
       "2016                     AAA05           6570629     3\n",
       "2016                    AAA05F           2800350     4\n",
       "2016                 592-1WH37           2053062     5\n",
       "2017                     Z002F          23480433     1\n",
       "2017                     SSS34           4398260     2\n",
       "2017                    AAA05F           3334491     3\n",
       "2017                     SSS20           3314129     4\n",
       "2017                     AAA05           2947772     5\n",
       "2018                     SSS34          25772488     1\n",
       "2018                     Z002F          23502172     2\n",
       "2018                     SSS57           9764991     3\n",
       "2018                    AAA05F           4652202     4\n",
       "2018                     SSS54           4535201     5\n",
       "2019                     Z002F          16623312     1\n",
       "2019                     SSS34          13402350     2\n",
       "2019                     SSS03           9158203     3\n",
       "2019                     Z006F           8954525     4\n",
       "2019                     SSS82           8836273     5\n",
       "2020                     BBB10           4508803     1\n",
       "2020                     BBB15           4034797     2\n",
       "2020                     BBB12           3770850     3\n",
       "2020                     CCC06           3409837     4\n",
       "2020                     DDD04           3213232     5"
      ]
     },
     "execution_count": 29,
     "metadata": {},
     "output_type": "execute_result"
    }
   ],
   "source": [
    "#### get the yearly hottest product\n",
    "orderslave[\"ProductSkuCode\"]=orderslave[\"ProductSkuCode\"].replace('nan', np.nan)\n",
    "small =orderslave.dropna(subset=[\"OuterProductSkuCode\"])\n",
    "hot_product=small.groupby([\"TradesYear\",\"OuterProductSkuCode\"]).agg({'TotalSalesAmount': sum})\n",
    "hot_product=hot_product['TotalSalesAmount'].groupby(level=0, group_keys=False)\n",
    "hot_product=hot_product.nlargest(5).reset_index(name=\"TotalSalesAmount\").set_index(\"TradesYear\")\n",
    "hot_product[\"Rank\"]=list(range(1,6))*8\n",
    "for i in range(2013,2021):\n",
    "    print(\"The hottest product for %d is:\" % i, list(hot_product[hot_product.index==i][\"OuterProductSkuCode\"].values))\n",
    "hot_product"
   ]
  },
  {
   "cell_type": "code",
   "execution_count": 30,
   "metadata": {},
   "outputs": [
    {
     "name": "stdout",
     "output_type": "stream",
     "text": [
      "(313224, 11)\n"
     ]
    }
   ],
   "source": [
    "member=pd.read_csv(\"MemberData.csv\")\n",
    "highly_repeated= member.groupby(\"MemberID\").size().index[np.where(member.groupby(\"MemberID\").size()>4)[0]]\n",
    "member=member[~member[\"MemberID\"].isin(highly_repeated)]\n",
    "assert len(np.where(member.groupby(\"MemberID\").size()>4)[0])==0\n",
    "member=member.sort_values(by=['MemberID', 'RegisterDateTime']).drop_duplicates(subset=['MemberID'], keep='first')\n",
    "assert len(np.where(member.groupby(\"MemberID\").size()>1)[0])==0\n",
    "print(member.shape)"
   ]
  },
  {
   "cell_type": "code",
   "execution_count": 31,
   "metadata": {},
   "outputs": [
    {
     "name": "stdout",
     "output_type": "stream",
     "text": [
      "(5, 11)\n",
      "(0, 11)\n",
      "(18, 11)\n",
      "6efxsZYP5ItYPpLmTHrDXlOIrmYh5dAcevL7wG7ocl4%3D 0079-06-07\n",
      "229524    1990-06-07\n",
      "Name: Birthday, dtype: object\n",
      "(0, 11)\n"
     ]
    }
   ],
   "source": [
    "###data cleaning and convert birthday to Age\n",
    "\n",
    "member[\"Birthday\"]=member[\"Birthday\"].apply(lambda x:str(x).replace(\"0001-01-01\", '1900-01-01'))\n",
    "member[\"Birthday\"]=member[\"Birthday\"].replace('1900-01-01', np.NaN)\n",
    "\n",
    "small = member[member[\"Birthday\"].str.startswith(\"000\" , na=False)]\n",
    "print(small.shape)\n",
    "member[member[\"Birthday\"].str.startswith(\"000\", na=False)]=np.nan\n",
    "small = member[member[\"Birthday\"].str.startswith(\"000\", na=False)]\n",
    "print(small.shape)\n",
    "\n",
    "small= member[member[\"Birthday\"].str.startswith(\"00\", na=False)]\n",
    "print(small.shape)\n",
    "print(small.iloc[0][\"MemberID\"],small.iloc[0][\"Birthday\"])\n",
    "\n",
    "member[\"Birthday\"]=member[\"Birthday\"].apply(lambda x:str(1911+int(str(x[2:4])))+x[4:]  if str(x)[:2]==\"00\"  else x)\n",
    "print(member[member[\"MemberID\"]==small.iloc[0][\"MemberID\"]][\"Birthday\"])\n",
    "small= member[member[\"Birthday\"].str.startswith(\"00\", na=False)]\n",
    "print(small.shape)\n",
    "\n",
    "def age(x):\n",
    "    try:\n",
    "        check= int(str(x)[:4])\n",
    "        if check<2010 and check>1940:\n",
    "            return int(2021-pd.to_datetime(x).year)\n",
    "        else:\n",
    "            return np.nan\n",
    "    except:\n",
    "        return np.nan\n",
    "\n",
    "member[\"Age\"]=member[\"Birthday\"].map(age)"
   ]
  },
  {
   "cell_type": "code",
   "execution_count": 32,
   "metadata": {},
   "outputs": [
    {
     "data": {
      "text/plain": [
       "Text(0, 0.5, 'frequency')"
      ]
     },
     "execution_count": 32,
     "metadata": {},
     "output_type": "execute_result"
    },
    {
     "data": {
      "image/png": "[encoded data removed]",
      "text/plain": [
       "<Figure size 864x432 with 1 Axes>"
      ]
     },
     "metadata": {},
     "output_type": "display_data"
    }
   ],
   "source": [
    "plt.figure(figsize=[12,6])\n",
    "sns.set_style(\"darkgrid\")\n",
    "sns.distplot(member[\"Age\"],kde=False)\n",
    "plt.xlabel(\"age\")\n",
    "plt.ylabel(\"frequency\")"
   ]
  },
  {
   "cell_type": "code",
   "execution_count": 33,
   "metadata": {},
   "outputs": [
    {
     "data": {
      "text/plain": [
       "32.0"
      ]
     },
     "execution_count": 33,
     "metadata": {},
     "output_type": "execute_result"
    }
   ],
   "source": [
    "member[\"Age\"].median()"
   ]
  },
  {
   "cell_type": "code",
   "execution_count": 34,
   "metadata": {},
   "outputs": [
    {
     "name": "stdout",
     "output_type": "stream",
     "text": [
      "Female    133609\n",
      "Male        2281\n",
      "Name: Gender, dtype: int64\n"
     ]
    },
    {
     "data": {
      "image/png": "[encoded data removed]",
      "text/plain": [
       "<Figure size 360x216 with 1 Axes>"
      ]
     },
     "metadata": {},
     "output_type": "display_data"
    }
   ],
   "source": [
    "plt.figure(figsize=[5,3])\n",
    "sns.countplot(member['Gender'],palette = \"Set2\")\n",
    "###womens shoe retailer\n",
    "print(pd.value_counts(member['Gender']))"
   ]
  },
  {
   "cell_type": "code",
   "execution_count": 35,
   "metadata": {},
   "outputs": [
    {
     "data": {
      "image/png": "[encoded data removed]",
      "text/plain": [
       "<Figure size 1440x360 with 4 Axes>"
      ]
     },
     "metadata": {},
     "output_type": "display_data"
    }
   ],
   "source": [
    "fig, ax = plt.subplots(1,4,figsize=(20,5))\n",
    "for i,j in enumerate(['IsAppInstalled','IsEnableEmail','IsEnablePushNotification','IsEnableShortMessage']):\n",
    "    sns.countplot(member[j].apply(lambda x:str(int(x)) if pd.isnull(x)==False else x),palette = \"Set2\",ax=ax[i])\n",
    "    ax[i].xaxis.label.set_size(15)\n",
    "    ax[i].yaxis.label.set_size(15)\n",
    "    ax[i].yaxis.set_tick_params(labelsize=15)\n",
    "    ax[i].xaxis.set_tick_params(labelsize=15)\n",
    "    plt.tight_layout()"
   ]
  },
  {
   "cell_type": "code",
   "execution_count": 36,
   "metadata": {},
   "outputs": [],
   "source": [
    "online= pd.merge(online,member,how=\"left\",left_on=\"MemberID\",right_on=\"MemberID\")"
   ]
  },
  {
   "cell_type": "code",
   "execution_count": 37,
   "metadata": {},
   "outputs": [],
   "source": [
    "def get_channel(x):\n",
    "    x=list(set(x))\n",
    "    if len(x)==2:\n",
    "        return \"OMO\"\n",
    "    elif x[0]==\"physical stores\":\n",
    "        return \"offline shopping\"\n",
    "    else:\n",
    "        return \"online shopping\"\n",
    "\n",
    "online[\"buying type\"]=online.groupby(\"MemberID\")[\"ChannelDetail\"].transform(lambda x: [x.unique()]*len(x)).apply(lambda x:get_channel(x))"
   ]
  },
  {
   "cell_type": "code",
   "execution_count": 38,
   "metadata": {},
   "outputs": [
    {
     "data": {
      "text/plain": [
       "online shopping     184818\n",
       "offline shopping    148146\n",
       "OMO                 114324\n",
       "Name: buying type, dtype: int64"
      ]
     },
     "execution_count": 38,
     "metadata": {},
     "output_type": "execute_result"
    }
   ],
   "source": [
    "pd.value_counts(online[\"buying type\"])"
   ]
  },
  {
   "cell_type": "code",
   "execution_count": 39,
   "metadata": {},
   "outputs": [
    {
     "data": {
      "text/html": [
       "<div>\n",
       "<style scoped>\n",
       "    .dataframe tbody tr th:only-of-type {\n",
       "        vertical-align: middle;\n",
       "    }\n",
       "\n",
       "    .dataframe tbody tr th {\n",
       "        vertical-align: top;\n",
       "    }\n",
       "\n",
       "    .dataframe thead tr th {\n",
       "        text-align: left;\n",
       "    }\n",
       "</style>\n",
       "<table border=\"1\" class=\"dataframe\">\n",
       "  <thead>\n",
       "    <tr>\n",
       "      <th>buying type</th>\n",
       "      <th colspan=\"2\" halign=\"left\">OMO</th>\n",
       "      <th colspan=\"2\" halign=\"left\">offline shopping</th>\n",
       "      <th colspan=\"2\" halign=\"left\">online shopping</th>\n",
       "    </tr>\n",
       "    <tr>\n",
       "      <th>IsAppInstalled</th>\n",
       "      <th>0</th>\n",
       "      <th>1</th>\n",
       "      <th>0</th>\n",
       "      <th>1</th>\n",
       "      <th>0</th>\n",
       "      <th>1</th>\n",
       "    </tr>\n",
       "  </thead>\n",
       "  <tbody>\n",
       "    <tr>\n",
       "      <th>年消費金額</th>\n",
       "      <td>4155.78</td>\n",
       "      <td>5828.39</td>\n",
       "      <td>2763.96</td>\n",
       "      <td>5205.96</td>\n",
       "      <td>2749.77</td>\n",
       "      <td>3672.44</td>\n",
       "    </tr>\n",
       "    <tr>\n",
       "      <th>年消費次數</th>\n",
       "      <td>2034</td>\n",
       "      <td>33264</td>\n",
       "      <td>1618</td>\n",
       "      <td>59582</td>\n",
       "      <td>14831</td>\n",
       "      <td>27063</td>\n",
       "    </tr>\n",
       "  </tbody>\n",
       "</table>\n",
       "</div>"
      ],
      "text/plain": [
       "buying type         OMO          offline shopping          online shopping  \\\n",
       "IsAppInstalled        0        1                0        1               0   \n",
       "年消費金額           4155.78  5828.39          2763.96  5205.96         2749.77   \n",
       "年消費次數              2034    33264             1618    59582           14831   \n",
       "\n",
       "buying type              \n",
       "IsAppInstalled        1  \n",
       "年消費金額           3672.44  \n",
       "年消費次數             27063  "
      ]
     },
     "execution_count": 39,
     "metadata": {},
     "output_type": "execute_result"
    }
   ],
   "source": [
    "data_2019=online[(online[\"TradesYear\"]==2019) & (online[\"Status\"].isin([\"Return\",\"Finish\"]))]\n",
    "temp=data_2019.groupby([\"buying type\",\"MemberID\"])['TotalSalesAmount'].sum().reset_index(name=\"sum\")\n",
    "data_2019=data_2019[[\"MemberID\",\"IsAppInstalled\"]]\n",
    "data_2019[\"IsAppInstalled\"]=data_2019[\"IsAppInstalled\"].astype('Int64')\n",
    "temp=pd.merge(temp,data_2019,how=\"left\",on=\"MemberID\")\n",
    "is_app_installed_diff_for_2019=temp.groupby([\"buying type\",\"IsAppInstalled\"]).agg({\"sum\":\"mean\",\"MemberID\":\"count\"})\n",
    "is_app_installed_diff_for_2019[\"MemberID\"]=is_app_installed_diff_for_2019[\"MemberID\"].astype('Int64')\n",
    "is_app_installed_diff_for_2019[\"sum\"]=is_app_installed_diff_for_2019[\"sum\"].apply(lambda x:round(x,2))\n",
    "is_app_installed_diff_for_2019=is_app_installed_diff_for_2019.T\n",
    "is_app_installed_diff_for_2019.index=[\"年消費金額\",\"年消費次數\"]\n",
    "is_app_installed_diff_for_2019"
   ]
  },
  {
   "cell_type": "code",
   "execution_count": 40,
   "metadata": {},
   "outputs": [],
   "source": [
    "time=online.sort_values(['MemberID','TradesDate']).groupby('MemberID')['TradesDate'].diff().dropna()\n",
    "time=time.reset_index()"
   ]
  },
  {
   "cell_type": "code",
   "execution_count": 41,
   "metadata": {},
   "outputs": [
    {
     "data": {
      "text/plain": [
       "80.0"
      ]
     },
     "execution_count": 41,
     "metadata": {},
     "output_type": "execute_result"
    }
   ],
   "source": [
    "time[\"day\"]=time[\"TradesDate\"].apply(lambda x:x.days)\n",
    "time=time[time[\"day\"]>0]\n",
    "time[\"day\"].median()"
   ]
  },
  {
   "cell_type": "code",
   "execution_count": 42,
   "metadata": {},
   "outputs": [
    {
     "data": {
      "text/html": [
       "<div>\n",
       "<style scoped>\n",
       "    .dataframe tbody tr th:only-of-type {\n",
       "        vertical-align: middle;\n",
       "    }\n",
       "\n",
       "    .dataframe tbody tr th {\n",
       "        vertical-align: top;\n",
       "    }\n",
       "\n",
       "    .dataframe thead th {\n",
       "        text-align: right;\n",
       "    }\n",
       "</style>\n",
       "<table border=\"1\" class=\"dataframe\">\n",
       "  <thead>\n",
       "    <tr style=\"text-align: right;\">\n",
       "      <th></th>\n",
       "      <th>MemberID</th>\n",
       "      <th>check</th>\n",
       "      <th>count_for_3c</th>\n",
       "      <th>count_for_over_3c</th>\n",
       "    </tr>\n",
       "  </thead>\n",
       "  <tbody>\n",
       "    <tr>\n",
       "      <th>0</th>\n",
       "      <td>%2B%2B%2FsALKlNdkh585nb%2F9geIrN84FIZZLkD8qf90...</td>\n",
       "      <td>False</td>\n",
       "      <td>0</td>\n",
       "      <td>1</td>\n",
       "    </tr>\n",
       "    <tr>\n",
       "      <th>1</th>\n",
       "      <td>%2B%2B2Sw%2FYbIovLROVPDc%2BeVjbEdn6fTeg7niPBE%...</td>\n",
       "      <td>False</td>\n",
       "      <td>0</td>\n",
       "      <td>1</td>\n",
       "    </tr>\n",
       "    <tr>\n",
       "      <th>2</th>\n",
       "      <td>%2B%2B3XVjBiQPLoAXWc7gK%2BTdvTH4J4AmgkeFlB3mmN...</td>\n",
       "      <td>False</td>\n",
       "      <td>0</td>\n",
       "      <td>1</td>\n",
       "    </tr>\n",
       "    <tr>\n",
       "      <th>3</th>\n",
       "      <td>%2B%2B6Xs%2FwHblxbDDDYQ9osx6DMUooacHVpAJvv7KWg...</td>\n",
       "      <td>False</td>\n",
       "      <td>0</td>\n",
       "      <td>1</td>\n",
       "    </tr>\n",
       "    <tr>\n",
       "      <th>4</th>\n",
       "      <td>%2B%2B6ZXiIdakH%2B77WllacG4cehkRZkwBnSIX2XvAro...</td>\n",
       "      <td>False</td>\n",
       "      <td>0</td>\n",
       "      <td>1</td>\n",
       "    </tr>\n",
       "  </tbody>\n",
       "</table>\n",
       "</div>"
      ],
      "text/plain": [
       "                                            MemberID  check  count_for_3c  \\\n",
       "0  %2B%2B%2FsALKlNdkh585nb%2F9geIrN84FIZZLkD8qf90...  False             0   \n",
       "1  %2B%2B2Sw%2FYbIovLROVPDc%2BeVjbEdn6fTeg7niPBE%...  False             0   \n",
       "2  %2B%2B3XVjBiQPLoAXWc7gK%2BTdvTH4J4AmgkeFlB3mmN...  False             0   \n",
       "3  %2B%2B6Xs%2FwHblxbDDDYQ9osx6DMUooacHVpAJvv7KWg...  False             0   \n",
       "4  %2B%2B6ZXiIdakH%2B77WllacG4cehkRZkwBnSIX2XvAro...  False             0   \n",
       "\n",
       "   count_for_over_3c  \n",
       "0                  1  \n",
       "1                  1  \n",
       "2                  1  \n",
       "3                  1  \n",
       "4                  1  "
      ]
     },
     "execution_count": 42,
     "metadata": {},
     "output_type": "execute_result"
    }
   ],
   "source": [
    "#####NAPL　Model \n",
    "record=online.groupby([\"MemberID\",\"TradesDate\"])[\"TotalSalesAmount\"].sum().reset_index(name='TotalSalesAmount') \\\n",
    "                             .sort_values(['TotalSalesAmount'], ascending=False)\n",
    "record=record[record[\"TotalSalesAmount\"]>0]\n",
    "record[\"check\"]=record.groupby(\"MemberID\")[\"TradesDate\"].transform(lambda x:(snapshot_date-pd.to_datetime(x).max()).days<=240)\n",
    "record[\"count_for_3c\"]=record[\"TradesDate\"].apply(lambda x:int((snapshot_date-pd.to_datetime(x)).days<=240))\n",
    "record[\"count_for_over_3c\"]=record[\"TradesDate\"].apply(lambda x:int((snapshot_date-pd.to_datetime(x)).days>240))\n",
    "napl=record.groupby([\"MemberID\",\"check\"]).agg({\"count_for_3c\":\"sum\",\"count_for_over_3c\":\"sum\"}).reset_index()\n",
    "napl.head()"
   ]
  },
  {
   "cell_type": "code",
   "execution_count": 43,
   "metadata": {},
   "outputs": [],
   "source": [
    "def f(x):\n",
    "    if x[\"check\"]==True and x[\"count_for_3c\"]>1:\n",
    "        return \"active\"\n",
    "  \n",
    "    elif x[\"check\"]==True and x[\"count_for_3c\"]==1:\n",
    "        return \"new\"\n",
    "    elif x[\"check\"]==False and x[\"count_for_over_3c\"]>1:\n",
    "        return \"potential\"\n",
    "    else:\n",
    "        return \"lost\"\n",
    "napl[\"label\"]=napl.apply(lambda x:f(x),axis=1)"
   ]
  },
  {
   "cell_type": "code",
   "execution_count": 44,
   "metadata": {},
   "outputs": [
    {
     "data": {
      "text/plain": [
       "Text(0.5, 0, 'type')"
      ]
     },
     "execution_count": 44,
     "metadata": {},
     "output_type": "execute_result"
    },
    {
     "data": {
      "image/png": "[encoded data removed]",
      "text/plain": [
       "<Figure size 720x216 with 1 Axes>"
      ]
     },
     "metadata": {},
     "output_type": "display_data"
    }
   ],
   "source": [
    "plt.figure(figsize=[10,3])\n",
    "data=pd.value_counts(napl[\"label\"]).reset_index()\n",
    "ax=sns.barplot(data=data,x=\"index\",y=\"label\",palette = \"Set2\")\n",
    "ax.yaxis.set_tick_params(labelsize=12)\n",
    "ax.xaxis.set_tick_params(labelsize=12)\n",
    "ax.xaxis.label.set_size(14)\n",
    "ax.yaxis.label.set_size(14)\n",
    "plt.xlabel(\"type\")"
   ]
  },
  {
   "cell_type": "code",
   "execution_count": 45,
   "metadata": {},
   "outputs": [],
   "source": [
    "###########behavior data"
   ]
  },
  {
   "cell_type": "code",
   "execution_count": 46,
   "metadata": {},
   "outputs": [
    {
     "data": {
      "text/plain": [
       "['addToCart',\n",
       " 'trafficSource',\n",
       " 'userRegisteration',\n",
       " 'categoryPageView',\n",
       " 'checkout',\n",
       " 'purchase',\n",
       " 'mainPageView',\n",
       " 'productPageView',\n",
       " 'activityPageView',\n",
       " 'search']"
      ]
     },
     "execution_count": 46,
     "metadata": {},
     "output_type": "execute_result"
    }
   ],
   "source": [
    "import os\n",
    "\n",
    "data=os.listdir('123_new')\n",
    "new=[]\n",
    "for i in data:\n",
    "    new.append(i.split('_')[0])\n",
    "list(set(new))"
   ]
  },
  {
   "cell_type": "code",
   "execution_count": 47,
   "metadata": {},
   "outputs": [],
   "source": [
    "datalists = dict()\n",
    "for item in list(set(new)):\n",
    "    datalists[item] = []\n",
    "for i in data:\n",
    "    check=i.split(\"_\")[0]\n",
    "    datalists[check].append(i)"
   ]
  },
  {
   "cell_type": "code",
   "execution_count": 48,
   "metadata": {},
   "outputs": [
    {
     "data": {
      "text/plain": [
       "['categoryPageView_2018-06-26.csv',\n",
       " 'categoryPageView_2018-06-27.csv',\n",
       " 'categoryPageView_2018-06-28.csv',\n",
       " 'categoryPageView_2018-06-29.csv',\n",
       " 'categoryPageView_2018-06-30.csv']"
      ]
     },
     "execution_count": 48,
     "metadata": {},
     "output_type": "execute_result"
    }
   ],
   "source": [
    "datalists[\"categoryPageView\"][:5]"
   ]
  },
  {
   "cell_type": "code",
   "execution_count": 7,
   "metadata": {},
   "outputs": [],
   "source": [
    "df_traffic=pd.concat([pd.read_csv(os.path.join(\"123_new\",datalists[\"trafficSource\"][i]),low_memory = True,usecols = [\"did\",\"dc\",\"uid\",\"ht\",\"cs\"]) for i in range(len(datalists[\"trafficSource\"]))],axis=0)\n",
    "df_traffic[\"cs\"]=df_traffic[\"cs\"].apply(lambda x:x.replace(\"sms\",\"SMS\"))\n",
    "df_traffic[\"ht\"]=df_traffic[\"ht\"].apply(lambda x:datetime.datetime.fromtimestamp(int(x) / 1000).strftime(\"%Y-%m-%d %H:%M:%S\"))"
   ]
  },
  {
   "cell_type": "code",
   "execution_count": 23,
   "metadata": {},
   "outputs": [],
   "source": [
    "####pd.to_datetime(df_traffic[\"ht\"],format=\"%Y-%m-%d %H:%M:%S\").dt.date.iloc[0]"
   ]
  },
  {
   "cell_type": "code",
   "execution_count": 24,
   "metadata": {},
   "outputs": [],
   "source": [
    "df_traffic[\"date\"]=pd.to_datetime(df_traffic[\"ht\"],format=\"%Y-%m-%d %H:%M:%S\").dt.date"
   ]
  },
  {
   "cell_type": "code",
   "execution_count": 25,
   "metadata": {},
   "outputs": [
    {
     "name": "stdout",
     "output_type": "stream",
     "text": [
      "(44261420, 6)\n"
     ]
    }
   ],
   "source": [
    "print(df_traffic.shape)"
   ]
  },
  {
   "cell_type": "code",
   "execution_count": 26,
   "metadata": {},
   "outputs": [
    {
     "name": "stdout",
     "output_type": "stream",
     "text": [
      "(3999999, 6)\n"
     ]
    },
    {
     "data": {
      "text/html": [
       "<div>\n",
       "<style scoped>\n",
       "    .dataframe tbody tr th:only-of-type {\n",
       "        vertical-align: middle;\n",
       "    }\n",
       "\n",
       "    .dataframe tbody tr th {\n",
       "        vertical-align: top;\n",
       "    }\n",
       "\n",
       "    .dataframe thead th {\n",
       "        text-align: right;\n",
       "    }\n",
       "</style>\n",
       "<table border=\"1\" class=\"dataframe\">\n",
       "  <thead>\n",
       "    <tr style=\"text-align: right;\">\n",
       "      <th></th>\n",
       "      <th>dc</th>\n",
       "      <th>did</th>\n",
       "      <th>uid</th>\n",
       "      <th>ht</th>\n",
       "      <th>cs</th>\n",
       "      <th>date</th>\n",
       "    </tr>\n",
       "  </thead>\n",
       "  <tbody>\n",
       "    <tr>\n",
       "      <th>0</th>\n",
       "      <td>web</td>\n",
       "      <td>cf261d71-475a-4c9e-a35d-590c6de7bb60</td>\n",
       "      <td>NaN</td>\n",
       "      <td>2018-06-26 15:55:42</td>\n",
       "      <td>FBM</td>\n",
       "      <td>2018-06-26</td>\n",
       "    </tr>\n",
       "    <tr>\n",
       "      <th>2</th>\n",
       "      <td>web</td>\n",
       "      <td>d5ccc9f9-e0e3-4b69-8516-b9426bd71e8b</td>\n",
       "      <td>NaN</td>\n",
       "      <td>2018-06-27 00:15:28</td>\n",
       "      <td>FBM</td>\n",
       "      <td>2018-06-27</td>\n",
       "    </tr>\n",
       "    <tr>\n",
       "      <th>3</th>\n",
       "      <td>web</td>\n",
       "      <td>5b9b2990-e058-46f7-a19c-17637eee6fd0</td>\n",
       "      <td>NaN</td>\n",
       "      <td>2018-06-26 21:57:24</td>\n",
       "      <td>FBM</td>\n",
       "      <td>2018-06-26</td>\n",
       "    </tr>\n",
       "    <tr>\n",
       "      <th>4</th>\n",
       "      <td>web</td>\n",
       "      <td>fc0f2e7b-4449-4e15-fd30-25dd3e292a18</td>\n",
       "      <td>NaN</td>\n",
       "      <td>2018-06-26 17:14:31</td>\n",
       "      <td>FBM</td>\n",
       "      <td>2018-06-26</td>\n",
       "    </tr>\n",
       "    <tr>\n",
       "      <th>6</th>\n",
       "      <td>web</td>\n",
       "      <td>87e979ca-42af-431c-ba22-161b85712e3c</td>\n",
       "      <td>NaN</td>\n",
       "      <td>2018-06-26 23:56:51</td>\n",
       "      <td>FBM</td>\n",
       "      <td>2018-06-26</td>\n",
       "    </tr>\n",
       "  </tbody>\n",
       "</table>\n",
       "</div>"
      ],
      "text/plain": [
       "    dc                                   did  uid                   ht   cs  \\\n",
       "0  web  cf261d71-475a-4c9e-a35d-590c6de7bb60  NaN  2018-06-26 15:55:42  FBM   \n",
       "2  web  d5ccc9f9-e0e3-4b69-8516-b9426bd71e8b  NaN  2018-06-27 00:15:28  FBM   \n",
       "3  web  5b9b2990-e058-46f7-a19c-17637eee6fd0  NaN  2018-06-26 21:57:24  FBM   \n",
       "4  web  fc0f2e7b-4449-4e15-fd30-25dd3e292a18  NaN  2018-06-26 17:14:31  FBM   \n",
       "6  web  87e979ca-42af-431c-ba22-161b85712e3c  NaN  2018-06-26 23:56:51  FBM   \n",
       "\n",
       "         date  \n",
       "0  2018-06-26  \n",
       "2  2018-06-27  \n",
       "3  2018-06-26  \n",
       "4  2018-06-26  \n",
       "6  2018-06-26  "
      ]
     },
     "execution_count": 26,
     "metadata": {},
     "output_type": "execute_result"
    }
   ],
   "source": [
    "df_traffic.drop_duplicates(subset=[\"did\",\"date\"],inplace=True)\n",
    "print(df_traffic.shape)\n",
    "df_traffic.head()"
   ]
  },
  {
   "cell_type": "code",
   "execution_count": 36,
   "metadata": {},
   "outputs": [
    {
     "data": {
      "text/plain": [
       "True"
      ]
     },
     "execution_count": 36,
     "metadata": {},
     "output_type": "execute_result"
    }
   ],
   "source": [
    "####\n",
    "df_traffic[\"date\"].iloc[0]==pd.to_datetime(\"2018-06-26\")"
   ]
  },
  {
   "cell_type": "code",
   "execution_count": 27,
   "metadata": {},
   "outputs": [],
   "source": [
    "check = pd.to_datetime(df_traffic.ht).dt.hour"
   ]
  },
  {
   "cell_type": "code",
   "execution_count": 30,
   "metadata": {},
   "outputs": [
    {
     "data": {
      "image/png": "[encoded data removed]",
      "text/plain": [
       "<Figure size 720x360 with 1 Axes>"
      ]
     },
     "metadata": {
      "needs_background": "light"
     },
     "output_type": "display_data"
    }
   ],
   "source": [
    "plt.figure(figsize=(10,5))\n",
    "ax=sns.countplot(check)\n",
    "plt.title('Hourly changes in e-commerce platform traffic',fontsize = 15)\n",
    "plt.xlabel('hour')\n",
    "ax.xaxis.label.set_size(15)\n",
    "ax.yaxis.label.set_size(15)\n",
    "ax.yaxis.set_tick_params(labelsize=15)\n",
    "ax.xaxis.set_tick_params(labelsize=15)"
   ]
  },
  {
   "cell_type": "code",
   "execution_count": 31,
   "metadata": {},
   "outputs": [
    {
     "data": {
      "text/html": [
       "<div>\n",
       "<style scoped>\n",
       "    .dataframe tbody tr th:only-of-type {\n",
       "        vertical-align: middle;\n",
       "    }\n",
       "\n",
       "    .dataframe tbody tr th {\n",
       "        vertical-align: top;\n",
       "    }\n",
       "\n",
       "    .dataframe thead th {\n",
       "        text-align: right;\n",
       "    }\n",
       "</style>\n",
       "<table border=\"1\" class=\"dataframe\">\n",
       "  <thead>\n",
       "    <tr style=\"text-align: right;\">\n",
       "      <th></th>\n",
       "      <th>index</th>\n",
       "      <th>cs</th>\n",
       "    </tr>\n",
       "  </thead>\n",
       "  <tbody>\n",
       "    <tr>\n",
       "      <th>0</th>\n",
       "      <td>google</td>\n",
       "      <td>1501953</td>\n",
       "    </tr>\n",
       "    <tr>\n",
       "      <th>1</th>\n",
       "      <td>FBAD</td>\n",
       "      <td>948047</td>\n",
       "    </tr>\n",
       "    <tr>\n",
       "      <th>2</th>\n",
       "      <td>FBPO</td>\n",
       "      <td>381359</td>\n",
       "    </tr>\n",
       "    <tr>\n",
       "      <th>3</th>\n",
       "      <td>tagtoo</td>\n",
       "      <td>185685</td>\n",
       "    </tr>\n",
       "    <tr>\n",
       "      <th>4</th>\n",
       "      <td>m.facebook.com</td>\n",
       "      <td>175357</td>\n",
       "    </tr>\n",
       "    <tr>\n",
       "      <th>5</th>\n",
       "      <td>affiliate</td>\n",
       "      <td>164156</td>\n",
       "    </tr>\n",
       "    <tr>\n",
       "      <th>6</th>\n",
       "      <td>BRIDGEWELL</td>\n",
       "      <td>160010</td>\n",
       "    </tr>\n",
       "    <tr>\n",
       "      <th>7</th>\n",
       "      <td>LINE</td>\n",
       "      <td>91813</td>\n",
       "    </tr>\n",
       "  </tbody>\n",
       "</table>\n",
       "</div>"
      ],
      "text/plain": [
       "            index       cs\n",
       "0          google  1501953\n",
       "1            FBAD   948047\n",
       "2            FBPO   381359\n",
       "3          tagtoo   185685\n",
       "4  m.facebook.com   175357\n",
       "5       affiliate   164156\n",
       "6      BRIDGEWELL   160010\n",
       "7            LINE    91813"
      ]
     },
     "execution_count": 31,
     "metadata": {},
     "output_type": "execute_result"
    }
   ],
   "source": [
    "#df_traffic[\"cs\"]=df_traffic[\"cs\"].apply(lambda x:x.replace(\"sms\",\"SMS\"))\n",
    "count_traffic=df_traffic[\"cs\"].value_counts().reset_index()\n",
    "count_traffic.head(8)"
   ]
  },
  {
   "cell_type": "code",
   "execution_count": 32,
   "metadata": {},
   "outputs": [
    {
     "name": "stdout",
     "output_type": "stream",
     "text": [
      "前八大流量來源佔總體流量的: 0.902\n"
     ]
    }
   ],
   "source": [
    "print(\"前八大流量來源佔總體流量的: %.3f\" % (count_traffic.head(8)[\"cs\"].sum()/count_traffic[\"cs\"].sum()))"
   ]
  },
  {
   "cell_type": "code",
   "execution_count": 33,
   "metadata": {},
   "outputs": [
    {
     "data": {
      "text/plain": [
       "google            1501953\n",
       "FBAD               948047\n",
       "other              391619\n",
       "FBPO               381359\n",
       "tagtoo             185685\n",
       "m.facebook.com     175357\n",
       "affiliate          164156\n",
       "BRIDGEWELL         160010\n",
       "LINE                91813\n",
       "Name: cs, dtype: int64"
      ]
     },
     "execution_count": 33,
     "metadata": {},
     "output_type": "execute_result"
    }
   ],
   "source": [
    "def traffic_map(x):\n",
    "    if x in count_traffic[\"index\"][:8].values:\n",
    "        return x\n",
    "    else:\n",
    "        return \"other\"\n",
    "df_traffic[\"cs\"]=df_traffic[\"cs\"].apply(lambda x:traffic_map(x))\n",
    "df_traffic[\"cs\"].value_counts()"
   ]
  },
  {
   "cell_type": "code",
   "execution_count": 37,
   "metadata": {},
   "outputs": [],
   "source": [
    "convertion_cal=pd.concat([pd.read_csv(os.path.join(\"123_new\",datalists[\"purchase\"][i]),low_memory = True,usecols = [\"did\",\"ht\"]) for i in range(len(datalists[\"purchase\"]))],axis=0)\n",
    "\n",
    "convertion_cal[\"ht\"]=convertion_cal[\"ht\"].apply(lambda x:datetime.datetime.fromtimestamp(int(x) / 1000).strftime(\"%Y-%m-%d %H:%M:%S\"))\n",
    "convertion_cal[\"date\"]= pd.to_datetime(convertion_cal[\"ht\"],format=\"%Y-%m-%d %H:%M:%S\").dt.date\n",
    "convertion_cal[\"count\"]=1"
   ]
  },
  {
   "cell_type": "code",
   "execution_count": 38,
   "metadata": {},
   "outputs": [],
   "source": [
    "convertion_cal.drop_duplicates(subset=[\"did\",\"date\"],inplace=True)"
   ]
  },
  {
   "cell_type": "code",
   "execution_count": 39,
   "metadata": {},
   "outputs": [],
   "source": [
    "df_traffic=pd.merge(df_traffic,convertion_cal,how=\"left\",on=[\"did\",\"date\"])"
   ]
  },
  {
   "cell_type": "code",
   "execution_count": 40,
   "metadata": {},
   "outputs": [],
   "source": [
    "#df_traffic[\"count\"].isnull().mean()"
   ]
  },
  {
   "cell_type": "code",
   "execution_count": 41,
   "metadata": {},
   "outputs": [],
   "source": [
    "df_traffic[\"count\"].fillna(0, inplace=True)"
   ]
  },
  {
   "cell_type": "code",
   "execution_count": 42,
   "metadata": {},
   "outputs": [
    {
     "data": {
      "text/plain": [
       "Text(0, 0.5, 'MemberShip percentage')"
      ]
     },
     "execution_count": 42,
     "metadata": {},
     "output_type": "execute_result"
    },
    {
     "data": {
      "image/png": "[encoded data removed]",
      "text/plain": [
       "<Figure size 1440x360 with 3 Axes>"
      ]
     },
     "metadata": {
      "needs_background": "light"
     },
     "output_type": "display_data"
    }
   ],
   "source": [
    "fig, ax = plt.subplots(1,3,figsize=(20,5))\n",
    "\n",
    "sns.barplot(data=df_traffic.groupby(\"dc\")[\"count\"].mean().reset_index(),x=\"dc\",y=\"count\",ax=ax[0])\n",
    "sns.countplot(df_traffic.dc,ax=ax[1])\n",
    "sns.barplot(data=df_traffic.groupby(\"dc\")[\"uid\"].apply(lambda x: x.notnull().mean()).reset_index(),x=\"dc\",y=\"uid\",ax=ax[2])\n",
    "\n",
    "\n",
    "for i in range(3):\n",
    "    ax[i].xaxis.label.set_size(15)\n",
    "    ax[i].yaxis.label.set_size(15)\n",
    "    ax[i].yaxis.set_tick_params(labelsize=15)\n",
    "    ax[i].xaxis.set_tick_params(labelsize=15)\n",
    "ax[0].set_title(label=\"Covertion Rate Between WEB v.s APP\",fontdict={'fontsize':14},y=1.03)\n",
    "ax[1].set_title(label=\"E-commerce platform traffic Between WEB v.s APP\",fontdict={'fontsize':14},y=1.03)\n",
    "ax[2].set_title(label=\"Percentage of MemberShip Between WEB v.s APP\",fontdict={'fontsize':14},y=1.03)\n",
    "ax[0].set_ylabel('percentage', fontsize='medium')\n",
    "ax[2].set_ylabel('MemberShip percentage')"
   ]
  },
  {
   "cell_type": "code",
   "execution_count": 43,
   "metadata": {},
   "outputs": [
    {
     "data": {
      "image/png": "[encoded data removed]",
      "text/plain": [
       "<Figure size 720x360 with 1 Axes>"
      ]
     },
     "metadata": {
      "needs_background": "light"
     },
     "output_type": "display_data"
    }
   ],
   "source": [
    "ad_conversion=df_traffic.groupby(\"cs\")[\"count\"].mean().reset_index().sort_values(\"count\",ascending=False)\n",
    "ad_conversion=ad_conversion[ad_conversion[\"cs\"]!=\"other\"]\n",
    "\n",
    "plt.figure(figsize=(10,5))\n",
    "plt.title('Covertion Rate Between different type of Ad',fontsize = 15)\n",
    "\n",
    "ax=sns.barplot(data=ad_conversion,x=\"cs\",y=\"count\")\n",
    "plt.xlabel('Ad')\n",
    "ax.xaxis.label.set_size(15)\n",
    "ax.yaxis.label.set_size(15)\n",
    "ax.yaxis.set_tick_params(labelsize=12)\n",
    "ax.xaxis.set_tick_params(labelsize=12)"
   ]
  },
  {
   "cell_type": "code",
   "execution_count": 35,
   "metadata": {},
   "outputs": [],
   "source": [
    "####Repurchase prediction"
   ]
  },
  {
   "cell_type": "code",
   "execution_count": 10,
   "metadata": {},
   "outputs": [
    {
     "name": "stdout",
     "output_type": "stream",
     "text": [
      "(16126450, 14)\n"
     ]
    },
    {
     "data": {
      "text/html": [
       "<div>\n",
       "<style scoped>\n",
       "    .dataframe tbody tr th:only-of-type {\n",
       "        vertical-align: middle;\n",
       "    }\n",
       "\n",
       "    .dataframe tbody tr th {\n",
       "        vertical-align: top;\n",
       "    }\n",
       "\n",
       "    .dataframe thead th {\n",
       "        text-align: right;\n",
       "    }\n",
       "</style>\n",
       "<table border=\"1\" class=\"dataframe\">\n",
       "  <thead>\n",
       "    <tr style=\"text-align: right;\">\n",
       "      <th></th>\n",
       "      <th>dc</th>\n",
       "      <th>did</th>\n",
       "      <th>uid</th>\n",
       "      <th>ht</th>\n",
       "      <th>bh</th>\n",
       "      <th>pr</th>\n",
       "      <th>tr</th>\n",
       "      <th>ti</th>\n",
       "      <th>pr1id</th>\n",
       "      <th>pr1pr</th>\n",
       "      <th>pr1qt</th>\n",
       "      <th>cu</th>\n",
       "      <th>date</th>\n",
       "      <th>total</th>\n",
       "    </tr>\n",
       "  </thead>\n",
       "  <tbody>\n",
       "    <tr>\n",
       "      <th>612</th>\n",
       "      <td>app</td>\n",
       "      <td>698276b5-a7e3-4f7b-9422-118f431d3e5d</td>\n",
       "      <td>xCGvjX%2FqPxIzncCrS8kY1iCW7Ah3SEqdVa0qpG68yaA%3D</td>\n",
       "      <td>2018-06-27 02:39:21</td>\n",
       "      <td>viewactivity</td>\n",
       "      <td>NaN</td>\n",
       "      <td>NaN</td>\n",
       "      <td>NaN</td>\n",
       "      <td>NaN</td>\n",
       "      <td>NaN</td>\n",
       "      <td>NaN</td>\n",
       "      <td>NaN</td>\n",
       "      <td>2018-06-27</td>\n",
       "      <td>NaN</td>\n",
       "    </tr>\n",
       "    <tr>\n",
       "      <th>613</th>\n",
       "      <td>app</td>\n",
       "      <td>a244c85e-2cf8-4cbf-9af4-64574e46be82</td>\n",
       "      <td>IbzMz6oLJpDI2dBPhE33jYvOqfMgvqn23Vj7OdYjofg%3D</td>\n",
       "      <td>2018-06-26 19:29:00</td>\n",
       "      <td>viewactivity</td>\n",
       "      <td>3370063.0</td>\n",
       "      <td>NaN</td>\n",
       "      <td>NaN</td>\n",
       "      <td>NaN</td>\n",
       "      <td>NaN</td>\n",
       "      <td>NaN</td>\n",
       "      <td>NaN</td>\n",
       "      <td>2018-06-26</td>\n",
       "      <td>NaN</td>\n",
       "    </tr>\n",
       "    <tr>\n",
       "      <th>614</th>\n",
       "      <td>app</td>\n",
       "      <td>a244c85e-2cf8-4cbf-9af4-64574e46be82</td>\n",
       "      <td>IbzMz6oLJpDI2dBPhE33jYvOqfMgvqn23Vj7OdYjofg%3D</td>\n",
       "      <td>2018-06-26 19:27:47</td>\n",
       "      <td>viewactivity</td>\n",
       "      <td>4394949.0</td>\n",
       "      <td>NaN</td>\n",
       "      <td>NaN</td>\n",
       "      <td>NaN</td>\n",
       "      <td>NaN</td>\n",
       "      <td>NaN</td>\n",
       "      <td>NaN</td>\n",
       "      <td>2018-06-26</td>\n",
       "      <td>NaN</td>\n",
       "    </tr>\n",
       "    <tr>\n",
       "      <th>615</th>\n",
       "      <td>app</td>\n",
       "      <td>a244c85e-2cf8-4cbf-9af4-64574e46be82</td>\n",
       "      <td>IbzMz6oLJpDI2dBPhE33jYvOqfMgvqn23Vj7OdYjofg%3D</td>\n",
       "      <td>2018-06-26 19:27:38</td>\n",
       "      <td>viewactivity</td>\n",
       "      <td>4394949.0</td>\n",
       "      <td>NaN</td>\n",
       "      <td>NaN</td>\n",
       "      <td>NaN</td>\n",
       "      <td>NaN</td>\n",
       "      <td>NaN</td>\n",
       "      <td>NaN</td>\n",
       "      <td>2018-06-26</td>\n",
       "      <td>NaN</td>\n",
       "    </tr>\n",
       "    <tr>\n",
       "      <th>616</th>\n",
       "      <td>app</td>\n",
       "      <td>a244c85e-2cf8-4cbf-9af4-64574e46be82</td>\n",
       "      <td>IbzMz6oLJpDI2dBPhE33jYvOqfMgvqn23Vj7OdYjofg%3D</td>\n",
       "      <td>2018-06-26 19:27:27</td>\n",
       "      <td>viewactivity</td>\n",
       "      <td>4394949.0</td>\n",
       "      <td>NaN</td>\n",
       "      <td>NaN</td>\n",
       "      <td>NaN</td>\n",
       "      <td>NaN</td>\n",
       "      <td>NaN</td>\n",
       "      <td>NaN</td>\n",
       "      <td>2018-06-26</td>\n",
       "      <td>NaN</td>\n",
       "    </tr>\n",
       "  </tbody>\n",
       "</table>\n",
       "</div>"
      ],
      "text/plain": [
       "      dc                                   did  \\\n",
       "612  app  698276b5-a7e3-4f7b-9422-118f431d3e5d   \n",
       "613  app  a244c85e-2cf8-4cbf-9af4-64574e46be82   \n",
       "614  app  a244c85e-2cf8-4cbf-9af4-64574e46be82   \n",
       "615  app  a244c85e-2cf8-4cbf-9af4-64574e46be82   \n",
       "616  app  a244c85e-2cf8-4cbf-9af4-64574e46be82   \n",
       "\n",
       "                                                  uid                   ht  \\\n",
       "612  xCGvjX%2FqPxIzncCrS8kY1iCW7Ah3SEqdVa0qpG68yaA%3D  2018-06-27 02:39:21   \n",
       "613    IbzMz6oLJpDI2dBPhE33jYvOqfMgvqn23Vj7OdYjofg%3D  2018-06-26 19:29:00   \n",
       "614    IbzMz6oLJpDI2dBPhE33jYvOqfMgvqn23Vj7OdYjofg%3D  2018-06-26 19:27:47   \n",
       "615    IbzMz6oLJpDI2dBPhE33jYvOqfMgvqn23Vj7OdYjofg%3D  2018-06-26 19:27:38   \n",
       "616    IbzMz6oLJpDI2dBPhE33jYvOqfMgvqn23Vj7OdYjofg%3D  2018-06-26 19:27:27   \n",
       "\n",
       "               bh         pr  tr   ti  pr1id  pr1pr  pr1qt   cu        date  \\\n",
       "612  viewactivity        NaN NaN  NaN    NaN    NaN    NaN  NaN  2018-06-27   \n",
       "613  viewactivity  3370063.0 NaN  NaN    NaN    NaN    NaN  NaN  2018-06-26   \n",
       "614  viewactivity  4394949.0 NaN  NaN    NaN    NaN    NaN  NaN  2018-06-26   \n",
       "615  viewactivity  4394949.0 NaN  NaN    NaN    NaN    NaN  NaN  2018-06-26   \n",
       "616  viewactivity  4394949.0 NaN  NaN    NaN    NaN    NaN  NaN  2018-06-26   \n",
       "\n",
       "     total  \n",
       "612    NaN  \n",
       "613    NaN  \n",
       "614    NaN  \n",
       "615    NaN  \n",
       "616    NaN  "
      ]
     },
     "execution_count": 10,
     "metadata": {},
     "output_type": "execute_result"
    }
   ],
   "source": [
    "container=[]\n",
    "behavior=['activityPageView',\n",
    " 'categoryPageView',\n",
    " 'mainPageView',\n",
    " 'purchase',\n",
    " 'search',\n",
    " 'productPageView',\n",
    " 'checkout',\n",
    " 'addToCart']\n",
    "for action in behavior:\n",
    "    length=len(datalists[action])\n",
    "    container.extend([pd.read_csv(os.path.join(\"123_new\",datalists[action][i]),low_memory = True) for i in range(length)])\n",
    "df_big=pd.concat(container,axis=0)\n",
    "df_big.dropna(subset=[\"uid\"],inplace=True)\n",
    "df_big.drop([\"mid\",\"ul\",\"geoid\"],axis=1,inplace=True)\n",
    "df_big[\"ht\"]=df_big[\"ht\"].apply(lambda x:datetime.datetime.fromtimestamp(int(x) / 1000).strftime(\"%Y-%m-%d %H:%M:%S\"))\n",
    "df_big[\"date\"]= pd.to_datetime(df_big.ht,format=\"%Y-%m-%d %H:%M:%S\").dt.date\n",
    "df_big[\"total\"]=df_big[\"pr1pr\"]*df_big[\"pr1qt\"]\n",
    "df_big.drop_duplicates(inplace=True)\n",
    "print(df_big.shape)\n",
    "df_big.head()"
   ]
  },
  {
   "cell_type": "code",
   "execution_count": 11,
   "metadata": {},
   "outputs": [],
   "source": [
    "uid_with_date=df_big.groupby([\"uid\",\"date\"]).size().index"
   ]
  },
  {
   "cell_type": "code",
   "execution_count": 12,
   "metadata": {},
   "outputs": [
    {
     "name": "stdout",
     "output_type": "stream",
     "text": [
      "(2065128,)\n"
     ]
    }
   ],
   "source": [
    "browse_data=[]\n",
    "user_date_mapping=dict()\n",
    "print(uid_with_date.shape)"
   ]
  },
  {
   "cell_type": "code",
   "execution_count": 13,
   "metadata": {},
   "outputs": [
    {
     "name": "stdout",
     "output_type": "stream",
     "text": [
      "1.56 s ± 8.84 ms per loop (mean ± std. dev. of 7 runs, 1 loop each)\n",
      "1.8 s ± 105 ms per loop (mean ± std. dev. of 7 runs, 1 loop each)\n",
      "142 ms ± 7.69 ms per loop (mean ± std. dev. of 7 runs, 1 loop each)\n",
      "1.33 ms ± 344 µs per loop (mean ± std. dev. of 7 runs, 1 loop each)\n"
     ]
    }
   ],
   "source": [
    "%timeit df_big[(df_big[\"uid\"]==uid_with_date[0][0])  & (df_big[\"date\"]==uid_with_date[0][1])]\n",
    "df_big.set_index(\"uid\",inplace=True)\n",
    "%timeit  df_big.loc[(df_big.index==uid_with_date[0][0])&(df_big.date==uid_with_date[0][1]) ]\n",
    "df_big.reset_index(inplace=True)\n",
    "df_big.set_index([\"uid\",\"date\"],inplace=True)\n",
    "%timeit  df_big.loc[(uid_with_date[0][0],str(uid_with_date[0][1]))]\n",
    "df_big.sort_index(inplace=True)\n",
    "%timeit  df_big.loc[(uid_with_date[0][0],str(uid_with_date[0][1]))]"
   ]
  },
  {
   "cell_type": "code",
   "execution_count": 15,
   "metadata": {},
   "outputs": [
    {
     "name": "stdout",
     "output_type": "stream",
     "text": [
      "377 µs ± 8.87 µs per loop (mean ± std. dev. of 7 runs, 1000 loops each)\n",
      "301 µs ± 11.6 µs per loop (mean ± std. dev. of 7 runs, 1000 loops each)\n"
     ]
    }
   ],
   "source": [
    "test_speed=  df_big.loc[(uid_with_date[0][0],str(uid_with_date[0][1]))]\n",
    "%timeit  test_speed[test_speed[\"bh\"]==\"add\"][\"pr1id\"].values\n",
    "test_speed.reset_index(inplace=True)\n",
    "test_speed.set_index(\"bh\",inplace=True)\n",
    "test_speed.sort_index(inplace=True)\n",
    "%timeit  test_speed[ (test_speed.index ==\"add\")][\"pr1id\"].values"
   ]
  },
  {
   "cell_type": "code",
   "execution_count": null,
   "metadata": {},
   "outputs": [],
   "source": []
  },
  {
   "cell_type": "code",
   "execution_count": 30,
   "metadata": {},
   "outputs": [],
   "source": [
    "user_date_mapping=dict()"
   ]
  },
  {
   "cell_type": "code",
   "execution_count": 31,
   "metadata": {},
   "outputs": [],
   "source": [
    "###############################"
   ]
  },
  {
   "cell_type": "code",
   "execution_count": 32,
   "metadata": {},
   "outputs": [],
   "source": [
    "for record in uid_with_date:\n",
    "    ud=[]\n",
    "    data = df_big.loc[(record[0],str(record[1]))]\n",
    "\n",
    "    bt=data[\"bh\"].value_counts().to_dict()\n",
    "    bh_value = data[\"bh\"].values\n",
    "    \n",
    "    \n",
    "    data.reset_index(inplace=True)\n",
    "    data.set_index(\"bh\",inplace=True)\n",
    "    data.sort_index(inplace=True)\n",
    "    \n",
    "    ###search 次數\n",
    "    ###重複搜索次數\n",
    "    if \"search\" in bh_value:\n",
    "        ud.append(bt[\"search\"])\n",
    "        sub_data=data[data.index ==\"serach\"][\"pr\"].values \n",
    "        ud.append(len(sub_data)-len(set(sub_data)))\n",
    "    else:\n",
    "        ud.append(0)\n",
    "        ud.append(0)\n",
    "        \n",
    "    ###viewmainpage  點擊次數\n",
    "    if \"viewmainpage\" in bh_value:\n",
    "        ud.append(bt[\"viewmainpage\"])\n",
    "    else:\n",
    "        ud.append(0)\n",
    "    ###viewactivity 點擊次數\n",
    "    if \"viewactivity\" in bh_value:\n",
    "        ud.append(bt[\"viewactivity\"])\n",
    "    else:\n",
    "        ud.append(0)\n",
    "\n",
    "    ###viewproduct  瀏覽幾樣商品(不重複)\n",
    "    ###重複瀏覽次數\n",
    "    if \"viewproduct\" in bh_value:\n",
    "\n",
    "        sub_data=data[data.index ==\"viewproduct\"][\"pr1id\"].values \n",
    "\n",
    "        ud.append(len(set(sub_data)))\n",
    "        ud.append(len(sub_data)-len(set(sub_data)))\n",
    "    else:\n",
    "        ud.append(0)\n",
    "        ud.append(0)\n",
    "   \n",
    "    ###viewcategory 點擊次數\n",
    "    ###viewcategory 行為參數種類\n",
    "    if \"viewcategory\" in bh_value:\n",
    "        ud.append(bt[\"viewcategory\"])\n",
    "        sub_data=data[data.index ==\"viewcategory\"][\"pr\"].values \n",
    "        ud.append(len(set(sub_data)))\n",
    "    else:\n",
    "        ud.append(0)\n",
    "        ud.append(0)\n",
    "        \n",
    "        \n",
    "    ###add to cart 次數\n",
    "    if \"add\" in bh_value:\n",
    "        ud.append(bt[\"add\"])\n",
    "        ###add to cart 時重複商品次數(移入又移除商品)\n",
    "        sub_data= data[data.index ==\"add\"][\"pr1id\"].values\n",
    "        if len(sub_data)==len(set(sub_data)):  ###無重複商品\n",
    "            ud.append(0) \n",
    "        else:\n",
    "            ud.append(len(sub_data)-len(set(sub_data)))    \n",
    "    else:\n",
    "        ud.append(0)\n",
    "        ud.append(0)\n",
    "   \n",
    "    ###是否有purchase 行為 \n",
    "    if \"purchase\" in bh_value:\n",
    "        ud.append(data[data.index ==\"purchase\"][\"total\"].sum())\n",
    "    else:\n",
    "        ud.append(0)\n",
    "\n",
    "    ###當日瀏覽行為開始和結束時間差\n",
    "    minn= pd.to_datetime(data[\"ht\"].min())\n",
    "    maxx= pd.to_datetime(data[\"ht\"].max())\n",
    "    delta = (maxx-minn).total_seconds()\n",
    "    ud.append(delta)\n",
    "\n",
    "    user_date_mapping[record[0]+\" \"+str(record[1])]=ud\n"
   ]
  },
  {
   "cell_type": "code",
   "execution_count": 33,
   "metadata": {},
   "outputs": [],
   "source": [
    "#### behavior cluster"
   ]
  },
  {
   "cell_type": "code",
   "execution_count": 34,
   "metadata": {},
   "outputs": [],
   "source": [
    "#user_date_mapping"
   ]
  },
  {
   "cell_type": "code",
   "execution_count": 49,
   "metadata": {},
   "outputs": [],
   "source": [
    "import pickle\n",
    "#import lux\n",
    "#with open(\"user_date_map.pkl\", \"wb\") as f:\n",
    " #     pickle.dump(user_date_mapping,f)"
   ]
  },
  {
   "cell_type": "code",
   "execution_count": 50,
   "metadata": {},
   "outputs": [],
   "source": [
    "with open(\"user_date_map.pkl\", \"rb\") as f:\n",
    "     user_date_mapping = pickle.load(f)"
   ]
  },
  {
   "cell_type": "code",
   "execution_count": 51,
   "metadata": {},
   "outputs": [
    {
     "data": {
      "text/html": [
       "<div>\n",
       "<style scoped>\n",
       "    .dataframe tbody tr th:only-of-type {\n",
       "        vertical-align: middle;\n",
       "    }\n",
       "\n",
       "    .dataframe tbody tr th {\n",
       "        vertical-align: top;\n",
       "    }\n",
       "\n",
       "    .dataframe thead th {\n",
       "        text-align: right;\n",
       "    }\n",
       "</style>\n",
       "<table border=\"1\" class=\"dataframe\">\n",
       "  <thead>\n",
       "    <tr style=\"text-align: right;\">\n",
       "      <th></th>\n",
       "      <th>search count</th>\n",
       "      <th>duplicate search count</th>\n",
       "      <th>click count(viewmainpage)</th>\n",
       "      <th>click count(viewactivity)</th>\n",
       "      <th>No. products viewed</th>\n",
       "      <th>repeat views count</th>\n",
       "      <th>click count(viewcategory)</th>\n",
       "      <th>viewcategory parm</th>\n",
       "      <th>click count(add)</th>\n",
       "      <th>cart duplicate item count</th>\n",
       "      <th>purchase</th>\n",
       "      <th>time_diff</th>\n",
       "    </tr>\n",
       "  </thead>\n",
       "  <tbody>\n",
       "    <tr>\n",
       "      <th>%2B%2B%2FsALKlNdkh585nb%2F9geIrN84FIZZLkD8qf909HvCU%3D 2019-06-25</th>\n",
       "      <td>0</td>\n",
       "      <td>0</td>\n",
       "      <td>5</td>\n",
       "      <td>0</td>\n",
       "      <td>9</td>\n",
       "      <td>4</td>\n",
       "      <td>10</td>\n",
       "      <td>6</td>\n",
       "      <td>1</td>\n",
       "      <td>0</td>\n",
       "      <td>0.0</td>\n",
       "      <td>30396.0</td>\n",
       "    </tr>\n",
       "    <tr>\n",
       "      <th>%2B%2B%2FsALKlNdkh585nb%2F9geIrN84FIZZLkD8qf909HvCU%3D 2019-06-26</th>\n",
       "      <td>0</td>\n",
       "      <td>0</td>\n",
       "      <td>13</td>\n",
       "      <td>4</td>\n",
       "      <td>9</td>\n",
       "      <td>2</td>\n",
       "      <td>7</td>\n",
       "      <td>6</td>\n",
       "      <td>2</td>\n",
       "      <td>0</td>\n",
       "      <td>0.0</td>\n",
       "      <td>1950.0</td>\n",
       "    </tr>\n",
       "    <tr>\n",
       "      <th>%2B%2B%2FsALKlNdkh585nb%2F9geIrN84FIZZLkD8qf909HvCU%3D 2019-06-27</th>\n",
       "      <td>0</td>\n",
       "      <td>0</td>\n",
       "      <td>2</td>\n",
       "      <td>0</td>\n",
       "      <td>0</td>\n",
       "      <td>0</td>\n",
       "      <td>0</td>\n",
       "      <td>0</td>\n",
       "      <td>0</td>\n",
       "      <td>0</td>\n",
       "      <td>0.0</td>\n",
       "      <td>1.0</td>\n",
       "    </tr>\n",
       "    <tr>\n",
       "      <th>%2B%2B%2FsALKlNdkh585nb%2F9geIrN84FIZZLkD8qf909HvCU%3D 2019-06-28</th>\n",
       "      <td>0</td>\n",
       "      <td>0</td>\n",
       "      <td>11</td>\n",
       "      <td>0</td>\n",
       "      <td>2</td>\n",
       "      <td>1</td>\n",
       "      <td>1</td>\n",
       "      <td>1</td>\n",
       "      <td>0</td>\n",
       "      <td>0</td>\n",
       "      <td>0.0</td>\n",
       "      <td>1696.0</td>\n",
       "    </tr>\n",
       "    <tr>\n",
       "      <th>%2B%2B%2FsALKlNdkh585nb%2F9geIrN84FIZZLkD8qf909HvCU%3D 2019-07-03</th>\n",
       "      <td>0</td>\n",
       "      <td>0</td>\n",
       "      <td>5</td>\n",
       "      <td>0</td>\n",
       "      <td>3</td>\n",
       "      <td>0</td>\n",
       "      <td>1</td>\n",
       "      <td>1</td>\n",
       "      <td>0</td>\n",
       "      <td>0</td>\n",
       "      <td>0.0</td>\n",
       "      <td>26170.0</td>\n",
       "    </tr>\n",
       "  </tbody>\n",
       "</table>\n",
       "</div>"
      ],
      "text/plain": [
       "                                                    search count  \\\n",
       "%2B%2B%2FsALKlNdkh585nb%2F9geIrN84FIZZLkD8qf909...             0   \n",
       "%2B%2B%2FsALKlNdkh585nb%2F9geIrN84FIZZLkD8qf909...             0   \n",
       "%2B%2B%2FsALKlNdkh585nb%2F9geIrN84FIZZLkD8qf909...             0   \n",
       "%2B%2B%2FsALKlNdkh585nb%2F9geIrN84FIZZLkD8qf909...             0   \n",
       "%2B%2B%2FsALKlNdkh585nb%2F9geIrN84FIZZLkD8qf909...             0   \n",
       "\n",
       "                                                    duplicate search count  \\\n",
       "%2B%2B%2FsALKlNdkh585nb%2F9geIrN84FIZZLkD8qf909...                       0   \n",
       "%2B%2B%2FsALKlNdkh585nb%2F9geIrN84FIZZLkD8qf909...                       0   \n",
       "%2B%2B%2FsALKlNdkh585nb%2F9geIrN84FIZZLkD8qf909...                       0   \n",
       "%2B%2B%2FsALKlNdkh585nb%2F9geIrN84FIZZLkD8qf909...                       0   \n",
       "%2B%2B%2FsALKlNdkh585nb%2F9geIrN84FIZZLkD8qf909...                       0   \n",
       "\n",
       "                                                    click count(viewmainpage)  \\\n",
       "%2B%2B%2FsALKlNdkh585nb%2F9geIrN84FIZZLkD8qf909...                          5   \n",
       "%2B%2B%2FsALKlNdkh585nb%2F9geIrN84FIZZLkD8qf909...                         13   \n",
       "%2B%2B%2FsALKlNdkh585nb%2F9geIrN84FIZZLkD8qf909...                          2   \n",
       "%2B%2B%2FsALKlNdkh585nb%2F9geIrN84FIZZLkD8qf909...                         11   \n",
       "%2B%2B%2FsALKlNdkh585nb%2F9geIrN84FIZZLkD8qf909...                          5   \n",
       "\n",
       "                                                    click count(viewactivity)  \\\n",
       "%2B%2B%2FsALKlNdkh585nb%2F9geIrN84FIZZLkD8qf909...                          0   \n",
       "%2B%2B%2FsALKlNdkh585nb%2F9geIrN84FIZZLkD8qf909...                          4   \n",
       "%2B%2B%2FsALKlNdkh585nb%2F9geIrN84FIZZLkD8qf909...                          0   \n",
       "%2B%2B%2FsALKlNdkh585nb%2F9geIrN84FIZZLkD8qf909...                          0   \n",
       "%2B%2B%2FsALKlNdkh585nb%2F9geIrN84FIZZLkD8qf909...                          0   \n",
       "\n",
       "                                                    No. products viewed  \\\n",
       "%2B%2B%2FsALKlNdkh585nb%2F9geIrN84FIZZLkD8qf909...                    9   \n",
       "%2B%2B%2FsALKlNdkh585nb%2F9geIrN84FIZZLkD8qf909...                    9   \n",
       "%2B%2B%2FsALKlNdkh585nb%2F9geIrN84FIZZLkD8qf909...                    0   \n",
       "%2B%2B%2FsALKlNdkh585nb%2F9geIrN84FIZZLkD8qf909...                    2   \n",
       "%2B%2B%2FsALKlNdkh585nb%2F9geIrN84FIZZLkD8qf909...                    3   \n",
       "\n",
       "                                                    repeat views count  \\\n",
       "%2B%2B%2FsALKlNdkh585nb%2F9geIrN84FIZZLkD8qf909...                   4   \n",
       "%2B%2B%2FsALKlNdkh585nb%2F9geIrN84FIZZLkD8qf909...                   2   \n",
       "%2B%2B%2FsALKlNdkh585nb%2F9geIrN84FIZZLkD8qf909...                   0   \n",
       "%2B%2B%2FsALKlNdkh585nb%2F9geIrN84FIZZLkD8qf909...                   1   \n",
       "%2B%2B%2FsALKlNdkh585nb%2F9geIrN84FIZZLkD8qf909...                   0   \n",
       "\n",
       "                                                    click count(viewcategory)  \\\n",
       "%2B%2B%2FsALKlNdkh585nb%2F9geIrN84FIZZLkD8qf909...                         10   \n",
       "%2B%2B%2FsALKlNdkh585nb%2F9geIrN84FIZZLkD8qf909...                          7   \n",
       "%2B%2B%2FsALKlNdkh585nb%2F9geIrN84FIZZLkD8qf909...                          0   \n",
       "%2B%2B%2FsALKlNdkh585nb%2F9geIrN84FIZZLkD8qf909...                          1   \n",
       "%2B%2B%2FsALKlNdkh585nb%2F9geIrN84FIZZLkD8qf909...                          1   \n",
       "\n",
       "                                                    viewcategory parm  \\\n",
       "%2B%2B%2FsALKlNdkh585nb%2F9geIrN84FIZZLkD8qf909...                  6   \n",
       "%2B%2B%2FsALKlNdkh585nb%2F9geIrN84FIZZLkD8qf909...                  6   \n",
       "%2B%2B%2FsALKlNdkh585nb%2F9geIrN84FIZZLkD8qf909...                  0   \n",
       "%2B%2B%2FsALKlNdkh585nb%2F9geIrN84FIZZLkD8qf909...                  1   \n",
       "%2B%2B%2FsALKlNdkh585nb%2F9geIrN84FIZZLkD8qf909...                  1   \n",
       "\n",
       "                                                    click count(add)  \\\n",
       "%2B%2B%2FsALKlNdkh585nb%2F9geIrN84FIZZLkD8qf909...                 1   \n",
       "%2B%2B%2FsALKlNdkh585nb%2F9geIrN84FIZZLkD8qf909...                 2   \n",
       "%2B%2B%2FsALKlNdkh585nb%2F9geIrN84FIZZLkD8qf909...                 0   \n",
       "%2B%2B%2FsALKlNdkh585nb%2F9geIrN84FIZZLkD8qf909...                 0   \n",
       "%2B%2B%2FsALKlNdkh585nb%2F9geIrN84FIZZLkD8qf909...                 0   \n",
       "\n",
       "                                                    cart duplicate item count  \\\n",
       "%2B%2B%2FsALKlNdkh585nb%2F9geIrN84FIZZLkD8qf909...                          0   \n",
       "%2B%2B%2FsALKlNdkh585nb%2F9geIrN84FIZZLkD8qf909...                          0   \n",
       "%2B%2B%2FsALKlNdkh585nb%2F9geIrN84FIZZLkD8qf909...                          0   \n",
       "%2B%2B%2FsALKlNdkh585nb%2F9geIrN84FIZZLkD8qf909...                          0   \n",
       "%2B%2B%2FsALKlNdkh585nb%2F9geIrN84FIZZLkD8qf909...                          0   \n",
       "\n",
       "                                                    purchase  time_diff  \n",
       "%2B%2B%2FsALKlNdkh585nb%2F9geIrN84FIZZLkD8qf909...       0.0    30396.0  \n",
       "%2B%2B%2FsALKlNdkh585nb%2F9geIrN84FIZZLkD8qf909...       0.0     1950.0  \n",
       "%2B%2B%2FsALKlNdkh585nb%2F9geIrN84FIZZLkD8qf909...       0.0        1.0  \n",
       "%2B%2B%2FsALKlNdkh585nb%2F9geIrN84FIZZLkD8qf909...       0.0     1696.0  \n",
       "%2B%2B%2FsALKlNdkh585nb%2F9geIrN84FIZZLkD8qf909...       0.0    26170.0  "
      ]
     },
     "execution_count": 51,
     "metadata": {},
     "output_type": "execute_result"
    }
   ],
   "source": [
    "user_date_mapping=pd.DataFrame.from_dict(user_date_mapping, orient='index',\n",
    "                                        columns=[\"search count\",\"duplicate search count\",\"click count(viewmainpage)\",\n",
    "                                                \"click count(viewactivity)\",\"No. products viewed\",\"repeat views count\",\n",
    "                                                 \"click count(viewcategory)\",\"viewcategory parm\",\"click count(add)\",\n",
    "                                                  \"cart duplicate item count\",\"purchase\",\"time_diff\"])\n",
    "user_date_mapping.head()"
   ]
  },
  {
   "cell_type": "code",
   "execution_count": 52,
   "metadata": {},
   "outputs": [],
   "source": [
    "from sklearn.preprocessing import StandardScaler\n",
    "from sklearn.cluster import KMeans\n",
    "\n",
    "x_scale=StandardScaler().fit_transform(user_date_mapping)"
   ]
  },
  {
   "cell_type": "code",
   "execution_count": 53,
   "metadata": {},
   "outputs": [],
   "source": [
    "######## no-elbow-point\n",
    "#sse = {}\n",
    "#for k in range(2, 11):\n",
    " #   kmeans = KMeans(n_clusters=k, random_state=1)\n",
    " #   kmeans.fit(x_scale)\n",
    " #   sse[k] = kmeans.inertia_ # sum of squared distances to closest cluster cente\n",
    "# Plot SSE for each *k*\n",
    "#plt.title('The Elbow Method')\n",
    "#plt.xlabel('k'); plt.ylabel('SSE')\n",
    "#sns.pointplot(x=list(sse.keys()), y=list(sse.values()))\n",
    "#plt.show()"
   ]
  },
  {
   "cell_type": "code",
   "execution_count": 54,
   "metadata": {},
   "outputs": [
    {
     "data": {
      "text/plain": [
       "KMeans(n_clusters=4, random_state=1)"
      ]
     },
     "execution_count": 54,
     "metadata": {},
     "output_type": "execute_result"
    }
   ],
   "source": [
    "kmeans = KMeans(n_clusters=4, random_state=1)\n",
    "kmeans.fit(x_scale)"
   ]
  },
  {
   "cell_type": "code",
   "execution_count": 55,
   "metadata": {},
   "outputs": [],
   "source": [
    "user_date_mapping[\"is_purchase\"]=user_date_mapping[\"purchase\"].apply(lambda x:1 if x>0 else 0)\n",
    "user_date_mapping.drop([\"purchase\",\"duplicate search count\"],axis=1,inplace=True)\n",
    "user_date_mapping[\"label\"]=kmeans.labels_"
   ]
  },
  {
   "cell_type": "code",
   "execution_count": 56,
   "metadata": {},
   "outputs": [
    {
     "data": {
      "text/html": [
       "<div>\n",
       "<style scoped>\n",
       "    .dataframe tbody tr th:only-of-type {\n",
       "        vertical-align: middle;\n",
       "    }\n",
       "\n",
       "    .dataframe tbody tr th {\n",
       "        vertical-align: top;\n",
       "    }\n",
       "\n",
       "    .dataframe thead th {\n",
       "        text-align: right;\n",
       "    }\n",
       "</style>\n",
       "<table border=\"1\" class=\"dataframe\">\n",
       "  <thead>\n",
       "    <tr style=\"text-align: right;\">\n",
       "      <th></th>\n",
       "      <th>search count</th>\n",
       "      <th>click count(viewmainpage)</th>\n",
       "      <th>click count(viewactivity)</th>\n",
       "      <th>No. products viewed</th>\n",
       "      <th>repeat views count</th>\n",
       "      <th>click count(viewcategory)</th>\n",
       "      <th>viewcategory parm</th>\n",
       "      <th>click count(add)</th>\n",
       "      <th>cart duplicate item count</th>\n",
       "      <th>time_diff</th>\n",
       "      <th>is_purchase</th>\n",
       "    </tr>\n",
       "    <tr>\n",
       "      <th>label</th>\n",
       "      <th></th>\n",
       "      <th></th>\n",
       "      <th></th>\n",
       "      <th></th>\n",
       "      <th></th>\n",
       "      <th></th>\n",
       "      <th></th>\n",
       "      <th></th>\n",
       "      <th></th>\n",
       "      <th></th>\n",
       "      <th></th>\n",
       "    </tr>\n",
       "  </thead>\n",
       "  <tbody>\n",
       "    <tr>\n",
       "      <th>0</th>\n",
       "      <td>1.487927</td>\n",
       "      <td>2.175095</td>\n",
       "      <td>1.387789</td>\n",
       "      <td>2.190371</td>\n",
       "      <td>1.677888</td>\n",
       "      <td>1.955863</td>\n",
       "      <td>1.582165</td>\n",
       "      <td>1.409309</td>\n",
       "      <td>1.060098</td>\n",
       "      <td>2516.063684</td>\n",
       "      <td>0.027661</td>\n",
       "    </tr>\n",
       "    <tr>\n",
       "      <th>1</th>\n",
       "      <td>2.225217</td>\n",
       "      <td>6.083657</td>\n",
       "      <td>2.400940</td>\n",
       "      <td>6.577787</td>\n",
       "      <td>3.549310</td>\n",
       "      <td>6.194788</td>\n",
       "      <td>3.957148</td>\n",
       "      <td>2.034119</td>\n",
       "      <td>1.073253</td>\n",
       "      <td>25275.363117</td>\n",
       "      <td>0.153149</td>\n",
       "    </tr>\n",
       "    <tr>\n",
       "      <th>2</th>\n",
       "      <td>3.443827</td>\n",
       "      <td>11.319336</td>\n",
       "      <td>4.054371</td>\n",
       "      <td>20.732468</td>\n",
       "      <td>15.132135</td>\n",
       "      <td>18.313287</td>\n",
       "      <td>8.116592</td>\n",
       "      <td>5.975208</td>\n",
       "      <td>2.028372</td>\n",
       "      <td>29005.860791</td>\n",
       "      <td>0.450825</td>\n",
       "    </tr>\n",
       "    <tr>\n",
       "      <th>3</th>\n",
       "      <td>58.708752</td>\n",
       "      <td>6.863112</td>\n",
       "      <td>2.023923</td>\n",
       "      <td>62.438218</td>\n",
       "      <td>21.139769</td>\n",
       "      <td>14.701016</td>\n",
       "      <td>12.507983</td>\n",
       "      <td>2.323232</td>\n",
       "      <td>2.000000</td>\n",
       "      <td>36721.647059</td>\n",
       "      <td>0.004304</td>\n",
       "    </tr>\n",
       "  </tbody>\n",
       "</table>\n",
       "</div>"
      ],
      "text/plain": [
       "       search count  click count(viewmainpage)  click count(viewactivity)  \\\n",
       "label                                                                       \n",
       "0          1.487927                   2.175095                   1.387789   \n",
       "1          2.225217                   6.083657                   2.400940   \n",
       "2          3.443827                  11.319336                   4.054371   \n",
       "3         58.708752                   6.863112                   2.023923   \n",
       "\n",
       "       No. products viewed  repeat views count  click count(viewcategory)  \\\n",
       "label                                                                       \n",
       "0                 2.190371            1.677888                   1.955863   \n",
       "1                 6.577787            3.549310                   6.194788   \n",
       "2                20.732468           15.132135                  18.313287   \n",
       "3                62.438218           21.139769                  14.701016   \n",
       "\n",
       "       viewcategory parm  click count(add)  cart duplicate item count  \\\n",
       "label                                                                   \n",
       "0               1.582165          1.409309                   1.060098   \n",
       "1               3.957148          2.034119                   1.073253   \n",
       "2               8.116592          5.975208                   2.028372   \n",
       "3              12.507983          2.323232                   2.000000   \n",
       "\n",
       "          time_diff  is_purchase  \n",
       "label                             \n",
       "0       2516.063684     0.027661  \n",
       "1      25275.363117     0.153149  \n",
       "2      29005.860791     0.450825  \n",
       "3      36721.647059     0.004304  "
      ]
     },
     "execution_count": 56,
     "metadata": {},
     "output_type": "execute_result"
    }
   ],
   "source": [
    "user_date_mapping[user_date_mapping.columns[:-2]]=user_date_mapping[user_date_mapping.columns[:-2]].replace(0,np.NaN)\n",
    "user_date_mapping.groupby(\"label\").mean()"
   ]
  },
  {
   "cell_type": "code",
   "execution_count": 57,
   "metadata": {},
   "outputs": [
    {
     "data": {
      "text/html": [
       "<div>\n",
       "<style scoped>\n",
       "    .dataframe tbody tr th:only-of-type {\n",
       "        vertical-align: middle;\n",
       "    }\n",
       "\n",
       "    .dataframe tbody tr th {\n",
       "        vertical-align: top;\n",
       "    }\n",
       "\n",
       "    .dataframe thead th {\n",
       "        text-align: right;\n",
       "    }\n",
       "</style>\n",
       "<table border=\"1\" class=\"dataframe\">\n",
       "  <thead>\n",
       "    <tr style=\"text-align: right;\">\n",
       "      <th></th>\n",
       "      <th>user</th>\n",
       "      <th>label</th>\n",
       "    </tr>\n",
       "    <tr>\n",
       "      <th>Date</th>\n",
       "      <th></th>\n",
       "      <th></th>\n",
       "    </tr>\n",
       "  </thead>\n",
       "  <tbody>\n",
       "    <tr>\n",
       "      <th>2019-06-25</th>\n",
       "      <td>%2B%2B%2FsALKlNdkh585nb%2F9geIrN84FIZZLkD8qf90...</td>\n",
       "      <td>1</td>\n",
       "    </tr>\n",
       "    <tr>\n",
       "      <th>2019-06-26</th>\n",
       "      <td>%2B%2B%2FsALKlNdkh585nb%2F9geIrN84FIZZLkD8qf90...</td>\n",
       "      <td>1</td>\n",
       "    </tr>\n",
       "    <tr>\n",
       "      <th>2019-06-27</th>\n",
       "      <td>%2B%2B%2FsALKlNdkh585nb%2F9geIrN84FIZZLkD8qf90...</td>\n",
       "      <td>0</td>\n",
       "    </tr>\n",
       "    <tr>\n",
       "      <th>2019-06-28</th>\n",
       "      <td>%2B%2B%2FsALKlNdkh585nb%2F9geIrN84FIZZLkD8qf90...</td>\n",
       "      <td>0</td>\n",
       "    </tr>\n",
       "    <tr>\n",
       "      <th>2019-07-03</th>\n",
       "      <td>%2B%2B%2FsALKlNdkh585nb%2F9geIrN84FIZZLkD8qf90...</td>\n",
       "      <td>0</td>\n",
       "    </tr>\n",
       "  </tbody>\n",
       "</table>\n",
       "</div>"
      ],
      "text/plain": [
       "                                                         user  label\n",
       "Date                                                                \n",
       "2019-06-25  %2B%2B%2FsALKlNdkh585nb%2F9geIrN84FIZZLkD8qf90...      1\n",
       "2019-06-26  %2B%2B%2FsALKlNdkh585nb%2F9geIrN84FIZZLkD8qf90...      1\n",
       "2019-06-27  %2B%2B%2FsALKlNdkh585nb%2F9geIrN84FIZZLkD8qf90...      0\n",
       "2019-06-28  %2B%2B%2FsALKlNdkh585nb%2F9geIrN84FIZZLkD8qf90...      0\n",
       "2019-07-03  %2B%2B%2FsALKlNdkh585nb%2F9geIrN84FIZZLkD8qf90...      0"
      ]
     },
     "execution_count": 57,
     "metadata": {},
     "output_type": "execute_result"
    }
   ],
   "source": [
    "online=online[online[\"buying type\"]!=\"offline shopping\"]\n",
    "user_date_mapping[\"user\"]=user_date_mapping.index.to_series().str.split(\" \").apply(lambda x:x[0])\n",
    "user_date_mapping[\"Date\"]=user_date_mapping.index.to_series().str.split(\" \").apply(lambda x:x[1])\n",
    "user_date_mapping[\"Date\"]=pd.to_datetime(user_date_mapping.Date,format=\"%Y-%m-%d\").dt.date\n",
    "user_date_mapping=user_date_mapping.reset_index()[[\"user\",\"Date\",\"label\"]].set_index(\"Date\")\n",
    "user_date_mapping.head()"
   ]
  },
  {
   "cell_type": "code",
   "execution_count": 141,
   "metadata": {},
   "outputs": [],
   "source": [
    "def rfm(data,customer,date):\n",
    "\n",
    "    data = data[ (data[\"TradesIndex\"]<date) & (data[\"MemberID\"].isin(customer))]\n",
    "    \n",
    "    rfm  = data.groupby([\"MemberID\",\"TradesDate\"])[\"TotalSalesAmount\"].sum().reset_index(name='TotalSalesAmount') \\\n",
    "                             .sort_values(['TotalSalesAmount'], ascending=False)\n",
    "    \n",
    "    rfm  = rfm.groupby(\"MemberID\").agg({\n",
    "'TradesDate': lambda x: (pd.to_datetime(date)-pd.to_datetime(x).max()).days,'TotalSalesAmount': 'sum','MemberID':'size'})\n",
    "    rfm =rfm.sort_index()\n",
    "    return rfm\n",
    "def behavior_count(data,customer,date):\n",
    "    date_1 = pd.to_datetime(date)-timedelta(days=90)\n",
    "    date_2 = pd.to_datetime(date)-timedelta(days=180)\n",
    "    type_1 = data[(data.index < pd.to_datetime(date)) & (data.index>=date_1) & (data.user.isin(customer))]\n",
    "    type_2 = data[(data.index < date_1) & (data.index>=date_2) & (data.user.isin(customer))]\n",
    "    d_1 = pd.crosstab(type_1[\"user\"],type_1[\"label\"])\n",
    "    if 3 not in d_1.columns:\n",
    "        d_1[3]=0\n",
    "   \n",
    "    d_1 = d_1.sort_index()\n",
    "    d_2 = pd.crosstab(type_2[\"user\"],type_2[\"label\"])\n",
    "    if 3 not in d_2.columns:\n",
    "        d_2[3]=0\n",
    "    d_2 = d_2.sort_index()\n",
    "    \n",
    "    return pd.concat([d_1,d_2],axis=1)\n",
    "def customer_list(data,date,customer):\n",
    "    one_year = pd.to_datetime(date)-timedelta(days=365)\n",
    "    data = data[(data[\"Status\"].isin([\"Return\",\"Finish\"])) & (data[\"TradesDate\"]<pd.to_datetime(date)) & (data[\"TradesDate\"]>=one_year)\n",
    "               & (~data[\"MemberID\"].isin(customer))]\n",
    "    \n",
    "    return np.random.choice(list(set(data[\"MemberID\"].values)),len(customer), replace=False)"
   ]
  },
  {
   "cell_type": "code",
   "execution_count": 142,
   "metadata": {},
   "outputs": [],
   "source": [
    "########  build feature matrix and training data"
   ]
  },
  {
   "cell_type": "code",
   "execution_count": 154,
   "metadata": {},
   "outputs": [],
   "source": [
    "start = '2019-01-01'\n",
    "end = '2020-03-01'\n",
    "dates = [str(x)[:10] for x in pd.date_range(start, end, freq='MS')]\n",
    "data=[]\n",
    "for i in dates:\n",
    "\n",
    "    rep=list(set(online[(online[\"old_or_new\"]==\"Old Customer\")  & (online[\"TradesIndex\"]==i)][\"MemberID\"].values))\n",
    "    norep = customer_list(online,i,rep)\n",
    "\n",
    "    d1_rep = behavior_count(user_date_mapping,rep,i)\n",
    "    d1_norep = behavior_count(user_date_mapping,norep,i)\n",
    "    rfm_rep =  rfm(online,rep,i)\n",
    "    rfm_norep =  rfm(online,norep,i)\n",
    "    no_rep=  pd.merge(rfm_norep,d1_norep,how=\"left\", left_index=True, right_index=True)   \n",
    "    no_rep[\"purchase\"]=0\n",
    "    rep= pd.merge(rfm_rep,d1_rep,how=\"left\", left_index=True, right_index=True)                    \n",
    "    rep[\"purchase\"]=1\n",
    "\n",
    "    final = pd.concat([rep,no_rep],axis=0)\n",
    "    final=final.replace(np.nan,0)\n",
    "    data.append(final)\n",
    "data=pd.concat(data,axis=0)"
   ]
  },
  {
   "cell_type": "code",
   "execution_count": 155,
   "metadata": {},
   "outputs": [
    {
     "data": {
      "text/html": [
       "<div>\n",
       "<style scoped>\n",
       "    .dataframe tbody tr th:only-of-type {\n",
       "        vertical-align: middle;\n",
       "    }\n",
       "\n",
       "    .dataframe tbody tr th {\n",
       "        vertical-align: top;\n",
       "    }\n",
       "\n",
       "    .dataframe thead th {\n",
       "        text-align: right;\n",
       "    }\n",
       "</style>\n",
       "<table border=\"1\" class=\"dataframe\">\n",
       "  <thead>\n",
       "    <tr style=\"text-align: right;\">\n",
       "      <th></th>\n",
       "      <th>TradesDate</th>\n",
       "      <th>TotalSalesAmount</th>\n",
       "      <th>MemberID</th>\n",
       "      <th>0</th>\n",
       "      <th>1</th>\n",
       "      <th>2</th>\n",
       "      <th>3</th>\n",
       "      <th>0</th>\n",
       "      <th>1</th>\n",
       "      <th>2</th>\n",
       "      <th>3</th>\n",
       "      <th>purchase</th>\n",
       "    </tr>\n",
       "    <tr>\n",
       "      <th>MemberID</th>\n",
       "      <th></th>\n",
       "      <th></th>\n",
       "      <th></th>\n",
       "      <th></th>\n",
       "      <th></th>\n",
       "      <th></th>\n",
       "      <th></th>\n",
       "      <th></th>\n",
       "      <th></th>\n",
       "      <th></th>\n",
       "      <th></th>\n",
       "      <th></th>\n",
       "    </tr>\n",
       "  </thead>\n",
       "  <tbody>\n",
       "    <tr>\n",
       "      <th>%2B%2B8NpYVoqyjmc8mROiPMlX%2F2J8JlOghaysSF3qbYCVE%3D</th>\n",
       "      <td>49</td>\n",
       "      <td>8692</td>\n",
       "      <td>5</td>\n",
       "      <td>6.0</td>\n",
       "      <td>4.0</td>\n",
       "      <td>0.0</td>\n",
       "      <td>0.0</td>\n",
       "      <td>0.0</td>\n",
       "      <td>0.0</td>\n",
       "      <td>0.0</td>\n",
       "      <td>0.0</td>\n",
       "      <td>1</td>\n",
       "    </tr>\n",
       "    <tr>\n",
       "      <th>%2B%2FAZAUquHe3Q3Y5jJnaeCo1cC1KMmwIL7A%2Boyfl%2FtLA%3D</th>\n",
       "      <td>619</td>\n",
       "      <td>1243</td>\n",
       "      <td>1</td>\n",
       "      <td>4.0</td>\n",
       "      <td>2.0</td>\n",
       "      <td>0.0</td>\n",
       "      <td>0.0</td>\n",
       "      <td>2.0</td>\n",
       "      <td>0.0</td>\n",
       "      <td>0.0</td>\n",
       "      <td>0.0</td>\n",
       "      <td>1</td>\n",
       "    </tr>\n",
       "    <tr>\n",
       "      <th>%2B43bj0VYv4XYtA%2FT%2BnYZmSw6FxyiIHIUsmH9ecoiA9I%3D</th>\n",
       "      <td>104</td>\n",
       "      <td>0</td>\n",
       "      <td>1</td>\n",
       "      <td>3.0</td>\n",
       "      <td>0.0</td>\n",
       "      <td>0.0</td>\n",
       "      <td>0.0</td>\n",
       "      <td>4.0</td>\n",
       "      <td>0.0</td>\n",
       "      <td>0.0</td>\n",
       "      <td>0.0</td>\n",
       "      <td>1</td>\n",
       "    </tr>\n",
       "    <tr>\n",
       "      <th>%2B5wm5h%2F5Hd4HMWIsSLIGVTigfBJOJnxSBV9hBUBhts4%3D</th>\n",
       "      <td>17</td>\n",
       "      <td>3360</td>\n",
       "      <td>2</td>\n",
       "      <td>1.0</td>\n",
       "      <td>0.0</td>\n",
       "      <td>0.0</td>\n",
       "      <td>0.0</td>\n",
       "      <td>0.0</td>\n",
       "      <td>0.0</td>\n",
       "      <td>0.0</td>\n",
       "      <td>0.0</td>\n",
       "      <td>1</td>\n",
       "    </tr>\n",
       "    <tr>\n",
       "      <th>%2B6seMbmt4b1hx0eh0Mz8sjawIfOnr8cLNZWCU8guZeA%3D</th>\n",
       "      <td>192</td>\n",
       "      <td>2960</td>\n",
       "      <td>2</td>\n",
       "      <td>9.0</td>\n",
       "      <td>2.0</td>\n",
       "      <td>0.0</td>\n",
       "      <td>0.0</td>\n",
       "      <td>3.0</td>\n",
       "      <td>1.0</td>\n",
       "      <td>0.0</td>\n",
       "      <td>0.0</td>\n",
       "      <td>1</td>\n",
       "    </tr>\n",
       "  </tbody>\n",
       "</table>\n",
       "</div>"
      ],
      "text/plain": [
       "                                                    TradesDate  \\\n",
       "MemberID                                                         \n",
       "%2B%2B8NpYVoqyjmc8mROiPMlX%2F2J8JlOghaysSF3qbYC...          49   \n",
       "%2B%2FAZAUquHe3Q3Y5jJnaeCo1cC1KMmwIL7A%2Boyfl%2...         619   \n",
       "%2B43bj0VYv4XYtA%2FT%2BnYZmSw6FxyiIHIUsmH9ecoiA...         104   \n",
       "%2B5wm5h%2F5Hd4HMWIsSLIGVTigfBJOJnxSBV9hBUBhts4%3D          17   \n",
       "%2B6seMbmt4b1hx0eh0Mz8sjawIfOnr8cLNZWCU8guZeA%3D           192   \n",
       "\n",
       "                                                    TotalSalesAmount  \\\n",
       "MemberID                                                               \n",
       "%2B%2B8NpYVoqyjmc8mROiPMlX%2F2J8JlOghaysSF3qbYC...              8692   \n",
       "%2B%2FAZAUquHe3Q3Y5jJnaeCo1cC1KMmwIL7A%2Boyfl%2...              1243   \n",
       "%2B43bj0VYv4XYtA%2FT%2BnYZmSw6FxyiIHIUsmH9ecoiA...                 0   \n",
       "%2B5wm5h%2F5Hd4HMWIsSLIGVTigfBJOJnxSBV9hBUBhts4%3D              3360   \n",
       "%2B6seMbmt4b1hx0eh0Mz8sjawIfOnr8cLNZWCU8guZeA%3D                2960   \n",
       "\n",
       "                                                    MemberID    0    1    2  \\\n",
       "MemberID                                                                      \n",
       "%2B%2B8NpYVoqyjmc8mROiPMlX%2F2J8JlOghaysSF3qbYC...         5  6.0  4.0  0.0   \n",
       "%2B%2FAZAUquHe3Q3Y5jJnaeCo1cC1KMmwIL7A%2Boyfl%2...         1  4.0  2.0  0.0   \n",
       "%2B43bj0VYv4XYtA%2FT%2BnYZmSw6FxyiIHIUsmH9ecoiA...         1  3.0  0.0  0.0   \n",
       "%2B5wm5h%2F5Hd4HMWIsSLIGVTigfBJOJnxSBV9hBUBhts4%3D         2  1.0  0.0  0.0   \n",
       "%2B6seMbmt4b1hx0eh0Mz8sjawIfOnr8cLNZWCU8guZeA%3D           2  9.0  2.0  0.0   \n",
       "\n",
       "                                                      3    0    1    2    3  \\\n",
       "MemberID                                                                      \n",
       "%2B%2B8NpYVoqyjmc8mROiPMlX%2F2J8JlOghaysSF3qbYC...  0.0  0.0  0.0  0.0  0.0   \n",
       "%2B%2FAZAUquHe3Q3Y5jJnaeCo1cC1KMmwIL7A%2Boyfl%2...  0.0  2.0  0.0  0.0  0.0   \n",
       "%2B43bj0VYv4XYtA%2FT%2BnYZmSw6FxyiIHIUsmH9ecoiA...  0.0  4.0  0.0  0.0  0.0   \n",
       "%2B5wm5h%2F5Hd4HMWIsSLIGVTigfBJOJnxSBV9hBUBhts4%3D  0.0  0.0  0.0  0.0  0.0   \n",
       "%2B6seMbmt4b1hx0eh0Mz8sjawIfOnr8cLNZWCU8guZeA%3D    0.0  3.0  1.0  0.0  0.0   \n",
       "\n",
       "                                                    purchase  \n",
       "MemberID                                                      \n",
       "%2B%2B8NpYVoqyjmc8mROiPMlX%2F2J8JlOghaysSF3qbYC...         1  \n",
       "%2B%2FAZAUquHe3Q3Y5jJnaeCo1cC1KMmwIL7A%2Boyfl%2...         1  \n",
       "%2B43bj0VYv4XYtA%2FT%2BnYZmSw6FxyiIHIUsmH9ecoiA...         1  \n",
       "%2B5wm5h%2F5Hd4HMWIsSLIGVTigfBJOJnxSBV9hBUBhts4%3D         1  \n",
       "%2B6seMbmt4b1hx0eh0Mz8sjawIfOnr8cLNZWCU8guZeA%3D           1  "
      ]
     },
     "execution_count": 155,
     "metadata": {},
     "output_type": "execute_result"
    }
   ],
   "source": [
    "data.head()"
   ]
  },
  {
   "cell_type": "code",
   "execution_count": 156,
   "metadata": {},
   "outputs": [
    {
     "data": {
      "text/plain": [
       "(78392, 12)"
      ]
     },
     "execution_count": 156,
     "metadata": {},
     "output_type": "execute_result"
    }
   ],
   "source": [
    "data.shape"
   ]
  },
  {
   "cell_type": "code",
   "execution_count": 157,
   "metadata": {},
   "outputs": [
    {
     "name": "stderr",
     "output_type": "stream",
     "text": [
      "No low-cost partial config given to the search algorithm. For cost-frugal search, consider providing low-cost values for cost-related hps via 'low_cost_partial_config'.\n"
     ]
    }
   ],
   "source": [
    "from flaml import AutoML\n",
    "automl = AutoML()\n",
    "settings = {\n",
    "    \"metric\": 'accuracy',\n",
    "    \"task\": 'classification',\n",
    "    \"time_budget\":2400,\n",
    "    \"log_file_name\": \"train.log\"\n",
    "}\n",
    "from sklearn.model_selection import train_test_split\n",
    "from sklearn.utils import shuffle\n",
    "#X_train, X_test, y_train, y_test = train_test_split(\n",
    "# data.drop(\"purchase\",axis=1), data[\"purchase\"], test_size=0.1, random_state=42,shuffle=True,stratify=data[\"purchase\"])\n",
    "data = shuffle(data)\n",
    "automl.fit(X_train=data.drop(\"purchase\",axis=1).values, y_train=data[\"purchase\"].values, **settings,verbose=0)"
   ]
  },
  {
   "cell_type": "code",
   "execution_count": 158,
   "metadata": {},
   "outputs": [
    {
     "name": "stdout",
     "output_type": "stream",
     "text": [
      "Best hyperparmeter config: {'early_stopping_rounds': 18, 'learning_rate': 0.0359411584695875}\n",
      "Best accuracy on validation data: 0.7393\n",
      "<flaml.model.CatBoostEstimator object at 0x000002C415535DF0>\n"
     ]
    }
   ],
   "source": [
    "print('Best hyperparmeter config:', automl.best_config)\n",
    "print('Best accuracy on validation data: {0:.4g}'.format(1 - automl.best_loss))\n",
    "print(automl.model)"
   ]
  },
  {
   "cell_type": "code",
   "execution_count": 159,
   "metadata": {},
   "outputs": [
    {
     "data": {
      "text/html": [
       "<div>\n",
       "<style scoped>\n",
       "    .dataframe tbody tr th:only-of-type {\n",
       "        vertical-align: middle;\n",
       "    }\n",
       "\n",
       "    .dataframe tbody tr th {\n",
       "        vertical-align: top;\n",
       "    }\n",
       "\n",
       "    .dataframe thead th {\n",
       "        text-align: right;\n",
       "    }\n",
       "</style>\n",
       "<table border=\"1\" class=\"dataframe\">\n",
       "  <thead>\n",
       "    <tr style=\"text-align: right;\">\n",
       "      <th></th>\n",
       "      <th>TradesDate</th>\n",
       "      <th>TotalSalesAmount</th>\n",
       "      <th>MemberID</th>\n",
       "      <th>0</th>\n",
       "      <th>1</th>\n",
       "      <th>2</th>\n",
       "      <th>3</th>\n",
       "      <th>0</th>\n",
       "      <th>1</th>\n",
       "      <th>2</th>\n",
       "      <th>3</th>\n",
       "    </tr>\n",
       "    <tr>\n",
       "      <th>MemberID</th>\n",
       "      <th></th>\n",
       "      <th></th>\n",
       "      <th></th>\n",
       "      <th></th>\n",
       "      <th></th>\n",
       "      <th></th>\n",
       "      <th></th>\n",
       "      <th></th>\n",
       "      <th></th>\n",
       "      <th></th>\n",
       "      <th></th>\n",
       "    </tr>\n",
       "  </thead>\n",
       "  <tbody>\n",
       "    <tr>\n",
       "      <th>%2B%2B%2FsALKlNdkh585nb%2F9geIrN84FIZZLkD8qf909HvCU%3D</th>\n",
       "      <td>280</td>\n",
       "      <td>1359</td>\n",
       "      <td>1</td>\n",
       "      <td>0.0</td>\n",
       "      <td>0.0</td>\n",
       "      <td>0.0</td>\n",
       "      <td>0.0</td>\n",
       "      <td>6.0</td>\n",
       "      <td>0.0</td>\n",
       "      <td>0.0</td>\n",
       "      <td>0.0</td>\n",
       "    </tr>\n",
       "    <tr>\n",
       "      <th>%2B%2B3XVjBiQPLoAXWc7gK%2BTdvTH4J4AmgkeFlB3mmN7YY%3D</th>\n",
       "      <td>355</td>\n",
       "      <td>3160</td>\n",
       "      <td>1</td>\n",
       "      <td>0.0</td>\n",
       "      <td>0.0</td>\n",
       "      <td>0.0</td>\n",
       "      <td>0.0</td>\n",
       "      <td>3.0</td>\n",
       "      <td>0.0</td>\n",
       "      <td>0.0</td>\n",
       "      <td>0.0</td>\n",
       "    </tr>\n",
       "    <tr>\n",
       "      <th>%2B%2B44iA8rzzl4lYN3dzParPLqAXetHBSwDFIBUBD%2B%2Bt4%3D</th>\n",
       "      <td>210</td>\n",
       "      <td>0</td>\n",
       "      <td>1</td>\n",
       "      <td>3.0</td>\n",
       "      <td>1.0</td>\n",
       "      <td>0.0</td>\n",
       "      <td>0.0</td>\n",
       "      <td>6.0</td>\n",
       "      <td>2.0</td>\n",
       "      <td>0.0</td>\n",
       "      <td>0.0</td>\n",
       "    </tr>\n",
       "    <tr>\n",
       "      <th>%2B%2BHVWUHpauba4avsH6qa1JN3VITlhErA3GLSgNEq5SQ%3D</th>\n",
       "      <td>194</td>\n",
       "      <td>7870</td>\n",
       "      <td>1</td>\n",
       "      <td>0.0</td>\n",
       "      <td>0.0</td>\n",
       "      <td>0.0</td>\n",
       "      <td>0.0</td>\n",
       "      <td>4.0</td>\n",
       "      <td>0.0</td>\n",
       "      <td>0.0</td>\n",
       "      <td>0.0</td>\n",
       "    </tr>\n",
       "    <tr>\n",
       "      <th>%2B%2BIQh8016M2jdnkz6608gbhHjiXKrXmUoN68bJz09mI%3D</th>\n",
       "      <td>326</td>\n",
       "      <td>980</td>\n",
       "      <td>1</td>\n",
       "      <td>0.0</td>\n",
       "      <td>0.0</td>\n",
       "      <td>0.0</td>\n",
       "      <td>0.0</td>\n",
       "      <td>0.0</td>\n",
       "      <td>0.0</td>\n",
       "      <td>0.0</td>\n",
       "      <td>0.0</td>\n",
       "    </tr>\n",
       "  </tbody>\n",
       "</table>\n",
       "</div>"
      ],
      "text/plain": [
       "                                                    TradesDate  \\\n",
       "MemberID                                                         \n",
       "%2B%2B%2FsALKlNdkh585nb%2F9geIrN84FIZZLkD8qf909...         280   \n",
       "%2B%2B3XVjBiQPLoAXWc7gK%2BTdvTH4J4AmgkeFlB3mmN7...         355   \n",
       "%2B%2B44iA8rzzl4lYN3dzParPLqAXetHBSwDFIBUBD%2B%...         210   \n",
       "%2B%2BHVWUHpauba4avsH6qa1JN3VITlhErA3GLSgNEq5SQ%3D         194   \n",
       "%2B%2BIQh8016M2jdnkz6608gbhHjiXKrXmUoN68bJz09mI%3D         326   \n",
       "\n",
       "                                                    TotalSalesAmount  \\\n",
       "MemberID                                                               \n",
       "%2B%2B%2FsALKlNdkh585nb%2F9geIrN84FIZZLkD8qf909...              1359   \n",
       "%2B%2B3XVjBiQPLoAXWc7gK%2BTdvTH4J4AmgkeFlB3mmN7...              3160   \n",
       "%2B%2B44iA8rzzl4lYN3dzParPLqAXetHBSwDFIBUBD%2B%...                 0   \n",
       "%2B%2BHVWUHpauba4avsH6qa1JN3VITlhErA3GLSgNEq5SQ%3D              7870   \n",
       "%2B%2BIQh8016M2jdnkz6608gbhHjiXKrXmUoN68bJz09mI%3D               980   \n",
       "\n",
       "                                                    MemberID    0    1    2  \\\n",
       "MemberID                                                                      \n",
       "%2B%2B%2FsALKlNdkh585nb%2F9geIrN84FIZZLkD8qf909...         1  0.0  0.0  0.0   \n",
       "%2B%2B3XVjBiQPLoAXWc7gK%2BTdvTH4J4AmgkeFlB3mmN7...         1  0.0  0.0  0.0   \n",
       "%2B%2B44iA8rzzl4lYN3dzParPLqAXetHBSwDFIBUBD%2B%...         1  3.0  1.0  0.0   \n",
       "%2B%2BHVWUHpauba4avsH6qa1JN3VITlhErA3GLSgNEq5SQ%3D         1  0.0  0.0  0.0   \n",
       "%2B%2BIQh8016M2jdnkz6608gbhHjiXKrXmUoN68bJz09mI%3D         1  0.0  0.0  0.0   \n",
       "\n",
       "                                                      3    0    1    2    3  \n",
       "MemberID                                                                     \n",
       "%2B%2B%2FsALKlNdkh585nb%2F9geIrN84FIZZLkD8qf909...  0.0  6.0  0.0  0.0  0.0  \n",
       "%2B%2B3XVjBiQPLoAXWc7gK%2BTdvTH4J4AmgkeFlB3mmN7...  0.0  3.0  0.0  0.0  0.0  \n",
       "%2B%2B44iA8rzzl4lYN3dzParPLqAXetHBSwDFIBUBD%2B%...  0.0  6.0  2.0  0.0  0.0  \n",
       "%2B%2BHVWUHpauba4avsH6qa1JN3VITlhErA3GLSgNEq5SQ%3D  0.0  4.0  0.0  0.0  0.0  \n",
       "%2B%2BIQh8016M2jdnkz6608gbhHjiXKrXmUoN68bJz09mI%3D  0.0  0.0  0.0  0.0  0.0  "
      ]
     },
     "execution_count": 159,
     "metadata": {},
     "output_type": "execute_result"
    }
   ],
   "source": [
    "rep_April=list(set(online[(online[\"old_or_new\"]==\"Old Customer\")  & (online[\"TradesIndex\"]==\"2020-04-01\")][\"MemberID\"].values))\n",
    "\n",
    "def potential_customer(data,date):\n",
    "    one_year = pd.to_datetime(date)-timedelta(days=365)\n",
    "    data = data[(data[\"TradesDate\"]<pd.to_datetime(date)) & (data[\"TradesDate\"]>=one_year)]\n",
    "    \n",
    "    return list(set(data[\"MemberID\"]))\n",
    "potential = potential_customer(online,\"2020-04-01\")\n",
    "b_p = behavior_count(user_date_mapping,potential,\"2020-04-01\")\n",
    "rfm_p =  rfm(online,potential,\"2020-04-01\")\n",
    "\n",
    "final=pd.merge(rfm_p,b_p,how=\"left\", left_index=True, right_index=True)  \n",
    "final=final.replace(np.nan,0)\n",
    "final.head()"
   ]
  },
  {
   "cell_type": "code",
   "execution_count": 160,
   "metadata": {},
   "outputs": [
    {
     "data": {
      "text/plain": [
       "TradesIndex\n",
       "2013-10-01       1\n",
       "2013-11-01       4\n",
       "2013-12-01       9\n",
       "2014-01-01      15\n",
       "2014-02-01      13\n",
       "              ... \n",
       "2019-11-01    3620\n",
       "2019-12-01    3234\n",
       "2020-01-01    3109\n",
       "2020-02-01    2206\n",
       "2020-03-01    2439\n",
       "Name: MemberID, Length: 78, dtype: int64"
      ]
     },
     "execution_count": 160,
     "metadata": {},
     "output_type": "execute_result"
    }
   ],
   "source": [
    "repurchase_size = online[(online[\"old_or_new\"]==\"Old Customer\") & (online[\"TradesIndex\"]<\"2020-04-01\") ]\n",
    "repurchase_size.groupby(\"TradesIndex\")[\"MemberID\"].nunique()"
   ]
  },
  {
   "cell_type": "code",
   "execution_count": 161,
   "metadata": {},
   "outputs": [
    {
     "name": "stdout",
     "output_type": "stream",
     "text": [
      "2584.67\n"
     ]
    },
    {
     "data": {
      "text/plain": [
       "TradesIndex\n",
       "2013-10-01            NaN\n",
       "2013-11-01            NaN\n",
       "2013-12-01       4.666667\n",
       "2014-01-01       9.333333\n",
       "2014-02-01      12.333333\n",
       "                 ...     \n",
       "2019-11-01    2901.000000\n",
       "2019-12-01    3247.666667\n",
       "2020-01-01    3321.000000\n",
       "2020-02-01    2849.666667\n",
       "2020-03-01    2584.666667\n",
       "Name: MemberID, Length: 78, dtype: float64"
      ]
     },
     "execution_count": 161,
     "metadata": {},
     "output_type": "execute_result"
    }
   ],
   "source": [
    "repurchase_size=repurchase_size.groupby(\"TradesIndex\")[\"MemberID\"].nunique().rolling(3).mean()\n",
    "print(round(repurchase_size[-1],2))\n",
    "repurchase_size"
   ]
  },
  {
   "cell_type": "code",
   "execution_count": 162,
   "metadata": {},
   "outputs": [],
   "source": [
    "#y_pred = automl.predict(final.values)\n",
    "final[\"predict\"]=automl.predict_proba(final.values)[:,1]\n",
    "final=final.sort_values(\"predict\",ascending=False)"
   ]
  },
  {
   "cell_type": "code",
   "execution_count": 163,
   "metadata": {},
   "outputs": [
    {
     "name": "stdout",
     "output_type": "stream",
     "text": [
      "回購名單預測 準確率: 0.23\n"
     ]
    }
   ],
   "source": [
    "rep_list = final[:round(repurchase_size[-1])].index\n",
    "acc_test = len(set(rep_list).intersection(rep_April))/ len(rep_list)\n",
    "print(\"回購名單預測 準確率: %.2f\" % acc_test)"
   ]
  },
  {
   "cell_type": "code",
   "execution_count": null,
   "metadata": {},
   "outputs": [],
   "source": []
  },
  {
   "cell_type": "code",
   "execution_count": null,
   "metadata": {},
   "outputs": [],
   "source": []
  },
  {
   "cell_type": "code",
   "execution_count": 164,
   "metadata": {},
   "outputs": [],
   "source": [
    "#indices = np.random.choice(x_scale.shape[0], 200000, replace=False)\n",
    "#est=x_scale[indices]"
   ]
  },
  {
   "cell_type": "code",
   "execution_count": 165,
   "metadata": {},
   "outputs": [],
   "source": [
    "#from sklearn.neighbors import NearestNeighbors\n",
    "#neighbors = NearestNeighbors(n_neighbors=24)\n",
    "#neighbors_fit = neighbors.fit(est)\n",
    "#distances, indices = neighbors_fit.kneighbors(est)"
   ]
  },
  {
   "cell_type": "code",
   "execution_count": 166,
   "metadata": {},
   "outputs": [],
   "source": [
    "#distances = distances[:,-1]\n",
    "#distances = np.sort(distances, axis=0)"
   ]
  },
  {
   "cell_type": "code",
   "execution_count": 167,
   "metadata": {},
   "outputs": [],
   "source": [
    "#plt.plot(distances)"
   ]
  },
  {
   "cell_type": "code",
   "execution_count": 168,
   "metadata": {},
   "outputs": [],
   "source": [
    "#from kneed import KneeLocator\n",
    "#kneedle = KneeLocator(range(1,len(distances)+1),  #x values\n",
    " #                     distances, # y values\n",
    " #                     S=1.0, #parameter suggested from paper\n",
    " #                     curve=\"convex\", #parameter from figure\n",
    " #                     direction=\"increasing\") #parameter from figure\n",
    "#round(kneedle.knee_y,2)"
   ]
  },
  {
   "cell_type": "code",
   "execution_count": 169,
   "metadata": {},
   "outputs": [],
   "source": [
    "#from sklearn.cluster import DBSCAN\n",
    "###use full dataset>>>>> MemoryError \n",
    "###sampling 800000 >>>>  MemoryError \n",
    "#indices = np.random.choice(x_scale.shape[0], 800000, replace=False)\n",
    "#est=x_scale[indices]\n",
    "#clustering = DBSCAN(eps=7.4, min_samples=24 , n_jobs=-1).fit(est)"
   ]
  },
  {
   "cell_type": "code",
   "execution_count": null,
   "metadata": {},
   "outputs": [],
   "source": []
  }
 ],
 "metadata": {
  "kernelspec": {
   "display_name": "Python 3",
   "language": "python",
   "name": "python3"
  },
  "language_info": {
   "codemirror_mode": {
    "name": "ipython",
    "version": 3
   },
   "file_extension": ".py",
   "mimetype": "text/x-python",
   "name": "python",
   "nbconvert_exporter": "python",
   "pygments_lexer": "ipython3",
   "version": "3.8.3"
  }
 },
 "nbformat": 4,
 "nbformat_minor": 4
}
