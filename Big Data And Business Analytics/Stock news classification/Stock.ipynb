{
 "cells": [
  {
   "cell_type": "code",
   "execution_count": 1,
   "metadata": {
    "id": "TFDZgGl-MUZS"
   },
   "outputs": [],
   "source": [
    "import pandas as pd\n",
    "bbs=pd.read_csv(\"bbs.csv\")\n",
    "news=pd.read_csv(\"news.csv\")"
   ]
  },
  {
   "cell_type": "code",
   "execution_count": 2,
   "metadata": {
    "id": "pfs4tJ2oMUZT",
    "outputId": "0d69789b-2b32-4439-fd9b-5dcba1a78855"
   },
   "outputs": [
    {
     "name": "stdout",
     "output_type": "stream",
     "text": [
      "(58078, 10)\n",
      "(247273, 9)\n"
     ]
    }
   ],
   "source": [
    "print(bbs.shape)\n",
    "print(news.shape)"
   ]
  },
  {
   "cell_type": "code",
   "execution_count": 3,
   "metadata": {
    "id": "cL_LT5wGMUZT"
   },
   "outputs": [],
   "source": [
    "stock2016=pd.read_csv(\"2016.csv\").drop(\"Unnamed: 0\",axis=1)\n",
    "stock2017=pd.read_csv(\"2017.csv\").drop(\"Unnamed: 0\",axis=1)\n",
    "stock2018=pd.read_csv(\"2018.csv\").drop(\"Unnamed: 0\",axis=1)"
   ]
  },
  {
   "cell_type": "code",
   "execution_count": 4,
   "metadata": {
    "id": "94JXtmLfMUZT",
    "outputId": "2d7bd4aa-343b-4714-a216-7d9ac6fa523f"
   },
   "outputs": [
    {
     "data": {
      "text/html": [
       "<div>\n",
       "<style scoped>\n",
       "    .dataframe tbody tr th:only-of-type {\n",
       "        vertical-align: middle;\n",
       "    }\n",
       "\n",
       "    .dataframe tbody tr th {\n",
       "        vertical-align: top;\n",
       "    }\n",
       "\n",
       "    .dataframe thead th {\n",
       "        text-align: right;\n",
       "    }\n",
       "</style>\n",
       "<table border=\"1\" class=\"dataframe\">\n",
       "  <thead>\n",
       "    <tr style=\"text-align: right;\">\n",
       "      <th></th>\n",
       "      <th>證券代碼</th>\n",
       "      <th>年月日</th>\n",
       "      <th>開盤價(元)</th>\n",
       "      <th>最高價(元)</th>\n",
       "      <th>最低價(元)</th>\n",
       "      <th>收盤價(元)</th>\n",
       "      <th>成交量(千股)</th>\n",
       "      <th>成交值(千元)</th>\n",
       "      <th>成交筆數(筆)</th>\n",
       "      <th>流通在外股數(千股)</th>\n",
       "      <th>本益比-TSE</th>\n",
       "      <th>股價淨值比-TSE</th>\n",
       "    </tr>\n",
       "  </thead>\n",
       "  <tbody>\n",
       "    <tr>\n",
       "      <th>0</th>\n",
       "      <td>1101 台泥</td>\n",
       "      <td>2016-12-30</td>\n",
       "      <td>29.09</td>\n",
       "      <td>29.64</td>\n",
       "      <td>28.93</td>\n",
       "      <td>29.64</td>\n",
       "      <td>6121</td>\n",
       "      <td>213121</td>\n",
       "      <td>2939</td>\n",
       "      <td>3692175</td>\n",
       "      <td>20.56</td>\n",
       "      <td>1.23</td>\n",
       "    </tr>\n",
       "    <tr>\n",
       "      <th>1</th>\n",
       "      <td>1102 亞泥</td>\n",
       "      <td>2016-12-30</td>\n",
       "      <td>24.91</td>\n",
       "      <td>24.91</td>\n",
       "      <td>24.67</td>\n",
       "      <td>24.81</td>\n",
       "      <td>3347</td>\n",
       "      <td>88078</td>\n",
       "      <td>1227</td>\n",
       "      <td>3361447</td>\n",
       "      <td>31.75</td>\n",
       "      <td>0.73</td>\n",
       "    </tr>\n",
       "    <tr>\n",
       "      <th>2</th>\n",
       "      <td>1103 嘉泥</td>\n",
       "      <td>2016-12-30</td>\n",
       "      <td>8.29</td>\n",
       "      <td>8.29</td>\n",
       "      <td>8.29</td>\n",
       "      <td>8.29</td>\n",
       "      <td>0</td>\n",
       "      <td>0</td>\n",
       "      <td>0</td>\n",
       "      <td>774780</td>\n",
       "      <td>11.19</td>\n",
       "      <td>0.40</td>\n",
       "    </tr>\n",
       "    <tr>\n",
       "      <th>3</th>\n",
       "      <td>1104 環泥</td>\n",
       "      <td>2016-12-30</td>\n",
       "      <td>21.19</td>\n",
       "      <td>21.54</td>\n",
       "      <td>21.19</td>\n",
       "      <td>21.54</td>\n",
       "      <td>141</td>\n",
       "      <td>3492</td>\n",
       "      <td>115</td>\n",
       "      <td>634572</td>\n",
       "      <td>9.27</td>\n",
       "      <td>0.97</td>\n",
       "    </tr>\n",
       "    <tr>\n",
       "      <th>4</th>\n",
       "      <td>1108 幸福</td>\n",
       "      <td>2016-12-30</td>\n",
       "      <td>8.55</td>\n",
       "      <td>8.60</td>\n",
       "      <td>8.53</td>\n",
       "      <td>8.55</td>\n",
       "      <td>90</td>\n",
       "      <td>822</td>\n",
       "      <td>33</td>\n",
       "      <td>404738</td>\n",
       "      <td>10.99</td>\n",
       "      <td>0.78</td>\n",
       "    </tr>\n",
       "  </tbody>\n",
       "</table>\n",
       "</div>"
      ],
      "text/plain": [
       "      證券代碼         年月日  開盤價(元)  最高價(元)  最低價(元)  收盤價(元)  成交量(千股)  成交值(千元)  \\\n",
       "0  1101 台泥  2016-12-30   29.09   29.64   28.93   29.64     6121   213121   \n",
       "1  1102 亞泥  2016-12-30   24.91   24.91   24.67   24.81     3347    88078   \n",
       "2  1103 嘉泥  2016-12-30    8.29    8.29    8.29    8.29        0        0   \n",
       "3  1104 環泥  2016-12-30   21.19   21.54   21.19   21.54      141     3492   \n",
       "4  1108 幸福  2016-12-30    8.55    8.60    8.53    8.55       90      822   \n",
       "\n",
       "   成交筆數(筆)  流通在外股數(千股)  本益比-TSE  股價淨值比-TSE  \n",
       "0     2939     3692175    20.56       1.23  \n",
       "1     1227     3361447    31.75       0.73  \n",
       "2        0      774780    11.19       0.40  \n",
       "3      115      634572     9.27       0.97  \n",
       "4       33      404738    10.99       0.78  "
      ]
     },
     "execution_count": 4,
     "metadata": {},
     "output_type": "execute_result"
    }
   ],
   "source": [
    "stock2016.head()"
   ]
  },
  {
   "cell_type": "code",
   "execution_count": 5,
   "metadata": {
    "id": "pWPgADoHMUZT",
    "outputId": "85954def-c290-42b3-e136-4eaac32fc3c4"
   },
   "outputs": [
    {
     "name": "stdout",
     "output_type": "stream",
     "text": [
      "新聞睽違年大宇資重返台北電玩展\n",
      "\n",
      "\n",
      "原文連結必須檢附原文內容大宇資訊宣布睽違年後正式回歸台北國際電玩展並帶來大經典同時大宇資訊也邀請玩家一同同樂推出大宇經典遊戲角色大賽邀請玩家扮演大宇各種經典遊戲角色共同為大宇資訊年以來首次回歸參展熱烈慶祝台灣電玩界中年度盛事台北國際電玩展一直以來都是各家遊戲廠商與玩家們所企盼的重點活動過去大宇資訊也曾一起參與盛事受到玩家們的歡迎與好評但從年以後大宇資訊缺席了台北國際電玩展玩家區攤位讓眾多玩家感到惋惜與失望今年大宇資訊將睽違年後強勢回歸展出共個攤位為國內國產遊戲廠商參展的最大展出攤位必將盛況空前此次更帶來大經典作品包括軒轅劍仙劍奇俠傳大富翁明星志願天使帝國與阿貓阿狗等大宇資訊表示年間我們推出了許多好評作品不論是單機或是手遊都有相當不錯的表現玩家給予我們肯定我們也會更加努力地研發更多經典遊戲以提供玩家與市場更多有趣好玩的作品因此年我們將以這些玩家好評為出發點透過這次的台北國際電玩展展出更多有趣好玩的新作品以不負玩家們的期待經典不斷的大宇資訊這次除了回歸參展台北國際電玩展與展出大經典遊戲之外更是廣邀玩家族群一同參與大宇經典遊戲角色大賽讓更多玩家除了喜愛遊戲之外也是鼓勵玩家扮演自己所喜愛的大宇經典遊戲角色為這次台北國際電玩展與大宇資訊參展同樂歡慶蕭文康台北報導心得評論必需填寫傳說中的十年磨二劍大宇真的靠著一個仙劍奇俠傳打遍天下無敵手但是第二劍的軒轅劍看起來也是萬夫莫敵之威大富翁阿貓阿狗更不用說惹看起來前景有點不可思議公司股價列為幻夢比\n"
     ]
    }
   ],
   "source": [
    "import re\n",
    "import string\n",
    "bbs[\"content\"]=bbs[\"content\"].apply(lambda x :re.sub(r'[^\\u4e00-\\u9fff]+',\"\",str(x)))\n",
    "news[\"content\"]=news[\"content\"].apply(lambda x :re.sub(r'[^\\u4e00-\\u9fff]+',\"\",str(x)))\n",
    "\n",
    "\n",
    "bbs[\"title\"]=bbs[\"title\"].apply(lambda x :re.sub(r'[^\\u4e00-\\u9fff]+',\"\",str(x)))\n",
    "news[\"title\"]=news[\"title\"].apply(lambda x :re.sub(r'[^\\u4e00-\\u9fff]+',\"\",str(x)))\n",
    "\n",
    "\n",
    "print(bbs[\"title\"].iloc[3])\n",
    "print(\"\\n\")\n",
    "print(bbs[\"content\"].iloc[3])"
   ]
  },
  {
   "cell_type": "code",
   "execution_count": 6,
   "metadata": {
    "id": "c4hoIJioMUZU",
    "outputId": "9a9a80ab-9c06-46d7-d34f-885cc7fa1991"
   },
   "outputs": [
    {
     "name": "stdout",
     "output_type": "stream",
     "text": [
      "(247273, 9)\n"
     ]
    }
   ],
   "source": [
    "news=news.dropna(subset= ['content'])\n",
    "print(news.shape)"
   ]
  },
  {
   "cell_type": "code",
   "execution_count": 7,
   "metadata": {
    "id": "UwW7AKryMUZU"
   },
   "outputs": [],
   "source": [
    "checkin=[\"大立光\"]\n",
    "check=[0]*news.shape[0]\n",
    "for i in range(news.shape[0]):\n",
    "    temp=0\n",
    "    for j in checkin:\n",
    "        temp+=news[\"content\"].iloc[i].count(j)  \n",
    "        temp+=news[\"title\"].iloc[i].count(j) \n",
    "    if temp>=1:\n",
    "        check[i]=1\n",
    "    else:\n",
    "        check[i]=check[i]"
   ]
  },
  {
   "cell_type": "code",
   "execution_count": 8,
   "metadata": {
    "id": "ZSvrQSI7MUZU",
    "outputId": "399d619d-e4fb-4af8-c4e2-39e647377866"
   },
   "outputs": [
    {
     "name": "stdout",
     "output_type": "stream",
     "text": [
      "(11464, 10)\n"
     ]
    }
   ],
   "source": [
    "news[\"check\"]=check\n",
    "news=news[news[\"check\"]==1]\n",
    "print(news.shape)"
   ]
  },
  {
   "cell_type": "code",
   "execution_count": 9,
   "metadata": {
    "id": "3lS-htEWMUZU",
    "outputId": "29807b7b-cfee-4ac0-fb01-9fbb1bae0cdf"
   },
   "outputs": [
    {
     "data": {
      "text/html": [
       "<div>\n",
       "<style scoped>\n",
       "    .dataframe tbody tr th:only-of-type {\n",
       "        vertical-align: middle;\n",
       "    }\n",
       "\n",
       "    .dataframe tbody tr th {\n",
       "        vertical-align: top;\n",
       "    }\n",
       "\n",
       "    .dataframe thead th {\n",
       "        text-align: right;\n",
       "    }\n",
       "</style>\n",
       "<table border=\"1\" class=\"dataframe\">\n",
       "  <thead>\n",
       "    <tr style=\"text-align: right;\">\n",
       "      <th></th>\n",
       "      <th>id</th>\n",
       "      <th>p_type</th>\n",
       "      <th>s_name</th>\n",
       "      <th>s_area_name</th>\n",
       "      <th>post_time</th>\n",
       "      <th>title</th>\n",
       "      <th>author</th>\n",
       "      <th>content</th>\n",
       "      <th>page_url</th>\n",
       "      <th>check</th>\n",
       "    </tr>\n",
       "  </thead>\n",
       "  <tbody>\n",
       "    <tr>\n",
       "      <th>12</th>\n",
       "      <td>1451613407274_N01</td>\n",
       "      <td>news</td>\n",
       "      <td>yahoo股市</td>\n",
       "      <td>重大要聞</td>\n",
       "      <td>2016/1/1 09:27:00</td>\n",
       "      <td>各報要聞年台股漲像</td>\n",
       "      <td>時報資訊</td>\n",
       "      <td>年台股昨日封關四大基金在尾盤大舉加碼買進台積電國泰金等權值股總計投入約億元政府基金表示美國升...</td>\n",
       "      <td>https://tw.stock.yahoo.com/news_content/url/d/...</td>\n",
       "      <td>1</td>\n",
       "    </tr>\n",
       "    <tr>\n",
       "      <th>69</th>\n",
       "      <td>1451783510043_N01</td>\n",
       "      <td>news</td>\n",
       "      <td>yahoo股市</td>\n",
       "      <td>重大要聞</td>\n",
       "      <td>2016/1/3 08:58:00</td>\n",
       "      <td>各報要聞檔電子股去年可賺股本</td>\n",
       "      <td>時報資訊</td>\n",
       "      <td>景氣不佳電子業成了去年放無薪假的大戶但在一片不景氣聲中還是有科技公司逆流而上初估年有檔個股具...</td>\n",
       "      <td>https://tw.stock.yahoo.com/news_content/url/d/...</td>\n",
       "      <td>1</td>\n",
       "    </tr>\n",
       "    <tr>\n",
       "      <th>70</th>\n",
       "      <td>1451783511311_N01</td>\n",
       "      <td>news</td>\n",
       "      <td>yahoo股市</td>\n",
       "      <td>重大要聞</td>\n",
       "      <td>2016/1/3 08:59:00</td>\n",
       "      <td>各報要聞外資歸隊台股帶量拚季線</td>\n",
       "      <td>時報資訊</td>\n",
       "      <td>台股上周封關日集中及櫃買兩市場同步收紅本周為年元月首周市場聚焦新掛牌股外資歸隊主要公司去年月...</td>\n",
       "      <td>https://tw.stock.yahoo.com/news_content/url/d/...</td>\n",
       "      <td>1</td>\n",
       "    </tr>\n",
       "    <tr>\n",
       "      <th>106</th>\n",
       "      <td>1451867211260_N01</td>\n",
       "      <td>news</td>\n",
       "      <td>yahoo股市</td>\n",
       "      <td>重大要聞</td>\n",
       "      <td>2016/1/4 07:56:00</td>\n",
       "      <td>經濟日報晨訊</td>\n",
       "      <td>財訊快報</td>\n",
       "      <td>台積電奈米完勝三星製程強壓對手的奈米蘋果代工大單可望入袋三星暫緩擴廠腳步台北車展舊換新訂單出...</td>\n",
       "      <td>https://tw.stock.yahoo.com/news_content/url/d/...</td>\n",
       "      <td>1</td>\n",
       "    </tr>\n",
       "    <tr>\n",
       "      <th>142</th>\n",
       "      <td>1451872607731_N01</td>\n",
       "      <td>news</td>\n",
       "      <td>yahoo股市</td>\n",
       "      <td>重大要聞</td>\n",
       "      <td>2016/1/4 09:29:00</td>\n",
       "      <td>台股新春開盤早盤重挫點</td>\n",
       "      <td>中央社</td>\n",
       "      <td>中央社台北年月日電台股今天是年第個交易日早盤即上演開低走低重挫走勢至時分止指數重跌點來到點主...</td>\n",
       "      <td>https://tw.stock.yahoo.com/news_content/url/d/...</td>\n",
       "      <td>1</td>\n",
       "    </tr>\n",
       "  </tbody>\n",
       "</table>\n",
       "</div>"
      ],
      "text/plain": [
       "                    id p_type   s_name s_area_name          post_time  \\\n",
       "12   1451613407274_N01   news  yahoo股市        重大要聞  2016/1/1 09:27:00   \n",
       "69   1451783510043_N01   news  yahoo股市        重大要聞  2016/1/3 08:58:00   \n",
       "70   1451783511311_N01   news  yahoo股市        重大要聞  2016/1/3 08:59:00   \n",
       "106  1451867211260_N01   news  yahoo股市        重大要聞  2016/1/4 07:56:00   \n",
       "142  1451872607731_N01   news  yahoo股市        重大要聞  2016/1/4 09:29:00   \n",
       "\n",
       "               title author  \\\n",
       "12         各報要聞年台股漲像   時報資訊   \n",
       "69    各報要聞檔電子股去年可賺股本   時報資訊   \n",
       "70   各報要聞外資歸隊台股帶量拚季線   時報資訊   \n",
       "106           經濟日報晨訊   財訊快報   \n",
       "142      台股新春開盤早盤重挫點    中央社   \n",
       "\n",
       "                                               content  \\\n",
       "12   年台股昨日封關四大基金在尾盤大舉加碼買進台積電國泰金等權值股總計投入約億元政府基金表示美國升...   \n",
       "69   景氣不佳電子業成了去年放無薪假的大戶但在一片不景氣聲中還是有科技公司逆流而上初估年有檔個股具...   \n",
       "70   台股上周封關日集中及櫃買兩市場同步收紅本周為年元月首周市場聚焦新掛牌股外資歸隊主要公司去年月...   \n",
       "106  台積電奈米完勝三星製程強壓對手的奈米蘋果代工大單可望入袋三星暫緩擴廠腳步台北車展舊換新訂單出...   \n",
       "142  中央社台北年月日電台股今天是年第個交易日早盤即上演開低走低重挫走勢至時分止指數重跌點來到點主...   \n",
       "\n",
       "                                              page_url  check  \n",
       "12   https://tw.stock.yahoo.com/news_content/url/d/...      1  \n",
       "69   https://tw.stock.yahoo.com/news_content/url/d/...      1  \n",
       "70   https://tw.stock.yahoo.com/news_content/url/d/...      1  \n",
       "106  https://tw.stock.yahoo.com/news_content/url/d/...      1  \n",
       "142  https://tw.stock.yahoo.com/news_content/url/d/...      1  "
      ]
     },
     "execution_count": 9,
     "metadata": {},
     "output_type": "execute_result"
    }
   ],
   "source": [
    "news.head()"
   ]
  },
  {
   "cell_type": "code",
   "execution_count": 10,
   "metadata": {
    "id": "uZVhlxUjMUZU",
    "outputId": "cf6e8b2c-3eb0-471d-e9bc-75b684d329bd"
   },
   "outputs": [
    {
     "data": {
      "text/plain": [
       "'景氣不佳電子業成了去年放無薪假的大戶但在一片不景氣聲中還是有科技公司逆流而上初估年有檔個股具一股賺一股實力其中股王大立光更是鶴立雞群法人更看好全年上看元不僅創下台股空前紀錄更立下難以超越的大立光障礙儘管利空頻傳但年還是有很多科技公司跳出不景氣的框架合計去年前三季超過元的電子股就有檔搶先在第三季就宣告達陣一股賺一股者也不在少數包含大立光碩禾可成漢微科華碩楠梓電川湖群聯旭隼聯發科神準鼎翰長華譜瑞弘塑矽力聯亞鎧勝等共計檔占比達成其中去年最會賺錢的非大立光莫屬光前三季就賺進元法人預估第季因少了巨額匯兌利益挹注表現恐不若第季的元但仍有賺進元實力總計年每股獲利有望攀抵元較年的元再成長成以上緊追在後的太陽能股王碩禾受惠於太陽能產業氣觸底反彈年第季業績持續暢旺估計全年上看元更有法人喊出年每股獲利挑戰元的目標儘管如此碩禾每股獲利相較於大立光仍僅成出頭年雖然仍有檔科技股有賺進一個股本的實力不過其中有部分公司業績其實是倒退嚕包括一度貴為股王的漢微科及華碩聯發科譜瑞昂寶聯詠新普等檔其中設計股占了檔且設計股王聯發科年前三季獲利更少見地遽減成足見紅色供應鏈對設計族群衝擊力道著實驚人新聞來源工商時報記者鄭淑芳台北報導'"
      ]
     },
     "execution_count": 10,
     "metadata": {},
     "output_type": "execute_result"
    }
   ],
   "source": [
    "news[\"content\"].iloc[1]"
   ]
  },
  {
   "cell_type": "code",
   "execution_count": 11,
   "metadata": {
    "id": "VyHGo28nMUZU"
   },
   "outputs": [],
   "source": [
    "check=[0]*bbs.shape[0]\n",
    "for i in range(bbs.shape[0]):\n",
    "    temp=0\n",
    "    for j in checkin:\n",
    "        temp+=bbs[\"content\"].iloc[i].count(j)  \n",
    "        temp+=bbs[\"title\"].iloc[i].count(j)\n",
    "    if temp>=1:\n",
    "        check[i]=1\n",
    "    else:\n",
    "        check[i]=check[i]"
   ]
  },
  {
   "cell_type": "code",
   "execution_count": 12,
   "metadata": {
    "id": "3kM_CaZfMUZU",
    "outputId": "c30916dd-8388-49d2-8c3e-80dcf1f6de64"
   },
   "outputs": [
    {
     "name": "stdout",
     "output_type": "stream",
     "text": [
      "(1127, 11)\n"
     ]
    }
   ],
   "source": [
    "bbs[\"check\"]=check\n",
    "bbs=bbs[bbs[\"check\"]==1]\n",
    "print(bbs.shape)"
   ]
  },
  {
   "cell_type": "code",
   "execution_count": 13,
   "metadata": {
    "id": "abux_5o0MUZU",
    "outputId": "240f3d2f-0f8d-4c96-e61d-c0dcd16653e9"
   },
   "outputs": [
    {
     "data": {
      "text/html": [
       "<div>\n",
       "<style scoped>\n",
       "    .dataframe tbody tr th:only-of-type {\n",
       "        vertical-align: middle;\n",
       "    }\n",
       "\n",
       "    .dataframe tbody tr th {\n",
       "        vertical-align: top;\n",
       "    }\n",
       "\n",
       "    .dataframe thead th {\n",
       "        text-align: right;\n",
       "    }\n",
       "</style>\n",
       "<table border=\"1\" class=\"dataframe\">\n",
       "  <thead>\n",
       "    <tr style=\"text-align: right;\">\n",
       "      <th></th>\n",
       "      <th>id</th>\n",
       "      <th>p_type</th>\n",
       "      <th>s_name</th>\n",
       "      <th>s_area_name</th>\n",
       "      <th>comment_count</th>\n",
       "      <th>post_time</th>\n",
       "      <th>title</th>\n",
       "      <th>author</th>\n",
       "      <th>content</th>\n",
       "      <th>page_url</th>\n",
       "      <th>check</th>\n",
       "    </tr>\n",
       "  </thead>\n",
       "  <tbody>\n",
       "    <tr>\n",
       "      <th>8</th>\n",
       "      <td>1451614936232_PTT02R</td>\n",
       "      <td>bbs</td>\n",
       "      <td>Ptt</td>\n",
       "      <td>Stock</td>\n",
       "      <td>74</td>\n",
       "      <td>2016/1/1 10:17:46</td>\n",
       "      <td>新聞大基金封關加碼億年台股漲像</td>\n",
       "      <td>f204137</td>\n",
       "      <td>原文連結必須檢附原文內容工商時報記者崔慈悌王姿琳台北報導年台股昨日封關四大基金在尾盤大舉加碼...</td>\n",
       "      <td>http://www.ptt.cc/bbs/Stock/M.1451614669.A.9C1...</td>\n",
       "      <td>1</td>\n",
       "    </tr>\n",
       "    <tr>\n",
       "      <th>152</th>\n",
       "      <td>1451979914468_PTT02R</td>\n",
       "      <td>bbs</td>\n",
       "      <td>Ptt</td>\n",
       "      <td>Stock</td>\n",
       "      <td>52</td>\n",
       "      <td>2016/1/5 15:35:58</td>\n",
       "      <td>新聞大立光月合併營收億元</td>\n",
       "      <td>Reg1001</td>\n",
       "      <td>發文前請先詳閱新聞分類發文規範未依規範發文將受處份連結過長請善用縮網址連結能不能點擊者板規處...</td>\n",
       "      <td>http://www.ptt.cc/bbs/Stock/M.1451979361.A.D0A...</td>\n",
       "      <td>1</td>\n",
       "    </tr>\n",
       "    <tr>\n",
       "      <th>168</th>\n",
       "      <td>1451999495481_PTT02R</td>\n",
       "      <td>bbs</td>\n",
       "      <td>Ptt</td>\n",
       "      <td>Stock</td>\n",
       "      <td>46</td>\n",
       "      <td>2016/1/5 21:02:33</td>\n",
       "      <td>新聞罕見大立光去年月營收年減</td>\n",
       "      <td>allenyalun</td>\n",
       "      <td>原文連結必須檢附原文內容罕見大立光去年月營收年減中央社記者韓婷婷台北日電大立光電公布去年月合...</td>\n",
       "      <td>http://www.ptt.cc/bbs/Stock/M.1451998955.A.88A...</td>\n",
       "      <td>1</td>\n",
       "    </tr>\n",
       "    <tr>\n",
       "      <th>173</th>\n",
       "      <td>1452003341385_PTT02R</td>\n",
       "      <td>bbs</td>\n",
       "      <td>Ptt</td>\n",
       "      <td>Stock</td>\n",
       "      <td>53</td>\n",
       "      <td>2016/1/5 22:05:22</td>\n",
       "      <td>新聞大立光業績免驚外資喊到元</td>\n",
       "      <td>littledan</td>\n",
       "      <td>原文連結必須檢附原文內容股王大立光今天公告月營收億元月減成創下年月以來單月最低紀錄顯示蘋果光...</td>\n",
       "      <td>http://www.ptt.cc/bbs/Stock/M.1452002725.A.A9A...</td>\n",
       "      <td>1</td>\n",
       "    </tr>\n",
       "    <tr>\n",
       "      <th>174</th>\n",
       "      <td>1452003341731_PTT02R</td>\n",
       "      <td>bbs</td>\n",
       "      <td>Ptt</td>\n",
       "      <td>Stock</td>\n",
       "      <td>0</td>\n",
       "      <td>2016/1/5 22:14:47</td>\n",
       "      <td>公告板開始舉辦樂透</td>\n",
       "      <td>IanLi</td>\n",
       "      <td>大立光請到板按參與樂透一張幣迷你級樂透結束時間</td>\n",
       "      <td>http://www.ptt.cc/bbs/Stock/M.1452003288.A.23D...</td>\n",
       "      <td>1</td>\n",
       "    </tr>\n",
       "  </tbody>\n",
       "</table>\n",
       "</div>"
      ],
      "text/plain": [
       "                       id p_type s_name s_area_name  comment_count  \\\n",
       "8    1451614936232_PTT02R    bbs    Ptt       Stock             74   \n",
       "152  1451979914468_PTT02R    bbs    Ptt       Stock             52   \n",
       "168  1451999495481_PTT02R    bbs    Ptt       Stock             46   \n",
       "173  1452003341385_PTT02R    bbs    Ptt       Stock             53   \n",
       "174  1452003341731_PTT02R    bbs    Ptt       Stock              0   \n",
       "\n",
       "             post_time            title      author  \\\n",
       "8    2016/1/1 10:17:46  新聞大基金封關加碼億年台股漲像     f204137   \n",
       "152  2016/1/5 15:35:58     新聞大立光月合併營收億元     Reg1001   \n",
       "168  2016/1/5 21:02:33   新聞罕見大立光去年月營收年減  allenyalun   \n",
       "173  2016/1/5 22:05:22   新聞大立光業績免驚外資喊到元   littledan   \n",
       "174  2016/1/5 22:14:47        公告板開始舉辦樂透       IanLi   \n",
       "\n",
       "                                               content  \\\n",
       "8    原文連結必須檢附原文內容工商時報記者崔慈悌王姿琳台北報導年台股昨日封關四大基金在尾盤大舉加碼...   \n",
       "152  發文前請先詳閱新聞分類發文規範未依規範發文將受處份連結過長請善用縮網址連結能不能點擊者板規處...   \n",
       "168  原文連結必須檢附原文內容罕見大立光去年月營收年減中央社記者韓婷婷台北日電大立光電公布去年月合...   \n",
       "173  原文連結必須檢附原文內容股王大立光今天公告月營收億元月減成創下年月以來單月最低紀錄顯示蘋果光...   \n",
       "174                            大立光請到板按參與樂透一張幣迷你級樂透結束時間   \n",
       "\n",
       "                                              page_url  check  \n",
       "8    http://www.ptt.cc/bbs/Stock/M.1451614669.A.9C1...      1  \n",
       "152  http://www.ptt.cc/bbs/Stock/M.1451979361.A.D0A...      1  \n",
       "168  http://www.ptt.cc/bbs/Stock/M.1451998955.A.88A...      1  \n",
       "173  http://www.ptt.cc/bbs/Stock/M.1452002725.A.A9A...      1  \n",
       "174  http://www.ptt.cc/bbs/Stock/M.1452003288.A.23D...      1  "
      ]
     },
     "execution_count": 13,
     "metadata": {},
     "output_type": "execute_result"
    }
   ],
   "source": [
    "bbs.head(5)"
   ]
  },
  {
   "cell_type": "code",
   "execution_count": 14,
   "metadata": {
    "id": "c2dVWdWNMUZU",
    "outputId": "a6d806a8-8170-4920-f76d-0fda17f2d8f1"
   },
   "outputs": [
    {
     "name": "stdout",
     "output_type": "stream",
     "text": [
      "(12591, 3)\n"
     ]
    }
   ],
   "source": [
    "final_data=pd.concat([bbs[[\"post_time\",'title','content']],news[[\"post_time\",'title','content']]],axis=0)\n",
    "print(final_data.shape)"
   ]
  },
  {
   "cell_type": "code",
   "execution_count": 15,
   "metadata": {
    "id": "dkVFDqlBMUZU",
    "outputId": "4fe6ad17-a0f7-48fc-aa0c-019804c6c217"
   },
   "outputs": [
    {
     "name": "stdout",
     "output_type": "stream",
     "text": [
      "1    2418\n",
      "4    2410\n",
      "2    2390\n",
      "3    2386\n",
      "0    2322\n",
      "5     395\n",
      "6     270\n",
      "Name: weekday, dtype: int64\n"
     ]
    }
   ],
   "source": [
    "final_data[\"post_time\"]=final_data[\"post_time\"].apply(lambda x:pd.to_datetime(x))\n",
    "final_data[\"weekday\"]=final_data[\"post_time\"].apply(lambda x:x.weekday())\n",
    "print(pd.value_counts(final_data[\"weekday\"]))"
   ]
  },
  {
   "cell_type": "code",
   "execution_count": 16,
   "metadata": {
    "id": "thCyNtGQMUZU"
   },
   "outputs": [],
   "source": [
    "stock2016[\"年月日\"]=stock2016[\"年月日\"].apply(lambda x:pd.to_datetime(x))\n",
    "stock2017[\"年月日\"]=stock2017[\"年月日\"].apply(lambda x:pd.to_datetime(x))\n",
    "stock2018[\"年月日\"]=stock2018[\"年月日\"].apply(lambda x:pd.to_datetime(x))"
   ]
  },
  {
   "cell_type": "code",
   "execution_count": 17,
   "metadata": {
    "id": "zJtkfDM9MUZU"
   },
   "outputs": [],
   "source": [
    "stock2016=stock2016[stock2016[\"證券代碼\"]==\"3008 大立光\"]\n",
    "stock2017=stock2017[stock2017[\"證券代碼\"]==\"3008 大立光\"]\n",
    "stock2018=stock2018[stock2018[\"證券代碼\"]==\"3008 大立光\"]"
   ]
  },
  {
   "cell_type": "code",
   "execution_count": 18,
   "metadata": {
    "id": "kTGqHn_9MUZU"
   },
   "outputs": [],
   "source": [
    "stock2016=stock2016.iloc[::-1]\n",
    "stock2017=stock2017.iloc[::-1]\n",
    "stock2018=stock2018.iloc[::-1]"
   ]
  },
  {
   "cell_type": "code",
   "execution_count": 19,
   "metadata": {
    "id": "x85Lrg22MUZU",
    "outputId": "3ef46389-a6af-4da5-b7c7-0d2830a10d61"
   },
   "outputs": [
    {
     "data": {
      "text/html": [
       "<div>\n",
       "<style scoped>\n",
       "    .dataframe tbody tr th:only-of-type {\n",
       "        vertical-align: middle;\n",
       "    }\n",
       "\n",
       "    .dataframe tbody tr th {\n",
       "        vertical-align: top;\n",
       "    }\n",
       "\n",
       "    .dataframe thead th {\n",
       "        text-align: right;\n",
       "    }\n",
       "</style>\n",
       "<table border=\"1\" class=\"dataframe\">\n",
       "  <thead>\n",
       "    <tr style=\"text-align: right;\">\n",
       "      <th></th>\n",
       "      <th>證券代碼</th>\n",
       "      <th>年月日</th>\n",
       "      <th>開盤價(元)</th>\n",
       "      <th>最高價(元)</th>\n",
       "      <th>最低價(元)</th>\n",
       "      <th>收盤價(元)</th>\n",
       "      <th>成交量(千股)</th>\n",
       "      <th>成交值(千元)</th>\n",
       "      <th>成交筆數(筆)</th>\n",
       "      <th>流通在外股數(千股)</th>\n",
       "      <th>本益比-TSE</th>\n",
       "      <th>股價淨值比-TSE</th>\n",
       "    </tr>\n",
       "  </thead>\n",
       "  <tbody>\n",
       "    <tr>\n",
       "      <th>223187</th>\n",
       "      <td>3008 大立光</td>\n",
       "      <td>2016-01-04</td>\n",
       "      <td>2156.10</td>\n",
       "      <td>2170.44</td>\n",
       "      <td>2079.61</td>\n",
       "      <td>2079.61</td>\n",
       "      <td>677</td>\n",
       "      <td>1504074</td>\n",
       "      <td>677</td>\n",
       "      <td>134140</td>\n",
       "      <td>11.73</td>\n",
       "      <td>5.13</td>\n",
       "    </tr>\n",
       "    <tr>\n",
       "      <th>222279</th>\n",
       "      <td>3008 大立光</td>\n",
       "      <td>2016-01-05</td>\n",
       "      <td>2036.58</td>\n",
       "      <td>2060.49</td>\n",
       "      <td>2007.90</td>\n",
       "      <td>2017.46</td>\n",
       "      <td>1749</td>\n",
       "      <td>3717277</td>\n",
       "      <td>1672</td>\n",
       "      <td>134140</td>\n",
       "      <td>11.38</td>\n",
       "      <td>4.98</td>\n",
       "    </tr>\n",
       "    <tr>\n",
       "      <th>221370</th>\n",
       "      <td>3008 大立光</td>\n",
       "      <td>2016-01-06</td>\n",
       "      <td>1826.23</td>\n",
       "      <td>1878.82</td>\n",
       "      <td>1816.67</td>\n",
       "      <td>1874.04</td>\n",
       "      <td>3026</td>\n",
       "      <td>5811883</td>\n",
       "      <td>2494</td>\n",
       "      <td>134140</td>\n",
       "      <td>10.57</td>\n",
       "      <td>4.63</td>\n",
       "    </tr>\n",
       "    <tr>\n",
       "      <th>220461</th>\n",
       "      <td>3008 大立光</td>\n",
       "      <td>2016-01-07</td>\n",
       "      <td>1845.36</td>\n",
       "      <td>1859.70</td>\n",
       "      <td>1735.40</td>\n",
       "      <td>1749.74</td>\n",
       "      <td>2607</td>\n",
       "      <td>4885579</td>\n",
       "      <td>2462</td>\n",
       "      <td>134140</td>\n",
       "      <td>9.87</td>\n",
       "      <td>4.32</td>\n",
       "    </tr>\n",
       "    <tr>\n",
       "      <th>219552</th>\n",
       "      <td>3008 大立光</td>\n",
       "      <td>2016-01-08</td>\n",
       "      <td>1721.06</td>\n",
       "      <td>1912.29</td>\n",
       "      <td>1711.50</td>\n",
       "      <td>1888.38</td>\n",
       "      <td>2099</td>\n",
       "      <td>4014847</td>\n",
       "      <td>2060</td>\n",
       "      <td>134140</td>\n",
       "      <td>10.65</td>\n",
       "      <td>4.66</td>\n",
       "    </tr>\n",
       "  </tbody>\n",
       "</table>\n",
       "</div>"
      ],
      "text/plain": [
       "            證券代碼        年月日   開盤價(元)   最高價(元)   最低價(元)   收盤價(元)  成交量(千股)  \\\n",
       "223187  3008 大立光 2016-01-04  2156.10  2170.44  2079.61  2079.61      677   \n",
       "222279  3008 大立光 2016-01-05  2036.58  2060.49  2007.90  2017.46     1749   \n",
       "221370  3008 大立光 2016-01-06  1826.23  1878.82  1816.67  1874.04     3026   \n",
       "220461  3008 大立光 2016-01-07  1845.36  1859.70  1735.40  1749.74     2607   \n",
       "219552  3008 大立光 2016-01-08  1721.06  1912.29  1711.50  1888.38     2099   \n",
       "\n",
       "        成交值(千元)  成交筆數(筆)  流通在外股數(千股)  本益比-TSE  股價淨值比-TSE  \n",
       "223187  1504074      677      134140    11.73       5.13  \n",
       "222279  3717277     1672      134140    11.38       4.98  \n",
       "221370  5811883     2494      134140    10.57       4.63  \n",
       "220461  4885579     2462      134140     9.87       4.32  \n",
       "219552  4014847     2060      134140    10.65       4.66  "
      ]
     },
     "execution_count": 19,
     "metadata": {},
     "output_type": "execute_result"
    }
   ],
   "source": [
    "stock2016.head()"
   ]
  },
  {
   "cell_type": "code",
   "execution_count": 20,
   "metadata": {
    "id": "rA39VOAHMUZU",
    "outputId": "8757c77d-36d4-44f9-bf21-b124f30c230e"
   },
   "outputs": [
    {
     "data": {
      "text/html": [
       "<div>\n",
       "<style scoped>\n",
       "    .dataframe tbody tr th:only-of-type {\n",
       "        vertical-align: middle;\n",
       "    }\n",
       "\n",
       "    .dataframe tbody tr th {\n",
       "        vertical-align: top;\n",
       "    }\n",
       "\n",
       "    .dataframe thead th {\n",
       "        text-align: right;\n",
       "    }\n",
       "</style>\n",
       "<table border=\"1\" class=\"dataframe\">\n",
       "  <thead>\n",
       "    <tr style=\"text-align: right;\">\n",
       "      <th></th>\n",
       "      <th>證券代碼</th>\n",
       "      <th>年月日</th>\n",
       "      <th>開盤價(元)</th>\n",
       "      <th>最高價(元)</th>\n",
       "      <th>最低價(元)</th>\n",
       "      <th>收盤價(元)</th>\n",
       "      <th>成交量(千股)</th>\n",
       "      <th>成交值(千元)</th>\n",
       "      <th>成交筆數(筆)</th>\n",
       "      <th>流通在外股數(千股)</th>\n",
       "      <th>本益比-TSE</th>\n",
       "      <th>股價淨值比-TSE</th>\n",
       "      <th>漲跌</th>\n",
       "    </tr>\n",
       "  </thead>\n",
       "  <tbody>\n",
       "    <tr>\n",
       "      <th>223187</th>\n",
       "      <td>3008 大立光</td>\n",
       "      <td>2016-01-04</td>\n",
       "      <td>2156.10</td>\n",
       "      <td>2170.44</td>\n",
       "      <td>2079.61</td>\n",
       "      <td>2079.61</td>\n",
       "      <td>677</td>\n",
       "      <td>1504074</td>\n",
       "      <td>677</td>\n",
       "      <td>134140</td>\n",
       "      <td>11.73</td>\n",
       "      <td>5.13</td>\n",
       "      <td>NaN</td>\n",
       "    </tr>\n",
       "    <tr>\n",
       "      <th>222279</th>\n",
       "      <td>3008 大立光</td>\n",
       "      <td>2016-01-05</td>\n",
       "      <td>2036.58</td>\n",
       "      <td>2060.49</td>\n",
       "      <td>2007.90</td>\n",
       "      <td>2017.46</td>\n",
       "      <td>1749</td>\n",
       "      <td>3717277</td>\n",
       "      <td>1672</td>\n",
       "      <td>134140</td>\n",
       "      <td>11.38</td>\n",
       "      <td>4.98</td>\n",
       "      <td>-0.029885</td>\n",
       "    </tr>\n",
       "    <tr>\n",
       "      <th>221370</th>\n",
       "      <td>3008 大立光</td>\n",
       "      <td>2016-01-06</td>\n",
       "      <td>1826.23</td>\n",
       "      <td>1878.82</td>\n",
       "      <td>1816.67</td>\n",
       "      <td>1874.04</td>\n",
       "      <td>3026</td>\n",
       "      <td>5811883</td>\n",
       "      <td>2494</td>\n",
       "      <td>134140</td>\n",
       "      <td>10.57</td>\n",
       "      <td>4.63</td>\n",
       "      <td>-0.071089</td>\n",
       "    </tr>\n",
       "    <tr>\n",
       "      <th>220461</th>\n",
       "      <td>3008 大立光</td>\n",
       "      <td>2016-01-07</td>\n",
       "      <td>1845.36</td>\n",
       "      <td>1859.70</td>\n",
       "      <td>1735.40</td>\n",
       "      <td>1749.74</td>\n",
       "      <td>2607</td>\n",
       "      <td>4885579</td>\n",
       "      <td>2462</td>\n",
       "      <td>134140</td>\n",
       "      <td>9.87</td>\n",
       "      <td>4.32</td>\n",
       "      <td>-0.066327</td>\n",
       "    </tr>\n",
       "    <tr>\n",
       "      <th>219552</th>\n",
       "      <td>3008 大立光</td>\n",
       "      <td>2016-01-08</td>\n",
       "      <td>1721.06</td>\n",
       "      <td>1912.29</td>\n",
       "      <td>1711.50</td>\n",
       "      <td>1888.38</td>\n",
       "      <td>2099</td>\n",
       "      <td>4014847</td>\n",
       "      <td>2060</td>\n",
       "      <td>134140</td>\n",
       "      <td>10.65</td>\n",
       "      <td>4.66</td>\n",
       "      <td>0.079235</td>\n",
       "    </tr>\n",
       "  </tbody>\n",
       "</table>\n",
       "</div>"
      ],
      "text/plain": [
       "            證券代碼        年月日   開盤價(元)   最高價(元)   最低價(元)   收盤價(元)  成交量(千股)  \\\n",
       "223187  3008 大立光 2016-01-04  2156.10  2170.44  2079.61  2079.61      677   \n",
       "222279  3008 大立光 2016-01-05  2036.58  2060.49  2007.90  2017.46     1749   \n",
       "221370  3008 大立光 2016-01-06  1826.23  1878.82  1816.67  1874.04     3026   \n",
       "220461  3008 大立光 2016-01-07  1845.36  1859.70  1735.40  1749.74     2607   \n",
       "219552  3008 大立光 2016-01-08  1721.06  1912.29  1711.50  1888.38     2099   \n",
       "\n",
       "        成交值(千元)  成交筆數(筆)  流通在外股數(千股)  本益比-TSE  股價淨值比-TSE        漲跌  \n",
       "223187  1504074      677      134140    11.73       5.13       NaN  \n",
       "222279  3717277     1672      134140    11.38       4.98 -0.029885  \n",
       "221370  5811883     2494      134140    10.57       4.63 -0.071089  \n",
       "220461  4885579     2462      134140     9.87       4.32 -0.066327  \n",
       "219552  4014847     2060      134140    10.65       4.66  0.079235  "
      ]
     },
     "execution_count": 20,
     "metadata": {},
     "output_type": "execute_result"
    }
   ],
   "source": [
    "stock2016[\"漲跌\"]=stock2016[\"收盤價(元)\"].pct_change(periods=1)\n",
    "stock2017[\"漲跌\"]=stock2017[\"收盤價(元)\"].pct_change(periods=1)\n",
    "stock2018[\"漲跌\"]=stock2018[\"收盤價(元)\"].pct_change(periods=1)\n",
    "\n",
    "stock2016.head()"
   ]
  },
  {
   "cell_type": "code",
   "execution_count": 21,
   "metadata": {
    "id": "G0mkNfrgMUZU",
    "outputId": "be8801a2-0245-42b6-9018-25f053cd840d"
   },
   "outputs": [
    {
     "data": {
      "text/html": [
       "<div>\n",
       "<style scoped>\n",
       "    .dataframe tbody tr th:only-of-type {\n",
       "        vertical-align: middle;\n",
       "    }\n",
       "\n",
       "    .dataframe tbody tr th {\n",
       "        vertical-align: top;\n",
       "    }\n",
       "\n",
       "    .dataframe thead th {\n",
       "        text-align: right;\n",
       "    }\n",
       "</style>\n",
       "<table border=\"1\" class=\"dataframe\">\n",
       "  <thead>\n",
       "    <tr style=\"text-align: right;\">\n",
       "      <th></th>\n",
       "      <th>證券代碼</th>\n",
       "      <th>年月日</th>\n",
       "      <th>開盤價(元)</th>\n",
       "      <th>最高價(元)</th>\n",
       "      <th>最低價(元)</th>\n",
       "      <th>收盤價(元)</th>\n",
       "      <th>成交量(千股)</th>\n",
       "      <th>成交值(千元)</th>\n",
       "      <th>成交筆數(筆)</th>\n",
       "      <th>流通在外股數(千股)</th>\n",
       "      <th>本益比-TSE</th>\n",
       "      <th>股價淨值比-TSE</th>\n",
       "      <th>漲跌</th>\n",
       "    </tr>\n",
       "  </thead>\n",
       "  <tbody>\n",
       "    <tr>\n",
       "      <th>236327</th>\n",
       "      <td>3008 大立光</td>\n",
       "      <td>2018-01-03</td>\n",
       "      <td>4274.29</td>\n",
       "      <td>4274.29</td>\n",
       "      <td>4077.54</td>\n",
       "      <td>4077.54</td>\n",
       "      <td>842</td>\n",
       "      <td>3584849</td>\n",
       "      <td>983</td>\n",
       "      <td>134140</td>\n",
       "      <td>21.53</td>\n",
       "      <td>6.61</td>\n",
       "      <td>-0.025852</td>\n",
       "    </tr>\n",
       "    <tr>\n",
       "      <th>235377</th>\n",
       "      <td>3008 大立光</td>\n",
       "      <td>2018-01-04</td>\n",
       "      <td>4092.30</td>\n",
       "      <td>4116.89</td>\n",
       "      <td>4013.60</td>\n",
       "      <td>4067.71</td>\n",
       "      <td>516</td>\n",
       "      <td>2135595</td>\n",
       "      <td>597</td>\n",
       "      <td>134140</td>\n",
       "      <td>21.48</td>\n",
       "      <td>6.59</td>\n",
       "      <td>-0.002411</td>\n",
       "    </tr>\n",
       "    <tr>\n",
       "      <th>234427</th>\n",
       "      <td>3008 大立光</td>\n",
       "      <td>2018-01-05</td>\n",
       "      <td>4102.14</td>\n",
       "      <td>4102.14</td>\n",
       "      <td>3920.15</td>\n",
       "      <td>4033.28</td>\n",
       "      <td>829</td>\n",
       "      <td>3377411</td>\n",
       "      <td>874</td>\n",
       "      <td>134140</td>\n",
       "      <td>21.29</td>\n",
       "      <td>6.53</td>\n",
       "      <td>-0.008464</td>\n",
       "    </tr>\n",
       "    <tr>\n",
       "      <th>233477</th>\n",
       "      <td>3008 大立光</td>\n",
       "      <td>2018-01-08</td>\n",
       "      <td>3757.83</td>\n",
       "      <td>3890.64</td>\n",
       "      <td>3743.08</td>\n",
       "      <td>3866.04</td>\n",
       "      <td>1180</td>\n",
       "      <td>4584189</td>\n",
       "      <td>1499</td>\n",
       "      <td>134140</td>\n",
       "      <td>20.41</td>\n",
       "      <td>6.26</td>\n",
       "      <td>-0.041465</td>\n",
       "    </tr>\n",
       "    <tr>\n",
       "      <th>232527</th>\n",
       "      <td>3008 大立光</td>\n",
       "      <td>2018-01-09</td>\n",
       "      <td>3841.45</td>\n",
       "      <td>3910.31</td>\n",
       "      <td>3669.30</td>\n",
       "      <td>3684.05</td>\n",
       "      <td>1385</td>\n",
       "      <td>5296494</td>\n",
       "      <td>1738</td>\n",
       "      <td>134140</td>\n",
       "      <td>19.45</td>\n",
       "      <td>5.97</td>\n",
       "      <td>-0.047074</td>\n",
       "    </tr>\n",
       "  </tbody>\n",
       "</table>\n",
       "</div>"
      ],
      "text/plain": [
       "            證券代碼        年月日   開盤價(元)   最高價(元)   最低價(元)   收盤價(元)  成交量(千股)  \\\n",
       "236327  3008 大立光 2018-01-03  4274.29  4274.29  4077.54  4077.54      842   \n",
       "235377  3008 大立光 2018-01-04  4092.30  4116.89  4013.60  4067.71      516   \n",
       "234427  3008 大立光 2018-01-05  4102.14  4102.14  3920.15  4033.28      829   \n",
       "233477  3008 大立光 2018-01-08  3757.83  3890.64  3743.08  3866.04     1180   \n",
       "232527  3008 大立光 2018-01-09  3841.45  3910.31  3669.30  3684.05     1385   \n",
       "\n",
       "        成交值(千元)  成交筆數(筆)  流通在外股數(千股)  本益比-TSE  股價淨值比-TSE        漲跌  \n",
       "236327  3584849      983      134140    21.53       6.61 -0.025852  \n",
       "235377  2135595      597      134140    21.48       6.59 -0.002411  \n",
       "234427  3377411      874      134140    21.29       6.53 -0.008464  \n",
       "233477  4584189     1499      134140    20.41       6.26 -0.041465  \n",
       "232527  5296494     1738      134140    19.45       5.97 -0.047074  "
      ]
     },
     "execution_count": 21,
     "metadata": {},
     "output_type": "execute_result"
    }
   ],
   "source": [
    "stock2016=stock2016.iloc[1:]\n",
    "stock2017=stock2017.iloc[1:]\n",
    "stock2018=stock2018.iloc[1:]\n",
    "stock2018.head()"
   ]
  },
  {
   "cell_type": "code",
   "execution_count": 22,
   "metadata": {
    "id": "t1fBC6cOMUZU",
    "outputId": "3c87f231-f7ad-45b6-a3cb-6b2fc23e6256"
   },
   "outputs": [
    {
     "data": {
      "text/html": [
       "<div>\n",
       "<style scoped>\n",
       "    .dataframe tbody tr th:only-of-type {\n",
       "        vertical-align: middle;\n",
       "    }\n",
       "\n",
       "    .dataframe tbody tr th {\n",
       "        vertical-align: top;\n",
       "    }\n",
       "\n",
       "    .dataframe thead th {\n",
       "        text-align: right;\n",
       "    }\n",
       "</style>\n",
       "<table border=\"1\" class=\"dataframe\">\n",
       "  <thead>\n",
       "    <tr style=\"text-align: right;\">\n",
       "      <th></th>\n",
       "      <th>證券代碼</th>\n",
       "      <th>年月日</th>\n",
       "      <th>開盤價(元)</th>\n",
       "      <th>最高價(元)</th>\n",
       "      <th>最低價(元)</th>\n",
       "      <th>收盤價(元)</th>\n",
       "      <th>成交量(千股)</th>\n",
       "      <th>成交值(千元)</th>\n",
       "      <th>成交筆數(筆)</th>\n",
       "      <th>流通在外股數(千股)</th>\n",
       "      <th>本益比-TSE</th>\n",
       "      <th>股價淨值比-TSE</th>\n",
       "      <th>漲跌</th>\n",
       "    </tr>\n",
       "  </thead>\n",
       "  <tbody>\n",
       "    <tr>\n",
       "      <th>222279</th>\n",
       "      <td>3008 大立光</td>\n",
       "      <td>2016-01-05</td>\n",
       "      <td>2036.58</td>\n",
       "      <td>2060.49</td>\n",
       "      <td>2007.90</td>\n",
       "      <td>2017.46</td>\n",
       "      <td>1749</td>\n",
       "      <td>3717277</td>\n",
       "      <td>1672</td>\n",
       "      <td>134140</td>\n",
       "      <td>11.38</td>\n",
       "      <td>4.98</td>\n",
       "      <td>-0.029885</td>\n",
       "    </tr>\n",
       "    <tr>\n",
       "      <th>221370</th>\n",
       "      <td>3008 大立光</td>\n",
       "      <td>2016-01-06</td>\n",
       "      <td>1826.23</td>\n",
       "      <td>1878.82</td>\n",
       "      <td>1816.67</td>\n",
       "      <td>1874.04</td>\n",
       "      <td>3026</td>\n",
       "      <td>5811883</td>\n",
       "      <td>2494</td>\n",
       "      <td>134140</td>\n",
       "      <td>10.57</td>\n",
       "      <td>4.63</td>\n",
       "      <td>-0.071089</td>\n",
       "    </tr>\n",
       "    <tr>\n",
       "      <th>220461</th>\n",
       "      <td>3008 大立光</td>\n",
       "      <td>2016-01-07</td>\n",
       "      <td>1845.36</td>\n",
       "      <td>1859.70</td>\n",
       "      <td>1735.40</td>\n",
       "      <td>1749.74</td>\n",
       "      <td>2607</td>\n",
       "      <td>4885579</td>\n",
       "      <td>2462</td>\n",
       "      <td>134140</td>\n",
       "      <td>9.87</td>\n",
       "      <td>4.32</td>\n",
       "      <td>-0.066327</td>\n",
       "    </tr>\n",
       "    <tr>\n",
       "      <th>219552</th>\n",
       "      <td>3008 大立光</td>\n",
       "      <td>2016-01-08</td>\n",
       "      <td>1721.06</td>\n",
       "      <td>1912.29</td>\n",
       "      <td>1711.50</td>\n",
       "      <td>1888.38</td>\n",
       "      <td>2099</td>\n",
       "      <td>4014847</td>\n",
       "      <td>2060</td>\n",
       "      <td>134140</td>\n",
       "      <td>10.65</td>\n",
       "      <td>4.66</td>\n",
       "      <td>0.079235</td>\n",
       "    </tr>\n",
       "    <tr>\n",
       "      <th>218643</th>\n",
       "      <td>3008 大立光</td>\n",
       "      <td>2016-01-11</td>\n",
       "      <td>1874.04</td>\n",
       "      <td>1921.85</td>\n",
       "      <td>1845.36</td>\n",
       "      <td>1850.14</td>\n",
       "      <td>1168</td>\n",
       "      <td>2298989</td>\n",
       "      <td>1224</td>\n",
       "      <td>134140</td>\n",
       "      <td>10.44</td>\n",
       "      <td>4.57</td>\n",
       "      <td>-0.020250</td>\n",
       "    </tr>\n",
       "  </tbody>\n",
       "</table>\n",
       "</div>"
      ],
      "text/plain": [
       "            證券代碼        年月日   開盤價(元)   最高價(元)   最低價(元)   收盤價(元)  成交量(千股)  \\\n",
       "222279  3008 大立光 2016-01-05  2036.58  2060.49  2007.90  2017.46     1749   \n",
       "221370  3008 大立光 2016-01-06  1826.23  1878.82  1816.67  1874.04     3026   \n",
       "220461  3008 大立光 2016-01-07  1845.36  1859.70  1735.40  1749.74     2607   \n",
       "219552  3008 大立光 2016-01-08  1721.06  1912.29  1711.50  1888.38     2099   \n",
       "218643  3008 大立光 2016-01-11  1874.04  1921.85  1845.36  1850.14     1168   \n",
       "\n",
       "        成交值(千元)  成交筆數(筆)  流通在外股數(千股)  本益比-TSE  股價淨值比-TSE        漲跌  \n",
       "222279  3717277     1672      134140    11.38       4.98 -0.029885  \n",
       "221370  5811883     2494      134140    10.57       4.63 -0.071089  \n",
       "220461  4885579     2462      134140     9.87       4.32 -0.066327  \n",
       "219552  4014847     2060      134140    10.65       4.66  0.079235  \n",
       "218643  2298989     1224      134140    10.44       4.57 -0.020250  "
      ]
     },
     "execution_count": 22,
     "metadata": {},
     "output_type": "execute_result"
    }
   ],
   "source": [
    "testing=pd.concat([stock2016,stock2017,stock2018],axis=0)\n",
    "testing.head()"
   ]
  },
  {
   "cell_type": "code",
   "execution_count": 23,
   "metadata": {
    "id": "qhEJUim7MUZV",
    "outputId": "479b92d3-cc34-4d82-c4b1-5076349f459d"
   },
   "outputs": [
    {
     "data": {
      "text/plain": [
       "[]"
      ]
     },
     "execution_count": 23,
     "metadata": {},
     "output_type": "execute_result"
    },
    {
     "data": {
      "image/png": "[encoded data removed]",
      "text/plain": [
       "<Figure size 1152x576 with 1 Axes>"
      ]
     },
     "metadata": {
      "needs_background": "light"
     },
     "output_type": "display_data"
    }
   ],
   "source": [
    "import matplotlib.pyplot as plt\n",
    "import seaborn as sns\n",
    "import matplotlib as mpl\n",
    "mpl.rcParams['axes.unicode_minus']=False\n",
    "fig, ax = plt.subplots(figsize=(16,8))\n",
    "stockmin=testing[testing[\"漲跌\"]<0].set_index(\"年月日\")\n",
    "stockplus=testing[testing[\"漲跌\"]>0].set_index('年月日')\n",
    "sns.lineplot(x=stockmin.index, y = '漲跌', data=stockmin, color='g')\n",
    "sns.lineplot(x=stockplus.index, y = '漲跌', data=stockplus)\n",
    "ax.set_xlabel ('Date', fontsize=20)\n",
    "ax.set_ylabel ('pct_change', fontsize=20)\n",
    "ax.tick_params(labelsize=15)\n",
    "fig.suptitle('Trend of rise and fall' , fontsize=20)\n",
    "fig.legend(['Fall',\"Rise\"], fontsize=20)\n",
    "plt.plot()"
   ]
  },
  {
   "cell_type": "code",
   "execution_count": 24,
   "metadata": {
    "id": "1qNHIpRCMUZV"
   },
   "outputs": [],
   "source": [
    "final_data[\"post_time\"]=final_data[\"post_time\"].apply(lambda x:x.replace(hour=0, minute=0, second=0, microsecond=0))"
   ]
  },
  {
   "cell_type": "code",
   "execution_count": 25,
   "metadata": {
    "id": "fHVmQ9A7MUZV"
   },
   "outputs": [],
   "source": [
    "import numpy as np\n",
    "def judge2016(x):\n",
    "    if  x>0 and x>np.percentile(stock2016[stock2016[\"漲跌\"]>0][\"漲跌\"],50):\n",
    "        return \"rise\"\n",
    "    elif x<0 and x<np.percentile(stock2016[stock2016[\"漲跌\"]<0][\"漲跌\"],50):\n",
    "        return \"fall\"\n",
    "    else:\n",
    "        return \"same\"\n",
    "def judge2017(x):\n",
    "    if  x>0 and x>np.percentile(stock2017[stock2017[\"漲跌\"]>0][\"漲跌\"],50):\n",
    "        return \"rise\"\n",
    "    elif x<0 and x<np.percentile(stock2017[stock2017[\"漲跌\"]<0][\"漲跌\"],50):\n",
    "        return \"fall\"\n",
    "    else:\n",
    "        return \"same\"\n",
    "def judge2018(x):\n",
    "    if   x>0 and x>np.percentile(stock2018[stock2018[\"漲跌\"]>0][\"漲跌\"],50):\n",
    "        return \"rise\"\n",
    "    elif x<0 and x<np.percentile(stock2018[stock2018[\"漲跌\"]<0][\"漲跌\"],50):\n",
    "        return \"fall\"\n",
    "    else:\n",
    "        return \"same\""
   ]
  },
  {
   "cell_type": "code",
   "execution_count": 26,
   "metadata": {
    "id": "E65TpvzJMUZV",
    "outputId": "83b4ff24-df25-4197-a130-2593e28cca8e"
   },
   "outputs": [
    {
     "data": {
      "text/plain": [
       "count    113.000000\n",
       "mean      -0.019600\n",
       "std        0.015839\n",
       "min       -0.071089\n",
       "25%       -0.023874\n",
       "50%       -0.015407\n",
       "75%       -0.009176\n",
       "max       -0.001373\n",
       "Name: 漲跌, dtype: float64"
      ]
     },
     "execution_count": 26,
     "metadata": {},
     "output_type": "execute_result"
    }
   ],
   "source": [
    "stock2016[stock2016[\"漲跌\"]<0][\"漲跌\"].describe()"
   ]
  },
  {
   "cell_type": "code",
   "execution_count": 27,
   "metadata": {
    "id": "0qFIxEylMUZV"
   },
   "outputs": [],
   "source": [
    "stock2016[\"看漲看跌\"]=stock2016[\"漲跌\"].apply(judge2016)\n",
    "stock2017[\"看漲看跌\"]=stock2017[\"漲跌\"].apply(judge2017)\n",
    "stock2018[\"看漲看跌\"]=stock2018[\"漲跌\"].apply(judge2018)"
   ]
  },
  {
   "cell_type": "code",
   "execution_count": 28,
   "metadata": {
    "id": "rEHnbvONMUZV",
    "outputId": "7c070cd7-0d06-467a-e604-ac6d3a0f88c3"
   },
   "outputs": [
    {
     "data": {
      "text/plain": [
       "same    128\n",
       "rise     59\n",
       "fall     56\n",
       "Name: 看漲看跌, dtype: int64"
      ]
     },
     "execution_count": 28,
     "metadata": {},
     "output_type": "execute_result"
    }
   ],
   "source": [
    "stock2016[\"看漲看跌\"].value_counts()"
   ]
  },
  {
   "cell_type": "code",
   "execution_count": 29,
   "metadata": {
    "id": "x-Wwivm3MUZV"
   },
   "outputs": [],
   "source": [
    "\"\"\"\n",
    "Monday      predict Tuesday +1\n",
    "Tuesday     predict Wednesday +1\n",
    "Wednesday   predict Thursday +1\n",
    "Thursday    predict Friday +1\n",
    "Friday      predict Monday +3\n",
    "Saturday    predict Monday +2\n",
    "Sunday      predict Monday +1\n",
    "\"\"\"\n",
    "from datetime import timedelta\n",
    "#delta = timedelta(days=?)\n",
    "final_data[\"tag\"]=\"\""
   ]
  },
  {
   "cell_type": "code",
   "execution_count": 30,
   "metadata": {
    "id": "RBs2_rBdMUZV"
   },
   "outputs": [],
   "source": [
    "data2016=final_data[final_data[\"post_time\"]<\"2017\"]\n",
    "data2017=final_data[final_data[\"post_time\"]<\"2018\"]\n",
    "data2018=final_data[final_data[\"post_time\"]<\"2019\"]"
   ]
  },
  {
   "cell_type": "code",
   "execution_count": 31,
   "metadata": {
    "id": "DDUToEAtMUZV"
   },
   "outputs": [],
   "source": [
    "import warnings\n",
    "warnings.filterwarnings('ignore')\n",
    "ans2016=[]\n",
    "for i in range(len(data2016)):\n",
    "    if data2016[\"weekday\"].iloc[i]==0 or data2016[\"weekday\"].iloc[i]==1 or data2016[\"weekday\"].iloc[i]==2 or data2016[\"weekday\"].iloc[i]==3 or data2016[\"weekday\"].iloc[i]==4:\n",
    "        check=data2016[\"post_time\"].iloc[i]+timedelta(days=1)\n",
    "        ans2016.append(stock2016[stock2016[\"年月日\"]==check][\"看漲看跌\"].values)\n",
    "    elif  data2016[\"weekday\"].iloc[i]==5:\n",
    "        check=data2016[\"post_time\"].iloc[i]+timedelta(days=3)\n",
    "        ans2016.append(stock2016[stock2016[\"年月日\"]==check][\"看漲看跌\"].values) \n",
    "    else:\n",
    "        check=data2016[\"post_time\"].iloc[i]+timedelta(days=2)\n",
    "        ans2016.append(stock2016[stock2016[\"年月日\"]==check][\"看漲看跌\"].values)\n",
    "\n",
    "data2016[\"tag\"]=ans2016\n",
    "data2016[\"len\"]=data2016[\"tag\"].apply(lambda x:len(x))\n",
    "data2016=data2016[data2016[\"len\"]!=0]\n",
    "        \n",
    "ans2017=[]\n",
    "for i in range(len(data2017)):\n",
    "    if data2017[\"weekday\"].iloc[i]==0 or data2017[\"weekday\"].iloc[i]==1 or data2017[\"weekday\"].iloc[i]==2 or data2017[\"weekday\"].iloc[i]==3 or data2017[\"weekday\"].iloc[i]==4 :\n",
    "        check=data2017[\"post_time\"].iloc[i]+timedelta(days=1)\n",
    "        ans2017.append(stock2017[stock2017[\"年月日\"]==check][\"看漲看跌\"].values)\n",
    "    elif  data2017[\"weekday\"].iloc[i]==5:\n",
    "        check=data2017[\"post_time\"].iloc[i]+timedelta(days=3)\n",
    "        ans2017.append(stock2017[stock2017[\"年月日\"]==check][\"看漲看跌\"].values) \n",
    "    else:\n",
    "        check=data2017[\"post_time\"].iloc[i]+timedelta(days=2)\n",
    "        ans2017.append(stock2017[stock2017[\"年月日\"]==check][\"看漲看跌\"].values)\n",
    "\n",
    "data2017[\"tag\"]=ans2017\n",
    "data2017[\"len\"]=data2017[\"tag\"].apply(lambda x:len(x))\n",
    "data2017=data2017[data2017[\"len\"]!=0]\n",
    "\n",
    "ans2018=[]\n",
    "for i in range(len(data2018)):\n",
    "    if data2018[\"weekday\"].iloc[i]==0 or data2018[\"weekday\"].iloc[i]==1 or data2018[\"weekday\"].iloc[i]==2 or data2018[\"weekday\"].iloc[i]==3 or data2018[\"weekday\"].iloc[i]==4 :\n",
    "        check=data2018[\"post_time\"].iloc[i]+timedelta(days=1)\n",
    "        ans2018.append(stock2018[stock2018[\"年月日\"]==check][\"看漲看跌\"].values)\n",
    "    elif  data2018[\"weekday\"].iloc[i]==5:\n",
    "        check=data2018[\"post_time\"].iloc[i]+timedelta(days=3)\n",
    "        ans2018.append(stock2018[stock2018[\"年月日\"]==check][\"看漲看跌\"].values) \n",
    "    else:\n",
    "        check=data2018[\"post_time\"].iloc[i]+timedelta(days=2)\n",
    "        ans2018.append(stock2018[stock2018[\"年月日\"]==check][\"看漲看跌\"].values)\n",
    "\n",
    "data2018[\"tag\"]=ans2018\n",
    "data2018[\"len\"]=data2018[\"tag\"].apply(lambda x:len(x))\n",
    "data2018=data2018[data2018[\"len\"]!=0]\n"
   ]
  },
  {
   "cell_type": "code",
   "execution_count": 32,
   "metadata": {
    "id": "vro3_SjGMUZV",
    "outputId": "8d60523c-06ef-4270-fda0-bfac9cbaa6cb"
   },
   "outputs": [
    {
     "data": {
      "text/html": [
       "<div>\n",
       "<style scoped>\n",
       "    .dataframe tbody tr th:only-of-type {\n",
       "        vertical-align: middle;\n",
       "    }\n",
       "\n",
       "    .dataframe tbody tr th {\n",
       "        vertical-align: top;\n",
       "    }\n",
       "\n",
       "    .dataframe thead th {\n",
       "        text-align: right;\n",
       "    }\n",
       "</style>\n",
       "<table border=\"1\" class=\"dataframe\">\n",
       "  <thead>\n",
       "    <tr style=\"text-align: right;\">\n",
       "      <th></th>\n",
       "      <th>post_time</th>\n",
       "      <th>title</th>\n",
       "      <th>content</th>\n",
       "      <th>weekday</th>\n",
       "      <th>tag</th>\n",
       "    </tr>\n",
       "  </thead>\n",
       "  <tbody>\n",
       "    <tr>\n",
       "      <th>152</th>\n",
       "      <td>2016-01-05</td>\n",
       "      <td>新聞大立光月合併營收億元</td>\n",
       "      <td>發文前請先詳閱新聞分類發文規範未依規範發文將受處份連結過長請善用縮網址連結能不能點擊者板規處...</td>\n",
       "      <td>1</td>\n",
       "      <td>fall</td>\n",
       "    </tr>\n",
       "    <tr>\n",
       "      <th>168</th>\n",
       "      <td>2016-01-05</td>\n",
       "      <td>新聞罕見大立光去年月營收年減</td>\n",
       "      <td>原文連結必須檢附原文內容罕見大立光去年月營收年減中央社記者韓婷婷台北日電大立光電公布去年月合...</td>\n",
       "      <td>1</td>\n",
       "      <td>fall</td>\n",
       "    </tr>\n",
       "    <tr>\n",
       "      <th>173</th>\n",
       "      <td>2016-01-05</td>\n",
       "      <td>新聞大立光業績免驚外資喊到元</td>\n",
       "      <td>原文連結必須檢附原文內容股王大立光今天公告月營收億元月減成創下年月以來單月最低紀錄顯示蘋果光...</td>\n",
       "      <td>1</td>\n",
       "      <td>fall</td>\n",
       "    </tr>\n",
       "    <tr>\n",
       "      <th>174</th>\n",
       "      <td>2016-01-05</td>\n",
       "      <td>公告板開始舉辦樂透</td>\n",
       "      <td>大立光請到板按參與樂透一張幣迷你級樂透結束時間</td>\n",
       "      <td>1</td>\n",
       "      <td>fall</td>\n",
       "    </tr>\n",
       "    <tr>\n",
       "      <th>189</th>\n",
       "      <td>2016-01-06</td>\n",
       "      <td>新聞賣超差傳通路庫存爆滿</td>\n",
       "      <td>賣超差傳通路庫存爆滿蘋果砍單三成時間年月日上午聚財網新聞記者陳瑞哲報導大立光前月營收大減三成...</td>\n",
       "      <td>2</td>\n",
       "      <td>fall</td>\n",
       "    </tr>\n",
       "  </tbody>\n",
       "</table>\n",
       "</div>"
      ],
      "text/plain": [
       "     post_time           title  \\\n",
       "152 2016-01-05    新聞大立光月合併營收億元   \n",
       "168 2016-01-05  新聞罕見大立光去年月營收年減   \n",
       "173 2016-01-05  新聞大立光業績免驚外資喊到元   \n",
       "174 2016-01-05       公告板開始舉辦樂透   \n",
       "189 2016-01-06    新聞賣超差傳通路庫存爆滿   \n",
       "\n",
       "                                               content  weekday   tag  \n",
       "152  發文前請先詳閱新聞分類發文規範未依規範發文將受處份連結過長請善用縮網址連結能不能點擊者板規處...        1  fall  \n",
       "168  原文連結必須檢附原文內容罕見大立光去年月營收年減中央社記者韓婷婷台北日電大立光電公布去年月合...        1  fall  \n",
       "173  原文連結必須檢附原文內容股王大立光今天公告月營收億元月減成創下年月以來單月最低紀錄顯示蘋果光...        1  fall  \n",
       "174                            大立光請到板按參與樂透一張幣迷你級樂透結束時間        1  fall  \n",
       "189  賣超差傳通路庫存爆滿蘋果砍單三成時間年月日上午聚財網新聞記者陳瑞哲報導大立光前月營收大減三成...        2  fall  "
      ]
     },
     "execution_count": 32,
     "metadata": {},
     "output_type": "execute_result"
    }
   ],
   "source": [
    "final=pd.concat([data2016,data2017,data2018],axis=0).drop(\"len\",axis=1)\n",
    "final[\"tag\"]=final[\"tag\"].apply(lambda x:x[0])\n",
    "final.head()"
   ]
  },
  {
   "cell_type": "code",
   "execution_count": 33,
   "metadata": {
    "id": "-SR7IQ0JMUZV"
   },
   "outputs": [],
   "source": [
    "final.set_index(\"post_time\").to_csv(\"data_with_tag.csv\")"
   ]
  },
  {
   "cell_type": "code",
   "execution_count": 34,
   "metadata": {
    "id": "2gWMMv9_MUZV"
   },
   "outputs": [],
   "source": [
    "#stock2018[stock2018[\"年月日\"]==\"2018-12-26\"]"
   ]
  },
  {
   "cell_type": "code",
   "execution_count": 35,
   "metadata": {
    "id": "Lrg0YgI5MUZV"
   },
   "outputs": [],
   "source": [
    "#final.tail(50)"
   ]
  },
  {
   "cell_type": "code",
   "execution_count": 36,
   "metadata": {
    "id": "hQ6Da_YSMUZV",
    "outputId": "4d3341ca-16e5-4360-df79-4f855e77ec89"
   },
   "outputs": [
    {
     "name": "stdout",
     "output_type": "stream",
     "text": [
      "(10041, 5)\n"
     ]
    }
   ],
   "source": [
    "print(final.shape)"
   ]
  },
  {
   "cell_type": "code",
   "execution_count": 37,
   "metadata": {
    "id": "roJelNt4MUZV",
    "outputId": "77cd2516-5791-427b-a33e-dc8e523b6079"
   },
   "outputs": [
    {
     "data": {
      "text/plain": [
       "same    5235\n",
       "fall    2543\n",
       "rise    2263\n",
       "Name: tag, dtype: int64"
      ]
     },
     "execution_count": 37,
     "metadata": {},
     "output_type": "execute_result"
    }
   ],
   "source": [
    "#final[\"content\"].iloc[0]\n",
    "pd.value_counts(final[\"tag\"])"
   ]
  },
  {
   "cell_type": "code",
   "execution_count": null,
   "metadata": {
    "id": "oBbMRB5WMUZV"
   },
   "outputs": [],
   "source": []
  },
  {
   "cell_type": "code",
   "execution_count": null,
   "metadata": {
    "id": "E6ddk_USMUZV"
   },
   "outputs": [],
   "source": []
  },
  {
   "cell_type": "code",
   "execution_count": null,
   "metadata": {
    "id": "-PlYK_qlMUZV"
   },
   "outputs": [],
   "source": []
  }
 ],
 "metadata": {
  "colab": {
   "name": "Stock.ipynb",
   "provenance": []
  },
  "kernelspec": {
   "display_name": "Python 3",
   "language": "python",
   "name": "python3"
  },
  "language_info": {
   "codemirror_mode": {
    "name": "ipython",
    "version": 3
   },
   "file_extension": ".py",
   "mimetype": "text/x-python",
   "name": "python",
   "nbconvert_exporter": "python",
   "pygments_lexer": "ipython3",
   "version": "3.8.3"
  }
 },
 "nbformat": 4,
 "nbformat_minor": 1
}
