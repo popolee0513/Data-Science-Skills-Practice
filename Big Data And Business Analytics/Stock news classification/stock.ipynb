{
 "cells": [
  {
   "cell_type": "code",
   "execution_count": 1,
   "metadata": {},
   "outputs": [],
   "source": [
    "import pandas as pd\n",
    "import warnings\n",
    "import calendar\n",
    "import matplotlib.pyplot as plt\n",
    "import seaborn as sns\n",
    "import matplotlib as mpl\n",
    "import re\n",
    "import string\n",
    "import numpy as np\n",
    "from datetime import timedelta\n",
    "from sklearn.metrics import accuracy_score\n",
    "from sklearn.model_selection import train_test_split\n",
    "import pickle\n",
    "from flaml import AutoML\n",
    "mpl.rcParams['axes.unicode_minus']=False\n",
    "warnings.filterwarnings('ignore')\n",
    "bbs=pd.read_csv(\"bbs.csv\")\n",
    "news=pd.read_csv(\"news.csv\")\n",
    "forum = pd.read_csv(\"forum.csv\")"
   ]
  },
  {
   "cell_type": "code",
   "execution_count": 2,
   "metadata": {},
   "outputs": [
    {
     "name": "stdout",
     "output_type": "stream",
     "text": [
      "(58078, 10)\n",
      "(247273, 9)\n",
      "(25952, 10)\n"
     ]
    }
   ],
   "source": [
    "print(bbs.shape)\n",
    "print(news.shape)\n",
    "print(forum.shape)"
   ]
  },
  {
   "cell_type": "code",
   "execution_count": 3,
   "metadata": {},
   "outputs": [
    {
     "data": {
      "text/html": [
       "<div>\n",
       "<style scoped>\n",
       "    .dataframe tbody tr th:only-of-type {\n",
       "        vertical-align: middle;\n",
       "    }\n",
       "\n",
       "    .dataframe tbody tr th {\n",
       "        vertical-align: top;\n",
       "    }\n",
       "\n",
       "    .dataframe thead th {\n",
       "        text-align: right;\n",
       "    }\n",
       "</style>\n",
       "<table border=\"1\" class=\"dataframe\">\n",
       "  <thead>\n",
       "    <tr style=\"text-align: right;\">\n",
       "      <th></th>\n",
       "      <th>證券代碼</th>\n",
       "      <th>年月日</th>\n",
       "      <th>開盤價(元)</th>\n",
       "      <th>最高價(元)</th>\n",
       "      <th>最低價(元)</th>\n",
       "      <th>收盤價(元)</th>\n",
       "      <th>成交量(千股)</th>\n",
       "      <th>成交值(千元)</th>\n",
       "      <th>成交筆數(筆)</th>\n",
       "      <th>流通在外股數(千股)</th>\n",
       "      <th>本益比-TSE</th>\n",
       "      <th>股價淨值比-TSE</th>\n",
       "    </tr>\n",
       "  </thead>\n",
       "  <tbody>\n",
       "    <tr>\n",
       "      <th>0</th>\n",
       "      <td>1101 台泥</td>\n",
       "      <td>2016-12-30</td>\n",
       "      <td>29.09</td>\n",
       "      <td>29.64</td>\n",
       "      <td>28.93</td>\n",
       "      <td>29.64</td>\n",
       "      <td>6121</td>\n",
       "      <td>213121</td>\n",
       "      <td>2939</td>\n",
       "      <td>3692175</td>\n",
       "      <td>20.56</td>\n",
       "      <td>1.23</td>\n",
       "    </tr>\n",
       "    <tr>\n",
       "      <th>1</th>\n",
       "      <td>1102 亞泥</td>\n",
       "      <td>2016-12-30</td>\n",
       "      <td>24.91</td>\n",
       "      <td>24.91</td>\n",
       "      <td>24.67</td>\n",
       "      <td>24.81</td>\n",
       "      <td>3347</td>\n",
       "      <td>88078</td>\n",
       "      <td>1227</td>\n",
       "      <td>3361447</td>\n",
       "      <td>31.75</td>\n",
       "      <td>0.73</td>\n",
       "    </tr>\n",
       "    <tr>\n",
       "      <th>2</th>\n",
       "      <td>1103 嘉泥</td>\n",
       "      <td>2016-12-30</td>\n",
       "      <td>8.29</td>\n",
       "      <td>8.29</td>\n",
       "      <td>8.29</td>\n",
       "      <td>8.29</td>\n",
       "      <td>0</td>\n",
       "      <td>0</td>\n",
       "      <td>0</td>\n",
       "      <td>774780</td>\n",
       "      <td>11.19</td>\n",
       "      <td>0.40</td>\n",
       "    </tr>\n",
       "    <tr>\n",
       "      <th>3</th>\n",
       "      <td>1104 環泥</td>\n",
       "      <td>2016-12-30</td>\n",
       "      <td>21.19</td>\n",
       "      <td>21.54</td>\n",
       "      <td>21.19</td>\n",
       "      <td>21.54</td>\n",
       "      <td>141</td>\n",
       "      <td>3492</td>\n",
       "      <td>115</td>\n",
       "      <td>634572</td>\n",
       "      <td>9.27</td>\n",
       "      <td>0.97</td>\n",
       "    </tr>\n",
       "    <tr>\n",
       "      <th>4</th>\n",
       "      <td>1108 幸福</td>\n",
       "      <td>2016-12-30</td>\n",
       "      <td>8.55</td>\n",
       "      <td>8.60</td>\n",
       "      <td>8.53</td>\n",
       "      <td>8.55</td>\n",
       "      <td>90</td>\n",
       "      <td>822</td>\n",
       "      <td>33</td>\n",
       "      <td>404738</td>\n",
       "      <td>10.99</td>\n",
       "      <td>0.78</td>\n",
       "    </tr>\n",
       "  </tbody>\n",
       "</table>\n",
       "</div>"
      ],
      "text/plain": [
       "      證券代碼         年月日  開盤價(元)  最高價(元)  最低價(元)  收盤價(元)  成交量(千股)  成交值(千元)  \\\n",
       "0  1101 台泥  2016-12-30   29.09   29.64   28.93   29.64     6121   213121   \n",
       "1  1102 亞泥  2016-12-30   24.91   24.91   24.67   24.81     3347    88078   \n",
       "2  1103 嘉泥  2016-12-30    8.29    8.29    8.29    8.29        0        0   \n",
       "3  1104 環泥  2016-12-30   21.19   21.54   21.19   21.54      141     3492   \n",
       "4  1108 幸福  2016-12-30    8.55    8.60    8.53    8.55       90      822   \n",
       "\n",
       "   成交筆數(筆)  流通在外股數(千股)  本益比-TSE  股價淨值比-TSE  \n",
       "0     2939     3692175    20.56       1.23  \n",
       "1     1227     3361447    31.75       0.73  \n",
       "2        0      774780    11.19       0.40  \n",
       "3      115      634572     9.27       0.97  \n",
       "4       33      404738    10.99       0.78  "
      ]
     },
     "execution_count": 3,
     "metadata": {},
     "output_type": "execute_result"
    }
   ],
   "source": [
    "stock2016=pd.read_csv(\"2016.csv\").drop(\"Unnamed: 0\",axis=1)\n",
    "stock2017=pd.read_csv(\"2017.csv\").drop(\"Unnamed: 0\",axis=1)\n",
    "stock2018=pd.read_csv(\"2018.csv\").drop(\"Unnamed: 0\",axis=1)\n",
    "stock2016.head()"
   ]
  },
  {
   "cell_type": "code",
   "execution_count": 4,
   "metadata": {},
   "outputs": [],
   "source": [
    "stock2016[\"年月日\"]=stock2016[\"年月日\"].apply(lambda x:pd.to_datetime(x))\n",
    "stock2017[\"年月日\"]=stock2017[\"年月日\"].apply(lambda x:pd.to_datetime(x))\n",
    "stock2018[\"年月日\"]=stock2018[\"年月日\"].apply(lambda x:pd.to_datetime(x))\n",
    "stock2016=stock2016.iloc[::-1]\n",
    "stock2017=stock2017.iloc[::-1]\n",
    "stock2018=stock2018.iloc[::-1]\n",
    "\n",
    "stock=pd.concat([stock2016,stock2017,stock2018],axis=0)"
   ]
  },
  {
   "cell_type": "code",
   "execution_count": 5,
   "metadata": {},
   "outputs": [
    {
     "data": {
      "text/plain": [
       "980"
      ]
     },
     "execution_count": 5,
     "metadata": {},
     "output_type": "execute_result"
    }
   ],
   "source": [
    "len(stock[\"證券代碼\"].unique())"
   ]
  },
  {
   "cell_type": "code",
   "execution_count": 6,
   "metadata": {},
   "outputs": [],
   "source": [
    "#record = {}\n",
    "#for i in stock[\"證券代碼\"].unique():\n",
    " #   record[i] = stock.loc[stock[\"證券代碼\"]==i][\"收盤價(元)\"].pct_change(periods=1).var()"
   ]
  },
  {
   "cell_type": "code",
   "execution_count": 7,
   "metadata": {},
   "outputs": [],
   "source": [
    "#record =dict(sorted(record.items(), key=lambda item: -item[1]))\n",
    "#record"
   ]
  },
  {
   "cell_type": "code",
   "execution_count": 8,
   "metadata": {},
   "outputs": [
    {
     "data": {
      "text/html": [
       "<div>\n",
       "<style scoped>\n",
       "    .dataframe tbody tr th:only-of-type {\n",
       "        vertical-align: middle;\n",
       "    }\n",
       "\n",
       "    .dataframe tbody tr th {\n",
       "        vertical-align: top;\n",
       "    }\n",
       "\n",
       "    .dataframe thead th {\n",
       "        text-align: right;\n",
       "    }\n",
       "</style>\n",
       "<table border=\"1\" class=\"dataframe\">\n",
       "  <thead>\n",
       "    <tr style=\"text-align: right;\">\n",
       "      <th></th>\n",
       "      <th>證券代碼</th>\n",
       "      <th>年月日</th>\n",
       "      <th>開盤價(元)</th>\n",
       "      <th>最高價(元)</th>\n",
       "      <th>最低價(元)</th>\n",
       "      <th>收盤價(元)</th>\n",
       "      <th>成交量(千股)</th>\n",
       "      <th>成交值(千元)</th>\n",
       "      <th>成交筆數(筆)</th>\n",
       "      <th>流通在外股數(千股)</th>\n",
       "      <th>本益比-TSE</th>\n",
       "      <th>股價淨值比-TSE</th>\n",
       "      <th>漲跌</th>\n",
       "    </tr>\n",
       "  </thead>\n",
       "  <tbody>\n",
       "    <tr>\n",
       "      <th>223187</th>\n",
       "      <td>3008 大立光</td>\n",
       "      <td>2016-01-04</td>\n",
       "      <td>2156.10</td>\n",
       "      <td>2170.44</td>\n",
       "      <td>2079.61</td>\n",
       "      <td>2079.61</td>\n",
       "      <td>677</td>\n",
       "      <td>1504074</td>\n",
       "      <td>677</td>\n",
       "      <td>134140</td>\n",
       "      <td>11.73</td>\n",
       "      <td>5.13</td>\n",
       "      <td>NaN</td>\n",
       "    </tr>\n",
       "    <tr>\n",
       "      <th>222279</th>\n",
       "      <td>3008 大立光</td>\n",
       "      <td>2016-01-05</td>\n",
       "      <td>2036.58</td>\n",
       "      <td>2060.49</td>\n",
       "      <td>2007.90</td>\n",
       "      <td>2017.46</td>\n",
       "      <td>1749</td>\n",
       "      <td>3717277</td>\n",
       "      <td>1672</td>\n",
       "      <td>134140</td>\n",
       "      <td>11.38</td>\n",
       "      <td>4.98</td>\n",
       "      <td>-0.029885</td>\n",
       "    </tr>\n",
       "    <tr>\n",
       "      <th>221370</th>\n",
       "      <td>3008 大立光</td>\n",
       "      <td>2016-01-06</td>\n",
       "      <td>1826.23</td>\n",
       "      <td>1878.82</td>\n",
       "      <td>1816.67</td>\n",
       "      <td>1874.04</td>\n",
       "      <td>3026</td>\n",
       "      <td>5811883</td>\n",
       "      <td>2494</td>\n",
       "      <td>134140</td>\n",
       "      <td>10.57</td>\n",
       "      <td>4.63</td>\n",
       "      <td>-0.071089</td>\n",
       "    </tr>\n",
       "    <tr>\n",
       "      <th>220461</th>\n",
       "      <td>3008 大立光</td>\n",
       "      <td>2016-01-07</td>\n",
       "      <td>1845.36</td>\n",
       "      <td>1859.70</td>\n",
       "      <td>1735.40</td>\n",
       "      <td>1749.74</td>\n",
       "      <td>2607</td>\n",
       "      <td>4885579</td>\n",
       "      <td>2462</td>\n",
       "      <td>134140</td>\n",
       "      <td>9.87</td>\n",
       "      <td>4.32</td>\n",
       "      <td>-0.066327</td>\n",
       "    </tr>\n",
       "    <tr>\n",
       "      <th>219552</th>\n",
       "      <td>3008 大立光</td>\n",
       "      <td>2016-01-08</td>\n",
       "      <td>1721.06</td>\n",
       "      <td>1912.29</td>\n",
       "      <td>1711.50</td>\n",
       "      <td>1888.38</td>\n",
       "      <td>2099</td>\n",
       "      <td>4014847</td>\n",
       "      <td>2060</td>\n",
       "      <td>134140</td>\n",
       "      <td>10.65</td>\n",
       "      <td>4.66</td>\n",
       "      <td>0.079235</td>\n",
       "    </tr>\n",
       "  </tbody>\n",
       "</table>\n",
       "</div>"
      ],
      "text/plain": [
       "            證券代碼        年月日   開盤價(元)   最高價(元)   最低價(元)   收盤價(元)  成交量(千股)  \\\n",
       "223187  3008 大立光 2016-01-04  2156.10  2170.44  2079.61  2079.61      677   \n",
       "222279  3008 大立光 2016-01-05  2036.58  2060.49  2007.90  2017.46     1749   \n",
       "221370  3008 大立光 2016-01-06  1826.23  1878.82  1816.67  1874.04     3026   \n",
       "220461  3008 大立光 2016-01-07  1845.36  1859.70  1735.40  1749.74     2607   \n",
       "219552  3008 大立光 2016-01-08  1721.06  1912.29  1711.50  1888.38     2099   \n",
       "\n",
       "        成交值(千元)  成交筆數(筆)  流通在外股數(千股)  本益比-TSE  股價淨值比-TSE        漲跌  \n",
       "223187  1504074      677      134140    11.73       5.13       NaN  \n",
       "222279  3717277     1672      134140    11.38       4.98 -0.029885  \n",
       "221370  5811883     2494      134140    10.57       4.63 -0.071089  \n",
       "220461  4885579     2462      134140     9.87       4.32 -0.066327  \n",
       "219552  4014847     2060      134140    10.65       4.66  0.079235  "
      ]
     },
     "execution_count": 8,
     "metadata": {},
     "output_type": "execute_result"
    }
   ],
   "source": [
    "stock=stock[stock[\"證券代碼\"]==\"3008 大立光\"]\n",
    "stock[\"漲跌\"]=stock[\"收盤價(元)\"].pct_change(periods=1)\n",
    "stock.head()"
   ]
  },
  {
   "cell_type": "code",
   "execution_count": 9,
   "metadata": {},
   "outputs": [],
   "source": [
    "################  bbs ,news, forum data cleaning"
   ]
  },
  {
   "cell_type": "code",
   "execution_count": 10,
   "metadata": {},
   "outputs": [],
   "source": [
    "bbs[\"content\"]=bbs[\"content\"].apply(lambda x :re.sub(r'[^\\u4e00-\\u9fff]+',\"\",str(x)))\n",
    "news[\"content\"]=news[\"content\"].apply(lambda x :re.sub(r'[^\\u4e00-\\u9fff]+',\"\",str(x)))\n",
    "forum[\"content\"]= forum[\"content\"].apply(lambda x :re.sub(r'[^\\u4e00-\\u9fff]+',\"\",str(x)))\n",
    "\n",
    "bbs[\"title\"]=bbs[\"title\"].apply(lambda x :re.sub(r'[^\\u4e00-\\u9fff]+',\"\",str(x)))\n",
    "news[\"title\"]=news[\"title\"].apply(lambda x :re.sub(r'[^\\u4e00-\\u9fff]+',\"\",str(x)))\n",
    "forum[\"title\"]= forum[\"title\"].apply(lambda x :re.sub(r'[^\\u4e00-\\u9fff]+',\"\",str(x)))\n",
    "\n",
    "bbs.dropna(subset= ['content'],inplace=True)\n",
    "news.dropna(subset= ['content'],inplace=True)\n",
    "forum.dropna(subset= ['content'],inplace=True)"
   ]
  },
  {
   "cell_type": "code",
   "execution_count": 11,
   "metadata": {},
   "outputs": [
    {
     "name": "stdout",
     "output_type": "stream",
     "text": [
      "(1127, 10)\n",
      "(11464, 9)\n",
      "(179, 10)\n"
     ]
    }
   ],
   "source": [
    "forum[\"check\"]= forum[\"title\"]+forum[\"content\"]\n",
    "forum=forum[forum[\"check\"].str.contains(\"大立光\")]\n",
    "forum.drop(\"check\",axis=1,inplace=True)\n",
    "bbs[\"check\"]= bbs[\"title\"]+bbs[\"content\"]\n",
    "bbs=bbs[bbs[\"check\"].str.contains(\"大立光\")]\n",
    "bbs.drop(\"check\",axis=1,inplace=True)\n",
    "news[\"check\"]= news[\"title\"]+news[\"content\"]\n",
    "news=news[news[\"check\"].str.contains(\"大立光\")]\n",
    "news.drop(\"check\",axis=1,inplace=True)\n",
    "print(bbs.shape)\n",
    "print(news.shape)\n",
    "print(forum.shape)"
   ]
  },
  {
   "cell_type": "code",
   "execution_count": 12,
   "metadata": {},
   "outputs": [
    {
     "name": "stdout",
     "output_type": "stream",
     "text": [
      "(12770, 3)\n"
     ]
    },
    {
     "data": {
      "text/html": [
       "<div>\n",
       "<style scoped>\n",
       "    .dataframe tbody tr th:only-of-type {\n",
       "        vertical-align: middle;\n",
       "    }\n",
       "\n",
       "    .dataframe tbody tr th {\n",
       "        vertical-align: top;\n",
       "    }\n",
       "\n",
       "    .dataframe thead th {\n",
       "        text-align: right;\n",
       "    }\n",
       "</style>\n",
       "<table border=\"1\" class=\"dataframe\">\n",
       "  <thead>\n",
       "    <tr style=\"text-align: right;\">\n",
       "      <th></th>\n",
       "      <th>post_time</th>\n",
       "      <th>title</th>\n",
       "      <th>content</th>\n",
       "    </tr>\n",
       "  </thead>\n",
       "  <tbody>\n",
       "    <tr>\n",
       "      <th>8</th>\n",
       "      <td>2016/1/1 10:17:46</td>\n",
       "      <td>新聞大基金封關加碼億年台股漲像</td>\n",
       "      <td>原文連結必須檢附原文內容工商時報記者崔慈悌王姿琳台北報導年台股昨日封關四大基金在尾盤大舉加碼...</td>\n",
       "    </tr>\n",
       "    <tr>\n",
       "      <th>152</th>\n",
       "      <td>2016/1/5 15:35:58</td>\n",
       "      <td>新聞大立光月合併營收億元</td>\n",
       "      <td>發文前請先詳閱新聞分類發文規範未依規範發文將受處份連結過長請善用縮網址連結能不能點擊者板規處...</td>\n",
       "    </tr>\n",
       "    <tr>\n",
       "      <th>168</th>\n",
       "      <td>2016/1/5 21:02:33</td>\n",
       "      <td>新聞罕見大立光去年月營收年減</td>\n",
       "      <td>原文連結必須檢附原文內容罕見大立光去年月營收年減中央社記者韓婷婷台北日電大立光電公布去年月合...</td>\n",
       "    </tr>\n",
       "    <tr>\n",
       "      <th>173</th>\n",
       "      <td>2016/1/5 22:05:22</td>\n",
       "      <td>新聞大立光業績免驚外資喊到元</td>\n",
       "      <td>原文連結必須檢附原文內容股王大立光今天公告月營收億元月減成創下年月以來單月最低紀錄顯示蘋果光...</td>\n",
       "    </tr>\n",
       "    <tr>\n",
       "      <th>174</th>\n",
       "      <td>2016/1/5 22:14:47</td>\n",
       "      <td>公告板開始舉辦樂透</td>\n",
       "      <td>大立光請到板按參與樂透一張幣迷你級樂透結束時間</td>\n",
       "    </tr>\n",
       "  </tbody>\n",
       "</table>\n",
       "</div>"
      ],
      "text/plain": [
       "             post_time            title  \\\n",
       "8    2016/1/1 10:17:46  新聞大基金封關加碼億年台股漲像   \n",
       "152  2016/1/5 15:35:58     新聞大立光月合併營收億元   \n",
       "168  2016/1/5 21:02:33   新聞罕見大立光去年月營收年減   \n",
       "173  2016/1/5 22:05:22   新聞大立光業績免驚外資喊到元   \n",
       "174  2016/1/5 22:14:47        公告板開始舉辦樂透   \n",
       "\n",
       "                                               content  \n",
       "8    原文連結必須檢附原文內容工商時報記者崔慈悌王姿琳台北報導年台股昨日封關四大基金在尾盤大舉加碼...  \n",
       "152  發文前請先詳閱新聞分類發文規範未依規範發文將受處份連結過長請善用縮網址連結能不能點擊者板規處...  \n",
       "168  原文連結必須檢附原文內容罕見大立光去年月營收年減中央社記者韓婷婷台北日電大立光電公布去年月合...  \n",
       "173  原文連結必須檢附原文內容股王大立光今天公告月營收億元月減成創下年月以來單月最低紀錄顯示蘋果光...  \n",
       "174                            大立光請到板按參與樂透一張幣迷你級樂透結束時間  "
      ]
     },
     "execution_count": 12,
     "metadata": {},
     "output_type": "execute_result"
    }
   ],
   "source": [
    "final_data=pd.concat([bbs[[\"post_time\",'title','content']],news[[\"post_time\",'title','content']],forum[[\"post_time\",'title','content']]],axis=0)\n",
    "print(final_data.shape)\n",
    "\n",
    "final_data.head()"
   ]
  },
  {
   "cell_type": "code",
   "execution_count": 13,
   "metadata": {},
   "outputs": [
    {
     "name": "stdout",
     "output_type": "stream",
     "text": [
      "Friday       2438\n",
      "Tuesday      2438\n",
      "Thursday     2427\n",
      "Wednesday    2423\n",
      "Monday       2347\n",
      "Saturday      412\n",
      "Sunday        285\n",
      "Name: weekday, dtype: int64\n"
     ]
    }
   ],
   "source": [
    "final_data[\"post_time\"]=final_data[\"post_time\"].apply(lambda x:pd.to_datetime(x))\n",
    "final_data[\"weekday\"]=final_data[\"post_time\"].dt.day_name()\n",
    "print(pd.value_counts(final_data[\"weekday\"]))"
   ]
  },
  {
   "cell_type": "code",
   "execution_count": 14,
   "metadata": {},
   "outputs": [
    {
     "data": {
      "text/plain": [
       "<matplotlib.legend.Legend at 0x1af96bc3fa0>"
      ]
     },
     "execution_count": 14,
     "metadata": {},
     "output_type": "execute_result"
    },
    {
     "data": {
      "image/png": "[encoded data removed]",
      "text/plain": [
       "<Figure size 1152x288 with 1 Axes>"
      ]
     },
     "metadata": {
      "needs_background": "light"
     },
     "output_type": "display_data"
    }
   ],
   "source": [
    "fig, ax = plt.subplots(figsize=(16,4))\n",
    "down=stock[stock[\"漲跌\"]<0].set_index(\"年月日\")\n",
    "up=stock[stock[\"漲跌\"]>0].set_index('年月日')\n",
    "sns.lineplot(x=down.index, y = '漲跌', data=down)\n",
    "sns.lineplot(x=up.index, y = '漲跌', data=up)\n",
    "ax.set_xlabel ('Date', fontsize=15)\n",
    "ax.set_ylabel ('pct_change', fontsize=15)\n",
    "ax.tick_params(labelsize=15)\n",
    "plt.title('Trend of rise and fall' , fontsize=15)\n",
    "plt.legend(['Fall',\"Rise\"], fontsize=15,loc=\"best\")"
   ]
  },
  {
   "cell_type": "code",
   "execution_count": 15,
   "metadata": {},
   "outputs": [],
   "source": [
    "stock[\"year\"]=stock[\"年月日\"].apply(lambda x:x.year)"
   ]
  },
  {
   "cell_type": "code",
   "execution_count": 16,
   "metadata": {},
   "outputs": [],
   "source": [
    "def judge(x):\n",
    "    year = x[\"year\"]\n",
    "    if  x[\"漲跌\"]>0 and x[\"漲跌\"]>=np.percentile(stock[(stock[\"漲跌\"]>0) & (stock[\"year\"]==year)][\"漲跌\"],50):\n",
    "        return \"rise\"\n",
    "    elif x[\"漲跌\"]<0 and x[\"漲跌\"]<=np.percentile(stock[(stock[\"漲跌\"]<0) & (stock[\"year\"]==year)][\"漲跌\"],50):\n",
    "        return \"fall\"\n",
    "    else:\n",
    "        return \"same\"\n",
    "\n",
    "####漲跌幅度大於0.03    \n",
    "####stock[\"看漲看跌\"]=stock.apply(lambda x:judge(x),axis=1)\n",
    "\n",
    "def judge2(x):\n",
    "    if x>0 and x>=0.03:\n",
    "        return \"rise\"\n",
    "    elif x<0 and x<=-0.03:\n",
    "        return \"fall\"\n",
    "    else:\n",
    "        return \"same\"\n",
    "stock[\"看漲看跌\"]=stock.apply(lambda x: judge(x),axis=1)"
   ]
  },
  {
   "cell_type": "code",
   "execution_count": 17,
   "metadata": {},
   "outputs": [
    {
     "name": "stdout",
     "output_type": "stream",
     "text": [
      "same    382\n",
      "fall    178\n",
      "rise    177\n",
      "Name: 看漲看跌, dtype: int64\n"
     ]
    }
   ],
   "source": [
    "print(stock[\"看漲看跌\"].value_counts())#/stock[\"看漲看跌\"].value_counts().sum()"
   ]
  },
  {
   "cell_type": "code",
   "execution_count": 18,
   "metadata": {},
   "outputs": [],
   "source": [
    "#stock"
   ]
  },
  {
   "cell_type": "code",
   "execution_count": 19,
   "metadata": {},
   "outputs": [],
   "source": [
    "\"\"\"\n",
    "Monday      predict Tuesday +1\n",
    "Tuesday     predict Wednesday +1\n",
    "Wednesday   predict Thursday +1\n",
    "Thursday    predict Friday +1\n",
    "Friday      predict Monday +3\n",
    "Saturday    predict Monday +2\n",
    "Sunday      predict Monday +1\n",
    "\"\"\"\n",
    "stock[\"年月日\"]=stock[\"年月日\"].apply(lambda x:x.date())"
   ]
  },
  {
   "cell_type": "code",
   "execution_count": 20,
   "metadata": {},
   "outputs": [],
   "source": [
    "def tag(x):\n",
    "    if x[\"weekday\"] in [\"Monday\",\"Tuesday\",\"Wednesday\",\"Thursday\",\"Sunday\"]:\n",
    "        date=x[\"post_time\"].date()+timedelta(days=1)\n",
    "    elif x[\"weekday\"] == \"Friday\":\n",
    "        date=x[\"post_time\"].date()+timedelta(days=3)\n",
    "    else:\n",
    "        date=x[\"post_time\"].date()+timedelta(days=2)\n",
    "    \n",
    "    return stock[stock[\"年月日\"]==date][\"看漲看跌\"].values\n",
    "def pre_date(x):\n",
    "    if x[\"weekday\"] in [\"Monday\",\"Tuesday\",\"Wednesday\",\"Thursday\",\"Sunday\"]:\n",
    "        date=x[\"post_time\"].date()+timedelta(days=1)\n",
    "    elif x[\"weekday\"] == \"Friday\":\n",
    "        date=x[\"post_time\"].date()+timedelta(days=3)\n",
    "    else:\n",
    "        date=x[\"post_time\"].date()+timedelta(days=2)\n",
    "    \n",
    "    return date\n",
    "\n",
    "final_data[\"tag\"]=final_data.apply(lambda x:tag(x),axis=1)"
   ]
  },
  {
   "cell_type": "code",
   "execution_count": 21,
   "metadata": {},
   "outputs": [
    {
     "data": {
      "text/html": [
       "<div>\n",
       "<style scoped>\n",
       "    .dataframe tbody tr th:only-of-type {\n",
       "        vertical-align: middle;\n",
       "    }\n",
       "\n",
       "    .dataframe tbody tr th {\n",
       "        vertical-align: top;\n",
       "    }\n",
       "\n",
       "    .dataframe thead th {\n",
       "        text-align: right;\n",
       "    }\n",
       "</style>\n",
       "<table border=\"1\" class=\"dataframe\">\n",
       "  <thead>\n",
       "    <tr style=\"text-align: right;\">\n",
       "      <th></th>\n",
       "      <th>post_time</th>\n",
       "      <th>title</th>\n",
       "      <th>content</th>\n",
       "      <th>weekday</th>\n",
       "      <th>tag</th>\n",
       "      <th>pre_date</th>\n",
       "    </tr>\n",
       "  </thead>\n",
       "  <tbody>\n",
       "    <tr>\n",
       "      <th>8</th>\n",
       "      <td>2016-01-01 10:17:46</td>\n",
       "      <td>新聞大基金封關加碼億年台股漲像</td>\n",
       "      <td>原文連結必須檢附原文內容工商時報記者崔慈悌王姿琳台北報導年台股昨日封關四大基金在尾盤大舉加碼...</td>\n",
       "      <td>Friday</td>\n",
       "      <td>same</td>\n",
       "      <td>2016-01-04</td>\n",
       "    </tr>\n",
       "    <tr>\n",
       "      <th>152</th>\n",
       "      <td>2016-01-05 15:35:58</td>\n",
       "      <td>新聞大立光月合併營收億元</td>\n",
       "      <td>發文前請先詳閱新聞分類發文規範未依規範發文將受處份連結過長請善用縮網址連結能不能點擊者板規處...</td>\n",
       "      <td>Tuesday</td>\n",
       "      <td>fall</td>\n",
       "      <td>2016-01-06</td>\n",
       "    </tr>\n",
       "    <tr>\n",
       "      <th>168</th>\n",
       "      <td>2016-01-05 21:02:33</td>\n",
       "      <td>新聞罕見大立光去年月營收年減</td>\n",
       "      <td>原文連結必須檢附原文內容罕見大立光去年月營收年減中央社記者韓婷婷台北日電大立光電公布去年月合...</td>\n",
       "      <td>Tuesday</td>\n",
       "      <td>fall</td>\n",
       "      <td>2016-01-06</td>\n",
       "    </tr>\n",
       "    <tr>\n",
       "      <th>173</th>\n",
       "      <td>2016-01-05 22:05:22</td>\n",
       "      <td>新聞大立光業績免驚外資喊到元</td>\n",
       "      <td>原文連結必須檢附原文內容股王大立光今天公告月營收億元月減成創下年月以來單月最低紀錄顯示蘋果光...</td>\n",
       "      <td>Tuesday</td>\n",
       "      <td>fall</td>\n",
       "      <td>2016-01-06</td>\n",
       "    </tr>\n",
       "    <tr>\n",
       "      <th>174</th>\n",
       "      <td>2016-01-05 22:14:47</td>\n",
       "      <td>公告板開始舉辦樂透</td>\n",
       "      <td>大立光請到板按參與樂透一張幣迷你級樂透結束時間</td>\n",
       "      <td>Tuesday</td>\n",
       "      <td>fall</td>\n",
       "      <td>2016-01-06</td>\n",
       "    </tr>\n",
       "  </tbody>\n",
       "</table>\n",
       "</div>"
      ],
      "text/plain": [
       "              post_time            title  \\\n",
       "8   2016-01-01 10:17:46  新聞大基金封關加碼億年台股漲像   \n",
       "152 2016-01-05 15:35:58     新聞大立光月合併營收億元   \n",
       "168 2016-01-05 21:02:33   新聞罕見大立光去年月營收年減   \n",
       "173 2016-01-05 22:05:22   新聞大立光業績免驚外資喊到元   \n",
       "174 2016-01-05 22:14:47        公告板開始舉辦樂透   \n",
       "\n",
       "                                               content  weekday   tag  \\\n",
       "8    原文連結必須檢附原文內容工商時報記者崔慈悌王姿琳台北報導年台股昨日封關四大基金在尾盤大舉加碼...   Friday  same   \n",
       "152  發文前請先詳閱新聞分類發文規範未依規範發文將受處份連結過長請善用縮網址連結能不能點擊者板規處...  Tuesday  fall   \n",
       "168  原文連結必須檢附原文內容罕見大立光去年月營收年減中央社記者韓婷婷台北日電大立光電公布去年月合...  Tuesday  fall   \n",
       "173  原文連結必須檢附原文內容股王大立光今天公告月營收億元月減成創下年月以來單月最低紀錄顯示蘋果光...  Tuesday  fall   \n",
       "174                            大立光請到板按參與樂透一張幣迷你級樂透結束時間  Tuesday  fall   \n",
       "\n",
       "       pre_date  \n",
       "8    2016-01-04  \n",
       "152  2016-01-06  \n",
       "168  2016-01-06  \n",
       "173  2016-01-06  \n",
       "174  2016-01-06  "
      ]
     },
     "execution_count": 21,
     "metadata": {},
     "output_type": "execute_result"
    }
   ],
   "source": [
    "final_data = final_data.loc[final_data[\"tag\"].apply(lambda x:len(x))!=0]\n",
    "final_data[\"tag\"]=final_data[\"tag\"].apply(lambda x:x[0])\n",
    "final_data[\"pre_date\"]= final_data.apply(lambda x:pre_date(x),axis=1)\n",
    "final_data.head()"
   ]
  },
  {
   "cell_type": "code",
   "execution_count": 22,
   "metadata": {},
   "outputs": [],
   "source": [
    "#final_data[final_data[\"pre_date\"]==pd.to_datetime(\"2016-07-05\")]"
   ]
  },
  {
   "cell_type": "code",
   "execution_count": 23,
   "metadata": {},
   "outputs": [
    {
     "data": {
      "text/plain": [
       "same    6267\n",
       "fall    3079\n",
       "rise    2955\n",
       "Name: tag, dtype: int64"
      ]
     },
     "execution_count": 23,
     "metadata": {},
     "output_type": "execute_result"
    }
   ],
   "source": [
    "final_data[\"tag\"].value_counts()"
   ]
  },
  {
   "cell_type": "code",
   "execution_count": 24,
   "metadata": {},
   "outputs": [],
   "source": [
    "final_data=final_data[final_data[\"tag\"]!=\"same\"]"
   ]
  },
  {
   "cell_type": "code",
   "execution_count": 25,
   "metadata": {},
   "outputs": [],
   "source": [
    "def get_ngrams(n, data):\n",
    "    tf = {}\n",
    "    df = {}\n",
    "    tfdf = {}\n",
    "    for row in range(len(data)):\n",
    "        tokens = [data.iloc[row][i:i+n] for i in range(0, len(data.iloc[row])-(n-1))]\n",
    "        #if tokens not in stopword:\n",
    "        for token in set(tokens):\n",
    "            if token not in df.keys():\n",
    "                df[token] = 1\n",
    "            else:    \n",
    "                df[token] += 1\n",
    "        for token in tokens:\n",
    "            if token not in tf.keys():\n",
    "                tf[token] = 1\n",
    "            else:\n",
    "                tf[token] += 1\n",
    "    for key, value in tf.items():\n",
    "        tfdf[key] = [value, df[key]]\n",
    "    final = pd.DataFrame.from_dict(tfdf, orient = 'index', columns = ['tf','df'])\n",
    "    return final"
   ]
  },
  {
   "cell_type": "code",
   "execution_count": null,
   "metadata": {},
   "outputs": [],
   "source": []
  },
  {
   "cell_type": "code",
   "execution_count": 26,
   "metadata": {},
   "outputs": [],
   "source": [
    "def remove_same(df):\n",
    "    \"\"\"移除相同DF的 被較長詞包含的詞\"\"\"\n",
    "    df['len'] = df.index.str.len()\n",
    "    df.sort_values('len', ascending=True, inplace = True)\n",
    "    df.drop('len', axis=1, inplace=True)\n",
    "    same_drop = set()\n",
    "    for i in range(len(df)):\n",
    "        for j in range(i+1, len(df)):\n",
    "            # row i 的詞比row j 的詞短 (e.g. row i: 2-gram, row j: 3-gram)\n",
    "            # 且row i 被 row j 的詞包含\n",
    "            if (len(df.index[i]) < len(df.index[j])) & (df.index[i] in df.index[j]): \n",
    "                # 兩個詞的 DF 相差不到1% same DF number\n",
    "                if abs(df.iloc[i, 1] - df.iloc[j, 1]) <= max(df.iloc[i, 1], df.iloc[j, 1]) * 0.01 :\n",
    "                    #add the word in row i(shorter word) to a same_drop set\n",
    "                    same_drop.add(df.index[i])\n",
    "                    break\n",
    "    return df.drop(same_drop)"
   ]
  },
  {
   "cell_type": "code",
   "execution_count": null,
   "metadata": {},
   "outputs": [],
   "source": []
  },
  {
   "cell_type": "code",
   "execution_count": 27,
   "metadata": {},
   "outputs": [],
   "source": [
    "def get_final_df(df, docs, all_df, all_docs,feature_count,usage):\n",
    "    \"\"\"combine the topic df and the total df and then calculate the chi square\"\"\"\n",
    "    all_df.columns = ['all_tf','all_df','all_tf-idf']\n",
    "    df = pd.merge(df, all_df, left_index = True, right_index = True, how = 'left')\n",
    "    df['midf'] = np.log(df.df/(df.all_df*docs))\n",
    "    df['tf_ev'] = (df.all_tf/all_docs)*docs\n",
    "    df['df_ev'] = (df.all_df/all_docs)*docs\n",
    "    df['tf_chi'] = ((df.tf-df.tf_ev)**2/df.tf_ev)*np.sign(df.tf-df.tf_ev)\n",
    "    df['df_chi'] = ((df.df-df.df_ev)**2/df.df_ev)*np.sign(df.df-df.df_ev)\n",
    "    df[\"lift\"]=(df.df/docs)/(df.all_df/all_docs)\n",
    "    df[\"mi*tfidf\"]=df[\"midf\"]*df[\"tfidf\"]\n",
    "   \n",
    "    df = df.sort_values(usage,ascending = False)[:feature_count]\n",
    "    return(df)"
   ]
  },
  {
   "cell_type": "code",
   "execution_count": null,
   "metadata": {},
   "outputs": [],
   "source": []
  },
  {
   "cell_type": "code",
   "execution_count": 28,
   "metadata": {},
   "outputs": [],
   "source": [
    "settings = {\n",
    "    \"metric\": 'accuracy',\n",
    "    \"task\": 'classification',\n",
    "    \"time_budget\":100\n",
    "}"
   ]
  },
  {
   "cell_type": "code",
   "execution_count": 29,
   "metadata": {},
   "outputs": [],
   "source": [
    "import datetime\n",
    "def add_months(sourcedate, months):\n",
    "    month = sourcedate.month - 1 + months\n",
    "    year = sourcedate.year + month // 12\n",
    "    month = month % 12 + 1\n",
    "    day = min(sourcedate.day, calendar.monthrange(year,month)[1])\n",
    "    return pd.to_datetime(datetime.date(year, month, day))\n",
    "\n",
    "def get(x):\n",
    "    #x=str(x)\n",
    "   \n",
    "    if stock[stock[\"年月日\"]==x][\"漲跌\"].values[0]>0:\n",
    "        return \"漲\"\n",
    "    else:\n",
    "        return \"跌\""
   ]
  },
  {
   "cell_type": "code",
   "execution_count": null,
   "metadata": {},
   "outputs": [],
   "source": []
  },
  {
   "cell_type": "code",
   "execution_count": 31,
   "metadata": {},
   "outputs": [
    {
     "name": "stdout",
     "output_type": "stream",
     "text": [
      "2016-01-04 07:56:00 2018-08-27 19:32:00 2018-09-03 07:36:00 2018-12-27 22:05:20\n",
      "(4637, 8) (1397, 8)\n",
      "46\n"
     ]
    }
   ],
   "source": [
    "# for count in [500,1000,1500,2000,2500]\n",
    " #   for mode  in [\"df_chi\",\"tf_chi\",\"midf\",\"mi*tfidf\",\"lift\"]: \n",
    "\n",
    "all_data=[]\n",
    "start = pd.to_datetime(\"2016-01-01\")\n",
    "end = pd.to_datetime(\"2018-09-01\")   \n",
    "end_tail = pd.to_datetime(\"2019-01-01\")\n",
    "train = final_data[(final_data[\"post_time\"]>=start) & (final_data[\"post_time\"]<end)]\n",
    "test  = final_data[(final_data[\"post_time\"]>=end) & (final_data[\"post_time\"]<end_tail)]\n",
    "test[\"all\"]=test[\"title\"]+test[\"content\"]\n",
    "train[\"all\"]=train[\"title\"]+train[\"content\"]\n",
    "rise=train[train[\"tag\"]==\"rise\"]\n",
    "fall=train[train[\"tag\"]==\"fall\"]\n",
    "train[\"newtag\"]=train[\"tag\"].apply(lambda x:-1 if x==\"fall\" else 1)\n",
    "test[\"newtag\"]=test[\"tag\"].apply(lambda x:-1 if x==\"fall\" else 1)\n",
    "data_2_gram=get_ngrams(2, train[\"all\"])\n",
    "data_3_gram=get_ngrams(3, train[\"all\"])\n",
    "fall_2_gram=get_ngrams(2, fall[\"all\"])\n",
    "fall_3_gram=get_ngrams(3, fall[\"all\"])\n",
    "rise_2_gram=get_ngrams(2, rise[\"all\"])\n",
    "rise_3_gram=get_ngrams(3, rise[\"all\"])\n",
    "data_all_gram=pd.concat([data_2_gram,data_3_gram],axis=0)\n",
    "rise_all_gram=pd.concat([rise_2_gram,rise_3_gram],axis=0)\n",
    "fall_all_gram=pd.concat([fall_2_gram,fall_3_gram],axis=0)\n",
    "data_all_gram=data_all_gram[data_all_gram[\"tf\"]>=40]\n",
    "rise_all_gram=rise_all_gram[rise_all_gram[\"tf\"]>=40]\n",
    "fall_all_gram=fall_all_gram[fall_all_gram[\"tf\"]>=40]\n",
    "data_all_gram=remove_same(data_all_gram)\n",
    "rise_all_gram=remove_same(rise_all_gram)\n",
    "fall_all_gram=remove_same(fall_all_gram)\n",
    "data_all_gram['tfidf'] = (1+np.log(data_all_gram.tf))*np.log( train.shape[0]/data_all_gram.df)\n",
    "rise_all_gram['tfidf'] = (1+np.log(rise_all_gram.tf))*np.log( train[\"newtag\"].value_counts().to_dict()[1]/rise_all_gram.df)\n",
    "fall_all_gram['tfidf'] = (1+np.log(fall_all_gram.tf))*np.log( train[\"newtag\"].value_counts().to_dict()[-1]/fall_all_gram.df)\n",
    "\n",
    "\n",
    "print(train[\"post_time\"].min(),train[\"post_time\"].max(),test[\"post_time\"].min(),test[\"post_time\"].max())\n",
    "print(train.shape,test.shape)\n",
    "print(len(test.groupby(\"pre_date\").size()))"
   ]
  },
  {
   "cell_type": "code",
   "execution_count": null,
   "metadata": {},
   "outputs": [],
   "source": []
  },
  {
   "cell_type": "code",
   "execution_count": 32,
   "metadata": {},
   "outputs": [],
   "source": [
    "#from imblearn.over_sampling import SMOTE\n",
    "#sm=SMOTE()"
   ]
  },
  {
   "cell_type": "code",
   "execution_count": 33,
   "metadata": {},
   "outputs": [
    {
     "name": "stderr",
     "output_type": "stream",
     "text": [
      "[flaml.automl: 09-25 09:20:30] {1289} INFO - Evaluation method: cv\n",
      "[flaml.automl: 09-25 09:20:30] {1318} INFO - Minimizing error metric: 1-accuracy\n",
      "[flaml.automl: 09-25 09:20:30] {1344} INFO - List of ML learners in AutoML Run: ['lrl1']\n",
      "[flaml.automl: 09-25 09:20:30] {1537} INFO - iteration 0, current learner lrl1\n",
      "No low-cost partial config given to the search algorithm. For cost-frugal search, consider providing low-cost values for cost-related hps via 'low_cost_partial_config'.\n",
      "[flaml.automl: 09-25 09:22:04] {1696} INFO -  at 93.5s,\tbest lrl1's error=0.3127,\tbest lrl1's error=0.3127\n",
      "[flaml.automl: 09-25 09:22:04] {1778} INFO - selected model: LogisticRegression(n_jobs=-1, penalty='l1', solver='saga')\n",
      "[flaml.automl: 09-25 09:22:28] {1828} INFO - retrain lrl1 for 24.0s\n",
      "[flaml.automl: 09-25 09:22:28] {1831} INFO - retrained model: LogisticRegression(n_jobs=-1, penalty='l1', solver='saga')\n",
      "[flaml.automl: 09-25 09:22:28] {1369} INFO - fit succeeded\n",
      "[flaml.automl: 09-25 09:22:28] {1370} INFO - Time taken to find the best model: 93.46983599662781\n",
      "[flaml.automl: 09-25 09:22:28] {1376} WARNING - Time taken to find the best model is 93% of the provided time budget and not all estimators' hyperparameter search converged. Consider increasing the time budget.\n"
     ]
    },
    {
     "name": "stdout",
     "output_type": "stream",
     "text": [
      "threshold: 0.87\n",
      "Best accuracy on validation data: 0.6873\n",
      "模型已預測46個交易日\n",
      "出手率: 0.96\n",
      "65.91% 的交易日的漲跌已經被成功預測 \n"
     ]
    }
   ],
   "source": [
    "mode =\"lift\"\n",
    "count =1500\n",
    "  \n",
    "            \n",
    "fall=get_final_df(fall_all_gram,train[\"newtag\"].value_counts().to_dict()[-1],data_all_gram,train.shape[0],count,mode)\n",
    "rise=get_final_df(rise_all_gram,train[\"newtag\"].value_counts().to_dict()[1],data_all_gram,train.shape[0],count,mode)\n",
    "            \n",
    "drop=set(fall.index).intersection(rise.index)\n",
    "fall=fall.drop(list(drop))\n",
    "rise=rise.drop(list(drop))\n",
    "total=list(fall.index)+list(rise.index)\n",
    "            \n",
    "feature=np.zeros((train.shape[0],len(total)))\n",
    "\n",
    "for k in range(len(train)):\n",
    "    for l in range(len(total)):\n",
    "        if total[l] in train[\"all\"].iloc[k]:\n",
    "            feature[k,l]+=1\n",
    "        else:\n",
    "            feature[k,l]=feature[k,l]\n",
    "\n",
    "automl = AutoML()\n",
    "automl.fit(X_train=feature, y_train=train[\"newtag\"], **settings,verbose=1,estimator_list=[\"lrl1\"],eval_method=\"cv\")\n",
    "        \n",
    "pred = automl.predict_proba(feature)[:,1]\n",
    "index = np.where(train[\"newtag\"]==1)[0]\n",
    "thres = np.median(pred[index])\n",
    "        \n",
    "print(\"threshold: %.2f\" %(thres))\n",
    "print('Best accuracy on validation data: {0:.4g}'.format(1 - automl.best_loss))\n",
    "\n",
    "feature=np.zeros((test.shape[0],len(total)))\n",
    "\n",
    "for k in range(len(test)):\n",
    "    for l in range(len(total)):\n",
    "        if total[l] in test[\"all\"].iloc[k]:\n",
    "            feature[k,l]+=1\n",
    "\n",
    "\n",
    "y_pred = automl.predict_proba(feature)[:,1]\n",
    "y_pred = np.where(y_pred>=thres,1,-1)\n",
    "        \n",
    "test[\"pred\"]=y_pred\n",
    "test=test.groupby(\"pre_date\")[\"pred\"].sum().reset_index(name=\"pred\")\n",
    "date_length=len(test)\n",
    "      \n",
    "test=test[test[\"pred\"]!=0]\n",
    "test[\"real\"]= test[\"pre_date\"].apply(lambda x:get(x))\n",
    "test[\"pred\"]=test[\"pred\"].apply(lambda x:\"漲\"  if  x>0 else \"跌\")\n",
    "shot=len(test)\n",
    "            \n",
    "print(\"模型已預測%d個交易日\" % (date_length))\n",
    "print(\"出手率: %.2f\" % (shot/date_length))   \n",
    "print('%.2f%% 的交易日的漲跌已經被成功預測 ' % (100*accuracy_score(test[\"real\"],test[\"pred\"])))"
   ]
  },
  {
   "cell_type": "code",
   "execution_count": null,
   "metadata": {},
   "outputs": [],
   "source": []
  },
  {
   "cell_type": "code",
   "execution_count": null,
   "metadata": {},
   "outputs": [],
   "source": []
  },
  {
   "cell_type": "code",
   "execution_count": null,
   "metadata": {},
   "outputs": [],
   "source": []
  },
  {
   "cell_type": "code",
   "execution_count": null,
   "metadata": {},
   "outputs": [],
   "source": []
  }
 ],
 "metadata": {
  "kernelspec": {
   "display_name": "Python 3",
   "language": "python",
   "name": "python3"
  },
  "language_info": {
   "codemirror_mode": {
    "name": "ipython",
    "version": 3
   },
   "file_extension": ".py",
   "mimetype": "text/x-python",
   "name": "python",
   "nbconvert_exporter": "python",
   "pygments_lexer": "ipython3",
   "version": "3.8.3"
  }
 },
 "nbformat": 4,
 "nbformat_minor": 4
}
