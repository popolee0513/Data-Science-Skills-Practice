{
  "nbformat": 4,
  "nbformat_minor": 0,
  "metadata": {
    "kernelspec": {
      "display_name": "Python 3",
      "language": "python",
      "name": "python3"
    },
    "language_info": {
      "codemirror_mode": {
        "name": "ipython",
        "version": 3
      },
      "file_extension": ".py",
      "mimetype": "text/x-python",
      "name": "python",
      "nbconvert_exporter": "python",
      "pygments_lexer": "ipython3",
      "version": "3.7.3"
    },
    "colab": {
      "name": "CS246 - Colab 0 (Spark Tutorial).ipynb",
      "provenance": [],
      "collapsed_sections": [],
      "machine_shape": "hm"
    }
  },
  "cells": [
    {
      "cell_type": "markdown",
      "metadata": {
        "id": "GTwDFnjHMk25",
        "colab_type": "text"
      },
      "source": [
        "# CS246 - Colab 0\n",
        "## Spark Tutorial\n",
        "\n",
        "In this tutorial you will learn how to use [Apache Spark](https://spark.apache.org) in local mode on a Colab enviroment.\n",
        "\n",
        "Credits to [Tiziano Piccardi](http://piccardi.me/) for his Spark Tutorial used in the Applied Data Analysis class at EPFL."
      ]
    },
    {
      "cell_type": "markdown",
      "metadata": {
        "id": "eXQzA01OS_yQ",
        "colab_type": "text"
      },
      "source": [
        "### Setup"
      ]
    },
    {
      "cell_type": "markdown",
      "metadata": {
        "id": "AbYZoVVWOZA5",
        "colab_type": "text"
      },
      "source": [
        "Let's setup Spark on your Colab environment.  Run the cell below!"
      ]
    },
    {
      "cell_type": "code",
      "metadata": {
        "id": "dhzk3GE6S9RC",
        "colab_type": "code",
        "colab": {
          "base_uri": "https://localhost:8080/",
          "height": 297
        },
        "outputId": "a1ccd7a8-9d0a-40c1-940c-df79687d0dbc"
      },
      "source": [
        "!pip install pyspark\n",
        "!pip install -U -q PyDrive\n",
        "!apt install openjdk-8-jdk-headless -qq\n",
        "import os\n",
        "os.environ[\"JAVA_HOME\"] = \"/usr/lib/jvm/java-8-openjdk-amd64\""
      ],
      "execution_count": 1,
      "outputs": [
        {
          "output_type": "stream",
          "text": [
            "Collecting pyspark\n",
            "\u001b[?25l  Downloading https://files.pythonhosted.org/packages/9a/5a/271c416c1c2185b6cb0151b29a91fff6fcaed80173c8584ff6d20e46b465/pyspark-2.4.5.tar.gz (217.8MB)\n",
            "\u001b[K     |████████████████████████████████| 217.8MB 46kB/s \n",
            "\u001b[?25hCollecting py4j==0.10.7\n",
            "\u001b[?25l  Downloading https://files.pythonhosted.org/packages/e3/53/c737818eb9a7dc32a7cd4f1396e787bd94200c3997c72c1dbe028587bd76/py4j-0.10.7-py2.py3-none-any.whl (197kB)\n",
            "\u001b[K     |████████████████████████████████| 204kB 52.2MB/s \n",
            "\u001b[?25hBuilding wheels for collected packages: pyspark\n",
            "  Building wheel for pyspark (setup.py) ... \u001b[?25l\u001b[?25hdone\n",
            "  Created wheel for pyspark: filename=pyspark-2.4.5-py2.py3-none-any.whl size=218257927 sha256=5d86bfcb25def1bd831738b59e3e36ad37fad072128d31a6d786c2f71a103692\n",
            "  Stored in directory: /root/.cache/pip/wheels/bf/db/04/61d66a5939364e756eb1c1be4ec5bdce6e04047fc7929a3c3c\n",
            "Successfully built pyspark\n",
            "Installing collected packages: py4j, pyspark\n",
            "Successfully installed py4j-0.10.7 pyspark-2.4.5\n",
            "openjdk-8-jdk-headless is already the newest version (8u242-b08-0ubuntu3~18.04).\n",
            "0 upgraded, 0 newly installed, 0 to remove and 25 not upgraded.\n"
          ],
          "name": "stdout"
        }
      ]
    },
    {
      "cell_type": "markdown",
      "metadata": {
        "id": "ctU1dYjfOif7",
        "colab_type": "text"
      },
      "source": [
        "Now we authenticate a Google Drive client to download the file we will be processing in our Spark job.\n",
        "\n",
        "**Make sure to follow the interactive instructions.**"
      ]
    },
    {
      "cell_type": "code",
      "metadata": {
        "id": "1dfnX7IAOkvH",
        "colab_type": "code",
        "colab": {}
      },
      "source": [
        "from pydrive.auth import GoogleAuth\n",
        "from pydrive.drive import GoogleDrive\n",
        "from google.colab import auth\n",
        "from oauth2client.client import GoogleCredentials\n",
        "\n",
        "# Authenticate and create the PyDrive client\n",
        "auth.authenticate_user()\n",
        "gauth = GoogleAuth()\n",
        "gauth.credentials = GoogleCredentials.get_application_default()\n",
        "drive = GoogleDrive(gauth)"
      ],
      "execution_count": 0,
      "outputs": []
    },
    {
      "cell_type": "code",
      "metadata": {
        "id": "UF5nuSdyTJpc",
        "colab_type": "code",
        "colab": {}
      },
      "source": [
        "id='1L6pCQkldvdBoaEhRFzL0VnrggEFvqON4'\n",
        "downloaded = drive.CreateFile({'id': id}) \n",
        "downloaded.GetContentFile('Bombing_Operations.json.gz')\n",
        "\n",
        "id='14dyBmcTBA32uXPxDbqr0bFDIzGxMTWwl'\n",
        "downloaded = drive.CreateFile({'id': id}) \n",
        "downloaded.GetContentFile('Aircraft_Glossary.json.gz')  "
      ],
      "execution_count": 0,
      "outputs": []
    },
    {
      "cell_type": "markdown",
      "metadata": {
        "id": "wA49WWqmO5rR",
        "colab_type": "text"
      },
      "source": [
        "If you executed the cells above, you should be able to see the files *Bombing_Operations.json.gz* and *Aircraft_Glossary.json.gz* under the \"Files\" tab on the left panel."
      ]
    },
    {
      "cell_type": "code",
      "metadata": {
        "id": "xgQaRx6rSaf9",
        "colab_type": "code",
        "colab": {}
      },
      "source": [
        "# Let's import the libraries we will need\n",
        "import pandas as pd\n",
        "import numpy as np\n",
        "import matplotlib.pyplot as plt\n",
        "%matplotlib inline\n",
        "\n",
        "import pyspark\n",
        "from pyspark.sql import *\n",
        "from pyspark.sql.functions import *\n",
        "from pyspark import SparkContext, SparkConf"
      ],
      "execution_count": 0,
      "outputs": []
    },
    {
      "cell_type": "markdown",
      "metadata": {
        "id": "uUD5XpD_SagA",
        "colab_type": "text"
      },
      "source": [
        "Let's initialize the Spark context.\n"
      ]
    },
    {
      "cell_type": "code",
      "metadata": {
        "id": "7ft3VivrSagB",
        "colab_type": "code",
        "colab": {}
      },
      "source": [
        "# create the session\n",
        "conf = SparkConf().set(\"spark.ui.port\", \"4050\")\n",
        "\n",
        "# create the context\n",
        "sc = pyspark.SparkContext(conf=conf)\n",
        "spark = SparkSession.builder.getOrCreate()"
      ],
      "execution_count": 0,
      "outputs": []
    },
    {
      "cell_type": "markdown",
      "metadata": {
        "id": "-n20ixkgSagD",
        "colab_type": "text"
      },
      "source": [
        "You can easily check the current version and get the link of the web interface. In the Spark UI, you can monitor the progress of your job and debug the performance bottlenecks (if your Colab is running with a **local runtime**)."
      ]
    },
    {
      "cell_type": "code",
      "metadata": {
        "id": "Fl4RHbqFSagE",
        "colab_type": "code",
        "colab": {
          "base_uri": "https://localhost:8080/",
          "height": 219
        },
        "outputId": "2ec4b989-330a-484b-b2c0-a0e238d559eb"
      },
      "source": [
        "spark"
      ],
      "execution_count": 6,
      "outputs": [
        {
          "output_type": "execute_result",
          "data": {
            "text/html": [
              "\n",
              "            <div>\n",
              "                <p><b>SparkSession - in-memory</b></p>\n",
              "                \n",
              "        <div>\n",
              "            <p><b>SparkContext</b></p>\n",
              "\n",
              "            <p><a href=\"http://358c387fd859:4050\">Spark UI</a></p>\n",
              "\n",
              "            <dl>\n",
              "              <dt>Version</dt>\n",
              "                <dd><code>v2.4.5</code></dd>\n",
              "              <dt>Master</dt>\n",
              "                <dd><code>local[*]</code></dd>\n",
              "              <dt>AppName</dt>\n",
              "                <dd><code>pyspark-shell</code></dd>\n",
              "            </dl>\n",
              "        </div>\n",
              "        \n",
              "            </div>\n",
              "        "
            ],
            "text/plain": [
              "<pyspark.sql.session.SparkSession at 0x7eff2290f518>"
            ]
          },
          "metadata": {
            "tags": []
          },
          "execution_count": 6
        }
      ]
    },
    {
      "cell_type": "markdown",
      "metadata": {
        "id": "xlw1Mgx0T9-l",
        "colab_type": "text"
      },
      "source": [
        "If you are running this Colab on the Google hosted runtime, the cell below will create a *ngrok* tunnel which will allow you to still check the Spark UI."
      ]
    },
    {
      "cell_type": "code",
      "metadata": {
        "id": "cYYlUTWYQMjb",
        "colab_type": "code",
        "colab": {
          "base_uri": "https://localhost:8080/",
          "height": 260
        },
        "outputId": "cb0c3404-9680-44f4-e3ca-29b1638712a9"
      },
      "source": [
        "!wget https://bin.equinox.io/c/4VmDzA7iaHb/ngrok-stable-linux-amd64.zip\n",
        "!unzip ngrok-stable-linux-amd64.zip\n",
        "get_ipython().system_raw('./ngrok http 4050 &')\n",
        "!curl -s http://localhost:4040/api/tunnels | python3 -c \\\n",
        "    \"import sys, json; print(json.load(sys.stdin)['tunnels'][0]['public_url'])\""
      ],
      "execution_count": 7,
      "outputs": [
        {
          "output_type": "stream",
          "text": [
            "--2020-04-14 01:40:51--  https://bin.equinox.io/c/4VmDzA7iaHb/ngrok-stable-linux-amd64.zip\n",
            "Resolving bin.equinox.io (bin.equinox.io)... 34.226.171.201, 52.7.103.227, 3.220.9.69, ...\n",
            "Connecting to bin.equinox.io (bin.equinox.io)|34.226.171.201|:443... connected.\n",
            "HTTP request sent, awaiting response... 200 OK\n",
            "Length: 13773305 (13M) [application/octet-stream]\n",
            "Saving to: ‘ngrok-stable-linux-amd64.zip’\n",
            "\n",
            "ngrok-stable-linux- 100%[===================>]  13.13M  14.0MB/s    in 0.9s    \n",
            "\n",
            "2020-04-14 01:40:53 (14.0 MB/s) - ‘ngrok-stable-linux-amd64.zip’ saved [13773305/13773305]\n",
            "\n",
            "Archive:  ngrok-stable-linux-amd64.zip\n",
            "  inflating: ngrok                   \n",
            "http://a50cec79.ngrok.io\n"
          ],
          "name": "stdout"
        }
      ]
    },
    {
      "cell_type": "markdown",
      "metadata": {
        "id": "gewv-lKMSagI",
        "colab_type": "text"
      },
      "source": [
        "# Vietnam War\n",
        "\n",
        "**Pres. Johnson**: _What do you think about this Vietnam thing? I’d like to hear you talk a little bit._\n",
        "\n",
        "**Sen. Russell**: _Well, frankly, Mr. President, it’s the damn worse mess that I ever saw, and I don’t like to brag and I never have been right many times in my life, but I knew that we were going to get into this sort of mess when we went in there._\n",
        "\n",
        "May 27, 1964\n",
        "\n",
        "![banner](https://raw.githubusercontent.com/epfl-ada/2019/c17af0d3c73f11cb083717b7408fedd86245dc4d/Tutorials/04%20-%20Scaling%20Up/img/banner.jpg)"
      ]
    },
    {
      "cell_type": "markdown",
      "metadata": {
        "id": "skjUv84VSagJ",
        "colab_type": "text"
      },
      "source": [
        "----\n",
        "\n",
        "The Vietnam War, also known as the Second Indochina War, and in Vietnam as the Resistance War Against America or simply the American War, was a conflict that occurred in Vietnam, Laos, and Cambodia from 1 November 1955 to the fall of Saigon on 30 April 1975. It was the second of the Indochina Wars and was officially fought between North Vietnam and the government of South Vietnam.\n",
        "\n",
        "**The dataset describes all the air force operation in during the Vietnam War.**\n",
        "\n",
        "**Bombing_Operations** [Get the dataset here](https://drive.google.com/a/epfl.ch/file/d/1L6pCQkldvdBoaEhRFzL0VnrggEFvqON4/view?usp=sharing)\n",
        "\n",
        "- AirCraft: _Aircraft model (example: EC-47)_\n",
        "- ContryFlyingMission: _Country_\n",
        "- MissionDate: _Date of the mission_\n",
        "- OperationSupported: _Supported War operation_ (example: [Operation Rolling Thunder](https://en.wikipedia.org/wiki/Operation_Rolling_Thunder))\n",
        "- PeriodOfDay: _Day or night_\n",
        "- TakeoffLocation: _Take off airport_\n",
        "- TimeOnTarget\n",
        "- WeaponType\n",
        "- WeaponsLoadedWeight\n",
        "\n",
        "**Aircraft_Glossary** [Get the dataset here](https://drive.google.com/a/epfl.ch/file/d/14dyBmcTBA32uXPxDbqr0bFDIzGxMTWwl/view?usp=sharing)\n",
        "\n",
        "- AirCraft: _Aircraft model (example: EC-47)_\n",
        "- AirCraftName\n",
        "- AirCraftType\n",
        "\n",
        "**Dataset Information:**\n",
        "\n",
        "THOR is a painstakingly cultivated database of historic aerial bombings from World War I through Vietnam. THOR has already proven useful in finding unexploded ordnance in Southeast Asia and improving Air Force combat tactics:\n",
        "https://www.kaggle.com/usaf/vietnam-war-bombing-operations"
      ]
    },
    {
      "cell_type": "markdown",
      "metadata": {
        "id": "VSWoULeWSagJ",
        "colab_type": "text"
      },
      "source": [
        "Load the datasets:"
      ]
    },
    {
      "cell_type": "code",
      "metadata": {
        "id": "XLyVPuLXSagK",
        "colab_type": "code",
        "colab": {}
      },
      "source": [
        "Bombing_Operations = spark.read.json(\"Bombing_Operations.json.gz\")\n",
        "Aircraft_Glossary = spark.read.json(\"Aircraft_Glossary.json.gz\")"
      ],
      "execution_count": 0,
      "outputs": []
    },
    {
      "cell_type": "markdown",
      "metadata": {
        "id": "MP2JmCeoSagM",
        "colab_type": "text"
      },
      "source": [
        "Check the schema:"
      ]
    },
    {
      "cell_type": "code",
      "metadata": {
        "id": "KpUT8viNSagM",
        "colab_type": "code",
        "colab": {
          "base_uri": "https://localhost:8080/",
          "height": 225
        },
        "outputId": "96a1ae10-6ef4-48de-c5ed-c03c12898595"
      },
      "source": [
        "Bombing_Operations.printSchema()"
      ],
      "execution_count": 9,
      "outputs": [
        {
          "output_type": "stream",
          "text": [
            "root\n",
            " |-- AirCraft: string (nullable = true)\n",
            " |-- ContryFlyingMission: string (nullable = true)\n",
            " |-- MissionDate: string (nullable = true)\n",
            " |-- OperationSupported: string (nullable = true)\n",
            " |-- PeriodOfDay: string (nullable = true)\n",
            " |-- TakeoffLocation: string (nullable = true)\n",
            " |-- TargetCountry: string (nullable = true)\n",
            " |-- TimeOnTarget: double (nullable = true)\n",
            " |-- WeaponType: string (nullable = true)\n",
            " |-- WeaponsLoadedWeight: long (nullable = true)\n",
            "\n"
          ],
          "name": "stdout"
        }
      ]
    },
    {
      "cell_type": "code",
      "metadata": {
        "id": "6LJsbmlxSagO",
        "colab_type": "code",
        "colab": {
          "base_uri": "https://localhost:8080/",
          "height": 104
        },
        "outputId": "d32bcc12-356e-44b7-d178-5d130ceff91e"
      },
      "source": [
        "Aircraft_Glossary.printSchema()"
      ],
      "execution_count": 10,
      "outputs": [
        {
          "output_type": "stream",
          "text": [
            "root\n",
            " |-- AirCraft: string (nullable = true)\n",
            " |-- AirCraftName: string (nullable = true)\n",
            " |-- AirCraftType: string (nullable = true)\n",
            "\n"
          ],
          "name": "stdout"
        }
      ]
    },
    {
      "cell_type": "markdown",
      "metadata": {
        "id": "1jP5IBezSagQ",
        "colab_type": "text"
      },
      "source": [
        "Get a sample with `take()`:"
      ]
    },
    {
      "cell_type": "code",
      "metadata": {
        "id": "jrJpiG5ISagQ",
        "colab_type": "code",
        "colab": {
          "base_uri": "https://localhost:8080/",
          "height": 89
        },
        "outputId": "45fa0a0c-9f5b-4881-926d-93aa936d2512"
      },
      "source": [
        "Bombing_Operations.take(3)"
      ],
      "execution_count": 11,
      "outputs": [
        {
          "output_type": "execute_result",
          "data": {
            "text/plain": [
              "[Row(AirCraft='EC-47', ContryFlyingMission='UNITED STATES OF AMERICA', MissionDate='1971-06-05', OperationSupported=None, PeriodOfDay='D', TakeoffLocation='TAN SON NHUT', TargetCountry='CAMBODIA', TimeOnTarget=1005.0, WeaponType=None, WeaponsLoadedWeight=0),\n",
              " Row(AirCraft='EC-47', ContryFlyingMission='UNITED STATES OF AMERICA', MissionDate='1972-12-26', OperationSupported=None, PeriodOfDay='D', TakeoffLocation='NAKHON PHANOM', TargetCountry='SOUTH VIETNAM', TimeOnTarget=530.0, WeaponType=None, WeaponsLoadedWeight=0),\n",
              " Row(AirCraft='RF-4', ContryFlyingMission='UNITED STATES OF AMERICA', MissionDate='1973-07-28', OperationSupported=None, PeriodOfDay='D', TakeoffLocation='UDORN AB', TargetCountry='LAOS', TimeOnTarget=730.0, WeaponType=None, WeaponsLoadedWeight=0)]"
            ]
          },
          "metadata": {
            "tags": []
          },
          "execution_count": 11
        }
      ]
    },
    {
      "cell_type": "markdown",
      "metadata": {
        "id": "iu7n8KKjSagS",
        "colab_type": "text"
      },
      "source": [
        "Get a formatted sample with `show()`:"
      ]
    },
    {
      "cell_type": "code",
      "metadata": {
        "id": "nwYZrwanSagT",
        "colab_type": "code",
        "colab": {
          "base_uri": "https://localhost:8080/",
          "height": 468
        },
        "outputId": "037a6983-3044-4042-d50b-fc602c8654f5"
      },
      "source": [
        "Aircraft_Glossary.show()"
      ],
      "execution_count": 12,
      "outputs": [
        {
          "output_type": "stream",
          "text": [
            "+--------+--------------------+--------------------+\n",
            "|AirCraft|        AirCraftName|        AirCraftType|\n",
            "+--------+--------------------+--------------------+\n",
            "|     A-1|Douglas A-1 Skyra...|         Fighter Jet|\n",
            "|    A-26|Douglas A-26 Invader|        Light Bomber|\n",
            "|    A-37|Cessna A-37 Drago...|Light ground-atta...|\n",
            "|     A-4|McDonnell Douglas...|         Fighter Jet|\n",
            "|     A-5|North American A-...|          Bomber Jet|\n",
            "|     A-6|Grumman A-6 Intruder|     Attack Aircraft|\n",
            "|     A-7|  LTV A-7 Corsair II|     Attack Aircraft|\n",
            "|  AC-119|Fairchild AC-119 ...|Military Transpor...|\n",
            "|  AC-123|Fairchild C-123 P...|Military Transpor...|\n",
            "|  AC-130|Lockheed AC-130 S...|Fixed wing ground...|\n",
            "|   AC-47|Douglas AC-47 Spooky|Ground attack air...|\n",
            "|    AH-1| Bell AH-1 HueyCobra|          Helicopter|\n",
            "|     B-1| Rockwell B-1 Lancer|Heavy strategic b...|\n",
            "|    B-52| B-52 Stratofortress|    Strategic bomber|\n",
            "|    B-57|Martin B-57 Canberra|     Tactical Bomber|\n",
            "|    B-66|Douglas B-66 Dest...|        Light Bomber|\n",
            "|     C-1| Grumman C-1A Trader|           Transport|\n",
            "|   C-117|     C-117D Skytrain|           Transport|\n",
            "|   C-119|Fairchild C-119 F...|Military Transpor...|\n",
            "|   C-123|Fairchild C-123 P...|Military Transpor...|\n",
            "+--------+--------------------+--------------------+\n",
            "only showing top 20 rows\n",
            "\n"
          ],
          "name": "stdout"
        }
      ]
    },
    {
      "cell_type": "code",
      "metadata": {
        "id": "hMAab2rJSagU",
        "colab_type": "code",
        "colab": {
          "base_uri": "https://localhost:8080/",
          "height": 35
        },
        "outputId": "f268364a-0c2f-41f7-d4e6-8da6f75de462"
      },
      "source": [
        "print(\"In total there are {0} operations\".format(Bombing_Operations.count()))"
      ],
      "execution_count": 13,
      "outputs": [
        {
          "output_type": "stream",
          "text": [
            "In total there are 4400775 operations\n"
          ],
          "name": "stdout"
        }
      ]
    },
    {
      "cell_type": "markdown",
      "metadata": {
        "id": "hkKWEEcLSagW",
        "colab_type": "text"
      },
      "source": [
        "## Question 1: Which countries are involved and in how many missions? \n",
        "\n",
        "Keywords: `Dataframe API`, `SQL`, `group by`, `sort`"
      ]
    },
    {
      "cell_type": "markdown",
      "metadata": {
        "id": "MwPL1-P5SagW",
        "colab_type": "text"
      },
      "source": [
        "Let's group the missions by `ContryFlyingMission` and count how many records exist:"
      ]
    },
    {
      "cell_type": "code",
      "metadata": {
        "scrolled": true,
        "id": "BWcMVcgwSagX",
        "colab_type": "code",
        "colab": {
          "base_uri": "https://localhost:8080/",
          "height": 191
        },
        "outputId": "4afb0c1b-18d6-4563-d70a-9aafb2130c91"
      },
      "source": [
        "missions_counts = Bombing_Operations.groupBy(\"ContryFlyingMission\")\\\n",
        "                                    .agg(count(\"*\").alias(\"MissionsCount\"))\\\n",
        "                                    .sort(desc(\"MissionsCount\"))\n",
        "missions_counts.show()"
      ],
      "execution_count": 14,
      "outputs": [
        {
          "output_type": "stream",
          "text": [
            "+--------------------+-------------+\n",
            "| ContryFlyingMission|MissionsCount|\n",
            "+--------------------+-------------+\n",
            "|UNITED STATES OF ...|      3708997|\n",
            "|     VIETNAM (SOUTH)|       622013|\n",
            "|                LAOS|        32777|\n",
            "|       KOREA (SOUTH)|        24469|\n",
            "|           AUSTRALIA|        12519|\n",
            "+--------------------+-------------+\n",
            "\n"
          ],
          "name": "stdout"
        }
      ]
    },
    {
      "cell_type": "markdown",
      "metadata": {
        "id": "t5trEAkzSagY",
        "colab_type": "text"
      },
      "source": [
        "In this case we used the DataFrame API, but we could rewite the `groupBy` using pure SQL:"
      ]
    },
    {
      "cell_type": "code",
      "metadata": {
        "id": "3slo-sXOSagZ",
        "colab_type": "code",
        "colab": {
          "base_uri": "https://localhost:8080/",
          "height": 191
        },
        "outputId": "fc1ac431-157e-492e-ce2a-54d18b4ad57e"
      },
      "source": [
        "Bombing_Operations.registerTempTable(\"Bombing_Operations\")\n",
        "\n",
        "query = \"\"\"\n",
        "SELECT ContryFlyingMission, count(*) as MissionsCount\n",
        "FROM Bombing_Operations\n",
        "GROUP BY ContryFlyingMission\n",
        "ORDER BY MissionsCount DESC\n",
        "\"\"\"\n",
        "\n",
        "missions_counts = spark.sql(query)\n",
        "missions_counts.show()"
      ],
      "execution_count": 15,
      "outputs": [
        {
          "output_type": "stream",
          "text": [
            "+--------------------+-------------+\n",
            "| ContryFlyingMission|MissionsCount|\n",
            "+--------------------+-------------+\n",
            "|UNITED STATES OF ...|      3708997|\n",
            "|     VIETNAM (SOUTH)|       622013|\n",
            "|                LAOS|        32777|\n",
            "|       KOREA (SOUTH)|        24469|\n",
            "|           AUSTRALIA|        12519|\n",
            "+--------------------+-------------+\n",
            "\n"
          ],
          "name": "stdout"
        }
      ]
    },
    {
      "cell_type": "markdown",
      "metadata": {
        "id": "5wQNXQnOSaga",
        "colab_type": "text"
      },
      "source": [
        "The Dataframe is small enough to be moved to Pandas:"
      ]
    },
    {
      "cell_type": "code",
      "metadata": {
        "id": "4nVJdPLDSagb",
        "colab_type": "code",
        "colab": {
          "base_uri": "https://localhost:8080/",
          "height": 202
        },
        "outputId": "6b4af4a2-2911-4068-f12e-dfb88e042fbd"
      },
      "source": [
        "missions_count_pd = missions_counts.toPandas()\n",
        "missions_count_pd.head()"
      ],
      "execution_count": 16,
      "outputs": [
        {
          "output_type": "execute_result",
          "data": {
            "text/html": [
              "<div>\n",
              "<style scoped>\n",
              "    .dataframe tbody tr th:only-of-type {\n",
              "        vertical-align: middle;\n",
              "    }\n",
              "\n",
              "    .dataframe tbody tr th {\n",
              "        vertical-align: top;\n",
              "    }\n",
              "\n",
              "    .dataframe thead th {\n",
              "        text-align: right;\n",
              "    }\n",
              "</style>\n",
              "<table border=\"1\" class=\"dataframe\">\n",
              "  <thead>\n",
              "    <tr style=\"text-align: right;\">\n",
              "      <th></th>\n",
              "      <th>ContryFlyingMission</th>\n",
              "      <th>MissionsCount</th>\n",
              "    </tr>\n",
              "  </thead>\n",
              "  <tbody>\n",
              "    <tr>\n",
              "      <th>0</th>\n",
              "      <td>UNITED STATES OF AMERICA</td>\n",
              "      <td>3708997</td>\n",
              "    </tr>\n",
              "    <tr>\n",
              "      <th>1</th>\n",
              "      <td>VIETNAM (SOUTH)</td>\n",
              "      <td>622013</td>\n",
              "    </tr>\n",
              "    <tr>\n",
              "      <th>2</th>\n",
              "      <td>LAOS</td>\n",
              "      <td>32777</td>\n",
              "    </tr>\n",
              "    <tr>\n",
              "      <th>3</th>\n",
              "      <td>KOREA (SOUTH)</td>\n",
              "      <td>24469</td>\n",
              "    </tr>\n",
              "    <tr>\n",
              "      <th>4</th>\n",
              "      <td>AUSTRALIA</td>\n",
              "      <td>12519</td>\n",
              "    </tr>\n",
              "  </tbody>\n",
              "</table>\n",
              "</div>"
            ],
            "text/plain": [
              "        ContryFlyingMission  MissionsCount\n",
              "0  UNITED STATES OF AMERICA        3708997\n",
              "1           VIETNAM (SOUTH)         622013\n",
              "2                      LAOS          32777\n",
              "3             KOREA (SOUTH)          24469\n",
              "4                 AUSTRALIA          12519"
            ]
          },
          "metadata": {
            "tags": []
          },
          "execution_count": 16
        }
      ]
    },
    {
      "cell_type": "markdown",
      "metadata": {
        "id": "VQedtuQZSagc",
        "colab_type": "text"
      },
      "source": [
        "Let's plot a barchart with the number of missions by country:"
      ]
    },
    {
      "cell_type": "code",
      "metadata": {
        "id": "tgbceprDSagd",
        "colab_type": "code",
        "colab": {
          "base_uri": "https://localhost:8080/",
          "height": 607
        },
        "outputId": "f8801559-05c9-41f9-ca59-990f37f6c5db"
      },
      "source": [
        "pl = missions_count_pd.plot(kind=\"bar\", \n",
        "                            x=\"ContryFlyingMission\", y=\"MissionsCount\", \n",
        "                            figsize=(10, 7), log=True, alpha=0.5, color=\"olive\")\n",
        "pl.set_xlabel(\"Country\")\n",
        "pl.set_ylabel(\"Number of Missions (Log scale)\")\n",
        "pl.set_title(\"Number of missions by Country\")"
      ],
      "execution_count": 17,
      "outputs": [
        {
          "output_type": "execute_result",
          "data": {
            "text/plain": [
              "Text(0.5, 1.0, 'Number of missions by Country')"
            ]
          },
          "metadata": {
            "tags": []
          },
          "execution_count": 17
        },
        {
          "output_type": "display_data",
          "data": {
            "image/png": "[encoded data removed]",
            "text/plain": [
              "<Figure size 720x504 with 1 Axes>"
            ]
          },
          "metadata": {
            "tags": [],
            "needs_background": "light"
          }
        }
      ]
    },
    {
      "cell_type": "markdown",
      "metadata": {
        "id": "1jCZfwK2Sage",
        "colab_type": "text"
      },
      "source": [
        "----"
      ]
    },
    {
      "cell_type": "markdown",
      "metadata": {
        "id": "LLan66cXSagf",
        "colab_type": "text"
      },
      "source": [
        "## Questions 2: Show the number of missions in time for each of the countries involved.\n",
        "\n",
        "Keywords: `group by`, `parse date`, `plot`\n",
        "\n",
        "Let's select the relevant columns:"
      ]
    },
    {
      "cell_type": "code",
      "metadata": {
        "id": "BXNKt5PHSagf",
        "colab_type": "code",
        "colab": {
          "base_uri": "https://localhost:8080/",
          "height": 35
        },
        "outputId": "255d73a8-9e23-4365-fd41-6a187d7b99cb"
      },
      "source": [
        "missions_countries = Bombing_Operations.selectExpr([\"to_date(MissionDate) as MissionDate\", \"ContryFlyingMission\"])\n",
        "missions_countries"
      ],
      "execution_count": 18,
      "outputs": [
        {
          "output_type": "execute_result",
          "data": {
            "text/plain": [
              "DataFrame[MissionDate: date, ContryFlyingMission: string]"
            ]
          },
          "metadata": {
            "tags": []
          },
          "execution_count": 18
        }
      ]
    },
    {
      "cell_type": "markdown",
      "metadata": {
        "id": "da9IeKntSagh",
        "colab_type": "text"
      },
      "source": [
        "The filed MissionDate is converted to a Python `date` object.\n",
        "\n",
        "Now we can group by `MissionDate` and `ContryFlyingMission` to get the count:"
      ]
    },
    {
      "cell_type": "code",
      "metadata": {
        "id": "TLza0bF9Sagh",
        "colab_type": "code",
        "colab": {
          "base_uri": "https://localhost:8080/",
          "height": 202
        },
        "outputId": "1903316a-6241-45fd-a077-2552722cd5f4"
      },
      "source": [
        "missions_by_date = missions_countries\\\n",
        "                    .groupBy([\"MissionDate\", \"ContryFlyingMission\"])\\\n",
        "                    .agg(count(\"*\").alias(\"MissionsCount\"))\\\n",
        "                    .sort(asc(\"MissionDate\")).toPandas()\n",
        "missions_by_date.head()"
      ],
      "execution_count": 19,
      "outputs": [
        {
          "output_type": "execute_result",
          "data": {
            "text/html": [
              "<div>\n",
              "<style scoped>\n",
              "    .dataframe tbody tr th:only-of-type {\n",
              "        vertical-align: middle;\n",
              "    }\n",
              "\n",
              "    .dataframe tbody tr th {\n",
              "        vertical-align: top;\n",
              "    }\n",
              "\n",
              "    .dataframe thead th {\n",
              "        text-align: right;\n",
              "    }\n",
              "</style>\n",
              "<table border=\"1\" class=\"dataframe\">\n",
              "  <thead>\n",
              "    <tr style=\"text-align: right;\">\n",
              "      <th></th>\n",
              "      <th>MissionDate</th>\n",
              "      <th>ContryFlyingMission</th>\n",
              "      <th>MissionsCount</th>\n",
              "    </tr>\n",
              "  </thead>\n",
              "  <tbody>\n",
              "    <tr>\n",
              "      <th>0</th>\n",
              "      <td>1965-10-01</td>\n",
              "      <td>UNITED STATES OF AMERICA</td>\n",
              "      <td>447</td>\n",
              "    </tr>\n",
              "    <tr>\n",
              "      <th>1</th>\n",
              "      <td>1965-10-02</td>\n",
              "      <td>UNITED STATES OF AMERICA</td>\n",
              "      <td>652</td>\n",
              "    </tr>\n",
              "    <tr>\n",
              "      <th>2</th>\n",
              "      <td>1965-10-03</td>\n",
              "      <td>UNITED STATES OF AMERICA</td>\n",
              "      <td>608</td>\n",
              "    </tr>\n",
              "    <tr>\n",
              "      <th>3</th>\n",
              "      <td>1965-10-04</td>\n",
              "      <td>UNITED STATES OF AMERICA</td>\n",
              "      <td>532</td>\n",
              "    </tr>\n",
              "    <tr>\n",
              "      <th>4</th>\n",
              "      <td>1965-10-05</td>\n",
              "      <td>UNITED STATES OF AMERICA</td>\n",
              "      <td>697</td>\n",
              "    </tr>\n",
              "  </tbody>\n",
              "</table>\n",
              "</div>"
            ],
            "text/plain": [
              "  MissionDate       ContryFlyingMission  MissionsCount\n",
              "0  1965-10-01  UNITED STATES OF AMERICA            447\n",
              "1  1965-10-02  UNITED STATES OF AMERICA            652\n",
              "2  1965-10-03  UNITED STATES OF AMERICA            608\n",
              "3  1965-10-04  UNITED STATES OF AMERICA            532\n",
              "4  1965-10-05  UNITED STATES OF AMERICA            697"
            ]
          },
          "metadata": {
            "tags": []
          },
          "execution_count": 19
        }
      ]
    },
    {
      "cell_type": "markdown",
      "metadata": {
        "id": "IAhOE55wSagj",
        "colab_type": "text"
      },
      "source": [
        "Now we can plot the content with a different series for each country:"
      ]
    },
    {
      "cell_type": "code",
      "metadata": {
        "id": "wLq6ulAySagl",
        "colab_type": "code",
        "colab": {
          "base_uri": "https://localhost:8080/",
          "height": 393
        },
        "outputId": "c42306d7-3e42-4f61-fad9-685333f1fa55"
      },
      "source": [
        "fig = plt.figure(figsize=(10, 6))\n",
        "\n",
        "# iterate the different groups to create a different series\n",
        "for country, missions in missions_by_date.groupby(\"ContryFlyingMission\"): \n",
        "    plt.plot(missions[\"MissionDate\"], missions[\"MissionsCount\"], label=country)\n",
        "\n",
        "plt.legend(loc='best')"
      ],
      "execution_count": 20,
      "outputs": [
        {
          "output_type": "execute_result",
          "data": {
            "text/plain": [
              "<matplotlib.legend.Legend at 0x7eff21649fd0>"
            ]
          },
          "metadata": {
            "tags": []
          },
          "execution_count": 20
        },
        {
          "output_type": "display_data",
          "data": {
            "image/png": "[encoded data removed]",
            "text/plain": [
              "<Figure size 720x432 with 1 Axes>"
            ]
          },
          "metadata": {
            "tags": [],
            "needs_background": "light"
          }
        }
      ]
    },
    {
      "cell_type": "markdown",
      "metadata": {
        "id": "GEMzTwxGSagp",
        "colab_type": "text"
      },
      "source": [
        "We can observe how South Vietnam increased its missions starting from 1970. The drop in 1973 is motivated by the [Paris Peace Accords](https://en.wikipedia.org/wiki/Paris_Peace_Accords) that took place on January 27th, 1973, to establish peace in Vietnam and end the war."
      ]
    },
    {
      "cell_type": "markdown",
      "metadata": {
        "id": "dl6m0B6iSagp",
        "colab_type": "text"
      },
      "source": [
        "----"
      ]
    },
    {
      "cell_type": "markdown",
      "metadata": {
        "id": "uEwBspLySagp",
        "colab_type": "text"
      },
      "source": [
        "## Question 3: Who bombed this location?\n",
        "\n",
        "Keywords: `RDD map reduce` `cache` `save results`\n",
        "\n",
        "<img style=\"float: right;\" src=\"https://raw.githubusercontent.com/epfl-ada/2019/c17af0d3c73f11cb083717b7408fedd86245dc4d/Tutorials/04%20-%20Scaling%20Up/img/Hanoi_POL1966.jpg\">\n",
        "\n",
        "This picture is the Hanoi POL facility (North Vietnam) burning after it was attacked by the U.S. Air Force on 29 June 1966 in the context of the Rolling Thunder operation. \n",
        "\n",
        "We are interested in discovering what was the most common take-off location during that day."
      ]
    },
    {
      "cell_type": "code",
      "metadata": {
        "id": "uq6jqsgBSagq",
        "colab_type": "code",
        "colab": {}
      },
      "source": [
        "jun_29_operations = Bombing_Operations.where(\"MissionDate = '1966-06-29' AND TargetCountry='NORTH VIETNAM'\")"
      ],
      "execution_count": 0,
      "outputs": []
    },
    {
      "cell_type": "markdown",
      "metadata": {
        "id": "Qurjwd0zSagr",
        "colab_type": "text"
      },
      "source": [
        "Which coutries scheduled missions that day?"
      ]
    },
    {
      "cell_type": "code",
      "metadata": {
        "id": "uoiVSE7NSags",
        "colab_type": "code",
        "colab": {
          "base_uri": "https://localhost:8080/",
          "height": 110
        },
        "outputId": "5aeb80db-3e78-4ea3-eb62-5b25748692c6"
      },
      "source": [
        "jun_29_operations.groupBy(\"ContryFlyingMission\").agg(count(\"*\").alias(\"MissionsCount\")).toPandas()"
      ],
      "execution_count": 22,
      "outputs": [
        {
          "output_type": "execute_result",
          "data": {
            "text/html": [
              "<div>\n",
              "<style scoped>\n",
              "    .dataframe tbody tr th:only-of-type {\n",
              "        vertical-align: middle;\n",
              "    }\n",
              "\n",
              "    .dataframe tbody tr th {\n",
              "        vertical-align: top;\n",
              "    }\n",
              "\n",
              "    .dataframe thead th {\n",
              "        text-align: right;\n",
              "    }\n",
              "</style>\n",
              "<table border=\"1\" class=\"dataframe\">\n",
              "  <thead>\n",
              "    <tr style=\"text-align: right;\">\n",
              "      <th></th>\n",
              "      <th>ContryFlyingMission</th>\n",
              "      <th>MissionsCount</th>\n",
              "    </tr>\n",
              "  </thead>\n",
              "  <tbody>\n",
              "    <tr>\n",
              "      <th>0</th>\n",
              "      <td>VIETNAM (SOUTH)</td>\n",
              "      <td>6</td>\n",
              "    </tr>\n",
              "    <tr>\n",
              "      <th>1</th>\n",
              "      <td>UNITED STATES OF AMERICA</td>\n",
              "      <td>389</td>\n",
              "    </tr>\n",
              "  </tbody>\n",
              "</table>\n",
              "</div>"
            ],
            "text/plain": [
              "        ContryFlyingMission  MissionsCount\n",
              "0           VIETNAM (SOUTH)              6\n",
              "1  UNITED STATES OF AMERICA            389"
            ]
          },
          "metadata": {
            "tags": []
          },
          "execution_count": 22
        }
      ]
    },
    {
      "cell_type": "markdown",
      "metadata": {
        "id": "-0Q2bS4KSagt",
        "colab_type": "text"
      },
      "source": [
        "Most of the operation that day were performed by USA airplanes."
      ]
    },
    {
      "cell_type": "code",
      "metadata": {
        "id": "cLec-CkmSagu",
        "colab_type": "code",
        "colab": {
          "base_uri": "https://localhost:8080/",
          "height": 55
        },
        "outputId": "12979ec0-d54d-4595-f0a4-fbae01879dad"
      },
      "source": [
        "jun_29_operations.take(1)"
      ],
      "execution_count": 23,
      "outputs": [
        {
          "output_type": "execute_result",
          "data": {
            "text/plain": [
              "[Row(AirCraft='F-105', ContryFlyingMission='UNITED STATES OF AMERICA', MissionDate='1966-06-29', OperationSupported='STEEL TIGER', PeriodOfDay='D', TakeoffLocation='TAKHLI', TargetCountry='NORTH VIETNAM', TimeOnTarget=310.0, WeaponType='1000LB MK-83', WeaponsLoadedWeight=-1)]"
            ]
          },
          "metadata": {
            "tags": []
          },
          "execution_count": 23
        }
      ]
    },
    {
      "cell_type": "markdown",
      "metadata": {
        "id": "77XdZuNDSagv",
        "colab_type": "text"
      },
      "source": [
        "You can specify to cache the content in memory:"
      ]
    },
    {
      "cell_type": "code",
      "metadata": {
        "id": "q45a-OYwSagw",
        "colab_type": "code",
        "colab": {
          "base_uri": "https://localhost:8080/",
          "height": 55
        },
        "outputId": "ef3d7e3e-3cec-4e3b-c38b-aeb991ebffa0"
      },
      "source": [
        "jun_29_operations.cache()"
      ],
      "execution_count": 24,
      "outputs": [
        {
          "output_type": "execute_result",
          "data": {
            "text/plain": [
              "DataFrame[AirCraft: string, ContryFlyingMission: string, MissionDate: string, OperationSupported: string, PeriodOfDay: string, TakeoffLocation: string, TargetCountry: string, TimeOnTarget: double, WeaponType: string, WeaponsLoadedWeight: bigint]"
            ]
          },
          "metadata": {
            "tags": []
          },
          "execution_count": 24
        }
      ]
    },
    {
      "cell_type": "markdown",
      "metadata": {
        "id": "feWOqgKISagx",
        "colab_type": "text"
      },
      "source": [
        "Now you can count the number of rows and move the content to the cache:"
      ]
    },
    {
      "cell_type": "code",
      "metadata": {
        "id": "vIpLEQrlSagx",
        "colab_type": "code",
        "colab": {
          "base_uri": "https://localhost:8080/",
          "height": 69
        },
        "outputId": "463d1b56-3b82-47dd-b38b-1dc089ed4fb7"
      },
      "source": [
        "%time jun_29_operations.count()"
      ],
      "execution_count": 25,
      "outputs": [
        {
          "output_type": "stream",
          "text": [
            "CPU times: user 2.52 ms, sys: 1.43 ms, total: 3.95 ms\n",
            "Wall time: 15.3 s\n"
          ],
          "name": "stdout"
        },
        {
          "output_type": "execute_result",
          "data": {
            "text/plain": [
              "395"
            ]
          },
          "metadata": {
            "tags": []
          },
          "execution_count": 25
        }
      ]
    },
    {
      "cell_type": "markdown",
      "metadata": {
        "id": "uCTEq5LZSagz",
        "colab_type": "text"
      },
      "source": [
        "The second time the content is cached and the operation is much faster:"
      ]
    },
    {
      "cell_type": "code",
      "metadata": {
        "id": "6oZtHYspSagz",
        "colab_type": "code",
        "colab": {
          "base_uri": "https://localhost:8080/",
          "height": 69
        },
        "outputId": "6b524ed5-d53b-4ee8-cef1-c894d1cf4db3"
      },
      "source": [
        "%time jun_29_operations.count()"
      ],
      "execution_count": 26,
      "outputs": [
        {
          "output_type": "stream",
          "text": [
            "CPU times: user 704 µs, sys: 0 ns, total: 704 µs\n",
            "Wall time: 70.7 ms\n"
          ],
          "name": "stdout"
        },
        {
          "output_type": "execute_result",
          "data": {
            "text/plain": [
              "395"
            ]
          },
          "metadata": {
            "tags": []
          },
          "execution_count": 26
        }
      ]
    },
    {
      "cell_type": "markdown",
      "metadata": {
        "id": "_4Hzke2kSag1",
        "colab_type": "text"
      },
      "source": [
        "You can also save the results on a file..."
      ]
    },
    {
      "cell_type": "code",
      "metadata": {
        "id": "4_2p0Ha9Sag1",
        "colab_type": "code",
        "colab": {}
      },
      "source": [
        "jun_29_operations.write.mode('overwrite').json(\"jun_29_operations.json\")"
      ],
      "execution_count": 0,
      "outputs": []
    },
    {
      "cell_type": "markdown",
      "metadata": {
        "id": "OJwG61TNSag3",
        "colab_type": "text"
      },
      "source": [
        "... and read from the file:"
      ]
    },
    {
      "cell_type": "code",
      "metadata": {
        "id": "JTe1l78_Sag4",
        "colab_type": "code",
        "colab": {}
      },
      "source": [
        "jun_29_operations = spark.read.json(\"jun_29_operations.json\")"
      ],
      "execution_count": 0,
      "outputs": []
    },
    {
      "cell_type": "markdown",
      "metadata": {
        "id": "DEW08u3_Sag6",
        "colab_type": "text"
      },
      "source": [
        "We can use the simple DataFrame API..."
      ]
    },
    {
      "cell_type": "code",
      "metadata": {
        "id": "UYO-CuHISag8",
        "colab_type": "code",
        "colab": {
          "base_uri": "https://localhost:8080/",
          "height": 295
        },
        "outputId": "cb169609-c676-4b9e-f31c-150b0ec83a5c"
      },
      "source": [
        "TakeoffLocationCounts = jun_29_operations\\\n",
        "                            .groupBy(\"TakeoffLocation\").agg(count(\"*\").alias(\"MissionsCount\"))\\\n",
        "                            .sort(desc(\"MissionsCount\"))\n",
        "TakeoffLocationCounts.show()"
      ],
      "execution_count": 29,
      "outputs": [
        {
          "output_type": "stream",
          "text": [
            "+----------------+-------------+\n",
            "| TakeoffLocation|MissionsCount|\n",
            "+----------------+-------------+\n",
            "|   CONSTELLATION|           87|\n",
            "|          TAKHLI|           56|\n",
            "|           KORAT|           55|\n",
            "|        UDORN AB|           44|\n",
            "|         UBON AB|           44|\n",
            "|          RANGER|           35|\n",
            "|          DANANG|           35|\n",
            "|    TAN SON NHUT|           26|\n",
            "|HANCOCK (CVA-19)|           10|\n",
            "|    CAM RANH BAY|            2|\n",
            "|         CUBI PT|            1|\n",
            "+----------------+-------------+\n",
            "\n"
          ],
          "name": "stdout"
        }
      ]
    },
    {
      "cell_type": "markdown",
      "metadata": {
        "id": "2PHZStWQSag9",
        "colab_type": "text"
      },
      "source": [
        "... or the explicit Map/Reduce format with RDDs.\n",
        "\n",
        "First we emit a pair in the format (Location, 1):"
      ]
    },
    {
      "cell_type": "code",
      "metadata": {
        "id": "OgEeKdtYSag9",
        "colab_type": "code",
        "colab": {
          "base_uri": "https://localhost:8080/",
          "height": 191
        },
        "outputId": "7b7406ef-96c9-4f00-b3ce-871e6d723d1e"
      },
      "source": [
        "all_locations = jun_29_operations.rdd.map(lambda row: (row.TakeoffLocation, 1))\n",
        "all_locations.take(10)"
      ],
      "execution_count": 32,
      "outputs": [
        {
          "output_type": "execute_result",
          "data": {
            "text/plain": [
              "[('TAKHLI', 1),\n",
              " ('DANANG', 1),\n",
              " ('CONSTELLATION', 1),\n",
              " ('UBON AB', 1),\n",
              " ('UDORN AB', 1),\n",
              " ('CONSTELLATION', 1),\n",
              " ('KORAT', 1),\n",
              " ('CONSTELLATION', 1),\n",
              " ('KORAT', 1),\n",
              " ('RANGER', 1)]"
            ]
          },
          "metadata": {
            "tags": []
          },
          "execution_count": 32
        }
      ]
    },
    {
      "cell_type": "markdown",
      "metadata": {
        "id": "Akm81xVxSag_",
        "colab_type": "text"
      },
      "source": [
        "Then, we sum counters in the reduce step, and we sort by count:"
      ]
    },
    {
      "cell_type": "code",
      "metadata": {
        "id": "_hVvIF_WSag_",
        "colab_type": "code",
        "colab": {
          "base_uri": "https://localhost:8080/",
          "height": 35
        },
        "outputId": "125ddd73-9025-4876-d1a6-009ac160bf32"
      },
      "source": [
        "locations_counts_rdd = all_locations.reduceByKey(lambda a, b: a+b).sortBy(lambda r: -r[1])\n",
        "locations_counts_rdd.take(3)"
      ],
      "execution_count": 31,
      "outputs": [
        {
          "output_type": "execute_result",
          "data": {
            "text/plain": [
              "[('CONSTELLATION', 87), ('TAKHLI', 56), ('KORAT', 55)]"
            ]
          },
          "metadata": {
            "tags": []
          },
          "execution_count": 31
        }
      ]
    },
    {
      "cell_type": "markdown",
      "metadata": {
        "id": "od5h9c6qSahB",
        "colab_type": "text"
      },
      "source": [
        "Now we can convert the RDD in dataframe by mapping the pairs to objects of type `Row`"
      ]
    },
    {
      "cell_type": "code",
      "metadata": {
        "id": "KNDn84R_SahB",
        "colab_type": "code",
        "colab": {
          "base_uri": "https://localhost:8080/",
          "height": 295
        },
        "outputId": "68587ac9-639f-4447-e1fa-46d90cbdeee3"
      },
      "source": [
        "locations_counts_with_schema = locations_counts_rdd.map(lambda r: Row(TakeoffLocation=r[0], MissionsCount=r[1]))\n",
        "locations_counts = spark.createDataFrame(locations_counts_with_schema)\n",
        "locations_counts.show()"
      ],
      "execution_count": 33,
      "outputs": [
        {
          "output_type": "stream",
          "text": [
            "+-------------+----------------+\n",
            "|MissionsCount| TakeoffLocation|\n",
            "+-------------+----------------+\n",
            "|           87|   CONSTELLATION|\n",
            "|           56|          TAKHLI|\n",
            "|           55|           KORAT|\n",
            "|           44|         UBON AB|\n",
            "|           44|        UDORN AB|\n",
            "|           35|          DANANG|\n",
            "|           35|          RANGER|\n",
            "|           26|    TAN SON NHUT|\n",
            "|           10|HANCOCK (CVA-19)|\n",
            "|            2|    CAM RANH BAY|\n",
            "|            1|         CUBI PT|\n",
            "+-------------+----------------+\n",
            "\n"
          ],
          "name": "stdout"
        }
      ]
    },
    {
      "cell_type": "markdown",
      "metadata": {
        "id": "cE8asfBPSahD",
        "colab_type": "text"
      },
      "source": [
        "<img style=\"float: right;\" src=\"https://raw.githubusercontent.com/epfl-ada/2019/c17af0d3c73f11cb083717b7408fedd86245dc4d/Tutorials/04%20-%20Scaling%20Up/img/USS_Constellation.jpg\">\n",
        "\n",
        "\n",
        "That day the most common take-off location was the ship USS Constellation (CV-64). We cannot univocally identify one take off location, but we can reduce the possible candidates. Next steps: explore TimeOnTarget feature.\n",
        "\n",
        "_USS Constellation (CV-64), a Kitty Hawk-class supercarrier, was the third ship of the United States Navy to be named in honor of the \"new constellation of stars\" on the flag of the United States. One of the fastest ships in the Navy, as proven by her victory during a battlegroup race held in 1985, she was nicknamed \"Connie\" by her crew and officially as \"America's Flagship\"._"
      ]
    },
    {
      "cell_type": "markdown",
      "metadata": {
        "id": "lKKM6VS8SahD",
        "colab_type": "text"
      },
      "source": [
        "----"
      ]
    },
    {
      "cell_type": "markdown",
      "metadata": {
        "id": "aaiVcdF8SahD",
        "colab_type": "text"
      },
      "source": [
        "## Questions 4: What is the most used aircraft type during the Vietnam war (number of missions)?\n",
        "\n",
        "Keywords: `join` `group by`"
      ]
    },
    {
      "cell_type": "markdown",
      "metadata": {
        "id": "xnV48FZlSahG",
        "colab_type": "text"
      },
      "source": [
        "Let's check the content of `Aircraft_Glossary`:"
      ]
    },
    {
      "cell_type": "code",
      "metadata": {
        "id": "yovhBV5sSahI",
        "colab_type": "code",
        "colab": {
          "base_uri": "https://localhost:8080/",
          "height": 208
        },
        "outputId": "4266bbae-0730-4891-84cd-86f22690c20a"
      },
      "source": [
        "Aircraft_Glossary.show(5)"
      ],
      "execution_count": 34,
      "outputs": [
        {
          "output_type": "stream",
          "text": [
            "+--------+--------------------+--------------------+\n",
            "|AirCraft|        AirCraftName|        AirCraftType|\n",
            "+--------+--------------------+--------------------+\n",
            "|     A-1|Douglas A-1 Skyra...|         Fighter Jet|\n",
            "|    A-26|Douglas A-26 Invader|        Light Bomber|\n",
            "|    A-37|Cessna A-37 Drago...|Light ground-atta...|\n",
            "|     A-4|McDonnell Douglas...|         Fighter Jet|\n",
            "|     A-5|North American A-...|          Bomber Jet|\n",
            "+--------+--------------------+--------------------+\n",
            "only showing top 5 rows\n",
            "\n"
          ],
          "name": "stdout"
        }
      ]
    },
    {
      "cell_type": "markdown",
      "metadata": {
        "id": "yO0ExxRoSahJ",
        "colab_type": "text"
      },
      "source": [
        "We are interested in the filed `AirCraftType`."
      ]
    },
    {
      "cell_type": "code",
      "metadata": {
        "id": "Z4DnpCTmSahJ",
        "colab_type": "code",
        "colab": {
          "base_uri": "https://localhost:8080/",
          "height": 208
        },
        "outputId": "c05455f1-e68a-4650-ea13-9a71b65deda3"
      },
      "source": [
        "Bombing_Operations.select(\"AirCraft\").show(5)"
      ],
      "execution_count": 35,
      "outputs": [
        {
          "output_type": "stream",
          "text": [
            "+--------+\n",
            "|AirCraft|\n",
            "+--------+\n",
            "|   EC-47|\n",
            "|   EC-47|\n",
            "|    RF-4|\n",
            "|     A-1|\n",
            "|    A-37|\n",
            "+--------+\n",
            "only showing top 5 rows\n",
            "\n"
          ],
          "name": "stdout"
        }
      ]
    },
    {
      "cell_type": "markdown",
      "metadata": {
        "id": "Z97Y9DuUSahK",
        "colab_type": "text"
      },
      "source": [
        "We can join on the column `AirCraft` of both dataframes."
      ]
    },
    {
      "cell_type": "markdown",
      "metadata": {
        "id": "9txA3mx1SahL",
        "colab_type": "text"
      },
      "source": [
        "With Dataframe API:"
      ]
    },
    {
      "cell_type": "code",
      "metadata": {
        "id": "s3j3Fu8kSahL",
        "colab_type": "code",
        "colab": {
          "base_uri": "https://localhost:8080/",
          "height": 55
        },
        "outputId": "13067c2c-eeba-4977-cc08-1d2079decc64"
      },
      "source": [
        "missions_joined = Bombing_Operations.join(Aircraft_Glossary, \n",
        "                                          Bombing_Operations.AirCraft == Aircraft_Glossary.AirCraft)\n",
        "missions_joined"
      ],
      "execution_count": 36,
      "outputs": [
        {
          "output_type": "execute_result",
          "data": {
            "text/plain": [
              "DataFrame[AirCraft: string, ContryFlyingMission: string, MissionDate: string, OperationSupported: string, PeriodOfDay: string, TakeoffLocation: string, TargetCountry: string, TimeOnTarget: double, WeaponType: string, WeaponsLoadedWeight: bigint, AirCraft: string, AirCraftName: string, AirCraftType: string]"
            ]
          },
          "metadata": {
            "tags": []
          },
          "execution_count": 36
        }
      ]
    },
    {
      "cell_type": "markdown",
      "metadata": {
        "id": "QhQbN8AOSahN",
        "colab_type": "text"
      },
      "source": [
        "We can select only the field we are interested in:"
      ]
    },
    {
      "cell_type": "code",
      "metadata": {
        "id": "s5KgFBXASahO",
        "colab_type": "code",
        "colab": {
          "base_uri": "https://localhost:8080/",
          "height": 208
        },
        "outputId": "cfc2b313-3514-4e4b-e3c5-e28ee31d210a"
      },
      "source": [
        "missions_aircrafts = missions_joined.select(\"AirCraftType\")\n",
        "missions_aircrafts.show(5)"
      ],
      "execution_count": 37,
      "outputs": [
        {
          "output_type": "stream",
          "text": [
            "+--------------------+\n",
            "|        AirCraftType|\n",
            "+--------------------+\n",
            "|Military Transpor...|\n",
            "|Military Transpor...|\n",
            "|  Fighter bomber jet|\n",
            "|         Fighter Jet|\n",
            "|Light ground-atta...|\n",
            "+--------------------+\n",
            "only showing top 5 rows\n",
            "\n"
          ],
          "name": "stdout"
        }
      ]
    },
    {
      "cell_type": "markdown",
      "metadata": {
        "id": "giUuCERTSahT",
        "colab_type": "text"
      },
      "source": [
        "And finally we can group by `AirCraftType` and count:"
      ]
    },
    {
      "cell_type": "code",
      "metadata": {
        "id": "S0QytpygSahU",
        "colab_type": "code",
        "colab": {
          "base_uri": "https://localhost:8080/",
          "height": 468
        },
        "outputId": "13b76175-f6f2-49ae-d504-02412de708e7"
      },
      "source": [
        "missions_aircrafts.groupBy(\"AirCraftType\").agg(count(\"*\").alias(\"MissionsCount\"))\\\n",
        "                  .sort(desc(\"MissionsCount\"))\\\n",
        "                  .show()"
      ],
      "execution_count": 38,
      "outputs": [
        {
          "output_type": "stream",
          "text": [
            "+--------------------+-------------+\n",
            "|        AirCraftType|MissionsCount|\n",
            "+--------------------+-------------+\n",
            "|  Fighter Jet Bomber|      1073126|\n",
            "|         Fighter Jet|       882594|\n",
            "|  Jet Fighter Bomber|       451385|\n",
            "|     Attack Aircraft|       315246|\n",
            "|Light ground-atta...|       267457|\n",
            "|  Fighter bomber jet|       242231|\n",
            "|Military Transpor...|       228426|\n",
            "|  Utility Helicopter|       146653|\n",
            "|    Strategic bomber|        99100|\n",
            "|     Tactical Bomber|        82219|\n",
            "|Observation Aircraft|        81820|\n",
            "|Fixed wing ground...|        75058|\n",
            "|Ground attack air...|        73843|\n",
            "|Carrier-based Fig...|        58691|\n",
            "|   Training Aircraft|        48435|\n",
            "|       Light fighter|        39999|\n",
            "|        Light Bomber|        39262|\n",
            "|Light Tactical Bo...|        34738|\n",
            "| Light Utility Plane|        28582|\n",
            "|Observation/ Ligh...|        24491|\n",
            "+--------------------+-------------+\n",
            "only showing top 20 rows\n",
            "\n"
          ],
          "name": "stdout"
        }
      ]
    },
    {
      "cell_type": "markdown",
      "metadata": {
        "id": "2Y1043GMSahV",
        "colab_type": "text"
      },
      "source": [
        "In alternative we can rewrite this in pure SQL:"
      ]
    },
    {
      "cell_type": "code",
      "metadata": {
        "id": "980KMZCOSahV",
        "colab_type": "code",
        "colab": {
          "base_uri": "https://localhost:8080/",
          "height": 468
        },
        "outputId": "27e545df-5f2c-4910-f851-83c9e23323c0"
      },
      "source": [
        "Bombing_Operations.registerTempTable(\"Bombing_Operations\")\n",
        "Aircraft_Glossary.registerTempTable(\"Aircraft_Glossary\")\n",
        "\n",
        "query = \"\"\"\n",
        "SELECT AirCraftType, count(*) MissionsCount\n",
        "FROM Bombing_Operations bo\n",
        "JOIN Aircraft_Glossary ag\n",
        "ON bo.AirCraft = ag.AirCraft\n",
        "GROUP BY AirCraftType\n",
        "ORDER BY MissionsCount DESC\n",
        "\"\"\"\n",
        "\n",
        "spark.sql(query).show()"
      ],
      "execution_count": 39,
      "outputs": [
        {
          "output_type": "stream",
          "text": [
            "+--------------------+-------------+\n",
            "|        AirCraftType|MissionsCount|\n",
            "+--------------------+-------------+\n",
            "|  Fighter Jet Bomber|      1073126|\n",
            "|         Fighter Jet|       882594|\n",
            "|  Jet Fighter Bomber|       451385|\n",
            "|     Attack Aircraft|       315246|\n",
            "|Light ground-atta...|       267457|\n",
            "|  Fighter bomber jet|       242231|\n",
            "|Military Transpor...|       228426|\n",
            "|  Utility Helicopter|       146653|\n",
            "|    Strategic bomber|        99100|\n",
            "|     Tactical Bomber|        82219|\n",
            "|Observation Aircraft|        81820|\n",
            "|Fixed wing ground...|        75058|\n",
            "|Ground attack air...|        73843|\n",
            "|Carrier-based Fig...|        58691|\n",
            "|   Training Aircraft|        48435|\n",
            "|       Light fighter|        39999|\n",
            "|        Light Bomber|        39262|\n",
            "|Light Tactical Bo...|        34738|\n",
            "| Light Utility Plane|        28582|\n",
            "|Observation/ Ligh...|        24491|\n",
            "+--------------------+-------------+\n",
            "only showing top 20 rows\n",
            "\n"
          ],
          "name": "stdout"
        }
      ]
    },
    {
      "cell_type": "markdown",
      "metadata": {
        "id": "ffrW-oV2SahW",
        "colab_type": "text"
      },
      "source": [
        "The aircrafts of type `Fighter Jet Bomber` participated in most of the missions in the Vietnam war.\n",
        "\n",
        "Note: This dataset would require further cleaning and normalization. See `Fighter Jet Bomber`, `Jet Fighter Bomber`, `Fighter bomber jet`"
      ]
    }
  ]
}