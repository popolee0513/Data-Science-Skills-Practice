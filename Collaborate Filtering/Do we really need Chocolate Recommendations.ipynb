{
 "cells": [
  {
   "cell_type": "markdown",
   "metadata": {},
   "source": [
    "# HW4: Do we really need Chocolate Recommendations?"
   ]
  },
  {
   "cell_type": "markdown",
   "metadata": {},
   "source": [
    "<img src=\"http://1.bp.blogspot.com/-8dGYKeMKNaU/TvutmCenc-I/AAAAAAAABEo/b2Czf4RlAzw/s1600/Death%2BBy%2BChocolate.JPG\" width=\"400\" height=\"300\"/>"
   ]
  },
  {
   "cell_type": "markdown",
   "metadata": {},
   "source": [
    "###Before You Start\n",
    "\n",
    "This is a **long** homework. Please start early. It uses a lot of different (and sometimes complex) concepts, so you might find yourself reading a lot. So, please, give yourself a lot of time.\n",
    "\n",
    "Also, please see this [link](http://nbviewer.ipython.org/urls/raw.github.com/cs109/content/master/InstructionsForAmazonEMR.ipynb) on getting an Amazon Web Services account soon, so that you dont delay its creation. This class gives you $100 in credits which you will use for this homework, possibly your project, and any other projects you might like.\n",
    "\n",
    "Finally, please go to the labs. The one on 18th October (Today) will cover Gibbs Sampling and Bayesian Normal distributions. The one on the 25th will cover Map-Reduce. Both will help on the homework."
   ]
  },
  {
   "cell_type": "markdown",
   "metadata": {},
   "source": [
    "###Collaborative Filtering systems\n",
    "\n",
    "In this homework, you will create a recommendation system for **restaurants** using [collaborative filtering](http://en.wikipedia.org/wiki/Collaborative_filtering) (CF). The general structure of a recommendation system is that there are users and there are items. Users express explicit or implicit preferences towards certain items. CF thus relies on users' past behavior.\n",
    "\n",
    "There are two primary approaches to CF: neighboorhood and latent factor model. The former is concerned with computing the relationships between items or between users. In the latter approach you have a model of hidden factors through which users and items are transformed to the same space. For example, if you are rating movies we may transform items into genre factors, and users into their preference for a particular genre.\n",
    "\n",
    "Factor models generally lead to more accurate recommenders. One of the reasons for this is the sparsity of the item-user matrix. Most users tend to rate barely one or two items. Latent factor models are more expressive, and fit fewer parameters. However, neighborhood models are more prevalent, as they have an intuitive aspect that appeals to users(if you liked this you will like that) and online(a new preference can be incorporated very quickly).\n",
    "\n",
    "Most recommenders today combine neighboorhood CF with model based CF, and SVD based matrix factorization approaches.\n",
    "\n",
    "To see the example of a simple beer recommender, go [here](http://nbviewer.ipython.org/20a18d52c539b87de2af). This homework is inspired by the one there but we go after food instead, and go deeper into the problem of making recommendations."
   ]
  },
  {
   "cell_type": "markdown",
   "metadata": {},
   "source": [
    "### User and Item based approaches\n",
    "\n",
    "Original approaches to neighborhood based CF used user-user models. By this we mean that rating estimates are made from recorded ratings of like minded users. However, since most users tend to rate very few items, this is usually a losing proposition for explicit-rating based recommenders. Thus, most neighborhood based systems such as Amazon these days rely on item-item approaches. In these methods, a rating is estimated by other ratings made by the user on \"similar\" or \"nearby\" items: we have a K-Nearest-Neighbors algorithm, in effect."
   ]
  },
  {
   "cell_type": "markdown",
   "metadata": {},
   "source": [
    "###Outline of this Homework\n",
    "\n",
    "The outline of this homework is as follows:\n",
    "\n",
    "1. Create a database of item-item similarities. Use this to implement a neighborhood-based CF recommender that can answer simple questions like \"give me more restaurants like this one\". This part of the homework assumes that the similaties calculated make good \"global recommendations\".\n",
    "\n",
    "2. In the second part, we go one step further and attempt to predict the rating that a user will give an item they have not seen before. This requires that we find the restaurants that *this* user would rate as similar (not just those which are globally similar). \n",
    "\n",
    "3. In the third part, we implement a factor-based CF recommender using a Bayesian model. While quite a bit more complex, this allows us to pool information both about similar users and about similar restaurants.\n",
    "\n",
    "5. We will scale up our system by creating a recommender on the lines of Q1 and Q2 that works on the entire data set. We will use the map-reduce paradigm to split the computation over multiple machines."
   ]
  },
  {
   "cell_type": "markdown",
   "metadata": {},
   "source": [
    "You will start simply, by working on a subset of the restaurant data before generalizing to the entire data set in Problem 4. The complete data set has 150,000 reviews, but we shall start with just about 7000. You will create this  smaller set by taking all the users who had rated more than 60 restaurants, and all the businesses which had greater than 150 reviews from the larger data set. This is not a random set: indeed we use it as it a computationally tractable set that is a bit less sparse than the entire data set."
   ]
  },
  {
   "cell_type": "code",
   "execution_count": 22,
   "metadata": {},
   "outputs": [],
   "source": [
    "%matplotlib inline\n",
    "from collections import defaultdict\n",
    "import json\n",
    "\n",
    "import numpy as np\n",
    "import scipy as sp\n",
    "import matplotlib\n",
    "import matplotlib.pyplot as plt\n",
    "import pandas as pd\n",
    "\n",
    "from matplotlib import rcParams\n",
    "import matplotlib.cm as cm\n",
    "import matplotlib as mpl\n",
    "\n",
    "#colorbrewer2 Dark2 qualitative color table\n",
    "dark2_colors = [(0.10588235294117647, 0.6196078431372549, 0.4666666666666667),\n",
    "                (0.8509803921568627, 0.37254901960784315, 0.00784313725490196),\n",
    "                (0.4588235294117647, 0.4392156862745098, 0.7019607843137254),\n",
    "                (0.9058823529411765, 0.1607843137254902, 0.5411764705882353),\n",
    "                (0.4, 0.6509803921568628, 0.11764705882352941),\n",
    "                (0.9019607843137255, 0.6705882352941176, 0.00784313725490196),\n",
    "                (0.6509803921568628, 0.4627450980392157, 0.11372549019607843)]\n",
    "\n",
    "rcParams['figure.figsize'] = (10, 6)\n",
    "rcParams['figure.dpi'] = 80\n",
    "rcParams['axes.prop_cycle'] = matplotlib.cycler(color=dark2_colors)\n",
    "rcParams['lines.linewidth'] = 2\n",
    "rcParams['axes.facecolor'] = 'white'\n",
    "rcParams['font.size'] = 14\n",
    "rcParams['patch.edgecolor'] = 'white'\n",
    "rcParams['patch.facecolor'] = dark2_colors[0]\n",
    "rcParams['font.family'] = 'StixGeneral'\n",
    "\n",
    "\n",
    "def remove_border(axes=None, top=False, right=False, left=True, bottom=True):\n",
    "    \"\"\"\n",
    "    Minimize chartjunk by stripping out unnecesasry plot borders and axis ticks\n",
    "    \n",
    "    The top/right/left/bottom keywords toggle whether the corresponding plot border is drawn\n",
    "    \"\"\"\n",
    "    ax = axes or plt.gca()\n",
    "    ax.spines['top'].set_visible(top)\n",
    "    ax.spines['right'].set_visible(right)\n",
    "    ax.spines['left'].set_visible(left)\n",
    "    ax.spines['bottom'].set_visible(bottom)\n",
    "    \n",
    "    #turn off all ticks\n",
    "    ax.yaxis.set_ticks_position('none')\n",
    "    ax.xaxis.set_ticks_position('none')\n",
    "    \n",
    "    #now re-enable visibles\n",
    "    if top:\n",
    "        ax.xaxis.tick_top()\n",
    "    if bottom:\n",
    "        ax.xaxis.tick_bottom()\n",
    "    if left:\n",
    "        ax.yaxis.tick_left()\n",
    "    if right:\n",
    "        ax.yaxis.tick_right()\n",
    "        \n",
    "pd.set_option('display.width', 500)\n",
    "pd.set_option('display.max_columns', 100)"
   ]
  },
  {
   "cell_type": "markdown",
   "metadata": {},
   "source": [
    "### Description of the data set\n",
    "\n",
    "The data set has been extracted from the Yelp Phoenix restaurants dataset. It is available [here](https://dl.dropboxusercontent.com/u/75194/bigdf.csv)."
   ]
  },
  {
   "cell_type": "code",
   "execution_count": 23,
   "metadata": {},
   "outputs": [
    {
     "data": {
      "text/html": [
       "<div>\n",
       "<style scoped>\n",
       "    .dataframe tbody tr th:only-of-type {\n",
       "        vertical-align: middle;\n",
       "    }\n",
       "\n",
       "    .dataframe tbody tr th {\n",
       "        vertical-align: top;\n",
       "    }\n",
       "\n",
       "    .dataframe thead th {\n",
       "        text-align: right;\n",
       "    }\n",
       "</style>\n",
       "<table border=\"1\" class=\"dataframe\">\n",
       "  <thead>\n",
       "    <tr style=\"text-align: right;\">\n",
       "      <th></th>\n",
       "      <th>user_id</th>\n",
       "      <th>business_id</th>\n",
       "      <th>date</th>\n",
       "      <th>review_id</th>\n",
       "      <th>stars</th>\n",
       "      <th>usefulvotes_review</th>\n",
       "      <th>user_name</th>\n",
       "      <th>categories</th>\n",
       "      <th>biz_name</th>\n",
       "      <th>latitude</th>\n",
       "      <th>longitude</th>\n",
       "      <th>business_avg</th>\n",
       "      <th>business_review_count</th>\n",
       "      <th>user_avg</th>\n",
       "      <th>user_review_count</th>\n",
       "    </tr>\n",
       "  </thead>\n",
       "  <tbody>\n",
       "    <tr>\n",
       "      <th>0</th>\n",
       "      <td>rLtl8ZkDX5vH5nAx9C3q5Q</td>\n",
       "      <td>9yKzy9PApeiPPOUJEtnvkg</td>\n",
       "      <td>2011-01-26 00:00:00</td>\n",
       "      <td>fWKvX83p0-ka4JS3dc6E5A</td>\n",
       "      <td>5</td>\n",
       "      <td>5</td>\n",
       "      <td>Jason</td>\n",
       "      <td>[Breakfast &amp; Brunch, Restaurants]</td>\n",
       "      <td>Morning Glory Cafe</td>\n",
       "      <td>33.390792</td>\n",
       "      <td>-112.012504</td>\n",
       "      <td>3.87156</td>\n",
       "      <td>109</td>\n",
       "      <td>3.796954</td>\n",
       "      <td>197</td>\n",
       "    </tr>\n",
       "    <tr>\n",
       "      <th>1</th>\n",
       "      <td>SBbftLzfYYKItOMFwOTIJg</td>\n",
       "      <td>9yKzy9PApeiPPOUJEtnvkg</td>\n",
       "      <td>2008-05-04 00:00:00</td>\n",
       "      <td>DASdFe-g0BgfN9J2tanStg</td>\n",
       "      <td>5</td>\n",
       "      <td>1</td>\n",
       "      <td>Jennifer</td>\n",
       "      <td>[Breakfast &amp; Brunch, Restaurants]</td>\n",
       "      <td>Morning Glory Cafe</td>\n",
       "      <td>33.390792</td>\n",
       "      <td>-112.012504</td>\n",
       "      <td>3.87156</td>\n",
       "      <td>109</td>\n",
       "      <td>3.473684</td>\n",
       "      <td>57</td>\n",
       "    </tr>\n",
       "  </tbody>\n",
       "</table>\n",
       "</div>"
      ],
      "text/plain": [
       "                  user_id             business_id                 date               review_id  stars  usefulvotes_review user_name                         categories            biz_name   latitude   longitude  business_avg  business_review_count  user_avg  user_review_count\n",
       "0  rLtl8ZkDX5vH5nAx9C3q5Q  9yKzy9PApeiPPOUJEtnvkg  2011-01-26 00:00:00  fWKvX83p0-ka4JS3dc6E5A      5                   5     Jason  [Breakfast & Brunch, Restaurants]  Morning Glory Cafe  33.390792 -112.012504       3.87156                    109  3.796954                197\n",
       "1  SBbftLzfYYKItOMFwOTIJg  9yKzy9PApeiPPOUJEtnvkg  2008-05-04 00:00:00  DASdFe-g0BgfN9J2tanStg      5                   1  Jennifer  [Breakfast & Brunch, Restaurants]  Morning Glory Cafe  33.390792 -112.012504       3.87156                    109  3.473684                 57"
      ]
     },
     "execution_count": 23,
     "metadata": {},
     "output_type": "execute_result"
    }
   ],
   "source": [
    "fulldf=pd.read_csv(\"bigdf.csv\")\n",
    "fulldf.head(2)"
   ]
  },
  {
   "cell_type": "markdown",
   "metadata": {},
   "source": [
    "The data frame is a frame of reviews. We have joined in information about users and businesses into this frame so that you have only one frame to work with."
   ]
  },
  {
   "cell_type": "markdown",
   "metadata": {},
   "source": [
    "This information is for the reviews themselves:"
   ]
  },
  {
   "cell_type": "raw",
   "metadata": {},
   "source": [
    "  'stars': (star rating, integer 1-5),\n",
    "  'date': (date, formatted like '2011-04-19'),\n",
    "  'review_id': (unique id for the review)."
   ]
  },
  {
   "cell_type": "markdown",
   "metadata": {},
   "source": [
    "Here is a description of the data fields in this dataframe, on the business side"
   ]
  },
  {
   "cell_type": "raw",
   "metadata": {},
   "source": [
    "  'business_id': (a unique identifier for this business),\n",
    "  'biz_name': (the full business name),\n",
    "  'latitude': (latitude),\n",
    "  'longitude': (longitude),\n",
    "  'business_review_count': (review count for the restaurant[this is a repeated field for all reviews of the restaurant]),\n",
    "  'categories': [(localized category names)],\n",
    "  'business_avg': (average stars over all users reviews for business[this is a repeated field for all reviews of the restaurant])."
   ]
  },
  {
   "cell_type": "markdown",
   "metadata": {},
   "source": [
    "And Finally, a set of fields for users"
   ]
  },
  {
   "cell_type": "raw",
   "metadata": {},
   "source": [
    "  'user_id': (unique user identifier),\n",
    "  'user_name': (first name, last initial, like 'Matt J.'),\n",
    "  'user_review_count': (count of restaurants reviewed by user[this is a repeated field for all reviews by the user]),\n",
    "  'user_avg': (floating point average of users reviews over all businesses, like 4.31[this is a repeated field for all reviews by the user])."
   ]
  },
  {
   "cell_type": "markdown",
   "metadata": {},
   "source": [
    "In this data set, every user has only one review for each restaurant. Convince yourself of this. (This answer does not need to be submitted)."
   ]
  },
  {
   "cell_type": "markdown",
   "metadata": {},
   "source": [
    "###Our Recommender\n",
    "\n",
    "To motivate our recommendation system, consider the follwing example. Let's pretend we are in Boston for a second. Lets say the average rating of restaurants here by all the users is 3.5. Sandrine's at Harvard square is better than an average restaurant, so it tends to be rated 0.5 stars above the average (over all the users). However, you are a curmudgeon, who tends to rate 0.2 stars below the average. Then a baseline estimate for the recommendation for Sandrine's, for you, is 3.5+0.5-0.2=3.8.\n",
    "\n",
    "These baseline estimates thus adjust the data by accounting for the systematic tendencies for some users who give higher ratings than others, and for some restaurants to recieve higher ratings than others. We can write the baseline estimate $\\hat Y_{um}^{baseline}$ for an unknown rating $Y_{um}$ for user $u$ and restaurant or business $m$ as:\n",
    "\n",
    "$$ \\hat Y_{um}^{baseline} = \\hat \\mu + \\hat \\theta_{u0} + \\hat \\gamma_{m0} $$\n",
    "\n",
    "where the unknown parameters $\\theta_{u0}$ and $\\gamma_{m0}$ indicate the deviations, or biases, of user $u$ and item $m$, respectively, from some intercept parameter $\\mu$. (The reason for the strange notation with 0s will become clear in Problem 3)\n",
    "\n",
    "Notice that the $\\theta_{u0}$ and $\\gamma_{m0}$ are parameters which need to be fit. The simplest thing to start with, and something we will do for Problems 1 and 2 (but not 3), is to replace them by their \"mean\" estimates from the data. Thus:\n",
    "\n",
    "$$ \\hat Y^{baseline}_{um} = \\bar Y + (\\bar Y_u - \\bar Y) + (\\bar Y_m - \\bar Y)$$\n",
    "\n",
    "where $\\bar Y_u$ =  `user_avg`, the average of all a user $u$'s ratings and $\\bar Y_m$ = `business_avg`, the average of all ratings for a restaurant $m$. $\\bar Y$ is the average rating over all reviews.\n",
    "\n",
    "The final two terms correspond to the user-specific and item-specific bias in ratings, that is, how their ratings tend to systematically diverge from the global average. This is the simplest possible way to predict a rating, based only on information about *this* user and *this* restaurant.\n",
    "\n",
    "Can we do a better job of predicting the rating $Y_{um}$ user $u$ would give to restaurant $r$? According to the central dogma of CF, we ought to be able to use the responses of *similar* users regarding *similar* restaurants to get a better prediction. \n",
    "\n",
    "We can make an estimate of $Y_{um}$ as:\n",
    "\n",
    "$$ \\hat{Y_{um}} = \\hat Y_{um}^{baseline}\\, + \\,\\frac{\\sum\\limits_{j \\in S^{k}(m)} s_{mj} ( Y_{uj} - \\hat Y_{uj}^{baseline} )}{\\sum\\limits_{j \\in S^{k}(m)} s_{mj} } $$\n",
    "\n",
    "where $s^{k}(m)$ is the $k$ neighbor items of item $m$ based on some pooling criterion, for example, those items which have been rated by user $u$.\n",
    "\n",
    "In the next two problems, we will focus on using similar restaurants, or the item neighborhood.\n",
    "To do this, we compute a *similarity measure* $s_{mj}$ between the $m$th and $j$th items. This similarity might be measured via [cosine similarity](http://en.wikipedia.org/wiki/Cosine_similarity), [pearson co-efficient](http://en.wikipedia.org/wiki/Pearson_product-moment_correlation_coefficient) or using other distance based measures. Here we shall use the Pearson coefficient. This measures the tendency of users to rate items similarly. Since most ratings are unknown, it is computed on the \"common user support\" (`n_common`), which is the set of common raters of both items. \n",
    "\n",
    "In the first problem we shall set $S$ to the global neighborhood of the item, and in the second we shall set it to those items which have been rated by user $u$."
   ]
  },
  {
   "cell_type": "markdown",
   "metadata": {},
   "source": [
    "##Q1. Writing a simple \"global\" recommender"
   ]
  },
  {
   "cell_type": "markdown",
   "metadata": {},
   "source": [
    "Now we have a way to pool information between similar restaurants to try to predict a user's recommendation. But how do we choose the neighborhood to pool over? We begin with the simplest choice. We calculate the similarity between items using their entire common user support, and rank the nearest neighbors of an item by this similarity. We call this a \"global\" recommender because it assumes that every user perceives the similarity between restaurants in the same way. Later on, we will implement a more specific recommender that pools information based on which items seem the most similar *to this user*.\n",
    "\n",
    "The global recommender does have the advantage of dealing with the possible sparsity of the user's rated items, but also the disadvantage of giving one answer for all users, without taking the user's preferences into account. This is a classic case of bias-variance tradeoff.\n",
    "\n",
    "Lets implement this simpler global recommender first.\n"
   ]
  },
  {
   "cell_type": "markdown",
   "metadata": {},
   "source": [
    "### Exploratory Data Analysis"
   ]
  },
  {
   "cell_type": "markdown",
   "metadata": {},
   "source": [
    "**1.1** Visualize the sparsity of the full data set by plotting two histograms of the review count  grouped by the `user_id` and `business_id` respectively. Are there more users or more businesses? "
   ]
  },
  {
   "cell_type": "code",
   "execution_count": 24,
   "metadata": {},
   "outputs": [
    {
     "data": {
      "image/png": "[encoded data removed]",
      "text/plain": [
       "<Figure size 800x480 with 1 Axes>"
      ]
     },
     "metadata": {
      "needs_background": "light"
     },
     "output_type": "display_data"
    }
   ],
   "source": [
    "#your code here\n",
    "review_count_user = fulldf.groupby(\"user_id\")[\"review_id\"].count()\n",
    "plt.hist(review_count_user.values)\n",
    "plt.xlabel(\"review count\")\n",
    "plt.ylabel(\"frequency\")\n",
    "plt.show()  "
   ]
  },
  {
   "cell_type": "code",
   "execution_count": 25,
   "metadata": {},
   "outputs": [
    {
     "data": {
      "image/png": "[encoded data removed]",
      "text/plain": [
       "<Figure size 800x480 with 1 Axes>"
      ]
     },
     "metadata": {
      "needs_background": "light"
     },
     "output_type": "display_data"
    }
   ],
   "source": [
    "#your code here\n",
    "review_count_business = fulldf.groupby(\"business_id\")[\"review_id\"].count()\n",
    "plt.hist(review_count_business.values)\n",
    "plt.xlabel(\"review count\")\n",
    "plt.ylabel(\"frequency\")\n",
    "plt.show()  "
   ]
  },
  {
   "cell_type": "markdown",
   "metadata": {},
   "source": [
    "*your answer here*"
   ]
  },
  {
   "cell_type": "markdown",
   "metadata": {},
   "source": [
    "**1.2** Compute the average rating of reviews in the data set and a histogram of all the ratings in the dataset."
   ]
  },
  {
   "cell_type": "code",
   "execution_count": 38,
   "metadata": {},
   "outputs": [
    {
     "data": {
      "image/png": "[encoded data removed]",
      "text/plain": [
       "<Figure size 800x480 with 1 Axes>"
      ]
     },
     "metadata": {
      "needs_background": "light"
     },
     "output_type": "display_data"
    }
   ],
   "source": [
    "#your code here\n",
    "star = fulldf.groupby(\"stars\")[\"review_id\"].count().reset_index(name='count')\n",
    "\n",
    "star.plot.bar(x='stars',y='count')\n",
    "plt.xticks(rotation = 360)\n",
    "plt.xlabel(\"rating\")\n",
    "plt.ylabel(\"frequency\")\n",
    "plt.show()   "
   ]
  },
  {
   "cell_type": "markdown",
   "metadata": {},
   "source": [
    "The following function is used to re-compute review counts and averages whenever you subset a reviews data frame. We'll use it soon to construct a smaller, more computationally tractable data frame."
   ]
  },
  {
   "cell_type": "code",
   "execution_count": 27,
   "metadata": {},
   "outputs": [],
   "source": [
    "def recompute_frame(ldf):\n",
    "    \"\"\"\n",
    "    takes a dataframe ldf, makes a copy of it, and returns the copy\n",
    "    with all averages and review counts recomputed\n",
    "    this is used when a frame is subsetted.\n",
    "    \"\"\"\n",
    "    ldfu=ldf.groupby('user_id')\n",
    "    ldfb=ldf.groupby('business_id')\n",
    "    user_avg=ldfu.stars.mean()\n",
    "    user_review_count=ldfu.review_id.count()\n",
    "    business_avg=ldfb.stars.mean()\n",
    "    business_review_count=ldfb.review_id.count()\n",
    "    nldf=ldf.copy()\n",
    "    nldf.set_index(['business_id'], inplace=True)\n",
    "    nldf['business_avg']=business_avg\n",
    "    nldf['business_review_count']=business_review_count\n",
    "    nldf.reset_index(inplace=True)\n",
    "    nldf.set_index(['user_id'], inplace=True)\n",
    "    nldf['user_avg']=user_avg\n",
    "    nldf['user_review_count']=user_review_count\n",
    "    nldf.reset_index(inplace=True)\n",
    "    return nldf"
   ]
  },
  {
   "cell_type": "markdown",
   "metadata": {},
   "source": [
    "**1.3** Create a smaller data set in dataframe `smalldf` by looking for those businesses with more than 150 reviews and those users with more than 60 reviews. Include all the columns that were there in the parent dataframe. Since you have created a subset of the data set, use the method provided above to recalculate the averages. Print the number of unique users and items in this data set.  \n",
    "\n",
    "Note that while this cut makes sure we have prolific users, the cut on businesses restores sparsity  by reducing the number of reviews per user."
   ]
  },
  {
   "cell_type": "code",
   "execution_count": 28,
   "metadata": {},
   "outputs": [],
   "source": [
    "#your code here\n",
    "smalldf=fulldf[(fulldf[\"user_review_count\"]>60) & (fulldf[\"business_review_count\"]>150)]\n",
    "smalldf=recompute_frame(smalldf)"
   ]
  },
  {
   "cell_type": "markdown",
   "metadata": {},
   "source": [
    "How does this compare to the parent data set, in terms of size and sparsity? Once again, plot histograms of the review count grouped by user, and by the review count grouped by business, respectively, and describe the results"
   ]
  },
  {
   "cell_type": "code",
   "execution_count": 29,
   "metadata": {},
   "outputs": [
    {
     "data": {
      "image/png": "[encoded data removed]",
      "text/plain": [
       "<Figure size 800x480 with 1 Axes>"
      ]
     },
     "metadata": {
      "needs_background": "light"
     },
     "output_type": "display_data"
    }
   ],
   "source": [
    "#your code here\n",
    "review_count_business=smalldf.groupby(\"business_id\")[\"review_id\"].count()\n",
    "plt.hist(review_count_business.values)\n",
    "plt.xlabel(\"review count\")\n",
    "plt.ylabel(\"frequency\")\n",
    "plt.show()  "
   ]
  },
  {
   "cell_type": "code",
   "execution_count": 30,
   "metadata": {},
   "outputs": [
    {
     "data": {
      "image/png": "[encoded data removed]",
      "text/plain": [
       "<Figure size 800x480 with 1 Axes>"
      ]
     },
     "metadata": {
      "needs_background": "light"
     },
     "output_type": "display_data"
    }
   ],
   "source": [
    "review_count_user = smalldf.groupby(\"user_id\")[\"review_id\"].count()\n",
    "plt.hist(review_count_user.values)\n",
    "plt.xlabel(\"review count\")\n",
    "plt.ylabel(\"frequency\")\n",
    "\n",
    "plt.show()  "
   ]
  },
  {
   "cell_type": "markdown",
   "metadata": {},
   "source": [
    "*your answer here*"
   ]
  },
  {
   "cell_type": "markdown",
   "metadata": {},
   "source": [
    "**1.4** Compute histograms of the average user rating in the smaller data set, and the average business rating in the smaller data set. Print the overall mean."
   ]
  },
  {
   "cell_type": "code",
   "execution_count": 39,
   "metadata": {},
   "outputs": [
    {
     "data": {
      "image/png": "[encoded data removed]",
      "text/plain": [
       "<Figure size 800x480 with 1 Axes>"
      ]
     },
     "metadata": {
      "needs_background": "light"
     },
     "output_type": "display_data"
    }
   ],
   "source": [
    "#your code here\n",
    "rating_business=smalldf.groupby(\"business_id\")[\"stars\"].mean()\n",
    "plt.xlabel(\"business rating\")\n",
    "plt.ylabel(\"frequency\")\n",
    "plt.hist(rating_business.values)\n",
    "plt.show()"
   ]
  },
  {
   "cell_type": "code",
   "execution_count": 40,
   "metadata": {},
   "outputs": [
    {
     "data": {
      "image/png": "[encoded data removed]",
      "text/plain": [
       "<Figure size 800x480 with 1 Axes>"
      ]
     },
     "metadata": {
      "needs_background": "light"
     },
     "output_type": "display_data"
    }
   ],
   "source": [
    "rating_user=smalldf.groupby(\"user_id\")[\"stars\"].mean()\n",
    "plt.xlabel(\"user rating\")\n",
    "plt.ylabel(\"frequency\")\n",
    "plt.hist(rating_user.values)\n",
    "plt.show()"
   ]
  },
  {
   "cell_type": "markdown",
   "metadata": {},
   "source": [
    "###Common Support\n",
    "\n",
    "Lets now make a histogram of the common user support (the number of common reviewers) of each pair of restaurants on the smaller set, and print the mean. Pay attention to the code, as you will use parts of it later. (This code takes a bit of time to run, so be patient).\n",
    "\n",
    "The common support is an important concept, as for each pair of restaurants, its the number of people who reviewed both. It will be used to modify similarity between restaurants. If the common support is low, the similarity is less believable."
   ]
  },
  {
   "cell_type": "code",
   "execution_count": 42,
   "metadata": {},
   "outputs": [
    {
     "name": "stdout",
     "output_type": "stream",
     "text": [
      "Mean support is: 6.847\n"
     ]
    },
    {
     "data": {
      "image/png": "[encoded data removed]",
      "text/plain": [
       "<Figure size 800x480 with 1 Axes>"
      ]
     },
     "metadata": {
      "needs_background": "light"
     },
     "output_type": "display_data"
    }
   ],
   "source": [
    "restaurants=smalldf.business_id.unique()\n",
    "supports=[]\n",
    "for i,rest1 in enumerate(restaurants):\n",
    "    for j,rest2 in enumerate(restaurants):\n",
    "        if  i < j:\n",
    "            rest1_reviewers = smalldf[smalldf.business_id==rest1].user_id.unique()\n",
    "            rest2_reviewers = smalldf[smalldf.business_id==rest2].user_id.unique()\n",
    "            common_reviewers = set(rest1_reviewers).intersection(rest2_reviewers)\n",
    "            supports.append(len(common_reviewers))\n",
    "print (\"Mean support is:\",round(np.mean(supports),3))\n",
    "plt.hist(supports)\n",
    "plt.show()"
   ]
  },
  {
   "cell_type": "markdown",
   "metadata": {},
   "source": [
    "As you can see, even though we chose a subset of the dataframe in which every restaurant had 150 reviews and every user had atleast made 60, the common support of most pairs of restaurants is really low, indeed less than 10!."
   ]
  },
  {
   "cell_type": "markdown",
   "metadata": {},
   "source": [
    "### Calculating Similarity"
   ]
  },
  {
   "cell_type": "markdown",
   "metadata": {},
   "source": [
    "Users rate restaurants on a scale of 1-5. Even though this rating is integer valued, for the purposes of this assignment we shall treat it as a real number.\n",
    "\n",
    "Even though each reviewer uses the same 5-star scale when rating restaurants, comparing two users by comparing their raw user ratings can be problematic. Consider a user whose average rating is 2. This is a curmudgeonly user. Consider another whose average rating is 4. This is a rather enthusiastic one. How should we compare a 3 rating by the curmudgeonly one to a 5 rating of the enthusiastic one?\n",
    "\n",
    "It is for this purpose that we must subtract the average rating of the user from the actual rating of the restaurants in computing the similarity of two restaurants. This makes the above ratings by the two users comparable. We do this in the function `pearson_sim` defined below.\n",
    "\n",
    "If there is no common support (`n_common=0`), we have no basis for making a similarity estimate, and so we set the similarity to 0. In the case that the individual restaurant rating variance is 0, such as in the case where there is only one common reviewer (`n_common=1`), we return the `NaN` that the scipy `pearsonr` returns. We will deal with it soon,"
   ]
  },
  {
   "cell_type": "code",
   "execution_count": 52,
   "metadata": {},
   "outputs": [],
   "source": [
    "from scipy.stats.stats import pearsonr\n",
    "def pearson_sim(rest1_reviews, rest2_reviews, n_common):\n",
    "    \"\"\"\n",
    "    Given a subframe of restaurant 1 reviews and a subframe of restaurant 2 reviews,\n",
    "    where the reviewers are those who have reviewed both restaurants, return \n",
    "    the pearson correlation coefficient between the user average subtracted ratings.\n",
    "    The case for zero common reviewers is handled separately. Its\n",
    "    ok to return a NaN if any of the individual variances are 0.\n",
    "    \"\"\"\n",
    "    if n_common<=1:\n",
    "        rho=0.\n",
    "    else:\n",
    "        diff1=rest1_reviews['stars']-rest1_reviews['user_avg']\n",
    "        diff2=rest2_reviews['stars']-rest2_reviews['user_avg']\n",
    "        rho=pearsonr(diff1, diff2)[0]\n",
    "    return rho"
   ]
  },
  {
   "cell_type": "markdown",
   "metadata": {},
   "source": [
    "The function `get_restaurant_reviews` defined below takes a restaurant `business_id` and a set of users, and returns the reviews of that restaurant by those users. You will use this function in calculating a similarity function, in **1.5**."
   ]
  },
  {
   "cell_type": "code",
   "execution_count": 53,
   "metadata": {},
   "outputs": [],
   "source": [
    "def get_restaurant_reviews(restaurant_id, df, set_of_users):\n",
    "    \"\"\"\n",
    "    given a resturant id and a set of reviewers, return the sub-dataframe of their\n",
    "    reviews.\n",
    "    \"\"\"\n",
    "    mask = (df.user_id.isin(set_of_users)) & (df.business_id==restaurant_id)\n",
    "    reviews = df[mask]\n",
    "    reviews = reviews[reviews.user_id.duplicated()==False]\n",
    "    return reviews"
   ]
  },
  {
   "cell_type": "markdown",
   "metadata": {},
   "source": [
    "**1.5** Write a function `calculate_similarity` that operates between two restaurants and calculates a similarity for them, taking a dataframe and a similarity function `similarity_func`. An example of the `similarity_func` is the `pearson_sim` we defined above. `calculate_similarity` operates as follows: \n",
    "\n",
    "1. For each of the two restaurants, get the set of reviewers who have reviewed the restaurant and compute the intersection of these two sets. Also compute the number of common reviewers `n_common`.\n",
    "\n",
    "2. Use the function `get_restaurant_reviews` defined below to get the reviews for each restaurant as made by these common reviewers. Notice that `get_restaurant_reviews` returns a sub data frame of reviews.\n",
    "\n",
    "3. Calculate the similarity using `similarity_func` which takes the two reviews dataframes from part 2 and the number of common reviewers `n_common` as arguments\n",
    "\n",
    "4. Return the similarity and `n_common` in a tuple `(sim, n_common)`. If the similarity is a `NaN`, set the similarity to 0.\n"
   ]
  },
  {
   "cell_type": "code",
   "execution_count": 54,
   "metadata": {},
   "outputs": [],
   "source": [
    "\"\"\"\n",
    "Function\n",
    "--------\n",
    "calculate_similarity\n",
    "\n",
    "Parameters\n",
    "----------\n",
    "rest1 : string\n",
    "    The id of restaurant 1\n",
    "rest2 : string\n",
    "    The id of restaurant 2\n",
    "df : DataFrame\n",
    "  A dataframe of reviews, such as the smalldf above\n",
    "similarity_func : func\n",
    "  A function like pearson_sim above which takes two dataframes of individual\n",
    "  restaurant reviews made by a common set of reviewers, and the number of\n",
    "  common reviews. This function returns the similarity of the two restaurants\n",
    "  based on the common reviews.\n",
    "  \n",
    "Returns\n",
    "--------\n",
    "A tuple\n",
    "  The first element of the tuple is the similarity and the second the\n",
    "  common support n_common. If the similarity is a NaN, set it to 0\n",
    "\"\"\"\n",
    "#your code here\n",
    "def calculate_similarity(rest1,rest2,df,similarity_func):\n",
    "    a1 = df[df.business_id==rest1].user_id.unique()\n",
    "    a2 = df[df.business_id==rest2].user_id.unique()\n",
    "    common_user = set(a1).intersection(a2) \n",
    "    n_common =len(common_user)\n",
    "\n",
    "    d1= get_restaurant_reviews(rest1, df, common_user)\n",
    "    d2= get_restaurant_reviews(rest2, df, common_user)\n",
    "\n",
    "    sim =similarity_func(d1,d2, n_common)\n",
    "\n",
    "\n",
    "    if sim==np.nan:\n",
    "        return (0,n_common)\n",
    "    else:\n",
    "        return (sim,n_common)"
   ]
  },
  {
   "cell_type": "markdown",
   "metadata": {},
   "source": [
    "### Making a database of similarities\n",
    "\n",
    "We now move to calculating a global database of pairwise restaurant similarities.\n",
    "We provide you here with a function to make a database of the similarities for each pair of restaurants in the database. The class `Database` is initialized in its constructor by taking as arguments a dataframe of reviews. The method `populate_by calculating` iterates over every possible pair of business_id's in the dataframe and populates the database with similarities and common supports. It takes as arguments a function the similarity function `similarity_func` like `pearson_sim` (`calculate_similarity` then uses this to calculate the similarity). The `get` method on the database can be used to retrieve the similarity for two business ids."
   ]
  },
  {
   "cell_type": "markdown",
   "metadata": {},
   "source": [
    "(See Thu Oct 17th's class video for information about classes)"
   ]
  },
  {
   "cell_type": "code",
   "execution_count": 55,
   "metadata": {},
   "outputs": [],
   "source": [
    "class Database:\n",
    "    \"A class representing a database of similaries and common supports\"\n",
    "    \n",
    "    def __init__(self, df):\n",
    "        \"the constructor, takes a reviews dataframe like smalldf as its argument\"\n",
    "        database={}\n",
    "        self.df=df\n",
    "        self.uniquebizids={v:k for (k,v) in enumerate(df.business_id.unique())}\n",
    "        keys=self.uniquebizids.keys()\n",
    "        l_keys=len(keys)\n",
    "        self.database_sim=np.zeros([l_keys,l_keys])\n",
    "        self.database_sup=np.zeros([l_keys, l_keys], dtype=np.int)\n",
    "        \n",
    "    def populate_by_calculating(self, similarity_func):\n",
    "        \"\"\"\n",
    "        a populator for every pair of businesses in df. takes similarity_func like\n",
    "        pearson_sim as argument\n",
    "        \"\"\"\n",
    "        items=self.uniquebizids.items()\n",
    "        for b1, i1 in items:\n",
    "            for b2, i2 in items:\n",
    "                if i1 < i2:\n",
    "                    sim, nsup=calculate_similarity(b1, b2, self.df, similarity_func)\n",
    "                    self.database_sim[i1][i2]=sim\n",
    "                    self.database_sim[i2][i1]=sim\n",
    "                    self.database_sup[i1][i2]=nsup\n",
    "                    self.database_sup[i2][i1]=nsup\n",
    "                elif i1==i2:\n",
    "                    nsup=self.df[self.df.business_id==b1].user_id.count()\n",
    "                    self.database_sim[i1][i1]=1.\n",
    "                    self.database_sup[i1][i1]=nsup\n",
    "                    \n",
    "\n",
    "    def get(self, b1, b2):\n",
    "        \"returns a tuple of similarity,common_support given two business ids\"\n",
    "        sim=self.database_sim[self.uniquebizids[b1]][self.uniquebizids[b2]]\n",
    "        nsup=self.database_sup[self.uniquebizids[b1]][self.uniquebizids[b2]]\n",
    "        return (sim, nsup)"
   ]
  },
  {
   "cell_type": "markdown",
   "metadata": {},
   "source": [
    "Lets run `make_database` and store the result in the global variable `db`. Lets print out an example entry. Running this function will take a bit of time."
   ]
  },
  {
   "cell_type": "code",
   "execution_count": 57,
   "metadata": {},
   "outputs": [],
   "source": [
    "import warnings \n",
    "warnings.filterwarnings('ignore')\n",
    "db=Database(smalldf)\n",
    "db.populate_by_calculating(pearson_sim)"
   ]
  },
  {
   "cell_type": "code",
   "execution_count": 58,
   "metadata": {},
   "outputs": [
    {
     "data": {
      "text/plain": [
       "(0.3990455452573455, 7)"
      ]
     },
     "execution_count": 58,
     "metadata": {},
     "output_type": "execute_result"
    }
   ],
   "source": [
    "db.get(\"z3yFuLVrmH-3RJruPEMYKw\", \"zruUQvFySeXyEd7_rQixBg\")"
   ]
  },
  {
   "cell_type": "markdown",
   "metadata": {},
   "source": [
    "### K-Nearest restaurants (in similarity)"
   ]
  },
  {
   "cell_type": "markdown",
   "metadata": {},
   "source": [
    "We are now going to find the k-nearest restaurants to a given restaurant based on the database of similarities that we calculated. But we have a problem.\n",
    "\n",
    "Consider the two cases where there is just one common reviewer, and where there are 40. In the former case, we might get a artificially high similarity based on the tastes of just this user, and thus we must reduce its importance in the nearest-neighbor calculation. In the latter case, we would get a much more unbiased estimator of the similarity of the two restaurants.\n",
    "\n",
    "To control the effect of small common supports, we can **shrink** our pearson co-efficients. We shall do this by using the \"regularization\" parameter `reg`:\n",
    "\n",
    "$$s_{mj} = \\frac{N_{common}\\, \\rho_{mj}}{N_{common}+reg} $$\n",
    "\n",
    "where $N_{common}$ (`n_common`) is the common reviewer support and $\\rho_{ij}$ is the pearson co-relation coefficient.\n",
    "\n",
    "Recall the notions of regularization introduced in class. We want to reduce the variance in our estimates, so we pull our estimates in toward a conservative point in a way that strongly corrals in estimates when there is very little data, but allows the data to speak when there is a lot. This can be shown as equivalent to adding in a `reg` amount of bayesian prior, as Joe has alluded to in class. \n",
    "\n",
    "A good value of the regularizer is intuitively one that doesn't affect the similarity when the common support is high ~10, but has a large effect when the support is small. In this case, values of 2-4 are good. Usually, the value of `reg` is determined using cross-validation, but for the sake of simplicity we will generally set it to 3.\n",
    "\n",
    "We define a function `shrunk_sim` which takes the `sim` and `n_common` obtained from the database, and shrinks the similarity down using the regularizer `reg`."
   ]
  },
  {
   "cell_type": "code",
   "execution_count": 59,
   "metadata": {},
   "outputs": [],
   "source": [
    "def shrunk_sim(sim, n_common, reg=3.):\n",
    "    \"takes a similarity and shrinks it down by using the regularizer\"\n",
    "    ssim=(n_common*sim)/(n_common+reg)\n",
    "    return ssim"
   ]
  },
  {
   "cell_type": "markdown",
   "metadata": {},
   "source": [
    "**1.6** Now we can move to writing a `knearest` function, which finds the `k` nearest neighbors of a given restaurant based on the shrunk similarities we calculate. Note that as defined here, the nearest neighbors are global over the entire set of restaurants, as opposed to being restricted to the restaurants a user has reviewed(we shall do that in the next problem). Thus, this is an expensive function!\n",
    "\n",
    "Write a `knearest` that returns a *k-length sorted list* of 3-tuples each corresponding to a restaurant. The tuple structure is `(business_id, shrunken similarity score, common support)` where the similarity score and common support are with respect to the restaurant whose neighbors we are finding, and the `business_id` is the id of the \"nearby\" restaurant found. The nearby restaurants are found from a supplied numpy array of restaurants `set_of_restaurants`. The spec for the function is given below. HINT: use `itemgetter` from the `operator` module to do the sorting."
   ]
  },
  {
   "cell_type": "code",
   "execution_count": 61,
   "metadata": {},
   "outputs": [],
   "source": [
    "\"\"\"\n",
    "Function\n",
    "--------\n",
    "knearest\n",
    "\n",
    "Parameters\n",
    "----------\n",
    "restaurant_id : string\n",
    "    The id of the restaurant whose nearest neighbors we want\n",
    "set_of_restaurants : array\n",
    "    The set of restaurants from which we want to find the nearest neighbors\n",
    "dbase : instance of Database class.\n",
    "    A database of similarities, on which the get method can be used to get the similarity\n",
    "  of two businessed. e.g. dbase.get(rid1,rid2)\n",
    "k : int\n",
    "    the number of nearest neighbors desired, default 7\n",
    "reg: float\n",
    "    the regularization.\n",
    "    \n",
    "  \n",
    "Returns\n",
    "--------\n",
    "A sorted list\n",
    "    of the top k similar restaurants. The list is a list of tuples\n",
    "    (business_id, shrunken similarity, common support).\n",
    "\"\"\"\n",
    "#your code here\n",
    "def knearest(restaurant_id,set_of_restaurants,dbase,reg=3.,k=7):\n",
    "    sorting=[]\n",
    "    for res in list(set_of_restaurants):\n",
    "        if restaurant_id!=res:\n",
    "            sim,n_common= dbase.get(restaurant_id,res)\n",
    "            sim= shrunk_sim(sim, n_common, reg)\n",
    "            sorting.append((res,sim,n_common))\n",
    "    sorted_by_second = sorted(sorting, key=lambda tup: -tup[1])\n",
    "    return sorted_by_second[0:k]"
   ]
  },
  {
   "cell_type": "markdown",
   "metadata": {},
   "source": [
    "### Ok it's time to recommend!\n",
    "\n",
    "Lets choose the two very different businesses in the dataframe"
   ]
  },
  {
   "cell_type": "code",
   "execution_count": 62,
   "metadata": {},
   "outputs": [],
   "source": [
    "testbizid=\"eIxSLxzIlfExI6vgAbn2JA\"\n",
    "testbizid2=\"L-uPZxooP_ziXCtRrWi8Pw\""
   ]
  },
  {
   "cell_type": "markdown",
   "metadata": {},
   "source": [
    "We provide functions to look up a business name given a business id, and a username given a user id."
   ]
  },
  {
   "cell_type": "code",
   "execution_count": 63,
   "metadata": {},
   "outputs": [],
   "source": [
    "def biznamefromid(df, theid):\n",
    "    return df['biz_name'][df['business_id']==theid].values[0]\n",
    "def usernamefromid(df, theid):\n",
    "    return df['user_name'][df['user_id']==theid].values[0]"
   ]
  },
  {
   "cell_type": "code",
   "execution_count": 64,
   "metadata": {},
   "outputs": [
    {
     "name": "stdout",
     "output_type": "stream",
     "text": [
      "eIxSLxzIlfExI6vgAbn2JA Lobbys Beef Burgers Dogs\n",
      "L-uPZxooP_ziXCtRrWi8Pw Café Monarch\n"
     ]
    }
   ],
   "source": [
    "print (testbizid, biznamefromid(smalldf,testbizid))\n",
    "print (testbizid2, biznamefromid(smalldf, testbizid2))"
   ]
  },
  {
   "cell_type": "markdown",
   "metadata": {},
   "source": [
    "####Get top matches\n",
    "\n",
    "Its now time to answer the question: \"if you liked this, you might also like these\". We use our `testbizid` and `testbizid2` to compute the `k=7` nearest neighbors with a regularization of `3.` . We print these top 7 matches names, along with their similarity coefficient and common support."
   ]
  },
  {
   "cell_type": "code",
   "execution_count": 67,
   "metadata": {},
   "outputs": [
    {
     "name": "stdout",
     "output_type": "stream",
     "text": [
      "For  Lobbys Beef Burgers Dogs , top matches are:\n",
      "0 La Condesa Gourmet Taco Shop | Sim 0.599 | Support 6\n",
      "1 Citizen Public House | Sim 0.571 | Support 4\n",
      "2 FnB | Sim 0.527 | Support 5\n",
      "3 Defalco's Italian Grocery | Sim 0.519 | Support 6\n",
      "4 Republic Ramen + Noodles | Sim 0.519 | Support 5\n",
      "5 unPhogettable | Sim 0.5 | Support 3\n",
      "6 Haus Murphy's | Sim 0.468 | Support 3\n"
     ]
    }
   ],
   "source": [
    "tops=knearest(testbizid, smalldf.business_id.unique(), db, k=7, reg=3.)\n",
    "print (\"For \",biznamefromid(smalldf, testbizid), \", top matches are:\")\n",
    "for i, (biz_id, sim, nc) in enumerate(tops):\n",
    "    print (i,biznamefromid(smalldf,biz_id), \"| Sim\", round(sim,3), \"| Support\",nc)"
   ]
  },
  {
   "cell_type": "code",
   "execution_count": 68,
   "metadata": {},
   "outputs": [
    {
     "name": "stdout",
     "output_type": "stream",
     "text": [
      "For  Café Monarch , top matches are:\n",
      "0 Postino Arcadia | Sim 0.625 | Support 5\n",
      "1 The Main Ingredient Ale House And Café | Sim 0.571 | Support 4\n",
      "2 Brio Tuscan Grille | Sim 0.571 | Support 4\n",
      "3 The Fry Bread House | Sim 0.5 | Support 3\n",
      "4 Cien Agaves Tacos & Tequila | Sim 0.5 | Support 3\n",
      "5 Kazimierz World Wine Bar | Sim 0.5 | Support 3\n",
      "6 Harlow's Cafe | Sim 0.5 | Support 3\n"
     ]
    }
   ],
   "source": [
    "tops2=knearest(testbizid2, smalldf.business_id.unique(), db, k=7, reg=3.)\n",
    "print (\"For \",biznamefromid(smalldf, testbizid2), \", top matches are:\")\n",
    "for i, (biz_id, sim, nc) in enumerate(tops2):\n",
    "    print (i,biznamefromid(smalldf,biz_id), \"| Sim\", round(sim,3), \"| Support\",nc)"
   ]
  },
  {
   "cell_type": "markdown",
   "metadata": {},
   "source": [
    "We can see that these two restaurants are in somewhat different orbits :-)."
   ]
  },
  {
   "cell_type": "markdown",
   "metadata": {},
   "source": [
    "Lets now turn our attention to another question: what are the top recommendations for a user? To answer this we must find the user's top rated restaurants, find the nearest neighbors of these restaurants, merge these lists while removing the duplicates and the ones that the user has already rated, and sort by the restaurant's average rating. We provide the code to get the user's top choices in a subset data frame."
   ]
  },
  {
   "cell_type": "code",
   "execution_count": 71,
   "metadata": {},
   "outputs": [
    {
     "name": "stdout",
     "output_type": "stream",
     "text": [
      "For user Vern top choices are:\n"
     ]
    },
    {
     "data": {
      "text/plain": [
       "['Tee Pee Mexican Food',\n",
       " 'Local Breeze',\n",
       " \"Carly's Bistro\",\n",
       " 'District American Kitchen and Wine Bar',\n",
       " 'Sonora Mesquite Grill']"
      ]
     },
     "execution_count": 71,
     "metadata": {},
     "output_type": "execute_result"
    }
   ],
   "source": [
    "def get_user_top_choices(user_id, df, numchoices=5):\n",
    "    \"get the sorted top 5 restaurants for a user by the star rating the user gave them\"\n",
    "    udf=df[df.user_id==user_id][['business_id','stars']].sort_values('stars', ascending=False).head(numchoices)\n",
    "    return udf\n",
    "testuserid=\"7cR92zkDv4W3kqzii6axvg\"\n",
    "print (\"For user\", usernamefromid(smalldf,testuserid), \"top choices are:\" )\n",
    "bizs=get_user_top_choices(testuserid, smalldf)['business_id'].values\n",
    "[biznamefromid(smalldf, biz_id) for biz_id in bizs]"
   ]
  },
  {
   "cell_type": "markdown",
   "metadata": {},
   "source": [
    "#### Get top recommendations for user."
   ]
  },
  {
   "cell_type": "markdown",
   "metadata": {},
   "source": [
    "**1.7** Its your job now to write a function `get_top_recos_for_user` which takes as arguments a `userid`, the `n` top choices for the user, the dataframe, `k`, and a regularizer, and returns the top recommendations obtained from combining the restaurants that are neighbors of each of the `n` choices, in the way described in the previous paragraph. This returned list is a list of tuples `(restaurant_id, business_avg)` sorted by `business_avg` where `business_avg` is the average rating of the restaurant over the dataframe."
   ]
  },
  {
   "cell_type": "code",
   "execution_count": 72,
   "metadata": {},
   "outputs": [],
   "source": [
    "\"\"\"\n",
    "Function\n",
    "--------\n",
    "get_top_recos_for_user\n",
    "\n",
    "Parameters\n",
    "----------\n",
    "userid : string\n",
    "    The id of the user for whom we want the top recommendations\n",
    "df : Dataframe\n",
    "    The dataframe of restaurant reviews such as smalldf\n",
    "dbase : instance of Database class.\n",
    "    A database of similarities, on which the get method can be used to get the similarity\n",
    "  of two businesses. e.g. dbase.get(rid1,rid2)\n",
    "n: int\n",
    "    the n top choices of the user by star rating\n",
    "k : int\n",
    "    the number of nearest neighbors desired, default 8\n",
    "reg: float\n",
    "    the regularization.\n",
    "    \n",
    "  \n",
    "Returns\n",
    "--------\n",
    "A sorted list\n",
    "    of the top recommendations. The list is a list of tuples\n",
    "    (business_id, business_avg). You are combining the k-nearest recommendations \n",
    "    for each of the user's n top choices, removing duplicates and the ones the user\n",
    "    has already rated.\n",
    "\"\"\"\n",
    "#your code here\n",
    "def get_top_recos_for_user(userid,df,dbase,n,k,reg):\n",
    "    res = get_user_top_choices(userid, df, numchoices=n)['business_id'].values\n",
    "    set_of_restaurants = df.business_id.unique()\n",
    "    rated = df[df.user_id==userid].business_id.unique()\n",
    "    unrated=[x for x in set_of_restaurants if x not in rated]\n",
    "    output =[]\n",
    "    for i in res:\n",
    "        ans= knearest(i,unrated,dbase,reg,k)\n",
    "        output.extend(ans)\n",
    "    output =[(x[0],df[df.business_id==x[0]].business_avg.iloc[0]) for x in output]\n",
    "    return sorted(output , key=lambda tup: -tup[1])[:n]"
   ]
  },
  {
   "cell_type": "markdown",
   "metadata": {},
   "source": [
    "Lets print the top recommendations for `testuserid`, with a regularization of 3."
   ]
  },
  {
   "cell_type": "code",
   "execution_count": 74,
   "metadata": {},
   "outputs": [
    {
     "name": "stdout",
     "output_type": "stream",
     "text": [
      "For user Vern the top recommendations are:\n",
      "Rokerij | Average Rating | 4.379\n",
      "Wildfish Seafood Grille | Average Rating | 4.294\n",
      "Defalco's Italian Grocery | Average Rating | 4.233\n",
      "Cornish Pasty Company | Average Rating | 4.207\n",
      "Pappadeaux Seafood Kitchen | Average Rating | 4.185\n"
     ]
    }
   ],
   "source": [
    "print (\"For user\", usernamefromid(smalldf,testuserid), \"the top recommendations are:\")\n",
    "toprecos=get_top_recos_for_user(testuserid, smalldf, db, n=5, k=7, reg=3.)\n",
    "for biz_id, biz_avg in toprecos:\n",
    "    print (biznamefromid(smalldf,biz_id), \"| Average Rating |\", round(biz_avg,3))"
   ]
  },
  {
   "cell_type": "markdown",
   "metadata": {},
   "source": [
    "## Problem 2: A user based recommender with predicted ratings"
   ]
  },
  {
   "cell_type": "markdown",
   "metadata": {},
   "source": [
    "This is all very nice. We can provide ratings based on global similarities to a restaurant. However, in many cases this is not enough.\n",
    "\n",
    "For example, it is hard to judge if the above recommendations are any good. In the usual testing paradigm, say that we break the dataframe into train and test. Based on the training set, I am recommended restaurant B. Now, I have rated B, but that information is in the testing set. I have no way of comparing the rating I give B in the testing set, to the similarity computed from the training set that was used to make the recomendation. The best I could do is to compare the average rating of restaurant B in the training set to my rating of restaurant B in the test set. \n",
    "\n",
    "In this section, we shift our focus to more fine-grained predictions about each user, and try to predict what _rating_ a user would give to a restaurant they have never tried before. To do this, we will try to personalize the information we use even further, and only pool information from restaurants that the user has rated.\n",
    "\n",
    "This allows us to return to the original problem of prediction $Y_{um}$ for a restaurant $m$ that user $u$ has never rated before. Using our newly computed similarity metrics, we can modify our original baseline estimate by pulling in information from the user's neighborhood of the restaurant $m$, and predict $Y_{um}$ as:\n",
    "\n",
    "$$ \\hat{Y_{um}} = \\hat Y^{baseline}_{um}\\, + \\,\\frac{\\sum\\limits_{j \\in S^{k}(m;u)} s_{mj} ( Y_{uj} - \\hat Y^{baseline}_{uj} )}{\\sum\\limits_{j \\in S^{k}(m;u)} s_{mj} } $$\n",
    "\n",
    "where $s^{k}(m;u)$ is the $k$ neighbor items of item $m$ which have been rated by user $u$.\n",
    "\n",
    "Now, this is not a particularly good assumption, especially in the situation where a restaurant is new (new item problem) or a user is new (cold start problem), or in the case when there are very few reviewers of a restaurant, or very few reviews by a user respectively. However, one must start somewhere!\n",
    "\n",
    "Notice that in adding in the similarity term, we subtract the baseline estimate from the observed rating of the user's neighbor items."
   ]
  },
  {
   "cell_type": "markdown",
   "metadata": {},
   "source": [
    "###Defining the predicted rating"
   ]
  },
  {
   "cell_type": "markdown",
   "metadata": {},
   "source": [
    "**2.1** Write a function `knearest_amongst_userrated`, analogous to the `knearest` function we defined above, to find the nearest `k` neighbors to a given restaurant from the **restaurants that the user has already rated**. This function will take as arguments the `restaurant_id`, the `user_id`, the dataframe of reviews, the database, the `k`, and the regularizer `reg`. Just like before, return a *k-length sorted list* of 3-tuples each corresponding to a restaurant.  HINT: use the `knearest` function you defined earlier"
   ]
  },
  {
   "cell_type": "code",
   "execution_count": 75,
   "metadata": {},
   "outputs": [],
   "source": [
    "\"\"\"\n",
    "Function\n",
    "--------\n",
    "knearest_amongst_userrated\n",
    "\n",
    "Parameters\n",
    "----------\n",
    "restaurant_id : string\n",
    "    The id of the restaurant whose nearest neighbors we want\n",
    "user_id : string\n",
    "    The id of the user, in whose reviewed restaurants we want to find the neighbors\n",
    "df: Dataframe\n",
    "    The dataframe of reviews such as smalldf\n",
    "dbase : instance of Database class.\n",
    "    A database of similarities, on which the get method can be used to get the similarity\n",
    "  of two businessed. e.g. dbase.get(rid1,rid2)\n",
    "k : int\n",
    "    the number of nearest neighbors desired, default 7\n",
    "reg: float\n",
    "    the regularization.\n",
    "    \n",
    "  \n",
    "Returns\n",
    "--------\n",
    "A sorted list\n",
    "    of the top k similar restaurants. The list is a list of tuples\n",
    "    (business_id, shrunken similarity, common support).\n",
    "\"\"\"\n",
    "#your code here\n",
    "def knearest_amongst_userrated(restaurant_id,user_id,df,dbase,k,reg):\n",
    "   \n",
    "    rated = df[df.user_id==user_id].business_id.unique()\n",
    "   \n",
    "    return knearest(restaurant_id,rated,dbase,reg,k)"
   ]
  },
  {
   "cell_type": "markdown",
   "metadata": {},
   "source": [
    "**2.2** Now write a function that returns the predicted rating for a user and an item using the formula at the beginning of this problem. Include code to deal with the possibility that the sum of scores that goes in the denominator is 0: return a predicted rating of the baseline portion of the formula in that case. This function `rating` takes as arguments the dataframe, the database, the wanted `restaurant_id` and `user_id`, and `k` as well as the regularizer."
   ]
  },
  {
   "cell_type": "code",
   "execution_count": 78,
   "metadata": {},
   "outputs": [],
   "source": [
    "\"\"\"\n",
    "Function\n",
    "--------\n",
    "rating\n",
    "\n",
    "Parameters\n",
    "----------\n",
    "df: Dataframe\n",
    "    The dataframe of reviews such as smalldf\n",
    "dbase : instance of Database class.\n",
    "    A database of similarities, on which the get method can be used to get the similarity\n",
    "  of two businessed. e.g. dbase.get(rid1,rid2)\n",
    "restaurant_id : string\n",
    "    The id of the restaurant whose nearest neighbors we want\n",
    "user_id : string\n",
    "    The id of the user, in whose reviewed restaurants we want to find the neighbors\n",
    "k : int\n",
    "    the number of nearest neighbors desired, default 7\n",
    "reg: float\n",
    "    the regularization.\n",
    "    \n",
    "  \n",
    "Returns\n",
    "--------\n",
    "A float\n",
    "    which is the impued rating that we predict that user_id will make for restaurant_id\n",
    "\"\"\"\n",
    "#your code here\n",
    "def rating(df,dbase,restaurant_id,user_id,k,reg):\n",
    "    \n",
    "    nearest_rest=knearest_amongst_userrated(restaurant_id,user_id,df,dbase,k,reg)\n",
    "    user_reviews=df[df.user_id==user_id]\n",
    "    total_avg=np.mean(df.stars)\n",
    "    user_avg=np.mean(user_reviews['stars'])\n",
    "    rest_avg=df[df.business_id==restaurant_id]['business_avg'].values[0]\n",
    "    baseline=total_avg + (user_avg-total_avg) + (rest_avg-total_avg)\n",
    "\n",
    "    scores=[]\n",
    "    scoresum=0\n",
    "    nsum=0\n",
    "    for r,sim,nc in nearest_rest:\n",
    "        scoresum=scoresum+sim\n",
    "        user_rating=user_reviews[user_reviews.business_id==r]['stars'].values[0]\n",
    "        rest_r_avg=user_reviews[user_reviews.business_id==r]['business_avg'].values[0]\n",
    "        baseline_r= total_avg + (user_avg - total_avg) + (rest_avg-total_avg)\n",
    "        nsum= nsum + sim*(user_rating - baseline_r)\n",
    "    \n",
    "    if scoresum>0:\n",
    "        val = nsum/scoresum + baseline\n",
    "    else:\n",
    "        val = baseline\n",
    "    \n",
    "    return round(val,3)"
   ]
  },
  {
   "cell_type": "markdown",
   "metadata": {},
   "source": [
    "For the top-recommendations in the variable `toprecos` from the previous section, we compute the predicted rating and compare it with the average rating over all users available inside the tuples that make up `toprecos`. We use a `k` of 7 and regularization 3. For comparision we also print this users' average rating. Do you notice anything interesting about how the order has changed from when we did this with the global similarities? (for you to think, not to answer)"
   ]
  },
  {
   "cell_type": "code",
   "execution_count": 79,
   "metadata": {},
   "outputs": [
    {
     "name": "stdout",
     "output_type": "stream",
     "text": [
      "User Average 3.5652173913043477 for Vern\n",
      "Predicted ratings for top choices calculated earlier:\n",
      "Rokerij | 4.042 | Average 4.379\n",
      "Wildfish Seafood Grille | 3.85 | Average 4.294\n",
      "Defalco's Italian Grocery | 3.548 | Average 4.233\n",
      "Cornish Pasty Company | 3.979 | Average 4.207\n",
      "Pappadeaux Seafood Kitchen | 3.837 | Average 4.185\n"
     ]
    }
   ],
   "source": [
    "print (\"User Average\", smalldf[smalldf.user_id==testuserid].stars.mean(),\"for\",usernamefromid(smalldf,testuserid))\n",
    "print (\"Predicted ratings for top choices calculated earlier:\")\n",
    "for biz_id,biz_avg in toprecos:\n",
    "    print (biznamefromid(smalldf, biz_id),\"|\",rating(smalldf, db, biz_id, testuserid, k=7, reg=3.),\"|\",\"Average\",round(biz_avg,3))"
   ]
  },
  {
   "cell_type": "markdown",
   "metadata": {},
   "source": [
    "###Testing the ratings\n",
    "\n",
    "Let us compare the predicted ratings with a user's ratings. Note that we are doing this on the same set that we constructed the predictions with, so this is not a validation of the procedure, but simply a check of the procedure's fit. We first write a helper function to return the user score for a restaurant, and the restaurant's average score over all users."
   ]
  },
  {
   "cell_type": "code",
   "execution_count": 80,
   "metadata": {},
   "outputs": [],
   "source": [
    "def get_other_ratings(restaurant_id, user_id, df):\n",
    "    \"get a user's rating for a restaurant and the restaurant's average rating\"\n",
    "    choice=df[(df.business_id==restaurant_id) & (df.user_id==user_id)]\n",
    "    users_score=choice.stars.values[0]\n",
    "    average_score=choice.business_avg.values[0]\n",
    "    return users_score, average_score"
   ]
  },
  {
   "cell_type": "markdown",
   "metadata": {},
   "source": [
    "For the user `testuserid`, we loop over the variable `bizs` (which is a set of restaurants the user has rated) and print the predicted rating, and the actual rating and restaurant average rating obtained using the function above. We again use `k=7` and a regularization of 3."
   ]
  },
  {
   "cell_type": "code",
   "execution_count": 87,
   "metadata": {},
   "outputs": [
    {
     "name": "stdout",
     "output_type": "stream",
     "text": [
      "for user Vern avg 3.565\n",
      "----------------------------------\n",
      "Tee Pee Mexican Food\n",
      "Predicted Rating: 4.136\n",
      "Actual User Rating: 5 Avg Rating 3.043\n",
      "----------------------------------\n",
      "Local Breeze\n",
      "Predicted Rating: 3.969\n",
      "Actual User Rating: 5 Avg Rating 4.0\n",
      "----------------------------------\n",
      "Carly's Bistro\n",
      "Predicted Rating: 3.981\n",
      "Actual User Rating: 5 Avg Rating 3.5\n",
      "----------------------------------\n",
      "District American Kitchen and Wine Bar\n",
      "Predicted Rating: 4.083\n",
      "Actual User Rating: 4 Avg Rating 3.553\n",
      "----------------------------------\n",
      "Sonora Mesquite Grill\n",
      "Predicted Rating: 3.598\n",
      "Actual User Rating: 4 Avg Rating 4.385\n"
     ]
    }
   ],
   "source": [
    "print (\"for user\",usernamefromid(smalldf,testuserid), 'avg', round(smalldf[smalldf.user_id==testuserid].stars.mean(),3))\n",
    "for biz_id in bizs:\n",
    "    print (\"----------------------------------\")\n",
    "    print (biznamefromid(smalldf, biz_id))\n",
    "    print (\"Predicted Rating:\",rating(smalldf, db, biz_id, testuserid, k=7, reg=3.)) \n",
    "    u,a=get_other_ratings(biz_id, testuserid, smalldf)\n",
    "    print (\"Actual User Rating:\",u,\"Avg Rating\",round(a,3))"
   ]
  },
  {
   "cell_type": "code",
   "execution_count": null,
   "metadata": {},
   "outputs": [],
   "source": []
  },
  {
   "cell_type": "code",
   "execution_count": null,
   "metadata": {},
   "outputs": [],
   "source": []
  }
 ],
 "metadata": {
  "kernelspec": {
   "display_name": "Python 3",
   "language": "python",
   "name": "python3"
  },
  "language_info": {
   "codemirror_mode": {
    "name": "ipython",
    "version": 3
   },
   "file_extension": ".py",
   "mimetype": "text/x-python",
   "name": "python",
   "nbconvert_exporter": "python",
   "pygments_lexer": "ipython3",
   "version": "3.8.3"
  }
 },
 "nbformat": 4,
 "nbformat_minor": 1
}
