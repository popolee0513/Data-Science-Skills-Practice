{
  "nbformat": 4,
  "nbformat_minor": 0,
  "metadata": {
    "kernelspec": {
      "display_name": "Python 3",
      "language": "python",
      "name": "python3"
    },
    "language_info": {
      "codemirror_mode": {
        "name": "ipython",
        "version": 3
      },
      "file_extension": ".py",
      "mimetype": "text/x-python",
      "name": "python",
      "nbconvert_exporter": "python",
      "pygments_lexer": "ipython3",
      "version": "3.8.3"
    },
    "colab": {
      "name": "recommendation system for restaurants.ipynb",
      "provenance": [],
      "collapsed_sections": [
        "c7FiubSi2WA3"
      ]
    }
  },
  "cells": [
    {
      "cell_type": "markdown",
      "metadata": {
        "id": "mhaXF6Jr2WAl"
      },
      "source": [
        "# Do we really need Chocolate Recommendations?"
      ]
    },
    {
      "cell_type": "markdown",
      "metadata": {
        "id": "9Tkvb8Bt2WAq"
      },
      "source": [
        "<img src=\"http://1.bp.blogspot.com/-8dGYKeMKNaU/TvutmCenc-I/AAAAAAAABEo/b2Czf4RlAzw/s1600/Death%2BBy%2BChocolate.JPG\" width=\"400\" height=\"300\"/>"
      ]
    },
    {
      "cell_type": "code",
      "metadata": {
        "colab": {
          "base_uri": "https://localhost:8080/"
        },
        "id": "oantESjF3G-B",
        "outputId": "d93d4698-0a90-4c68-d095-bdfc6259e442"
      },
      "source": [
        "from google.colab import drive\n",
        "drive.mount('/content/drive/')\n",
        "%cd /content/drive/My Drive/Colab Notebooks/\n",
        "!apt-get -y install openjdk-8-jre-headless\n",
        "!pip install pyspark\n",
        "\n",
        "import pyspark\n",
        "from pyspark import SparkContext as sc\n",
        "from pyspark import SparkConf\n",
        "\n",
        "### The master parameter for a SparkContext determines which type and size of cluster to use\n",
        "### local[K] : run Spark locally with K worker threads \n",
        "### local\t: run Spark locally with one worker thread \n",
        "\n",
        "conf=SparkConf().setAppName(\"miniProject\").setMaster(\"local[*]\")\n",
        "sc=sc.getOrCreate(conf)"
      ],
      "execution_count": 1,
      "outputs": [
        {
          "output_type": "stream",
          "name": "stdout",
          "text": [
            "Drive already mounted at /content/drive/; to attempt to forcibly remount, call drive.mount(\"/content/drive/\", force_remount=True).\n",
            "/content/drive/My Drive/Colab Notebooks\n",
            "Reading package lists... Done\n",
            "Building dependency tree       \n",
            "Reading state information... Done\n",
            "openjdk-8-jre-headless is already the newest version (8u292-b10-0ubuntu1~18.04).\n",
            "0 upgraded, 0 newly installed, 0 to remove and 37 not upgraded.\n",
            "Requirement already satisfied: pyspark in /usr/local/lib/python3.7/dist-packages (3.1.2)\n",
            "Requirement already satisfied: py4j==0.10.9 in /usr/local/lib/python3.7/dist-packages (from pyspark) (0.10.9)\n"
          ]
        }
      ]
    },
    {
      "cell_type": "markdown",
      "metadata": {
        "id": "s2VlnX6J2WAs"
      },
      "source": [
        "###Collaborative Filtering systems\n",
        "\n",
        "In this notebook, you will create a recommendation system for **restaurants** using [collaborative filtering](http://en.wikipedia.org/wiki/Collaborative_filtering) (CF). The general structure of a recommendation system is that there are users and there are items. Users express explicit or implicit preferences towards certain items. CF thus relies on users' past behavior.\n",
        "\n",
        "There are two primary approaches to CF: neighboorhood and latent factor model. The former is concerned with computing the relationships between items or between users. In the latter approach you have a model of hidden factors through which users and items are transformed to the same space. For example, if you are rating movies we may transform items into genre factors, and users into their preference for a particular genre.\n",
        "\n",
        "Factor models generally lead to more accurate recommenders. One of the reasons for this is the sparsity of the item-user matrix. Most users tend to rate barely one or two items. Latent factor models are more expressive, and fit fewer parameters. However, neighborhood models are more prevalent, as they have an intuitive aspect that appeals to users(if you liked this you will like that) and online(a new preference can be incorporated very quickly).\n",
        "\n",
        "Most recommenders today combine neighboorhood CF with model based CF, and SVD based matrix factorization approaches.\n",
        "\n",
        "To see the example of a simple beer recommender, go [here](http://nbviewer.ipython.org/20a18d52c539b87de2af). This notebook is inspired by the one there but we go after food instead, and go deeper into the problem of making recommendations."
      ]
    },
    {
      "cell_type": "markdown",
      "metadata": {
        "id": "bcuto6hu2WAt"
      },
      "source": [
        "### User and Item based approaches\n",
        "\n",
        "Original approaches to neighborhood based CF used user-user models. By this we mean that rating estimates are made from recorded ratings of like minded users. However, since most users tend to rate very few items, this is usually a losing proposition for explicit-rating based recommenders. Thus, most neighborhood based systems such as Amazon these days rely on item-item approaches. In these methods, a rating is estimated by other ratings made by the user on \"similar\" or \"nearby\" items: we have a K-Nearest-Neighbors algorithm, in effect."
      ]
    },
    {
      "cell_type": "markdown",
      "metadata": {
        "id": "NNqtOvWW2WAt"
      },
      "source": [
        "###Outline of this Notebook\n",
        "\n",
        "The outline of this Notebook is as follows:\n",
        "\n",
        "1. Create a database of item-item similarities. Use this to implement a neighborhood-based CF recommender that can answer simple questions like \"give me more restaurants like this one\". This part of the notebook assumes that the similaties calculated make good \"global recommendations\".\n",
        "\n",
        "2. In the second part, we go one step further and attempt to predict the rating that a user will give an item they have not seen before. This requires that we find the restaurants that *this* user would rate as similar (not just those which are globally similar). \n",
        "\n",
        "\n",
        "3. We will scale up our system by creating a recommender on the lines of Q1 and Q2 that works on the entire data set. We will use the map-reduce paradigm to split the computation over multiple machines."
      ]
    },
    {
      "cell_type": "markdown",
      "metadata": {
        "id": "Lu8YN5iC2WAu"
      },
      "source": [
        "You will start simply, by working on a subset of the restaurant data before generalizing to the entire data set in Problem 4. The complete data set has 150,000 reviews, but we shall start with just about 7000. You will create this  smaller set by taking all the users who had rated more than 60 restaurants, and all the businesses which had greater than 150 reviews from the larger data set. This is not a random set: indeed we use it as it a computationally tractable set that is a bit less sparse than the entire data set."
      ]
    },
    {
      "cell_type": "code",
      "metadata": {
        "id": "RCE8-UJ12WAw"
      },
      "source": [
        "%matplotlib inline\n",
        "from collections import defaultdict\n",
        "import json\n",
        "\n",
        "import numpy as np\n",
        "import scipy as sp\n",
        "import matplotlib.pyplot as plt\n",
        "import pandas as pd\n",
        "import matplotlib"
      ],
      "execution_count": 2,
      "outputs": []
    },
    {
      "cell_type": "markdown",
      "metadata": {
        "id": "Q13YHfJ42WAz"
      },
      "source": [
        "### Description of the data set\n",
        "\n",
        "The data set has been extracted from the Yelp Phoenix restaurants dataset. It is available [here](https://dl.dropboxusercontent.com/u/75194/bigdf.csv)."
      ]
    },
    {
      "cell_type": "code",
      "metadata": {
        "colab": {
          "base_uri": "https://localhost:8080/",
          "height": 219
        },
        "id": "7EqWPQGc2WA0",
        "outputId": "1ee9cc43-1d4e-4489-b5c3-f5e38b438e35"
      },
      "source": [
        "fulldf=pd.read_csv(\"bigdf.csv\")\n",
        "print(fulldf.shape)\n",
        "fulldf.head(2)"
      ],
      "execution_count": 3,
      "outputs": [
        {
          "output_type": "stream",
          "name": "stdout",
          "text": [
            "(149319, 15)\n"
          ]
        },
        {
          "output_type": "execute_result",
          "data": {
            "text/html": [
              "<div>\n",
              "<style scoped>\n",
              "    .dataframe tbody tr th:only-of-type {\n",
              "        vertical-align: middle;\n",
              "    }\n",
              "\n",
              "    .dataframe tbody tr th {\n",
              "        vertical-align: top;\n",
              "    }\n",
              "\n",
              "    .dataframe thead th {\n",
              "        text-align: right;\n",
              "    }\n",
              "</style>\n",
              "<table border=\"1\" class=\"dataframe\">\n",
              "  <thead>\n",
              "    <tr style=\"text-align: right;\">\n",
              "      <th></th>\n",
              "      <th>user_id</th>\n",
              "      <th>business_id</th>\n",
              "      <th>date</th>\n",
              "      <th>review_id</th>\n",
              "      <th>stars</th>\n",
              "      <th>usefulvotes_review</th>\n",
              "      <th>user_name</th>\n",
              "      <th>categories</th>\n",
              "      <th>biz_name</th>\n",
              "      <th>latitude</th>\n",
              "      <th>longitude</th>\n",
              "      <th>business_avg</th>\n",
              "      <th>business_review_count</th>\n",
              "      <th>user_avg</th>\n",
              "      <th>user_review_count</th>\n",
              "    </tr>\n",
              "  </thead>\n",
              "  <tbody>\n",
              "    <tr>\n",
              "      <th>0</th>\n",
              "      <td>rLtl8ZkDX5vH5nAx9C3q5Q</td>\n",
              "      <td>9yKzy9PApeiPPOUJEtnvkg</td>\n",
              "      <td>2011-01-26 00:00:00</td>\n",
              "      <td>fWKvX83p0-ka4JS3dc6E5A</td>\n",
              "      <td>5</td>\n",
              "      <td>5</td>\n",
              "      <td>Jason</td>\n",
              "      <td>[Breakfast &amp; Brunch, Restaurants]</td>\n",
              "      <td>Morning Glory Cafe</td>\n",
              "      <td>33.390792</td>\n",
              "      <td>-112.012504</td>\n",
              "      <td>3.87156</td>\n",
              "      <td>109</td>\n",
              "      <td>3.796954</td>\n",
              "      <td>197</td>\n",
              "    </tr>\n",
              "    <tr>\n",
              "      <th>1</th>\n",
              "      <td>SBbftLzfYYKItOMFwOTIJg</td>\n",
              "      <td>9yKzy9PApeiPPOUJEtnvkg</td>\n",
              "      <td>2008-05-04 00:00:00</td>\n",
              "      <td>DASdFe-g0BgfN9J2tanStg</td>\n",
              "      <td>5</td>\n",
              "      <td>1</td>\n",
              "      <td>Jennifer</td>\n",
              "      <td>[Breakfast &amp; Brunch, Restaurants]</td>\n",
              "      <td>Morning Glory Cafe</td>\n",
              "      <td>33.390792</td>\n",
              "      <td>-112.012504</td>\n",
              "      <td>3.87156</td>\n",
              "      <td>109</td>\n",
              "      <td>3.473684</td>\n",
              "      <td>57</td>\n",
              "    </tr>\n",
              "  </tbody>\n",
              "</table>\n",
              "</div>"
            ],
            "text/plain": [
              "                  user_id             business_id  ...  user_avg user_review_count\n",
              "0  rLtl8ZkDX5vH5nAx9C3q5Q  9yKzy9PApeiPPOUJEtnvkg  ...  3.796954               197\n",
              "1  SBbftLzfYYKItOMFwOTIJg  9yKzy9PApeiPPOUJEtnvkg  ...  3.473684                57\n",
              "\n",
              "[2 rows x 15 columns]"
            ]
          },
          "metadata": {},
          "execution_count": 3
        }
      ]
    },
    {
      "cell_type": "code",
      "metadata": {
        "colab": {
          "base_uri": "https://localhost:8080/"
        },
        "id": "2TyQPXRkcJyP",
        "outputId": "99f54111-ed8c-4562-fadc-7d9a82d39cc4"
      },
      "source": [
        "import csv \n",
        "from io import StringIO\n",
        "fulldf_spark=sc.textFile(\"bigdf.csv\") \\\n",
        "    .map(lambda line:list(csv.reader(StringIO(line), skipinitialspace=True)))  #line.split(\",\"))\n",
        "\n",
        "col = fulldf_spark.take(1)[0]\n",
        "title= dict()\n",
        "\n",
        "for i,j in enumerate(col[0]):\n",
        "  title[j]=i\n",
        "print(title)\n",
        "\n",
        "fulldf_spark =fulldf_spark.filter(lambda x:x!=col).map(lambda x:x[0])\n",
        "fulldf_spark.take(2)"
      ],
      "execution_count": 4,
      "outputs": [
        {
          "output_type": "stream",
          "name": "stdout",
          "text": [
            "{'user_id': 0, 'business_id': 1, 'date': 2, 'review_id': 3, 'stars': 4, 'usefulvotes_review': 5, 'user_name': 6, 'categories': 7, 'biz_name': 8, 'latitude': 9, 'longitude': 10, 'business_avg': 11, 'business_review_count': 12, 'user_avg': 13, 'user_review_count': 14}\n"
          ]
        },
        {
          "output_type": "execute_result",
          "data": {
            "text/plain": [
              "[['rLtl8ZkDX5vH5nAx9C3q5Q',\n",
              "  '9yKzy9PApeiPPOUJEtnvkg',\n",
              "  '2011-01-26 00:00:00',\n",
              "  'fWKvX83p0-ka4JS3dc6E5A',\n",
              "  '5',\n",
              "  '5',\n",
              "  'Jason',\n",
              "  '[Breakfast & Brunch, Restaurants]',\n",
              "  'Morning Glory Cafe',\n",
              "  '33.390792',\n",
              "  '-112.012504',\n",
              "  '3.871559633027523',\n",
              "  '109',\n",
              "  '3.796954314720812',\n",
              "  '197'],\n",
              " ['SBbftLzfYYKItOMFwOTIJg',\n",
              "  '9yKzy9PApeiPPOUJEtnvkg',\n",
              "  '2008-05-04 00:00:00',\n",
              "  'DASdFe-g0BgfN9J2tanStg',\n",
              "  '5',\n",
              "  '1',\n",
              "  'Jennifer',\n",
              "  '[Breakfast & Brunch, Restaurants]',\n",
              "  'Morning Glory Cafe',\n",
              "  '33.390792',\n",
              "  '-112.012504',\n",
              "  '3.871559633027523',\n",
              "  '109',\n",
              "  '3.473684210526316',\n",
              "  '57']]"
            ]
          },
          "metadata": {},
          "execution_count": 4
        }
      ]
    },
    {
      "cell_type": "markdown",
      "metadata": {
        "id": "MJ86JIAP2WA0"
      },
      "source": [
        "The data frame is a frame of reviews. We have joined in information about users and businesses into this frame so that you have only one frame to work with."
      ]
    },
    {
      "cell_type": "markdown",
      "metadata": {
        "id": "0tEP1jdR2WA1"
      },
      "source": [
        "This information is for the reviews themselves:"
      ]
    },
    {
      "cell_type": "raw",
      "metadata": {
        "id": "oTAVevku2WA1"
      },
      "source": [
        "  * stars: star rating, integer 1-5\n",
        "  * date: date, formatted like '2011-04-19'\n",
        "  * review_id: unique id for the review"
      ]
    },
    {
      "cell_type": "markdown",
      "metadata": {
        "id": "3DPflZHt2WA2"
      },
      "source": [
        "Here is a description of the data fields in this dataframe, on the business side"
      ]
    },
    {
      "cell_type": "raw",
      "metadata": {
        "id": "MArgWlU22WA2"
      },
      "source": [
        " * business_id: a unique identifier for this business\n",
        " * biz_name: the full business name\n",
        " * latitude: latitude\n",
        " * longitude: longitude\n",
        " * business_review_count: review count for the restaurant(this is a repeated field for all reviews of the restaurant)\n",
        " * categories: localized category names\n",
        " * business_avg: average stars over all users reviews for business(this is a repeated field for all reviews of the restaurant)\n"
      ]
    },
    {
      "cell_type": "markdown",
      "metadata": {
        "id": "7j3tOBml2WA2"
      },
      "source": [
        "And Finally, a set of fields for users"
      ]
    },
    {
      "cell_type": "raw",
      "metadata": {
        "id": "FzwAGc622WA3"
      },
      "source": [
        "  * user_id: unique user identifier\n",
        "  * user_name: first name, last initial, like 'Matt J.'\n",
        "  * user_review_count: count of restaurants reviewed by user(this is a repeated field for all reviews by the user)\n",
        "  * user_avg: floating point average of users reviews over all businesses, like 4.31(this is a repeated field for all reviews by the user)"
      ]
    },
    {
      "cell_type": "markdown",
      "metadata": {
        "id": "LjKbc9jp2WA3"
      },
      "source": [
        "In this data set, every user has only one review for each restaurant. Convince yourself of this. (This answer does not need to be submitted)."
      ]
    },
    {
      "cell_type": "markdown",
      "metadata": {
        "id": "c7FiubSi2WA3"
      },
      "source": [
        "###Our Recommender\n",
        "\n",
        "To motivate our recommendation system, consider the follwing example. Let's pretend we are in Boston for a second. Lets say the average rating of restaurants here by all the users is 3.5. Sandrine's at Harvard square is better than an average restaurant, so it tends to be rated 0.5 stars above the average (over all the users). However, you are a curmudgeon, who tends to rate 0.2 stars below the average. Then a baseline estimate for the recommendation for Sandrine's, for you, is 3.5+0.5-0.2=3.8.\n",
        "\n",
        "These baseline estimates thus adjust the data by accounting for the systematic tendencies for some users who give higher ratings than others, and for some restaurants to recieve higher ratings than others. We can write the baseline estimate $\\hat Y_{um}^{baseline}$ for an unknown rating $Y_{um}$ for user $u$ and restaurant or business $m$ as:\n",
        "\n",
        "$$ \\hat Y_{um}^{baseline} = \\hat \\mu + \\hat \\theta_{u0} + \\hat \\gamma_{m0} $$\n",
        "\n",
        "where the unknown parameters $\\theta_{u0}$ and $\\gamma_{m0}$ indicate the deviations, or biases, of user $u$ and item $m$, respectively, from some intercept parameter $\\mu$. (The reason for the strange notation with 0s will become clear in Problem 3)\n",
        "\n",
        "Notice that the $\\theta_{u0}$ and $\\gamma_{m0}$ are parameters which need to be fit. The simplest thing to start with, and something we will do for Problems 1 and 2 (but not 3), is to replace them by their \"mean\" estimates from the data. Thus:\n",
        "\n",
        "$$ \\hat Y^{baseline}_{um} = \\bar Y + (\\bar Y_u - \\bar Y) + (\\bar Y_m - \\bar Y)$$\n",
        "\n",
        "where $\\bar Y_u$ =  `user_avg`, the average of all a user $u$'s ratings and $\\bar Y_m$ = `business_avg`, the average of all ratings for a restaurant $m$. $\\bar Y$ is the average rating over all reviews.\n",
        "\n",
        "The final two terms correspond to the user-specific and item-specific bias in ratings, that is, how their ratings tend to systematically diverge from the global average. This is the simplest possible way to predict a rating, based only on information about *this* user and *this* restaurant.\n",
        "\n",
        "Can we do a better job of predicting the rating $Y_{um}$ user $u$ would give to restaurant $r$? According to the central dogma of CF, we ought to be able to use the responses of *similar* users regarding *similar* restaurants to get a better prediction. \n",
        "\n",
        "We can make an estimate of $Y_{um}$ as:\n",
        "\n",
        "$$ \\hat{Y_{um}} = \\hat Y_{um}^{baseline}\\, + \\,\\frac{\\sum\\limits_{j \\in S^{k}(m)} s_{mj} ( Y_{uj} - \\hat Y_{uj}^{baseline} )}{\\sum\\limits_{j \\in S^{k}(m)} s_{mj} } $$\n",
        "\n",
        "where $s^{k}(m)$ is the $k$ neighbor items of item $m$ based on some pooling criterion, for example, those items which have been rated by user $u$.\n",
        "\n",
        "In the next two problems, we will focus on using similar restaurants, or the item neighborhood.\n",
        "To do this, we compute a *similarity measure* $s_{mj}$ between the $m$th and $j$th items. This similarity might be measured via [cosine similarity](http://en.wikipedia.org/wiki/Cosine_similarity), [pearson co-efficient](http://en.wikipedia.org/wiki/Pearson_product-moment_correlation_coefficient) or using other distance based measures. Here we shall use the Pearson coefficient. This measures the tendency of users to rate items similarly. Since most ratings are unknown, it is computed on the \"common user support\" (`n_common`), which is the set of common raters of both items. \n",
        "\n",
        "In the first problem we shall set $S$ to the global neighborhood of the item, and in the second we shall set it to those items which have been rated by user $u$."
      ]
    },
    {
      "cell_type": "markdown",
      "metadata": {
        "id": "C7Jy0hZ42WA6"
      },
      "source": [
        "##Q1. Writing a simple \"global\" recommender"
      ]
    },
    {
      "cell_type": "markdown",
      "metadata": {
        "id": "FNR6ETY12WA7"
      },
      "source": [
        "Now we have a way to pool information between similar restaurants to try to predict a user's recommendation. But how do we choose the neighborhood to pool over? We begin with the simplest choice. We calculate the similarity between items using their entire common user support, and rank the nearest neighbors of an item by this similarity. We call this a \"global\" recommender because it assumes that every user perceives the similarity between restaurants in the same way. Later on, we will implement a more specific recommender that pools information based on which items seem the most similar *to this user*.\n",
        "\n",
        "The global recommender does have the advantage of dealing with the possible sparsity of the user's rated items, but also the disadvantage of giving one answer for all users, without taking the user's preferences into account. This is a classic case of bias-variance tradeoff.\n",
        "\n",
        "Lets implement this simpler global recommender first.\n"
      ]
    },
    {
      "cell_type": "markdown",
      "metadata": {
        "id": "x6toA2hp2WA8"
      },
      "source": [
        "### Exploratory Data Analysis"
      ]
    },
    {
      "cell_type": "markdown",
      "metadata": {
        "id": "VDHdjvr82WA8"
      },
      "source": [
        "**1.1** Visualize the sparsity of the full data set by plotting two histograms of the review count  grouped by the `user_id` and `business_id` respectively. Are there more users or more businesses? "
      ]
    },
    {
      "cell_type": "code",
      "metadata": {
        "colab": {
          "base_uri": "https://localhost:8080/",
          "height": 633
        },
        "id": "0tOM_pIg2WA8",
        "outputId": "6d6cc5cb-6841-449d-9f0d-8882d8d1648c"
      },
      "source": [
        "import seaborn as sns\n",
        "review_count_user = fulldf.groupby(\"user_id\")[\"review_id\"].count().reset_index(name='count').sort_values(['count'], ascending=False)   \n",
        "review_count_user_spark = fulldf_spark.filter(lambda x:x[3]!=np.nan).map(lambda x:(x[0],1)).groupByKey().mapValues(lambda x: sum(x))                     \n",
        "plt.figure(figsize=[12,6])\n",
        "sns.set_style(\"ticks\",{'axes.grid' : True})\n",
        "sns.distplot(review_count_user_spark.map(lambda x:x[1]).collect() ,kde=False)\n",
        "plt.xlabel(\"review count\")\n",
        "plt.ylabel(\"frequency\")\n",
        "plt.show()  \n",
        "review_count_user.head()"
      ],
      "execution_count": 5,
      "outputs": [
        {
          "output_type": "stream",
          "name": "stderr",
          "text": [
            "/usr/local/lib/python3.7/dist-packages/seaborn/distributions.py:2619: FutureWarning: `distplot` is a deprecated function and will be removed in a future version. Please adapt your code to use either `displot` (a figure-level function with similar flexibility) or `histplot` (an axes-level function for histograms).\n",
            "  warnings.warn(msg, FutureWarning)\n"
          ]
        },
        {
          "output_type": "display_data",
          "data": {
            "image/png": "[encoded data removed]",
            "text/plain": [
              "<Figure size 864x432 with 1 Axes>"
            ]
          },
          "metadata": {
            "needs_background": "light"
          }
        },
        {
          "output_type": "execute_result",
          "data": {
            "text/html": [
              "<div>\n",
              "<style scoped>\n",
              "    .dataframe tbody tr th:only-of-type {\n",
              "        vertical-align: middle;\n",
              "    }\n",
              "\n",
              "    .dataframe tbody tr th {\n",
              "        vertical-align: top;\n",
              "    }\n",
              "\n",
              "    .dataframe thead th {\n",
              "        text-align: right;\n",
              "    }\n",
              "</style>\n",
              "<table border=\"1\" class=\"dataframe\">\n",
              "  <thead>\n",
              "    <tr style=\"text-align: right;\">\n",
              "      <th></th>\n",
              "      <th>user_id</th>\n",
              "      <th>count</th>\n",
              "    </tr>\n",
              "  </thead>\n",
              "  <tbody>\n",
              "    <tr>\n",
              "      <th>5504</th>\n",
              "      <td>90a6z--_CUrl84aCzZyPsg</td>\n",
              "      <td>332</td>\n",
              "    </tr>\n",
              "    <tr>\n",
              "      <th>23631</th>\n",
              "      <td>fczQCSmaWF78toLEmb0Zsw</td>\n",
              "      <td>302</td>\n",
              "    </tr>\n",
              "    <tr>\n",
              "      <th>25403</th>\n",
              "      <td>ikm0UCahtK34LbLCEw4YTw</td>\n",
              "      <td>296</td>\n",
              "    </tr>\n",
              "    <tr>\n",
              "      <th>25991</th>\n",
              "      <td>joIzw_aUiNvBTuGoytrH7g</td>\n",
              "      <td>271</td>\n",
              "    </tr>\n",
              "    <tr>\n",
              "      <th>2549</th>\n",
              "      <td>3gIfcQq5KxAegwCPXc83cQ</td>\n",
              "      <td>266</td>\n",
              "    </tr>\n",
              "  </tbody>\n",
              "</table>\n",
              "</div>"
            ],
            "text/plain": [
              "                      user_id  count\n",
              "5504   90a6z--_CUrl84aCzZyPsg    332\n",
              "23631  fczQCSmaWF78toLEmb0Zsw    302\n",
              "25403  ikm0UCahtK34LbLCEw4YTw    296\n",
              "25991  joIzw_aUiNvBTuGoytrH7g    271\n",
              "2549   3gIfcQq5KxAegwCPXc83cQ    266"
            ]
          },
          "metadata": {},
          "execution_count": 5
        }
      ]
    },
    {
      "cell_type": "code",
      "metadata": {
        "colab": {
          "base_uri": "https://localhost:8080/"
        },
        "id": "PQJ99xP3hHUj",
        "outputId": "7399ff7a-21a3-4352-ba67-b87848840535"
      },
      "source": [
        "review_count_user_spark.takeOrdered(5,lambda atuple: -atuple[1])"
      ],
      "execution_count": 6,
      "outputs": [
        {
          "output_type": "execute_result",
          "data": {
            "text/plain": [
              "[('90a6z--_CUrl84aCzZyPsg', 332),\n",
              " ('fczQCSmaWF78toLEmb0Zsw', 302),\n",
              " ('ikm0UCahtK34LbLCEw4YTw', 296),\n",
              " ('joIzw_aUiNvBTuGoytrH7g', 271),\n",
              " ('3gIfcQq5KxAegwCPXc83cQ', 266)]"
            ]
          },
          "metadata": {},
          "execution_count": 6
        }
      ]
    },
    {
      "cell_type": "code",
      "metadata": {
        "colab": {
          "base_uri": "https://localhost:8080/",
          "height": 633
        },
        "id": "CbxsBs-S2WA9",
        "outputId": "854d1f50-a207-4c96-c769-f58b0753dd66"
      },
      "source": [
        "review_count_business=fulldf.groupby(\"business_id\")[\"review_id\"].count().reset_index(name='count').sort_values(['count'], ascending=False)\n",
        "review_count_business_spark = fulldf_spark.filter(lambda x:x[3]!=np.nan).map(lambda x:(x[1],1)).groupByKey().mapValues(lambda x: sum(x))\n",
        "plt.figure(figsize=[12,6])\n",
        "sns.set_style(\"ticks\",{'axes.grid' : True})\n",
        "sns.distplot(review_count_business_spark.map(lambda x:x[1]).collect(),kde=False)\n",
        "\n",
        "plt.xlabel(\"review count\")\n",
        "plt.ylabel(\"frequency\")\n",
        "plt.show()                    \n",
        "review_count_business.head()"
      ],
      "execution_count": 7,
      "outputs": [
        {
          "output_type": "stream",
          "name": "stderr",
          "text": [
            "/usr/local/lib/python3.7/dist-packages/seaborn/distributions.py:2619: FutureWarning: `distplot` is a deprecated function and will be removed in a future version. Please adapt your code to use either `displot` (a figure-level function with similar flexibility) or `histplot` (an axes-level function for histograms).\n",
            "  warnings.warn(msg, FutureWarning)\n"
          ]
        },
        {
          "output_type": "display_data",
          "data": {
            "image/png": "[encoded data removed]",
            "text/plain": [
              "<Figure size 864x432 with 1 Axes>"
            ]
          },
          "metadata": {}
        },
        {
          "output_type": "execute_result",
          "data": {
            "text/html": [
              "<div>\n",
              "<style scoped>\n",
              "    .dataframe tbody tr th:only-of-type {\n",
              "        vertical-align: middle;\n",
              "    }\n",
              "\n",
              "    .dataframe tbody tr th {\n",
              "        vertical-align: top;\n",
              "    }\n",
              "\n",
              "    .dataframe thead th {\n",
              "        text-align: right;\n",
              "    }\n",
              "</style>\n",
              "<table border=\"1\" class=\"dataframe\">\n",
              "  <thead>\n",
              "    <tr style=\"text-align: right;\">\n",
              "      <th></th>\n",
              "      <th>business_id</th>\n",
              "      <th>count</th>\n",
              "    </tr>\n",
              "  </thead>\n",
              "  <tbody>\n",
              "    <tr>\n",
              "      <th>2360</th>\n",
              "      <td>VVeogjZya58oiTxK7qUjAQ</td>\n",
              "      <td>742</td>\n",
              "    </tr>\n",
              "    <tr>\n",
              "      <th>1500</th>\n",
              "      <td>JokKtdXU7zXHcr20Lrk29A</td>\n",
              "      <td>694</td>\n",
              "    </tr>\n",
              "    <tr>\n",
              "      <th>3667</th>\n",
              "      <td>ntN85eu27C04nwyPa8IHtw</td>\n",
              "      <td>649</td>\n",
              "    </tr>\n",
              "    <tr>\n",
              "      <th>1109</th>\n",
              "      <td>EWMwV5V9BxNs_U6nNVMeqw</td>\n",
              "      <td>598</td>\n",
              "    </tr>\n",
              "    <tr>\n",
              "      <th>2310</th>\n",
              "      <td>V1nEpIRmEa1768oj_tuxeQ</td>\n",
              "      <td>553</td>\n",
              "    </tr>\n",
              "  </tbody>\n",
              "</table>\n",
              "</div>"
            ],
            "text/plain": [
              "                 business_id  count\n",
              "2360  VVeogjZya58oiTxK7qUjAQ    742\n",
              "1500  JokKtdXU7zXHcr20Lrk29A    694\n",
              "3667  ntN85eu27C04nwyPa8IHtw    649\n",
              "1109  EWMwV5V9BxNs_U6nNVMeqw    598\n",
              "2310  V1nEpIRmEa1768oj_tuxeQ    553"
            ]
          },
          "metadata": {},
          "execution_count": 7
        }
      ]
    },
    {
      "cell_type": "code",
      "metadata": {
        "colab": {
          "base_uri": "https://localhost:8080/"
        },
        "id": "xbXGjfNPitpI",
        "outputId": "c5f6b0e1-fa4b-413e-be83-a3fbfc90eeaf"
      },
      "source": [
        "review_count_business_spark.takeOrdered(5,lambda atuple: -atuple[1])"
      ],
      "execution_count": 8,
      "outputs": [
        {
          "output_type": "execute_result",
          "data": {
            "text/plain": [
              "[('VVeogjZya58oiTxK7qUjAQ', 742),\n",
              " ('JokKtdXU7zXHcr20Lrk29A', 694),\n",
              " ('ntN85eu27C04nwyPa8IHtw', 649),\n",
              " ('EWMwV5V9BxNs_U6nNVMeqw', 598),\n",
              " ('V1nEpIRmEa1768oj_tuxeQ', 553)]"
            ]
          },
          "metadata": {},
          "execution_count": 8
        }
      ]
    },
    {
      "cell_type": "markdown",
      "metadata": {
        "id": "Nj7_1yui2WA9"
      },
      "source": [
        "*your answer here*"
      ]
    },
    {
      "cell_type": "markdown",
      "metadata": {
        "id": "ByNIT1LR2WA9"
      },
      "source": [
        "**1.2** Compute the average rating of reviews in the data set and a histogram of all the ratings in the dataset."
      ]
    },
    {
      "cell_type": "code",
      "metadata": {
        "colab": {
          "base_uri": "https://localhost:8080/",
          "height": 487
        },
        "id": "-A_E7l-b2WA9",
        "outputId": "e3a6f541-0953-4b2c-c3ff-c1833db47df1"
      },
      "source": [
        "#your code here\n",
        "print(fulldf[\"stars\"].mean())\n",
        "print(fulldf_spark.map(lambda x:int(x[title[\"stars\"]])).mean())\n",
        "\n",
        "plt.figure(figsize=[12,6])\n",
        "sns.set_theme(style=\"darkgrid\")\n",
        "sns.countplot(fulldf_spark.map(lambda x:int(x[title[\"stars\"]])).collect(),palette = \"Set2\")\n",
        "\n",
        "plt.xlabel(\"rating\")\n",
        "plt.ylabel(\"frequency\")\n",
        "plt.show()   "
      ],
      "execution_count": 9,
      "outputs": [
        {
          "output_type": "stream",
          "name": "stdout",
          "text": [
            "3.7414126802349332\n",
            "3.741412680234922\n"
          ]
        },
        {
          "output_type": "stream",
          "name": "stderr",
          "text": [
            "/usr/local/lib/python3.7/dist-packages/seaborn/_decorators.py:43: FutureWarning: Pass the following variable as a keyword arg: x. From version 0.12, the only valid positional argument will be `data`, and passing other arguments without an explicit keyword will result in an error or misinterpretation.\n",
            "  FutureWarning\n"
          ]
        },
        {
          "output_type": "display_data",
          "data": {
            "image/png": "[encoded data removed]",
            "text/plain": [
              "<Figure size 864x432 with 1 Axes>"
            ]
          },
          "metadata": {}
        }
      ]
    },
    {
      "cell_type": "markdown",
      "metadata": {
        "id": "JbolWXW62WA-"
      },
      "source": [
        "The following function is used to re-compute review counts and averages whenever you subset a reviews data frame. We'll use it soon to construct a smaller, more computationally tractable data frame."
      ]
    },
    {
      "cell_type": "code",
      "metadata": {
        "id": "nG84foqd2WA-"
      },
      "source": [
        "def recompute_frame(ldf):\n",
        "    \"\"\"\n",
        "    takes a dataframe ldf, makes a copy of it, and returns the copy\n",
        "    with all averages and review counts recomputed\n",
        "    this is used when a frame is subsetted.\n",
        "    \"\"\"\n",
        "    ldfu=ldf.groupby('user_id')\n",
        "    ldfb=ldf.groupby('business_id')\n",
        "    user_avg=ldfu.stars.mean()\n",
        "    user_review_count=ldfu.review_id.count()\n",
        "    business_avg=ldfb.stars.mean()\n",
        "    business_review_count=ldfb.review_id.count()\n",
        "    nldf=ldf.copy()\n",
        "    nldf.set_index(['business_id'], inplace=True)\n",
        "    nldf['business_avg']=business_avg\n",
        "    nldf['business_review_count']=business_review_count\n",
        "    nldf.reset_index(inplace=True)\n",
        "    nldf.set_index(['user_id'], inplace=True)\n",
        "    nldf['user_avg']=user_avg\n",
        "    nldf['user_review_count']=user_review_count\n",
        "    nldf.reset_index(inplace=True)\n",
        "    return nldf"
      ],
      "execution_count": 10,
      "outputs": []
    },
    {
      "cell_type": "markdown",
      "metadata": {
        "id": "GKXj_Pli2WA-"
      },
      "source": [
        "**1.3** Create a smaller data set in dataframe `smalldf` by looking for those businesses with more than 150 reviews and those users with more than 60 reviews. Include all the columns that were there in the parent dataframe. Since you have created a subset of the data set, use the method provided above to recalculate the averages. Print the number of unique users and items in this data set.  \n",
        "\n",
        "Note that while this cut makes sure we have prolific users, the cut on businesses restores sparsity  by reducing the number of reviews per user."
      ]
    },
    {
      "cell_type": "code",
      "metadata": {
        "id": "aEB7cxvC2WA-",
        "colab": {
          "base_uri": "https://localhost:8080/"
        },
        "outputId": "9c91cfde-cef9-4d68-a5c1-504910e8b52b"
      },
      "source": [
        "#your code here\n",
        "smalldf=fulldf[(fulldf[\"user_review_count\"]>60) & (fulldf[\"business_review_count\"]>150)]\n",
        "smalldf=recompute_frame(smalldf)\n",
        "print(smalldf.shape)\n",
        "print(len(pd.unique(smalldf[\"user_id\"])))\n",
        "print(len(pd.unique(smalldf[\"business_id\"])))"
      ],
      "execution_count": 11,
      "outputs": [
        {
          "output_type": "stream",
          "name": "stdout",
          "text": [
            "(6165, 15)\n",
            "240\n",
            "172\n"
          ]
        }
      ]
    },
    {
      "cell_type": "code",
      "metadata": {
        "colab": {
          "base_uri": "https://localhost:8080/"
        },
        "id": "XLPPiwuLmgjk",
        "outputId": "72079a5e-e4a6-4546-805a-186958cef522"
      },
      "source": [
        "smalldf_spark = fulldf_spark.filter(lambda x: int(x[title[\"user_review_count\"]])>60 and int(x[title[\"business_review_count\"]])>150)\n",
        "user_avg =   smalldf_spark.map(lambda x:(x[title[\"user_id\"]],int(x[title[\"stars\"]]))).groupByKey().mapValues(lambda x:sum(x)/len(list(x))).collectAsMap()\n",
        "business_avg  = smalldf_spark.map(lambda x:(x[title[\"business_id\"]],int(x[title[\"stars\"]]))).groupByKey().mapValues(lambda x:sum(x)/len(list(x))).collectAsMap()\n",
        "user_review_count = smalldf_spark.map(lambda x:(x[title[\"user_id\"]],1)).groupByKey().mapValues(lambda x:sum(x)).collectAsMap()\n",
        "business_review_count = smalldf_spark.map(lambda x:(x[title[\"business_id\"]],1)).groupByKey().mapValues(lambda x:sum(x)).collectAsMap()\n",
        "\n",
        "def mapping(x):\n",
        "  output=[]\n",
        "  for col_name in col[0]:\n",
        "  \n",
        "    if col_name not in [\"business_avg\",\"'user_avg\",\"business_review_count\",\"user_review_count\"]:\n",
        "      output.append(x[title[col_name]])\n",
        "    elif col_name==\"business_avg\":\n",
        "      output.append(business_avg[x[title[\"business_id\"]]])\n",
        "    elif col_name==\"user_avg\":\n",
        "      output.append(user_avg[x[title[\"user_id\"]]])\n",
        "    elif col_name==\"user_review_count\":\n",
        "      output.append(user_review_count[x[title[\"user_id\"]]])\n",
        "    else:\n",
        "      output.append(business_review_count[x[title[\"business_id\"]]])\n",
        "  return output\n",
        "\n",
        "smalldf_spark = smalldf_spark.map(lambda x:mapping(x))\n",
        "smalldf_spark.take(1)"
      ],
      "execution_count": 12,
      "outputs": [
        {
          "output_type": "execute_result",
          "data": {
            "text/plain": [
              "[['rLtl8ZkDX5vH5nAx9C3q5Q',\n",
              "  'eIxSLxzIlfExI6vgAbn2JA',\n",
              "  '2011-05-12 00:00:00',\n",
              "  'z4G1g3VcdfigCUtVDFRL1w',\n",
              "  '4',\n",
              "  '5',\n",
              "  'Jason',\n",
              "  '[Burgers, Hot Dogs, American (New), Restaurants]',\n",
              "  'Lobbys Beef Burgers Dogs',\n",
              "  '33.39476989999999',\n",
              "  '-111.9088938',\n",
              "  4.04,\n",
              "  25,\n",
              "  '3.796954314720812',\n",
              "  62]]"
            ]
          },
          "metadata": {},
          "execution_count": 12
        }
      ]
    },
    {
      "cell_type": "markdown",
      "metadata": {
        "id": "q0eYzHG-2WA_"
      },
      "source": [
        "How does this compare to the parent data set, in terms of size and sparsity? Once again, plot histograms of the review count grouped by user, and by the review count grouped by business, respectively, and describe the results"
      ]
    },
    {
      "cell_type": "code",
      "metadata": {
        "id": "3oY6tVeF2WA_",
        "colab": {
          "base_uri": "https://localhost:8080/",
          "height": 639
        },
        "outputId": "2c3688c8-876a-42af-89dd-eab40c4b6ee3"
      },
      "source": [
        "review_count_business=smalldf.groupby(\"business_id\")[\"review_id\"].count().reset_index(name='count').sort_values(['count'], ascending=False)\n",
        "review_count_business_spark =smalldf_spark.map(lambda x:(x[title[\"business_id\"]],1)).groupByKey().mapValues(lambda x: sum(x))\n",
        "plt.figure(figsize=[12,6])\n",
        "sns.set_style(\"ticks\",{'axes.grid' : True})\n",
        "sns.distplot(review_count_business_spark.map(lambda x:x[1]).collect(),kde=False)\n",
        "plt.xlabel(\"review count\")\n",
        "plt.ylabel(\"frequency\")\n",
        "plt.show()  \n",
        "\n",
        "review_count_business.head()"
      ],
      "execution_count": 13,
      "outputs": [
        {
          "output_type": "stream",
          "name": "stderr",
          "text": [
            "/usr/local/lib/python3.7/dist-packages/seaborn/distributions.py:2619: FutureWarning: `distplot` is a deprecated function and will be removed in a future version. Please adapt your code to use either `displot` (a figure-level function with similar flexibility) or `histplot` (an axes-level function for histograms).\n",
            "  warnings.warn(msg, FutureWarning)\n"
          ]
        },
        {
          "output_type": "display_data",
          "data": {
            "image/png": "[encoded data removed]",
            "text/plain": [
              "<Figure size 864x432 with 1 Axes>"
            ]
          },
          "metadata": {}
        },
        {
          "output_type": "execute_result",
          "data": {
            "text/html": [
              "<div>\n",
              "<style scoped>\n",
              "    .dataframe tbody tr th:only-of-type {\n",
              "        vertical-align: middle;\n",
              "    }\n",
              "\n",
              "    .dataframe tbody tr th {\n",
              "        vertical-align: top;\n",
              "    }\n",
              "\n",
              "    .dataframe thead th {\n",
              "        text-align: right;\n",
              "    }\n",
              "</style>\n",
              "<table border=\"1\" class=\"dataframe\">\n",
              "  <thead>\n",
              "    <tr style=\"text-align: right;\">\n",
              "      <th></th>\n",
              "      <th>business_id</th>\n",
              "      <th>count</th>\n",
              "    </tr>\n",
              "  </thead>\n",
              "  <tbody>\n",
              "    <tr>\n",
              "      <th>38</th>\n",
              "      <td>EWMwV5V9BxNs_U6nNVMeqw</td>\n",
              "      <td>114</td>\n",
              "    </tr>\n",
              "    <tr>\n",
              "      <th>87</th>\n",
              "      <td>VVeogjZya58oiTxK7qUjAQ</td>\n",
              "      <td>81</td>\n",
              "    </tr>\n",
              "    <tr>\n",
              "      <th>145</th>\n",
              "      <td>pwpl-rxwNRQdgqFz_-qMPg</td>\n",
              "      <td>79</td>\n",
              "    </tr>\n",
              "    <tr>\n",
              "      <th>3</th>\n",
              "      <td>-sC66z4SO3tR7nFCjfQwuQ</td>\n",
              "      <td>79</td>\n",
              "    </tr>\n",
              "    <tr>\n",
              "      <th>85</th>\n",
              "      <td>V1nEpIRmEa1768oj_tuxeQ</td>\n",
              "      <td>78</td>\n",
              "    </tr>\n",
              "  </tbody>\n",
              "</table>\n",
              "</div>"
            ],
            "text/plain": [
              "                business_id  count\n",
              "38   EWMwV5V9BxNs_U6nNVMeqw    114\n",
              "87   VVeogjZya58oiTxK7qUjAQ     81\n",
              "145  pwpl-rxwNRQdgqFz_-qMPg     79\n",
              "3    -sC66z4SO3tR7nFCjfQwuQ     79\n",
              "85   V1nEpIRmEa1768oj_tuxeQ     78"
            ]
          },
          "metadata": {},
          "execution_count": 13
        }
      ]
    },
    {
      "cell_type": "code",
      "metadata": {
        "colab": {
          "base_uri": "https://localhost:8080/"
        },
        "id": "bgL-F8QS1pjM",
        "outputId": "00847fde-6784-4c20-ff5a-32bf021d7000"
      },
      "source": [
        "review_count_business_spark.takeOrdered(5,lambda atuple: -atuple[1])"
      ],
      "execution_count": 14,
      "outputs": [
        {
          "output_type": "execute_result",
          "data": {
            "text/plain": [
              "[('EWMwV5V9BxNs_U6nNVMeqw', 114),\n",
              " ('VVeogjZya58oiTxK7qUjAQ', 81),\n",
              " ('-sC66z4SO3tR7nFCjfQwuQ', 79),\n",
              " ('pwpl-rxwNRQdgqFz_-qMPg', 79),\n",
              " ('V1nEpIRmEa1768oj_tuxeQ', 78)]"
            ]
          },
          "metadata": {},
          "execution_count": 14
        }
      ]
    },
    {
      "cell_type": "code",
      "metadata": {
        "colab": {
          "base_uri": "https://localhost:8080/",
          "height": 639
        },
        "id": "f9EA1EDcP2OR",
        "outputId": "ebc209b4-706f-4f40-e18c-2a8f381cb856"
      },
      "source": [
        "review_count_user = smalldf.groupby(\"user_id\")[\"review_id\"].count().reset_index(name='count').sort_values(['count'], ascending=False)\n",
        "review_count_user_spark = smalldf_spark.map(lambda x:(x[title[\"user_id\"]],1)).groupByKey().mapValues(lambda x: sum(x))\n",
        "plt.figure(figsize=[12,6])\n",
        "sns.set_style(\"ticks\",{'axes.grid' : True})\n",
        "sns.distplot(review_count_user_spark.map(lambda x:x[1]).collect(),kde=False)\n",
        "plt.xlabel(\"review count\")\n",
        "plt.ylabel(\"frequency\")\n",
        "plt.show() \n",
        "review_count_user.head()"
      ],
      "execution_count": 15,
      "outputs": [
        {
          "output_type": "stream",
          "name": "stderr",
          "text": [
            "/usr/local/lib/python3.7/dist-packages/seaborn/distributions.py:2619: FutureWarning: `distplot` is a deprecated function and will be removed in a future version. Please adapt your code to use either `displot` (a figure-level function with similar flexibility) or `histplot` (an axes-level function for histograms).\n",
            "  warnings.warn(msg, FutureWarning)\n"
          ]
        },
        {
          "output_type": "display_data",
          "data": {
            "image/png": "[encoded data removed]",
            "text/plain": [
              "<Figure size 864x432 with 1 Axes>"
            ]
          },
          "metadata": {}
        },
        {
          "output_type": "execute_result",
          "data": {
            "text/html": [
              "<div>\n",
              "<style scoped>\n",
              "    .dataframe tbody tr th:only-of-type {\n",
              "        vertical-align: middle;\n",
              "    }\n",
              "\n",
              "    .dataframe tbody tr th {\n",
              "        vertical-align: top;\n",
              "    }\n",
              "\n",
              "    .dataframe thead th {\n",
              "        text-align: right;\n",
              "    }\n",
              "</style>\n",
              "<table border=\"1\" class=\"dataframe\">\n",
              "  <thead>\n",
              "    <tr style=\"text-align: right;\">\n",
              "      <th></th>\n",
              "      <th>user_id</th>\n",
              "      <th>count</th>\n",
              "    </tr>\n",
              "  </thead>\n",
              "  <tbody>\n",
              "    <tr>\n",
              "      <th>152</th>\n",
              "      <td>fczQCSmaWF78toLEmb0Zsw</td>\n",
              "      <td>83</td>\n",
              "    </tr>\n",
              "    <tr>\n",
              "      <th>22</th>\n",
              "      <td>4ozupHULqGyO42s3zNUzOQ</td>\n",
              "      <td>77</td>\n",
              "    </tr>\n",
              "    <tr>\n",
              "      <th>16</th>\n",
              "      <td>3gIfcQq5KxAegwCPXc83cQ</td>\n",
              "      <td>76</td>\n",
              "    </tr>\n",
              "    <tr>\n",
              "      <th>72</th>\n",
              "      <td>JgDkCER12uiv4lbpmkZ9VA</td>\n",
              "      <td>73</td>\n",
              "    </tr>\n",
              "    <tr>\n",
              "      <th>37</th>\n",
              "      <td>90a6z--_CUrl84aCzZyPsg</td>\n",
              "      <td>69</td>\n",
              "    </tr>\n",
              "  </tbody>\n",
              "</table>\n",
              "</div>"
            ],
            "text/plain": [
              "                    user_id  count\n",
              "152  fczQCSmaWF78toLEmb0Zsw     83\n",
              "22   4ozupHULqGyO42s3zNUzOQ     77\n",
              "16   3gIfcQq5KxAegwCPXc83cQ     76\n",
              "72   JgDkCER12uiv4lbpmkZ9VA     73\n",
              "37   90a6z--_CUrl84aCzZyPsg     69"
            ]
          },
          "metadata": {},
          "execution_count": 15
        }
      ]
    },
    {
      "cell_type": "code",
      "metadata": {
        "colab": {
          "base_uri": "https://localhost:8080/"
        },
        "id": "6ZYUmvwY2Caa",
        "outputId": "cf036df0-c6c2-432a-a487-d62711c05d67"
      },
      "source": [
        "review_count_user_spark.takeOrdered(5,lambda atuple: -atuple[1])"
      ],
      "execution_count": 16,
      "outputs": [
        {
          "output_type": "execute_result",
          "data": {
            "text/plain": [
              "[('fczQCSmaWF78toLEmb0Zsw', 83),\n",
              " ('4ozupHULqGyO42s3zNUzOQ', 77),\n",
              " ('3gIfcQq5KxAegwCPXc83cQ', 76),\n",
              " ('JgDkCER12uiv4lbpmkZ9VA', 73),\n",
              " ('90a6z--_CUrl84aCzZyPsg', 69)]"
            ]
          },
          "metadata": {},
          "execution_count": 16
        }
      ]
    },
    {
      "cell_type": "markdown",
      "metadata": {
        "id": "gGY-EjD02WA_"
      },
      "source": [
        "**1.4** Compute histograms of the average user rating in the smaller data set, and the average business rating in the smaller data set. Print the overall mean."
      ]
    },
    {
      "cell_type": "code",
      "metadata": {
        "id": "MYKojxN62WA_",
        "colab": {
          "base_uri": "https://localhost:8080/",
          "height": 864
        },
        "outputId": "b8ea9040-47f8-46cc-df49-c7c68f69a0f9"
      },
      "source": [
        "#your code here\n",
        "print(smalldf[\"stars\"].mean())\n",
        "print(smalldf_spark.map(lambda x:int(x[title[\"stars\"]])).mean())\n",
        "rating_business=smalldf.groupby(\"business_id\")[\"stars\"].mean().reset_index(name='mean') \\\n",
        "                             .sort_values(['mean'], ascending=False)\n",
        "plt.figure(figsize=[12,6])\n",
        "sns.set_style(\"ticks\",{'axes.grid' : True})\n",
        "sns.distplot(rating_business['mean'],kde=False)\n",
        "plt.xlabel(\"business rating\")\n",
        "plt.ylabel(\"frequency\")\n",
        "plt.show()   \n",
        "\n",
        "rating_user=smalldf.groupby(\"user_id\")[\"stars\"].mean().reset_index(name='mean') \\\n",
        "                             .sort_values(['mean'], ascending=False)\n",
        "plt.figure(figsize=[12,6])\n",
        "sns.set_style(\"ticks\",{'axes.grid' : True})\n",
        "sns.distplot(rating_user['mean'],kde=False)\n",
        "plt.xlabel(\"user rating\")\n",
        "plt.ylabel(\"frequency\")\n",
        "plt.show()    "
      ],
      "execution_count": 17,
      "outputs": [
        {
          "output_type": "stream",
          "name": "stdout",
          "text": [
            "3.867639902676399\n",
            "3.8676399026763977\n"
          ]
        },
        {
          "output_type": "stream",
          "name": "stderr",
          "text": [
            "/usr/local/lib/python3.7/dist-packages/seaborn/distributions.py:2619: FutureWarning: `distplot` is a deprecated function and will be removed in a future version. Please adapt your code to use either `displot` (a figure-level function with similar flexibility) or `histplot` (an axes-level function for histograms).\n",
            "  warnings.warn(msg, FutureWarning)\n"
          ]
        },
        {
          "output_type": "display_data",
          "data": {
            "image/png": "[encoded data removed]",
            "text/plain": [
              "<Figure size 864x432 with 1 Axes>"
            ]
          },
          "metadata": {}
        },
        {
          "output_type": "display_data",
          "data": {
            "image/png": "[encoded data removed]",
            "text/plain": [
              "<Figure size 864x432 with 1 Axes>"
            ]
          },
          "metadata": {}
        }
      ]
    },
    {
      "cell_type": "markdown",
      "metadata": {
        "id": "4sMd_RMO2WA_"
      },
      "source": [
        "###Common Support\n",
        "\n",
        "Lets now make a histogram of the common user support (the number of common reviewers) of each pair of restaurants on the smaller set, and print the mean. Pay attention to the code, as you will use parts of it later. (This code takes a bit of time to run, so be patient).\n",
        "\n",
        "The common support is an important concept, as for each pair of restaurants, its the number of people who reviewed both. It will be used to modify similarity between restaurants. If the common support is low, the similarity is less believable."
      ]
    },
    {
      "cell_type": "code",
      "metadata": {
        "id": "cyIKDPNo2WBA",
        "colab": {
          "base_uri": "https://localhost:8080/",
          "height": 376
        },
        "outputId": "1f7174a1-fe89-4728-c5a5-653f42a56151"
      },
      "source": [
        "# restaurants=smalldf.business_id.unique()\n",
        "\n",
        "restaurants = list(set(smalldf_spark.map(lambda x:x[title[\"business_id\"]]).collect()))\n",
        "print(len(restaurants))\n",
        "supports=[]\n",
        "for i,rest1 in enumerate(restaurants):\n",
        "    #rest1_reviewers =  smalldf_spark.filter(lambda x:x[title[\"business_id\"]]==rest1).map(lambda x:x[title[\"user_id\"]]).distinct().collect()\n",
        "    rest1_reviewers = smalldf[smalldf.business_id==rest1].user_id.unique() \n",
        "    for j,rest2 in enumerate(restaurants):\n",
        "        if  i < j:\n",
        "                \n",
        "            ###smalldf[smalldf.business_id==rest1].user_id.unique()\n",
        "            #rest2_reviewers =  smalldf_spark.filter(lambda x:x[title[\"business_id\"]]==rest2).map(lambda x:x[title[\"user_id\"]]).distinct().collect()         \n",
        "            rest2_reviewers = smalldf[smalldf.business_id==rest2].user_id.unique()\n",
        "            common_reviewers = set(rest1_reviewers).intersection(rest2_reviewers)\n",
        "            supports.append(len(common_reviewers))\n",
        "print (\"Mean support is:\",np.mean(supports))\n",
        "plt.hist(supports)"
      ],
      "execution_count": 18,
      "outputs": [
        {
          "output_type": "stream",
          "name": "stdout",
          "text": [
            "172\n",
            "Mean support is: 6.846797225622195\n"
          ]
        },
        {
          "output_type": "execute_result",
          "data": {
            "text/plain": [
              "(array([7.020e+03, 4.987e+03, 1.794e+03, 5.900e+02, 1.950e+02, 7.600e+01,\n",
              "        2.200e+01, 1.000e+01, 1.000e+01, 2.000e+00]),\n",
              " array([ 0. ,  5.1, 10.2, 15.3, 20.4, 25.5, 30.6, 35.7, 40.8, 45.9, 51. ]),\n",
              " <a list of 10 Patch objects>)"
            ]
          },
          "metadata": {},
          "execution_count": 18
        },
        {
          "output_type": "display_data",
          "data": {
            "image/png": "[encoded data removed]",
            "text/plain": [
              "<Figure size 432x288 with 1 Axes>"
            ]
          },
          "metadata": {}
        }
      ]
    },
    {
      "cell_type": "markdown",
      "metadata": {
        "id": "rAl2bQJq2WBA"
      },
      "source": [
        "As you can see, even though we chose a subset of the dataframe in which every restaurant had 150 reviews and every user had atleast made 60, the common support of most pairs of restaurants is really low, indeed less than 10!."
      ]
    },
    {
      "cell_type": "markdown",
      "metadata": {
        "id": "cc_p2UZI2WBA"
      },
      "source": [
        "### Calculating Similarity"
      ]
    },
    {
      "cell_type": "markdown",
      "metadata": {
        "id": "FGNQgnSG2WBA"
      },
      "source": [
        "Users rate restaurants on a scale of 1-5. Even though this rating is integer valued, for the purposes of this assignment we shall treat it as a real number.\n",
        "\n",
        "Even though each reviewer uses the same 5-star scale when rating restaurants, comparing two users by comparing their raw user ratings can be problematic. Consider a user whose average rating is 2. This is a curmudgeonly user. Consider another whose average rating is 4. This is a rather enthusiastic one. How should we compare a 3 rating by the curmudgeonly one to a 5 rating of the enthusiastic one?\n",
        "\n",
        "It is for this purpose that we must subtract the average rating of the user from the actual rating of the restaurants in computing the similarity of two restaurants. This makes the above ratings by the two users comparable. We do this in the function `pearson_sim` defined below.\n",
        "\n",
        "If there is no common support (`n_common=0`), we have no basis for making a similarity estimate, and so we set the similarity to 0. In the case that the individual restaurant rating variance is 0, such as in the case where there is only one common reviewer (`n_common=1`), we return the `NaN` that the scipy `pearsonr` returns. We will deal with it soon,"
      ]
    },
    {
      "cell_type": "code",
      "metadata": {
        "id": "w4OoJu1Z2WBA"
      },
      "source": [
        "from scipy.stats.stats import pearsonr\n",
        "def pearson_sim(rest1_reviews, rest2_reviews, n_common):\n",
        "    \"\"\"\n",
        "    Given a subframe of restaurant 1 reviews and a subframe of restaurant 2 reviews,\n",
        "    where the reviewers are those who have reviewed both restaurants, return \n",
        "    the pearson correlation coefficient between the user average subtracted ratings.\n",
        "    The case for zero common reviewers is handled separately. Its\n",
        "    ok to return a NaN if any of the individual variances are 0.\n",
        "    \"\"\"\n",
        "    if n_common<=1:\n",
        "        rho=0.\n",
        "    else:\n",
        "        diff1=rest1_reviews['stars']-rest1_reviews['user_avg']\n",
        "        diff2=rest2_reviews['stars']-rest2_reviews['user_avg']\n",
        "        rho=pearsonr(diff1, diff2)[0]\n",
        "    return rho"
      ],
      "execution_count": 19,
      "outputs": []
    },
    {
      "cell_type": "markdown",
      "metadata": {
        "id": "9PCnB8zv2WBB"
      },
      "source": [
        "The function `get_restaurant_reviews` defined below takes a restaurant `business_id` and a set of users, and returns the reviews of that restaurant by those users. You will use this function in calculating a similarity function, in **1.5**."
      ]
    },
    {
      "cell_type": "code",
      "metadata": {
        "id": "oPpY_T1_2WBB"
      },
      "source": [
        "def get_restaurant_reviews(restaurant_id, df, set_of_users):\n",
        "    \"\"\"\n",
        "    given a resturant id and a set of reviewers, return the sub-dataframe of their\n",
        "    reviews.\n",
        "    \"\"\"\n",
        "    mask = (df.user_id.isin(set_of_users)) & (df.business_id==restaurant_id)\n",
        "    reviews = df[mask]\n",
        "    reviews = reviews[reviews.user_id.duplicated()==False]\n",
        "    return reviews"
      ],
      "execution_count": 20,
      "outputs": []
    },
    {
      "cell_type": "markdown",
      "metadata": {
        "id": "pKBrBsmd2WBB"
      },
      "source": [
        "**1.5** Write a function `calculate_similarity` that operates between two restaurants and calculates a similarity for them, taking a dataframe and a similarity function `similarity_func`. An example of the `similarity_func` is the `pearson_sim` we defined above. `calculate_similarity` operates as follows: \n",
        "\n",
        "1. For each of the two restaurants, get the set of reviewers who have reviewed the restaurant and compute the intersection of these two sets. Also compute the number of common reviewers `n_common`.\n",
        "\n",
        "2. Use the function `get_restaurant_reviews` defined below to get the reviews for each restaurant as made by these common reviewers. Notice that `get_restaurant_reviews` returns a sub data frame of reviews.\n",
        "\n",
        "3. Calculate the similarity using `similarity_func` which takes the two reviews dataframes from part 2 and the number of common reviewers `n_common` as arguments\n",
        "\n",
        "4. Return the similarity and `n_common` in a tuple `(sim, n_common)`. If the similarity is a `NaN`, set the similarity to 0.\n"
      ]
    },
    {
      "cell_type": "code",
      "metadata": {
        "id": "qcmPq6ZC2WBC"
      },
      "source": [
        "\"\"\"\n",
        "Function\n",
        "--------\n",
        "calculate_similarity\n",
        "\n",
        "Parameters\n",
        "----------\n",
        "rest1 : string\n",
        "    The id of restaurant 1\n",
        "rest2 : string\n",
        "    The id of restaurant 2\n",
        "df : DataFrame\n",
        "  A dataframe of reviews, such as the smalldf above\n",
        "similarity_func : func\n",
        "  A function like pearson_sim above which takes two dataframes of individual\n",
        "  restaurant reviews made by a common set of reviewers, and the number of\n",
        "  common reviews. This function returns the similarity of the two restaurants\n",
        "  based on the common reviews.\n",
        "  \n",
        "Returns\n",
        "--------\n",
        "A tuple\n",
        "  The first element of the tuple is the similarity and the second the\n",
        "  common support n_common. If the similarity is a NaN, set it to 0\n",
        "\"\"\"\n",
        "#your code here\n",
        "def calculate_similarity(rest1,rest2,df,similarity_func):\n",
        "   a1 = df[df.business_id==rest1].user_id.unique()\n",
        "   a2 = df[df.business_id==rest2].user_id.unique()\n",
        "   common_user = set(a1).intersection(a2) \n",
        "   n_common =len(common_user)\n",
        "\n",
        "   d1= get_restaurant_reviews(rest1, df, common_user)\n",
        "   d2= get_restaurant_reviews(rest2, df, common_user)\n",
        "\n",
        "   sim =similarity_func(d1,d2, n_common)\n",
        "\n",
        "\n",
        "   if sim==np.nan:\n",
        "     return (0,n_common)\n",
        "   else:\n",
        "     return (sim,n_common)\n"
      ],
      "execution_count": 21,
      "outputs": []
    },
    {
      "cell_type": "markdown",
      "metadata": {
        "id": "beg9j6r22WBC"
      },
      "source": [
        "### Making a database of similarities\n",
        "\n",
        "We now move to calculating a global database of pairwise restaurant similarities.\n",
        "We provide you here with a function to make a database of the similarities for each pair of restaurants in the database. The class `Database` is initialized in its constructor by taking as arguments a dataframe of reviews. The method `populate_by calculating` iterates over every possible pair of business_id's in the dataframe and populates the database with similarities and common supports. It takes as arguments a function the similarity function `similarity_func` like `pearson_sim` (`calculate_similarity` then uses this to calculate the similarity). The `get` method on the database can be used to retrieve the similarity for two business ids."
      ]
    },
    {
      "cell_type": "markdown",
      "metadata": {
        "id": "SldahtUj2WBC"
      },
      "source": [
        "(See Thu Oct 17th's class video for information about classes)"
      ]
    },
    {
      "cell_type": "code",
      "metadata": {
        "id": "qmPbWsYp2WBC"
      },
      "source": [
        "class Database:\n",
        "    \"A class representing a database of similaries and common supports\"\n",
        "    \n",
        "    def __init__(self, df):\n",
        "        \"the constructor, takes a reviews dataframe like smalldf as its argument\"\n",
        "        database={}\n",
        "        self.df=df\n",
        "        self.uniquebizids={v:k for (k,v) in enumerate(df.business_id.unique())}\n",
        "        keys=self.uniquebizids.keys()\n",
        "        l_keys=len(keys)\n",
        "        self.database_sim=np.zeros([l_keys,l_keys])\n",
        "        self.database_sup=np.zeros([l_keys, l_keys], dtype=np.int)\n",
        "        \n",
        "    def populate_by_calculating(self, similarity_func):\n",
        "        \"\"\"\n",
        "        a populator for every pair of businesses in df. takes similarity_func like\n",
        "        pearson_sim as argument\n",
        "        \"\"\"\n",
        "        items=self.uniquebizids.items()\n",
        "        for b1, i1 in items:\n",
        "            for b2, i2 in items:\n",
        "                if i1 < i2:\n",
        "                    sim, nsup=calculate_similarity(b1, b2, self.df, similarity_func)\n",
        "                    self.database_sim[i1][i2]=sim\n",
        "                    self.database_sim[i2][i1]=sim\n",
        "                    self.database_sup[i1][i2]=nsup\n",
        "                    self.database_sup[i2][i1]=nsup\n",
        "                elif i1==i2:\n",
        "                    nsup=self.df[self.df.business_id==b1].user_id.count()\n",
        "                    self.database_sim[i1][i1]=1.\n",
        "                    self.database_sup[i1][i1]=nsup\n",
        "                    \n",
        "\n",
        "    def get(self, b1, b2):\n",
        "        \"returns a tuple of similarity,common_support given two business ids\"\n",
        "        sim=self.database_sim[self.uniquebizids[b1]][self.uniquebizids[b2]]\n",
        "        nsup=self.database_sup[self.uniquebizids[b1]][self.uniquebizids[b2]]\n",
        "        return (sim, nsup)"
      ],
      "execution_count": 22,
      "outputs": []
    },
    {
      "cell_type": "markdown",
      "metadata": {
        "id": "jQgpvx9z2WBD"
      },
      "source": [
        "Lets run `make_database` and store the result in the global variable `db`. Lets print out an example entry. Running this function will take a bit of time."
      ]
    },
    {
      "cell_type": "code",
      "metadata": {
        "id": "CWotsln82WBD",
        "colab": {
          "base_uri": "https://localhost:8080/"
        },
        "outputId": "30212d3e-dce6-4d90-f6a4-c063add93d20"
      },
      "source": [
        "db=Database(smalldf)\n",
        "db.populate_by_calculating(pearson_sim)"
      ],
      "execution_count": 23,
      "outputs": [
        {
          "output_type": "stream",
          "name": "stderr",
          "text": [
            "/usr/local/lib/python3.7/dist-packages/scipy/stats/stats.py:3508: PearsonRConstantInputWarning: An input array is constant; the correlation coefficent is not defined.\n",
            "  warnings.warn(PearsonRConstantInputWarning())\n",
            "/usr/local/lib/python3.7/dist-packages/scipy/stats/stats.py:3508: PearsonRConstantInputWarning: An input array is constant; the correlation coefficent is not defined.\n",
            "  warnings.warn(PearsonRConstantInputWarning())\n"
          ]
        }
      ]
    },
    {
      "cell_type": "code",
      "metadata": {
        "id": "OCUXoc5k2WBD",
        "colab": {
          "base_uri": "https://localhost:8080/"
        },
        "outputId": "9878b042-4fb2-4557-ff9f-244a2b93130e"
      },
      "source": [
        "db.get(\"z3yFuLVrmH-3RJruPEMYKw\", \"zruUQvFySeXyEd7_rQixBg\")"
      ],
      "execution_count": 24,
      "outputs": [
        {
          "output_type": "execute_result",
          "data": {
            "text/plain": [
              "(0.3990455452573456, 7)"
            ]
          },
          "metadata": {},
          "execution_count": 24
        }
      ]
    },
    {
      "cell_type": "markdown",
      "metadata": {
        "id": "1qvRHsop2WBD"
      },
      "source": [
        "### K-Nearest restaurants (in similarity)"
      ]
    },
    {
      "cell_type": "markdown",
      "metadata": {
        "id": "BEwvWLvW2WBD"
      },
      "source": [
        "We are now going to find the k-nearest restaurants to a given restaurant based on the database of similarities that we calculated. But we have a problem.\n",
        "\n",
        "Consider the two cases where there is just one common reviewer, and where there are 40. In the former case, we might get a artificially high similarity based on the tastes of just this user, and thus we must reduce its importance in the nearest-neighbor calculation. In the latter case, we would get a much more unbiased estimator of the similarity of the two restaurants.\n",
        "\n",
        "To control the effect of small common supports, we can **shrink** our pearson co-efficients. We shall do this by using the \"regularization\" parameter `reg`:\n",
        "\n",
        "$$s_{mj} = \\frac{N_{common}\\, \\rho_{mj}}{N_{common}+reg} $$\n",
        "\n",
        "where $N_{common}$ (`n_common`) is the common reviewer support and $\\rho_{ij}$ is the pearson co-relation coefficient.\n",
        "\n",
        "Recall the notions of regularization introduced in class. We want to reduce the variance in our estimates, so we pull our estimates in toward a conservative point in a way that strongly corrals in estimates when there is very little data, but allows the data to speak when there is a lot. This can be shown as equivalent to adding in a `reg` amount of bayesian prior, as Joe has alluded to in class. \n",
        "\n",
        "A good value of the regularizer is intuitively one that doesn't affect the similarity when the common support is high ~10, but has a large effect when the support is small. In this case, values of 2-4 are good. Usually, the value of `reg` is determined using cross-validation, but for the sake of simplicity we will generally set it to 3.\n",
        "\n",
        "We define a function `shrunk_sim` which takes the `sim` and `n_common` obtained from the database, and shrinks the similarity down using the regularizer `reg`."
      ]
    },
    {
      "cell_type": "code",
      "metadata": {
        "id": "UcQ3byZu2WBE"
      },
      "source": [
        "def shrunk_sim(sim, n_common, reg=3.):\n",
        "    \"takes a similarity and shrinks it down by using the regularizer\"\n",
        "    ssim=(n_common*sim)/(n_common+reg)\n",
        "    return ssim"
      ],
      "execution_count": 25,
      "outputs": []
    },
    {
      "cell_type": "markdown",
      "metadata": {
        "id": "VyU4dc3Q2WBE"
      },
      "source": [
        "**1.6** Now we can move to writing a `knearest` function, which finds the `k` nearest neighbors of a given restaurant based on the shrunk similarities we calculate. Note that as defined here, the nearest neighbors are global over the entire set of restaurants, as opposed to being restricted to the restaurants a user has reviewed(we shall do that in the next problem). Thus, this is an expensive function!\n",
        "\n",
        "Write a `knearest` that returns a *k-length sorted list* of 3-tuples each corresponding to a restaurant. The tuple structure is `(business_id, shrunken similarity score, common support)` where the similarity score and common support are with respect to the restaurant whose neighbors we are finding, and the `business_id` is the id of the \"nearby\" restaurant found. The nearby restaurants are found from a supplied numpy array of restaurants `set_of_restaurants`. The spec for the function is given below. HINT: use `itemgetter` from the `operator` module to do the sorting."
      ]
    },
    {
      "cell_type": "code",
      "metadata": {
        "id": "xN6_TuxP2WBE"
      },
      "source": [
        "\"\"\"\n",
        "Function\n",
        "--------\n",
        "knearest\n",
        "\n",
        "Parameters\n",
        "----------\n",
        "restaurant_id : string\n",
        "    The id of the restaurant whose nearest neighbors we want\n",
        "set_of_restaurants : array\n",
        "    The set of restaurants from which we want to find the nearest neighbors\n",
        "dbase : instance of Database class.\n",
        "    A database of similarities, on which the get method can be used to get the similarity\n",
        "  of two businessed. e.g. dbase.get(rid1,rid2)\n",
        "k : int\n",
        "    the number of nearest neighbors desired, default 7\n",
        "reg: float\n",
        "    the regularization.\n",
        "    \n",
        "  \n",
        "Returns\n",
        "--------\n",
        "A sorted list\n",
        "    of the top k similar restaurants. The list is a list of tuples\n",
        "    (business_id, shrunken similarity, common support).\n",
        "\"\"\"\n",
        "#your code here\n",
        "\n",
        "def knearest(restaurant_id,set_of_restaurants,dbase,reg=3.,k=7):\n",
        "  sorting=[]\n",
        "  for res in list(set_of_restaurants):\n",
        "    if restaurant_id!=res:\n",
        "     sim,n_common= dbase.get(restaurant_id,res)\n",
        "     sim= shrunk_sim(sim, n_common, reg)\n",
        "     sorting.append((res,sim,n_common))\n",
        "  sorted_by_second = sorted(sorting, key=lambda tup: -tup[1])\n",
        "  return sorted_by_second[0:k]"
      ],
      "execution_count": 26,
      "outputs": []
    },
    {
      "cell_type": "markdown",
      "metadata": {
        "id": "axS_8O5k2WBE"
      },
      "source": [
        "### Ok it's time to recommend!\n",
        "\n",
        "Lets choose the two very different businesses in the dataframe"
      ]
    },
    {
      "cell_type": "code",
      "metadata": {
        "id": "EB3oQgRo2WBF"
      },
      "source": [
        "testbizid=\"eIxSLxzIlfExI6vgAbn2JA\"\n",
        "testbizid2=\"L-uPZxooP_ziXCtRrWi8Pw\""
      ],
      "execution_count": 27,
      "outputs": []
    },
    {
      "cell_type": "markdown",
      "metadata": {
        "id": "88alrcHy2WBF"
      },
      "source": [
        "We provide functions to look up a business name given a business id, and a username given a user id."
      ]
    },
    {
      "cell_type": "code",
      "metadata": {
        "id": "aExg3qac2WBF"
      },
      "source": [
        "def biznamefromid(df, theid):\n",
        "    return df['biz_name'][df['business_id']==theid].values[0]\n",
        "def usernamefromid(df, theid):\n",
        "    return df['user_name'][df['user_id']==theid].values[0]"
      ],
      "execution_count": 28,
      "outputs": []
    },
    {
      "cell_type": "code",
      "metadata": {
        "id": "IiQ_sHXx2WBF",
        "colab": {
          "base_uri": "https://localhost:8080/"
        },
        "outputId": "70acec41-f630-4f0b-bcd0-f368ae10c7d2"
      },
      "source": [
        "print (testbizid, biznamefromid(smalldf,testbizid))\n",
        "print (testbizid2, biznamefromid(smalldf, testbizid2))"
      ],
      "execution_count": 29,
      "outputs": [
        {
          "output_type": "stream",
          "name": "stdout",
          "text": [
            "eIxSLxzIlfExI6vgAbn2JA Lobbys Beef Burgers Dogs\n",
            "L-uPZxooP_ziXCtRrWi8Pw Café Monarch\n"
          ]
        }
      ]
    },
    {
      "cell_type": "markdown",
      "metadata": {
        "id": "-03bZO-a2WBF"
      },
      "source": [
        "####Get top matches\n",
        "\n",
        "Its now time to answer the question: \"if you liked this, you might also like these\". We use our `testbizid` and `testbizid2` to compute the `k=7` nearest neighbors with a regularization of `3.` . We print these top 7 matches names, along with their similarity coefficient and common support."
      ]
    },
    {
      "cell_type": "code",
      "metadata": {
        "id": "VAxmaEiQ2WBF",
        "colab": {
          "base_uri": "https://localhost:8080/"
        },
        "outputId": "388fa0d5-6b75-4064-f858-f676b66a6627"
      },
      "source": [
        "tops=knearest(testbizid, smalldf.business_id.unique(), db, k=7, reg=3.)\n",
        "print (\"For \",biznamefromid(smalldf, testbizid), \", top matches are:\")\n",
        "for i, (biz_id, sim, nc) in enumerate(tops):\n",
        "    \n",
        "    print (i,biznamefromid(smalldf,biz_id), \"| Sim\", sim, \"| Support\",nc)"
      ],
      "execution_count": 30,
      "outputs": [
        {
          "output_type": "stream",
          "name": "stdout",
          "text": [
            "For  Lobbys Beef Burgers Dogs , top matches are:\n",
            "0 La Condesa Gourmet Taco Shop | Sim 0.598714448433877 | Support 6\n",
            "1 Citizen Public House | Sim 0.5714285714285714 | Support 4\n",
            "2 FnB | Sim 0.5271298909432433 | Support 5\n",
            "3 Defalco's Italian Grocery | Sim 0.5194565556584358 | Support 6\n",
            "4 Republic Ramen + Noodles | Sim 0.5191401469365293 | Support 5\n",
            "5 unPhogettable | Sim 0.5 | Support 3\n",
            "6 Haus Murphy's | Sim 0.4676372353077225 | Support 3\n"
          ]
        }
      ]
    },
    {
      "cell_type": "code",
      "metadata": {
        "id": "jNao5U2M2WBF",
        "colab": {
          "base_uri": "https://localhost:8080/"
        },
        "outputId": "d6714dc5-604e-4f2c-f95c-430fe610126b"
      },
      "source": [
        "tops2=knearest(testbizid2, smalldf.business_id.unique(), db, k=7, reg=3.)\n",
        "print (\"For \",biznamefromid(smalldf, testbizid2), \", top matches are:\")\n",
        "for i, (biz_id, sim, nc) in enumerate(tops2):\n",
        "    print (i,biznamefromid(smalldf,biz_id), \"| Sim\", sim, \"| Support\",nc)"
      ],
      "execution_count": 31,
      "outputs": [
        {
          "output_type": "stream",
          "name": "stdout",
          "text": [
            "For  Café Monarch , top matches are:\n",
            "0 Postino Arcadia | Sim 0.625 | Support 5\n",
            "1 The Main Ingredient Ale House And Café | Sim 0.5714285714285714 | Support 4\n",
            "2 Brio Tuscan Grille | Sim 0.5714285714285714 | Support 4\n",
            "3 Harlow's Cafe | Sim 0.5 | Support 3\n",
            "4 The Fry Bread House | Sim 0.5 | Support 3\n",
            "5 Cien Agaves Tacos & Tequila | Sim 0.5 | Support 3\n",
            "6 Kazimierz World Wine Bar | Sim 0.49999999999999994 | Support 3\n"
          ]
        }
      ]
    },
    {
      "cell_type": "markdown",
      "metadata": {
        "id": "-Iahmk8w2WBG"
      },
      "source": [
        "We can see that these two restaurants are in somewhat different orbits :-)."
      ]
    },
    {
      "cell_type": "markdown",
      "metadata": {
        "id": "mggW1mV02WBG"
      },
      "source": [
        "Lets now turn our attention to another question: what are the top recommendations for a user? To answer this we must find the user's top rated restaurants, find the nearest neighbors of these restaurants, merge these lists while removing the duplicates and the ones that the user has already rated, and sort by the restaurant's average rating. We provide the code to get the user's top choices in a subset data frame."
      ]
    },
    {
      "cell_type": "code",
      "metadata": {
        "id": "wf2h6mmY2WBG",
        "colab": {
          "base_uri": "https://localhost:8080/"
        },
        "outputId": "b0caee10-1ce3-4e6f-d553-9c0beb733169"
      },
      "source": [
        "def get_user_top_choices(user_id, df, numchoices=5):\n",
        "    \"get the sorted top 5 restaurants for a user by the star rating the user gave them\"\n",
        "    udf=df[df.user_id==user_id][['business_id','stars']].sort_values(['stars'], ascending=False).head(numchoices)\n",
        "    return udf\n",
        "testuserid=\"7cR92zkDv4W3kqzii6axvg\"\n",
        "print (\"For user\", usernamefromid(smalldf,testuserid), \"top choices are:\" )\n",
        "bizs=get_user_top_choices(testuserid, smalldf)['business_id'].values\n",
        "[biznamefromid(smalldf, biz_id) for biz_id in bizs]"
      ],
      "execution_count": 32,
      "outputs": [
        {
          "output_type": "stream",
          "name": "stdout",
          "text": [
            "For user Vern top choices are:\n"
          ]
        },
        {
          "output_type": "execute_result",
          "data": {
            "text/plain": [
              "['Tee Pee Mexican Food',\n",
              " 'Local Breeze',\n",
              " \"Carly's Bistro\",\n",
              " 'District American Kitchen and Wine Bar',\n",
              " 'Sonora Mesquite Grill']"
            ]
          },
          "metadata": {},
          "execution_count": 32
        }
      ]
    },
    {
      "cell_type": "markdown",
      "metadata": {
        "id": "NWEzgmhd2WBG"
      },
      "source": [
        "#### Get top recommendations for user."
      ]
    },
    {
      "cell_type": "markdown",
      "metadata": {
        "id": "Y4I5tklb2WBG"
      },
      "source": [
        "**1.7** Its your job now to write a function `get_top_recos_for_user` which takes as arguments a `userid`, the `n` top choices for the user, the dataframe, `k`, and a regularizer, and returns the top recommendations obtained from combining the restaurants that are neighbors of each of the `n` choices, in the way described in the previous paragraph. This returned list is a list of tuples `(restaurant_id, business_avg)` sorted by `business_avg` where `business_avg` is the average rating of the restaurant over the dataframe."
      ]
    },
    {
      "cell_type": "code",
      "metadata": {
        "id": "pmsGKxFS2WBG"
      },
      "source": [
        "\"\"\"\n",
        "Function\n",
        "--------\n",
        "get_top_recos_for_user\n",
        "\n",
        "Parameters\n",
        "----------\n",
        "userid : string\n",
        "    The id of the user for whom we want the top recommendations\n",
        "df : Dataframe\n",
        "    The dataframe of restaurant reviews such as smalldf\n",
        "dbase : instance of Database class.\n",
        "    A database of similarities, on which the get method can be used to get the similarity\n",
        "  of two businesses. e.g. dbase.get(rid1,rid2)\n",
        "n: int\n",
        "    the n top choices of the user by star rating\n",
        "k : int\n",
        "    the number of nearest neighbors desired, default 8\n",
        "reg: float\n",
        "    the regularization.\n",
        "    \n",
        "  \n",
        "Returns\n",
        "--------\n",
        "A sorted list\n",
        "    of the top recommendations. The list is a list of tuples\n",
        "    (business_id, business_avg). You are combining the k-nearest recommendations \n",
        "    for each of the user's n top choices, removing duplicates and the ones the user\n",
        "    has already rated.\n",
        "\"\"\"\n",
        "#your code here\n",
        "def get_top_recos_for_user(userid,df,dbase,n,k,reg):\n",
        "   res = get_user_top_choices(userid, df, numchoices=n)['business_id'].values\n",
        "   set_of_restaurants = df.business_id.unique()\n",
        "   rated = df[df.user_id==userid].business_id.unique()\n",
        "   unrated=[x for x in set_of_restaurants if x not in rated]\n",
        "   output =[]\n",
        "   for i in res:\n",
        "      ans= knearest(i,unrated,dbase,reg,k)\n",
        "      output.extend(ans)\n",
        "   output =[(x[0],df[df.business_id==x[0]].business_avg.iloc[0]) for x in output]\n",
        "   return sorted(output , key=lambda tup: -tup[1])[:n]\n"
      ],
      "execution_count": 33,
      "outputs": []
    },
    {
      "cell_type": "markdown",
      "metadata": {
        "id": "Sko2bjcU2WBH"
      },
      "source": [
        "Lets print the top recommendations for `testuserid`, with a regularization of 3."
      ]
    },
    {
      "cell_type": "code",
      "metadata": {
        "id": "y0WXzWr22WBH",
        "colab": {
          "base_uri": "https://localhost:8080/"
        },
        "outputId": "1bc24114-887f-4f96-97eb-abe43b81240d"
      },
      "source": [
        "print (\"For user\", usernamefromid(smalldf,testuserid), \"the top recommendations are:\")\n",
        "toprecos=get_top_recos_for_user(testuserid, smalldf, db, n=5, k=7, reg=3.)\n",
        "#print(toprecos)\n",
        "#print(smalldf[(smalldf.user_id==\"7cR92zkDv4W3kqzii6axvg\") & (smalldf.business_id==\"z3yFuLVrmH-3RJruPEMYKw\")])\n",
        "for biz_id, biz_avg in toprecos:\n",
        "    print(biznamefromid(smalldf,biz_id), \"| Average Rating |\", biz_avg)"
      ],
      "execution_count": 34,
      "outputs": [
        {
          "output_type": "stream",
          "name": "stdout",
          "text": [
            "For user Vern the top recommendations are:\n",
            "Rokerij | Average Rating | 4.379310344827586\n",
            "Wildfish Seafood Grille | Average Rating | 4.294117647058823\n",
            "Defalco's Italian Grocery | Average Rating | 4.232558139534884\n",
            "Cornish Pasty Company | Average Rating | 4.206896551724138\n",
            "Pappadeaux Seafood Kitchen | Average Rating | 4.185185185185185\n"
          ]
        }
      ]
    },
    {
      "cell_type": "markdown",
      "metadata": {
        "id": "lKnz0cvX2WBH"
      },
      "source": [
        "## Problem 2: A user based recommender with predicted ratings"
      ]
    },
    {
      "cell_type": "markdown",
      "metadata": {
        "id": "AdaIuhY52WBH"
      },
      "source": [
        "This is all very nice. We can provide ratings based on global similarities to a restaurant. However, in many cases this is not enough.\n",
        "\n",
        "For example, it is hard to judge if the above recommendations are any good. In the usual testing paradigm, say that we break the dataframe into train and test. Based on the training set, I am recommended restaurant B. Now, I have rated B, but that information is in the testing set. I have no way of comparing the rating I give B in the testing set, to the similarity computed from the training set that was used to make the recomendation. The best I could do is to compare the average rating of restaurant B in the training set to my rating of restaurant B in the test set. \n",
        "\n",
        "In this section, we shift our focus to more fine-grained predictions about each user, and try to predict what _rating_ a user would give to a restaurant they have never tried before. To do this, we will try to personalize the information we use even further, and only pool information from restaurants that the user has rated.\n",
        "\n",
        "This allows us to return to the original problem of prediction $Y_{um}$ for a restaurant $m$ that user $u$ has never rated before. Using our newly computed similarity metrics, we can modify our original baseline estimate by pulling in information from the user's neighborhood of the restaurant $m$, and predict $Y_{um}$ as:\n",
        "\n",
        "$$ \\hat{Y_{um}} = \\hat Y^{baseline}_{um}\\, + \\,\\frac{\\sum\\limits_{j \\in S^{k}(m;u)} s_{mj} ( Y_{uj} - \\hat Y^{baseline}_{uj} )}{\\sum\\limits_{j \\in S^{k}(m;u)} s_{mj} } $$\n",
        "\n",
        "where $s^{k}(m;u)$ is the $k$ neighbor items of item $m$ which have been rated by user $u$.\n",
        "\n",
        "Now, this is not a particularly good assumption, especially in the situation where a restaurant is new (new item problem) or a user is new (cold start problem), or in the case when there are very few reviewers of a restaurant, or very few reviews by a user respectively. However, one must start somewhere!\n",
        "\n",
        "Notice that in adding in the similarity term, we subtract the baseline estimate from the observed rating of the user's neighbor items."
      ]
    },
    {
      "cell_type": "markdown",
      "metadata": {
        "id": "kAgEUN2m2WBI"
      },
      "source": [
        "###Defining the predicted rating"
      ]
    },
    {
      "cell_type": "markdown",
      "metadata": {
        "id": "Q49Sn_XZ2WBI"
      },
      "source": [
        "**2.1** Write a function `knearest_amongst_userrated`, analogous to the `knearest` function we defined above, to find the nearest `k` neighbors to a given restaurant from the **restaurants that the user has already rated**. This function will take as arguments the `restaurant_id`, the `user_id`, the dataframe of reviews, the database, the `k`, and the regularizer `reg`. Just like before, return a *k-length sorted list* of 3-tuples each corresponding to a restaurant.  HINT: use the `knearest` function you defined earlier"
      ]
    },
    {
      "cell_type": "code",
      "metadata": {
        "id": "dKNVVwaU2WBI"
      },
      "source": [
        "\"\"\"\n",
        "Function\n",
        "--------\n",
        "knearest_amongst_userrated\n",
        "\n",
        "Parameters\n",
        "----------\n",
        "restaurant_id : string\n",
        "    The id of the restaurant whose nearest neighbors we want\n",
        "user_id : string\n",
        "    The id of the user, in whose reviewed restaurants we want to find the neighbors\n",
        "df: Dataframe\n",
        "    The dataframe of reviews such as smalldf\n",
        "dbase : instance of Database class.\n",
        "    A database of similarities, on which the get method can be used to get the similarity\n",
        "  of two businessed. e.g. dbase.get(rid1,rid2)\n",
        "k : int\n",
        "    the number of nearest neighbors desired, default 7\n",
        "reg: float\n",
        "    the regularization.\n",
        "    \n",
        "  \n",
        "Returns\n",
        "--------\n",
        "A sorted list\n",
        "    of the top k similar restaurants. The list is a list of tuples\n",
        "    (business_id, shrunken similarity, common support).\n",
        "\"\"\"\n",
        "#your code here\n",
        "def knearest_amongst_userrated(restaurant_id,user_id,df,dbase,k,reg):\n",
        "   set_of_restaurants = df.business_id.unique()\n",
        "   rated = df[df.user_id==user_id].business_id.unique()\n",
        "   \n",
        "   return knearest(restaurant_id,rated,dbase,reg,k)\n"
      ],
      "execution_count": 44,
      "outputs": []
    },
    {
      "cell_type": "markdown",
      "metadata": {
        "id": "grxpShTu2WBI"
      },
      "source": [
        "**2.2** Now write a function that returns the predicted rating for a user and an item using the formula at the beginning of this problem. Include code to deal with the possibility that the sum of scores that goes in the denominator is 0: return a predicted rating of the baseline portion of the formula in that case. This function `rating` takes as arguments the dataframe, the database, the wanted `restaurant_id` and `user_id`, and `k` as well as the regularizer."
      ]
    },
    {
      "cell_type": "code",
      "metadata": {
        "id": "kUW9YuZL2WBI"
      },
      "source": [
        "\"\"\"\n",
        "Function\n",
        "--------\n",
        "rating\n",
        "\n",
        "Parameters\n",
        "----------\n",
        "df: Dataframe\n",
        "    The dataframe of reviews such as smalldf\n",
        "dbase : instance of Database class.\n",
        "    A database of similarities, on which the get method can be used to get the similarity\n",
        "  of two businessed. e.g. dbase.get(rid1,rid2)\n",
        "restaurant_id : string\n",
        "    The id of the restaurant whose nearest neighbors we want\n",
        "user_id : string\n",
        "    The id of the user, in whose reviewed restaurants we want to find the neighbors\n",
        "k : int\n",
        "    the number of nearest neighbors desired, default 7\n",
        "reg: float\n",
        "    the regularization.\n",
        "    \n",
        "  \n",
        "Returns\n",
        "--------\n",
        "A float\n",
        "    which is the impued rating that we predict that user_id will make for restaurant_id\n",
        "\"\"\"\n",
        "#your code here\n",
        "\n",
        "def rating(df,dbase,restaurant_id,user_id,k,reg):\n",
        "  avg = df[\"stars\"].mean()\n",
        "  user_avg =df[df.user_id==user_id][\"stars\"].mean()\n",
        "  business_avg = df[df.business_id==\"restaurant_id\"][\"stars\"].mean()\n",
        "\n",
        "  est = avg+(user_avg-avg)+(business_avg-avg)\n",
        "  sim = knearest_amongst_userrated(restaurant_id,user_id,df,dbase,k,reg)\n",
        "  \n",
        "  score=0\n",
        "  norm=0\n",
        "\n",
        "  for i in sim:\n",
        "    actual =df[(df.user_id==user_id)&(df.business_id==i[0])][\"stars\"].iloc[0]\n",
        "    est_ = df[df.business_id==i[0]][\"stars\"].mean()\n",
        "    score+= (actual-est_)*i[1]\n",
        "    norm+=i[1]\n",
        " \n",
        "  est+= score/norm\n",
        "  return est\n"
      ],
      "execution_count": 45,
      "outputs": []
    },
    {
      "cell_type": "markdown",
      "metadata": {
        "id": "FO2_CnY42WBJ"
      },
      "source": [
        "For the top-recommendations in the variable `toprecos` from the previous section, we compute the predicted rating and compare it with the average rating over all users available inside the tuples that make up `toprecos`. We use a `k` of 7 and regularization 3. For comparision we also print this users' average rating. Do you notice anything interesting about how the order has changed from when we did this with the global similarities? (for you to think, not to answer)"
      ]
    },
    {
      "cell_type": "code",
      "metadata": {
        "id": "Yqi1qkjX2WBJ",
        "colab": {
          "base_uri": "https://localhost:8080/"
        },
        "outputId": "24a022cc-42ef-41de-c45a-492566cc5890"
      },
      "source": [
        "print (\"User Average\", smalldf[smalldf.user_id==testuserid].stars.mean(),\"for\",usernamefromid(smalldf,testuserid))\n",
        "print (\"Predicted ratings for top choices calculated earlier:\")\n",
        "for biz_id,biz_avg in toprecos:\n",
        "    print (biznamefromid(smalldf, biz_id),\"|\",rating(smalldf, db, biz_id, testuserid, k=7, reg=3.),\"|\",\"Average\",biz_avg)"
      ],
      "execution_count": 46,
      "outputs": [
        {
          "output_type": "stream",
          "name": "stdout",
          "text": [
            "User Average 3.5652173913043477 for Vern\n",
            "Predicted ratings for top choices calculated earlier:\n",
            "Rokerij | nan | Average 4.379310344827586\n",
            "Wildfish Seafood Grille | nan | Average 4.294117647058823\n",
            "Defalco's Italian Grocery | nan | Average 4.232558139534884\n",
            "Cornish Pasty Company | nan | Average 4.206896551724138\n",
            "Pappadeaux Seafood Kitchen | nan | Average 4.185185185185185\n"
          ]
        }
      ]
    },
    {
      "cell_type": "markdown",
      "metadata": {
        "id": "fe5SWAjI2WBJ"
      },
      "source": [
        "###Testing the ratings\n",
        "\n",
        "Let us compare the predicted ratings with a user's ratings. Note that we are doing this on the same set that we constructed the predictions with, so this is not a validation of the procedure, but simply a check of the procedure's fit. We first write a helper function to return the user score for a restaurant, and the restaurant's average score over all users."
      ]
    },
    {
      "cell_type": "code",
      "metadata": {
        "id": "i07IQbul2WBJ"
      },
      "source": [
        "def get_other_ratings(restaurant_id, user_id, df):\n",
        "    \"get a user's rating for a restaurant and the restaurant's average rating\"\n",
        "    choice=df[(df.business_id==restaurant_id) & (df.user_id==user_id)]\n",
        "    users_score=choice.stars.values[0]\n",
        "    average_score=choice.business_avg.values[0]\n",
        "    return users_score, average_score"
      ],
      "execution_count": 47,
      "outputs": []
    },
    {
      "cell_type": "markdown",
      "metadata": {
        "id": "oMVkIall2WBJ"
      },
      "source": [
        "For the user `testuserid`, we loop over the variable `bizs` (which is a set of restaurants the user has rated) and print the predicted rating, and the actual rating and restaurant average rating obtained using the function above. We again use `k=7` and a regularization of 3."
      ]
    },
    {
      "cell_type": "code",
      "metadata": {
        "id": "dlc9CECX2WBJ",
        "colab": {
          "base_uri": "https://localhost:8080/"
        },
        "outputId": "2cf1ad65-c88c-45e2-d8a9-cc695085e60a"
      },
      "source": [
        "print (\"for user\",usernamefromid(smalldf,testuserid), 'avg', smalldf[smalldf.user_id==testuserid].stars.mean())\n",
        "for biz_id in bizs:\n",
        "    print (\"----------------------------------\")\n",
        "    print (biznamefromid(smalldf, biz_id))\n",
        "    print (\"Predicted Rating:\",rating(smalldf, db, biz_id, testuserid, k=7, reg=3.))\n",
        "    u,a=get_other_ratings(biz_id, testuserid, smalldf)\n",
        "    print (\"Actual User Rating:\",u,\"Avg Rating\",a)"
      ],
      "execution_count": 49,
      "outputs": [
        {
          "output_type": "stream",
          "name": "stdout",
          "text": [
            "for user Vern avg 3.5652173913043477\n",
            "----------------------------------\n",
            "Tee Pee Mexican Food\n",
            "Predicted Rating: nan\n",
            "Actual User Rating: 5 Avg Rating 3.0434782608695654\n",
            "----------------------------------\n",
            "Local Breeze\n",
            "Predicted Rating: nan\n",
            "Actual User Rating: 5 Avg Rating 4.0\n",
            "----------------------------------\n",
            "Carly's Bistro\n",
            "Predicted Rating: nan\n",
            "Actual User Rating: 5 Avg Rating 3.5\n",
            "----------------------------------\n",
            "District American Kitchen and Wine Bar\n",
            "Predicted Rating: nan\n",
            "Actual User Rating: 4 Avg Rating 3.5526315789473686\n",
            "----------------------------------\n",
            "Sonora Mesquite Grill\n",
            "Predicted Rating: nan\n",
            "Actual User Rating: 4 Avg Rating 4.384615384615385\n"
          ]
        }
      ]
    }
  ]
}