{
 "cells": [
  {
   "cell_type": "markdown",
   "metadata": {
    "deletable": false,
    "editable": false,
    "nbgrader": {
     "grade": false,
     "grade_id": "cell-86d922c21dd343a2",
     "locked": true,
     "schema_version": 1,
     "solution": false
    }
   },
   "source": [
    "# Problem 1: Boozy Containers\n",
    "\n",
    "This problem is a review of Python's built-in _[container data structures](https://docs.python.org/3/tutorial/datastructures.html)_, or simply, _containers_. These include lists, sets, tuples, and dictionaries.\n",
    "\n",
    "Below, there are four (4) exercises, numbered 0-3, which relate to basic principles of using containers. They are worth a total of ten (10) points."
   ]
  },
  {
   "cell_type": "markdown",
   "metadata": {
    "deletable": false,
    "editable": false,
    "nbgrader": {
     "grade": false,
     "grade_id": "cell-3a6ab6e2ad9ce620",
     "locked": true,
     "schema_version": 1,
     "solution": false
    }
   },
   "source": [
    "## The dataset: Student alcohol consumption"
   ]
  },
  {
   "cell_type": "markdown",
   "metadata": {
    "deletable": false,
    "editable": false,
    "nbgrader": {
     "grade": false,
     "grade_id": "cell-5c5cc39c6a08ef59",
     "locked": true,
     "schema_version": 1,
     "solution": false
    }
   },
   "source": [
    "The data files for this problem pertain to a study of [student alcohol consumption](https://www.kaggle.com/uciml/student-alcohol-consumption) and its effects on academic performance. The following cell downloads these files (if they aren't already available)."
   ]
  },
  {
   "cell_type": "code",
   "execution_count": 1,
   "metadata": {
    "deletable": false,
    "editable": false,
    "nbgrader": {
     "grade": false,
     "grade_id": "cell-894e9e960bf82dd6",
     "locked": true,
     "schema_version": 1,
     "solution": false
    }
   },
   "outputs": [
    {
     "name": "stdout",
     "output_type": "stream",
     "text": [
      "'student-mat.csv' is ready!\n",
      "'student-por.csv' is ready!\n",
      "\n",
      "(All data appears to be ready.)\n"
     ]
    }
   ],
   "source": [
    "import requests\n",
    "import os\n",
    "import hashlib\n",
    "import io\n",
    "\n",
    "def download(file, url_suffix=None, checksum=None):\n",
    "    if url_suffix is None:\n",
    "        url_suffix = file\n",
    "        \n",
    "    if not os.path.exists(file):\n",
    "        if os.path.exists('.voc'):\n",
    "            url = 'https://cse6040.gatech.edu/datasets/{}'.format(url_suffix)\n",
    "        else:\n",
    "            url = 'https://github.com/cse6040/labs-fa17/raw/master/datasets/{}'.format(url_suffix)\n",
    "        print(\"Downloading: {} ...\".format(url))\n",
    "        r = requests.get(url)\n",
    "        with open(file, 'w', encoding=r.encoding) as f:\n",
    "            f.write(r.text)\n",
    "            \n",
    "    if checksum is not None:\n",
    "        with io.open(file, 'r', encoding='utf-8', errors='replace') as f:\n",
    "            body = f.read()\n",
    "            body_checksum = hashlib.md5(body.encode('utf-8')).hexdigest()\n",
    "            assert body_checksum == checksum, \\\n",
    "                \"Downloaded file '{}' has incorrect checksum: '{}' instead of '{}'\".format(file, body_checksum, checksum)\n",
    "    \n",
    "    print(\"'{}' is ready!\".format(file))\n",
    "    \n",
    "datasets = {'student-mat.csv': '83dc97a218a3055f51cfca1e76b29036',\n",
    "            'student-por.csv': 'c5fe725d1436c73e5bc16fe8c2618bf9'}\n",
    "\n",
    "for filename, checksum in datasets.items():\n",
    "    download(filename, url_suffix='ksac/{}'.format(filename), checksum=checksum)\n",
    "    \n",
    "print(\"\\n(All data appears to be ready.)\")"
   ]
  },
  {
   "cell_type": "markdown",
   "metadata": {
    "deletable": false,
    "editable": false,
    "nbgrader": {
     "grade": false,
     "grade_id": "cell-18b04fa5827cdbd6",
     "locked": true,
     "schema_version": 1,
     "solution": false
    }
   },
   "source": [
    "Here is some code to show you the first few lines of each file:"
   ]
  },
  {
   "cell_type": "code",
   "execution_count": 2,
   "metadata": {
    "deletable": false,
    "editable": false,
    "nbgrader": {
     "grade": false,
     "grade_id": "cell-5d132b75c67a91a0",
     "locked": true,
     "schema_version": 1,
     "solution": false
    }
   },
   "outputs": [
    {
     "name": "stdout",
     "output_type": "stream",
     "text": [
      "\n",
      "=== First 5 lines of: 'student-mat.csv' ===\n",
      "\n",
      "[0] school,sex,age,address,famsize,Pstatus,Medu,Fedu,Mjob,Fjob,reason,guardian,traveltime,studytime,failures,schoolsup,famsup,paid,activities,nursery,higher,internet,romantic,famrel,freetime,goout,Dalc,Walc,health,absences,G1,G2,G3\n",
      "[1] GP,F,18,U,GT3,A,4,4,at_home,teacher,course,mother,2,2,0,yes,no,no,no,yes,yes,no,no,4,3,4,1,1,3,6,5,6,6\n",
      "[2] GP,F,17,U,GT3,T,1,1,at_home,other,course,father,1,2,0,no,yes,no,no,no,yes,yes,no,5,3,3,1,1,3,4,5,5,6\n",
      "[3] GP,F,15,U,LE3,T,1,1,at_home,other,other,mother,1,2,3,yes,no,yes,no,yes,yes,yes,no,4,3,2,2,3,3,10,7,8,10\n",
      "[4] GP,F,15,U,GT3,T,4,2,health,services,home,mother,1,3,0,no,yes,yes,yes,yes,yes,yes,yes,3,2,2,1,1,5,2,15,14,15\n",
      ".\n",
      ".\n",
      ".\n",
      "\n",
      "=== First 5 lines of: 'student-por.csv' ===\n",
      "\n",
      "[0] school,sex,age,address,famsize,Pstatus,Medu,Fedu,Mjob,Fjob,reason,guardian,traveltime,studytime,failures,schoolsup,famsup,paid,activities,nursery,higher,internet,romantic,famrel,freetime,goout,Dalc,Walc,health,absences,G1,G2,G3\n",
      "[1] GP,F,18,U,GT3,A,4,4,at_home,teacher,course,mother,2,2,0,yes,no,no,no,yes,yes,no,no,4,3,4,1,1,3,4,0,11,11\n",
      "[2] GP,F,17,U,GT3,T,1,1,at_home,other,course,father,1,2,0,no,yes,no,no,no,yes,yes,no,5,3,3,1,1,3,2,9,11,11\n",
      "[3] GP,F,15,U,LE3,T,1,1,at_home,other,other,mother,1,2,0,yes,no,no,no,yes,yes,yes,no,4,3,2,2,3,3,6,12,13,12\n",
      "[4] GP,F,15,U,GT3,T,4,2,health,services,home,mother,1,3,0,no,yes,no,yes,yes,yes,yes,yes,3,2,2,1,1,5,0,14,14,14\n",
      ".\n",
      ".\n",
      ".\n"
     ]
    }
   ],
   "source": [
    "def dump_head(filename, max_lines=5):\n",
    "    from sys import stdout\n",
    "    from math import log10, floor\n",
    "    lines = []\n",
    "    with open(filename) as fp:\n",
    "        for _ in range(max_lines):\n",
    "            lines.append(fp.readline())\n",
    "    stdout.write(\"\\n=== First {} lines of: '{}' ===\\n\\n\".format(max_lines, filename))\n",
    "    for line_num, text in enumerate(lines):\n",
    "        fmt = \"[{{:0{}d}}] {{}}\".format(floor(log10(max_lines))+1)\n",
    "        stdout.write(fmt.format(line_num, text))\n",
    "    stdout.write('.\\n.\\n.\\n')\n",
    "\n",
    "dump_head('student-mat.csv');\n",
    "dump_head('student-por.csv');"
   ]
  },
  {
   "cell_type": "markdown",
   "metadata": {
    "deletable": false,
    "editable": false,
    "nbgrader": {
     "grade": false,
     "grade_id": "cell-a154bbd1c81c43e6",
     "locked": true,
     "schema_version": 1,
     "solution": false
    }
   },
   "source": [
    "**What is this data?** Each of the two file fragments shown above is in _comma-separated values (CSV) format_. Each encodes a data table about students, their alcohol consumption, test scores, and other demographic attributes, as explained later.\n",
    "\n",
    "The first row is a list of column headings, separated by commas. These are the attributes.\n",
    "\n",
    "Each subsequent row corresponds to the data for a particular student.\n",
    "\n",
    "The numbers in brackets (e.g., `[0]`, `[1]`) are only line numbers and do not exist in the actual file.\n",
    "\n",
    "Of the two files, the first is data for a math class; the second file is for a Portuguese language class."
   ]
  },
  {
   "cell_type": "markdown",
   "metadata": {
    "deletable": false,
    "editable": false,
    "nbgrader": {
     "grade": false,
     "grade_id": "cell-5e54402e19732d97",
     "locked": true,
     "schema_version": 1,
     "solution": false
    }
   },
   "source": [
    "The `read_csv()` function, below, will read in these files using Python's [`csv` module](https://docs.python.org/3/library/csv.html).\n",
    "\n",
    "The important detail is that this function returns two lists: a list of the column names, `header`, and a list of lists, named `data_rows`, which holds the rows. In particular, `data_rows[i]` is a list of the values that appear in the `i`-th data row, which you can see by comparing the sample output below to the raw file data above."
   ]
  },
  {
   "cell_type": "code",
   "execution_count": 3,
   "metadata": {
    "deletable": false,
    "editable": false,
    "nbgrader": {
     "grade": false,
     "grade_id": "cell-79b0b29d84474514",
     "locked": true,
     "schema_version": 1,
     "solution": false
    }
   },
   "outputs": [
    {
     "name": "stdout",
     "output_type": "stream",
     "text": [
      "=== Math data ===\n",
      "\n",
      "--> Header (33 columns): ['school', 'sex', 'age', 'address', 'famsize', 'Pstatus', 'Medu', 'Fedu', 'Mjob', 'Fjob', 'reason', 'guardian', 'traveltime', 'studytime', 'failures', 'schoolsup', 'famsup', 'paid', 'activities', 'nursery', 'higher', 'internet', 'romantic', 'famrel', 'freetime', 'goout', 'Dalc', 'Walc', 'health', 'absences', 'G1', 'G2', 'G3']\n",
      "\n",
      "--> First 5 of 395 rows:\n",
      "Row 0: ['GP', 'F', '18', 'U', 'GT3', 'A', '4', '4', 'at_home', 'teacher', 'course', 'mother', '2', '2', '0', 'yes', 'no', 'no', 'no', 'yes', 'yes', 'no', 'no', '4', '3', '4', '1', '1', '3', '6', '5', '6', '6']\n",
      "Row 1: ['GP', 'F', '17', 'U', 'GT3', 'T', '1', '1', 'at_home', 'other', 'course', 'father', '1', '2', '0', 'no', 'yes', 'no', 'no', 'no', 'yes', 'yes', 'no', '5', '3', '3', '1', '1', '3', '4', '5', '5', '6']\n",
      "Row 2: ['GP', 'F', '15', 'U', 'LE3', 'T', '1', '1', 'at_home', 'other', 'other', 'mother', '1', '2', '3', 'yes', 'no', 'yes', 'no', 'yes', 'yes', 'yes', 'no', '4', '3', '2', '2', '3', '3', '10', '7', '8', '10']\n",
      "Row 3: ['GP', 'F', '15', 'U', 'GT3', 'T', '4', '2', 'health', 'services', 'home', 'mother', '1', '3', '0', 'no', 'yes', 'yes', 'yes', 'yes', 'yes', 'yes', 'yes', '3', '2', '2', '1', '1', '5', '2', '15', '14', '15']\n",
      "Row 4: ['GP', 'F', '16', 'U', 'GT3', 'T', '3', '3', 'other', 'other', 'home', 'father', '1', '2', '0', 'no', 'yes', 'yes', 'no', 'yes', 'yes', 'no', 'no', '4', '3', '2', '1', '2', '5', '4', '6', '10', '10']\n"
     ]
    }
   ],
   "source": [
    "def read_csv(filename):\n",
    "    with open(filename) as fp:\n",
    "        from csv import reader\n",
    "        data_rows = list(reader(fp))\n",
    "    header = data_rows.pop(0)\n",
    "    return (header, data_rows)\n",
    "\n",
    "# Read the math class data\n",
    "math_header, math_data_rows = read_csv('student-mat.csv')\n",
    "\n",
    "# Read the Portuguese class data\n",
    "port_header, port_data_rows = read_csv('student-por.csv')\n",
    "\n",
    "# Print a sample of the data\n",
    "def print_sample(header, data, num_rows=5):\n",
    "    from math import floor, log10\n",
    "    fmt = \"Row {{:0{}d}}: {{}}\".format(floor(log10(num_rows))+1)\n",
    "    string_rows = [fmt.format(i, str(r)) for i, r in enumerate(data[:num_rows])]\n",
    "    print(\"--> Header ({} columns): {}\".format(len(header), header))\n",
    "    print(\"\\n--> First {} of {} rows:\\n{}\".format(num_rows,\n",
    "                                                  len(data),\n",
    "                                                  '\\n'.join(string_rows)))\n",
    "\n",
    "print(\"=== Math data ===\\n\")\n",
    "print_sample(math_header, math_data_rows)"
   ]
  },
  {
   "cell_type": "code",
   "execution_count": 10,
   "metadata": {},
   "outputs": [
    {
     "data": {
      "text/plain": [
       "649"
      ]
     },
     "execution_count": 10,
     "metadata": {},
     "output_type": "execute_result"
    }
   ],
   "source": [
    "#math_header\n",
    "#math_data_rows\n"
   ]
  },
  {
   "cell_type": "markdown",
   "metadata": {
    "deletable": false,
    "editable": false,
    "nbgrader": {
     "grade": false,
     "grade_id": "cell-1115ed8d97851e92",
     "locked": true,
     "schema_version": 1,
     "solution": false
    }
   },
   "source": [
    "The function only separates the fields by comma; it doesn't do any additional postprocessing. So all the data elements are treated as strings, even though you can see that some are clearly numerical values. You'll need this fact in **Exercise 3**."
   ]
  },
  {
   "cell_type": "markdown",
   "metadata": {
    "deletable": false,
    "editable": false,
    "nbgrader": {
     "grade": false,
     "grade_id": "cell-fc9badbdb8450baf",
     "locked": true,
     "schema_version": 1,
     "solution": false
    }
   },
   "source": [
    "**Exercise 0** (2 points). Complete the function, `lookup_value(col_name, row_id, header, data_rows)`, to look up a particular value in the data when stored as shown above. In particular, the parameters of the function are\n",
    "\n",
    "- `col_name`: Name of the column, e.g., `'school'`, `'address'`, `'freetime'`.\n",
    "- `row_id`: The desired row number, starting at 0 (the first _data_ row).\n",
    "- `header`, `data_rows`: The list of column names and data rows, respectively.\n",
    "\n",
    "For example, consider the math data shown above. Then,\n",
    "\n",
    "```python\n",
    "    lookup_value('age', 0, math_header, math_data_rows) == '18'\n",
    "    lookup_value('G2', 3, math_header, math_data_rows) == '14'\n",
    "```\n",
    "\n",
    "> **Hint.** Consider [`list.index()`](https://docs.python.org/3/tutorial/datastructures.html)."
   ]
  },
  {
   "cell_type": "code",
   "execution_count": 11,
   "metadata": {
    "nbgrader": {
     "grade": false,
     "grade_id": "exercise_0",
     "locked": false,
     "schema_version": 1,
     "solution": true
    }
   },
   "outputs": [],
   "source": [
    "def lookup_value(col_name, row_id, header, data_rows):\n",
    "    assert col_name in header, \"{} not in {}\".format(col_name, header)\n",
    "    assert 0 <= row_id < len(data_rows)\n",
    "    mapping={}\n",
    "    start=0\n",
    "    for i in header:\n",
    "        mapping[i]=start\n",
    "        start+=1\n",
    "    ans=mapping[col_name]\n",
    "    return data_rows[row_id][ans]\n"
   ]
  },
  {
   "cell_type": "code",
   "execution_count": 12,
   "metadata": {
    "deletable": false,
    "editable": false,
    "nbgrader": {
     "grade": true,
     "grade_id": "exercise_0_test",
     "locked": true,
     "points": 2,
     "schema_version": 1,
     "solution": false
    }
   },
   "outputs": [
    {
     "name": "stdout",
     "output_type": "stream",
     "text": [
      "Checking examples from above...\n",
      "Checking some random examples...\n",
      "\n",
      "(Passed!)\n"
     ]
    }
   ],
   "source": [
    "# Test cell: `exercise_0_test`\n",
    "\n",
    "print(\"Checking examples from above...\")\n",
    "assert lookup_value('age', 0, math_header, math_data_rows) == '18'\n",
    "assert lookup_value('G2', 3, math_header, math_data_rows) == '14'\n",
    "\n",
    "print(\"Checking some random examples...\")\n",
    "\n",
    "# Generate random test cases\n",
    "if False:\n",
    "    for _ in range(5):\n",
    "        from random import sample, randint\n",
    "        col_name = sample(math_header, 1)[0]\n",
    "        row_id = randint(0, len(math_data_rows)-1)\n",
    "        value = lookup_value(col_name, row_id, math_header, math_data_rows)\n",
    "        print(\"assert lookup_value('{}', {}, math_header, math_data_rows) == '{}'\".format(col_name, row_id, value))                                                                                 \n",
    "\n",
    "    for _ in range(5):\n",
    "        from random import sample, randint\n",
    "        col_name = sample(port_header, 1)[0]\n",
    "        row_id = randint(0, len(port_data_rows)-1)\n",
    "        value = lookup_value(col_name, row_id, port_header, port_data_rows)\n",
    "        print(\"assert lookup_value('{}', {}, port_header, port_data_rows) == '{}'\".format(col_name, row_id, value))                                                                                 \n",
    "\n",
    "assert lookup_value('famsize', 143, math_header, math_data_rows) == 'LE3'\n",
    "assert lookup_value('absences', 198, math_header, math_data_rows) == '24'\n",
    "assert lookup_value('G3', 246, math_header, math_data_rows) == '13'\n",
    "assert lookup_value('guardian', 175, math_header, math_data_rows) == 'mother'\n",
    "assert lookup_value('paid', 362, math_header, math_data_rows) == 'no'\n",
    "assert lookup_value('romantic', 87, port_header, port_data_rows) == 'no'\n",
    "assert lookup_value('famsup', 246, port_header, port_data_rows) == 'yes'\n",
    "assert lookup_value('Walc', 294, port_header, port_data_rows) == '1'\n",
    "assert lookup_value('famsize', 431, port_header, port_data_rows) == 'GT3'\n",
    "assert lookup_value('studytime', 224, port_header, port_data_rows) == '4'\n",
    "\n",
    "print(\"\\n(Passed!)\")"
   ]
  },
  {
   "cell_type": "markdown",
   "metadata": {
    "deletable": false,
    "editable": false,
    "nbgrader": {
     "grade": false,
     "grade_id": "cell-8e46d03f8941d7fc",
     "locked": true,
     "schema_version": 1,
     "solution": false
    }
   },
   "source": [
    "**Exercise 1** (3 points). Suppose we wish to extract a list of all values stored in a given column of the table. Complete the function, `lookup_column_values(col, header, data_rows)`, which takes as input the column name `col`, list of column names `header`, and rows `data_rows`, and returns a list of all the values stored in that column.\n",
    "\n",
    "For example, the first five entries of the returned list when reference the `'age'` column of the math class data should satisfy:\n",
    "\n",
    "```python\n",
    "  values = lookup_column_values('age', math_header, math_data_rows)\n",
    "  assert values[:5] == ['18', '17', '15', '15', '16']\n",
    "```"
   ]
  },
  {
   "cell_type": "code",
   "execution_count": 15,
   "metadata": {
    "nbgrader": {
     "grade": false,
     "grade_id": "exercise_1",
     "locked": false,
     "schema_version": 1,
     "solution": true
    }
   },
   "outputs": [],
   "source": [
    "def lookup_column_values(col, header, data_rows):\n",
    "    assert col in header\n",
    "    mapping={}\n",
    "    start=0\n",
    "    for i in header:\n",
    "        mapping[i]=start\n",
    "        start+=1\n",
    "    ans=[]\n",
    "    for i in range(len(data_rows)):\n",
    "        ans.append(data_rows[i][mapping[col]])\n",
    "    return ans\n"
   ]
  },
  {
   "cell_type": "code",
   "execution_count": 16,
   "metadata": {
    "deletable": false,
    "editable": false,
    "nbgrader": {
     "grade": true,
     "grade_id": "exercise_1_test",
     "locked": true,
     "points": 3,
     "schema_version": 1,
     "solution": false
    }
   },
   "outputs": [
    {
     "name": "stdout",
     "output_type": "stream",
     "text": [
      "First five values of 'age' column in the math data:\n",
      "['18', '17', '15', '15', '16']\n",
      "\n",
      "Spot-checking some additional cases...\n",
      "\n",
      "(Passed!)\n"
     ]
    }
   ],
   "source": [
    "# Test cell: `exercise_1_test`\n",
    "\n",
    "# The example:\n",
    "values = lookup_column_values('age', math_header, math_data_rows)\n",
    "\n",
    "print(\"First five values of 'age' column in the math data:\")\n",
    "print(values[:5])\n",
    "assert values[:5] == ['18', '17', '15', '15', '16']\n",
    "\n",
    "if False:\n",
    "    from random import sample\n",
    "    for col in sample(math_header, 5):\n",
    "        values = lookup_column_values(col, math_header, math_data_rows)\n",
    "        print(\"assert ''.join(lookup_column_values('{}', math_header, math_data_rows)) == '{}'\".format(col, ''.join(values)))\n",
    "    for col in sample(port_header, 5):\n",
    "        values = lookup_column_values(col, port_header, port_data_rows)\n",
    "        print(\"assert ''.join(lookup_column_values('{}', port_header, port_data_rows)) == '{}'\".format(col, ''.join(values)))\n",
    "        \n",
    "print(\"\\nSpot-checking some additional cases...\")\n",
    "assert ''.join(lookup_column_values('activities', math_header, math_data_rows)) == 'nononoyesnoyesnononoyesnoyesyesnononoyesyesyesyesnonoyesyesyesnononoyesyesnoyesyesyesnoyesyesyesyesyesyesnoyesnoyesyesnoyesnoyesnononononoyesyesyesyesnoyesyesyesyesyesyesyesnonononononoyesyesyesyesnoyesnoyesnonoyesyesnonoyesyesnonoyesnoyesyesyesyesnoyesnoyesyesyesnoyesnonoyesyesyesyesyesyesnoyesyesyesyesyesnonoyesyesyesnonoyesnoyesyesnoyesnononoyesnoyesnoyesnoyesyesnonononononononoyesyesnonoyesnoyesnonoyesnoyesnoyesyesnonononoyesyesyesyesyesyesyesyesyesyesyesyesyesyesnoyesyesyesnononoyesyesyesnoyesnoyesnonoyesyesnonoyesnonoyesnoyesyesnonoyesnononononoyesyesyesnonoyesyesyesnoyesyesyesyesyesyesnoyesyesnoyesnoyesnoyesyesnononononononononoyesnoyesyesnoyesyesnonoyesyesyesyesyesyesyesnoyesyesnoyesnononoyesyesyesyesnoyesyesnonononoyesyesyesnononoyesnoyesnonononononoyesyesyesyesnoyesyesyesnononononoyesyesyesnononoyesnonoyesyesnoyesnoyesnoyesyesyesnononononoyesyesyesnononononoyesnononononoyesnoyesnonononoyesnoyesnonononononoyesyesyesyesnononoyesnoyesyesyesyesnononoyesyesnoyesnonononono'\n",
    "assert ''.join(lookup_column_values('reason', math_header, math_data_rows)) == 'coursecourseotherhomehomereputationhomehomehomehomereputationreputationcoursecoursehomehomereputationreputationcoursehomereputationothercoursereputationcoursehomehomeotherhomehomehomereputationcoursecoursehomeotherhomereputationcoursereputationhomehomecoursecoursecoursecoursehomereputationhomeothercourseotherothercourseotherotherreputationreputationhomecourseothercoursereputationhomereputationcoursereputationcoursereputationreputationreputationcoursereputationreputationhomehomecoursereputationhomecoursecoursehomereputationhomehomereputationcoursereputationreputationreputationhomereputationhomehomereputationhomereputationcoursereputationcourseotherothercoursehomecoursereputationcoursehomehomeothercoursereputationhomecoursereputationcoursereputationhomecoursereputationcoursehomecoursecoursehomehomehomecoursereputationcoursecoursecoursecoursecoursecoursecoursecoursecoursecoursecoursecoursereputationcoursecoursehomecoursehomecoursecoursecoursecoursecoursereputationhomecoursecoursereputationcoursecoursecoursecoursecoursecoursecoursecoursecoursecoursehomehomereputationcoursereputationreputationhomereputationcoursereputationreputationothercoursehomehomereputationreputationreputationotherothercoursereputationhomecoursecourseotherreputationhomecoursehomehomehomereputationhomereputationcoursereputationreputationhomecourseotherhomereputationreputationhomereputationhomeotherreputationreputationhomehomecoursereputationreputationotherhomehomereputationcoursereputationcoursecoursereputationcoursereputationreputationhomereputationhomehomecoursereputationcoursecoursecoursecoursecoursecoursecourseothercourseothercoursereputationothercoursecoursecoursereputationreputationhomecoursehomecoursecoursehomehomereputationotherreputationreputationreputationhomereputationhomehomereputationcoursehomehomereputationcoursehomehomereputationhomecoursereputationotherreputationreputationreputationhomereputationreputationreputationreputationhomereputationhomereputationhomehomehomereputationreputationhomereputationcoursereputationreputationreputationhomeothercoursereputationhomereputationcoursecoursecoursecoursecoursecoursecoursecoursehomecoursereputationcoursecoursecoursecoursecoursehomehomecoursecoursehomehomehomehomehomehomehomehomecourseothercoursecoursereputationcoursehomecoursecoursehomehomecourseotherreputationhomecoursecourseotherothercoursecoursecourseotherreputationcourseotherhomeotherhomecoursereputationhomecoursecoursehomereputationhomeotherhomeotherhomeotherreputationcoursecoursecoursecoursecoursecoursecoursecourse'\n",
    "assert ''.join(lookup_column_values('guardian', math_header, math_data_rows)) == 'motherfathermothermotherfathermothermothermothermothermothermotherfatherfathermotherothermothermothermothermotherfathermotherfathermothermothermothermothermothermothermothermothermothermothermothermothermotherfathermothermothermothermothermotherotherfatherfatherfathermothermothermothermotherfathermothermotherfathermothermothermothermothermotherfathermothermotherfatherfathermotherfathermothermothermothermotherfatherfathermothermothermothermothermothermothermothermothermotherfathermothermothermotherfatherfathermothermotherfathermothermothermotherfathermothermothermothermothermothermothermothermotherfathermothermothermotherfathermotherfatherfathermothermotherfathermothermothermotherfatherfatherfatherfatherfathermotherfatherfathermothermotherfathermotherothermothermotherfathermotherfatherfathermothermothermotherothermothermotherfatherfathermothermothermotherfatherfathermothermothermothermothermotherothermothermothermothermothermothermotherfathermothermothermotherfathermothermotherfatherfathermothermotherfathermothermothermothermothermothermotherfathermothermothermothermotherfathermothermothermothermothermothermothermothermothermotherothermotherfatherfathermotherfathermothermothermothermothermothermothermothermothermothermothermothermotherothermothermothermothermothermothermotherfatherfathermothermothermothermothermothermothermothermotherfathermothermotherfatherfathermotherfathermothermotherfathermothermotherfathermothermothermothermotherothermotherfathermothermothermothermotherothermothermothermothermothermothermothermotherfatherfathermothermothermothermothermothermothermotherfathermotherotherfathermothermothermothermothermothermotherfathermothermothermothermothermothermotherfathermothermothermothermothermothermothermothermothermothermotherotherotherfathermothermotherfathermotherfatherotherotherotherotherfatherotherotherotherotherotherotherothermothermotherfathermothermothermothermotherfatherfathermothermothermothermothermothermotherfathermotherothermothermotherothermothermothermotherotherfathermotherfathermothermothermothermothermothermotherothermothermotherothermotherfatherfathermotherfatherfathermothermothermothermotherfathermothermothermotherfatherfatherotherfathermothermothermothermotherothermothermothermotherfathermotherfathermotherfathermothermothermothermothermotherothermotherothermotherfather'\n",
    "assert ''.join(lookup_column_values('famsup', math_header, math_data_rows)) == 'noyesnoyesyesyesnoyesyesyesyesyesyesyesyesyesyesyesyesnonoyesnoyesyesyesyesnoyesyesyesyesyesnoyesyesyesyesyesyesyesyesyesyesnoyesyesnoyesyesyesyesnoyesnonoyesyesyesyesyesyesnoyesnoyesyesyesyesyesyesnoyesnoyesyesnonoyesyesyesnoyesnoyesnoyesyesnoyesyesnoyesyesyesyesyesyesnoyesyesyesyesyesyesnoyesyesyesyesnoyesnononoyesyesnoyesnonoyesyesyesnononoyesyesnoyesyesyesnoyesyesnoyesnonoyesyesyesnoyesyesyesyesyesnononoyesyesyesnonoyesnoyesnoyesnononoyesnonoyesyesyesyesyesnoyesnononoyesyesyesnoyesyesyesyesyesnoyesnonononoyesnononoyesyesyesyesyesyesyesyesyesyesnoyesyesyesyesyesyesyesnonoyesyesyesyesyesnoyesyesnonoyesyesnonoyesyesyesyesnonononononoyesnonoyesnononoyesnonoyesnononoyesyesyesnonoyesyesnonoyesyesnonoyesyesyesyesyesyesyesyesnonoyesnononoyesnoyesnoyesyesnoyesyesyesnoyesyesyesyesyesyesyesyesnoyesyesyesyesnoyesnoyesnoyesnoyesnonoyesyesyesyesyesyesyesyesnononoyesyesyesyesyesnononononoyesyesyesnoyesnoyesyesnonoyesyesyesnoyesnoyesyesyesyesnononononoyesyesnoyesnoyesyesyesnoyesnonononoyesnonoyesnonononononoyesnoyesnoyesnononono'\n",
    "assert ''.join(lookup_column_values('nursery', math_header, math_data_rows)) == 'yesnoyesyesyesyesyesyesyesyesyesyesyesyesyesyesyesyesyesyesyesyesyesyesyesnoyesyesyesyesnoyesyesnonoyesyesyesyesyesnonoyesyesyesyesyesyesyesnoyesyesyesyesyesyesyesyesyesyesyesnoyesyesyesyesnoyesyesnoyesyesnoyesyesyesyesyesyesyesnonoyesyesnoyesyesyesnoyesyesyesyesyesyesyesnoyesnoyesyesyesnoyesyesyesyesyesyesyesyesyesyesyesyesyesyesyesyesyesnoyesyesyesyesyesyesnoyesyesyesnoyesyesyesyesyesnoyesyesyesyesyesyesyesyesyesnoyesyesyesyesyesyesyesyesyesnonoyesyesyesyesyesyesnoyesyesnoyesnoyesyesnoyesyesnonoyesyesyesyesyesyesyesyesyesyesnoyesyesyesnoyesyesyesyesyesyesyesyesyesnoyesnoyesyesyesyesyesyesyesyesyesyesyesyesyesyesyesyesyesyesyesnoyesnonoyesyesyesyesyesyesyesyesnoyesyesyesyesyesnoyesnoyesyesnoyesnoyesnonononoyesyesyesyesyesyesnononoyesyesyesyesyesyesyesyesnonoyesyesnoyesyesyesyesyesyesyesnonoyesyesyesyesyesyesyesyesyesyesyesyesyesyesyesyesyesnoyesyesyesyesyesnonoyesnononoyesyesyesnoyesyesyesyesnoyesyesnoyesyesnoyesyesyesnoyesyesyesyesyesyesyesyesyesyesyesyesyesyesyesnoyesyesyesyesnoyesyesyesnoyesyesnoyesyesnoyesyesyesyesnoyesyesyesyesyesyesnoyesyesnononoyesyesyesyesyesnoyesyesyesnononoyes'\n",
    "assert ''.join(lookup_column_values('sex', port_header, port_data_rows)) == 'FFFFFMMFMMFFMMMFFFMMMMMMFFMMMMMMMMMFMMFFFMMMFFFMMFFFMFFFFMMFFFFFFFMFFFMMFMFMMFMFMMFMFFFFMMFFFFMFMFFFMMMFMFFMMFMFFMMMMMMMFMFMFMFFMMFFFFFFMFMFMFMFFFMFFMFMMFFMFFFFFMMMMFMFMMFMMMMMMMMMMFFFMMMFFMFMMMMMFFFMMMFMFFMMMFMMFFFFFFFFFFFFFMFMFFFMFFFFFMFFFMMFFMMMMMMFFFFFMMFFFFFMFFFMMMMFMFFFMFMMMMMMMMMMFFFMFFFMMMFFFMMFFMMMFMFFFFMFFFFMFFFMMMMFFFFMFFMMMFFMMFFFMFMFFFMMMFFFFFFFFMFFFFFFMFFFFFFFFMMMFFFMMFFMFFFFFFFMMFFFMMFFFFFFMMFMFMFFMFMMFFFFFFFFFMMFFFFFFFFFMMMMMMMMFFFMFFFFFMFFFFFFMFMFMMFFFMMFFMFFFFFFFFFFFMFFFFFFFMFFMMMFFFFFMFFFFFFFFFFMFFFMFMFMFFMMMFMMMMFFFFFMMMFMFFMMMMFFMFMMMMFMMMMMMMMMFFMFMMMMMFFFFFFFFFFFFFFMFFMMMFFFFFFFFFFFMFFFMFFFFFMMFFFMFFFFFFFFMMMMMFFFFFFMM'\n",
    "assert ''.join(lookup_column_values('absences', port_header, port_data_rows)) == '42600602002000061022600022680240200440428168001446242004002080200000200062020400101402422464662602246042120216010448244121046461420624020084010862124122420210840626240424220026616006260014640084220100000400000048440032860010660160084163002402161424204150106216104001209442020000020040181614266410421416844807422101010742128084420022042444202822220860841216102286615628001022182012100000020000200000000000222228289042140221222400000020420020680680400618044001041660119020218510513101054110640050000404020040748086320403004021002690110420420211040201601660412250020001282000800001902800806042201051802001181128501228002000243542000600202049648912888404200050300320003008544002005200540202006400000038404411104040000444664'\n",
    "assert ''.join(lookup_column_values('G2', port_header, port_data_rows)) == '1111131413121213161214121312141713148121312131011111211121111151412121114131213111115101111121712121314912121314151315161013131215129101511911131111111391111911121211111510911131314121311121313916131016101014101514111017914151411131413121311911101412119101212139111114913111111910149118131113117121011121191191013913881010108869887101712169179131411129911101218131513914139121111101215131115101412151313911151312121213111116910131210121391681811101512131313912161013108788141011139791414151214151114119101610128912811813121012151010121211131610111215101112128161111129121613171416129121215810101113171312131218131517161819151513141718151371618101510101212161512151210111215141212910810131118141414181012141211109151411913131314141216121216141312151611131211141715171015101817141117101311121010178111110614910711111609139109111016131511108810141110910121411118913121212111481113810799101010710109991181099131411131671281413119119171797668161457810869141499111010715121114131110119119119151110181314911111410913129913091070118895911111099109886117861010813121318171801113138120100181110110141110121413171512141310168105101181711814169187158717991115121011'\n",
    "assert ''.join(lookup_column_values('age', port_header, port_data_rows)) == '18171515161616171515151515151516161617161515161615161515161615151515161515161515161515151615161615151615151515161515151616161616151615161515161515161615151617161515151515151615161616151616151516161616161615151515151615161516161515161516171515151616161515191616151817151716161615151716181816161615151515161615161715151515151615181615191715171816161617171516171716161616161617161617161716171616171716171616171716171716161717161716161617171617161616171917161817171718171717171618161817171817171717161616171616181818181717171617171817171717171616171717171816171722181618161816171718171918171818191817172018181817181718171818181918181718171718181817191818171718181718171817181818171718171918181818171717171920191818171718181718191818171717171819191817171717181817171717171819181718181818171718171818171818181817171719172118181717182120191718181918201816161515161516161717151615151617151617151516151517161516161616161516171616151615151618151615161516161615151615161719171516161716181918181916171616161716161716171619172017171617171816161816161816161616181617171617161717161616151515161617171617171717161717161719171716161717181718161716161818191816191617201818191718191819181717171817171818171818181718181817181818181917171818191817181717181818181717181817181818171718181918181718181719181817181918181718'\n",
    "assert ''.join(lookup_column_values('famsize', port_header, port_data_rows)) == 'GT3GT3LE3GT3GT3LE3LE3GT3LE3GT3GT3GT3LE3GT3GT3GT3GT3GT3GT3LE3GT3GT3LE3LE3GT3GT3GT3GT3LE3GT3GT3GT3GT3LE3GT3GT3LE3GT3GT3GT3LE3LE3GT3GT3LE3LE3LE3GT3GT3GT3LE3LE3LE3GT3LE3GT3GT3GT3LE3GT3GT3GT3LE3GT3LE3LE3GT3GT3LE3LE3GT3GT3GT3GT3GT3GT3GT3GT3GT3GT3GT3GT3LE3LE3GT3GT3LE3GT3GT3LE3GT3GT3LE3GT3LE3GT3GT3GT3GT3GT3GT3GT3GT3GT3GT3GT3GT3GT3GT3LE3LE3GT3GT3LE3GT3GT3GT3GT3GT3GT3GT3GT3LE3GT3GT3GT3LE3GT3GT3GT3GT3GT3LE3GT3LE3GT3GT3GT3GT3GT3GT3GT3LE3GT3GT3GT3LE3GT3GT3GT3GT3GT3LE3GT3LE3GT3GT3LE3GT3GT3GT3GT3LE3LE3LE3GT3GT3GT3GT3LE3GT3GT3GT3LE3LE3GT3LE3GT3LE3GT3GT3GT3GT3GT3GT3GT3LE3GT3LE3LE3GT3GT3GT3GT3GT3GT3GT3LE3GT3GT3GT3LE3GT3GT3GT3GT3GT3GT3GT3LE3GT3LE3GT3LE3GT3GT3GT3GT3GT3GT3GT3GT3GT3GT3GT3LE3GT3GT3LE3LE3GT3LE3GT3GT3GT3GT3GT3GT3GT3GT3GT3LE3LE3GT3LE3GT3GT3GT3LE3GT3LE3GT3GT3LE3LE3GT3GT3GT3GT3LE3GT3GT3LE3GT3LE3LE3LE3LE3LE3LE3GT3GT3GT3GT3GT3GT3GT3GT3GT3GT3LE3GT3GT3GT3GT3GT3GT3LE3LE3LE3GT3LE3GT3LE3GT3LE3GT3GT3LE3GT3GT3GT3GT3GT3GT3GT3LE3GT3GT3GT3GT3GT3GT3LE3GT3GT3GT3LE3GT3GT3GT3GT3GT3LE3GT3LE3LE3LE3GT3GT3GT3GT3GT3GT3GT3LE3GT3GT3LE3LE3GT3GT3LE3GT3LE3LE3LE3GT3GT3GT3LE3GT3GT3GT3GT3GT3GT3GT3LE3GT3GT3GT3GT3GT3GT3GT3LE3LE3LE3GT3LE3GT3GT3LE3GT3LE3GT3GT3GT3GT3GT3GT3GT3LE3GT3GT3GT3GT3GT3LE3GT3GT3GT3LE3GT3GT3LE3GT3GT3GT3GT3GT3GT3GT3GT3LE3GT3LE3LE3LE3GT3LE3LE3LE3GT3GT3LE3GT3GT3GT3LE3GT3GT3GT3GT3GT3GT3GT3LE3LE3GT3GT3GT3GT3LE3LE3LE3GT3GT3GT3GT3GT3LE3LE3GT3GT3LE3GT3GT3GT3GT3GT3GT3GT3GT3GT3GT3LE3GT3GT3GT3GT3GT3LE3GT3GT3GT3GT3GT3GT3GT3GT3LE3LE3LE3GT3LE3GT3GT3GT3GT3GT3LE3GT3LE3GT3GT3LE3GT3GT3GT3GT3GT3GT3LE3GT3LE3GT3GT3GT3GT3LE3LE3GT3LE3GT3GT3LE3GT3LE3GT3GT3GT3GT3GT3LE3GT3LE3GT3GT3LE3GT3GT3LE3LE3LE3GT3LE3GT3LE3GT3GT3GT3LE3LE3GT3LE3LE3LE3LE3GT3GT3GT3GT3LE3GT3GT3LE3GT3GT3LE3GT3GT3LE3GT3GT3LE3GT3GT3GT3GT3LE3LE3GT3GT3LE3GT3GT3GT3GT3GT3GT3GT3GT3GT3GT3GT3GT3GT3LE3GT3GT3LE3GT3GT3LE3GT3LE3GT3LE3GT3GT3GT3LE3GT3LE3GT3GT3LE3GT3GT3GT3LE3LE3GT3GT3GT3LE3LE3GT3GT3GT3GT3GT3GT3LE3LE3LE3LE3GT3LE3GT3GT3LE3GT3GT3GT3LE3GT3GT3LE3GT3GT3LE3GT3GT3GT3GT3GT3GT3GT3GT3GT3GT3GT3LE3GT3LE3LE3'\n",
    "\n",
    "print(\"\\n(Passed!)\")"
   ]
  },
  {
   "cell_type": "markdown",
   "metadata": {
    "deletable": false,
    "editable": false,
    "nbgrader": {
     "grade": false,
     "grade_id": "cell-558337792f2ebed3",
     "locked": true,
     "schema_version": 1,
     "solution": false
    }
   },
   "source": [
    "**Exercise 2** (1 points). Suppose we wish to get all _unique_ values in a given column. Complete the function, `get_unique_values(col, header, data_rows)`, so that it returns these values, as a **list**.\n",
    "\n",
    "> The ordering of unique values in your output does not matter."
   ]
  },
  {
   "cell_type": "code",
   "execution_count": 17,
   "metadata": {
    "nbgrader": {
     "grade": false,
     "grade_id": "exercise_2",
     "locked": false,
     "schema_version": 1,
     "solution": true
    }
   },
   "outputs": [],
   "source": [
    "def get_unique_values(col, header, data_rows):\n",
    "    assert col in header\n",
    "    mapping={}\n",
    "    start=0\n",
    "    for i in header:\n",
    "        mapping[i]=start\n",
    "        start+=1\n",
    "    ans=[]\n",
    "    for i in range(len(data_rows)):\n",
    "        ans.append(data_rows[i][mapping[col]])\n",
    "    return list(set(ans))\n"
   ]
  },
  {
   "cell_type": "code",
   "execution_count": 18,
   "metadata": {
    "deletable": false,
    "editable": false,
    "nbgrader": {
     "grade": true,
     "grade_id": "exercise_2_test",
     "locked": true,
     "points": 1,
     "schema_version": 1,
     "solution": false
    }
   },
   "outputs": [
    {
     "name": "stdout",
     "output_type": "stream",
     "text": [
      "Checking ages...\n",
      "\n",
      "Spot checking some additional cases...\n",
      "\n",
      "(Passed!)\n"
     ]
    }
   ],
   "source": [
    "# Test cell: `exercise_2_test`\n",
    "\n",
    "print(\"Checking ages...\")\n",
    "ages = get_unique_values('age', math_header, math_data_rows)\n",
    "assert type(ages) is list, \"`get_unique_values()` should return a list!\"\n",
    "assert len(ages) == 8\n",
    "assert all([str(a) in ages for a in range(15, 23)])\n",
    "\n",
    "print(\"\\nSpot checking some additional cases...\")\n",
    "\n",
    "if False: # Generate test cases\n",
    "    from random import sample\n",
    "    for col in sample(math_header, 5):\n",
    "        values = get_unique_values(col, math_header, math_data_rows)\n",
    "        print(\"\"\"\n",
    "values = get_unique_values('{}', math_header, math_data_rows)\n",
    "assert len(values) == {}\n",
    "for v in {}:\n",
    "    assert v in values, \"'{{}}' should be in the output, but isn't.\".format(v)\n",
    "\"\"\".format(col, len(values), values))\n",
    "        \n",
    "values = get_unique_values('Fedu', math_header, math_data_rows)\n",
    "assert len(values) == 5\n",
    "for v in ['4', '1', '3', '0', '2']:\n",
    "    assert v in values, \"'{}' should be in the output, but isn't.\".format(v)\n",
    "\n",
    "values = get_unique_values('traveltime', math_header, math_data_rows)\n",
    "assert len(values) == 4\n",
    "for v in ['4', '1', '3', '2']:\n",
    "    assert v in values, \"'{}' should be in the output, but isn't.\".format(v)\n",
    "\n",
    "values = get_unique_values('paid', math_header, math_data_rows)\n",
    "assert len(values) == 2\n",
    "for v in ['no', 'yes']:\n",
    "    assert v in values, \"'{}' should be in the output, but isn't.\".format(v)\n",
    "\n",
    "values = get_unique_values('school', math_header, math_data_rows)\n",
    "assert len(values) == 2\n",
    "for v in ['MS', 'GP']:\n",
    "    assert v in values, \"'{}' should be in the output, but isn't.\".format(v)\n",
    "\n",
    "values = get_unique_values('sex', math_header, math_data_rows)\n",
    "assert len(values) == 2\n",
    "for v in ['F', 'M']:\n",
    "    assert v in values, \"'{}' should be in the output, but isn't.\".format(v)\n",
    "\n",
    "print(\"\\n(Passed!)\")"
   ]
  },
  {
   "cell_type": "markdown",
   "metadata": {
    "deletable": false,
    "editable": false,
    "nbgrader": {
     "grade": false,
     "grade_id": "cell-a9adde87179d5b25",
     "locked": true,
     "schema_version": 1,
     "solution": false
    }
   },
   "source": [
    "**A simple analysis task.** The column `'Dalc'` contains the student's self-reported drinking frequency during the weekday. The values are 1 (very low amount of drinking) to 5 (very high amount of drinking); if your function above works correctly then you should see that in the output of the following cell:"
   ]
  },
  {
   "cell_type": "code",
   "execution_count": 19,
   "metadata": {
    "deletable": false,
    "editable": false,
    "nbgrader": {
     "grade": false,
     "grade_id": "cell-c3396a867759114a",
     "locked": true,
     "schema_version": 1,
     "solution": false
    }
   },
   "outputs": [
    {
     "name": "stdout",
     "output_type": "stream",
     "text": [
      "Unique values of 'Dalc': ['1', '2', '3', '5', '4']\n"
     ]
    }
   ],
   "source": [
    "print(\"Unique values of 'Dalc':\", get_unique_values('Dalc', math_header, math_data_rows))"
   ]
  },
  {
   "cell_type": "markdown",
   "metadata": {},
   "source": [
    "Similarly, `Walc` is the self-reported drinking frequency on the same scale, but for the _weekend_ (instead of _weekday_).\n",
    "\n",
    "Now, suppose we wish to know whether there is a relationship between these drinking frequencies and the final math grade, which appears in column `'G3'` (on a scale of 0-20, where 0 is a \"low\" grade and 20 is a \"high\" grade)."
   ]
  },
  {
   "cell_type": "markdown",
   "metadata": {
    "deletable": false,
    "editable": false,
    "nbgrader": {
     "grade": false,
     "grade_id": "cell-696aa86ce4ce4aff",
     "locked": true,
     "schema_version": 1,
     "solution": false
    }
   },
   "source": [
    "**Exercise 3** (4 points). Create a dictionary named **`dw_avg_grade`** that will help with this analysis. For this exercise, we only care about the math grades (`math_data_rows`); you can ignore the Portuguese grades (`port_data_rows`).\n",
    "\n",
    "For your dictionary, `dw_avg_grade`, the keys and values should be defined as follows.\n",
    "\n",
    "1. Each key should be a tuple, `(a, b)`, where `a` is the `'Dalc'` rating and `b` is the `'Walc'` rating. You should convert these ratings from strings to integers. You only need to consider keys that actually occur in the data.\n",
    "2. Each corresponding value should be the average test score, rounded to two decimal places.\n",
    "\n",
    "\n",
    "> **Hint.** To get you started, we've used your `lookup_column_values()` function to extract the relevant columns for analysis. From there, consider breaking this problem up into several parts:\n",
    "> 1. Counting the number of occurrences of (`Dalc`, `Walc`) pairs.\n",
    "> 2. Summing the grades for each pair.\n",
    "> 3. Dividing the latter by the former to get the mean. Use [`round()`](https://docs.python.org/3/library/functions.html#round) to do the rounding."
   ]
  },
  {
   "cell_type": "code",
   "execution_count": 36,
   "metadata": {
    "nbgrader": {
     "grade": false,
     "grade_id": "exercise_3",
     "locked": false,
     "schema_version": 1,
     "solution": true
    }
   },
   "outputs": [
    {
     "data": {
      "text/plain": [
       "{(1, 1): 10.8,\n",
       " (2, 3): 10.7,\n",
       " (1, 2): 10.4,\n",
       " (1, 3): 11.1,\n",
       " (2, 4): 8.3,\n",
       " (5, 5): 10.7,\n",
       " (3, 4): 11.2,\n",
       " (2, 2): 8.7,\n",
       " (1, 4): 10.3,\n",
       " (4, 4): 11.3,\n",
       " (3, 5): 10.0,\n",
       " (3, 2): 12.0,\n",
       " (2, 5): 9.2,\n",
       " (3, 3): 9.8,\n",
       " (2, 1): 0.0,\n",
       " (1, 5): 10.8,\n",
       " (4, 5): 9.8,\n",
       " (4, 2): 11.0,\n",
       " (4, 3): 5.0}"
      ]
     },
     "execution_count": 36,
     "metadata": {},
     "output_type": "execute_result"
    }
   ],
   "source": [
    "from collections import defaultdict # Optional, but might help\n",
    "\n",
    "# Relevant data to analyze:\n",
    "Dalc_values = lookup_column_values('Dalc', math_header, math_data_rows)\n",
    "Walc_values = lookup_column_values('Walc', math_header, math_data_rows)\n",
    "G3_values = lookup_column_values('G3', math_header, math_data_rows)\n",
    "\n",
    "# Your task: Build `dw_avg_grade` per the problem statement.\n",
    "ans=[]\n",
    "for i in range(len(Dalc_values)):\n",
    "    ans.append((int(Dalc_values[i]),int(Walc_values[i]),int(G3_values[i])))\n",
    "#Dalc_values\n",
    "new={}\n",
    "for i in range(len(ans)):\n",
    "    if ans[i][:2] not in new:\n",
    "        new[ans[i][:2]]=[int(ans[i][2])]\n",
    "    else:\n",
    "        new[ans[i][:2]].append(int(ans[i][2]))\n",
    "import numpy as np\n",
    "dw_avg_grade={}\n",
    "for i in new:\n",
    "    dw_avg_grade[i]=round(np.mean(new[i]),1)\n",
    "dw_avg_grade"
   ]
  },
  {
   "cell_type": "code",
   "execution_count": 37,
   "metadata": {
    "deletable": false,
    "editable": false,
    "nbgrader": {
     "grade": true,
     "grade_id": "exercise_3_test",
     "locked": true,
     "points": 4,
     "schema_version": 1,
     "solution": false
    }
   },
   "outputs": [
    {
     "name": "stdout",
     "output_type": "stream",
     "text": [
      "Your computed results:\n",
      "(Dalc=3, Walc=2): 12.0\n",
      "(Dalc=4, Walc=4): 11.3\n",
      "(Dalc=3, Walc=4): 11.2\n",
      "(Dalc=1, Walc=3): 11.1\n",
      "(Dalc=4, Walc=2): 11.0\n",
      "(Dalc=1, Walc=1): 10.8\n",
      "(Dalc=1, Walc=5): 10.8\n",
      "(Dalc=2, Walc=3): 10.7\n",
      "(Dalc=5, Walc=5): 10.7\n",
      "(Dalc=1, Walc=2): 10.4\n",
      "(Dalc=1, Walc=4): 10.3\n",
      "(Dalc=3, Walc=5): 10.0\n",
      "(Dalc=3, Walc=3): 9.8\n",
      "(Dalc=4, Walc=5): 9.8\n",
      "(Dalc=2, Walc=5): 9.2\n",
      "(Dalc=2, Walc=2): 8.7\n",
      "(Dalc=2, Walc=4): 8.3\n",
      "(Dalc=4, Walc=3): 5.0\n",
      "(Dalc=2, Walc=1): 0.0\n",
      "\n",
      "Spot checking some of these values...\n",
      "\n",
      "(Passed!)\n"
     ]
    }
   ],
   "source": [
    "# Test cell: `exercise_3_test`\n",
    "\n",
    "assert type(dw_avg_grade) is dict or type(dw_avg_grade) is defaultdict, \"'dw_avg_grade' should be a dictionary (or default dictionary).\"\n",
    "\n",
    "print(\"Your computed results:\")\n",
    "descending = sorted(dw_avg_grade.items(), key=lambda x: -x[1])\n",
    "for (dalc, walc), g3 in descending:\n",
    "    print(\"(Dalc={}, Walc={}): {}\".format(dalc, walc, g3))\n",
    "    \n",
    "print(\"\\nSpot checking some of these values...\")\n",
    "test_cases = [((3, 2), 12.0), ((1, 1), 10.8), ((2, 1), 0.0), ((3, 3), 9.75), ((3, 5), 10.0)]\n",
    "for (d, w), g3 in test_cases:\n",
    "    your_g3 = dw_avg_grade[(d, w)]\n",
    "    msg = \"({}, {}) == {}, but it should be {}\".format(d, w, your_g3, g3)\n",
    "    assert abs(your_g3 - g3) < 0.1, msg\n",
    "    \n",
    "print(\"\\n(Passed!)\")"
   ]
  },
  {
   "cell_type": "markdown",
   "metadata": {
    "collapsed": true,
    "deletable": false,
    "editable": false,
    "nbgrader": {
     "grade": false,
     "grade_id": "cell-cb0e53dac91fe68c",
     "locked": true,
     "schema_version": 1,
     "solution": false
    }
   },
   "source": [
    "**Fin!** If you've reached this point and all tests above pass, you are ready to submit your solution to this problem. Don't forget to save you work prior to submitting."
   ]
  },
  {
   "cell_type": "code",
   "execution_count": 38,
   "metadata": {
    "deletable": false,
    "editable": false,
    "nbgrader": {
     "grade": true,
     "grade_id": "ran_to_completion",
     "locked": true,
     "points": 0,
     "schema_version": 1,
     "solution": false
    }
   },
   "outputs": [
    {
     "name": "stdout",
     "output_type": "stream",
     "text": [
      "\n",
      "(This notebook ran to completion.)\n"
     ]
    }
   ],
   "source": [
    "print(\"\\n(This notebook ran to completion.)\")"
   ]
  },
  {
   "cell_type": "code",
   "execution_count": null,
   "metadata": {},
   "outputs": [],
   "source": []
  }
 ],
 "metadata": {
  "celltoolbar": "Create Assignment",
  "kernelspec": {
   "display_name": "Python 3",
   "language": "python",
   "name": "python3"
  },
  "language_info": {
   "codemirror_mode": {
    "name": "ipython",
    "version": 3
   },
   "file_extension": ".py",
   "mimetype": "text/x-python",
   "name": "python",
   "nbconvert_exporter": "python",
   "pygments_lexer": "ipython3",
   "version": "3.6.5"
  }
 },
 "nbformat": 4,
 "nbformat_minor": 2
}
