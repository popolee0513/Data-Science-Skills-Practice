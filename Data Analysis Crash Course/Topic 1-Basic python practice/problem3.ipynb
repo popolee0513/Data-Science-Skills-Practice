{
 "cells": [
  {
   "cell_type": "markdown",
   "metadata": {
    "deletable": false,
    "editable": false,
    "nbgrader": {
     "grade": false,
     "grade_id": "cell-0af27ec9fdec76fd",
     "locked": true,
     "schema_version": 1,
     "solution": false
    }
   },
   "source": [
    "# Problem 3: Scans\n",
    "\n",
    "This problem is about a useful computational primitive known as a _scan_. It has four (4) exercises, which are worth a total of ten (10) points.\n",
    "\n",
    "By way of set up, the module will revolve around a possibly new function for you called `accumulate()`, which is available in the [itertools](https://docs.python.org/3/library/itertools.html) module. Run the following code cell to preload it."
   ]
  },
  {
   "cell_type": "code",
   "execution_count": 1,
   "metadata": {
    "deletable": false,
    "editable": false,
    "nbgrader": {
     "grade": false,
     "grade_id": "cell-4de5eb06806dd351",
     "locked": true,
     "schema_version": 1,
     "solution": false
    }
   },
   "outputs": [],
   "source": [
    "from itertools import accumulate\n",
    "\n",
    "SAVE_ACCUMULATE = accumulate # You may ignore this line, which some test cells will use"
   ]
  },
  {
   "cell_type": "markdown",
   "metadata": {
    "collapsed": true,
    "deletable": false,
    "editable": false,
    "nbgrader": {
     "grade": false,
     "grade_id": "cell-13af8be5f40d402f",
     "locked": true,
     "schema_version": 1,
     "solution": false
    }
   },
   "source": [
    "## Background: Cumulative sums\n",
    "\n",
    "Consider a sequence of $n$ values, $[x_0, x_1, x_2, \\ldots, x_{n-1}]$. Its _cumulative sum_ (or _running sum_) is \n",
    "\n",
    "$$[x_0, \\underbrace{x_0+x_1}, \\underbrace{x_0+x_1+x_2}, \\ldots, \\underbrace{x_0+x_1+x_2+\\cdots+x_{n-1}}]$$.\n",
    "\n",
    "For example, the list\n",
    "\n",
    "```python\n",
    "    [5, 3, -4, 20, 2, 9, 0, -1]\n",
    "```\n",
    "\n",
    "has the following cumulative sum:\n",
    "\n",
    "```python\n",
    "    [5, 8, 4, 24, 26, 35, 35, 34]\n",
    "```\n",
    "\n",
    "The `accumulate()` function makes it easy to compute cumulative sums."
   ]
  },
  {
   "cell_type": "markdown",
   "metadata": {
    "deletable": false,
    "editable": false,
    "nbgrader": {
     "grade": false,
     "grade_id": "cell-b45383877e2dfadf",
     "locked": true,
     "schema_version": 1,
     "solution": false
    }
   },
   "source": [
    "**Exercise 0** (1 point). Run the following code cell. (Yes, that's it -- one free point with no coding required!)"
   ]
  },
  {
   "cell_type": "code",
   "execution_count": 2,
   "metadata": {
    "deletable": false,
    "editable": false,
    "nbgrader": {
     "grade": true,
     "grade_id": "exercise_0_test",
     "locked": true,
     "points": 1,
     "schema_version": 1,
     "solution": false
    }
   },
   "outputs": [
    {
     "name": "stdout",
     "output_type": "stream",
     "text": [
      "[5, 8, 4, 24, 26, 35, 35, 34]\n",
      "\n",
      "(Passed!)\n"
     ]
    }
   ],
   "source": [
    "L = list(accumulate([5, 3, -4, 20, 2, 9, 0, -1]))\n",
    "print(L)\n",
    "\n",
    "print(\"\\n(Passed!)\")"
   ]
  },
  {
   "cell_type": "markdown",
   "metadata": {
    "deletable": false,
    "editable": false,
    "nbgrader": {
     "grade": false,
     "grade_id": "cell-0aeb1ddc274962ec",
     "locked": true,
     "schema_version": 1,
     "solution": false
    }
   },
   "source": [
    "> Note: The `accumulate()` function returns a certain object, which is why `list()` is used to convert its result into a list."
   ]
  },
  {
   "cell_type": "markdown",
   "metadata": {
    "deletable": false,
    "editable": false,
    "nbgrader": {
     "grade": false,
     "grade_id": "cell-3813d7f45f20e341",
     "locked": true,
     "schema_version": 1,
     "solution": false
    }
   },
   "source": [
    "## Scans\n",
    "\n",
    "A cumulative sum is one example of a more general primitive also known as a _scan_.\n",
    "\n",
    "Let $f(x,y)$ be any associative function of two values. Associative means that $f(f(x, y), z) = f(x, f(y, z))$. For example, addition is associative: suppose that $f(x, y) = x + y$; then it is true that $(x + y) + z = x + (y + z)$. The _scan_ of a sequence with respect to $f$ is\n",
    "\n",
    "$$\\begin{eqnarray}\n",
    "  \\mathrm{scan}([x_0, x_1, \\ldots, x_{n-1}], f) =\n",
    "  & [ & x_0, \\\\\n",
    "  &   & f(x_0, x_1) \\\\\n",
    "  &   & f(f(x_0, x_1), x_2) \\\\\n",
    "  &   & \\vdots, \\\\\n",
    "  &   & f(\\cdots(f(x_0, x_1), x_2), \\cdots), x_{n-1}) \\\\\n",
    "  & ] &\n",
    "\\end{eqnarray}$$"
   ]
  },
  {
   "cell_type": "markdown",
   "metadata": {
    "deletable": false,
    "editable": false,
    "nbgrader": {
     "grade": false,
     "grade_id": "cell-341cde48e43f4242",
     "locked": true,
     "schema_version": 1,
     "solution": false
    }
   },
   "source": [
    "The `accumulate()` function lets you implement these kinds of scans easily, too. For example, convince yourself that computing the minimum of two values, $\\min(x, y)$, is also associative. Then you can implement a _minimum scan_, or _min-scan_ for short, as follows:"
   ]
  },
  {
   "cell_type": "markdown",
   "metadata": {
    "deletable": false,
    "editable": false,
    "nbgrader": {
     "grade": false,
     "grade_id": "cell-78dbf7c9766caa2e",
     "locked": true,
     "schema_version": 1,
     "solution": false
    }
   },
   "source": [
    "**Exercise 1** (1 point). Run the following cell and make sure its output makes sense to you. (Yes, that's it -- no coding required.)"
   ]
  },
  {
   "cell_type": "code",
   "execution_count": 3,
   "metadata": {
    "deletable": false,
    "editable": false,
    "nbgrader": {
     "grade": true,
     "grade_id": "exercise_1_test",
     "locked": true,
     "points": 1,
     "schema_version": 1,
     "solution": false
    }
   },
   "outputs": [
    {
     "name": "stdout",
     "output_type": "stream",
     "text": [
      "min_scan([5, 8, 4, 24, 26, 35, 35, 34]) == [5, 5, 4, 4, 4, 4, 4, 4]\n",
      "\n",
      "(Passed!)\n"
     ]
    }
   ],
   "source": [
    "def min_scan(X):\n",
    "    return list(accumulate(X, min))\n",
    "\n",
    "print('min_scan({}) == {}'.format(L, min_scan(L)))\n",
    "\n",
    "print(\"\\n(Passed!)\")"
   ]
  },
  {
   "cell_type": "markdown",
   "metadata": {
    "deletable": false,
    "editable": false,
    "nbgrader": {
     "grade": false,
     "grade_id": "cell-818d646fffcf99b0",
     "locked": true,
     "schema_version": 1,
     "solution": false
    }
   },
   "source": [
    "**Exercise 2: Line-of-sight** (3 points). Suppose a camera is fixed at a certain height in front of a bunch of obstacles of varying heights at different locations. You wish to determine all locations in which the camera's view is obstructed.\n",
    "\n",
    "For example, in this cartoon, the camera's view is obstructed at all positions starting at 8:\n",
    "\n",
    "![Line of sight](https://cse6040.gatech.edu/datasets/line-of-sight.png)\n",
    "\n",
    "Let `h` be the height of the camera and `X` be a list such that `X[i]` is the height of the obstacle at position `i`. Use `accumulate()` to complete the function, `get_obstruction(X, h)`, so that it returns a list of all positions at which the camera is obstructed. (For data corresponding to the above figure, this function would return `[8, 9, 10, 11, 12]`.\n",
    "\n",
    "> An obstacle obstructs the camera if its height is _greater than **or** equal to_ the height of the camera. For this exercise, your code must use `accumulate()` in some way."
   ]
  },
  {
   "cell_type": "code",
   "execution_count": 11,
   "metadata": {
    "nbgrader": {
     "grade": false,
     "grade_id": "exercise_2",
     "locked": false,
     "schema_version": 1,
     "solution": true
    }
   },
   "outputs": [],
   "source": [
    "def get_obstruction(X, h):\n",
    "    ###\n",
    "    ### YOUR CODE HERE\n",
    "    ans=0\n",
    "    for i in range(len(X)):\n",
    "        if X[i]>h:\n",
    "            ans=i\n",
    "            break\n",
    "    return list(range(i,len(X)))"
   ]
  },
  {
   "cell_type": "code",
   "execution_count": 12,
   "metadata": {
    "deletable": false,
    "editable": false,
    "nbgrader": {
     "grade": true,
     "grade_id": "exercise_2_test",
     "locked": true,
     "points": 3,
     "schema_version": 1,
     "solution": false
    }
   },
   "outputs": [
    {
     "name": "stdout",
     "output_type": "stream",
     "text": [
      "Testing: h=6, X=[5, 1, 3, 3.5, 2, 3, 5.9, 4, 10, 8, 5, 12, 6]\n",
      "\t==> Your code's reports these positions as 'obstructed': [8, 9, 10, 11, 12]\n",
      "Testing: h=1, X=[10, 2, 5, 0, 3, 2, 1, 3]\n",
      "\t==> Your code's reports these positions as 'obstructed': [0, 1, 2, 3, 4, 5, 6, 7]\n",
      "Testing: h=4, X=[1, 6, 1, 5, 4]\n",
      "\t==> Your code's reports these positions as 'obstructed': [1, 2, 3, 4]\n",
      "Testing: h=4, X=[6, 8, 9, 5, 8, 6]\n",
      "\t==> Your code's reports these positions as 'obstructed': [0, 1, 2, 3, 4, 5]\n",
      "Testing: h=4, X=[6, 6, 3, 7, 3, 1, 10, 7, 8, 0]\n",
      "\t==> Your code's reports these positions as 'obstructed': [0, 1, 2, 3, 4, 5, 6, 7, 8, 9]\n",
      "Testing: h=5, X=[1, 2]\n",
      "\t==> Your code's reports these positions as 'obstructed': [1]\n",
      "Testing: h=1, X=[8, 3, 6, 9, 10, 2, 10, 7, 7]\n",
      "\t==> Your code's reports these positions as 'obstructed': [0, 1, 2, 3, 4, 5, 6, 7, 8]\n",
      "Testing: h=1, X=[5, 1, 3, 8, 6, 0]\n",
      "\t==> Your code's reports these positions as 'obstructed': [0, 1, 2, 3, 4, 5]\n",
      "Testing: h=5, X=[7, 6, 0, 8, 8, 0, 10, 2]\n",
      "\t==> Your code's reports these positions as 'obstructed': [0, 1, 2, 3, 4, 5, 6, 7]\n",
      "\n",
      "(Passed!)\n"
     ]
    }
   ],
   "source": [
    "# Test cell: `exercise_2_test`\n",
    "\n",
    "def check_get_obstruction(X, h):\n",
    "    global accumulate\n",
    "    print(\"Testing: h={}, X={}\".format(h, X))\n",
    "    try:\n",
    "        del accumulate\n",
    "        pos_test = get_obstruction(X, h)\n",
    "    except NameError as n:\n",
    "        if n.args[0] != \"name 'accumulate' is not defined\":\n",
    "            raise n\n",
    "    finally:\n",
    "        accumulate = SAVE_ACCUMULATE\n",
    "        \n",
    "    pos = get_obstruction(X, h)\n",
    "    print(\"\\t==> Your code's reports these positions as 'obstructed': {}\".format(pos))\n",
    "    for i in range(len(X)):\n",
    "        msg = \"Position i={} is incorrectly labeled.\"\n",
    "        assert X[i] < h or i in pos, msg\n",
    "        \n",
    "# Test 0: Roughly the figure\n",
    "X_test = [5, 1, 3, 3.5, 2, 3, 5.9, 4, 10, 8, 5, 12, 6]\n",
    "h_test = 6\n",
    "check_get_obstruction(X_test, h_test)\n",
    "\n",
    "# Test 1: Random test cases\n",
    "for _ in range(8):\n",
    "    from random import randint\n",
    "    h = randint(1, 5)\n",
    "    n = randint(1, 10)\n",
    "    X = [randint(0, 10) for _ in range(n)]\n",
    "    check_get_obstruction(X, h)\n",
    "    \n",
    "print(\"\\n(Passed!)\")"
   ]
  },
  {
   "cell_type": "markdown",
   "metadata": {},
   "source": [
    "**Application: When to buy a stock?** Suppose you have the price of a stock on $n$ consecutive days. For example, here is a list of stock prices observed on 14 consecutive days (assume these are numbered from 0 to 13, corresponding to the indices):\n",
    "\n",
    "```python\n",
    "prices = [13, 11, 10, 8, 5, 8, 9, 6, 7, 7, 10, 7, 4, 3]\n",
    "```\n",
    "\n",
    "Suppose you buy on day `i` and sell on day `j`, where `j > i`. Then `prices[j] - prices[i]` measures your _profit_ (or _loss_, if negative)."
   ]
  },
  {
   "cell_type": "markdown",
   "metadata": {
    "deletable": false,
    "editable": false,
    "nbgrader": {
     "grade": false,
     "grade_id": "cell-b243511f0f9ffc32",
     "locked": true,
     "schema_version": 1,
     "solution": false
    }
   },
   "source": [
    "**Exercise 3** (5 points). Implement a function, `max_profit(prices)`, to compute the best possible profit you could have made given a list of prices.\n",
    "\n",
    "In the example above, that profit turns out to be 5. That's because you can buy on day 4, whose price is `prices[4] == 5`, and then sell on day 10, whose price is `prices[10] == 10`; it turns out there is no other combination will beat that profit.\n",
    "\n",
    "There are two constraints on your solution:\n",
    "\n",
    "1. You must use `accumulate()`. There is a (relatively) simple and fast solution that does so.\n",
    "2. If only a loss is possible, your function should return 0."
   ]
  },
  {
   "cell_type": "code",
   "execution_count": 6,
   "metadata": {
    "nbgrader": {
     "grade": false,
     "grade_id": "exercise_3",
     "locked": false,
     "schema_version": 1,
     "solution": true
    }
   },
   "outputs": [],
   "source": [
    "def max_profit(prices):\n",
    "    max_profit=0\n",
    "    for i in range(len(prices)-1):\n",
    "        a=prices[i]\n",
    "        b=max(prices[(i+1):])\n",
    "        print(a,b)\n",
    "        if b-a>max_profit:\n",
    "            max_profit=(b-a)\n",
    "        else:\n",
    "            max_profit=max_profit\n",
    "    return max_profit"
   ]
  },
  {
   "cell_type": "code",
   "execution_count": 7,
   "metadata": {
    "deletable": false,
    "editable": false,
    "nbgrader": {
     "grade": true,
     "grade_id": "exercise_3_test",
     "locked": true,
     "points": 5,
     "schema_version": 1,
     "solution": false
    }
   },
   "outputs": [
    {
     "name": "stdout",
     "output_type": "stream",
     "text": [
      "\n",
      "Testing: prices=[13, 11, 10, 8, 5, 8, 9, 6, 7, 7, 10, 7, 4, 3]\n",
      "13 11\n",
      "11 10\n",
      "10 10\n",
      "8 10\n",
      "5 10\n",
      "8 10\n",
      "9 10\n",
      "6 10\n",
      "7 10\n",
      "7 10\n",
      "10 7\n",
      "7 4\n",
      "4 3\n",
      "13 11\n",
      "11 10\n",
      "10 10\n",
      "8 10\n",
      "5 10\n",
      "8 10\n",
      "9 10\n",
      "6 10\n",
      "7 10\n",
      "7 10\n",
      "10 7\n",
      "7 4\n",
      "4 3\n",
      "\t==> Your code's maximum profit: 5\n",
      "\t==> True max profit: 5 (Buy on day 4 at price 5 and sell on 10 at 10.)\n",
      "\n",
      "Testing: prices=[5, 4, 3, 2, 1]\n",
      "5 4\n",
      "4 3\n",
      "3 2\n",
      "2 1\n",
      "5 4\n",
      "4 3\n",
      "3 2\n",
      "2 1\n",
      "\t==> Your code's maximum profit: 0\n",
      "\t==> True max profit: 0 (No buying options!)\n",
      "\n",
      "Testing: prices=[1, 2, 3, 4, 5]\n",
      "1 5\n",
      "2 5\n",
      "3 5\n",
      "4 5\n",
      "1 5\n",
      "2 5\n",
      "3 5\n",
      "4 5\n",
      "\t==> Your code's maximum profit: 4\n",
      "\t==> True max profit: 4 (Buy on day 0 at price 1 and sell on 4 at 5.)\n",
      "\n",
      "Testing: prices=[15, 9, 16, 19, 2, 7, 11]\n",
      "15 19\n",
      "9 19\n",
      "16 19\n",
      "19 11\n",
      "2 11\n",
      "7 11\n",
      "15 19\n",
      "9 19\n",
      "16 19\n",
      "19 11\n",
      "2 11\n",
      "7 11\n",
      "\t==> Your code's maximum profit: 10\n",
      "\t==> True max profit: 10 (Buy on day 1 at price 9 and sell on 3 at 19.)\n",
      "\n",
      "Testing: prices=[15, 10, 11, 20, 13]\n",
      "15 20\n",
      "10 20\n",
      "11 20\n",
      "20 13\n",
      "15 20\n",
      "10 20\n",
      "11 20\n",
      "20 13\n",
      "\t==> Your code's maximum profit: 10\n",
      "\t==> True max profit: 10 (Buy on day 1 at price 10 and sell on 3 at 20.)\n",
      "\n",
      "Testing: prices=[11, 7, 7, 9, 15, 7, 15, 15]\n",
      "11 15\n",
      "7 15\n",
      "7 15\n",
      "9 15\n",
      "15 15\n",
      "7 15\n",
      "15 15\n",
      "11 15\n",
      "7 15\n",
      "7 15\n",
      "9 15\n",
      "15 15\n",
      "7 15\n",
      "15 15\n",
      "\t==> Your code's maximum profit: 8\n",
      "\t==> True max profit: 8 (Buy on day 1 at price 7 and sell on 4 at 15.)\n",
      "\n",
      "Testing: prices=[5, 15, 18, 8, 19, 3, 20, 9, 6, 1]\n",
      "5 20\n",
      "15 20\n",
      "18 20\n",
      "8 20\n",
      "19 20\n",
      "3 20\n",
      "20 9\n",
      "9 6\n",
      "6 1\n",
      "5 20\n",
      "15 20\n",
      "18 20\n",
      "8 20\n",
      "19 20\n",
      "3 20\n",
      "20 9\n",
      "9 6\n",
      "6 1\n",
      "\t==> Your code's maximum profit: 17\n",
      "\t==> True max profit: 17 (Buy on day 5 at price 3 and sell on 6 at 20.)\n",
      "\n",
      "Testing: prices=[20, 3, 3, 20, 5, 12, 10, 4]\n",
      "20 20\n",
      "3 20\n",
      "3 20\n",
      "20 12\n",
      "5 12\n",
      "12 10\n",
      "10 4\n",
      "20 20\n",
      "3 20\n",
      "3 20\n",
      "20 12\n",
      "5 12\n",
      "12 10\n",
      "10 4\n",
      "\t==> Your code's maximum profit: 17\n",
      "\t==> True max profit: 17 (Buy on day 1 at price 3 and sell on 3 at 20.)\n",
      "\n",
      "Testing: prices=[15, 9, 18, 2, 1, 14, 14, 15, 5]\n",
      "15 18\n",
      "9 18\n",
      "18 15\n",
      "2 15\n",
      "1 15\n",
      "14 15\n",
      "14 15\n",
      "15 5\n",
      "15 18\n",
      "9 18\n",
      "18 15\n",
      "2 15\n",
      "1 15\n",
      "14 15\n",
      "14 15\n",
      "15 5\n",
      "\t==> Your code's maximum profit: 14\n",
      "\t==> True max profit: 14 (Buy on day 4 at price 1 and sell on 7 at 15.)\n",
      "\n",
      "Testing: prices=[8, 17, 3, 8, 2, 3, 3]\n",
      "8 17\n",
      "17 8\n",
      "3 8\n",
      "8 3\n",
      "2 3\n",
      "3 3\n",
      "8 17\n",
      "17 8\n",
      "3 8\n",
      "8 3\n",
      "2 3\n",
      "3 3\n",
      "\t==> Your code's maximum profit: 9\n",
      "\t==> True max profit: 9 (Buy on day 0 at price 8 and sell on 1 at 17.)\n",
      "\n",
      "Testing: prices=[1, 16, 13, 5, 20, 9, 9, 18]\n",
      "1 20\n",
      "16 20\n",
      "13 20\n",
      "5 20\n",
      "20 18\n",
      "9 18\n",
      "9 18\n",
      "1 20\n",
      "16 20\n",
      "13 20\n",
      "5 20\n",
      "20 18\n",
      "9 18\n",
      "9 18\n",
      "\t==> Your code's maximum profit: 19\n",
      "\t==> True max profit: 19 (Buy on day 0 at price 1 and sell on 4 at 20.)\n",
      "\n",
      "(Passed!)\n"
     ]
    }
   ],
   "source": [
    "# Test cell: `exercise_3_test`\n",
    "\n",
    "def check_profit(prices):\n",
    "    global accumulate\n",
    "    print(\"\\nTesting: prices={}\".format(prices))\n",
    "    try:\n",
    "        del accumulate\n",
    "        profit_test = max_profit(prices)\n",
    "    except NameError as n:\n",
    "        if n.args[0] != \"name 'accumulate' is not defined\":\n",
    "            raise n\n",
    "    finally:\n",
    "        accumulate = SAVE_ACCUMULATE\n",
    "\n",
    "    profit = max_profit(prices)\n",
    "    print(\"\\t==> Your code's maximum profit: {}\".format(profit))\n",
    "    \n",
    "    # Do an exhaustive search -- a correct, but highly inefficient, algorithm\n",
    "    true_max = 0\n",
    "    i_max, j_max = -1, -1\n",
    "    for i in range(len(prices)):\n",
    "        for j in range(i, len(prices)):\n",
    "            gain_ij = prices[j] - prices[i]\n",
    "            if gain_ij > true_max:\n",
    "                i_max, j_max, true_max = i, j, gain_ij\n",
    "    if i_max >= 0 and j_max >= 0:\n",
    "        explain = \"Buy on day {} at price {} and sell on {} at {}.\".format(i_max, prices[i_max],\n",
    "                                                                           j_max, prices[j_max])\n",
    "    else:\n",
    "        explain = \"No buying options!\"\n",
    "    print(\"\\t==> True max profit: {} ({})\".format(true_max, explain))\n",
    "    assert profit == true_max, \"Your code's calculation does not match.\"\n",
    "\n",
    "check_profit([13, 11, 10, 8, 5, 8, 9, 6, 7, 7, 10, 7, 4, 3])\n",
    "check_profit([5, 4, 3, 2, 1])\n",
    "check_profit([1, 2, 3, 4, 5])\n",
    "\n",
    "for _ in range(8): # Random test cases\n",
    "    from random import randint\n",
    "    num_days = randint(1, 10)\n",
    "    prices = [randint(1, 20) for _ in range(num_days)]\n",
    "    check_profit(prices)\n",
    "\n",
    "print(\"\\n(Passed!)\")"
   ]
  },
  {
   "cell_type": "markdown",
   "metadata": {
    "deletable": false,
    "editable": false,
    "nbgrader": {
     "grade": false,
     "grade_id": "cell-52a7122f70cf4e61",
     "locked": true,
     "schema_version": 1,
     "solution": false
    }
   },
   "source": [
    "**Fin!** If you've reached this point and all tests above pass, you are ready to submit your solution to this problem. Don't forget to save you work prior to submitting."
   ]
  },
  {
   "cell_type": "code",
   "execution_count": 8,
   "metadata": {
    "deletable": false,
    "editable": false,
    "nbgrader": {
     "grade": true,
     "grade_id": "ran_to_completion",
     "locked": true,
     "points": 0,
     "schema_version": 1,
     "solution": false
    }
   },
   "outputs": [
    {
     "name": "stdout",
     "output_type": "stream",
     "text": [
      "\n",
      "(This notebook ran to completion.)\n"
     ]
    }
   ],
   "source": [
    "print(\"\\n(This notebook ran to completion.)\")"
   ]
  },
  {
   "cell_type": "code",
   "execution_count": null,
   "metadata": {},
   "outputs": [],
   "source": []
  }
 ],
 "metadata": {
  "celltoolbar": "Create Assignment",
  "kernelspec": {
   "display_name": "Python 3",
   "language": "python",
   "name": "python3"
  },
  "language_info": {
   "codemirror_mode": {
    "name": "ipython",
    "version": 3
   },
   "file_extension": ".py",
   "mimetype": "text/x-python",
   "name": "python",
   "nbconvert_exporter": "python",
   "pygments_lexer": "ipython3",
   "version": "3.6.5"
  }
 },
 "nbformat": 4,
 "nbformat_minor": 1
}
