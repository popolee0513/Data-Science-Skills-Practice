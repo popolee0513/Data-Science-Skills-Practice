{
 "cells": [
  {
   "cell_type": "markdown",
   "metadata": {},
   "source": [
    "# Part 1: Supplemental Background on Numpy\n",
    "\n",
    "This notebook is a quick overview of additional functionality in Numpy. It is intended to supplement the videos and the other parts of this assignment. It does **not** contain any exercises that you need to submit."
   ]
  },
  {
   "cell_type": "code",
   "execution_count": 2,
   "metadata": {},
   "outputs": [
    {
     "name": "stdout",
     "output_type": "stream",
     "text": [
      "1.16.1\n"
     ]
    }
   ],
   "source": [
    "import numpy as np\n",
    "print(np.__version__)"
   ]
  },
  {
   "cell_type": "markdown",
   "metadata": {},
   "source": [
    "# Random numbers"
   ]
  },
  {
   "cell_type": "markdown",
   "metadata": {},
   "source": [
    "Numpy has a rich collection of (pseudo) random number generators. Here is an example; \n",
    "see the documentation for [numpy.random()](https://docs.scipy.org/doc/numpy/reference/routines.random.html) for more details."
   ]
  },
  {
   "cell_type": "code",
   "execution_count": 3,
   "metadata": {},
   "outputs": [
    {
     "name": "stdout",
     "output_type": "stream",
     "text": [
      "[[  7   9   2]\n",
      " [ -9   7   7]\n",
      " [  3  -3   3]\n",
      " [ -5  -1 -10]]\n"
     ]
    }
   ],
   "source": [
    "A = np.random.randint(-10, 10, size=(4, 3)) # return random integers from -10 (inclusive) to 10 (exclusive)\n",
    "print(A)"
   ]
  },
  {
   "cell_type": "markdown",
   "metadata": {},
   "source": [
    "# Aggregations or reductions"
   ]
  },
  {
   "cell_type": "markdown",
   "metadata": {},
   "source": [
    "Suppose you want to reduce the values of a Numpy array to a smaller number of values. Numpy provides a number of such functions that _aggregate_ values. Examples of aggregations include sums, min/max calculations, and averaging, among others."
   ]
  },
  {
   "cell_type": "code",
   "execution_count": 4,
   "metadata": {},
   "outputs": [
    {
     "name": "stdout",
     "output_type": "stream",
     "text": [
      "np.max = 9 ; np.amax = 9\n",
      "np.min = -10 ; np.amin = -10\n",
      "np.sum = 10\n",
      "np.mean = 0.8333333333333334\n",
      "np.std = 6.175669104549635\n"
     ]
    }
   ],
   "source": [
    "print(\"np.max =\", np.max(A),\"; np.amax =\", np.amax(A)) # np.max() and np.amax() are synonyms\n",
    "print(\"np.min =\",np.min(A),\"; np.amin =\", np.amin(A)) # same\n",
    "print(\"np.sum =\",np.sum(A))\n",
    "print(\"np.mean =\",np.mean(A))\n",
    "print(\"np.std =\",np.std(A))"
   ]
  },
  {
   "cell_type": "markdown",
   "metadata": {},
   "source": [
    "The above examples aggregate over all values. But you can also aggregate along a dimension using the optional `axis` parameter."
   ]
  },
  {
   "cell_type": "code",
   "execution_count": 5,
   "metadata": {},
   "outputs": [
    {
     "name": "stdout",
     "output_type": "stream",
     "text": [
      "Max in each column: [7 9 7]\n",
      "Max in each row: [ 9  7  3 -1]\n"
     ]
    }
   ],
   "source": [
    "print(\"Max in each column:\", np.amax(A, axis=0)) # i.e., aggregate along axis 0, the rows, producing column maxes\n",
    "print(\"Max in each row:\", np.amax(A, axis=1)) # i.e., aggregate along axis 1, the columns, producing row maxes"
   ]
  },
  {
   "cell_type": "markdown",
   "metadata": {},
   "source": [
    "# Universal functions"
   ]
  },
  {
   "cell_type": "markdown",
   "metadata": {},
   "source": [
    "Universal functions apply a given function _elementwise_ to one or more Numpy objects.\n",
    "\n",
    "For instance, `np.abs(A)` takes the absolute value of each element."
   ]
  },
  {
   "cell_type": "code",
   "execution_count": 6,
   "metadata": {},
   "outputs": [
    {
     "name": "stdout",
     "output_type": "stream",
     "text": [
      "[[  7   9   2]\n",
      " [ -9   7   7]\n",
      " [  3  -3   3]\n",
      " [ -5  -1 -10]] \n",
      "==>\n",
      " [[ 7  9  2]\n",
      " [ 9  7  7]\n",
      " [ 3  3  3]\n",
      " [ 5  1 10]]\n"
     ]
    }
   ],
   "source": [
    "print(A, \"\\n==>\\n\", np.abs(A))"
   ]
  },
  {
   "cell_type": "markdown",
   "metadata": {},
   "source": [
    "Some universal functions accept multiple, compatible arguments. For instance, here, we compute the _elementwise maximum_ between two matrices, $A$ and $B$, producing a new matrix $C$ such that $c_{ij} = \\max(a_{ij}, b_{ij})$.\n",
    "\n",
    "> The matrices must have compatible shapes, which we will elaborate on below when we discuss Numpy's _broadcasting rule_."
   ]
  },
  {
   "cell_type": "code",
   "execution_count": 7,
   "metadata": {},
   "outputs": [
    {
     "name": "stdout",
     "output_type": "stream",
     "text": [
      "[[  7   9   2]\n",
      " [ -9   7   7]\n",
      " [  3  -3   3]\n",
      " [ -5  -1 -10]]\n"
     ]
    }
   ],
   "source": [
    "print(A) # recall A"
   ]
  },
  {
   "cell_type": "code",
   "execution_count": 8,
   "metadata": {},
   "outputs": [
    {
     "name": "stdout",
     "output_type": "stream",
     "text": [
      "[[-5  1 -8]\n",
      " [-7  8  2]\n",
      " [-4 -5  1]\n",
      " [ 6  3 -7]]\n"
     ]
    }
   ],
   "source": [
    "B = np.random.randint(-10, 10, size=A.shape)\n",
    "print(B)"
   ]
  },
  {
   "cell_type": "code",
   "execution_count": 9,
   "metadata": {},
   "outputs": [
    {
     "name": "stdout",
     "output_type": "stream",
     "text": [
      "[[ 7  9  2]\n",
      " [-7  8  7]\n",
      " [ 3 -3  3]\n",
      " [ 6  3 -7]]\n"
     ]
    }
   ],
   "source": [
    "C = np.maximum(A, B) # elementwise comparison\n",
    "print(C)"
   ]
  },
  {
   "cell_type": "markdown",
   "metadata": {},
   "source": [
    "You can also build your own universal functions! For instance, suppose we want a way to compute, elementwise, $f(x) = e^{-x^2}$ and we have a scalar function that can do so:"
   ]
  },
  {
   "cell_type": "code",
   "execution_count": 10,
   "metadata": {
    "collapsed": true
   },
   "outputs": [],
   "source": [
    "def f(x):\n",
    "    from math import exp\n",
    "    return exp(-(x**2))"
   ]
  },
  {
   "cell_type": "markdown",
   "metadata": {},
   "source": [
    "This function accepts one input (`x`) and returns a single output. The following will create a new Numpy universal function `f_np`.\n",
    "See the documentation for [np.frompyfunc()](https://docs.scipy.org/doc/numpy/reference/generated/numpy.frompyfunc.html) for more details."
   ]
  },
  {
   "cell_type": "code",
   "execution_count": 11,
   "metadata": {},
   "outputs": [
    {
     "name": "stdout",
     "output_type": "stream",
     "text": [
      "[[  7   9   2]\n",
      " [ -9   7   7]\n",
      " [  3  -3   3]\n",
      " [ -5  -1 -10]] \n",
      "=>\n",
      " [[5.242885663363464e-22 6.639677199580735e-36 0.01831563888873418]\n",
      " [6.639677199580735e-36 5.242885663363464e-22 5.242885663363464e-22]\n",
      " [0.00012340980408667956 0.00012340980408667956 0.00012340980408667956]\n",
      " [1.3887943864964021e-11 0.36787944117144233 3.720075976020836e-44]]\n"
     ]
    }
   ],
   "source": [
    "f_np = np.frompyfunc(f, 1, 1)  \n",
    "\n",
    "print(A, \"\\n=>\\n\", f_np(A))"
   ]
  },
  {
   "cell_type": "markdown",
   "metadata": {},
   "source": [
    "# Broadcasting"
   ]
  },
  {
   "cell_type": "markdown",
   "metadata": {},
   "source": [
    "Sometimes we want to combine operations on Numpy arrays that have different shapes but are _compatible_.\n",
    "\n",
    "In the following example, we want to add 3 elementwise to every value in `A`."
   ]
  },
  {
   "cell_type": "code",
   "execution_count": 16,
   "metadata": {},
   "outputs": [
    {
     "name": "stdout",
     "output_type": "stream",
     "text": [
      "[[  7   9   2]\n",
      " [ -9   7   7]\n",
      " [  3  -3   3]\n",
      " [ -5  -1 -10]]\n",
      "\n",
      "[[10 12  5]\n",
      " [-6 10 10]\n",
      " [ 6  0  6]\n",
      " [-2  2 -7]]\n"
     ]
    }
   ],
   "source": [
    "print(A)\n",
    "print()\n",
    "print(A + 3)"
   ]
  },
  {
   "cell_type": "markdown",
   "metadata": {},
   "source": [
    "Technically, `A` and `3` have different shapes: the former is a $4 \\times 3$ matrix, while the latter is a scalar ($1 \\times 1$). However, they are compatible because Numpy knows how to _extend_---or **broadcast**---the value 3 into an equivalent matrix object of the same shape in order to combine them."
   ]
  },
  {
   "cell_type": "markdown",
   "metadata": {},
   "source": [
    "To see a more sophisticated example, suppose each row `A[i, :]` are the coordinates of a data point, and we want to compute the centroid of all the data points (or center-of-mass, if we imagine each point is a unit mass). That's the same as computing the mean coordinate for each column:"
   ]
  },
  {
   "cell_type": "code",
   "execution_count": 13,
   "metadata": {},
   "outputs": [
    {
     "name": "stdout",
     "output_type": "stream",
     "text": [
      "[[  7   9   2]\n",
      " [ -9   7   7]\n",
      " [  3  -3   3]\n",
      " [ -5  -1 -10]] \n",
      "=>\n",
      " [-1.   3.   0.5]\n"
     ]
    }
   ],
   "source": [
    "A_row_means = np.mean(A, axis=0)\n",
    "\n",
    "print(A, \"\\n=>\\n\", A_row_means)"
   ]
  },
  {
   "cell_type": "markdown",
   "metadata": {},
   "source": [
    "Now, suppose you want to shift the points so that their mean is zero. Even though they don't have the same shape, Numpy will interpret `A - A_row_means` as precisely this operation, effectively extending or \"replicating\" `A_row_means` into rows of a matrix of the same shape as `A`, in order to then perform elementwise subtraction."
   ]
  },
  {
   "cell_type": "code",
   "execution_count": 14,
   "metadata": {},
   "outputs": [
    {
     "data": {
      "text/plain": [
       "array([[  8. ,   6. ,   1.5],\n",
       "       [ -8. ,   4. ,   6.5],\n",
       "       [  4. ,  -6. ,   2.5],\n",
       "       [ -4. ,  -4. , -10.5]])"
      ]
     },
     "execution_count": 14,
     "metadata": {},
     "output_type": "execute_result"
    }
   ],
   "source": [
    "A_row_centered = A - A_row_means\n",
    "A_row_centered"
   ]
  },
  {
   "cell_type": "markdown",
   "metadata": {},
   "source": [
    "Suppose you instead want to mean-center the _columns_ instead of the rows. You could start by computing column means:"
   ]
  },
  {
   "cell_type": "code",
   "execution_count": 15,
   "metadata": {},
   "outputs": [
    {
     "name": "stdout",
     "output_type": "stream",
     "text": [
      "[[  7   9   2]\n",
      " [ -9   7   7]\n",
      " [  3  -3   3]\n",
      " [ -5  -1 -10]] \n",
      "=>\n",
      " [ 6.          1.66666667  1.         -5.33333333]\n"
     ]
    }
   ],
   "source": [
    "A_col_means = np.mean(A, axis=1)\n",
    "\n",
    "print(A, \"\\n=>\\n\", A_col_means)"
   ]
  },
  {
   "cell_type": "markdown",
   "metadata": {},
   "source": [
    "But the same operation will fail!"
   ]
  },
  {
   "cell_type": "code",
   "execution_count": 18,
   "metadata": {},
   "outputs": [],
   "source": [
    "#A - A_col_means # Fails!"
   ]
  },
  {
   "cell_type": "markdown",
   "metadata": {},
   "source": [
    "The error reports that these shapes are not compatible. So how can you fix it?\n",
    "\n",
    "**Broadcasting rule.** One way is to learn Numpy's convention for **[broadcasting](https://docs.scipy.org/doc/numpy/reference/ufuncs.html#broadcasting)**. Numpy starts by looking at the shapes of the objects:"
   ]
  },
  {
   "cell_type": "code",
   "execution_count": 19,
   "metadata": {},
   "outputs": [
    {
     "name": "stdout",
     "output_type": "stream",
     "text": [
      "(4, 3) (3,)\n"
     ]
    }
   ],
   "source": [
    "print(A.shape, A_row_means.shape)"
   ]
  },
  {
   "cell_type": "markdown",
   "metadata": {},
   "source": [
    "These are compatible if, starting from _right_ to _left_, the dimensions match **or** one of the dimensions is 1. This convention of moving from right to left is referred to as matching the _trailing dimensions_. In this example, the rightmost dimensions of each object are both 3, so they match. Since `A_row_means` has no more dimensions, it can be replicated to match the remaining dimensions of `A`."
   ]
  },
  {
   "cell_type": "markdown",
   "metadata": {},
   "source": [
    "By contrast, consider the shapes of `A` and `A_col_means`:"
   ]
  },
  {
   "cell_type": "code",
   "execution_count": 20,
   "metadata": {},
   "outputs": [
    {
     "name": "stdout",
     "output_type": "stream",
     "text": [
      "(4, 3) (4,)\n"
     ]
    }
   ],
   "source": [
    "print(A.shape, A_col_means.shape)"
   ]
  },
  {
   "cell_type": "markdown",
   "metadata": {},
   "source": [
    "In this case, per the broadcasting rule, the trailing dimensions of 3 and 4 do not match. Therefore, the broadcast rule fails. To make it work, we need to modify `A_col_means` to have a unit trailing dimension. Use Numpy's [`reshape()`](https://docs.scipy.org/doc/numpy/reference/generated/numpy.reshape.html) to convert `A_col_means` into a shape that has an explicit trailing dimension of size 1."
   ]
  },
  {
   "cell_type": "code",
   "execution_count": 21,
   "metadata": {},
   "outputs": [
    {
     "name": "stdout",
     "output_type": "stream",
     "text": [
      "[[ 6.        ]\n",
      " [ 1.66666667]\n",
      " [ 1.        ]\n",
      " [-5.33333333]] => (4, 1)\n"
     ]
    }
   ],
   "source": [
    "A_col_means2 = np.reshape(A_col_means, (len(A_col_means), 1))\n",
    "print(A_col_means2, \"=>\", A_col_means2.shape)"
   ]
  },
  {
   "cell_type": "markdown",
   "metadata": {},
   "source": [
    "Now the trailing dimension equals 1, so it can be matched against the trailing dimension of `A`. The next dimension is the same between the two objects, so Numpy knows it can replicate accordingly."
   ]
  },
  {
   "cell_type": "code",
   "execution_count": 22,
   "metadata": {
    "nbgrader": {
     "grade": false,
     "locked": false,
     "solution": false
    }
   },
   "outputs": [
    {
     "name": "stdout",
     "output_type": "stream",
     "text": [
      "A - A_col_means2\n",
      "\n",
      " [[  7   9   2]\n",
      " [ -9   7   7]\n",
      " [  3  -3   3]\n",
      " [ -5  -1 -10]] \n",
      "- [[ 6.        ]\n",
      " [ 1.66666667]\n",
      " [ 1.        ]\n",
      " [-5.33333333]]\n",
      "\n",
      "=>\n",
      " [[  1.           3.          -4.        ]\n",
      " [-10.66666667   5.33333333   5.33333333]\n",
      " [  2.          -4.           2.        ]\n",
      " [  0.33333333   4.33333333  -4.66666667]]\n"
     ]
    }
   ],
   "source": [
    "print(\"A - A_col_means2\\n\\n\", A, \"\\n-\", A_col_means2) \n",
    "print(\"\\n=>\\n\", A - A_col_means2)"
   ]
  },
  {
   "cell_type": "markdown",
   "metadata": {},
   "source": [
    "**Thought exercise.** As a thought exercise, you might see if you can generalize and apply the broadcasting rule to a 3-way array."
   ]
  },
  {
   "cell_type": "markdown",
   "metadata": {},
   "source": [
    "**Fin!** That marks the end of this notebook. If you want to learn more, checkout the second edition of [Python for Data Analysis](http://shop.oreilly.com/product/0636920050896.do) (released in October 2017)."
   ]
  },
  {
   "cell_type": "code",
   "execution_count": 23,
   "metadata": {
    "collapsed": true,
    "deletable": false,
    "editable": false,
    "nbgrader": {
     "grade": true,
     "grade_id": "dummy",
     "locked": true,
     "points": "0",
     "solution": false
    }
   },
   "outputs": [],
   "source": [
    "pass # Dummy cell"
   ]
  },
  {
   "cell_type": "code",
   "execution_count": null,
   "metadata": {
    "collapsed": true
   },
   "outputs": [],
   "source": []
  }
 ],
 "metadata": {
  "kernelspec": {
   "display_name": "Python 3 [3.6]",
   "language": "python",
   "name": "python3"
  },
  "language_info": {
   "codemirror_mode": {
    "name": "ipython",
    "version": 3
   },
   "file_extension": ".py",
   "mimetype": "text/x-python",
   "name": "python",
   "nbconvert_exporter": "python",
   "pygments_lexer": "ipython3",
   "version": "3.6.4"
  }
 },
 "nbformat": 4,
 "nbformat_minor": 2
}
