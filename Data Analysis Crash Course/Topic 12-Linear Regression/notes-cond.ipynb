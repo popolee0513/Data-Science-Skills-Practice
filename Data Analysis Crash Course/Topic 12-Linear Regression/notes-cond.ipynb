{
    "cells": [
        {
            "cell_type": "markdown",
            "metadata": {},
            "source": [
                "## Notes: Perturbation theory and condition numbers\n",
                "\n",
                "Let's start by asking how \"hard\" it is to solve a given linear system, $Ax=b$. Once we have walked through the logic of how \"hard\" a single variable function is to solve (using [perturbation theory](https:\/\/en.wikipedia.org\/wiki\/Perturbation_theory)), we will extend the idea to an infinite number of dimensions. \n",
                "\n",
                "\n",
                "This notebook is only for your edification. You do not need to submit it, but you are responsible for understanding the concept of a _condition number_ and how to estimate it for a matrix using Numpy. (The code below shows you how!)"
            ]
        },
        {
            "cell_type": "markdown",
            "metadata": {},
            "source": [
                "**Intuition: Continuous functions of a single variable.** To build your intuition, consider the simple case of a scalar function in a single continuous variable, $y = f(x)$. Suppose the input is perturbed by some amount, $\\Delta x$. The output will also change by some amount, $\\Delta y$. How large is $\\Delta y$ relative to $\\Delta x$?\n",
                "\n",
                "Supposing $\\Delta x$ is sufficiently small, you can approximate the change in the output by a Taylor series expansion of $f(x + \\Delta x)$:\n",
                "\n",
                "$$\n",
                "  y + \\Delta y = f(x + \\Delta x) = f(x) + \\Delta x \\frac{df}{dx} + O(\\Delta x^2).\n",
                "$$\n",
                "\n",
                "Since $\\Delta x$ is assumed to be \"small,\" we can approximate this relation by\n",
                "\n",
                "$$\n",
                "\\begin{eqnarray}\n",
                "    y + \\Delta y & \\approx & f(x) + \\Delta x \\frac{df}{dx} \\\\\n",
                "        \\Delta y & \\approx & \\Delta x \\frac{df}{dx}.\n",
                "\\end{eqnarray}\n",
                "$$\n",
                "\n",
                "This result should not be surprising: the first derivative measures the sensitivity of changes in the output to changes in the input. We will give the derivative a special name: it is the _(absolute) condition number_. If it is very large in the vicinity of $x$, then even small changes to the input will result in large changes in the output. Put differently, a large condition number indicates that the problem is intrinsically sensitive, so we should expect it may be difficult to construct an accurate algorithm.\n",
                "\n",
                "In addition to the absolute condition number, we can define a _relative_ condition number for the problem of evaluating $f(x)$.\n",
                "\n",
                "$$\n",
                "\\begin{eqnarray}\n",
                "                \\Delta y &  \\approx   & \\Delta x \\frac{df}{dx} \\\\\n",
                "                         & \\Downarrow & \\\\\n",
                "  \\frac{|\\Delta y|}{|y|} &  \\approx   & \\frac{|\\Delta x|}{|x|} \\cdot \\underbrace{\\frac{|df\/dx| \\cdot |x|}{|f(x)|}}_{\\kappa_f(x)}.\n",
                "\\end{eqnarray}\n",
                "$$\n",
                "\n",
                "Here, the underscored factor, defined to be $\\kappa_f(x)$, is the relative analogue of the absolute condition number. Again, its magnitude tells us whether the output is sensitive to the input."
            ]
        },
        {
            "cell_type": "markdown",
            "metadata": {},
            "source": [
                "**Perturbation theory for linear systems.** What if we perturb a linear system? How can we measure its sensitivity or \"intrinsic difficulty\" to solve?\n",
                "\n",
                "First, recall the following identities linear algebraic identities:\n",
                "\n",
                "* _Triangle inequality_: $\\|x + y\\|_2 \\leq \\|x\\|_2 + \\|y\\|_2$\n",
                "* _Norm of a matrix-vector product_: $\\|Ax\\|_2 \\leq \\|A\\|_F\\cdot\\|x\\|_2$\n",
                "* _Norm of matrix-matrix product_: $\\|AB\\|_F \\leq \\|A\\|_F\\cdot\\|B\\|_F$\n",
                "\n",
                "To simplify the notation a little, we will drop the \"$2$\" and \"$F$\" subscripts."
            ]
        },
        {
            "cell_type": "markdown",
            "metadata": {},
            "source": [
                "Suppose all of $A$, $b$, and the eventual solution $x$ undergo additive perturbations, denoted by $A + \\Delta A$, $b + \\Delta b$, and $x + \\Delta x$, respectively. Then, subtracting the original system from the perturbed system, you would obtain the following.\n",
                "\n",
                "$$\n",
                "\\begin{array}{rrcll}\n",
                "   &         (A + \\Delta A)(x + \\Delta x) & = & b + \\Delta b & \\\\\n",
                "- [&                                   Ax & = & b & ] \\\\\n",
                "\\hline\n",
                "   & \\Delta A x + (A + \\Delta A) \\Delta x & = & \\Delta b & \\\\\n",
                "\\end{array}\n",
                "$$"
            ]
        },
        {
            "cell_type": "markdown",
            "metadata": {},
            "source": [
                "Now look more closely at the perturbation, $\\Delta x$, of the solution. Let $\\hat{x} \\equiv x + \\Delta x$ be the perturbed solution. Then the above can be rewritten as,\n",
                "\n",
                "$$\\Delta x = A^{-1} \\left(\\Delta b - \\Delta A \\hat{x}\\right),$$\n",
                "\n",
                "where we have assumed that $A$ is invertible. (That won't be true for our overdetermined system, but let's not worry about that for the moment.)"
            ]
        },
        {
            "cell_type": "markdown",
            "metadata": {},
            "source": [
                "How large is $\\Delta x$? Let's use a norm to measure it and bound it using \n",
                "\n",
                "$$\n",
                "\\begin{array}{rcl}\n",
                "  \\|\\Delta x\\| &   =   & \\|A^{-1} \\left(\\Delta b - \\Delta A \\hat{x}\\right)\\| \\\\\n",
                "               &  \\leq & \\|A^{-1}\\|\\cdot\\left(\\|\\Delta b\\| + \\|\\Delta A\\|\\cdot\\|\\hat{x}\\|\\right).\n",
                "\\end{array}\n",
                "$$"
            ]
        },
        {
            "cell_type": "markdown",
            "metadata": {},
            "source": [
                "You can rewrite this as follows:\n",
                "\n",
                "$$\n",
                "\\begin{array}{rcl}\n",
                "  \\frac{\\|\\Delta x\\|}\n",
                "       {\\|\\hat{x}\\|}\n",
                "    & \\leq &\n",
                "    \\|A^{-1}\\| \\cdot \\|A\\| \\cdot \\left(\n",
                "                                   \\frac{\\|\\Delta A\\|}\n",
                "                                        {\\|A\\|}\n",
                "                                   +\n",
                "                                   \\frac{\\Delta b}\n",
                "                                        {\\|A\\| \\cdot \\|\\hat{x}\\|}\n",
                "                                 \\right).\n",
                "\\end{array}\n",
                "$$"
            ]
        },
        {
            "cell_type": "markdown",
            "metadata": {},
            "source": [
                "This bound says that the relative error of the perturbed solution, compared to relative perturbations in $A$ and $b$, scales with the product, $\\|A^{-1}\\| \\cdot \\|A\\|$. This factor is the linear systems analogue of the condition number for evaluating the function $f(x)$! As such, we define\n",
                "\n",
                "$$\\kappa(A) \\equiv \\|A^{-1}\\| \\cdot \\|A\\|$$\n",
                "\n",
                "as the _condition number of $A$_ for solving linear systems."
            ]
        },
        {
            "cell_type": "markdown",
            "metadata": {},
            "source": [
                "**What values of $\\kappa(A)$ are \"large?\"** Generally, you want to compare $\\kappa(A)$ to $1\/\\epsilon$, where $\\epsilon$ is _machine precision_, which is the [maximum relative error under rounding](https:\/\/sites.ualberta.ca\/~kbeach\/phys420_580_2010\/docs\/ACM-Goldberg.pdf). We may look more closely at floating-point representations later on, but for now, a good notional value for $\\epsilon$ is about $10^{-7}$ in single-precision and $10^{-15}$ in double-precision. (In Python, the default format for floating-point values is double-precision.)\n",
                "\n",
                "This analysis explains why solving the normal equations directly could lead to computational problems. In particular, one can show that $\\kappa(X^T X) \\approx \\kappa(X)^2$, which means forming $X^T X$ explicitly may make the problem harder to solve by a large amount!\n",
                "\n",
                "Another scenario in which $X$ will have a large condition number is when it has nearly collinear predictors. See the examples below."
            ]
        },
        {
            "cell_type": "markdown",
            "metadata": {
                "collapsed": true,
                "nbgrader": {
                    "grade": false,
                    "grade_id": "cell-921c6afe80942a78",
                    "locked": true,
                    "schema_version": 1,
                    "solution": false
                },
                "editable": false,
                "deletable": false
            },
            "source": [
                "**Fin!** That's the end of these notes."
            ]
        }
    ],
    "metadata": {
        "anaconda-cloud": [],
        "celltoolbar": "Create Assignment",
        "kernelspec": {
            "display_name": "Python 3.6 [deprecated]",
            "language": "python",
            "name": "python36"
        },
        "language_info": {
            "codemirror_mode": {
                "name": "ipython",
                "version": 3
            },
            "file_extension": ".py",
            "mimetype": "text\/x-python",
            "name": "python",
            "nbconvert_exporter": "python",
            "pygments_lexer": "ipython3",
            "version": "3.6.4"
        }
    },
    "nbformat": 4,
    "nbformat_minor": 1
}