{
 "cells": [
  {
   "cell_type": "markdown",
   "metadata": {
    "deletable": false,
    "editable": false,
    "nbgrader": {
     "grade": false,
     "grade_id": "cell-9673c77d0e8030f6",
     "locked": true,
     "schema_version": 1,
     "solution": false
    }
   },
   "source": [
    "# Clustering via $k$-means\n",
    "\n",
    "We previously studied the classification problem using the logistic regression algorithm. Since we had labels for each data point, we may regard the problem as one of _supervised learning_. However, in many applications, the data have no labels but we wish to discover possible labels (or other hidden patterns or structures). This problem is one of _unsupervised learning_. How can we approach such problems?\n",
    "\n",
    "**Clustering** is one class of unsupervised learning methods. In this lab, we'll consider the following form of the clustering task. Suppose you are given\n",
    "\n",
    "- a set of observations, $X \\equiv \\{\\hat{x}_i \\,|\\, 0 \\leq i < n\\}$, and\n",
    "- a target number of _clusters_, $k$.\n",
    "\n",
    "Your goal is to partition the points into $k$ subsets, $C_0,\\dots, C_{k-1} \\subseteq X$, which are\n",
    "\n",
    "- disjoint, i.e., $i \\neq j \\implies C_i \\cap C_j = \\emptyset$;\n",
    "- but also complete, i.e., $C_0 \\cup C_1 \\cup \\cdots \\cup C_{k-1} = X$.\n",
    "\n",
    "Intuitively, each cluster should reflect some \"sensible\" grouping. Thus, we need to specify what constitutes such a grouping."
   ]
  },
  {
   "cell_type": "markdown",
   "metadata": {
    "deletable": false,
    "editable": false,
    "nbgrader": {
     "grade": false,
     "grade_id": "cell-541e8cffa94a67c8",
     "locked": true,
     "schema_version": 1,
     "solution": false
    }
   },
   "source": [
    "## Setup: Dataset\n",
    "\n",
    "The following cell will download the data you'll need for this lab. Run it now."
   ]
  },
  {
   "cell_type": "code",
   "execution_count": 1,
   "metadata": {
    "deletable": false,
    "editable": false,
    "nbgrader": {
     "grade": false,
     "grade_id": "cell-e6424d64589d55cc",
     "locked": true,
     "schema_version": 1,
     "solution": false
    }
   },
   "outputs": [
    {
     "name": "stdout",
     "output_type": "stream",
     "text": [
      "'logreg_points_train.csv' is ready!\n",
      "'centers_initial_testing.npy' is ready!\n",
      "'compute_d2_soln.npy' is ready!\n",
      "'y_test3.npy' is ready!\n",
      "'centers_test3_soln.npy' is ready!\n",
      "'assign_cluster_labels_S.npy' is ready!\n",
      "'assign_cluster_labels_soln.npy' is ready!\n",
      "\n",
      "(All data appears to be ready.)\n"
     ]
    }
   ],
   "source": [
    "import requests\n",
    "import os\n",
    "import hashlib\n",
    "import io\n",
    "\n",
    "def on_vocareum():\n",
    "    return os.path.exists('.voc')\n",
    "\n",
    "def download(file, local_dir=\"\", url_base=None, checksum=None):\n",
    "    local_file = \"{}{}\".format(local_dir, file)\n",
    "    if not os.path.exists(local_file):\n",
    "        if url_base is None:\n",
    "            url_base = \"https://cse6040.gatech.edu/datasets/\"\n",
    "        url = \"{}{}\".format(url_base, file)\n",
    "        print(\"Downloading: {} ...\".format(url))\n",
    "        r = requests.get(url)\n",
    "        with open(local_file, 'wb') as f:\n",
    "            f.write(r.content)\n",
    "            \n",
    "    if checksum is not None:\n",
    "        with io.open(local_file, 'rb') as f:\n",
    "            body = f.read()\n",
    "            body_checksum = hashlib.md5(body).hexdigest()\n",
    "            assert body_checksum == checksum, \\\n",
    "                \"Downloaded file '{}' has incorrect checksum: '{}' instead of '{}'\".format(local_file,\n",
    "                                                                                           body_checksum,\n",
    "                                                                                           checksum)\n",
    "    print(\"'{}' is ready!\".format(file))\n",
    "    \n",
    "if on_vocareum():\n",
    "    URL_BASE = \"https://cse6040.gatech.edu/datasets/kmeans/\"\n",
    "    DATA_PATH = \"../resource/asnlib/publicdata/\"\n",
    "else:\n",
    "    URL_BASE = \"https://github.com/cse6040/labs-fa17/raw/master/datasets/kmeans/\"\n",
    "    DATA_PATH = \"\"\n",
    "\n",
    "datasets = {'logreg_points_train.csv': '9d1e42f49a719da43113678732491c6d',\n",
    "            'centers_initial_testing.npy': '8884b4af540c1d5119e6e8980da43f04',\n",
    "            'compute_d2_soln.npy': '980fe348b6cba23cb81ddf703494fb4c',\n",
    "            'y_test3.npy': 'df322037ea9c523564a5018ea0a70fbf',\n",
    "            'centers_test3_soln.npy': '0c594b28e512a532a2ef4201535868b5',\n",
    "            'assign_cluster_labels_S.npy': '37e464f2b79dc1d59f5ec31eaefe4161',\n",
    "            'assign_cluster_labels_soln.npy': 'fc0e084ac000f30948946d097ed85ebc'}\n",
    "\n",
    "for filename, checksum in datasets.items():\n",
    "    download(filename, local_dir=DATA_PATH, url_base=URL_BASE, checksum=checksum)\n",
    "    \n",
    "print(\"\\n(All data appears to be ready.)\")"
   ]
  },
  {
   "cell_type": "markdown",
   "metadata": {
    "deletable": false,
    "editable": false,
    "nbgrader": {
     "grade": false,
     "grade_id": "cell-cb3579f34a2e2239",
     "locked": true,
     "schema_version": 1,
     "solution": false
    }
   },
   "source": [
    "## The $k$-means clustering criterion\n",
    "\n",
    "Here is one way to measure the quality of a set of clusters. For each cluster $C$, consider its center $\\mu$ and measure the distance $\\|x-\\mu\\|$ of each observation $x \\in C$ to the center. Add these up for all points in the cluster; call this sum is the _within-cluster sum-of-squares (WCSS)_. Then, set as our goal to choose clusters that minimize the total WCSS over _all_ clusters.\n",
    "\n",
    "More formally, given a clustering $C = \\{C_0, C_1, \\ldots, C_{k-1}\\}$, let\n",
    "\n",
    "$$\n",
    "  \\mathrm{WCSS}(C) \\equiv \\sum_{i=0}^{k-1} \\sum_{x\\in C_i} \\|x - \\mu_i\\|^2,\n",
    "$$\n",
    "\n",
    "where $\\mu_i$ is the center of $C_i$. This center may be computed simply as the mean of all points in $C_i$, i.e.,\n",
    "\n",
    "$$\n",
    "  \\mu_i \\equiv \\dfrac{1}{|C_i|} \\sum_{x \\in C_i} x.\n",
    "$$\n",
    "\n",
    "Then, our objective is to find the \"best\" clustering, $C_*$, which is the one that has a minimum WCSS.\n",
    "\n",
    "$$\n",
    "  C_* = \\arg\\min_C \\mathrm{WCSS}(C).\n",
    "$$"
   ]
  },
  {
   "cell_type": "markdown",
   "metadata": {
    "deletable": false,
    "editable": false,
    "nbgrader": {
     "grade": false,
     "grade_id": "cell-6b93655f7eed5747",
     "locked": true,
     "schema_version": 1,
     "solution": false
    }
   },
   "source": [
    "## The standard $k$-means algorithm (Lloyd's algorithm)\n",
    "\n",
    "Finding the global optimum is [NP-hard](https://en.wikipedia.org/wiki/NP-hardness), which is computer science mumbo jumbo for \"we don't know whether there is an algorithm to calculate the exact answer in fewer steps than exponential in the size of the input.\" Nevertheless, there is an iterative method, Lloyd’s algorithm, that can quickly converge to a _local_ (as opposed to _global_) minimum. The procedure alternates between two operations: _assignment_ and _update_.\n",
    "\n",
    "**Step 1: Assignment.** Given a fixed set of $k$ centers, assign each point to the nearest center:\n",
    "\n",
    "$$\n",
    "  C_i = \\{\\hat{x}: \\| \\hat{x} - \\mu_i \\| \\le \\| \\hat{x} - \\mu_j \\|, 1 \\le j \\le k \\}.\n",
    "$$\n",
    "\n",
    "**Step 2: Update.** Recompute the $k$ centers (\"centroids\") by averaging all the data points belonging to each cluster, i.e., taking their mean:\n",
    "\n",
    "$$\n",
    "  \\mu_i = \\dfrac{1}{|C_i|} \\sum_{\\hat{x} \\in C_i} \\hat{x}\n",
    "$$\n",
    "\n",
    "![Illustration of $k$-means](https://github.com/cse6040/labs-fa17/raw/master/lab14-kmeans/base21-small-transparent.png)\n",
    "\n",
    "> Figure adapted from: http://stanford.edu/~cpiech/cs221/img/kmeansViz.png"
   ]
  },
  {
   "cell_type": "markdown",
   "metadata": {
    "deletable": false,
    "editable": false,
    "nbgrader": {
     "grade": false,
     "grade_id": "cell-13840d179f2b5013",
     "locked": true,
     "schema_version": 1,
     "solution": false
    }
   },
   "source": [
    "In the code that follows, it will be convenient to use our usual \"data matrix\" convention, that is, each row of a data matrix $X$ is one of $m$ observations and each column (coordinate) is one of $d$ predictors. However, we will _not_ need a dummy column of ones since we are not fitting a function.\n",
    "\n",
    "$$\n",
    "  X\n",
    "  \\equiv \\left(\\begin{array}{c} \\hat{x}_0^T \\\\ \\vdots \\\\ \\hat{x}_{m}^T \\end{array}\\right)\n",
    "  = \\left(\\begin{array}{ccc} x_0 & \\cdots & x_{d-1} \\end{array}\\right).\n",
    "$$"
   ]
  },
  {
   "cell_type": "code",
   "execution_count": 2,
   "metadata": {
    "collapsed": true,
    "deletable": false,
    "editable": false,
    "nbgrader": {
     "grade": false,
     "locked": true,
     "solution": false
    }
   },
   "outputs": [],
   "source": [
    "import numpy as np\n",
    "import pandas as pd\n",
    "import seaborn as sns\n",
    "import matplotlib.pyplot as plt\n",
    "\n",
    "%matplotlib inline\n",
    "\n",
    "import matplotlib as mpl\n",
    "mpl.rc(\"savefig\", dpi=100) # Adjust for higher-resolution figures"
   ]
  },
  {
   "cell_type": "markdown",
   "metadata": {
    "deletable": false,
    "editable": false,
    "nbgrader": {
     "grade": false,
     "grade_id": "cell-15cf3d2b6fe2edc3",
     "locked": true,
     "schema_version": 1,
     "solution": false
    }
   },
   "source": [
    "We will use the following data set which some of you may have seen previously."
   ]
  },
  {
   "cell_type": "code",
   "execution_count": 3,
   "metadata": {
    "deletable": false,
    "editable": false,
    "nbgrader": {
     "grade": false,
     "grade_id": "cell-8e381f31d5d76d62",
     "locked": true,
     "schema_version": 1,
     "solution": false
    }
   },
   "outputs": [
    {
     "data": {
      "text/html": [
       "<div>\n",
       "<style scoped>\n",
       "    .dataframe tbody tr th:only-of-type {\n",
       "        vertical-align: middle;\n",
       "    }\n",
       "\n",
       "    .dataframe tbody tr th {\n",
       "        vertical-align: top;\n",
       "    }\n",
       "\n",
       "    .dataframe thead th {\n",
       "        text-align: right;\n",
       "    }\n",
       "</style>\n",
       "<table border=\"1\" class=\"dataframe\">\n",
       "  <thead>\n",
       "    <tr style=\"text-align: right;\">\n",
       "      <th></th>\n",
       "      <th>x_1</th>\n",
       "      <th>x_2</th>\n",
       "      <th>label</th>\n",
       "    </tr>\n",
       "  </thead>\n",
       "  <tbody>\n",
       "    <tr>\n",
       "      <th>0</th>\n",
       "      <td>-0.234443</td>\n",
       "      <td>-1.075960</td>\n",
       "      <td>1</td>\n",
       "    </tr>\n",
       "    <tr>\n",
       "      <th>1</th>\n",
       "      <td>0.730359</td>\n",
       "      <td>-0.918093</td>\n",
       "      <td>0</td>\n",
       "    </tr>\n",
       "    <tr>\n",
       "      <th>2</th>\n",
       "      <td>1.432270</td>\n",
       "      <td>-0.439449</td>\n",
       "      <td>0</td>\n",
       "    </tr>\n",
       "    <tr>\n",
       "      <th>3</th>\n",
       "      <td>0.026733</td>\n",
       "      <td>1.050300</td>\n",
       "      <td>0</td>\n",
       "    </tr>\n",
       "    <tr>\n",
       "      <th>4</th>\n",
       "      <td>1.879650</td>\n",
       "      <td>0.207743</td>\n",
       "      <td>0</td>\n",
       "    </tr>\n",
       "  </tbody>\n",
       "</table>\n",
       "</div>"
      ],
      "text/plain": [
       "        x_1       x_2  label\n",
       "0 -0.234443 -1.075960      1\n",
       "1  0.730359 -0.918093      0\n",
       "2  1.432270 -0.439449      0\n",
       "3  0.026733  1.050300      0\n",
       "4  1.879650  0.207743      0"
      ]
     },
     "execution_count": 3,
     "metadata": {},
     "output_type": "execute_result"
    }
   ],
   "source": [
    "df = pd.read_csv(f'{DATA_PATH}logreg_points_train.csv')\n",
    "df.head()"
   ]
  },
  {
   "cell_type": "code",
   "execution_count": 4,
   "metadata": {
    "collapsed": true,
    "deletable": false,
    "editable": false,
    "nbgrader": {
     "grade": false,
     "grade_id": "cell-c117db7825e08d1e",
     "locked": true,
     "schema_version": 1,
     "solution": false
    }
   },
   "outputs": [],
   "source": [
    "# Helper functions from Logistic Regression Lesson\n",
    "def make_scatter_plot(df, x=\"x_1\", y=\"x_2\", hue=\"label\",\n",
    "                      palette={0: \"orange\", 1: \"blue\"},\n",
    "                      size=5,\n",
    "                      centers=None):\n",
    "    sns.lmplot(x=x, y=y, hue=hue, data=df, palette=palette,\n",
    "               fit_reg=False)\n",
    "    if centers is not None:\n",
    "        plt.scatter(centers[:,0], centers[:,1],\n",
    "                    marker=u'*', s=500,\n",
    "                    c=[palette[0], palette[1]])\n",
    "    \n",
    "def mark_matches(a, b, exact=False):\n",
    "    \"\"\"\n",
    "    Given two Numpy arrays of {0, 1} labels, returns a new boolean\n",
    "    array indicating at which locations the input arrays have the\n",
    "    same label (i.e., the corresponding entry is True).\n",
    "    \n",
    "    This function can consider \"inexact\" matches. That is, if `exact`\n",
    "    is False, then the function will assume the {0, 1} labels may be\n",
    "    regarded as the same up to a swapping of the labels. This feature\n",
    "    allows\n",
    "    \n",
    "      a == [0, 0, 1, 1, 0, 1, 1]\n",
    "      b == [1, 1, 0, 0, 1, 0, 0]\n",
    "      \n",
    "    to be regarded as equal. (That is, use `exact=False` when you\n",
    "    only care about \"relative\" labeling.)\n",
    "    \"\"\"\n",
    "    assert a.shape == b.shape\n",
    "    a_int = a.astype(dtype=int)\n",
    "    b_int = b.astype(dtype=int)\n",
    "    all_axes = tuple(range(len(a.shape)))\n",
    "    assert ((a_int == 0) | (a_int == 1)).all()\n",
    "    assert ((b_int == 0) | (b_int == 1)).all()\n",
    "    \n",
    "    exact_matches = (a_int == b_int)\n",
    "    if exact:\n",
    "        return exact_matches\n",
    "\n",
    "    assert exact == False\n",
    "    num_exact_matches = np.sum(exact_matches)\n",
    "    if (2*num_exact_matches) >= np.prod (a.shape):\n",
    "        return exact_matches\n",
    "    return exact_matches == False # Invert\n",
    "    \n",
    "def count_matches(a, b, exact=False):\n",
    "    \"\"\"\n",
    "    Given two sets of {0, 1} labels, returns the number of mismatches.\n",
    "    \n",
    "    This function can consider \"inexact\" matches. That is, if `exact`\n",
    "    is False, then the function will assume the {0, 1} labels may be\n",
    "    regarded as similar up to a swapping of the labels. This feature\n",
    "    allows\n",
    "    \n",
    "      a == [0, 0, 1, 1, 0, 1, 1]\n",
    "      b == [1, 1, 0, 0, 1, 0, 0]\n",
    "      \n",
    "    to be regarded as equal. (That is, use `exact=False` when you\n",
    "    only care about \"relative\" labeling.)\n",
    "    \"\"\"\n",
    "    matches = mark_matches(a, b, exact=exact)\n",
    "    return np.sum(matches)"
   ]
  },
  {
   "cell_type": "code",
   "execution_count": 5,
   "metadata": {
    "deletable": false,
    "editable": false,
    "nbgrader": {
     "grade": false,
     "grade_id": "cell-927e7e2eb5cd4698",
     "locked": true,
     "schema_version": 1,
     "solution": false
    }
   },
   "outputs": [
    {
     "data": {
      "image/png": "[encoded data removed]",
      "text/plain": [
       "<Figure size 402.375x360 with 1 Axes>"
      ]
     },
     "metadata": {},
     "output_type": "display_data"
    }
   ],
   "source": [
    "make_scatter_plot(df)"
   ]
  },
  {
   "cell_type": "markdown",
   "metadata": {
    "deletable": false,
    "editable": false,
    "nbgrader": {
     "grade": false,
     "grade_id": "cell-87c29d5fe9b0d272",
     "locked": true,
     "schema_version": 1,
     "solution": false
    }
   },
   "source": [
    "Let's extract the data points as a data matrix, `points`, and the labels as a vector, `labels`. Note that the k-means algorithm you will implement should **not** reference `labels` -- that's the solution we will try to predict given only the point coordinates (`points`) and target number of clusters (`k`)."
   ]
  },
  {
   "cell_type": "code",
   "execution_count": 6,
   "metadata": {
    "collapsed": true,
    "deletable": false,
    "editable": false,
    "nbgrader": {
     "grade": false,
     "grade_id": "cell-c1fbf82510c1ed62",
     "locked": true,
     "schema_version": 1,
     "solution": false
    }
   },
   "outputs": [],
   "source": [
    "points = df[['x_1', 'x_2']].values\n",
    "labels = df['label'].values\n",
    "n, d = points.shape\n",
    "k = 2"
   ]
  },
  {
   "cell_type": "markdown",
   "metadata": {
    "deletable": false,
    "editable": false,
    "nbgrader": {
     "grade": false,
     "grade_id": "cell-eb36c96dcc01b847",
     "locked": true,
     "schema_version": 1,
     "solution": false
    }
   },
   "source": [
    "Note that the labels should _not_ be used in the $k$-means algorithm. We use them here only as ground truth for later verification."
   ]
  },
  {
   "cell_type": "markdown",
   "metadata": {
    "deletable": false,
    "editable": false,
    "nbgrader": {
     "grade": false,
     "grade_id": "cell-7dee06f2303f7153",
     "locked": true,
     "schema_version": 1,
     "solution": false
    }
   },
   "source": [
    "### How to start? Initializing the $k$ centers\n",
    "\n",
    "To start the algorithm, you need an initial guess. Let's randomly choose $k$ observations from the data.\n",
    "\n",
    "**Exercise 1** (2 points). Complete the following function, `init_centers(X, k)`, so that it randomly selects $k$ of the given observations to serve as centers. It should return a Numpy array of size `k`-by-`d`, where `d` is the number of columns of `X`."
   ]
  },
  {
   "cell_type": "code",
   "execution_count": 7,
   "metadata": {
    "nbgrader": {
     "grade": false,
     "grade_id": "init_centers",
     "locked": false,
     "schema_version": 1,
     "solution": true
    }
   },
   "outputs": [],
   "source": [
    "import numpy as np\n",
    "def init_centers(X, k):\n",
    "    \"\"\"\n",
    "    Randomly samples k observations from X as centers.\n",
    "    Returns these centers as a (k x d) numpy array.\n",
    "    \"\"\"\n",
    "    return X[np.random.choice(X.shape[0],k)]\n"
   ]
  },
  {
   "cell_type": "code",
   "execution_count": 8,
   "metadata": {
    "deletable": false,
    "editable": false,
    "nbgrader": {
     "grade": true,
     "grade_id": "init_centers_test",
     "locked": true,
     "points": 2,
     "schema_version": 1,
     "solution": false
    }
   },
   "outputs": [
    {
     "name": "stdout",
     "output_type": "stream",
     "text": [
      "Initial centers:\n",
      " [[ 0.838713  -0.151781 ]\n",
      " [ 0.0043712  0.689392 ]]\n",
      "\n",
      "(Passed!)\n"
     ]
    }
   ],
   "source": [
    "# Test cell: `init_centers_test`\n",
    "\n",
    "centers_initial = init_centers(points, k)\n",
    "print(\"Initial centers:\\n\", centers_initial)\n",
    "\n",
    "assert type(centers_initial) is np.ndarray, \"Your function should return a Numpy array instead of a {}\".format(type(centers_initial))\n",
    "assert centers_initial.shape == (k, d), \"Returned centers do not have the right shape ({} x {})\".format(k, d)\n",
    "assert (sum(centers_initial[0, :] == points) == [1, 1]).all(), \"The centers must come from the input.\"\n",
    "assert (sum(centers_initial[1, :] == points) == [1, 1]).all(), \"The centers must come from the input.\"\n",
    "\n",
    "print(\"\\n(Passed!)\")"
   ]
  },
  {
   "cell_type": "markdown",
   "metadata": {
    "deletable": false,
    "editable": false,
    "nbgrader": {
     "grade": false,
     "grade_id": "cell-d57fa9d79078b2df",
     "locked": true,
     "schema_version": 1,
     "solution": false
    }
   },
   "source": [
    "### Computing the distances\n",
    "\n",
    "**Exercise 2** (3 points). Implement a function that computes a distance matrix, $S = (s_{ij})$ such that $s_{ij} = d_{ij}^2$ is the _squared_ distance from point $\\hat{x}_i$ to center $\\mu_j$. It should return a Numpy matrix `S[:m, :k]`."
   ]
  },
  {
   "cell_type": "code",
   "execution_count": 9,
   "metadata": {
    "nbgrader": {
     "grade": false,
     "grade_id": "compute_d2",
     "locked": false,
     "schema_version": 1,
     "solution": true
    }
   },
   "outputs": [],
   "source": [
    "def compute_d2(X, centers):\n",
    "    new=np.zeros((X.shape[0],centers.shape[0]))\n",
    "    \n",
    "    for i in range(len(centers)):\n",
    "        new[:,i]=np.sum((X-centers[i])**2,axis=1)#(X[:,0]-centers[i][0])**2+(X[:,1]-centers[i][1])**2\n",
    "    return new"
   ]
  },
  {
   "cell_type": "code",
   "execution_count": 10,
   "metadata": {
    "deletable": false,
    "editable": false,
    "nbgrader": {
     "grade": true,
     "grade_id": "compute_d2_test",
     "locked": true,
     "points": 3,
     "schema_version": 1,
     "solution": false
    }
   },
   "outputs": [
    {
     "name": "stdout",
     "output_type": "stream",
     "text": [
      "\n",
      "(Passed!)\n"
     ]
    }
   ],
   "source": [
    "# Test cell: `compute_d2_test`\n",
    "\n",
    "centers_initial_testing = np.load(\"{}centers_initial_testing.npy\".format(DATA_PATH))\n",
    "compute_d2_soln = np.load(\"{}compute_d2_soln.npy\".format(DATA_PATH))\n",
    "\n",
    "S = compute_d2 (points, centers_initial_testing)\n",
    "assert (np.linalg.norm (S - compute_d2_soln, axis=1) <= (20.0 * np.finfo(float).eps)).all ()\n",
    "\n",
    "print(\"\\n(Passed!)\")"
   ]
  },
  {
   "cell_type": "markdown",
   "metadata": {
    "deletable": false,
    "editable": false,
    "nbgrader": {
     "grade": false,
     "grade_id": "cell-5b0f35e46de95e6c",
     "locked": true,
     "schema_version": 1,
     "solution": false
    }
   },
   "source": [
    "**Exercise 3** (2 points). Write a function that uses the (squared) distance matrix to assign a \"cluster label\" to each point.\n",
    "\n",
    "That is, consider the $m \\times k$ squared distance matrix $S$. For each point $i$, if $s_{i,j}$ is the minimum squared distance for point $i$, then the index $j$ is $i$'s cluster label. In other words, your function should return a (column) vector $y$ of length $m$ such that\n",
    "\n",
    "$$\n",
    "  y_i = \\underset{j \\in \\{0, \\ldots, k-1\\}}{\\operatorname{argmin}} s_{ij}.\n",
    "$$\n",
    "\n",
    "> Hint: Judicious use of Numpy's [`argmin()`](https://docs.scipy.org/doc/numpy/reference/generated/numpy.argmin.html) makes for a nice one-line solution."
   ]
  },
  {
   "cell_type": "code",
   "execution_count": 11,
   "metadata": {
    "nbgrader": {
     "grade": false,
     "grade_id": "assign_cluster_labels",
     "locked": false,
     "schema_version": 1,
     "solution": true
    }
   },
   "outputs": [
    {
     "name": "stdout",
     "output_type": "stream",
     "text": [
      "You found: [1 0 1]\n"
     ]
    }
   ],
   "source": [
    "def assign_cluster_labels(S):\n",
    "    return np.argmin(S, axis=1)\n",
    "\n",
    "# Cluster labels:     0    1\n",
    "S_test1 = np.array([[0.3, 0.2],  # --> cluster 1\n",
    "                    [0.1, 0.5],  # --> cluster 0\n",
    "                    [0.4, 0.2]]) # --> cluster 1\n",
    "y_test1 = assign_cluster_labels(S_test1)\n",
    "print(\"You found:\", y_test1)\n",
    "\n",
    "assert (y_test1 == np.array([1, 0, 1])).all()"
   ]
  },
  {
   "cell_type": "code",
   "execution_count": 12,
   "metadata": {
    "deletable": false,
    "editable": false,
    "nbgrader": {
     "grade": true,
     "grade_id": "assign_cluster_labels_test",
     "locked": true,
     "points": 2,
     "schema_version": 1,
     "solution": false
    }
   },
   "outputs": [
    {
     "name": "stdout",
     "output_type": "stream",
     "text": [
      "\n",
      "(Passed!)\n"
     ]
    }
   ],
   "source": [
    "# Test cell: `assign_cluster_labels_test`\n",
    "\n",
    "S_test2 = np.load(\"{}assign_cluster_labels_S.npy\".format(DATA_PATH))\n",
    "y_test2_soln = np.load(\"{}assign_cluster_labels_soln.npy\".format(DATA_PATH))\n",
    "y_test2 = assign_cluster_labels(S_test2)\n",
    "assert (y_test2 == y_test2_soln).all()\n",
    "\n",
    "print(\"\\n(Passed!)\")"
   ]
  },
  {
   "cell_type": "markdown",
   "metadata": {
    "deletable": false,
    "editable": false,
    "nbgrader": {
     "grade": false,
     "grade_id": "cell-e1bb590c5d3080c8",
     "locked": true,
     "schema_version": 1,
     "solution": false
    }
   },
   "source": [
    "**Exercise 4** (2 points). Given a clustering (i.e., a set of points and assignment of labels), compute the center of each cluster."
   ]
  },
  {
   "cell_type": "code",
   "execution_count": 13,
   "metadata": {
    "collapsed": true,
    "nbgrader": {
     "grade": false,
     "grade_id": "update_centers",
     "locked": false,
     "schema_version": 1,
     "solution": true
    }
   },
   "outputs": [],
   "source": [
    "import numpy as np\n",
    "def update_centers(X, y):\n",
    "    # X[:m, :d] == m points, each of dimension d\n",
    "    # y[:m] == cluster labels\n",
    "    m, d = X.shape\n",
    "    k = max(y) + 1\n",
    "    assert m == len(y)\n",
    "    assert (min(y) >= 0)\n",
    "    centers = np.empty((k, d))\n",
    "    for j in range(k):\n",
    "        # Compute the new center of cluster j,\n",
    "        # i.e., centers[j, :d].\n",
    "        centers[j]=np.mean(X[np.where(y == j)],axis=0)\n",
    "    \n",
    "\n",
    "        \n",
    "    return centers"
   ]
  },
  {
   "cell_type": "code",
   "execution_count": 14,
   "metadata": {
    "deletable": false,
    "editable": false,
    "nbgrader": {
     "grade": true,
     "grade_id": "update_centers_test",
     "locked": true,
     "points": 2,
     "schema_version": 1,
     "solution": false
    }
   },
   "outputs": [
    {
     "name": "stdout",
     "output_type": "stream",
     "text": [
      "\n",
      "(Passed!)\n"
     ]
    }
   ],
   "source": [
    "# Test cell: `update_centers_test`\n",
    "\n",
    "y_test3 = np.load(\"{}y_test3.npy\".format(DATA_PATH))\n",
    "centers_test3_soln = np.load(\"{}centers_test3_soln.npy\".format(DATA_PATH))\n",
    "centers_test3 = update_centers(points, y_test3)\n",
    "\n",
    "delta_test3 = np.abs(centers_test3 - centers_test3_soln)\n",
    "assert (delta_test3 <= 2.0*len(centers_test3_soln)*np.finfo(float).eps).all()\n",
    "\n",
    "print(\"\\n(Passed!)\")"
   ]
  },
  {
   "cell_type": "markdown",
   "metadata": {
    "deletable": false,
    "editable": false,
    "nbgrader": {
     "grade": false,
     "grade_id": "cell-58f292d0402301a4",
     "locked": true,
     "schema_version": 1,
     "solution": false
    }
   },
   "source": [
    "**Exercise 5** (2 points). Given the squared distances, return the within-cluster sum of squares.\n",
    "\n",
    "In particular, your function should have the signature,\n",
    "\n",
    "```python\n",
    "    def WCSS(S):\n",
    "        ...\n",
    "```\n",
    "\n",
    "where `S` is an array of distances as might be computed from Exercise 2.\n",
    "\n",
    "For example, suppose `S` is defined as follows:\n",
    "\n",
    "```python\n",
    "    S = np.array([[0.3, 0.2],\n",
    "                  [0.1, 0.5],\n",
    "                  [0.4, 0.2]])\n",
    "```\n",
    "\n",
    "Then `WCSS(S) == 0.2 + 0.1 + 0.2 == 0.5.`\n",
    "\n",
    "> _Hint_: See [numpy.amin](https://docs.scipy.org/doc/numpy/reference/generated/numpy.amin.html#numpy.amin)."
   ]
  },
  {
   "cell_type": "code",
   "execution_count": 15,
   "metadata": {
    "nbgrader": {
     "grade": false,
     "grade_id": "WCSS",
     "locked": false,
     "schema_version": 1,
     "solution": true
    }
   },
   "outputs": [
    {
     "name": "stdout",
     "output_type": "stream",
     "text": [
      "S ==\n",
      " [[0.3 0.2]\n",
      " [0.1 0.5]\n",
      " [0.4 0.2]]\n",
      "\n",
      "WCSS(S) == 0.5\n"
     ]
    }
   ],
   "source": [
    "def WCSS(S):\n",
    "    return (np.amin(S, axis=1)).sum()\n",
    "    \n",
    "# Quick test:\n",
    "print(\"S ==\\n\", S_test1)\n",
    "WCSS_test1 = WCSS(S_test1)\n",
    "print(\"\\nWCSS(S) ==\", WCSS(S_test1))"
   ]
  },
  {
   "cell_type": "code",
   "execution_count": 16,
   "metadata": {
    "deletable": false,
    "editable": false,
    "nbgrader": {
     "grade": true,
     "grade_id": "WCSS_test",
     "locked": true,
     "points": 2,
     "schema_version": 1,
     "solution": false
    }
   },
   "outputs": [
    {
     "name": "stdout",
     "output_type": "stream",
     "text": [
      "\n",
      "(Passed!)\n"
     ]
    }
   ],
   "source": [
    "# Test cell: `WCSS_test`\n",
    "\n",
    "assert np.abs(WCSS_test1 - 0.5) <= 3.0*np.finfo(float).eps, \"WCSS(S_test1) should be close to 0.5, not {}\".format(WCSS_test1)\n",
    "print(\"\\n(Passed!)\")"
   ]
  },
  {
   "cell_type": "markdown",
   "metadata": {
    "deletable": false,
    "editable": false,
    "nbgrader": {
     "grade": false,
     "grade_id": "cell-ff3d3e7eb16d77c0",
     "locked": true,
     "schema_version": 1,
     "solution": false
    }
   },
   "source": [
    "Lastly, here is a function to check whether the centers have \"moved,\" given two instances of the center values. It accounts for the fact that the order of centers may have changed."
   ]
  },
  {
   "cell_type": "code",
   "execution_count": 17,
   "metadata": {
    "collapsed": true,
    "deletable": false,
    "editable": false,
    "nbgrader": {
     "grade": false,
     "grade_id": "cell-84eaf8eb026c9273",
     "locked": true,
     "schema_version": 1,
     "solution": false
    }
   },
   "outputs": [],
   "source": [
    "def has_converged(old_centers, centers):\n",
    "    return set([tuple(x) for x in old_centers]) == set([tuple(x) for x in centers])"
   ]
  },
  {
   "cell_type": "markdown",
   "metadata": {
    "deletable": false,
    "editable": false,
    "nbgrader": {
     "grade": false,
     "grade_id": "cell-5cd038fe20813ba7",
     "locked": true,
     "schema_version": 1,
     "solution": false
    }
   },
   "source": [
    "**Exercise 6** (3 points). Put all of the preceding building blocks together to implement Lloyd's $k$-means algorithm."
   ]
  },
  {
   "cell_type": "code",
   "execution_count": 18,
   "metadata": {
    "nbgrader": {
     "grade": false,
     "grade_id": "cell-7d55bc2221f76601",
     "locked": false,
     "schema_version": 1,
     "solution": true
    }
   },
   "outputs": [
    {
     "name": "stdout",
     "output_type": "stream",
     "text": [
      "iteration 1 WCSS =  549.9175535488309\n",
      "iteration 2 WCSS =  339.800663302551\n",
      "iteration 3 WCSS =  300.33011292232806\n",
      "iteration 4 WCSS =  289.80700777322045\n",
      "iteration 5 WCSS =  286.0745591062787\n",
      "iteration 6 WCSS =  284.1907705579879\n",
      "iteration 7 WCSS =  283.22732249939105\n",
      "iteration 8 WCSS =  282.456491302569\n",
      "iteration 9 WCSS =  281.84838225337074\n",
      "iteration 10 WCSS =  281.57242082723724\n",
      "iteration 11 WCSS =  281.5315627987326\n",
      "iteration 12 WCSS =  281.5315627987326\n",
      "iteration 13 WCSS =  281.5315627987326\n",
      "iteration 14 WCSS =  281.5315627987326\n",
      "iteration 15 WCSS =  281.5315627987326\n",
      "iteration 16 WCSS =  281.5315627987326\n",
      "iteration 17 WCSS =  281.5315627987326\n",
      "iteration 18 WCSS =  281.5315627987326\n",
      "iteration 19 WCSS =  281.5315627987326\n",
      "iteration 20 WCSS =  281.5315627987326\n",
      "iteration 21 WCSS =  281.5315627987326\n",
      "iteration 22 WCSS =  281.5315627987326\n",
      "iteration 23 WCSS =  281.5315627987326\n",
      "iteration 24 WCSS =  281.5315627987326\n",
      "iteration 25 WCSS =  281.5315627987326\n",
      "iteration 26 WCSS =  281.5315627987326\n",
      "iteration 27 WCSS =  281.5315627987326\n",
      "iteration 28 WCSS =  281.5315627987326\n",
      "iteration 29 WCSS =  281.5315627987326\n",
      "iteration 30 WCSS =  281.5315627987326\n",
      "iteration 31 WCSS =  281.5315627987326\n",
      "iteration 32 WCSS =  281.5315627987326\n",
      "iteration 33 WCSS =  281.5315627987326\n",
      "iteration 34 WCSS =  281.5315627987326\n",
      "iteration 35 WCSS =  281.5315627987326\n",
      "iteration 36 WCSS =  281.5315627987326\n",
      "iteration 37 WCSS =  281.5315627987326\n",
      "iteration 38 WCSS =  281.5315627987326\n",
      "iteration 39 WCSS =  281.5315627987326\n",
      "iteration 40 WCSS =  281.5315627987326\n",
      "iteration 41 WCSS =  281.5315627987326\n",
      "iteration 42 WCSS =  281.5315627987326\n",
      "iteration 43 WCSS =  281.5315627987326\n",
      "iteration 44 WCSS =  281.5315627987326\n",
      "iteration 45 WCSS =  281.5315627987326\n",
      "iteration 46 WCSS =  281.5315627987326\n",
      "iteration 47 WCSS =  281.5315627987326\n",
      "iteration 48 WCSS =  281.5315627987326\n",
      "iteration 49 WCSS =  281.5315627987326\n",
      "iteration 50 WCSS =  281.5315627987326\n",
      "iteration 51 WCSS =  281.5315627987326\n",
      "iteration 52 WCSS =  281.5315627987326\n",
      "iteration 53 WCSS =  281.5315627987326\n",
      "iteration 54 WCSS =  281.5315627987326\n",
      "iteration 55 WCSS =  281.5315627987326\n",
      "iteration 56 WCSS =  281.5315627987326\n",
      "iteration 57 WCSS =  281.5315627987326\n",
      "iteration 58 WCSS =  281.5315627987326\n",
      "iteration 59 WCSS =  281.5315627987326\n",
      "iteration 60 WCSS =  281.5315627987326\n",
      "iteration 61 WCSS =  281.5315627987326\n",
      "iteration 62 WCSS =  281.5315627987326\n",
      "iteration 63 WCSS =  281.5315627987326\n",
      "iteration 64 WCSS =  281.5315627987326\n",
      "iteration 65 WCSS =  281.5315627987326\n",
      "iteration 66 WCSS =  281.5315627987326\n",
      "iteration 67 WCSS =  281.5315627987326\n",
      "iteration 68 WCSS =  281.5315627987326\n",
      "iteration 69 WCSS =  281.5315627987326\n",
      "iteration 70 WCSS =  281.5315627987326\n",
      "iteration 71 WCSS =  281.5315627987326\n",
      "iteration 72 WCSS =  281.5315627987326\n",
      "iteration 73 WCSS =  281.5315627987326\n",
      "iteration 74 WCSS =  281.5315627987326\n",
      "iteration 75 WCSS =  281.5315627987326\n",
      "iteration 76 WCSS =  281.5315627987326\n",
      "iteration 77 WCSS =  281.5315627987326\n",
      "iteration 78 WCSS =  281.5315627987326\n",
      "iteration 79 WCSS =  281.5315627987326\n",
      "iteration 80 WCSS =  281.5315627987326\n",
      "iteration 81 WCSS =  281.5315627987326\n",
      "iteration 82 WCSS =  281.5315627987326\n",
      "iteration 83 WCSS =  281.5315627987326\n",
      "iteration 84 WCSS =  281.5315627987326\n",
      "iteration 85 WCSS =  281.5315627987326\n",
      "iteration 86 WCSS =  281.5315627987326\n",
      "iteration 87 WCSS =  281.5315627987326\n",
      "iteration 88 WCSS =  281.5315627987326\n",
      "iteration 89 WCSS =  281.5315627987326\n",
      "iteration 90 WCSS =  281.5315627987326\n",
      "iteration 91 WCSS =  281.5315627987326\n",
      "iteration 92 WCSS =  281.5315627987326\n",
      "iteration 93 WCSS =  281.5315627987326\n",
      "iteration 94 WCSS =  281.5315627987326\n",
      "iteration 95 WCSS =  281.5315627987326\n",
      "iteration 96 WCSS =  281.5315627987326\n",
      "iteration 97 WCSS =  281.5315627987326\n",
      "iteration 98 WCSS =  281.5315627987326\n",
      "iteration 99 WCSS =  281.5315627987326\n",
      "iteration 100 WCSS =  281.5315627987326\n",
      "iteration 101 WCSS =  281.5315627987326\n",
      "iteration 102 WCSS =  281.5315627987326\n",
      "iteration 103 WCSS =  281.5315627987326\n",
      "iteration 104 WCSS =  281.5315627987326\n",
      "iteration 105 WCSS =  281.5315627987326\n",
      "iteration 106 WCSS =  281.5315627987326\n",
      "iteration 107 WCSS =  281.5315627987326\n",
      "iteration 108 WCSS =  281.5315627987326\n",
      "iteration 109 WCSS =  281.5315627987326\n",
      "iteration 110 WCSS =  281.5315627987326\n",
      "iteration 111 WCSS =  281.5315627987326\n",
      "iteration 112 WCSS =  281.5315627987326\n",
      "iteration 113 WCSS =  281.5315627987326\n",
      "iteration 114 WCSS =  281.5315627987326\n",
      "iteration 115 WCSS =  281.5315627987326\n",
      "iteration 116 WCSS =  281.5315627987326\n",
      "iteration 117 WCSS =  281.5315627987326\n",
      "iteration 118 WCSS =  281.5315627987326\n",
      "iteration 119 WCSS =  281.5315627987326\n",
      "iteration 120 WCSS =  281.5315627987326\n",
      "iteration 121 WCSS =  281.5315627987326\n",
      "iteration 122 WCSS =  281.5315627987326\n",
      "iteration 123 WCSS =  281.5315627987326\n",
      "iteration 124 WCSS =  281.5315627987326\n",
      "iteration 125 WCSS =  281.5315627987326\n",
      "iteration 126 WCSS =  281.5315627987326\n",
      "iteration 127 WCSS =  281.5315627987326\n",
      "iteration 128 WCSS =  281.5315627987326\n",
      "iteration 129 WCSS =  281.5315627987326\n",
      "iteration 130 WCSS =  281.5315627987326\n",
      "iteration 131 WCSS =  281.5315627987326\n",
      "iteration 132 WCSS =  281.5315627987326\n",
      "iteration 133 WCSS =  281.5315627987326\n",
      "iteration 134 WCSS =  281.5315627987326\n",
      "iteration 135 WCSS =  281.5315627987326\n",
      "iteration 136 WCSS =  281.5315627987326\n",
      "iteration 137 WCSS =  281.5315627987326\n",
      "iteration 138 WCSS =  281.5315627987326\n",
      "iteration 139 WCSS =  281.5315627987326\n",
      "iteration 140 WCSS =  281.5315627987326\n",
      "iteration 141 WCSS =  281.5315627987326\n",
      "iteration 142 WCSS =  281.5315627987326\n",
      "iteration 143 WCSS =  281.5315627987326\n",
      "iteration 144 WCSS =  281.5315627987326\n",
      "iteration 145 WCSS =  281.5315627987326\n",
      "iteration 146 WCSS =  281.5315627987326\n",
      "iteration 147 WCSS =  281.5315627987326\n",
      "iteration 148 WCSS =  281.5315627987326\n",
      "iteration 149 WCSS =  281.5315627987326\n",
      "iteration 150 WCSS =  281.5315627987326\n",
      "iteration 151 WCSS =  281.5315627987326\n",
      "iteration 152 WCSS =  281.5315627987326\n",
      "iteration 153 WCSS =  281.5315627987326\n",
      "iteration 154 WCSS =  281.5315627987326\n",
      "iteration 155 WCSS =  281.5315627987326\n",
      "iteration 156 WCSS =  281.5315627987326\n",
      "iteration 157 WCSS =  281.5315627987326\n",
      "iteration 158 WCSS =  281.5315627987326\n",
      "iteration 159 WCSS =  281.5315627987326\n",
      "iteration 160 WCSS =  281.5315627987326\n",
      "iteration 161 WCSS =  281.5315627987326\n",
      "iteration 162 WCSS =  281.5315627987326\n",
      "iteration 163 WCSS =  281.5315627987326\n",
      "iteration 164 WCSS =  281.5315627987326\n",
      "iteration 165 WCSS =  281.5315627987326\n",
      "iteration 166 WCSS =  281.5315627987326\n",
      "iteration 167 WCSS =  281.5315627987326\n",
      "iteration 168 WCSS =  281.5315627987326\n",
      "iteration 169 WCSS =  281.5315627987326\n",
      "iteration 170 WCSS =  281.5315627987326\n",
      "iteration 171 WCSS =  281.5315627987326\n",
      "iteration 172 WCSS =  281.5315627987326\n",
      "iteration 173 WCSS =  281.5315627987326\n",
      "iteration 174 WCSS =  281.5315627987326\n",
      "iteration 175 WCSS =  281.5315627987326\n",
      "iteration 176 WCSS =  281.5315627987326\n",
      "iteration 177 WCSS =  281.5315627987326\n",
      "iteration 178 WCSS =  281.5315627987326\n",
      "iteration 179 WCSS =  281.5315627987326\n",
      "iteration 180 WCSS =  281.5315627987326\n",
      "iteration 181 WCSS =  281.5315627987326\n",
      "iteration 182 WCSS =  281.5315627987326\n",
      "iteration 183 WCSS =  281.5315627987326\n",
      "iteration 184 WCSS =  281.5315627987326\n",
      "iteration 185 WCSS =  281.5315627987326\n",
      "iteration 186 WCSS =  281.5315627987326\n",
      "iteration 187 WCSS =  281.5315627987326\n",
      "iteration 188 WCSS =  281.5315627987326\n",
      "iteration 189 WCSS =  281.5315627987326\n",
      "iteration 190 WCSS =  281.5315627987326\n",
      "iteration 191 WCSS =  281.5315627987326\n",
      "iteration 192 WCSS =  281.5315627987326\n",
      "iteration 193 WCSS =  281.5315627987326\n",
      "iteration 194 WCSS =  281.5315627987326\n",
      "iteration 195 WCSS =  281.5315627987326\n",
      "iteration 196 WCSS =  281.5315627987326\n",
      "iteration 197 WCSS =  281.5315627987326\n",
      "iteration 198 WCSS =  281.5315627987326\n",
      "iteration 199 WCSS =  281.5315627987326\n",
      "iteration 200 WCSS =  281.5315627987326\n",
      "iteration 201 WCSS =  281.5315627987326\n",
      "iteration 202 WCSS =  281.5315627987326\n",
      "iteration 203 WCSS =  281.5315627987326\n",
      "iteration 204 WCSS =  281.5315627987326\n",
      "iteration 205 WCSS =  281.5315627987326\n",
      "iteration 206 WCSS =  281.5315627987326\n",
      "iteration 207 WCSS =  281.5315627987326\n",
      "iteration 208 WCSS =  281.5315627987326\n",
      "iteration 209 WCSS =  281.5315627987326\n",
      "iteration 210 WCSS =  281.5315627987326\n",
      "iteration 211 WCSS =  281.5315627987326\n",
      "iteration 212 WCSS =  281.5315627987326\n",
      "iteration 213 WCSS =  281.5315627987326\n",
      "iteration 214 WCSS =  281.5315627987326\n",
      "iteration 215 WCSS =  281.5315627987326\n",
      "iteration 216 WCSS =  281.5315627987326\n",
      "iteration 217 WCSS =  281.5315627987326\n",
      "iteration 218 WCSS =  281.5315627987326\n",
      "iteration 219 WCSS =  281.5315627987326\n",
      "iteration 220 WCSS =  281.5315627987326\n",
      "iteration 221 WCSS =  281.5315627987326\n",
      "iteration 222 WCSS =  281.5315627987326\n",
      "iteration 223 WCSS =  281.5315627987326\n",
      "iteration 224 WCSS =  281.5315627987326\n",
      "iteration 225 WCSS =  281.5315627987326\n",
      "iteration 226 WCSS =  281.5315627987326\n",
      "iteration 227 WCSS =  281.5315627987326\n",
      "iteration 228 WCSS =  281.5315627987326\n",
      "iteration 229 WCSS =  281.5315627987326\n",
      "iteration 230 WCSS =  281.5315627987326\n",
      "iteration 231 WCSS =  281.5315627987326\n",
      "iteration 232 WCSS =  281.5315627987326\n",
      "iteration 233 WCSS =  281.5315627987326\n",
      "iteration 234 WCSS =  281.5315627987326\n",
      "iteration 235 WCSS =  281.5315627987326\n",
      "iteration 236 WCSS =  281.5315627987326\n",
      "iteration 237 WCSS =  281.5315627987326\n",
      "iteration 238 WCSS =  281.5315627987326\n",
      "iteration 239 WCSS =  281.5315627987326\n",
      "iteration 240 WCSS =  281.5315627987326\n",
      "iteration 241 WCSS =  281.5315627987326\n",
      "iteration 242 WCSS =  281.5315627987326\n",
      "iteration 243 WCSS =  281.5315627987326\n",
      "iteration 244 WCSS =  281.5315627987326\n",
      "iteration 245 WCSS =  281.5315627987326\n",
      "iteration 246 WCSS =  281.5315627987326\n",
      "iteration 247 WCSS =  281.5315627987326\n",
      "iteration 248 WCSS =  281.5315627987326\n",
      "iteration 249 WCSS =  281.5315627987326\n",
      "iteration 250 WCSS =  281.5315627987326\n",
      "iteration 251 WCSS =  281.5315627987326\n",
      "iteration 252 WCSS =  281.5315627987326\n",
      "iteration 253 WCSS =  281.5315627987326\n",
      "iteration 254 WCSS =  281.5315627987326\n",
      "iteration 255 WCSS =  281.5315627987326\n",
      "iteration 256 WCSS =  281.5315627987326\n",
      "iteration 257 WCSS =  281.5315627987326\n",
      "iteration 258 WCSS =  281.5315627987326\n",
      "iteration 259 WCSS =  281.5315627987326\n",
      "iteration 260 WCSS =  281.5315627987326\n",
      "iteration 261 WCSS =  281.5315627987326\n",
      "iteration 262 WCSS =  281.5315627987326\n",
      "iteration 263 WCSS =  281.5315627987326\n",
      "iteration 264 WCSS =  281.5315627987326\n",
      "iteration 265 WCSS =  281.5315627987326\n",
      "iteration 266 WCSS =  281.5315627987326\n",
      "iteration 267 WCSS =  281.5315627987326\n",
      "iteration 268 WCSS =  281.5315627987326\n",
      "iteration 269 WCSS =  281.5315627987326\n",
      "iteration 270 WCSS =  281.5315627987326\n",
      "iteration 271 WCSS =  281.5315627987326\n",
      "iteration 272 WCSS =  281.5315627987326\n",
      "iteration 273 WCSS =  281.5315627987326\n",
      "iteration 274 WCSS =  281.5315627987326\n",
      "iteration 275 WCSS =  281.5315627987326\n",
      "iteration 276 WCSS =  281.5315627987326\n",
      "iteration 277 WCSS =  281.5315627987326\n",
      "iteration 278 WCSS =  281.5315627987326\n",
      "iteration 279 WCSS =  281.5315627987326\n",
      "iteration 280 WCSS =  281.5315627987326\n",
      "iteration 281 WCSS =  281.5315627987326\n",
      "iteration 282 WCSS =  281.5315627987326\n",
      "iteration 283 WCSS =  281.5315627987326\n",
      "iteration 284 WCSS =  281.5315627987326\n",
      "iteration 285 WCSS =  281.5315627987326\n",
      "iteration 286 WCSS =  281.5315627987326\n",
      "iteration 287 WCSS =  281.5315627987326\n",
      "iteration 288 WCSS =  281.5315627987326\n",
      "iteration 289 WCSS =  281.5315627987326\n",
      "iteration 290 WCSS =  281.5315627987326\n",
      "iteration 291 WCSS =  281.5315627987326\n",
      "iteration 292 WCSS =  281.5315627987326\n",
      "iteration 293 WCSS =  281.5315627987326\n",
      "iteration 294 WCSS =  281.5315627987326\n",
      "iteration 295 WCSS =  281.5315627987326\n",
      "iteration 296 WCSS =  281.5315627987326\n",
      "iteration 297 WCSS =  281.5315627987326\n",
      "iteration 298 WCSS =  281.5315627987326\n",
      "iteration 299 WCSS =  281.5315627987326\n",
      "iteration 300 WCSS =  281.5315627987326\n",
      "iteration 301 WCSS =  281.5315627987326\n",
      "iteration 302 WCSS =  281.5315627987326\n",
      "iteration 303 WCSS =  281.5315627987326\n",
      "iteration 304 WCSS =  281.5315627987326\n",
      "iteration 305 WCSS =  281.5315627987326\n",
      "iteration 306 WCSS =  281.5315627987326\n",
      "iteration 307 WCSS =  281.5315627987326\n",
      "iteration 308 WCSS =  281.5315627987326\n",
      "iteration 309 WCSS =  281.5315627987326\n",
      "iteration 310 WCSS =  281.5315627987326\n",
      "iteration 311 WCSS =  281.5315627987326\n",
      "iteration 312 WCSS =  281.5315627987326\n",
      "iteration 313 WCSS =  281.5315627987326\n",
      "iteration 314 WCSS =  281.5315627987326\n",
      "iteration 315 WCSS =  281.5315627987326\n",
      "iteration 316 WCSS =  281.5315627987326\n",
      "iteration 317 WCSS =  281.5315627987326\n",
      "iteration 318 WCSS =  281.5315627987326\n",
      "iteration 319 WCSS =  281.5315627987326\n",
      "iteration 320 WCSS =  281.5315627987326\n",
      "iteration 321 WCSS =  281.5315627987326\n",
      "iteration 322 WCSS =  281.5315627987326\n",
      "iteration 323 WCSS =  281.5315627987326\n",
      "iteration 324 WCSS =  281.5315627987326\n",
      "iteration 325 WCSS =  281.5315627987326\n",
      "iteration 326 WCSS =  281.5315627987326\n",
      "iteration 327 WCSS =  281.5315627987326\n",
      "iteration 328 WCSS =  281.5315627987326\n",
      "iteration 329 WCSS =  281.5315627987326\n",
      "iteration 330 WCSS =  281.5315627987326\n",
      "iteration 331 WCSS =  281.5315627987326\n",
      "iteration 332 WCSS =  281.5315627987326\n",
      "iteration 333 WCSS =  281.5315627987326\n",
      "iteration 334 WCSS =  281.5315627987326\n",
      "iteration 335 WCSS =  281.5315627987326\n",
      "iteration 336 WCSS =  281.5315627987326\n",
      "iteration 337 WCSS =  281.5315627987326\n",
      "iteration 338 WCSS =  281.5315627987326\n",
      "iteration 339 WCSS =  281.5315627987326\n",
      "iteration 340 WCSS =  281.5315627987326\n",
      "iteration 341 WCSS =  281.5315627987326\n",
      "iteration 342 WCSS =  281.5315627987326\n",
      "iteration 343 WCSS =  281.5315627987326\n",
      "iteration 344 WCSS =  281.5315627987326\n",
      "iteration 345 WCSS =  281.5315627987326\n",
      "iteration 346 WCSS =  281.5315627987326\n",
      "iteration 347 WCSS =  281.5315627987326\n",
      "iteration 348 WCSS =  281.5315627987326\n",
      "iteration 349 WCSS =  281.5315627987326\n",
      "iteration 350 WCSS =  281.5315627987326\n",
      "iteration 351 WCSS =  281.5315627987326\n",
      "iteration 352 WCSS =  281.5315627987326\n",
      "iteration 353 WCSS =  281.5315627987326\n",
      "iteration 354 WCSS =  281.5315627987326\n",
      "iteration 355 WCSS =  281.5315627987326\n",
      "iteration 356 WCSS =  281.5315627987326\n",
      "iteration 357 WCSS =  281.5315627987326\n",
      "iteration 358 WCSS =  281.5315627987326\n",
      "iteration 359 WCSS =  281.5315627987326\n",
      "iteration 360 WCSS =  281.5315627987326\n",
      "iteration 361 WCSS =  281.5315627987326\n",
      "iteration 362 WCSS =  281.5315627987326\n",
      "iteration 363 WCSS =  281.5315627987326\n",
      "iteration 364 WCSS =  281.5315627987326\n",
      "iteration 365 WCSS =  281.5315627987326\n",
      "iteration 366 WCSS =  281.5315627987326\n",
      "iteration 367 WCSS =  281.5315627987326\n",
      "iteration 368 WCSS =  281.5315627987326\n",
      "iteration 369 WCSS =  281.5315627987326\n",
      "iteration 370 WCSS =  281.5315627987326\n",
      "iteration 371 WCSS =  281.5315627987326\n",
      "iteration 372 WCSS =  281.5315627987326\n",
      "iteration 373 WCSS =  281.5315627987326\n",
      "iteration 374 WCSS =  281.5315627987326\n",
      "iteration 375 WCSS =  281.5315627987326\n",
      "iteration 376 WCSS =  281.5315627987326\n",
      "iteration 377 WCSS =  281.5315627987326\n",
      "iteration 378 WCSS =  281.5315627987326\n",
      "iteration 379 WCSS =  281.5315627987326\n",
      "iteration 380 WCSS =  281.5315627987326\n",
      "iteration 381 WCSS =  281.5315627987326\n",
      "iteration 382 WCSS =  281.5315627987326\n",
      "iteration 383 WCSS =  281.5315627987326\n",
      "iteration 384 WCSS =  281.5315627987326\n",
      "iteration 385 WCSS =  281.5315627987326\n",
      "iteration 386 WCSS =  281.5315627987326\n",
      "iteration 387 WCSS =  281.5315627987326\n",
      "iteration 388 WCSS =  281.5315627987326\n",
      "iteration 389 WCSS =  281.5315627987326\n",
      "iteration 390 WCSS =  281.5315627987326\n",
      "iteration 391 WCSS =  281.5315627987326\n",
      "iteration 392 WCSS =  281.5315627987326\n",
      "iteration 393 WCSS =  281.5315627987326\n",
      "iteration 394 WCSS =  281.5315627987326\n",
      "iteration 395 WCSS =  281.5315627987326\n",
      "iteration 396 WCSS =  281.5315627987326\n",
      "iteration 397 WCSS =  281.5315627987326\n",
      "iteration 398 WCSS =  281.5315627987326\n"
     ]
    },
    {
     "name": "stdout",
     "output_type": "stream",
     "text": [
      "iteration 399 WCSS =  281.5315627987326\n",
      "iteration 400 WCSS =  281.5315627987326\n",
      "iteration 401 WCSS =  281.5315627987326\n",
      "iteration 402 WCSS =  281.5315627987326\n",
      "iteration 403 WCSS =  281.5315627987326\n",
      "iteration 404 WCSS =  281.5315627987326\n",
      "iteration 405 WCSS =  281.5315627987326\n",
      "iteration 406 WCSS =  281.5315627987326\n",
      "iteration 407 WCSS =  281.5315627987326\n",
      "iteration 408 WCSS =  281.5315627987326\n",
      "iteration 409 WCSS =  281.5315627987326\n",
      "iteration 410 WCSS =  281.5315627987326\n",
      "iteration 411 WCSS =  281.5315627987326\n",
      "iteration 412 WCSS =  281.5315627987326\n",
      "iteration 413 WCSS =  281.5315627987326\n",
      "iteration 414 WCSS =  281.5315627987326\n",
      "iteration 415 WCSS =  281.5315627987326\n",
      "iteration 416 WCSS =  281.5315627987326\n",
      "iteration 417 WCSS =  281.5315627987326\n",
      "iteration 418 WCSS =  281.5315627987326\n",
      "iteration 419 WCSS =  281.5315627987326\n",
      "iteration 420 WCSS =  281.5315627987326\n",
      "iteration 421 WCSS =  281.5315627987326\n",
      "iteration 422 WCSS =  281.5315627987326\n",
      "iteration 423 WCSS =  281.5315627987326\n",
      "iteration 424 WCSS =  281.5315627987326\n",
      "iteration 425 WCSS =  281.5315627987326\n",
      "iteration 426 WCSS =  281.5315627987326\n",
      "iteration 427 WCSS =  281.5315627987326\n",
      "iteration 428 WCSS =  281.5315627987326\n",
      "iteration 429 WCSS =  281.5315627987326\n",
      "iteration 430 WCSS =  281.5315627987326\n",
      "iteration 431 WCSS =  281.5315627987326\n",
      "iteration 432 WCSS =  281.5315627987326\n",
      "iteration 433 WCSS =  281.5315627987326\n",
      "iteration 434 WCSS =  281.5315627987326\n",
      "iteration 435 WCSS =  281.5315627987326\n",
      "iteration 436 WCSS =  281.5315627987326\n",
      "iteration 437 WCSS =  281.5315627987326\n",
      "iteration 438 WCSS =  281.5315627987326\n",
      "iteration 439 WCSS =  281.5315627987326\n",
      "iteration 440 WCSS =  281.5315627987326\n",
      "iteration 441 WCSS =  281.5315627987326\n",
      "iteration 442 WCSS =  281.5315627987326\n",
      "iteration 443 WCSS =  281.5315627987326\n",
      "iteration 444 WCSS =  281.5315627987326\n",
      "iteration 445 WCSS =  281.5315627987326\n",
      "iteration 446 WCSS =  281.5315627987326\n",
      "iteration 447 WCSS =  281.5315627987326\n",
      "iteration 448 WCSS =  281.5315627987326\n",
      "iteration 449 WCSS =  281.5315627987326\n",
      "iteration 450 WCSS =  281.5315627987326\n",
      "iteration 451 WCSS =  281.5315627987326\n",
      "iteration 452 WCSS =  281.5315627987326\n",
      "iteration 453 WCSS =  281.5315627987326\n",
      "iteration 454 WCSS =  281.5315627987326\n",
      "iteration 455 WCSS =  281.5315627987326\n",
      "iteration 456 WCSS =  281.5315627987326\n",
      "iteration 457 WCSS =  281.5315627987326\n",
      "iteration 458 WCSS =  281.5315627987326\n",
      "iteration 459 WCSS =  281.5315627987326\n",
      "iteration 460 WCSS =  281.5315627987326\n",
      "iteration 461 WCSS =  281.5315627987326\n",
      "iteration 462 WCSS =  281.5315627987326\n",
      "iteration 463 WCSS =  281.5315627987326\n",
      "iteration 464 WCSS =  281.5315627987326\n",
      "iteration 465 WCSS =  281.5315627987326\n",
      "iteration 466 WCSS =  281.5315627987326\n",
      "iteration 467 WCSS =  281.5315627987326\n",
      "iteration 468 WCSS =  281.5315627987326\n",
      "iteration 469 WCSS =  281.5315627987326\n",
      "iteration 470 WCSS =  281.5315627987326\n",
      "iteration 471 WCSS =  281.5315627987326\n",
      "iteration 472 WCSS =  281.5315627987326\n",
      "iteration 473 WCSS =  281.5315627987326\n",
      "iteration 474 WCSS =  281.5315627987326\n",
      "iteration 475 WCSS =  281.5315627987326\n",
      "iteration 476 WCSS =  281.5315627987326\n",
      "iteration 477 WCSS =  281.5315627987326\n",
      "iteration 478 WCSS =  281.5315627987326\n",
      "iteration 479 WCSS =  281.5315627987326\n",
      "iteration 480 WCSS =  281.5315627987326\n",
      "iteration 481 WCSS =  281.5315627987326\n",
      "iteration 482 WCSS =  281.5315627987326\n",
      "iteration 483 WCSS =  281.5315627987326\n",
      "iteration 484 WCSS =  281.5315627987326\n",
      "iteration 485 WCSS =  281.5315627987326\n",
      "iteration 486 WCSS =  281.5315627987326\n",
      "iteration 487 WCSS =  281.5315627987326\n",
      "iteration 488 WCSS =  281.5315627987326\n",
      "iteration 489 WCSS =  281.5315627987326\n",
      "iteration 490 WCSS =  281.5315627987326\n",
      "iteration 491 WCSS =  281.5315627987326\n",
      "iteration 492 WCSS =  281.5315627987326\n",
      "iteration 493 WCSS =  281.5315627987326\n",
      "iteration 494 WCSS =  281.5315627987326\n",
      "iteration 495 WCSS =  281.5315627987326\n",
      "iteration 496 WCSS =  281.5315627987326\n",
      "iteration 497 WCSS =  281.5315627987326\n",
      "iteration 498 WCSS =  281.5315627987326\n",
      "iteration 499 WCSS =  281.5315627987326\n",
      "iteration 500 WCSS =  281.5315627987326\n",
      "iteration 501 WCSS =  281.5315627987326\n",
      "iteration 502 WCSS =  281.5315627987326\n",
      "iteration 503 WCSS =  281.5315627987326\n",
      "iteration 504 WCSS =  281.5315627987326\n",
      "iteration 505 WCSS =  281.5315627987326\n",
      "iteration 506 WCSS =  281.5315627987326\n",
      "iteration 507 WCSS =  281.5315627987326\n",
      "iteration 508 WCSS =  281.5315627987326\n",
      "iteration 509 WCSS =  281.5315627987326\n",
      "iteration 510 WCSS =  281.5315627987326\n",
      "iteration 511 WCSS =  281.5315627987326\n",
      "iteration 512 WCSS =  281.5315627987326\n",
      "iteration 513 WCSS =  281.5315627987326\n",
      "iteration 514 WCSS =  281.5315627987326\n",
      "iteration 515 WCSS =  281.5315627987326\n",
      "iteration 516 WCSS =  281.5315627987326\n",
      "iteration 517 WCSS =  281.5315627987326\n",
      "iteration 518 WCSS =  281.5315627987326\n",
      "iteration 519 WCSS =  281.5315627987326\n",
      "iteration 520 WCSS =  281.5315627987326\n",
      "iteration 521 WCSS =  281.5315627987326\n",
      "iteration 522 WCSS =  281.5315627987326\n",
      "iteration 523 WCSS =  281.5315627987326\n",
      "iteration 524 WCSS =  281.5315627987326\n",
      "iteration 525 WCSS =  281.5315627987326\n",
      "iteration 526 WCSS =  281.5315627987326\n",
      "iteration 527 WCSS =  281.5315627987326\n",
      "iteration 528 WCSS =  281.5315627987326\n",
      "iteration 529 WCSS =  281.5315627987326\n",
      "iteration 530 WCSS =  281.5315627987326\n",
      "iteration 531 WCSS =  281.5315627987326\n",
      "iteration 532 WCSS =  281.5315627987326\n",
      "iteration 533 WCSS =  281.5315627987326\n",
      "iteration 534 WCSS =  281.5315627987326\n",
      "iteration 535 WCSS =  281.5315627987326\n",
      "iteration 536 WCSS =  281.5315627987326\n",
      "iteration 537 WCSS =  281.5315627987326\n",
      "iteration 538 WCSS =  281.5315627987326\n",
      "iteration 539 WCSS =  281.5315627987326\n",
      "iteration 540 WCSS =  281.5315627987326\n",
      "iteration 541 WCSS =  281.5315627987326\n",
      "iteration 542 WCSS =  281.5315627987326\n",
      "iteration 543 WCSS =  281.5315627987326\n",
      "iteration 544 WCSS =  281.5315627987326\n",
      "iteration 545 WCSS =  281.5315627987326\n",
      "iteration 546 WCSS =  281.5315627987326\n",
      "iteration 547 WCSS =  281.5315627987326\n",
      "iteration 548 WCSS =  281.5315627987326\n",
      "iteration 549 WCSS =  281.5315627987326\n",
      "iteration 550 WCSS =  281.5315627987326\n",
      "iteration 551 WCSS =  281.5315627987326\n",
      "iteration 552 WCSS =  281.5315627987326\n",
      "iteration 553 WCSS =  281.5315627987326\n",
      "iteration 554 WCSS =  281.5315627987326\n",
      "iteration 555 WCSS =  281.5315627987326\n",
      "iteration 556 WCSS =  281.5315627987326\n",
      "iteration 557 WCSS =  281.5315627987326\n",
      "iteration 558 WCSS =  281.5315627987326\n",
      "iteration 559 WCSS =  281.5315627987326\n",
      "iteration 560 WCSS =  281.5315627987326\n",
      "iteration 561 WCSS =  281.5315627987326\n",
      "iteration 562 WCSS =  281.5315627987326\n",
      "iteration 563 WCSS =  281.5315627987326\n",
      "iteration 564 WCSS =  281.5315627987326\n",
      "iteration 565 WCSS =  281.5315627987326\n",
      "iteration 566 WCSS =  281.5315627987326\n",
      "iteration 567 WCSS =  281.5315627987326\n",
      "iteration 568 WCSS =  281.5315627987326\n",
      "iteration 569 WCSS =  281.5315627987326\n",
      "iteration 570 WCSS =  281.5315627987326\n",
      "iteration 571 WCSS =  281.5315627987326\n",
      "iteration 572 WCSS =  281.5315627987326\n",
      "iteration 573 WCSS =  281.5315627987326\n",
      "iteration 574 WCSS =  281.5315627987326\n",
      "iteration 575 WCSS =  281.5315627987326\n",
      "iteration 576 WCSS =  281.5315627987326\n",
      "iteration 577 WCSS =  281.5315627987326\n",
      "iteration 578 WCSS =  281.5315627987326\n",
      "iteration 579 WCSS =  281.5315627987326\n",
      "iteration 580 WCSS =  281.5315627987326\n",
      "iteration 581 WCSS =  281.5315627987326\n",
      "iteration 582 WCSS =  281.5315627987326\n",
      "iteration 583 WCSS =  281.5315627987326\n",
      "iteration 584 WCSS =  281.5315627987326\n",
      "iteration 585 WCSS =  281.5315627987326\n",
      "iteration 586 WCSS =  281.5315627987326\n",
      "iteration 587 WCSS =  281.5315627987326\n",
      "iteration 588 WCSS =  281.5315627987326\n",
      "iteration 589 WCSS =  281.5315627987326\n",
      "iteration 590 WCSS =  281.5315627987326\n",
      "iteration 591 WCSS =  281.5315627987326\n",
      "iteration 592 WCSS =  281.5315627987326\n",
      "iteration 593 WCSS =  281.5315627987326\n",
      "iteration 594 WCSS =  281.5315627987326\n",
      "iteration 595 WCSS =  281.5315627987326\n",
      "iteration 596 WCSS =  281.5315627987326\n",
      "iteration 597 WCSS =  281.5315627987326\n",
      "iteration 598 WCSS =  281.5315627987326\n",
      "iteration 599 WCSS =  281.5315627987326\n",
      "iteration 600 WCSS =  281.5315627987326\n",
      "iteration 601 WCSS =  281.5315627987326\n",
      "iteration 602 WCSS =  281.5315627987326\n",
      "iteration 603 WCSS =  281.5315627987326\n",
      "iteration 604 WCSS =  281.5315627987326\n",
      "iteration 605 WCSS =  281.5315627987326\n",
      "iteration 606 WCSS =  281.5315627987326\n",
      "iteration 607 WCSS =  281.5315627987326\n",
      "iteration 608 WCSS =  281.5315627987326\n",
      "iteration 609 WCSS =  281.5315627987326\n",
      "iteration 610 WCSS =  281.5315627987326\n",
      "iteration 611 WCSS =  281.5315627987326\n",
      "iteration 612 WCSS =  281.5315627987326\n",
      "iteration 613 WCSS =  281.5315627987326\n",
      "iteration 614 WCSS =  281.5315627987326\n",
      "iteration 615 WCSS =  281.5315627987326\n",
      "iteration 616 WCSS =  281.5315627987326\n",
      "iteration 617 WCSS =  281.5315627987326\n",
      "iteration 618 WCSS =  281.5315627987326\n",
      "iteration 619 WCSS =  281.5315627987326\n",
      "iteration 620 WCSS =  281.5315627987326\n",
      "iteration 621 WCSS =  281.5315627987326\n",
      "iteration 622 WCSS =  281.5315627987326\n",
      "iteration 623 WCSS =  281.5315627987326\n",
      "iteration 624 WCSS =  281.5315627987326\n",
      "iteration 625 WCSS =  281.5315627987326\n",
      "iteration 626 WCSS =  281.5315627987326\n",
      "iteration 627 WCSS =  281.5315627987326\n",
      "iteration 628 WCSS =  281.5315627987326\n",
      "iteration 629 WCSS =  281.5315627987326\n",
      "iteration 630 WCSS =  281.5315627987326\n",
      "iteration 631 WCSS =  281.5315627987326\n",
      "iteration 632 WCSS =  281.5315627987326\n",
      "iteration 633 WCSS =  281.5315627987326\n",
      "iteration 634 WCSS =  281.5315627987326\n",
      "iteration 635 WCSS =  281.5315627987326\n",
      "iteration 636 WCSS =  281.5315627987326\n",
      "iteration 637 WCSS =  281.5315627987326\n",
      "iteration 638 WCSS =  281.5315627987326\n",
      "iteration 639 WCSS =  281.5315627987326\n",
      "iteration 640 WCSS =  281.5315627987326\n",
      "iteration 641 WCSS =  281.5315627987326\n",
      "iteration 642 WCSS =  281.5315627987326\n",
      "iteration 643 WCSS =  281.5315627987326\n",
      "iteration 644 WCSS =  281.5315627987326\n",
      "iteration 645 WCSS =  281.5315627987326\n",
      "iteration 646 WCSS =  281.5315627987326\n",
      "iteration 647 WCSS =  281.5315627987326\n",
      "iteration 648 WCSS =  281.5315627987326\n",
      "iteration 649 WCSS =  281.5315627987326\n",
      "iteration 650 WCSS =  281.5315627987326\n",
      "iteration 651 WCSS =  281.5315627987326\n",
      "iteration 652 WCSS =  281.5315627987326\n",
      "iteration 653 WCSS =  281.5315627987326\n",
      "iteration 654 WCSS =  281.5315627987326\n",
      "iteration 655 WCSS =  281.5315627987326\n",
      "iteration 656 WCSS =  281.5315627987326\n",
      "iteration 657 WCSS =  281.5315627987326\n",
      "iteration 658 WCSS =  281.5315627987326\n",
      "iteration 659 WCSS =  281.5315627987326\n",
      "iteration 660 WCSS =  281.5315627987326\n",
      "iteration 661 WCSS =  281.5315627987326\n",
      "iteration 662 WCSS =  281.5315627987326\n",
      "iteration 663 WCSS =  281.5315627987326\n",
      "iteration 664 WCSS =  281.5315627987326\n",
      "iteration 665 WCSS =  281.5315627987326\n",
      "iteration 666 WCSS =  281.5315627987326\n",
      "iteration 667 WCSS =  281.5315627987326\n",
      "iteration 668 WCSS =  281.5315627987326\n",
      "iteration 669 WCSS =  281.5315627987326\n",
      "iteration 670 WCSS =  281.5315627987326\n",
      "iteration 671 WCSS =  281.5315627987326\n",
      "iteration 672 WCSS =  281.5315627987326\n",
      "iteration 673 WCSS =  281.5315627987326\n",
      "iteration 674 WCSS =  281.5315627987326\n",
      "iteration 675 WCSS =  281.5315627987326\n",
      "iteration 676 WCSS =  281.5315627987326\n",
      "iteration 677 WCSS =  281.5315627987326\n",
      "iteration 678 WCSS =  281.5315627987326\n",
      "iteration 679 WCSS =  281.5315627987326\n",
      "iteration 680 WCSS =  281.5315627987326\n",
      "iteration 681 WCSS =  281.5315627987326\n",
      "iteration 682 WCSS =  281.5315627987326\n",
      "iteration 683 WCSS =  281.5315627987326\n",
      "iteration 684 WCSS =  281.5315627987326\n",
      "iteration 685 WCSS =  281.5315627987326\n",
      "iteration 686 WCSS =  281.5315627987326\n",
      "iteration 687 WCSS =  281.5315627987326\n",
      "iteration 688 WCSS =  281.5315627987326\n",
      "iteration 689 WCSS =  281.5315627987326\n",
      "iteration 690 WCSS =  281.5315627987326\n",
      "iteration 691 WCSS =  281.5315627987326\n",
      "iteration 692 WCSS =  281.5315627987326\n",
      "iteration 693 WCSS =  281.5315627987326\n",
      "iteration 694 WCSS =  281.5315627987326\n",
      "iteration 695 WCSS =  281.5315627987326\n",
      "iteration 696 WCSS =  281.5315627987326\n",
      "iteration 697 WCSS =  281.5315627987326\n",
      "iteration 698 WCSS =  281.5315627987326\n",
      "iteration 699 WCSS =  281.5315627987326\n",
      "iteration 700 WCSS =  281.5315627987326\n",
      "iteration 701 WCSS =  281.5315627987326\n",
      "iteration 702 WCSS =  281.5315627987326\n",
      "iteration 703 WCSS =  281.5315627987326\n",
      "iteration 704 WCSS =  281.5315627987326\n",
      "iteration 705 WCSS =  281.5315627987326\n",
      "iteration 706 WCSS =  281.5315627987326\n",
      "iteration 707 WCSS =  281.5315627987326\n",
      "iteration 708 WCSS =  281.5315627987326\n",
      "iteration 709 WCSS =  281.5315627987326\n",
      "iteration 710 WCSS =  281.5315627987326\n",
      "iteration 711 WCSS =  281.5315627987326\n",
      "iteration 712 WCSS =  281.5315627987326\n",
      "iteration 713 WCSS =  281.5315627987326\n",
      "iteration 714 WCSS =  281.5315627987326\n",
      "iteration 715 WCSS =  281.5315627987326\n",
      "iteration 716 WCSS =  281.5315627987326\n",
      "iteration 717 WCSS =  281.5315627987326\n",
      "iteration 718 WCSS =  281.5315627987326\n",
      "iteration 719 WCSS =  281.5315627987326\n",
      "iteration 720 WCSS =  281.5315627987326\n",
      "iteration 721 WCSS =  281.5315627987326\n",
      "iteration 722 WCSS =  281.5315627987326\n",
      "iteration 723 WCSS =  281.5315627987326\n",
      "iteration 724 WCSS =  281.5315627987326\n",
      "iteration 725 WCSS =  281.5315627987326\n",
      "iteration 726 WCSS =  281.5315627987326\n",
      "iteration 727 WCSS =  281.5315627987326\n",
      "iteration 728 WCSS =  281.5315627987326\n",
      "iteration 729 WCSS =  281.5315627987326\n",
      "iteration 730 WCSS =  281.5315627987326\n",
      "iteration 731 WCSS =  281.5315627987326\n",
      "iteration 732 WCSS =  281.5315627987326\n",
      "iteration 733 WCSS =  281.5315627987326\n",
      "iteration 734 WCSS =  281.5315627987326\n",
      "iteration 735 WCSS =  281.5315627987326\n",
      "iteration 736 WCSS =  281.5315627987326\n",
      "iteration 737 WCSS =  281.5315627987326\n",
      "iteration 738 WCSS =  281.5315627987326\n",
      "iteration 739 WCSS =  281.5315627987326\n",
      "iteration 740 WCSS =  281.5315627987326\n",
      "iteration 741 WCSS =  281.5315627987326\n",
      "iteration 742 WCSS =  281.5315627987326\n",
      "iteration 743 WCSS =  281.5315627987326\n",
      "iteration 744 WCSS =  281.5315627987326\n",
      "iteration 745 WCSS =  281.5315627987326\n",
      "iteration 746 WCSS =  281.5315627987326\n",
      "iteration 747 WCSS =  281.5315627987326\n",
      "iteration 748 WCSS =  281.5315627987326\n",
      "iteration 749 WCSS =  281.5315627987326\n",
      "iteration 750 WCSS =  281.5315627987326\n",
      "iteration 751 WCSS =  281.5315627987326\n",
      "iteration 752 WCSS =  281.5315627987326\n",
      "iteration 753 WCSS =  281.5315627987326\n",
      "iteration 754 WCSS =  281.5315627987326\n",
      "iteration 755 WCSS =  281.5315627987326\n",
      "iteration 756 WCSS =  281.5315627987326\n",
      "iteration 757 WCSS =  281.5315627987326\n",
      "iteration 758 WCSS =  281.5315627987326\n",
      "iteration 759 WCSS =  281.5315627987326\n",
      "iteration 760 WCSS =  281.5315627987326\n",
      "iteration 761 WCSS =  281.5315627987326\n",
      "iteration 762 WCSS =  281.5315627987326\n",
      "iteration 763 WCSS =  281.5315627987326\n",
      "iteration 764 WCSS =  281.5315627987326\n",
      "iteration 765 WCSS =  281.5315627987326\n",
      "iteration 766 WCSS =  281.5315627987326\n",
      "iteration 767 WCSS =  281.5315627987326\n",
      "iteration 768 WCSS =  281.5315627987326\n",
      "iteration 769 WCSS =  281.5315627987326\n",
      "iteration 770 WCSS =  281.5315627987326\n",
      "iteration 771 WCSS =  281.5315627987326\n",
      "iteration 772 WCSS =  281.5315627987326\n",
      "iteration 773 WCSS =  281.5315627987326\n",
      "iteration 774 WCSS =  281.5315627987326\n",
      "iteration 775 WCSS =  281.5315627987326\n",
      "iteration 776 WCSS =  281.5315627987326\n",
      "iteration 777 WCSS =  281.5315627987326\n",
      "iteration 778 WCSS =  281.5315627987326\n",
      "iteration 779 WCSS =  281.5315627987326\n"
     ]
    },
    {
     "name": "stdout",
     "output_type": "stream",
     "text": [
      "iteration 780 WCSS =  281.5315627987326\n",
      "iteration 781 WCSS =  281.5315627987326\n",
      "iteration 782 WCSS =  281.5315627987326\n",
      "iteration 783 WCSS =  281.5315627987326\n",
      "iteration 784 WCSS =  281.5315627987326\n",
      "iteration 785 WCSS =  281.5315627987326\n",
      "iteration 786 WCSS =  281.5315627987326\n",
      "iteration 787 WCSS =  281.5315627987326\n",
      "iteration 788 WCSS =  281.5315627987326\n",
      "iteration 789 WCSS =  281.5315627987326\n",
      "iteration 790 WCSS =  281.5315627987326\n",
      "iteration 791 WCSS =  281.5315627987326\n",
      "iteration 792 WCSS =  281.5315627987326\n",
      "iteration 793 WCSS =  281.5315627987326\n",
      "iteration 794 WCSS =  281.5315627987326\n",
      "iteration 795 WCSS =  281.5315627987326\n",
      "iteration 796 WCSS =  281.5315627987326\n",
      "iteration 797 WCSS =  281.5315627987326\n",
      "iteration 798 WCSS =  281.5315627987326\n",
      "iteration 799 WCSS =  281.5315627987326\n",
      "iteration 800 WCSS =  281.5315627987326\n",
      "iteration 801 WCSS =  281.5315627987326\n",
      "iteration 802 WCSS =  281.5315627987326\n",
      "iteration 803 WCSS =  281.5315627987326\n",
      "iteration 804 WCSS =  281.5315627987326\n",
      "iteration 805 WCSS =  281.5315627987326\n",
      "iteration 806 WCSS =  281.5315627987326\n",
      "iteration 807 WCSS =  281.5315627987326\n",
      "iteration 808 WCSS =  281.5315627987326\n",
      "iteration 809 WCSS =  281.5315627987326\n",
      "iteration 810 WCSS =  281.5315627987326\n",
      "iteration 811 WCSS =  281.5315627987326\n",
      "iteration 812 WCSS =  281.5315627987326\n",
      "iteration 813 WCSS =  281.5315627987326\n",
      "iteration 814 WCSS =  281.5315627987326\n",
      "iteration 815 WCSS =  281.5315627987326\n",
      "iteration 816 WCSS =  281.5315627987326\n",
      "iteration 817 WCSS =  281.5315627987326\n",
      "iteration 818 WCSS =  281.5315627987326\n",
      "iteration 819 WCSS =  281.5315627987326\n",
      "iteration 820 WCSS =  281.5315627987326\n",
      "iteration 821 WCSS =  281.5315627987326\n",
      "iteration 822 WCSS =  281.5315627987326\n",
      "iteration 823 WCSS =  281.5315627987326\n",
      "iteration 824 WCSS =  281.5315627987326\n",
      "iteration 825 WCSS =  281.5315627987326\n",
      "iteration 826 WCSS =  281.5315627987326\n",
      "iteration 827 WCSS =  281.5315627987326\n",
      "iteration 828 WCSS =  281.5315627987326\n",
      "iteration 829 WCSS =  281.5315627987326\n",
      "iteration 830 WCSS =  281.5315627987326\n",
      "iteration 831 WCSS =  281.5315627987326\n",
      "iteration 832 WCSS =  281.5315627987326\n",
      "iteration 833 WCSS =  281.5315627987326\n",
      "iteration 834 WCSS =  281.5315627987326\n",
      "iteration 835 WCSS =  281.5315627987326\n",
      "iteration 836 WCSS =  281.5315627987326\n",
      "iteration 837 WCSS =  281.5315627987326\n",
      "iteration 838 WCSS =  281.5315627987326\n",
      "iteration 839 WCSS =  281.5315627987326\n",
      "iteration 840 WCSS =  281.5315627987326\n",
      "iteration 841 WCSS =  281.5315627987326\n",
      "iteration 842 WCSS =  281.5315627987326\n",
      "iteration 843 WCSS =  281.5315627987326\n",
      "iteration 844 WCSS =  281.5315627987326\n",
      "iteration 845 WCSS =  281.5315627987326\n",
      "iteration 846 WCSS =  281.5315627987326\n",
      "iteration 847 WCSS =  281.5315627987326\n",
      "iteration 848 WCSS =  281.5315627987326\n",
      "iteration 849 WCSS =  281.5315627987326\n",
      "iteration 850 WCSS =  281.5315627987326\n",
      "iteration 851 WCSS =  281.5315627987326\n",
      "iteration 852 WCSS =  281.5315627987326\n",
      "iteration 853 WCSS =  281.5315627987326\n",
      "iteration 854 WCSS =  281.5315627987326\n",
      "iteration 855 WCSS =  281.5315627987326\n",
      "iteration 856 WCSS =  281.5315627987326\n",
      "iteration 857 WCSS =  281.5315627987326\n",
      "iteration 858 WCSS =  281.5315627987326\n",
      "iteration 859 WCSS =  281.5315627987326\n",
      "iteration 860 WCSS =  281.5315627987326\n",
      "iteration 861 WCSS =  281.5315627987326\n",
      "iteration 862 WCSS =  281.5315627987326\n",
      "iteration 863 WCSS =  281.5315627987326\n",
      "iteration 864 WCSS =  281.5315627987326\n",
      "iteration 865 WCSS =  281.5315627987326\n",
      "iteration 866 WCSS =  281.5315627987326\n",
      "iteration 867 WCSS =  281.5315627987326\n",
      "iteration 868 WCSS =  281.5315627987326\n",
      "iteration 869 WCSS =  281.5315627987326\n",
      "iteration 870 WCSS =  281.5315627987326\n",
      "iteration 871 WCSS =  281.5315627987326\n",
      "iteration 872 WCSS =  281.5315627987326\n",
      "iteration 873 WCSS =  281.5315627987326\n",
      "iteration 874 WCSS =  281.5315627987326\n",
      "iteration 875 WCSS =  281.5315627987326\n",
      "iteration 876 WCSS =  281.5315627987326\n",
      "iteration 877 WCSS =  281.5315627987326\n",
      "iteration 878 WCSS =  281.5315627987326\n",
      "iteration 879 WCSS =  281.5315627987326\n",
      "iteration 880 WCSS =  281.5315627987326\n",
      "iteration 881 WCSS =  281.5315627987326\n",
      "iteration 882 WCSS =  281.5315627987326\n",
      "iteration 883 WCSS =  281.5315627987326\n",
      "iteration 884 WCSS =  281.5315627987326\n",
      "iteration 885 WCSS =  281.5315627987326\n",
      "iteration 886 WCSS =  281.5315627987326\n",
      "iteration 887 WCSS =  281.5315627987326\n",
      "iteration 888 WCSS =  281.5315627987326\n",
      "iteration 889 WCSS =  281.5315627987326\n",
      "iteration 890 WCSS =  281.5315627987326\n",
      "iteration 891 WCSS =  281.5315627987326\n",
      "iteration 892 WCSS =  281.5315627987326\n",
      "iteration 893 WCSS =  281.5315627987326\n",
      "iteration 894 WCSS =  281.5315627987326\n",
      "iteration 895 WCSS =  281.5315627987326\n",
      "iteration 896 WCSS =  281.5315627987326\n",
      "iteration 897 WCSS =  281.5315627987326\n",
      "iteration 898 WCSS =  281.5315627987326\n",
      "iteration 899 WCSS =  281.5315627987326\n",
      "iteration 900 WCSS =  281.5315627987326\n",
      "iteration 901 WCSS =  281.5315627987326\n",
      "iteration 902 WCSS =  281.5315627987326\n",
      "iteration 903 WCSS =  281.5315627987326\n",
      "iteration 904 WCSS =  281.5315627987326\n",
      "iteration 905 WCSS =  281.5315627987326\n",
      "iteration 906 WCSS =  281.5315627987326\n",
      "iteration 907 WCSS =  281.5315627987326\n",
      "iteration 908 WCSS =  281.5315627987326\n",
      "iteration 909 WCSS =  281.5315627987326\n",
      "iteration 910 WCSS =  281.5315627987326\n",
      "iteration 911 WCSS =  281.5315627987326\n",
      "iteration 912 WCSS =  281.5315627987326\n",
      "iteration 913 WCSS =  281.5315627987326\n",
      "iteration 914 WCSS =  281.5315627987326\n",
      "iteration 915 WCSS =  281.5315627987326\n",
      "iteration 916 WCSS =  281.5315627987326\n",
      "iteration 917 WCSS =  281.5315627987326\n",
      "iteration 918 WCSS =  281.5315627987326\n",
      "iteration 919 WCSS =  281.5315627987326\n",
      "iteration 920 WCSS =  281.5315627987326\n",
      "iteration 921 WCSS =  281.5315627987326\n",
      "iteration 922 WCSS =  281.5315627987326\n",
      "iteration 923 WCSS =  281.5315627987326\n",
      "iteration 924 WCSS =  281.5315627987326\n",
      "iteration 925 WCSS =  281.5315627987326\n",
      "iteration 926 WCSS =  281.5315627987326\n",
      "iteration 927 WCSS =  281.5315627987326\n",
      "iteration 928 WCSS =  281.5315627987326\n",
      "iteration 929 WCSS =  281.5315627987326\n",
      "iteration 930 WCSS =  281.5315627987326\n",
      "iteration 931 WCSS =  281.5315627987326\n",
      "iteration 932 WCSS =  281.5315627987326\n",
      "iteration 933 WCSS =  281.5315627987326\n",
      "iteration 934 WCSS =  281.5315627987326\n",
      "iteration 935 WCSS =  281.5315627987326\n",
      "iteration 936 WCSS =  281.5315627987326\n",
      "iteration 937 WCSS =  281.5315627987326\n",
      "iteration 938 WCSS =  281.5315627987326\n",
      "iteration 939 WCSS =  281.5315627987326\n",
      "iteration 940 WCSS =  281.5315627987326\n",
      "iteration 941 WCSS =  281.5315627987326\n",
      "iteration 942 WCSS =  281.5315627987326\n",
      "iteration 943 WCSS =  281.5315627987326\n",
      "iteration 944 WCSS =  281.5315627987326\n",
      "iteration 945 WCSS =  281.5315627987326\n",
      "iteration 946 WCSS =  281.5315627987326\n",
      "iteration 947 WCSS =  281.5315627987326\n",
      "iteration 948 WCSS =  281.5315627987326\n",
      "iteration 949 WCSS =  281.5315627987326\n",
      "iteration 950 WCSS =  281.5315627987326\n",
      "iteration 951 WCSS =  281.5315627987326\n",
      "iteration 952 WCSS =  281.5315627987326\n",
      "iteration 953 WCSS =  281.5315627987326\n",
      "iteration 954 WCSS =  281.5315627987326\n",
      "iteration 955 WCSS =  281.5315627987326\n",
      "iteration 956 WCSS =  281.5315627987326\n",
      "iteration 957 WCSS =  281.5315627987326\n",
      "iteration 958 WCSS =  281.5315627987326\n",
      "iteration 959 WCSS =  281.5315627987326\n",
      "iteration 960 WCSS =  281.5315627987326\n",
      "iteration 961 WCSS =  281.5315627987326\n",
      "iteration 962 WCSS =  281.5315627987326\n",
      "iteration 963 WCSS =  281.5315627987326\n",
      "iteration 964 WCSS =  281.5315627987326\n",
      "iteration 965 WCSS =  281.5315627987326\n",
      "iteration 966 WCSS =  281.5315627987326\n",
      "iteration 967 WCSS =  281.5315627987326\n",
      "iteration 968 WCSS =  281.5315627987326\n",
      "iteration 969 WCSS =  281.5315627987326\n",
      "iteration 970 WCSS =  281.5315627987326\n",
      "iteration 971 WCSS =  281.5315627987326\n",
      "iteration 972 WCSS =  281.5315627987326\n",
      "iteration 973 WCSS =  281.5315627987326\n",
      "iteration 974 WCSS =  281.5315627987326\n",
      "iteration 975 WCSS =  281.5315627987326\n",
      "iteration 976 WCSS =  281.5315627987326\n",
      "iteration 977 WCSS =  281.5315627987326\n",
      "iteration 978 WCSS =  281.5315627987326\n",
      "iteration 979 WCSS =  281.5315627987326\n",
      "iteration 980 WCSS =  281.5315627987326\n",
      "iteration 981 WCSS =  281.5315627987326\n",
      "iteration 982 WCSS =  281.5315627987326\n",
      "iteration 983 WCSS =  281.5315627987326\n",
      "iteration 984 WCSS =  281.5315627987326\n",
      "iteration 985 WCSS =  281.5315627987326\n",
      "iteration 986 WCSS =  281.5315627987326\n",
      "iteration 987 WCSS =  281.5315627987326\n",
      "iteration 988 WCSS =  281.5315627987326\n",
      "iteration 989 WCSS =  281.5315627987326\n",
      "iteration 990 WCSS =  281.5315627987326\n",
      "iteration 991 WCSS =  281.5315627987326\n",
      "iteration 992 WCSS =  281.5315627987326\n",
      "iteration 993 WCSS =  281.5315627987326\n",
      "iteration 994 WCSS =  281.5315627987326\n",
      "iteration 995 WCSS =  281.5315627987326\n",
      "iteration 996 WCSS =  281.5315627987326\n",
      "iteration 997 WCSS =  281.5315627987326\n",
      "iteration 998 WCSS =  281.5315627987326\n",
      "iteration 999 WCSS =  281.5315627987326\n",
      "iteration 1000 WCSS =  281.5315627987326\n"
     ]
    }
   ],
   "source": [
    "def kmeans(X, k,\n",
    "           starting_centers=None,\n",
    "           max_steps=np.inf):\n",
    "    if starting_centers is None:\n",
    "        centers = init_centers(X, k)\n",
    "    else:\n",
    "        centers = starting_centers\n",
    "        \n",
    "    converged = False\n",
    "    labels = np.zeros(len(X))\n",
    "    i = 1\n",
    "    while (not converged) and (i <= max_steps):\n",
    "        old_centers = centers\n",
    "        S=compute_d2(X, old_centers)\n",
    "        labels=assign_cluster_labels(S)\n",
    "        centers=update_centers(X, labels)\n",
    "        print (\"iteration\", i, \"WCSS = \", WCSS (S))\n",
    "        i += 1\n",
    "    return labels\n",
    "\n",
    "clustering = kmeans(points, k, starting_centers=points[[0, 187], :],max_steps=1000)"
   ]
  },
  {
   "cell_type": "markdown",
   "metadata": {},
   "source": [
    "Let's visualize the results."
   ]
  },
  {
   "cell_type": "code",
   "execution_count": 19,
   "metadata": {
    "deletable": false,
    "editable": false,
    "nbgrader": {
     "grade": true,
     "grade_id": "kmeans_test",
     "locked": true,
     "points": 3,
     "schema_version": 1,
     "solution": false
    }
   },
   "outputs": [
    {
     "name": "stdout",
     "output_type": "stream",
     "text": [
      "329 matches out of 375 possible (~ 87.7%)\n"
     ]
    },
    {
     "data": {
      "image/png": "[encoded data removed]",
      "text/plain": [
       "<Figure size 417.75x360 with 1 Axes>"
      ]
     },
     "metadata": {},
     "output_type": "display_data"
    }
   ],
   "source": [
    "# Test cell: `kmeans_test`\n",
    "\n",
    "df['clustering'] = clustering\n",
    "centers = update_centers(points, clustering)\n",
    "make_scatter_plot(df, hue='clustering', centers=centers)\n",
    "\n",
    "n_matches = count_matches(df['label'], df['clustering'])\n",
    "print(n_matches,\n",
    "      \"matches out of\",\n",
    "      len(df), \"possible\",\n",
    "      \"(~ {:.1f}%)\".format(100.0 * n_matches / len(df)))\n",
    "\n",
    "assert n_matches >= 320"
   ]
  },
  {
   "cell_type": "markdown",
   "metadata": {
    "deletable": false,
    "editable": false,
    "nbgrader": {
     "grade": false,
     "locked": true,
     "solution": false
    }
   },
   "source": [
    "**Applying k-means to an image.** In this section of the notebook, you will apply k-means to an image, for the purpose of doing a \"stylized recoloring\" of it. (You can view this example as a primitive form of [artistic style transfer](http://genekogan.com/works/style-transfer/), which state-of-the-art methods today [accomplish using neural networks](https://medium.com/artists-and-machine-intelligence/neural-artistic-style-transfer-a-comprehensive-look-f54d8649c199).)\n",
    "\n",
    "In particlar, let's take an input image and cluster pixels based on the similarity of their colors. Maybe it can become the basis of your own [Instagram filter](https://blog.hubspot.com/marketing/instagram-filters)!"
   ]
  },
  {
   "cell_type": "code",
   "execution_count": 20,
   "metadata": {
    "deletable": false,
    "editable": false,
    "nbgrader": {
     "grade": false,
     "locked": true,
     "solution": false
    }
   },
   "outputs": [
    {
     "name": "stdout",
     "output_type": "stream",
     "text": [
      "Shape of the matrix obtained by reading the image\n",
      "(412, 620, 3)\n"
     ]
    },
    {
     "data": {
      "image/png": "[encoded data removed]",
      "text/plain": [
       "<Figure size 432x288 with 1 Axes>"
      ]
     },
     "metadata": {},
     "output_type": "display_data"
    }
   ],
   "source": [
    "from PIL import Image\n",
    "from matplotlib.pyplot import imshow\n",
    "%matplotlib inline\n",
    "\n",
    "def read_img(path):\n",
    "    \"\"\"\n",
    "    Read image and store it as an array, given the image path. \n",
    "    Returns the 3 dimensional image array.\n",
    "    \"\"\"\n",
    "    img = Image.open(path)\n",
    "    img_arr = np.array(img, dtype='int32')\n",
    "    img.close()\n",
    "    return img_arr\n",
    "\n",
    "def display_image(arr):\n",
    "    \"\"\"\n",
    "    display the image\n",
    "    input : 3 dimensional array\n",
    "    \"\"\"\n",
    "    arr = arr.astype(dtype='uint8')\n",
    "    img = Image.fromarray(arr, 'RGB')\n",
    "    imshow(np.asarray(img))\n",
    "    \n",
    "\n",
    "img_arr = read_img(\"../resource/asnlib/publicdata/football.bmp\")\n",
    "display_image(img_arr)\n",
    "print(\"Shape of the matrix obtained by reading the image\")\n",
    "print(img_arr.shape)"
   ]
  },
  {
   "cell_type": "markdown",
   "metadata": {
    "deletable": false,
    "editable": false,
    "nbgrader": {
     "grade": false,
     "locked": true,
     "solution": false
    }
   },
   "source": [
    "Note that the image is stored as a \"3-D\" matrix. It is important to understand how matrices help to store a image. Each pixel corresponds to a intensity value for Red, Green and Blue. If you note the properties of the image, its resolution is 620 x 412. The image width is 620 pixels and height is 412 pixels, and each pixel has three values - **R**, **G**, **B**. This makes it a 412 x 620 x 3 matrix."
   ]
  },
  {
   "cell_type": "markdown",
   "metadata": {
    "deletable": false,
    "editable": false,
    "nbgrader": {
     "grade": false,
     "locked": true,
     "solution": false
    }
   },
   "source": [
    "**Exercise 7** (1 point). Write some code to *reshape* the matrix into \"img_reshaped\" by transforming \"img_arr\" from a \"3-D\" matrix to a flattened \"2-D\" matrix which has 3 columns corresponding to the RGB values for each pixel. In this form, the flattened matrix must contain all pixels and their corresponding RGB intensity values. Remember in the previous modules we had discussed a C type indexing style and a Fortran type indexing style. In this problem, refer to the C type indexing style. The numpy reshape function may be of help here."
   ]
  },
  {
   "cell_type": "code",
   "execution_count": 21,
   "metadata": {},
   "outputs": [],
   "source": [
    "img_reshaped=img_arr.reshape(-1,3)"
   ]
  },
  {
   "cell_type": "code",
   "execution_count": 22,
   "metadata": {
    "deletable": false,
    "editable": false,
    "nbgrader": {
     "grade": true,
     "grade_id": "reshape_test",
     "locked": true,
     "points": "1",
     "solution": false
    }
   },
   "outputs": [
    {
     "name": "stdout",
     "output_type": "stream",
     "text": [
      "Passed\n"
     ]
    }
   ],
   "source": [
    "# Test cell - 'reshape_test'\n",
    "r, c, l = img_arr.shape\n",
    "# The reshaped image is a flattened '2-dimensional' matrix\n",
    "assert len(img_reshaped.shape) == 2\n",
    "r_reshaped, c_reshaped = img_reshaped.shape\n",
    "assert r * c * l == r_reshaped * c_reshaped\n",
    "assert c_reshaped == 3\n",
    "print(\"Passed\")"
   ]
  },
  {
   "cell_type": "markdown",
   "metadata": {
    "deletable": false,
    "editable": false,
    "nbgrader": {
     "grade": false,
     "locked": true,
     "solution": false
    }
   },
   "source": [
    "**Exercise 8** (1 point). Now use the k-means function that you wrote above to divide the image in **3** clusters. The result would be a vector named labels, which assigns the label to each pixel."
   ]
  },
  {
   "cell_type": "code",
   "execution_count": 24,
   "metadata": {},
   "outputs": [
    {
     "name": "stdout",
     "output_type": "stream",
     "text": [
      "iteration 1 WCSS =  1378729698.0\n",
      "iteration 2 WCSS =  732222799.3356928\n",
      "iteration 3 WCSS =  659909133.3401091\n",
      "iteration 4 WCSS =  644282443.2222539\n",
      "iteration 5 WCSS =  638625072.4513458\n",
      "iteration 6 WCSS =  636148969.8002926\n",
      "iteration 7 WCSS =  635071212.5898823\n",
      "iteration 8 WCSS =  634570425.545061\n",
      "iteration 9 WCSS =  634358034.8836356\n",
      "iteration 10 WCSS =  634259139.4529309\n",
      "iteration 11 WCSS =  634210715.0620644\n",
      "iteration 12 WCSS =  634189008.3366318\n",
      "iteration 13 WCSS =  634179175.5788647\n",
      "iteration 14 WCSS =  634176097.5052617\n",
      "iteration 15 WCSS =  634174546.2529508\n",
      "iteration 16 WCSS =  634173984.4367541\n",
      "iteration 17 WCSS =  634173813.1828784\n",
      "iteration 18 WCSS =  634173778.4150583\n",
      "iteration 19 WCSS =  634173759.7959646\n",
      "iteration 20 WCSS =  634173756.0509284\n",
      "iteration 21 WCSS =  634173755.1569637\n",
      "iteration 22 WCSS =  634173755.1569637\n",
      "iteration 23 WCSS =  634173755.1569637\n",
      "iteration 24 WCSS =  634173755.1569637\n",
      "iteration 25 WCSS =  634173755.1569637\n",
      "iteration 26 WCSS =  634173755.1569637\n",
      "iteration 27 WCSS =  634173755.1569637\n",
      "iteration 28 WCSS =  634173755.1569637\n",
      "iteration 29 WCSS =  634173755.1569637\n",
      "iteration 30 WCSS =  634173755.1569637\n",
      "iteration 31 WCSS =  634173755.1569637\n",
      "iteration 32 WCSS =  634173755.1569637\n",
      "iteration 33 WCSS =  634173755.1569637\n",
      "iteration 34 WCSS =  634173755.1569637\n",
      "iteration 35 WCSS =  634173755.1569637\n",
      "iteration 36 WCSS =  634173755.1569637\n",
      "iteration 37 WCSS =  634173755.1569637\n",
      "iteration 38 WCSS =  634173755.1569637\n",
      "iteration 39 WCSS =  634173755.1569637\n",
      "iteration 40 WCSS =  634173755.1569637\n",
      "iteration 41 WCSS =  634173755.1569637\n",
      "iteration 42 WCSS =  634173755.1569637\n",
      "iteration 43 WCSS =  634173755.1569637\n",
      "iteration 44 WCSS =  634173755.1569637\n",
      "iteration 45 WCSS =  634173755.1569637\n",
      "iteration 46 WCSS =  634173755.1569637\n",
      "iteration 47 WCSS =  634173755.1569637\n",
      "iteration 48 WCSS =  634173755.1569637\n",
      "iteration 49 WCSS =  634173755.1569637\n",
      "iteration 50 WCSS =  634173755.1569637\n",
      "iteration 51 WCSS =  634173755.1569637\n",
      "iteration 52 WCSS =  634173755.1569637\n",
      "iteration 53 WCSS =  634173755.1569637\n",
      "iteration 54 WCSS =  634173755.1569637\n",
      "iteration 55 WCSS =  634173755.1569637\n",
      "iteration 56 WCSS =  634173755.1569637\n",
      "iteration 57 WCSS =  634173755.1569637\n",
      "iteration 58 WCSS =  634173755.1569637\n",
      "iteration 59 WCSS =  634173755.1569637\n",
      "iteration 60 WCSS =  634173755.1569637\n",
      "iteration 61 WCSS =  634173755.1569637\n",
      "iteration 62 WCSS =  634173755.1569637\n",
      "iteration 63 WCSS =  634173755.1569637\n",
      "iteration 64 WCSS =  634173755.1569637\n",
      "iteration 65 WCSS =  634173755.1569637\n",
      "iteration 66 WCSS =  634173755.1569637\n",
      "iteration 67 WCSS =  634173755.1569637\n",
      "iteration 68 WCSS =  634173755.1569637\n",
      "iteration 69 WCSS =  634173755.1569637\n",
      "iteration 70 WCSS =  634173755.1569637\n",
      "iteration 71 WCSS =  634173755.1569637\n",
      "iteration 72 WCSS =  634173755.1569637\n",
      "iteration 73 WCSS =  634173755.1569637\n",
      "iteration 74 WCSS =  634173755.1569637\n",
      "iteration 75 WCSS =  634173755.1569637\n",
      "iteration 76 WCSS =  634173755.1569637\n",
      "iteration 77 WCSS =  634173755.1569637\n",
      "iteration 78 WCSS =  634173755.1569637\n",
      "iteration 79 WCSS =  634173755.1569637\n",
      "iteration 80 WCSS =  634173755.1569637\n",
      "iteration 81 WCSS =  634173755.1569637\n",
      "iteration 82 WCSS =  634173755.1569637\n",
      "iteration 83 WCSS =  634173755.1569637\n",
      "iteration 84 WCSS =  634173755.1569637\n",
      "iteration 85 WCSS =  634173755.1569637\n",
      "iteration 86 WCSS =  634173755.1569637\n",
      "iteration 87 WCSS =  634173755.1569637\n",
      "iteration 88 WCSS =  634173755.1569637\n",
      "iteration 89 WCSS =  634173755.1569637\n",
      "iteration 90 WCSS =  634173755.1569637\n",
      "iteration 91 WCSS =  634173755.1569637\n",
      "iteration 92 WCSS =  634173755.1569637\n",
      "iteration 93 WCSS =  634173755.1569637\n",
      "iteration 94 WCSS =  634173755.1569637\n",
      "iteration 95 WCSS =  634173755.1569637\n",
      "iteration 96 WCSS =  634173755.1569637\n",
      "iteration 97 WCSS =  634173755.1569637\n",
      "iteration 98 WCSS =  634173755.1569637\n",
      "iteration 99 WCSS =  634173755.1569637\n",
      "iteration 100 WCSS =  634173755.1569637\n",
      "iteration 101 WCSS =  634173755.1569637\n",
      "iteration 102 WCSS =  634173755.1569637\n",
      "iteration 103 WCSS =  634173755.1569637\n",
      "iteration 104 WCSS =  634173755.1569637\n",
      "iteration 105 WCSS =  634173755.1569637\n",
      "iteration 106 WCSS =  634173755.1569637\n",
      "iteration 107 WCSS =  634173755.1569637\n",
      "iteration 108 WCSS =  634173755.1569637\n",
      "iteration 109 WCSS =  634173755.1569637\n",
      "iteration 110 WCSS =  634173755.1569637\n",
      "iteration 111 WCSS =  634173755.1569637\n",
      "iteration 112 WCSS =  634173755.1569637\n",
      "iteration 113 WCSS =  634173755.1569637\n",
      "iteration 114 WCSS =  634173755.1569637\n",
      "iteration 115 WCSS =  634173755.1569637\n",
      "iteration 116 WCSS =  634173755.1569637\n",
      "iteration 117 WCSS =  634173755.1569637\n",
      "iteration 118 WCSS =  634173755.1569637\n",
      "iteration 119 WCSS =  634173755.1569637\n",
      "iteration 120 WCSS =  634173755.1569637\n",
      "iteration 121 WCSS =  634173755.1569637\n",
      "iteration 122 WCSS =  634173755.1569637\n",
      "iteration 123 WCSS =  634173755.1569637\n",
      "iteration 124 WCSS =  634173755.1569637\n",
      "iteration 125 WCSS =  634173755.1569637\n",
      "iteration 126 WCSS =  634173755.1569637\n",
      "iteration 127 WCSS =  634173755.1569637\n",
      "iteration 128 WCSS =  634173755.1569637\n",
      "iteration 129 WCSS =  634173755.1569637\n",
      "iteration 130 WCSS =  634173755.1569637\n",
      "iteration 131 WCSS =  634173755.1569637\n",
      "iteration 132 WCSS =  634173755.1569637\n",
      "iteration 133 WCSS =  634173755.1569637\n",
      "iteration 134 WCSS =  634173755.1569637\n",
      "iteration 135 WCSS =  634173755.1569637\n",
      "iteration 136 WCSS =  634173755.1569637\n",
      "iteration 137 WCSS =  634173755.1569637\n",
      "iteration 138 WCSS =  634173755.1569637\n",
      "iteration 139 WCSS =  634173755.1569637\n",
      "iteration 140 WCSS =  634173755.1569637\n",
      "iteration 141 WCSS =  634173755.1569637\n",
      "iteration 142 WCSS =  634173755.1569637\n",
      "iteration 143 WCSS =  634173755.1569637\n",
      "iteration 144 WCSS =  634173755.1569637\n",
      "iteration 145 WCSS =  634173755.1569637\n",
      "iteration 146 WCSS =  634173755.1569637\n",
      "iteration 147 WCSS =  634173755.1569637\n",
      "iteration 148 WCSS =  634173755.1569637\n",
      "iteration 149 WCSS =  634173755.1569637\n",
      "iteration 150 WCSS =  634173755.1569637\n",
      "iteration 151 WCSS =  634173755.1569637\n",
      "iteration 152 WCSS =  634173755.1569637\n",
      "iteration 153 WCSS =  634173755.1569637\n",
      "iteration 154 WCSS =  634173755.1569637\n",
      "iteration 155 WCSS =  634173755.1569637\n",
      "iteration 156 WCSS =  634173755.1569637\n",
      "iteration 157 WCSS =  634173755.1569637\n",
      "iteration 158 WCSS =  634173755.1569637\n",
      "iteration 159 WCSS =  634173755.1569637\n",
      "iteration 160 WCSS =  634173755.1569637\n",
      "iteration 161 WCSS =  634173755.1569637\n",
      "iteration 162 WCSS =  634173755.1569637\n",
      "iteration 163 WCSS =  634173755.1569637\n",
      "iteration 164 WCSS =  634173755.1569637\n",
      "iteration 165 WCSS =  634173755.1569637\n",
      "iteration 166 WCSS =  634173755.1569637\n",
      "iteration 167 WCSS =  634173755.1569637\n",
      "iteration 168 WCSS =  634173755.1569637\n",
      "iteration 169 WCSS =  634173755.1569637\n",
      "iteration 170 WCSS =  634173755.1569637\n",
      "iteration 171 WCSS =  634173755.1569637\n",
      "iteration 172 WCSS =  634173755.1569637\n",
      "iteration 173 WCSS =  634173755.1569637\n",
      "iteration 174 WCSS =  634173755.1569637\n",
      "iteration 175 WCSS =  634173755.1569637\n",
      "iteration 176 WCSS =  634173755.1569637\n",
      "iteration 177 WCSS =  634173755.1569637\n",
      "iteration 178 WCSS =  634173755.1569637\n",
      "iteration 179 WCSS =  634173755.1569637\n",
      "iteration 180 WCSS =  634173755.1569637\n",
      "iteration 181 WCSS =  634173755.1569637\n",
      "iteration 182 WCSS =  634173755.1569637\n",
      "iteration 183 WCSS =  634173755.1569637\n",
      "iteration 184 WCSS =  634173755.1569637\n",
      "iteration 185 WCSS =  634173755.1569637\n",
      "iteration 186 WCSS =  634173755.1569637\n",
      "iteration 187 WCSS =  634173755.1569637\n",
      "iteration 188 WCSS =  634173755.1569637\n",
      "iteration 189 WCSS =  634173755.1569637\n",
      "iteration 190 WCSS =  634173755.1569637\n",
      "iteration 191 WCSS =  634173755.1569637\n",
      "iteration 192 WCSS =  634173755.1569637\n",
      "iteration 193 WCSS =  634173755.1569637\n",
      "iteration 194 WCSS =  634173755.1569637\n",
      "iteration 195 WCSS =  634173755.1569637\n",
      "iteration 196 WCSS =  634173755.1569637\n",
      "iteration 197 WCSS =  634173755.1569637\n",
      "iteration 198 WCSS =  634173755.1569637\n",
      "iteration 199 WCSS =  634173755.1569637\n",
      "iteration 200 WCSS =  634173755.1569637\n"
     ]
    }
   ],
   "source": [
    "labels = kmeans(img_reshaped, 3,max_steps=200)"
   ]
  },
  {
   "cell_type": "code",
   "execution_count": 25,
   "metadata": {
    "deletable": false,
    "editable": false,
    "nbgrader": {
     "grade": true,
     "grade_id": "labels",
     "locked": true,
     "points": "1",
     "solution": false
    }
   },
   "outputs": [
    {
     "name": "stdout",
     "output_type": "stream",
     "text": [
      "\n",
      "Passed!\n"
     ]
    }
   ],
   "source": [
    "# Test cell - 'labels'\n",
    "assert len(labels) == r_reshaped\n",
    "assert set(labels) == {0, 1, 2}\n",
    "print(\"\\nPassed!\")"
   ]
  },
  {
   "cell_type": "markdown",
   "metadata": {
    "deletable": false,
    "editable": false,
    "nbgrader": {
     "grade": false,
     "locked": true,
     "solution": false
    }
   },
   "source": [
    "**Exercise 9** (2 points). Write code to calculate the mean of each cluster and store it in a dictionary, named centers, as label:array(cluster_center). For 3 clusters, the dictionary should have three keys as the labels and their corresponding cluster centers as values, i.e. {0:array(center0), 1: array(center1), 2:array(center2)}."
   ]
  },
  {
   "cell_type": "code",
   "execution_count": 32,
   "metadata": {
    "nbgrader": {
     "grade": false,
     "locked": false,
     "solution": false
    }
   },
   "outputs": [
    {
     "data": {
      "text/plain": [
       "{0: array([38.7890798 , 45.35163548, 48.17869416]),\n",
       " 1: array([134.23584777, 125.34568766, 101.93988768]),\n",
       " 2: array([202.52108949, 198.84707504, 192.62337998])}"
      ]
     },
     "execution_count": 32,
     "metadata": {},
     "output_type": "execute_result"
    }
   ],
   "source": [
    "centers={}\n",
    "\n",
    "centers[0]=np.mean(img_reshaped[np.where(labels == 0)],axis=0)\n",
    "centers[1]=np.mean(img_reshaped[np.where(labels == 1)],axis=0)\n",
    "centers[2]=np.mean(img_reshaped[np.where(labels == 2)],axis=0)\n",
    "centers"
   ]
  },
  {
   "cell_type": "code",
   "execution_count": 33,
   "metadata": {
    "deletable": false,
    "editable": false,
    "nbgrader": {
     "grade": true,
     "grade_id": "cluster_means",
     "locked": true,
     "points": "2",
     "solution": false
    }
   },
   "outputs": [
    {
     "name": "stdout",
     "output_type": "stream",
     "text": [
      "Free points here! But you need to implement the above section correctly for you to see what we want you to see later.\n",
      "\n",
      "Passed!\n"
     ]
    }
   ],
   "source": [
    "print(\"Free points here! But you need to implement the above section correctly for you to see what we want you to see later.\")\n",
    "print(\"\\nPassed!\")"
   ]
  },
  {
   "cell_type": "markdown",
   "metadata": {
    "deletable": false,
    "editable": false,
    "nbgrader": {
     "grade": false,
     "locked": true,
     "solution": false
    }
   },
   "source": [
    "Below, we have written code to generate a matrix \"img_clustered\" of the same dimensions as img_reshaped, where each pixel is replaced by the cluster center to which it belongs."
   ]
  },
  {
   "cell_type": "code",
   "execution_count": 34,
   "metadata": {
    "deletable": false,
    "editable": false,
    "nbgrader": {
     "grade": false,
     "locked": true,
     "solution": false
    }
   },
   "outputs": [],
   "source": [
    "img_clustered = np.array([centers[i] for i in labels])"
   ]
  },
  {
   "cell_type": "markdown",
   "metadata": {
    "deletable": false,
    "editable": false,
    "nbgrader": {
     "grade": false,
     "locked": true,
     "solution": false
    }
   },
   "source": [
    "Let us display the clustered image and see how kmeans works on the image."
   ]
  },
  {
   "cell_type": "code",
   "execution_count": 35,
   "metadata": {
    "deletable": false,
    "editable": false,
    "nbgrader": {
     "grade": false,
     "locked": true,
     "solution": false
    }
   },
   "outputs": [
    {
     "data": {
      "image/png": "[encoded data removed]",
      "text/plain": [
       "<Figure size 432x288 with 1 Axes>"
      ]
     },
     "metadata": {},
     "output_type": "display_data"
    }
   ],
   "source": [
    "r, c, l = img_arr.shape\n",
    "img_disp = np.reshape(img_clustered, (r, c, l), order=\"C\")\n",
    "display_image(img_disp)"
   ]
  },
  {
   "cell_type": "markdown",
   "metadata": {
    "deletable": false,
    "editable": false,
    "nbgrader": {
     "grade": false,
     "locked": true,
     "solution": false
    }
   },
   "source": [
    "You can visually inspect the original image and the clustered image to get a sense of what kmeans is doing here. You can also try to vary the number of clusters to see how the output image changes"
   ]
  },
  {
   "cell_type": "markdown",
   "metadata": {},
   "source": [
    "## Built-in $k$-means\n",
    "\n",
    "The preceding exercises walked you through how to implement $k$-means, but as you might have imagined, there are existing implementations as well! The following shows you how to use Scipy's implementation, which should yield similar results. If you are asked to use $k$-means in a future lab (or exam!), you can use this one."
   ]
  },
  {
   "cell_type": "code",
   "execution_count": 36,
   "metadata": {
    "collapsed": true
   },
   "outputs": [],
   "source": [
    "from scipy.cluster import vq"
   ]
  },
  {
   "cell_type": "code",
   "execution_count": 37,
   "metadata": {},
   "outputs": [
    {
     "name": "stdout",
     "output_type": "stream",
     "text": [
      "Centers:\n",
      " [[ 0.67195215  0.47701096]\n",
      " [-0.37338733 -1.16113997]]\n",
      "\n",
      "Compare with your method:\n",
      " {0: array([38.7890798 , 45.35163548, 48.17869416]), 1: array([134.23584777, 125.34568766, 101.93988768]), 2: array([202.52108949, 198.84707504, 192.62337998])} \n",
      "\n",
      "Distortion (WCSS): 0.7505215169129357\n",
      "330 matches out of 375 possible (~ 88.0%)\n"
     ]
    },
    {
     "data": {
      "image/png": "[encoded data removed]",
      "text/plain": [
       "<Figure size 435x360 with 1 Axes>"
      ]
     },
     "metadata": {},
     "output_type": "display_data"
    }
   ],
   "source": [
    "# `distortion` below is the similar to WCSS.\n",
    "# It is called distortion in the Scipy documentation\n",
    "# since clustering can be used in compression.\n",
    "k = 2\n",
    "centers_vq, distortion_vq = vq.kmeans(points, k)\n",
    "\n",
    "# vq return the clustering (assignment of group for each point)\n",
    "# based on the centers obtained by the kmeans function.\n",
    "# _ here means ignore the second return value\n",
    "clustering_vq, _ = vq.vq(points, centers_vq)\n",
    "\n",
    "print(\"Centers:\\n\", centers_vq)\n",
    "print(\"\\nCompare with your method:\\n\", centers, \"\\n\")\n",
    "print(\"Distortion (WCSS):\", distortion_vq)\n",
    "\n",
    "df['clustering_vq'] = clustering_vq\n",
    "make_scatter_plot(df, hue='clustering_vq', centers=centers_vq)\n",
    "\n",
    "n_matches_vq = count_matches(df['label'], df['clustering_vq'])\n",
    "print(n_matches_vq,\n",
    "      \"matches out of\",\n",
    "      len(df), \"possible\",\n",
    "      \"(~ {:.1f}%)\".format(100.0 * n_matches_vq / len(df)))"
   ]
  },
  {
   "cell_type": "markdown",
   "metadata": {
    "deletable": false,
    "editable": false,
    "nbgrader": {
     "grade": false,
     "grade_id": "cell-4efa7d51cbbe88ec",
     "locked": true,
     "schema_version": 1,
     "solution": false
    }
   },
   "source": [
    "**Fin!** That marks the end of this notebook. Don't forget to submit it!"
   ]
  }
 ],
 "metadata": {
  "anaconda-cloud": [],
  "celltoolbar": "Create Assignment",
  "kernelspec": {
   "display_name": "Python 3 [3.6]",
   "language": "python",
   "name": "python3"
  },
  "language_info": {
   "codemirror_mode": {
    "name": "ipython",
    "version": 3
   },
   "file_extension": ".py",
   "mimetype": "text/x-python",
   "name": "python",
   "nbconvert_exporter": "python",
   "pygments_lexer": "ipython3",
   "version": "3.6.4"
  }
 },
 "nbformat": 4,
 "nbformat_minor": 1
}
