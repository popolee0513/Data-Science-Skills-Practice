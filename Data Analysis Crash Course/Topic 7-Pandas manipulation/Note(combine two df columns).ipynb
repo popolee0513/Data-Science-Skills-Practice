{
 "cells": [
  {
   "cell_type": "code",
   "execution_count": 1,
   "metadata": {},
   "outputs": [],
   "source": [
    "def unite(df, cols, new_var):\n",
    "    df[new_var]=df[cols].apply(lambda x: '/'.join(x.map(str)), axis=1)\n",
    "    df.drop(cols,axis=1,inplace=True)\n",
    "    return df\n",
    "#two columns join together"
   ]
  },
  {
   "cell_type": "code",
   "execution_count": null,
   "metadata": {},
   "outputs": [],
   "source": []
  }
 ],
 "metadata": {
  "kernelspec": {
   "display_name": "Python 3",
   "language": "python",
   "name": "python3"
  },
  "language_info": {
   "codemirror_mode": {
    "name": "ipython",
    "version": 3
   },
   "file_extension": ".py",
   "mimetype": "text/x-python",
   "name": "python",
   "nbconvert_exporter": "python",
   "pygments_lexer": "ipython3",
   "version": "3.6.5"
  }
 },
 "nbformat": 4,
 "nbformat_minor": 2
}
