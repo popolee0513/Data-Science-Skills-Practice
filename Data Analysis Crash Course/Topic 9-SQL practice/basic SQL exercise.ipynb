{
 "cells": [
  {
   "cell_type": "markdown",
   "metadata": {
    "deletable": false,
    "editable": false,
    "nbgrader": {
     "grade": false,
     "grade_id": "cell-2d7bc35c8a49ea43",
     "locked": true,
     "schema_version": 1,
     "solution": false
    }
   },
   "source": [
    "# Lesson 0: SQLite\n",
    "\n",
    "The de facto language for managing relational databases is the Structured Query Language, or SQL (\"sequel\").\n",
    "\n",
    "Many commerical and open-source relational data management systems (RDBMS) support SQL. The one we will consider in this class is the simplest, called [sqlite3](https://www.sqlite.org/). It stores the database in a simple file and can be run in a \"standalone\" mode from the command-line. However, we will, naturally, [invoke it from Python](https://docs.python.org/3/library/sqlite3.html). But all of the basic techniques apply to any commercial SQL backend.\n",
    "\n",
    "With a little luck, you _might_ by the end of this class understand this [xkcd comic on SQL injection attacks](http://xkcd.com/327).\n",
    "\n",
    "> **Important note.** Due to a limitation in Vocareum's software stack, this notebook is set to use the Python 3.5 kernel (rather than a more up-to-date 3.6 or 3.7 kernel). If you are developing on your local machine and are using a different version of Python, you may need to adapt your solution before submitting to the autograder."
   ]
  },
  {
   "cell_type": "code",
   "execution_count": 1,
   "metadata": {
    "deletable": false,
    "editable": false,
    "nbgrader": {
     "grade": false,
     "locked": true,
     "solution": false
    }
   },
   "outputs": [
    {
     "name": "stdout",
     "output_type": "stream",
     "text": [
      "=== Python version info ===\n",
      "3.5.2 (default, Nov 12 2018, 13:43:14) \n",
      "[GCC 5.4.0 20160609]\n"
     ]
    }
   ],
   "source": [
    "import sys\n",
    "print(\"=== Python version info ===\\n{}\".format(sys.version))"
   ]
  },
  {
   "cell_type": "markdown",
   "metadata": {
    "deletable": false,
    "editable": false,
    "nbgrader": {
     "checksum": "631d516583b07e1831b9aa0d773bf48e",
     "grade": false,
     "grade_id": "name_gpa",
     "locked": true,
     "schema_version": 1,
     "solution": false
    }
   },
   "source": [
    "## Getting started\n",
    "\n",
    "In Python, you _connect_ to an `sqlite3` database by creating a _connection object_."
   ]
  },
  {
   "cell_type": "markdown",
   "metadata": {
    "deletable": false,
    "editable": false,
    "nbgrader": {
     "grade": false,
     "locked": true,
     "solution": false
    }
   },
   "source": [
    "**Exercise 0** (ungraded). Run this code cell to get started."
   ]
  },
  {
   "cell_type": "code",
   "execution_count": 2,
   "metadata": {
    "collapsed": true,
    "deletable": false,
    "editable": false,
    "nbgrader": {
     "checksum": "b11295002cc2b9549d6a2b01721b6701",
     "grade": true,
     "grade_id": "who__test",
     "locked": true,
     "points": 1,
     "schema_version": 1,
     "solution": false
    },
    "nbpresent": {
     "id": "60ff4b48-4f6f-4052-bbb9-8f7d7459f5f9"
    }
   },
   "outputs": [],
   "source": [
    "import sqlite3 as db\n",
    "\n",
    "# Connect to a database (or create one if it doesn't exist)\n",
    "conn = db.connect('example.db')"
   ]
  },
  {
   "cell_type": "markdown",
   "metadata": {
    "deletable": false,
    "editable": false,
    "nbgrader": {
     "grade": false,
     "locked": true,
     "solution": false
    },
    "nbpresent": {
     "id": "bca69dbc-e662-4485-ace9-5bc32f914fac"
    }
   },
   "source": [
    "The `sqlite` engine maintains a database as a file; in this example, the name of that file is `example.db`.\n",
    "\n",
    "> **Important usage note!** If the named file does **not** yet exist, this code creates it. However, if the database has been created before, this same code will open it. This fact can be important when you are debugging. For example, if your code depends on the database not existing initially, then you may need to remove the file first. You're likely to encounter this situation in this notebook."
   ]
  },
  {
   "cell_type": "markdown",
   "metadata": {
    "deletable": false,
    "editable": false,
    "nbgrader": {
     "grade": false,
     "locked": true,
     "solution": false
    },
    "nbpresent": {
     "id": "7706d36d-b4af-4f8e-b419-20cfce1b7ba3"
    }
   },
   "source": [
    "You issue commands to the database through an object called a _cursor_."
   ]
  },
  {
   "cell_type": "code",
   "execution_count": 3,
   "metadata": {
    "nbpresent": {
     "id": "f798db7f-53dd-43ca-b03e-e12be2ad7231"
    }
   },
   "outputs": [],
   "source": [
    "# Create a 'cursor' for executing commands\n",
    "c = conn.cursor()"
   ]
  },
  {
   "cell_type": "markdown",
   "metadata": {
    "deletable": false,
    "editable": false,
    "nbgrader": {
     "grade": false,
     "locked": true,
     "solution": false
    },
    "nbpresent": {
     "id": "f7caca1e-bb84-434d-a422-840ac1c6b7b7"
    }
   },
   "source": [
    "A cursor tracks the current state of the database, and you will mostly be using the cursor to issue commands that modify or query the database."
   ]
  },
  {
   "cell_type": "markdown",
   "metadata": {
    "deletable": false,
    "editable": false,
    "nbgrader": {
     "grade": false,
     "locked": true,
     "solution": false
    },
    "nbpresent": {
     "id": "ad7d1ae0-681e-4a83-b3ef-6b416cf48f31"
    }
   },
   "source": [
    "## Tables and Basic Queries\n",
    "\n",
    "The central object of a relational database is a _table_. It's identical to what you called a \"tibble\" in the tidy data lab: observations as rows, variables as columns. In the relational database world, we sometimes refer to rows as _items_ or _records_ and columns as _attributes_. We'll use all of these terms interchangeably in this course."
   ]
  },
  {
   "cell_type": "markdown",
   "metadata": {
    "deletable": false,
    "editable": false,
    "nbgrader": {
     "grade": false,
     "locked": true,
     "solution": false
    }
   },
   "source": [
    "Let's look at a concrete example. Suppose we wish to maintain a database of Georgia Tech students, whose attributes are their names and Georgia Tech-issued ID numbers. You might start by creating a table named `Students` to hold this data. You can create the table using the command, [`CREATE TABLE`](https://www.sqlite.org/lang_createtable.html).\n",
    "\n",
    "> Note: If you try to create a table that already exists, it will **fail**. If you are trying to carry out these exercises from scratch, you may need to remove any existing `example.db` file or destroy any existing table; you can do the latter with the SQL command, `DROP TABLE IF EXISTS Students`."
   ]
  },
  {
   "cell_type": "code",
   "execution_count": 4,
   "metadata": {
    "nbpresent": {
     "id": "ad171c63-8b27-4921-9d6c-ebb09921fca4"
    }
   },
   "outputs": [
    {
     "data": {
      "text/plain": [
       "<sqlite3.Cursor at 0x7f77f01f5110>"
      ]
     },
     "execution_count": 4,
     "metadata": {},
     "output_type": "execute_result"
    }
   ],
   "source": [
    "# If this is not the first time you run this cell, \n",
    "# you need to delete the existed \"Students\" table first\n",
    "c.execute(\"DROP TABLE IF EXISTS Students\")\n",
    "\n",
    "# create a table named \"Students\" with 2 columns: \"gtid\" and \"name\".\n",
    "# the type for column \"gtid\" is integer and for \"name\" is text. \n",
    "c.execute(\"CREATE TABLE Students (gtid INTEGER, name TEXT)\")"
   ]
  },
  {
   "cell_type": "markdown",
   "metadata": {
    "deletable": false,
    "editable": false,
    "nbgrader": {
     "grade": false,
     "locked": true,
     "solution": false
    },
    "nbpresent": {
     "id": "bd814451-e891-48e7-8bd2-c90105cae261"
    }
   },
   "source": [
    "To populate the table with items, you can use the command, [`INSERT INTO`](https://www.sqlite.org/lang_insert.html)."
   ]
  },
  {
   "cell_type": "code",
   "execution_count": 5,
   "metadata": {
    "nbpresent": {
     "id": "2cc9a1f8-f514-4dd8-9d43-0663b4a4c70d"
    }
   },
   "outputs": [
    {
     "data": {
      "text/plain": [
       "<sqlite3.Cursor at 0x7f77f01f5110>"
      ]
     },
     "execution_count": 5,
     "metadata": {},
     "output_type": "execute_result"
    }
   ],
   "source": [
    "c.execute(\"INSERT INTO Students VALUES (123, 'Vuduc')\")\n",
    "c.execute(\"INSERT INTO Students VALUES (456, 'Chau')\")\n",
    "c.execute(\"INSERT INTO Students VALUES (381, 'Bader')\")\n",
    "c.execute(\"INSERT INTO Students VALUES (991, 'Sokol')\")"
   ]
  },
  {
   "cell_type": "markdown",
   "metadata": {
    "deletable": false,
    "editable": false,
    "nbgrader": {
     "grade": false,
     "locked": true,
     "solution": false
    }
   },
   "source": [
    "**Commitment issues.** The commands above modify the database. However, these are temporary modifications and aren't actually saved to the databases until you say so. (_Aside:_ Why would you want such behavior?) The way to do that is to issue a _commit_ operation from the _connection_ object.\n",
    "\n",
    "> There are some subtleties related to when you actually need to commit, since the SQLite database engine does commit at certain points as discussed [here](https://stackoverflow.com/questions/13642956/commit-behavior-and-atomicity-in-python-sqlite3-module). However, it's probably simpler if you remember to encode commits when you intend for them to take effect."
   ]
  },
  {
   "cell_type": "code",
   "execution_count": 6,
   "metadata": {
    "collapsed": true,
    "nbgrader": {
     "grade": false,
     "grade_id": "cell-de29bd964e0fed8a",
     "locked": false,
     "schema_version": 1,
     "solution": false
    }
   },
   "outputs": [],
   "source": [
    "conn.commit()"
   ]
  },
  {
   "cell_type": "markdown",
   "metadata": {
    "deletable": false,
    "editable": false,
    "nbgrader": {
     "grade": false,
     "locked": true,
     "solution": false
    },
    "nbpresent": {
     "id": "0580d369-3b2a-4011-8f93-53681beda02a"
    }
   },
   "source": [
    "Another common operation is to perform a bunch of insertions into a table from a list of tuples. In this case, you can use `executemany()`."
   ]
  },
  {
   "cell_type": "code",
   "execution_count": 7,
   "metadata": {
    "collapsed": true,
    "nbpresent": {
     "id": "425a8dc2-8e05-4370-9244-eb9e134bc16e"
    }
   },
   "outputs": [],
   "source": [
    "# An important (and secure!) idiom\n",
    "more_students = [(723, 'Rozga'),\n",
    "                 (882, 'Zha'),\n",
    "                 (401, 'Park'),\n",
    "                 (377, 'Vetter'),\n",
    "                 (904, 'Brown')]\n",
    "\n",
    "# '?' question marks are placeholders for the two columns in Students table\n",
    "c.executemany('INSERT INTO Students VALUES (?, ?)', more_students)\n",
    "conn.commit()"
   ]
  },
  {
   "cell_type": "markdown",
   "metadata": {
    "deletable": false,
    "editable": false,
    "nbgrader": {
     "grade": false,
     "locked": true,
     "solution": false
    },
    "nbpresent": {
     "id": "13374b53-847e-4db5-ab8d-0deca7250bbd"
    }
   },
   "source": [
    "Given a table, the most common operation is a _query_, which asks for some subset or transformation of the data. The simplest kind of query is called a [`SELECT`](https://www.sqlite.org/lang_select.html).\n",
    "\n",
    "The following example selects all rows (items) from the `Students` table."
   ]
  },
  {
   "cell_type": "code",
   "execution_count": 8,
   "metadata": {
    "nbpresent": {
     "id": "e0b70aa2-b610-44a0-bea3-f72ebcffd5bd"
    }
   },
   "outputs": [
    {
     "name": "stdout",
     "output_type": "stream",
     "text": [
      "Your results: 9 \n",
      "The entries of Students:\n",
      " [(123, 'Vuduc'), (456, 'Chau'), (381, 'Bader'), (991, 'Sokol'), (723, 'Rozga'), (882, 'Zha'), (401, 'Park'), (377, 'Vetter'), (904, 'Brown')]\n"
     ]
    }
   ],
   "source": [
    "c.execute(\"SELECT * FROM Students\")\n",
    "results = c.fetchall()\n",
    "print(\"Your results:\", len(results), \"\\nThe entries of Students:\\n\", results)"
   ]
  },
  {
   "cell_type": "markdown",
   "metadata": {
    "deletable": false,
    "editable": false,
    "nbgrader": {
     "grade": false,
     "grade_id": "cell-457e323adba0c030",
     "locked": true,
     "schema_version": 1,
     "solution": false
    },
    "nbpresent": {
     "id": "5be67adf-58b9-48b8-a447-6d435a60b32a"
    }
   },
   "source": [
    "**Exercise 1** (2 points). Suppose we wish to maintain a second table, called `Takes`, which records classes that students have taken and the grades they earn.\n",
    "\n",
    "In particular, each row of `Takes` stores a student by his/her GT ID, the course he/she took, and the grade he/she earned in terms of GPA (i.e. 4.0, 3.0, etc). More formally, suppose this table is defined as follows:"
   ]
  },
  {
   "cell_type": "code",
   "execution_count": 9,
   "metadata": {
    "nbgrader": {
     "grade": false,
     "grade_id": "cell-0f6a7ffdcf640bb5",
     "locked": false,
     "schema_version": 1,
     "solution": false
    },
    "nbpresent": {
     "id": "ead189ed-6c04-4e3a-a285-903d08eb20b4"
    }
   },
   "outputs": [
    {
     "data": {
      "text/plain": [
       "<sqlite3.Cursor at 0x7f77f01f5110>"
      ]
     },
     "execution_count": 9,
     "metadata": {},
     "output_type": "execute_result"
    }
   ],
   "source": [
    "# Run this cell\n",
    "c.execute('DROP TABLE IF EXISTS Takes')\n",
    "c.execute('CREATE TABLE Takes (gtid INTEGER, course TEXT, grade REAL)')"
   ]
  },
  {
   "cell_type": "markdown",
   "metadata": {
    "deletable": false,
    "editable": false,
    "nbgrader": {
     "grade": false,
     "grade_id": "cell-a238171e2e6ed8f3",
     "locked": true,
     "schema_version": 1,
     "solution": false
    },
    "nbpresent": {
     "id": "5bf1708e-da01-422e-a002-114ba03032be"
    }
   },
   "source": [
    "Write a command to insert the following records into the `Takes` table.\n",
    "\n",
    "* Vuduc: CSE 6040 - A (4.0), ISYE 6644 - B (3.0), MGMT 8803 - D (1.0)\n",
    "* Sokol: CSE 6040 - A (4.0), ISYE 6740 - A (4.0)\n",
    "* Chau: CSE 6040 - A (4.0), ISYE 6740 - C (2.0), MGMT 8803 - B (3.0)\n",
    "\n",
    "(Note: See `students` table above to get the GT IDs for Vuduc, Sokol, and Chau. You don't have to write any code to retrieve their GT IDs. You can just type them in manually. However, it would be a good and extra practice for you if you can use some sql commands to retrieve their IDs.) "
   ]
  },
  {
   "cell_type": "code",
   "execution_count": 10,
   "metadata": {
    "deletable": false,
    "nbgrader": {
     "checksum": "ef802a157691401d9221693b8cf3bf3c",
     "grade": false,
     "grade_id": "insert_many",
     "locked": false,
     "schema_version": 1,
     "solution": true
    },
    "nbpresent": {
     "id": "fbe2ca1e-a5dd-4633-bd6a-3f8ea5d446f3"
    }
   },
   "outputs": [
    {
     "name": "stdout",
     "output_type": "stream",
     "text": [
      "Your results: 8 \n",
      "The entries of Takes: [(123, 'CSE 6040', 4.0), (123, 'ISYE 6644', 3.0), (123, 'MGMT 8803', 1.0), (991, 'CSE 6040', 4.0), (991, 'ISYE 6740', 4.0), (456, 'CSE 6040', 4.0), (456, 'ISYE 6740', 2.0), (456, 'MGMT 8803', 3.0)]\n"
     ]
    }
   ],
   "source": [
    "grades = [(123,\"CSE 6040\",4.0),(123,\"ISYE 6644\",3.0),(123,\"MGMT 8803\",1.0),\n",
    "          (991,\"CSE 6040\",4.0),(991,\"ISYE 6740\",4.0),\n",
    "          (456,\"CSE 6040\",4.0),(456,\"ISYE 6740\",2.0),(456,\"MGMT 8803\",3.0)]\n",
    "\n",
    "\n",
    "# '?' question marks are placeholders for the two columns in Students table\n",
    "c.executemany('INSERT INTO Takes VALUES (?, ?,?)', grades)\n",
    "# Displays the results of your code\n",
    "c.execute('SELECT * FROM Takes')\n",
    "results = c.fetchall()\n",
    "print(\"Your results:\", len(results), \"\\nThe entries of Takes:\", results)\n",
    "conn.commit()"
   ]
  },
  {
   "cell_type": "code",
   "execution_count": 11,
   "metadata": {
    "deletable": false,
    "editable": false,
    "nbgrader": {
     "checksum": "3474ee2d282adaeeb16a4399f7e0a191",
     "grade": true,
     "grade_id": "insert_many__test",
     "locked": true,
     "points": 2,
     "schema_version": 1,
     "solution": false
    },
    "nbpresent": {
     "id": "a6361dd2-a7f3-4bb1-b4a1-ce9d9ed34c7f"
    }
   },
   "outputs": [
    {
     "name": "stdout",
     "output_type": "stream",
     "text": [
      "\n",
      "(Passed.)\n"
     ]
    }
   ],
   "source": [
    "# Test cell: `insert_many__test`\n",
    "\n",
    "# Close the database and reopen it\n",
    "conn.close()\n",
    "conn = db.connect('example.db')\n",
    "c = conn.cursor()\n",
    "c.execute('SELECT * FROM Takes')\n",
    "results = c.fetchall()\n",
    "\n",
    "if len(results) == 0:\n",
    "    print(\"*** No matching records. Did you remember to commit the results? ***\")\n",
    "assert len(results) == 8, \"The `Takes` table has {} when it should have {}.\".format(len(results), 8)\n",
    "\n",
    "assert (123, 'CSE 6040', 4.0) in results\n",
    "assert (123, 'ISYE 6644', 3.0) in results\n",
    "assert (123, 'MGMT 8803', 1.0) in results\n",
    "assert (991, 'CSE 6040', 4.0) in results\n",
    "assert (991, 'ISYE 6740', 4.0) in results\n",
    "assert (456, 'CSE 6040', 4.0) in results\n",
    "assert (456, 'ISYE 6740', 2.0) in results\n",
    "assert (456, 'MGMT 8803', 3.0) in results\n",
    "\n",
    "print(\"\\n(Passed.)\")"
   ]
  },
  {
   "cell_type": "markdown",
   "metadata": {
    "deletable": false,
    "editable": false,
    "nbgrader": {
     "grade": false,
     "locked": true,
     "solution": false
    },
    "nbpresent": {
     "id": "ffeff9c0-6b08-4771-b885-b57cb3ff5ca5"
    }
   },
   "source": [
    "# Lesson 1: Join queries\n",
    "\n",
    "The main type of query that combines information from multiple tables is the _join query_. Recall from our discussion of tibbles these four types:\n",
    "\n",
    "- `INNER JOIN(A, B)`: Keep rows of `A` and `B` only where `A` and `B` match\n",
    "- `OUTER JOIN(A, B)`: Keep all rows of `A` and `B`, but merge matching rows and fill in missing values with some default (`NaN` in Pandas, `NULL` in SQL)\n",
    "- `LEFT JOIN(A, B)`: Keep all rows of `A` but only merge matches from `B`.\n",
    "- `RIGHT JOIN(A, B)`: Keep all rows of `B` but only merge matches from `A`.\n",
    "\n",
    "If you are a visual person, see [this page](https://www.codeproject.com/Articles/33052/Visual-Representation-of-SQL-Joins) for illustrations of the different join types.\n",
    "\n",
    "In SQL, you can use the `WHERE` clause of a `SELECT` statement to specify how to match rows from the tables being joined. For example, recall that the `Takes` table stores classes taken by each student. However, these classes are recorded by a student's GT ID. Suppose we want a report where we want each student's name rather than his/her ID. We can get the matching name from the `Students` table. Here is a query to accomplish this matching:"
   ]
  },
  {
   "cell_type": "code",
   "execution_count": 12,
   "metadata": {
    "nbpresent": {
     "id": "0061492b-418b-42f2-a4eb-f6a1ad798350"
    }
   },
   "outputs": [
    {
     "name": "stdout",
     "output_type": "stream",
     "text": [
      "('Vuduc', 'CSE 6040', 4.0)\n",
      "('Vuduc', 'ISYE 6644', 3.0)\n",
      "('Vuduc', 'MGMT 8803', 1.0)\n",
      "('Chau', 'CSE 6040', 4.0)\n",
      "('Chau', 'ISYE 6740', 2.0)\n",
      "('Chau', 'MGMT 8803', 3.0)\n",
      "('Sokol', 'CSE 6040', 4.0)\n",
      "('Sokol', 'ISYE 6740', 4.0)\n"
     ]
    }
   ],
   "source": [
    "# See all (name, course, grade) tuples\n",
    "query = '''\n",
    "        SELECT Students.name, Takes.course, Takes.grade\n",
    "        FROM Students, Takes\n",
    "        WHERE Students.gtid = Takes.gtid\n",
    "'''\n",
    "\n",
    "for match in c.execute(query): # Note this alternative idiom for iterating over query results\n",
    "    print(match)"
   ]
  },
  {
   "cell_type": "markdown",
   "metadata": {
    "deletable": false,
    "editable": false,
    "nbgrader": {
     "grade": false,
     "locked": true,
     "solution": false
    },
    "nbpresent": {
     "id": "c229a881-8cf8-44ee-ba29-63386a9ad337"
    }
   },
   "source": [
    "**Exercise 2** (2 points). Define a query to select only the names and grades of students _who took CSE 6040_. The code below will execute your query and store the results in a list `results1` of tuples, where each tuple is a `(name, grade)` pair; thus, you should structure your query to match this format."
   ]
  },
  {
   "cell_type": "code",
   "execution_count": 13,
   "metadata": {
    "deletable": false,
    "nbgrader": {
     "checksum": "0dfcf9af496ec5c807a97a27069c240a",
     "grade": false,
     "grade_id": "join1",
     "locked": false,
     "schema_version": 1,
     "solution": true
    },
    "nbpresent": {
     "id": "0a053476-f540-480a-b3cc-28d23e2d6511"
    }
   },
   "outputs": [
    {
     "data": {
      "text/plain": [
       "[('Vuduc', 4.0), ('Sokol', 4.0), ('Chau', 4.0)]"
      ]
     },
     "execution_count": 13,
     "metadata": {},
     "output_type": "execute_result"
    }
   ],
   "source": [
    "# Define `query` with your query:\n",
    "query = '''\n",
    "        SELECT Students.name, Takes.grade\n",
    "        FROM Students, Takes\n",
    "        WHERE Students.gtid = Takes.gtid\n",
    "        AND Takes.course=\"CSE 6040\"\n",
    "'''\n",
    "\n",
    "c.execute(query)\n",
    "results1 = c.fetchall()\n",
    "results1"
   ]
  },
  {
   "cell_type": "code",
   "execution_count": 14,
   "metadata": {
    "deletable": false,
    "editable": false,
    "nbgrader": {
     "checksum": "6adb27164d87eda12aec79e0b8d8ecec",
     "grade": true,
     "grade_id": "join1__test",
     "locked": true,
     "points": 2,
     "schema_version": 1,
     "solution": false
    },
    "nbpresent": {
     "id": "e1fe9c03-2112-4b49-8112-e12bb7bb10df"
    }
   },
   "outputs": [
    {
     "name": "stdout",
     "output_type": "stream",
     "text": [
      "Your results: [('Vuduc', 4.0), ('Sokol', 4.0), ('Chau', 4.0)]\n",
      "\n",
      "(Passed.)\n"
     ]
    }
   ],
   "source": [
    "# Test cell: `join1__test`\n",
    "\n",
    "print (\"Your results:\", results1)\n",
    "\n",
    "assert type(results1) is list\n",
    "assert len(results1) == 3, \"Your query produced {} results instead of {}.\".format(len(results1), 3)\n",
    "\n",
    "assert set(results1) == {('Vuduc', 4.0), ('Sokol', 4.0), ('Chau', 4.0)}\n",
    "\n",
    "print(\"\\n(Passed.)\")"
   ]
  },
  {
   "cell_type": "markdown",
   "metadata": {
    "deletable": false,
    "editable": false,
    "nbgrader": {
     "grade": false,
     "locked": true,
     "solution": false
    },
    "nbpresent": {
     "id": "0449ec70-9765-4cd3-bdeb-e79c1652f9fd"
    }
   },
   "source": [
    "For contrast, let's do a quick exercise that executes a [left join](http://www.sqlitetutorial.net/sqlite-left-join/).\n",
    "\n",
    "**Exercise 3** (2 points). Execute a `LEFT JOIN` that uses `Students` as the left table, `Takes` as the right table, and selects a student's name and course grade. Write your query as a string variable named `query`, which the subsequent code will execute."
   ]
  },
  {
   "cell_type": "code",
   "execution_count": 17,
   "metadata": {
    "nbgrader": {
     "grade": false,
     "grade_id": "cell-6eaa56837de291f4",
     "locked": false,
     "schema_version": 1,
     "solution": true
    },
    "nbpresent": {
     "id": "55b9eb3b-2bf7-47c6-9599-fd751c6f2266"
    }
   },
   "outputs": [
    {
     "name": "stdout",
     "output_type": "stream",
     "text": [
      "0 -> ('Vuduc', 1.0)\n",
      "1 -> ('Vuduc', 3.0)\n",
      "2 -> ('Vuduc', 4.0)\n",
      "3 -> ('Chau', 2.0)\n",
      "4 -> ('Chau', 3.0)\n",
      "5 -> ('Chau', 4.0)\n",
      "6 -> ('Bader', None)\n",
      "7 -> ('Sokol', 4.0)\n",
      "8 -> ('Sokol', 4.0)\n",
      "9 -> ('Rozga', None)\n",
      "10 -> ('Zha', None)\n",
      "11 -> ('Park', None)\n",
      "12 -> ('Vetter', None)\n",
      "13 -> ('Brown', None)\n"
     ]
    }
   ],
   "source": [
    "# Define `query` string here:\n",
    "\n",
    "query = '''\n",
    "        SELECT Students.name, Takes.grade\n",
    "        FROM Students\n",
    "        LEFT OUTER JOIN Takes on Students.gtid = Takes.gtid\n",
    "        \n",
    "'''\n",
    "\n",
    "\n",
    "# Executes your `query` string:\n",
    "c.execute(query)\n",
    "matches = c.fetchall()\n",
    "for i, match in enumerate(matches):\n",
    "    print(i, \"->\", match)"
   ]
  },
  {
   "cell_type": "code",
   "execution_count": 18,
   "metadata": {
    "deletable": false,
    "editable": false,
    "nbgrader": {
     "grade": true,
     "grade_id": "left_join_test",
     "locked": true,
     "points": 2,
     "schema_version": 1,
     "solution": false
    }
   },
   "outputs": [
    {
     "name": "stdout",
     "output_type": "stream",
     "text": [
      "\n",
      "(Passed!)\n"
     ]
    }
   ],
   "source": [
    "# Test cell: `left_join_test`\n",
    "\n",
    "assert set(matches) == {('Vuduc', 4.0), ('Chau', 2.0), ('Park', None), ('Vuduc', 1.0), ('Chau', 3.0), ('Zha', None), ('Brown', None), ('Vetter', None), ('Vuduc', 3.0), ('Bader', None), ('Rozga', None), ('Chau', 4.0), ('Sokol', 4.0)}\n",
    "print(\"\\n(Passed!)\")"
   ]
  },
  {
   "cell_type": "markdown",
   "metadata": {
    "deletable": false,
    "editable": false,
    "nbgrader": {
     "grade": false,
     "locked": true,
     "solution": false
    },
    "nbpresent": {
     "id": "42844d75-fe64-44e9-81fd-971d31426c8c"
    }
   },
   "source": [
    "## Aggregations\n",
    "\n",
    "Another common style of query is an [_aggregation_](https://www.sqlite.org/lang_aggfunc.html), which is a summary of information across multiple records, rather than the raw records themselves.\n",
    "\n",
    "For instance, suppose we want to compute the average GPA for each unique GT ID from the `Takes` table. Here is a query that does it using `AVG` aggregator:"
   ]
  },
  {
   "cell_type": "code",
   "execution_count": 19,
   "metadata": {
    "nbpresent": {
     "id": "2d78b9ac-8a7d-4a89-99ae-86038d3184f5"
    }
   },
   "outputs": [
    {
     "name": "stdout",
     "output_type": "stream",
     "text": [
      "(123, 2.6666666666666665)\n",
      "(456, 3.0)\n",
      "(991, 4.0)\n"
     ]
    }
   ],
   "source": [
    "query = '''\n",
    "        SELECT gtid, AVG(grade)\n",
    "        FROM Takes \n",
    "        GROUP BY gtid\n",
    "'''\n",
    "\n",
    "for match in c.execute(query):\n",
    "    print(match)"
   ]
  },
  {
   "cell_type": "markdown",
   "metadata": {
    "deletable": false,
    "editable": false,
    "nbgrader": {
     "grade": false,
     "locked": true,
     "solution": false
    },
    "nbpresent": {
     "id": "173eeb1b-177c-4121-aaf2-5349eb2ee43a"
    }
   },
   "source": [
    "Some other useful SQL aggregators include `MIN`, `MAX`, `SUM`, and `COUNT`."
   ]
  },
  {
   "cell_type": "markdown",
   "metadata": {
    "deletable": false,
    "editable": false,
    "nbgrader": {
     "grade": false,
     "locked": true,
     "solution": false
    },
    "nbpresent": {
     "id": "4e2c8ddf-fca1-4b7f-ab11-ce70adcd4ca6"
    }
   },
   "source": [
    "## Cleanup\n",
    "\n",
    "As one final bit of information, it's good practice to shutdown the cursor and connection, the same way you close files."
   ]
  },
  {
   "cell_type": "code",
   "execution_count": 20,
   "metadata": {
    "collapsed": true,
    "nbgrader": {
     "grade": false,
     "grade_id": "cell-61f9b7c91d99417d",
     "locked": false,
     "schema_version": 1,
     "solution": false
    },
    "nbpresent": {
     "id": "a36899b0-ee8d-46a7-9aba-4a978c6ddd85"
    }
   },
   "outputs": [],
   "source": [
    "c.close()\n",
    "conn.close()"
   ]
  },
  {
   "cell_type": "markdown",
   "metadata": {
    "deletable": false,
    "editable": false,
    "nbgrader": {
     "grade": false,
     "grade_id": "cell-f72ae23344171e43",
     "locked": true,
     "schema_version": 1,
     "solution": false
    }
   },
   "source": [
    "**What next?** It's now a good time to look at a different tutorial which reviews this material and introduces some additional topics: [A thorough guide to SQLite database operations in Python](http://sebastianraschka.com/Articles/2014_sqlite_in_python_tutorial.html)."
   ]
  }
 ],
 "metadata": {
  "anaconda-cloud": [],
  "celltoolbar": "Create Assignment",
  "kernelspec": {
   "display_name": "Python 3.5",
   "language": "python",
   "name": "python35"
  },
  "language_info": {
   "codemirror_mode": {
    "name": "ipython",
    "version": 3
   },
   "file_extension": ".py",
   "mimetype": "text/x-python",
   "name": "python",
   "nbconvert_exporter": "python",
   "pygments_lexer": "ipython3",
   "version": "3.5.2"
  },
  "nbpresent": {
   "slides": [],
   "themes": []
  }
 },
 "nbformat": 4,
 "nbformat_minor": 1
}
