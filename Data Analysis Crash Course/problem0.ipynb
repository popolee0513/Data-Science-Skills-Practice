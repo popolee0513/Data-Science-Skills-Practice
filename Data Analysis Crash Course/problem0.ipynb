{
 "cells": [
  {
   "cell_type": "markdown",
   "metadata": {
    "deletable": false,
    "editable": false,
    "nbgrader": {
     "grade": false,
     "grade_id": "cell-4a8382567a2a8374",
     "locked": true,
     "schema_version": 1,
     "solution": false
    }
   },
   "source": [
    "# Problem 0: Graph search\n",
    "\n",
    "This problem tests your familiarity with Pandas data frames. As such, you'll need this import:"
   ]
  },
  {
   "cell_type": "code",
   "execution_count": 1,
   "metadata": {
    "collapsed": true,
    "deletable": false,
    "editable": false,
    "nbgrader": {
     "grade": false,
     "grade_id": "cell-998c761bcfac08a5",
     "locked": true,
     "schema_version": 1,
     "solution": false
    }
   },
   "outputs": [],
   "source": [
    "import pandas as pd"
   ]
  },
  {
   "cell_type": "markdown",
   "metadata": {
    "deletable": false,
    "editable": false,
    "nbgrader": {
     "grade": false,
     "grade_id": "cell-7497c507b483bc55",
     "locked": true,
     "schema_version": 1,
     "solution": false
    }
   },
   "source": [
    "This problem has four exercises worth a total of ten (10) points."
   ]
  },
  {
   "cell_type": "markdown",
   "metadata": {
    "deletable": false,
    "editable": false,
    "nbgrader": {
     "grade": false,
     "grade_id": "cell-78b7084ae13ee70e",
     "locked": true,
     "schema_version": 1,
     "solution": false
    }
   },
   "source": [
    "## Dataset: (simplified) airport segments\n",
    "\n",
    "The dataset for this problem is a simplified version of the airport segments dataset from Notebook 11. Start by getting and inspecting the data, so you know what you will be working with."
   ]
  },
  {
   "cell_type": "code",
   "execution_count": 2,
   "metadata": {
    "deletable": false,
    "editable": false,
    "nbgrader": {
     "grade": false,
     "grade_id": "cell-74d33e470f1cb8d5",
     "locked": true,
     "schema_version": 1,
     "solution": false
    }
   },
   "outputs": [
    {
     "name": "stdout",
     "output_type": "stream",
     "text": [
      "'L_AIRPORT_ID.csv' is ready!\n",
      "'segments.csv' is ready!\n",
      "'two_away_solns.csv' is ready!\n",
      "\n",
      "(All data appears to be ready.)\n"
     ]
    }
   ],
   "source": [
    "from cse6040utils import on_vocareum, download_all\n",
    "\n",
    "datasets = {'L_AIRPORT_ID.csv': 'e9f250e3c93d625cce92d08648c4bbf0',\n",
    "            'segments.csv': 'b5e8ce736bc36a9dd89c3ae0f6eeb491',\n",
    "            'two_away_solns.csv': '7421b3eead7b5107c7fbd565228e50c7'}\n",
    "\n",
    "DATA_SUFFIX = \"us-flights/\"\n",
    "data_paths = download_all(datasets, local_suffix=DATA_SUFFIX, url_suffix=DATA_SUFFIX)\n",
    "\n",
    "print(\"\\n(All data appears to be ready.)\")"
   ]
  },
  {
   "cell_type": "markdown",
   "metadata": {
    "deletable": false,
    "editable": false,
    "nbgrader": {
     "grade": false,
     "grade_id": "cell-e23e5c6c8b0ff0c1",
     "locked": true,
     "schema_version": 1,
     "solution": false
    }
   },
   "source": [
    "The first bit of data you'll need is a list of airports, each of which has a code and a string description."
   ]
  },
  {
   "cell_type": "code",
   "execution_count": 3,
   "metadata": {
    "deletable": false,
    "editable": false,
    "nbgrader": {
     "grade": false,
     "grade_id": "cell-1c2eb9c5e024dae0",
     "locked": true,
     "schema_version": 1,
     "solution": false
    }
   },
   "outputs": [
    {
     "data": {
      "text/html": [
       "<div>\n",
       "<style scoped>\n",
       "    .dataframe tbody tr th:only-of-type {\n",
       "        vertical-align: middle;\n",
       "    }\n",
       "\n",
       "    .dataframe tbody tr th {\n",
       "        vertical-align: top;\n",
       "    }\n",
       "\n",
       "    .dataframe thead th {\n",
       "        text-align: right;\n",
       "    }\n",
       "</style>\n",
       "<table border=\"1\" class=\"dataframe\">\n",
       "  <thead>\n",
       "    <tr style=\"text-align: right;\">\n",
       "      <th></th>\n",
       "      <th>Code</th>\n",
       "      <th>Description</th>\n",
       "    </tr>\n",
       "  </thead>\n",
       "  <tbody>\n",
       "    <tr>\n",
       "      <th>0</th>\n",
       "      <td>10001</td>\n",
       "      <td>Afognak Lake, AK: Afognak Lake Airport</td>\n",
       "    </tr>\n",
       "    <tr>\n",
       "      <th>1</th>\n",
       "      <td>10003</td>\n",
       "      <td>Granite Mountain, AK: Bear Creek Mining Strip</td>\n",
       "    </tr>\n",
       "    <tr>\n",
       "      <th>2</th>\n",
       "      <td>10004</td>\n",
       "      <td>Lik, AK: Lik Mining Camp</td>\n",
       "    </tr>\n",
       "    <tr>\n",
       "      <th>3</th>\n",
       "      <td>10005</td>\n",
       "      <td>Little Squaw, AK: Little Squaw Airport</td>\n",
       "    </tr>\n",
       "    <tr>\n",
       "      <th>4</th>\n",
       "      <td>10006</td>\n",
       "      <td>Kizhuyak, AK: Kizhuyak Bay</td>\n",
       "    </tr>\n",
       "  </tbody>\n",
       "</table>\n",
       "</div>"
      ],
      "text/plain": [
       "    Code                                    Description\n",
       "0  10001         Afognak Lake, AK: Afognak Lake Airport\n",
       "1  10003  Granite Mountain, AK: Bear Creek Mining Strip\n",
       "2  10004                       Lik, AK: Lik Mining Camp\n",
       "3  10005         Little Squaw, AK: Little Squaw Airport\n",
       "4  10006                     Kizhuyak, AK: Kizhuyak Bay"
      ]
     },
     "execution_count": 3,
     "metadata": {},
     "output_type": "execute_result"
    }
   ],
   "source": [
    "airports = pd.read_csv(data_paths['L_AIRPORT_ID.csv'])\n",
    "airports.head()"
   ]
  },
  {
   "cell_type": "markdown",
   "metadata": {
    "deletable": false,
    "editable": false,
    "nbgrader": {
     "grade": false,
     "grade_id": "cell-c88c106f7cb5566b",
     "locked": true,
     "schema_version": 1,
     "solution": false
    }
   },
   "source": [
    "The other bit of data you'll need is a list of available direct connections."
   ]
  },
  {
   "cell_type": "code",
   "execution_count": 4,
   "metadata": {
    "deletable": false,
    "editable": false,
    "nbgrader": {
     "grade": false,
     "grade_id": "cell-db4306b748e862f1",
     "locked": true,
     "schema_version": 1,
     "solution": false
    }
   },
   "outputs": [
    {
     "name": "stdout",
     "output_type": "stream",
     "text": [
      "There are 4191 direct flight segments.\n"
     ]
    },
    {
     "data": {
      "text/html": [
       "<div>\n",
       "<style scoped>\n",
       "    .dataframe tbody tr th:only-of-type {\n",
       "        vertical-align: middle;\n",
       "    }\n",
       "\n",
       "    .dataframe tbody tr th {\n",
       "        vertical-align: top;\n",
       "    }\n",
       "\n",
       "    .dataframe thead th {\n",
       "        text-align: right;\n",
       "    }\n",
       "</style>\n",
       "<table border=\"1\" class=\"dataframe\">\n",
       "  <thead>\n",
       "    <tr style=\"text-align: right;\">\n",
       "      <th></th>\n",
       "      <th>ORIGIN_AIRPORT_ID</th>\n",
       "      <th>DEST_AIRPORT_ID</th>\n",
       "    </tr>\n",
       "  </thead>\n",
       "  <tbody>\n",
       "    <tr>\n",
       "      <th>0</th>\n",
       "      <td>10135</td>\n",
       "      <td>10397</td>\n",
       "    </tr>\n",
       "    <tr>\n",
       "      <th>1</th>\n",
       "      <td>10135</td>\n",
       "      <td>11433</td>\n",
       "    </tr>\n",
       "    <tr>\n",
       "      <th>2</th>\n",
       "      <td>10135</td>\n",
       "      <td>13930</td>\n",
       "    </tr>\n",
       "    <tr>\n",
       "      <th>3</th>\n",
       "      <td>10140</td>\n",
       "      <td>10397</td>\n",
       "    </tr>\n",
       "    <tr>\n",
       "      <th>4</th>\n",
       "      <td>10140</td>\n",
       "      <td>10423</td>\n",
       "    </tr>\n",
       "  </tbody>\n",
       "</table>\n",
       "</div>"
      ],
      "text/plain": [
       "   ORIGIN_AIRPORT_ID  DEST_AIRPORT_ID\n",
       "0              10135            10397\n",
       "1              10135            11433\n",
       "2              10135            13930\n",
       "3              10140            10397\n",
       "4              10140            10423"
      ]
     },
     "execution_count": 4,
     "metadata": {},
     "output_type": "execute_result"
    }
   ],
   "source": [
    "segments = pd.read_csv(data_paths['segments.csv'])\n",
    "print(\"There are {} direct flight segments.\".format(len(segments)))\n",
    "segments.head()"
   ]
  },
  {
   "cell_type": "markdown",
   "metadata": {
    "deletable": false,
    "editable": false,
    "nbgrader": {
     "grade": false,
     "locked": true,
     "solution": false
    }
   },
   "source": [
    "## Exercises\n",
    "\n",
    "Complete the following exercises."
   ]
  },
  {
   "cell_type": "markdown",
   "metadata": {
    "deletable": false,
    "editable": false,
    "nbgrader": {
     "grade": false,
     "locked": true,
     "solution": false
    }
   },
   "source": [
    "**Exercise 0** (1 point). Given an airport code, implement the function, `get_description(code, airports)`, so that it returns the row of `airports` having that code.\n",
    "\n",
    "For example,\n",
    "\n",
    "```python\n",
    "    get_description(10397, airports)\n",
    "```\n",
    "\n",
    "would return the dataframe,\n",
    "\n",
    "| | Code | Description |\n",
    "|:-:|:-:|:-:|\n",
    "| **373** | 10397 | Atlanta, GA: Hartsfield-Jackson Atlanta Intern... |"
   ]
  },
  {
   "cell_type": "code",
   "execution_count": 5,
   "metadata": {
    "nbgrader": {
     "grade": false,
     "grade_id": "get_description",
     "locked": false,
     "schema_version": 1,
     "solution": true
    }
   },
   "outputs": [
    {
     "data": {
      "text/html": [
       "<div>\n",
       "<style scoped>\n",
       "    .dataframe tbody tr th:only-of-type {\n",
       "        vertical-align: middle;\n",
       "    }\n",
       "\n",
       "    .dataframe tbody tr th {\n",
       "        vertical-align: top;\n",
       "    }\n",
       "\n",
       "    .dataframe thead th {\n",
       "        text-align: right;\n",
       "    }\n",
       "</style>\n",
       "<table border=\"1\" class=\"dataframe\">\n",
       "  <thead>\n",
       "    <tr style=\"text-align: right;\">\n",
       "      <th></th>\n",
       "      <th>Code</th>\n",
       "      <th>Description</th>\n",
       "    </tr>\n",
       "  </thead>\n",
       "  <tbody>\n",
       "    <tr>\n",
       "      <th>373</th>\n",
       "      <td>10397</td>\n",
       "      <td>Atlanta, GA: Hartsfield-Jackson Atlanta Intern...</td>\n",
       "    </tr>\n",
       "  </tbody>\n",
       "</table>\n",
       "</div>"
      ],
      "text/plain": [
       "      Code                                        Description\n",
       "373  10397  Atlanta, GA: Hartsfield-Jackson Atlanta Intern..."
      ]
     },
     "execution_count": 5,
     "metadata": {},
     "output_type": "execute_result"
    }
   ],
   "source": [
    "def get_description(code, airports):\n",
    "    return airports[airports[\"Code\"]==code]\n",
    "\n",
    "# Demo:\n",
    "get_description(10397, airports)"
   ]
  },
  {
   "cell_type": "code",
   "execution_count": 6,
   "metadata": {
    "deletable": false,
    "editable": false,
    "nbgrader": {
     "grade": true,
     "grade_id": "get_description_test",
     "locked": true,
     "points": 1,
     "schema_version": 1,
     "solution": false
    }
   },
   "outputs": [
    {
     "name": "stdout",
     "output_type": "stream",
     "text": [
      "\n",
      "(Passed!)\n"
     ]
    }
   ],
   "source": [
    "# Test cell: `get_description_test`\n",
    "\n",
    "from numpy.random import choice\n",
    "for offset in choice(len(airports), size=10):\n",
    "    code = airports.iloc[offset]['Code']\n",
    "    df = get_description(code, airports)\n",
    "    assert type(df) is pd.DataFrame\n",
    "    assert len(df) == 1\n",
    "    assert (df['Code'] == code).all()\n",
    "    \n",
    "print(\"\\n(Passed!)\")"
   ]
  },
  {
   "cell_type": "markdown",
   "metadata": {
    "deletable": false,
    "editable": false,
    "nbgrader": {
     "grade": false,
     "grade_id": "cell-0604da4bfcbbf2be",
     "locked": true,
     "schema_version": 1,
     "solution": false
    }
   },
   "source": [
    "**Exercise 1** (2 points). Suppose that, instead of one code, you are given a Python set of codes. Implement the function, `get_all_descriptions(codes, airports)`, so that it returns a dataframe whose rows consist of all rows from `airports` that match one of the codes in `codes`.\n",
    "\n",
    "For example,\n",
    "\n",
    "```python\n",
    "    get_all_descriptions({10397, 12892, 14057}, airports)\n",
    "```\n",
    "\n",
    "would return,\n",
    "\n",
    "| | Code | Description |\n",
    "|:-:|:-:|:-:|\n",
    "| **373** | 10397 | Atlanta, GA: Hartsfield-Jackson Atlanta Intern... |\n",
    "| **2765** | 12892 | Los Angeles, CA: Los Angeles International |\n",
    "| **3892** | 14057 | Portland, OR: Portland International |"
   ]
  },
  {
   "cell_type": "code",
   "execution_count": 7,
   "metadata": {
    "nbgrader": {
     "grade": false,
     "grade_id": "get_all_descriptions",
     "locked": false,
     "schema_version": 1,
     "solution": true
    }
   },
   "outputs": [
    {
     "data": {
      "text/html": [
       "<div>\n",
       "<style scoped>\n",
       "    .dataframe tbody tr th:only-of-type {\n",
       "        vertical-align: middle;\n",
       "    }\n",
       "\n",
       "    .dataframe tbody tr th {\n",
       "        vertical-align: top;\n",
       "    }\n",
       "\n",
       "    .dataframe thead th {\n",
       "        text-align: right;\n",
       "    }\n",
       "</style>\n",
       "<table border=\"1\" class=\"dataframe\">\n",
       "  <thead>\n",
       "    <tr style=\"text-align: right;\">\n",
       "      <th></th>\n",
       "      <th>Code</th>\n",
       "      <th>Description</th>\n",
       "    </tr>\n",
       "  </thead>\n",
       "  <tbody>\n",
       "    <tr>\n",
       "      <th>373</th>\n",
       "      <td>10397</td>\n",
       "      <td>Atlanta, GA: Hartsfield-Jackson Atlanta Intern...</td>\n",
       "    </tr>\n",
       "    <tr>\n",
       "      <th>2765</th>\n",
       "      <td>12892</td>\n",
       "      <td>Los Angeles, CA: Los Angeles International</td>\n",
       "    </tr>\n",
       "    <tr>\n",
       "      <th>3892</th>\n",
       "      <td>14057</td>\n",
       "      <td>Portland, OR: Portland International</td>\n",
       "    </tr>\n",
       "  </tbody>\n",
       "</table>\n",
       "</div>"
      ],
      "text/plain": [
       "       Code                                        Description\n",
       "373   10397  Atlanta, GA: Hartsfield-Jackson Atlanta Intern...\n",
       "2765  12892         Los Angeles, CA: Los Angeles International\n",
       "3892  14057               Portland, OR: Portland International"
      ]
     },
     "execution_count": 7,
     "metadata": {},
     "output_type": "execute_result"
    }
   ],
   "source": [
    "def get_all_descriptions(codes, airports):\n",
    "    assert type(codes) is set\n",
    "    return airports[airports[\"Code\"].apply(lambda x:x in codes)]\n",
    "    \n",
    "get_all_descriptions({10397, 12892, 14057}, airports)"
   ]
  },
  {
   "cell_type": "code",
   "execution_count": 8,
   "metadata": {
    "deletable": false,
    "editable": false,
    "nbgrader": {
     "grade": true,
     "grade_id": "get_all_descriptions_test",
     "locked": true,
     "points": 2,
     "schema_version": 1,
     "solution": false
    }
   },
   "outputs": [
    {
     "name": "stdout",
     "output_type": "stream",
     "text": [
      "\n",
      "(Passed!)\n"
     ]
    }
   ],
   "source": [
    "# Test cell: `get_all_descriptions_test`\n",
    "\n",
    "from numpy.random import choice\n",
    "offsets = choice(len(airports), size=10)\n",
    "codes = set(airports.iloc[offsets]['Code'])\n",
    "df = get_all_descriptions(codes, airports)\n",
    "assert type(df) is pd.DataFrame\n",
    "assert len(df) == len(codes)\n",
    "assert set(df['Code']) == codes\n",
    "\n",
    "print(\"\\n(Passed!)\")"
   ]
  },
  {
   "cell_type": "markdown",
   "metadata": {
    "deletable": false,
    "editable": false,
    "nbgrader": {
     "grade": false,
     "grade_id": "cell-f490cd539f6bef6d",
     "locked": true,
     "schema_version": 1,
     "solution": false
    }
   },
   "source": [
    "**Exercise 2** (2 points). Implement the function, `find_description(desc, airports)`, so that it returns the subset of rows of the dataframe `airports` whose `Description` string contains `desc`, where `desc` is a string.\n",
    "\n",
    "For example,\n",
    "\n",
    "```python\n",
    "    find_description('Atlanta', airports)\n",
    "```\n",
    "\n",
    "should return a dataframe with these rows:\n",
    "\n",
    "| Code  | Description                                       |\n",
    "|:-----:|:-------------------------------------------------:|\n",
    "| 10397\t| Atlanta, GA: Hartsfield-Jackson Atlanta Intern... |\n",
    "| 11790\t| Atlanta, GA: Fulton County Airport-Brown Field    |\n",
    "| 11838\t| Atlanta, GA: Newnan Coweta County                 |\n",
    "| 12445\t| Atlanta, GA: Perimeter Mall Helipad               |\n",
    "| 12449\t| Atlanta, GA: Beaver Ruin                          |\n",
    "| 12485\t| Atlanta, GA: Galleria                             |\n",
    "| 14050\t| Atlanta, GA: Dekalb Peachtree                     |\n",
    "| 14430\t| Peachtree City, GA: Atlanta Regional Falcon Field |\n",
    "\n",
    "Notice that the last row of this dataframe has \"Atlanta\" in the middle of the description.\n",
    "\n",
    "> _Hint_: The easiest way to do this problem is to apply a neat feature of Pandas, which is that there are functions that help do string searches within a column (i.e., within a Series): https://pandas.pydata.org/pandas-docs/stable/text.html"
   ]
  },
  {
   "cell_type": "code",
   "execution_count": 9,
   "metadata": {
    "nbgrader": {
     "grade": false,
     "grade_id": "find_description",
     "locked": false,
     "schema_version": 1,
     "solution": true
    }
   },
   "outputs": [
    {
     "data": {
      "text/html": [
       "<div>\n",
       "<style scoped>\n",
       "    .dataframe tbody tr th:only-of-type {\n",
       "        vertical-align: middle;\n",
       "    }\n",
       "\n",
       "    .dataframe tbody tr th {\n",
       "        vertical-align: top;\n",
       "    }\n",
       "\n",
       "    .dataframe thead th {\n",
       "        text-align: right;\n",
       "    }\n",
       "</style>\n",
       "<table border=\"1\" class=\"dataframe\">\n",
       "  <thead>\n",
       "    <tr style=\"text-align: right;\">\n",
       "      <th></th>\n",
       "      <th>Code</th>\n",
       "      <th>Description</th>\n",
       "    </tr>\n",
       "  </thead>\n",
       "  <tbody>\n",
       "    <tr>\n",
       "      <th>373</th>\n",
       "      <td>10397</td>\n",
       "      <td>Atlanta, GA: Hartsfield-Jackson Atlanta Intern...</td>\n",
       "    </tr>\n",
       "    <tr>\n",
       "      <th>1717</th>\n",
       "      <td>11790</td>\n",
       "      <td>Atlanta, GA: Fulton County Airport-Brown Field</td>\n",
       "    </tr>\n",
       "    <tr>\n",
       "      <th>1762</th>\n",
       "      <td>11838</td>\n",
       "      <td>Atlanta, GA: Newnan Coweta County</td>\n",
       "    </tr>\n",
       "    <tr>\n",
       "      <th>2350</th>\n",
       "      <td>12445</td>\n",
       "      <td>Atlanta, GA: Perimeter Mall Helipad</td>\n",
       "    </tr>\n",
       "    <tr>\n",
       "      <th>2354</th>\n",
       "      <td>12449</td>\n",
       "      <td>Atlanta, GA: Beaver Ruin</td>\n",
       "    </tr>\n",
       "    <tr>\n",
       "      <th>2387</th>\n",
       "      <td>12485</td>\n",
       "      <td>Atlanta, GA: Galleria</td>\n",
       "    </tr>\n",
       "    <tr>\n",
       "      <th>3885</th>\n",
       "      <td>14050</td>\n",
       "      <td>Atlanta, GA: Dekalb Peachtree</td>\n",
       "    </tr>\n",
       "    <tr>\n",
       "      <th>4222</th>\n",
       "      <td>14430</td>\n",
       "      <td>Peachtree City, GA: Atlanta Regional Falcon Field</td>\n",
       "    </tr>\n",
       "  </tbody>\n",
       "</table>\n",
       "</div>"
      ],
      "text/plain": [
       "       Code                                        Description\n",
       "373   10397  Atlanta, GA: Hartsfield-Jackson Atlanta Intern...\n",
       "1717  11790     Atlanta, GA: Fulton County Airport-Brown Field\n",
       "1762  11838                  Atlanta, GA: Newnan Coweta County\n",
       "2350  12445                Atlanta, GA: Perimeter Mall Helipad\n",
       "2354  12449                           Atlanta, GA: Beaver Ruin\n",
       "2387  12485                              Atlanta, GA: Galleria\n",
       "3885  14050                      Atlanta, GA: Dekalb Peachtree\n",
       "4222  14430  Peachtree City, GA: Atlanta Regional Falcon Field"
      ]
     },
     "execution_count": 9,
     "metadata": {},
     "output_type": "execute_result"
    }
   ],
   "source": [
    "def find_description(desc, airports):\n",
    "    return airports[airports[\"Description\"].apply(lambda x: desc in x )]\n",
    "    \n",
    "find_description('Atlanta', airports)"
   ]
  },
  {
   "cell_type": "code",
   "execution_count": 10,
   "metadata": {
    "deletable": false,
    "editable": false,
    "nbgrader": {
     "grade": true,
     "grade_id": "find_description_test",
     "locked": true,
     "points": 2,
     "schema_version": 1,
     "solution": false
    }
   },
   "outputs": [
    {
     "name": "stdout",
     "output_type": "stream",
     "text": [
      "\n",
      "(Passed!)\n"
     ]
    }
   ],
   "source": [
    "# Test cell: `lookup_description_test`\n",
    "\n",
    "assert len(find_description('Los Angeles', airports)) == 4\n",
    "assert len(find_description('Washington', airports)) == 12\n",
    "assert len(find_description('Arizona', airports)) == 0\n",
    "assert len(find_description('Warsaw', airports)) == 2\n",
    "\n",
    "print(\"\\n(Passed!)\")"
   ]
  },
  {
   "cell_type": "markdown",
   "metadata": {
    "deletable": false,
    "editable": false,
    "nbgrader": {
     "grade": false,
     "locked": true,
     "solution": false
    }
   },
   "source": [
    "**Exercise 3** (4 points). Suppose you are given an airport code. Implement a function, `find_two_away(code, segments)`, so that it finds all airports that are **two hops** away. It should return this result as a Python set.\n",
    "\n",
    "For example, the `segments` table happens to include these two rows:\n",
    "\n",
    "|    | ORIGIN_AIRPORT_ID | DEST_AIRPORT_ID |\n",
    "|:-:|:-:|:-:|\n",
    "| ... | ... | ... |\n",
    "| **178** | 10397 | 12892 |\n",
    "| ... | ... | ... |\n",
    "| **2155** | 12892 | 14057 |\n",
    "| ... | ... | ... |\n",
    "\n",
    "We say that 14057 is \"two hops away\" because there is one segment from 10397 to 12892, followed by a second segment from 12892 to 14057. Thus, the set returned by `find_two_away(code, segments)` should include 14057, i.e.,\n",
    "\n",
    "```python\n",
    "    assert 14057 in find_two_away(10397, segments)\n",
    "```\n",
    "\n",
    "Your function may assume that the given `code` is valid, that is, appears in the `segments` data frame and has at least one outgoing segment."
   ]
  },
  {
   "cell_type": "code",
   "execution_count": 11,
   "metadata": {
    "nbgrader": {
     "grade": false,
     "grade_id": "find_two_away",
     "locked": false,
     "schema_version": 1,
     "solution": true
    }
   },
   "outputs": [
    {
     "name": "stdout",
     "output_type": "stream",
     "text": [
      "Your solution found 277 airports that are two hops from 'Atlanta, GA: Hartsfield-Jackson Atlanta International'.\n"
     ]
    }
   ],
   "source": [
    "def find_two_away(code, segments):\n",
    "    new=segments[segments[\"ORIGIN_AIRPORT_ID\"]==code]\n",
    "    segments2=segments[[\"ORIGIN_AIRPORT_ID\",\"DEST_AIRPORT_ID\"]]\n",
    "    segments2.columns=[\"O\",\"D\"]\n",
    "    new=new.merge(segments2, left_on='DEST_AIRPORT_ID', right_on='O',how=\"left\")[[\"ORIGIN_AIRPORT_ID\",\"O\",\"D\"]]\n",
    "    return set(new[\"D\"])\n",
    "atl_two_hops = find_two_away(10397, segments)\n",
    "atl_desc = get_description(10397, airports)['Description'].iloc[0]\n",
    "print(\"Your solution found {} airports that are two hops from '{}'.\".format(len(atl_two_hops), atl_desc))"
   ]
  },
  {
   "cell_type": "code",
   "execution_count": 12,
   "metadata": {
    "deletable": false,
    "editable": false,
    "nbgrader": {
     "grade": true,
     "grade_id": "find_two_away_test1",
     "locked": true,
     "points": 1,
     "schema_version": 1,
     "solution": false
    }
   },
   "outputs": [
    {
     "name": "stdout",
     "output_type": "stream",
     "text": [
      "\n",
      "(Passed first test.)\n"
     ]
    }
   ],
   "source": [
    "# Test cell: `find_two_away_test`\n",
    "\n",
    "assert 14057 in find_two_away(10397, segments)\n",
    "assert len(atl_two_hops) == 277\n",
    "\n",
    "print(\"\\n(Passed first test.)\")"
   ]
  },
  {
   "cell_type": "code",
   "execution_count": 13,
   "metadata": {
    "deletable": false,
    "editable": false,
    "nbgrader": {
     "grade": true,
     "grade_id": "find_two_away_test2",
     "locked": true,
     "points": 4,
     "schema_version": 1,
     "solution": false
    }
   },
   "outputs": [
    {
     "name": "stdout",
     "output_type": "stream",
     "text": [
      "Note: This test may take a minute...\n",
      "\n",
      "(Passed!)\n"
     ]
    }
   ],
   "source": [
    "# Test cell: `find_two_away_test2`\n",
    "print(\"Note: This test may take a minute...\")\n",
    "if False:\n",
    "    solns = {}\n",
    "    for code in airports['Code']:\n",
    "        two_away = find_two_away(code, segments)\n",
    "        if code not in solns:\n",
    "            solns[code] = len(two_away)\n",
    "    with open('{}two_away_solns.csv'.format(DATA_SUFFIX), 'w') as fp:\n",
    "        fp.write('Code,TwoAway\\n')\n",
    "        for code, num_two_away in solns.items():\n",
    "            fp.write('{},{}\\n'.format(code, num_two_away))\n",
    "            \n",
    "two_away_solns = pd.read_csv(data_paths['two_away_solns.csv'])\n",
    "for row in range(len(two_away_solns)):\n",
    "    code = two_away_solns['Code'].iloc[row]\n",
    "    count = two_away_solns['TwoAway'].iloc[row]\n",
    "    your_count = len(find_two_away(code, segments))\n",
    "    msg = \"Expected {} airports two-away from {}, but your code found {} instead.\".format(count, code, your_count)\n",
    "    assert your_count == count, msg\n",
    "print(\"\\n(Passed!)\")"
   ]
  },
  {
   "cell_type": "markdown",
   "metadata": {
    "deletable": false,
    "editable": false,
    "nbgrader": {
     "grade": false,
     "locked": true,
     "solution": false
    }
   },
   "source": [
    "**Fin!** If you've reached this point and all tests above pass, you are ready to submit your solution to this problem. Don't forget to save you work prior to submitting."
   ]
  }
 ],
 "metadata": {
  "celltoolbar": "Create Assignment",
  "kernel_info": {
   "name": "python3"
  },
  "kernelspec": {
   "display_name": "Python 3 [3.6]",
   "language": "python",
   "name": "python3"
  },
  "language_info": {
   "codemirror_mode": {
    "name": "ipython",
    "version": 3
   },
   "file_extension": ".py",
   "mimetype": "text/x-python",
   "name": "python",
   "nbconvert_exporter": "python",
   "pygments_lexer": "ipython3",
   "version": "3.6.4"
  },
  "nteract": {
   "version": "0.11.9"
  }
 },
 "nbformat": 4,
 "nbformat_minor": 1
}
