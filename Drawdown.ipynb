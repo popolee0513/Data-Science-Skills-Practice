{
 "cells": [
  {
   "cell_type": "markdown",
   "metadata": {},
   "source": [
    "Download the time series of Citi stock (close levels, from 2000 onwards). Use yahoo finance for this.\n",
    "\n",
    "Write a python function which calculates top N mutually exclusive worst historical drawdowns, where N is a variable. Definition of the function will look like: def worstDrawdown(n,df):\n",
    "\n",
    "Your answer should be a list of N elements (in the descending order of the magnitudes of those N drawdowns) wherein each element is a list of 3 elements of [drawdown start date, drawdown end date, drawdown percentage]"
   ]
  },
  {
   "cell_type": "code",
   "execution_count": 1,
   "metadata": {},
   "outputs": [],
   "source": [
    "#!pip install fix_yahoo_finance\n",
    "import yfinance as fix"
   ]
  },
  {
   "cell_type": "code",
   "execution_count": 2,
   "metadata": {},
   "outputs": [],
   "source": [
    "from pandas_datareader import data as web\n",
    "import datetime as dt"
   ]
  },
  {
   "cell_type": "code",
   "execution_count": 3,
   "metadata": {},
   "outputs": [],
   "source": [
    "fix.pdr_override()"
   ]
  },
  {
   "cell_type": "code",
   "execution_count": 4,
   "metadata": {},
   "outputs": [],
   "source": [
    "start = dt.datetime(2000, 1, 1)\n",
    "end = dt.datetime(2020, 8, 14)"
   ]
  },
  {
   "cell_type": "code",
   "execution_count": 5,
   "metadata": {},
   "outputs": [
    {
     "name": "stdout",
     "output_type": "stream",
     "text": [
      "[*********************100%***********************]  1 of 1 completed\n"
     ]
    }
   ],
   "source": [
    "df = web.get_data_yahoo(['C'],start, end)"
   ]
  },
  {
   "cell_type": "code",
   "execution_count": 6,
   "metadata": {},
   "outputs": [
    {
     "data": {
      "text/html": [
       "<div>\n",
       "<style scoped>\n",
       "    .dataframe tbody tr th:only-of-type {\n",
       "        vertical-align: middle;\n",
       "    }\n",
       "\n",
       "    .dataframe tbody tr th {\n",
       "        vertical-align: top;\n",
       "    }\n",
       "\n",
       "    .dataframe thead th {\n",
       "        text-align: right;\n",
       "    }\n",
       "</style>\n",
       "<table border=\"1\" class=\"dataframe\">\n",
       "  <thead>\n",
       "    <tr style=\"text-align: right;\">\n",
       "      <th></th>\n",
       "      <th>Open</th>\n",
       "      <th>High</th>\n",
       "      <th>Low</th>\n",
       "      <th>Close</th>\n",
       "      <th>Adj Close</th>\n",
       "      <th>Volume</th>\n",
       "    </tr>\n",
       "    <tr>\n",
       "      <th>Date</th>\n",
       "      <th></th>\n",
       "      <th></th>\n",
       "      <th></th>\n",
       "      <th></th>\n",
       "      <th></th>\n",
       "      <th></th>\n",
       "    </tr>\n",
       "  </thead>\n",
       "  <tbody>\n",
       "    <tr>\n",
       "      <th>1999-12-31</th>\n",
       "      <td>414.37500</td>\n",
       "      <td>419.53125</td>\n",
       "      <td>411.5625</td>\n",
       "      <td>417.65625</td>\n",
       "      <td>340.037750</td>\n",
       "      <td>260400</td>\n",
       "    </tr>\n",
       "    <tr>\n",
       "      <th>2000-01-03</th>\n",
       "      <td>417.18750</td>\n",
       "      <td>417.18750</td>\n",
       "      <td>390.0000</td>\n",
       "      <td>397.50000</td>\n",
       "      <td>323.627411</td>\n",
       "      <td>1681900</td>\n",
       "    </tr>\n",
       "    <tr>\n",
       "      <th>2000-01-04</th>\n",
       "      <td>390.00000</td>\n",
       "      <td>391.40625</td>\n",
       "      <td>373.1250</td>\n",
       "      <td>373.12500</td>\n",
       "      <td>303.782379</td>\n",
       "      <td>2403200</td>\n",
       "    </tr>\n",
       "    <tr>\n",
       "      <th>2000-01-05</th>\n",
       "      <td>381.56250</td>\n",
       "      <td>390.00000</td>\n",
       "      <td>371.2500</td>\n",
       "      <td>388.12500</td>\n",
       "      <td>315.994751</td>\n",
       "      <td>1742500</td>\n",
       "    </tr>\n",
       "    <tr>\n",
       "      <th>2000-01-06</th>\n",
       "      <td>384.84375</td>\n",
       "      <td>410.15625</td>\n",
       "      <td>384.3750</td>\n",
       "      <td>406.87500</td>\n",
       "      <td>331.260010</td>\n",
       "      <td>1863200</td>\n",
       "    </tr>\n",
       "  </tbody>\n",
       "</table>\n",
       "</div>"
      ],
      "text/plain": [
       "                 Open       High       Low      Close   Adj Close   Volume\n",
       "Date                                                                      \n",
       "1999-12-31  414.37500  419.53125  411.5625  417.65625  340.037750   260400\n",
       "2000-01-03  417.18750  417.18750  390.0000  397.50000  323.627411  1681900\n",
       "2000-01-04  390.00000  391.40625  373.1250  373.12500  303.782379  2403200\n",
       "2000-01-05  381.56250  390.00000  371.2500  388.12500  315.994751  1742500\n",
       "2000-01-06  384.84375  410.15625  384.3750  406.87500  331.260010  1863200"
      ]
     },
     "execution_count": 6,
     "metadata": {},
     "output_type": "execute_result"
    }
   ],
   "source": [
    "df.head()"
   ]
  },
  {
   "cell_type": "code",
   "execution_count": 7,
   "metadata": {},
   "outputs": [],
   "source": [
    "from scipy.signal import find_peaks\n",
    "x=find_peaks(df[\"Close\"])"
   ]
  },
  {
   "cell_type": "code",
   "execution_count": 8,
   "metadata": {},
   "outputs": [],
   "source": [
    "x1=find_peaks(-df[\"Close\"])"
   ]
  },
  {
   "cell_type": "code",
   "execution_count": 9,
   "metadata": {},
   "outputs": [],
   "source": [
    "peak=x[0][:-1]\n",
    "bottom=x1[0][1:]\n",
    "ans=[]\n",
    "for i in range(len(bottom)):\n",
    "    value=1-(df[\"Close\"].iloc[bottom[i]]/df[\"Close\"].iloc[peak[i]])\n",
    "    ans.append(value)"
   ]
  },
  {
   "cell_type": "code",
   "execution_count": 10,
   "metadata": {},
   "outputs": [
    {
     "data": {
      "text/plain": [
       "572"
      ]
     },
     "execution_count": 10,
     "metadata": {},
     "output_type": "execute_result"
    }
   ],
   "source": [
    "import numpy as np\n",
    "big=np.argmax(ans)\n",
    "big"
   ]
  },
  {
   "cell_type": "code",
   "execution_count": 11,
   "metadata": {},
   "outputs": [
    {
     "data": {
      "text/plain": [
       "Open         9.760000e+01\n",
       "High         1.011000e+02\n",
       "Low          8.790000e+01\n",
       "Close        9.520000e+01\n",
       "Adj Close    8.547484e+01\n",
       "Volume       2.815690e+07\n",
       "Name: 2008-11-14 00:00:00, dtype: float64"
      ]
     },
     "execution_count": 11,
     "metadata": {},
     "output_type": "execute_result"
    }
   ],
   "source": [
    "df.iloc[peak[572]]"
   ]
  },
  {
   "cell_type": "code",
   "execution_count": 12,
   "metadata": {},
   "outputs": [
    {
     "data": {
      "text/plain": [
       "Open         5.440000e+01\n",
       "High         5.530000e+01\n",
       "Low          3.050000e+01\n",
       "Close        3.770000e+01\n",
       "Adj Close    3.384875e+01\n",
       "Volume       1.027725e+08\n",
       "Name: 2008-11-21 00:00:00, dtype: float64"
      ]
     },
     "execution_count": 12,
     "metadata": {},
     "output_type": "execute_result"
    }
   ],
   "source": [
    "df.iloc[bottom[572]]"
   ]
  },
  {
   "cell_type": "code",
   "execution_count": 13,
   "metadata": {},
   "outputs": [
    {
     "data": {
      "text/plain": [
       "[[0.6039915759300288,\n",
       "  Timestamp('2008-11-14 00:00:00'),\n",
       "  Timestamp('2008-11-21 00:00:00')],\n",
       " [0.5384615384615384,\n",
       "  Timestamp('2009-02-24 00:00:00'),\n",
       "  Timestamp('2009-03-02 00:00:00')],\n",
       " [0.5254237288135593,\n",
       "  Timestamp('2009-01-13 00:00:00'),\n",
       "  Timestamp('2009-01-20 00:00:00')]]"
      ]
     },
     "execution_count": 13,
     "metadata": {},
     "output_type": "execute_result"
    }
   ],
   "source": [
    "def worstDrawdown(n,df):\n",
    "    df=df.reset_index()\n",
    "    x=find_peaks(df[\"Close\"])\n",
    "    x1=find_peaks(-df[\"Close\"])\n",
    "    peak=x[0][:-1]\n",
    "    bottom=x1[0][1:]\n",
    "    ans=[]\n",
    "    for i in range(len(bottom)):\n",
    "        value=1-(df[\"Close\"].iloc[bottom[i]]/df[\"Close\"].iloc[peak[i]])\n",
    "        ans.append(value)\n",
    "    final=np.argsort(ans)[::-1]\n",
    "    \n",
    "    Final_answer=[]\n",
    "    for i in range(n):\n",
    "        inside=[]\n",
    "        inside.append(ans[final[i]])\n",
    "        inside.append(df.iloc[peak[final[i]]][\"Date\"])\n",
    "        inside.append(df.iloc[bottom[final[i]]][\"Date\"])\n",
    "        Final_answer.append(inside)\n",
    "    return Final_answer\n",
    "\n",
    "worstDrawdown(3,df)"
   ]
  },
  {
   "cell_type": "code",
   "execution_count": null,
   "metadata": {},
   "outputs": [],
   "source": []
  },
  {
   "cell_type": "code",
   "execution_count": null,
   "metadata": {},
   "outputs": [],
   "source": []
  }
 ],
 "metadata": {
  "kernelspec": {
   "display_name": "Python 3",
   "language": "python",
   "name": "python3"
  },
  "language_info": {
   "codemirror_mode": {
    "name": "ipython",
    "version": 3
   },
   "file_extension": ".py",
   "mimetype": "text/x-python",
   "name": "python",
   "nbconvert_exporter": "python",
   "pygments_lexer": "ipython3",
   "version": "3.8.3"
  }
 },
 "nbformat": 4,
 "nbformat_minor": 4
}
