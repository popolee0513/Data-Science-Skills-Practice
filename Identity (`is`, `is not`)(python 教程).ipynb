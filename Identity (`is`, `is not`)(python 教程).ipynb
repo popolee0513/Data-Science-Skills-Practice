{
 "cells": [
  {
   "cell_type": "code",
   "execution_count": 1,
   "metadata": {},
   "outputs": [
    {
     "name": "stdout",
     "output_type": "stream",
     "text": [
      "x equal y ?  True\n",
      "x is identical to y ? False\n"
     ]
    }
   ],
   "source": [
    "#Equal float literals are saved in different memory locations.\n",
    "x = 5.6\n",
    "y = 5.6\n",
    "print(\"x equal y ? \", x == y)\n",
    "print(\"x is identical to y ?\", x is y)"
   ]
  },
  {
   "cell_type": "code",
   "execution_count": 2,
   "metadata": {},
   "outputs": [
    {
     "name": "stdout",
     "output_type": "stream",
     "text": [
      "x equal y ?  True\n",
      "x is identical to y ? True\n"
     ]
    }
   ],
   "source": [
    "#Equal int literals are saved in the same memory location\n",
    "x = 5\n",
    "y = 5\n",
    "print(\"x equal y ? \", x == y)\n",
    "print(\"x is identical to y ?\", x is y)"
   ]
  },
  {
   "cell_type": "code",
   "execution_count": 3,
   "metadata": {},
   "outputs": [
    {
     "name": "stdout",
     "output_type": "stream",
     "text": [
      "x equal y ?  True\n",
      "x is identical to y ? False\n"
     ]
    }
   ],
   "source": [
    "x = [4, 9, 8]\n",
    "y = [4, 9, 8]\n",
    "# x and y are equal, because they contain the same data\n",
    "# x and y are NOT identical, because they are saved in different memory locations\n",
    "print(\"x equal y ? \", x == y)\n",
    "print(\"x is identical to y ?\", x is y)"
   ]
  },
  {
   "cell_type": "code",
   "execution_count": 4,
   "metadata": {},
   "outputs": [
    {
     "name": "stdout",
     "output_type": "stream",
     "text": [
      "\n",
      "After changing x[1]\n",
      "x = [4, 5, 8]\n",
      "y = [4, 9, 8]\n",
      "x equal y ?  False\n",
      "x is identical to y ? False\n"
     ]
    }
   ],
   "source": [
    "# Because they are not identical, changing x does not affect y\n",
    "x[1] = 5\n",
    "print()\n",
    "print(\"After changing x[1]\")\n",
    "print(\"x =\", x)\n",
    "print(\"y =\", y)\n",
    "print(\"x equal y ? \", x == y)\n",
    "print(\"x is identical to y ?\", x is y)"
   ]
  },
  {
   "cell_type": "code",
   "execution_count": 5,
   "metadata": {},
   "outputs": [
    {
     "name": "stdout",
     "output_type": "stream",
     "text": [
      "x equal y ?  True\n",
      "x is identical to y ? True\n",
      "\n",
      "After changing x[1]\n",
      "x = [4, 5, 8]\n",
      "y = [4, 5, 8]\n",
      "x equal y ?  True\n",
      "x is identical to y ? True\n"
     ]
    }
   ],
   "source": [
    "# Identical list\n",
    "x = [4, 9, 8]\n",
    "y = x\n",
    "# x and y are equal, because they contain the same data\n",
    "# x and y are identical, because they are saved in the same memory location\n",
    "print(\"x equal y ? \", x == y)\n",
    "print(\"x is identical to y ?\", x is y)\n",
    "# Because they are identical, changing x also changes y\n",
    "x[1] = 5\n",
    "print()\n",
    "print(\"After changing x[1]\")\n",
    "print(\"x =\", x)\n",
    "print(\"y =\", y)\n",
    "print(\"x equal y ? \", x == y)\n",
    "print(\"x is identical to y ?\", x is y)"
   ]
  },
  {
   "cell_type": "code",
   "execution_count": 6,
   "metadata": {},
   "outputs": [
    {
     "name": "stdout",
     "output_type": "stream",
     "text": [
      "s1 equal s2 ?  True\n",
      "s1 is identical to s2 ? True\n"
     ]
    }
   ],
   "source": [
    "# s1, s2: equal, identical\n",
    "s1 = 'whole milk'\n",
    "s2 = s1\n",
    "print(\"s1 equal s2 ? \", s1 == s2)\n",
    "print(\"s1 is identical to s2 ?\", s1 is s2)"
   ]
  },
  {
   "cell_type": "code",
   "execution_count": 7,
   "metadata": {},
   "outputs": [
    {
     "name": "stdout",
     "output_type": "stream",
     "text": [
      "s1 equal s2 ?  True\n",
      "s1 is identical to s2 ? False\n"
     ]
    }
   ],
   "source": [
    "# s1, s2: equal, not identical\n",
    "s1 = 'whole milk'\n",
    "s2 = 'whole milk'\n",
    "print(\"s1 equal s2 ? \", s1 == s2)\n",
    "print(\"s1 is identical to s2 ?\", s1 is s2)"
   ]
  },
  {
   "cell_type": "code",
   "execution_count": 8,
   "metadata": {},
   "outputs": [
    {
     "name": "stdout",
     "output_type": "stream",
     "text": [
      "s1 equal s2 ?  True\n",
      "s1 is identical to s2 ? True\n"
     ]
    }
   ],
   "source": [
    "# s1, s2: equal, identical (after interpreter optimization)\n",
    "s1 = 'python'\n",
    "s2 = 'python'\n",
    "print(\"s1 equal s2 ? \", s1 == s2)\n",
    "print(\"s1 is identical to s2 ?\", s1 is s2)\n"
   ]
  },
  {
   "cell_type": "code",
   "execution_count": null,
   "metadata": {},
   "outputs": [],
   "source": []
  }
 ],
 "metadata": {
  "kernelspec": {
   "display_name": "Python 3",
   "language": "python",
   "name": "python3"
  },
  "language_info": {
   "codemirror_mode": {
    "name": "ipython",
    "version": 3
   },
   "file_extension": ".py",
   "mimetype": "text/x-python",
   "name": "python",
   "nbconvert_exporter": "python",
   "pygments_lexer": "ipython3",
   "version": "3.7.0"
  }
 },
 "nbformat": 4,
 "nbformat_minor": 2
}
