{
 "cells": [
  {
   "cell_type": "code",
   "execution_count": 1,
   "metadata": {},
   "outputs": [],
   "source": [
    "import numpy as np\n",
    "import pandas as pd \n",
    "\n",
    "class K_means(object):\n",
    "    def __init__(self,k):\n",
    "        self.k = k\n",
    "    def fit(self, x):\n",
    "        self.x = np.array(x).astype(float)\n",
    "        length= len(x)\n",
    "        center_index=np.random.choice(length, self.k, replace=False)\n",
    "        self.cluster_centers_=np.array([self.x[i] for i in center_index])\n",
    "        init=[0]*length\n",
    "        check=True\n",
    "        while check :\n",
    "            record = []\n",
    "            for i in range(length):\n",
    "                dist = [np.linalg.norm(x[i]-j) for j in self.cluster_centers_]\n",
    "                record.append(np.argmin(dist))\n",
    "            data= np.concatenate((x, np.array(record).reshape(-1,1)), axis=1)\n",
    "            data= pd.DataFrame(data)\n",
    "            self.cluster_centers_ =np.array(data.groupby(data.columns[-1])[data.columns[:-1]].mean().values)\n",
    "            \n",
    "            if record == init:\n",
    "                check =False\n",
    "                self.labels_=record\n",
    "                return self\n",
    "            else:\n",
    "                check =True\n",
    "                init =record\n",
    "    def predict(self, predict_data):\n",
    "        record = []\n",
    "        for i in range(len(predict_data)):\n",
    "            dist = [np.linalg.norm(predict_data[i]-j) for j in self.cluster_centers_]\n",
    "            record.append(np.argmin(dist))\n",
    "        return np.array(record)"
   ]
  },
  {
   "cell_type": "code",
   "execution_count": 2,
   "metadata": {},
   "outputs": [
    {
     "data": {
      "text/plain": [
       "array([0, 0, 0, 0, 0, 0, 0, 0, 0, 0, 0, 0, 0, 0, 0, 0, 0, 0, 0, 0, 0, 0,\n",
       "       0, 0, 0, 0, 0, 0, 0, 0, 0, 0, 0, 0, 0, 0, 0, 0, 0, 0, 0, 0, 0, 0,\n",
       "       0, 0, 0, 0, 0, 0, 1, 1, 1, 1, 1, 1, 1, 1, 1, 1, 1, 1, 1, 1, 1, 1,\n",
       "       1, 1, 1, 1, 1, 1, 1, 1, 1, 1, 1, 1, 1, 1, 1, 1, 1, 1, 1, 1, 1, 1,\n",
       "       1, 1, 1, 1, 1, 1, 1, 1, 1, 1, 1, 1, 2, 2, 2, 2, 2, 2, 2, 2, 2, 2,\n",
       "       2, 2, 2, 2, 2, 2, 2, 2, 2, 2, 2, 2, 2, 2, 2, 2, 2, 2, 2, 2, 2, 2,\n",
       "       2, 2, 2, 2, 2, 2, 2, 2, 2, 2, 2, 2, 2, 2, 2, 2, 2, 2])"
      ]
     },
     "execution_count": 2,
     "metadata": {},
     "output_type": "execute_result"
    }
   ],
   "source": [
    "from sklearn.datasets import make_blobs\n",
    "from sklearn import datasets\n",
    "from sklearn import preprocessing\n",
    "#import matplotlib.pyplot as plt\n",
    "#data = make_blobs(n_samples=200, n_features=2, centers=4, cluster_std=0.8,random_state=101)\n",
    "iris = datasets.load_iris()\n",
    "x=iris[\"data\"]\n",
    "y=iris[\"target\"]\n",
    "x= preprocessing.scale(x)\n",
    "y"
   ]
  },
  {
   "cell_type": "code",
   "execution_count": 8,
   "metadata": {},
   "outputs": [
    {
     "name": "stdout",
     "output_type": "stream",
     "text": [
      "0.8333333333333334\n"
     ]
    }
   ],
   "source": [
    "#k_means = K_means(k=4).fit(data[0])\n",
    "k_means=K_means(k=3).fit(x)\n",
    "label=k_means.labels_\n",
    "\n",
    "acc=0\n",
    "for i in range(0,150,50):\n",
    "    count=pd.value_counts(label[i:i+50])\n",
    "    acc+=count.iloc[0]\n",
    "acc=acc/150\n",
    "print(acc)\n"
   ]
  },
  {
   "cell_type": "code",
   "execution_count": null,
   "metadata": {},
   "outputs": [],
   "source": []
  },
  {
   "cell_type": "code",
   "execution_count": 89,
   "metadata": {},
   "outputs": [],
   "source": [
    "#plt.scatter(data[0][:,0],data[0][:,1],c=k_means.labels_,cmap='rainbow')\n",
    "#plt.show()"
   ]
  },
  {
   "cell_type": "code",
   "execution_count": 7,
   "metadata": {},
   "outputs": [],
   "source": [
    "CROSS_RATE = 0.45                  # mating probability (DNA crossover)\n",
    "MUTATION_RATE = 0.003              # mutation probability\n",
    "POP_SIZE = 800                     # population size\n",
    "N_GENERATIONS = 9100\n",
    "\n",
    "class GA(object):\n",
    "    def __init__(self, DNA_size, cross_rate, mutation_rate, pop_size, K,data):\n",
    "        self.cross_rate = cross_rate\n",
    "        self.mutate_rate = mutation_rate\n",
    "        self.pop_size = pop_size\n",
    "        self.DNA_size = DNA_size\n",
    "        self.pop = np.random.randint(0,K, size=(pop_size, DNA_size))  \n",
    "        self.data = data\n",
    "        self.K = K\n",
    "\n",
    "    def translateDNA(self, DNA):                 # convert to readable string\n",
    "        return DNA\n",
    "\n",
    "    def compute_d2(self, X, centers):\n",
    "        new=np.zeros((X.shape[0],centers.shape[0]))\n",
    "    \n",
    "        for i in range(len(centers)):\n",
    "            new[:,i]=np.sum((X-centers[i])**2,axis=1)#(X[:,0]-centers[i][0])**2+(X[:,1]-centers[i][1])**2\n",
    "        return new\n",
    "    \n",
    "    def get_fitness(self):                   \n",
    "        result =[]\n",
    "        for i in range(len(self.pop)):\n",
    "            cur = self.pop[i]\n",
    "            combine = np.concatenate((self.data, np.array(cur).reshape(-1,1)), axis=1)\n",
    "            combine = pd.DataFrame(combine)\n",
    "            centers = np.array(combine.groupby(combine.columns[-1])[combine.columns[:-1]].mean().values)\n",
    "            \n",
    "            d_matrix = self.compute_d2(self.data,centers)\n",
    "            WCSS = (np.amin(d_matrix, axis=1)).sum()\n",
    "            result.append(WCSS)\n",
    "        return np.array(result)\n",
    "\n",
    "    def select(self):\n",
    "        fitness = self.get_fitness()      # add a small amount to avoid all zero fitness\n",
    "\n",
    "        inverse_probability = [1/x for x in fitness]\n",
    "\n",
    "        idx = np.random.choice(np.arange(self.pop_size), size=self.pop_size, replace=True, p=inverse_probability/sum(inverse_probability))     \n",
    "        return self.pop[idx]\n",
    "\n",
    "    def crossover(self, parent, pop):\n",
    "        if np.random.rand() < self.cross_rate:\n",
    "            i_ = np.random.randint(0, self.pop_size, size=1)                        # select another individual from pop\n",
    "            cross_points = np.random.randint(0, 2, self.DNA_size).astype(np.bool)   # choose crossover points\n",
    "            parent[cross_points] = pop[i_, cross_points]                            # mating and produce one child\n",
    "        return parent\n",
    "\n",
    "    def mutate(self, child):\n",
    "        for point in range(self.DNA_size):\n",
    "            if np.random.rand() < self.mutate_rate:\n",
    "                child[point] = np.random.randint(0,self.K)  # choose a random ASCII index\n",
    "        return child\n",
    "\n",
    "    def evolve(self):\n",
    "        pop = self.select()\n",
    "        pop_copy = pop.copy()\n",
    "        for parent in pop:  # for every parent\n",
    "            child = self.crossover(parent, pop_copy)\n",
    "            child = self.mutate(child)\n",
    "            parent[:] = child\n",
    "        self.pop = pop\n",
    "\n",
    "\n",
    "ga = GA(DNA_size=len(data[0]),cross_rate=CROSS_RATE,\n",
    "    mutation_rate=MUTATION_RATE, pop_size=POP_SIZE,K=4,data=np.array(data[0]))"
   ]
  },
  {
   "cell_type": "code",
   "execution_count": 90,
   "metadata": {},
   "outputs": [],
   "source": [
    "#for generation in range(N_GENERATIONS):\n",
    " #   fitness = ga.get_fitness()\n",
    " #   best_DNA = ga.pop[np.argmax(fitness)]\n",
    " #   best = ga.translateDNA(best_DNA)\n",
    " #   if generation%3000==0:\n",
    " #       plt.scatter(data[0][:,0],data[0][:,1],c=best,cmap='rainbow')\n",
    " #       plt.show()\n",
    " #   ga.evolve()"
   ]
  },
  {
   "cell_type": "code",
   "execution_count": null,
   "metadata": {},
   "outputs": [],
   "source": []
  },
  {
   "cell_type": "code",
   "execution_count": null,
   "metadata": {},
   "outputs": [],
   "source": []
  },
  {
   "cell_type": "code",
   "execution_count": null,
   "metadata": {},
   "outputs": [],
   "source": []
  },
  {
   "cell_type": "code",
   "execution_count": null,
   "metadata": {},
   "outputs": [],
   "source": []
  },
  {
   "cell_type": "code",
   "execution_count": null,
   "metadata": {},
   "outputs": [],
   "source": []
  }
 ],
 "metadata": {
  "kernelspec": {
   "display_name": "Python 3",
   "language": "python",
   "name": "python3"
  },
  "language_info": {
   "codemirror_mode": {
    "name": "ipython",
    "version": 3
   },
   "file_extension": ".py",
   "mimetype": "text/x-python",
   "name": "python",
   "nbconvert_exporter": "python",
   "pygments_lexer": "ipython3",
   "version": "3.8.3"
  }
 },
 "nbformat": 4,
 "nbformat_minor": 4
}
