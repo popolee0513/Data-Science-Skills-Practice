{
 "cells": [
  {
   "cell_type": "code",
   "execution_count": 1,
   "metadata": {},
   "outputs": [
    {
     "data": {
      "text/html": [
       "<div>\n",
       "<style scoped>\n",
       "    .dataframe tbody tr th:only-of-type {\n",
       "        vertical-align: middle;\n",
       "    }\n",
       "\n",
       "    .dataframe tbody tr th {\n",
       "        vertical-align: top;\n",
       "    }\n",
       "\n",
       "    .dataframe thead th {\n",
       "        text-align: right;\n",
       "    }\n",
       "</style>\n",
       "<table border=\"1\" class=\"dataframe\">\n",
       "  <thead>\n",
       "    <tr style=\"text-align: right;\">\n",
       "      <th></th>\n",
       "      <th>id</th>\n",
       "      <th>credit_limit</th>\n",
       "      <th>gender</th>\n",
       "      <th>education_level</th>\n",
       "      <th>marital_status</th>\n",
       "      <th>age</th>\n",
       "      <th>payment_delay_month4(larger value means longer delay)</th>\n",
       "      <th>payment_delay_month3(larger value means longer delay)</th>\n",
       "      <th>payment_delay_month2(larger value means longer delay)</th>\n",
       "      <th>payment_delay_month1(larger value means longer delay)</th>\n",
       "      <th>bill_amount_month4</th>\n",
       "      <th>bill_amount_month3</th>\n",
       "      <th>bill_amount_month2</th>\n",
       "      <th>bill_amount_month1</th>\n",
       "      <th>previous_payment_month4</th>\n",
       "      <th>previous_payment_month3</th>\n",
       "      <th>previous_payment_month2</th>\n",
       "      <th>previous_payment_month1</th>\n",
       "      <th>label_month5_payment</th>\n",
       "    </tr>\n",
       "  </thead>\n",
       "  <tbody>\n",
       "    <tr>\n",
       "      <th>0</th>\n",
       "      <td>0</td>\n",
       "      <td>75659.32872</td>\n",
       "      <td>M</td>\n",
       "      <td>graduate_school</td>\n",
       "      <td>married</td>\n",
       "      <td>53.0</td>\n",
       "      <td>-1.0</td>\n",
       "      <td>0.0</td>\n",
       "      <td>0.0</td>\n",
       "      <td>0.0</td>\n",
       "      <td>43.673872</td>\n",
       "      <td>97.336043</td>\n",
       "      <td>617.642189</td>\n",
       "      <td>515.513381</td>\n",
       "      <td>97.336043</td>\n",
       "      <td>617.642189</td>\n",
       "      <td>515.513381</td>\n",
       "      <td>0.000000</td>\n",
       "      <td>0</td>\n",
       "    </tr>\n",
       "    <tr>\n",
       "      <th>1</th>\n",
       "      <td>1</td>\n",
       "      <td>10119.28851</td>\n",
       "      <td>F</td>\n",
       "      <td>high_school</td>\n",
       "      <td>married</td>\n",
       "      <td>46.0</td>\n",
       "      <td>0.0</td>\n",
       "      <td>0.0</td>\n",
       "      <td>NaN</td>\n",
       "      <td>1.0</td>\n",
       "      <td>2.378414</td>\n",
       "      <td>217.039935</td>\n",
       "      <td>107.684919</td>\n",
       "      <td>220.712322</td>\n",
       "      <td>209.732445</td>\n",
       "      <td>0.000000</td>\n",
       "      <td>100.594674</td>\n",
       "      <td>22.241495</td>\n",
       "      <td>0</td>\n",
       "    </tr>\n",
       "    <tr>\n",
       "      <th>2</th>\n",
       "      <td>2</td>\n",
       "      <td>13374.80610</td>\n",
       "      <td>F</td>\n",
       "      <td>university</td>\n",
       "      <td>married</td>\n",
       "      <td>31.0</td>\n",
       "      <td>1.0</td>\n",
       "      <td>1.0</td>\n",
       "      <td>1.0</td>\n",
       "      <td>1.0</td>\n",
       "      <td>14301.916330</td>\n",
       "      <td>13506.342420</td>\n",
       "      <td>5892.633733</td>\n",
       "      <td>6291.752821</td>\n",
       "      <td>397.170110</td>\n",
       "      <td>752.120619</td>\n",
       "      <td>397.170110</td>\n",
       "      <td>397.501113</td>\n",
       "      <td>0</td>\n",
       "    </tr>\n",
       "    <tr>\n",
       "      <th>3</th>\n",
       "      <td>3</td>\n",
       "      <td>157744.09660</td>\n",
       "      <td>M</td>\n",
       "      <td>graduate_school</td>\n",
       "      <td>married</td>\n",
       "      <td>34.0</td>\n",
       "      <td>0.0</td>\n",
       "      <td>0.0</td>\n",
       "      <td>0.0</td>\n",
       "      <td>1.0</td>\n",
       "      <td>8154.002723</td>\n",
       "      <td>14278.876050</td>\n",
       "      <td>18234.124720</td>\n",
       "      <td>13042.939540</td>\n",
       "      <td>14368.707270</td>\n",
       "      <td>18400.055470</td>\n",
       "      <td>1547.887184</td>\n",
       "      <td>2.558114</td>\n",
       "      <td>0</td>\n",
       "    </tr>\n",
       "    <tr>\n",
       "      <th>4</th>\n",
       "      <td>5</td>\n",
       "      <td>120385.03030</td>\n",
       "      <td>F</td>\n",
       "      <td>graduate_school</td>\n",
       "      <td>single</td>\n",
       "      <td>29.0</td>\n",
       "      <td>1.0</td>\n",
       "      <td>1.0</td>\n",
       "      <td>1.0</td>\n",
       "      <td>1.0</td>\n",
       "      <td>10575.092340</td>\n",
       "      <td>7130.249304</td>\n",
       "      <td>1572.472869</td>\n",
       "      <td>NaN</td>\n",
       "      <td>193.835523</td>\n",
       "      <td>397.170110</td>\n",
       "      <td>0.000000</td>\n",
       "      <td>1395.861422</td>\n",
       "      <td>0</td>\n",
       "    </tr>\n",
       "  </tbody>\n",
       "</table>\n",
       "</div>"
      ],
      "text/plain": [
       "   id  credit_limit gender  education_level marital_status   age  \\\n",
       "0   0   75659.32872      M  graduate_school        married  53.0   \n",
       "1   1   10119.28851      F      high_school        married  46.0   \n",
       "2   2   13374.80610      F       university        married  31.0   \n",
       "3   3  157744.09660      M  graduate_school        married  34.0   \n",
       "4   5  120385.03030      F  graduate_school         single  29.0   \n",
       "\n",
       "   payment_delay_month4(larger value means longer delay)  \\\n",
       "0                                               -1.0       \n",
       "1                                                0.0       \n",
       "2                                                1.0       \n",
       "3                                                0.0       \n",
       "4                                                1.0       \n",
       "\n",
       "   payment_delay_month3(larger value means longer delay)  \\\n",
       "0                                                0.0       \n",
       "1                                                0.0       \n",
       "2                                                1.0       \n",
       "3                                                0.0       \n",
       "4                                                1.0       \n",
       "\n",
       "   payment_delay_month2(larger value means longer delay)  \\\n",
       "0                                                0.0       \n",
       "1                                                NaN       \n",
       "2                                                1.0       \n",
       "3                                                0.0       \n",
       "4                                                1.0       \n",
       "\n",
       "   payment_delay_month1(larger value means longer delay)  bill_amount_month4  \\\n",
       "0                                                0.0               43.673872   \n",
       "1                                                1.0                2.378414   \n",
       "2                                                1.0            14301.916330   \n",
       "3                                                1.0             8154.002723   \n",
       "4                                                1.0            10575.092340   \n",
       "\n",
       "   bill_amount_month3  bill_amount_month2  bill_amount_month1  \\\n",
       "0           97.336043          617.642189          515.513381   \n",
       "1          217.039935          107.684919          220.712322   \n",
       "2        13506.342420         5892.633733         6291.752821   \n",
       "3        14278.876050        18234.124720        13042.939540   \n",
       "4         7130.249304         1572.472869                 NaN   \n",
       "\n",
       "   previous_payment_month4  previous_payment_month3  previous_payment_month2  \\\n",
       "0                97.336043               617.642189               515.513381   \n",
       "1               209.732445                 0.000000               100.594674   \n",
       "2               397.170110               752.120619               397.170110   \n",
       "3             14368.707270             18400.055470              1547.887184   \n",
       "4               193.835523               397.170110                 0.000000   \n",
       "\n",
       "   previous_payment_month1  label_month5_payment  \n",
       "0                 0.000000                     0  \n",
       "1                22.241495                     0  \n",
       "2               397.501113                     0  \n",
       "3                 2.558114                     0  \n",
       "4              1395.861422                     0  "
      ]
     },
     "execution_count": 1,
     "metadata": {},
     "output_type": "execute_result"
    }
   ],
   "source": [
    "import pandas as pd\n",
    "import seaborn as sns\n",
    "train=pd.read_csv(\"train.csv\")\n",
    "test=pd.read_csv(\"test.csv\")\n",
    "train.head()"
   ]
  },
  {
   "cell_type": "code",
   "execution_count": 2,
   "metadata": {},
   "outputs": [
    {
     "data": {
      "text/plain": [
       "<AxesSubplot:xlabel='age'>"
      ]
     },
     "execution_count": 2,
     "metadata": {},
     "output_type": "execute_result"
    },
    {
     "data": {
      "image/png": "[encoded data removed]",
      "text/plain": [
       "<Figure size 720x432 with 1 Axes>"
      ]
     },
     "metadata": {
      "needs_background": "light"
     },
     "output_type": "display_data"
    }
   ],
   "source": [
    "import matplotlib.pyplot as plt\n",
    "#It seems that whether label_month5_payment is 0 or 1 is not very different in age\n",
    "fig, axe = plt.subplots(figsize=(10, 6))\n",
    "sns.set_style(\"darkgrid\")\n",
    "sns.distplot(train[train[\"label_month5_payment\"]==0]['age'] , ax=axe, color='lightgreen')\n",
    "sns.distplot(train[train[\"label_month5_payment\"]==1]['age'] , ax=axe, color='pink')"
   ]
  },
  {
   "cell_type": "code",
   "execution_count": 3,
   "metadata": {},
   "outputs": [
    {
     "data": {
      "text/plain": [
       "0    18089\n",
       "1     2560\n",
       "Name: label_month5_payment, dtype: int64"
      ]
     },
     "execution_count": 3,
     "metadata": {},
     "output_type": "execute_result"
    }
   ],
   "source": [
    "#from the result,we can know that it is a imblanced dataset\n",
    "pd.value_counts(train[\"label_month5_payment\"])"
   ]
  },
  {
   "cell_type": "code",
   "execution_count": 4,
   "metadata": {},
   "outputs": [
    {
     "data": {
      "text/plain": [
       "count    20508.000000\n",
       "mean        35.701287\n",
       "std         12.450595\n",
       "min          0.000000\n",
       "25%         28.000000\n",
       "50%         34.000000\n",
       "75%         41.000000\n",
       "max        255.000000\n",
       "Name: age, dtype: float64"
      ]
     },
     "execution_count": 4,
     "metadata": {},
     "output_type": "execute_result"
    }
   ],
   "source": [
    "#We can find that the maximum age of this data is 255 which is not reasonable so we need to remove it before building the model.\n",
    "train[\"age\"].describe() #the min age is also strange"
   ]
  },
  {
   "cell_type": "code",
   "execution_count": 5,
   "metadata": {},
   "outputs": [
    {
     "name": "stdout",
     "output_type": "stream",
     "text": [
      "gender\n",
      "F    0.115431\n",
      "M    0.136499\n",
      "Name: label_month5_payment, dtype: float64\n"
     ]
    },
    {
     "data": {
      "image/png": "[encoded data removed]",
      "text/plain": [
       "<Figure size 432x288 with 1 Axes>"
      ]
     },
     "metadata": {},
     "output_type": "display_data"
    }
   ],
   "source": [
    "import seaborn as sns\n",
    "sns.barplot(x ='gender',y=\"label_month5_payment\", data = train) \n",
    "print(train.groupby(\"gender\")[\"label_month5_payment\"].mean())\n",
    "#more likely to delay on label_month5_payment: Men"
   ]
  },
  {
   "cell_type": "code",
   "execution_count": 6,
   "metadata": {},
   "outputs": [
    {
     "name": "stdout",
     "output_type": "stream",
     "text": [
      "university         9459\n",
      "graduate_school    7316\n",
      "high_school        3273\n",
      "unknown             245\n",
      "others               95\n",
      "unviersity           33\n",
      "0                    10\n",
      "Name: education_level, dtype: int64\n"
     ]
    },
    {
     "data": {
      "text/plain": [
       "<AxesSubplot:xlabel='education_level', ylabel='label_month5_payment'>"
      ]
     },
     "execution_count": 6,
     "metadata": {},
     "output_type": "execute_result"
    },
    {
     "data": {
      "image/png": "[encoded data removed]",
      "text/plain": [
       "<Figure size 720x432 with 1 Axes>"
      ]
     },
     "metadata": {},
     "output_type": "display_data"
    }
   ],
   "source": [
    "fig, axe = plt.subplots(figsize=(10, 6))\n",
    "print(pd.value_counts(train[\"education_level\"]))\n",
    "train[\"education_level\"]=train[\"education_level\"].replace(\"0\",\"unknown\")\n",
    "test[\"education_level\"]=test[\"education_level\"].replace(\"0\",\"unknown\")\n",
    "train[\"education_level\"]=train[\"education_level\"].replace(\"unviersity\",\"university\")\n",
    "test[\"education_level\"]=test[\"education_level\"].replace(\"unviersity\",\"university\")\n",
    "sns.barplot(x=\"education_level\", y=\"label_month5_payment\", data=train)"
   ]
  },
  {
   "cell_type": "code",
   "execution_count": 7,
   "metadata": {},
   "outputs": [
    {
     "name": "stdout",
     "output_type": "stream",
     "text": [
      "single     10985\n",
      "married     9272\n",
      "others       211\n",
      "0             42\n",
      "Name: marital_status, dtype: int64\n"
     ]
    },
    {
     "data": {
      "text/plain": [
       "<AxesSubplot:xlabel='marital_status', ylabel='label_month5_payment'>"
      ]
     },
     "execution_count": 7,
     "metadata": {},
     "output_type": "execute_result"
    },
    {
     "data": {
      "image/png": "[encoded data removed]",
      "text/plain": [
       "<Figure size 720x432 with 1 Axes>"
      ]
     },
     "metadata": {},
     "output_type": "display_data"
    }
   ],
   "source": [
    "fig, axe = plt.subplots(figsize=(10, 6))\n",
    "print(pd.value_counts(train[\"marital_status\"]))\n",
    "train[\"marital_status\"]=train[\"marital_status\"].replace(\"0\",\"others\")\n",
    "test[\"marital_status\"]=test[\"marital_status\"].replace(\"0\",\"others\")\n",
    "sns.barplot(x=\"marital_status\", y=\"label_month5_payment\", data=train)"
   ]
  },
  {
   "cell_type": "code",
   "execution_count": 8,
   "metadata": {},
   "outputs": [
    {
     "data": {
      "text/plain": [
       "education_level\n",
       "graduate_school    89471.729849\n",
       "high_school        50319.787021\n",
       "others             91779.828130\n",
       "university         58977.542110\n",
       "unknown            64268.998806\n",
       "Name: credit_limit, dtype: float64"
      ]
     },
     "execution_count": 8,
     "metadata": {},
     "output_type": "execute_result"
    }
   ],
   "source": [
    "#correspond to my intuition \n",
    "train.groupby(\"education_level\")[\"credit_limit\"].mean()"
   ]
  },
  {
   "cell_type": "code",
   "execution_count": 9,
   "metadata": {},
   "outputs": [
    {
     "name": "stdout",
     "output_type": "stream",
     "text": [
      "0.0\n",
      "255.0\n"
     ]
    },
    {
     "data": {
      "image/png": "[encoded data removed]",
      "text/plain": [
       "<Figure size 432x288 with 1 Axes>"
      ]
     },
     "metadata": {},
     "output_type": "display_data"
    }
   ],
   "source": [
    "sns.scatterplot(x='age', y='credit_limit', data=train)\n",
    "print(train[\"age\"].min())\n",
    "print(train[\"age\"].max())\n",
    "import numpy as np\n",
    "train[\"age\"]=train[\"age\"].replace(0.0, np.NaN)\n",
    "test[\"age\"]=test[\"age\"].replace(0.0, np.NaN)\n",
    "train[\"age\"]=train[\"age\"].replace(255.0, np.NaN)\n",
    "test[\"age\"]=test[\"age\"].replace(255.0, np.NaN)"
   ]
  },
  {
   "cell_type": "code",
   "execution_count": 10,
   "metadata": {},
   "outputs": [
    {
     "data": {
      "text/plain": [
       "<AxesSubplot:xlabel='age', ylabel='credit_limit'>"
      ]
     },
     "execution_count": 10,
     "metadata": {},
     "output_type": "execute_result"
    },
    {
     "data": {
      "image/png": "[encoded data removed]",
      "text/plain": [
       "<Figure size 432x288 with 1 Axes>"
      ]
     },
     "metadata": {},
     "output_type": "display_data"
    }
   ],
   "source": [
    "#bigger age does not imply bigger credit amount\n",
    "sns.scatterplot(x='age', y='credit_limit', data=train)"
   ]
  },
  {
   "cell_type": "code",
   "execution_count": 11,
   "metadata": {},
   "outputs": [
    {
     "data": {
      "text/plain": [
       "Index(['id', 'credit_limit', 'gender', 'education_level', 'marital_status',\n",
       "       'age', 'payment_delay_month4(larger value means longer delay)',\n",
       "       'payment_delay_month3(larger value means longer delay)',\n",
       "       'payment_delay_month2(larger value means longer delay)',\n",
       "       'payment_delay_month1(larger value means longer delay)',\n",
       "       'bill_amount_month4', 'bill_amount_month3', 'bill_amount_month2',\n",
       "       'bill_amount_month1', 'previous_payment_month4',\n",
       "       'previous_payment_month3', 'previous_payment_month2',\n",
       "       'previous_payment_month1', 'label_month5_payment'],\n",
       "      dtype='object')"
      ]
     },
     "execution_count": 11,
     "metadata": {},
     "output_type": "execute_result"
    }
   ],
   "source": [
    "#train[train.columns[1:]].corr()\n",
    "train.columns"
   ]
  },
  {
   "cell_type": "code",
   "execution_count": 12,
   "metadata": {},
   "outputs": [
    {
     "name": "stdout",
     "output_type": "stream",
     "text": [
      "Top Absolute Correlations\n",
      "bill_amount_month4                                     bill_amount_month3                                       0.951159\n",
      "bill_amount_month3                                     bill_amount_month2                                       0.939229\n",
      "bill_amount_month2                                     bill_amount_month1                                       0.933521\n",
      "bill_amount_month4                                     bill_amount_month2                                       0.903926\n",
      "bill_amount_month3                                     bill_amount_month1                                       0.892756\n",
      "bill_amount_month4                                     bill_amount_month1                                       0.861518\n",
      "payment_delay_month2(larger value means longer delay)  payment_delay_month1(larger value means longer delay)    0.765796\n",
      "payment_delay_month3(larger value means longer delay)  payment_delay_month2(larger value means longer delay)    0.757512\n",
      "payment_delay_month4(larger value means longer delay)  payment_delay_month3(larger value means longer delay)    0.661236\n",
      "payment_delay_month3(larger value means longer delay)  payment_delay_month1(larger value means longer delay)    0.653177\n",
      "dtype: float64\n"
     ]
    }
   ],
   "source": [
    "def get_redundant_pairs(df):\n",
    "    '''Get diagonal and lower triangular pairs of correlation matrix'''\n",
    "    pairs_to_drop = set()\n",
    "    cols = df.columns\n",
    "    for i in range(0, df.shape[1]):\n",
    "        for j in range(0, i+1):\n",
    "            pairs_to_drop.add((cols[i], cols[j]))\n",
    "    return pairs_to_drop\n",
    "\n",
    "def get_top_abs_correlations(df, n=5):\n",
    "    au_corr = df.corr().abs().unstack()\n",
    "    labels_to_drop = get_redundant_pairs(df)\n",
    "    au_corr = au_corr.drop(labels=labels_to_drop).sort_values(ascending=False)\n",
    "    return au_corr[0:n]\n",
    "#It seems that some columns are highly correlated\n",
    "print(\"Top Absolute Correlations\")\n",
    "print(get_top_abs_correlations(train[train[train.columns[1:]].corr().columns],10))"
   ]
  },
  {
   "cell_type": "code",
   "execution_count": 13,
   "metadata": {},
   "outputs": [
    {
     "data": {
      "text/html": [
       "<div>\n",
       "<style scoped>\n",
       "    .dataframe tbody tr th:only-of-type {\n",
       "        vertical-align: middle;\n",
       "    }\n",
       "\n",
       "    .dataframe tbody tr th {\n",
       "        vertical-align: top;\n",
       "    }\n",
       "\n",
       "    .dataframe thead th {\n",
       "        text-align: right;\n",
       "    }\n",
       "</style>\n",
       "<table border=\"1\" class=\"dataframe\">\n",
       "  <thead>\n",
       "    <tr style=\"text-align: right;\">\n",
       "      <th></th>\n",
       "      <th>bill_amount_month3</th>\n",
       "      <th>previous_payment_month4</th>\n",
       "    </tr>\n",
       "  </thead>\n",
       "  <tbody>\n",
       "    <tr>\n",
       "      <th>bill_amount_month3</th>\n",
       "      <td>1.000000</td>\n",
       "      <td>0.213591</td>\n",
       "    </tr>\n",
       "    <tr>\n",
       "      <th>previous_payment_month4</th>\n",
       "      <td>0.213591</td>\n",
       "      <td>1.000000</td>\n",
       "    </tr>\n",
       "  </tbody>\n",
       "</table>\n",
       "</div>"
      ],
      "text/plain": [
       "                         bill_amount_month3  previous_payment_month4\n",
       "bill_amount_month3                 1.000000                 0.213591\n",
       "previous_payment_month4            0.213591                 1.000000"
      ]
     },
     "execution_count": 13,
     "metadata": {},
     "output_type": "execute_result"
    }
   ],
   "source": [
    "train[[\"bill_amount_month3\",\"previous_payment_month4\"]].corr()"
   ]
  },
  {
   "cell_type": "code",
   "execution_count": 14,
   "metadata": {},
   "outputs": [],
   "source": [
    "highly_correlated=[\"bill_amount_month4\",\"bill_amount_month3\",\"bill_amount_month2\",\"bill_amount_month1\"\n",
    "                  ,\"payment_delay_month4(larger value means longer delay)\"\n",
    "                  ,\"payment_delay_month3(larger value means longer delay)\"\n",
    "                  ,\"payment_delay_month2(larger value means longer delay)\"\n",
    "                  ,\"payment_delay_month1(larger value means longer delay)\"]"
   ]
  },
  {
   "cell_type": "code",
   "execution_count": 15,
   "metadata": {},
   "outputs": [
    {
     "data": {
      "text/plain": [
       "id                                                         0\n",
       "credit_limit                                               0\n",
       "gender                                                   156\n",
       "education_level                                          218\n",
       "marital_status                                           139\n",
       "age                                                      217\n",
       "payment_delay_month4(larger value means longer delay)     58\n",
       "payment_delay_month3(larger value means longer delay)     73\n",
       "payment_delay_month2(larger value means longer delay)     19\n",
       "payment_delay_month1(larger value means longer delay)     62\n",
       "bill_amount_month4                                       449\n",
       "bill_amount_month3                                       515\n",
       "bill_amount_month2                                       577\n",
       "bill_amount_month1                                       507\n",
       "previous_payment_month4                                   40\n",
       "previous_payment_month3                                   30\n",
       "previous_payment_month2                                   65\n",
       "previous_payment_month1                                   20\n",
       "label_month5_payment                                       0\n",
       "dtype: int64"
      ]
     },
     "execution_count": 15,
     "metadata": {},
     "output_type": "execute_result"
    }
   ],
   "source": [
    "train.isnull().sum()"
   ]
  },
  {
   "cell_type": "code",
   "execution_count": 16,
   "metadata": {},
   "outputs": [
    {
     "name": "stdout",
     "output_type": "stream",
     "text": [
      "(20649, 19)\n",
      "(3000, 19)\n",
      "(23649, 18)\n"
     ]
    }
   ],
   "source": [
    "y_train=train[\"label_month5_payment\"]\n",
    "print(train.shape)\n",
    "print(test.shape)\n",
    "data=pd.concat([train.drop(\"label_month5_payment\",axis=1),test.drop(\"label_month5_payment\",axis=1)],axis=0)\n",
    "print(data.shape)"
   ]
  },
  {
   "cell_type": "code",
   "execution_count": 17,
   "metadata": {},
   "outputs": [
    {
     "name": "stdout",
     "output_type": "stream",
     "text": [
      "F\n",
      "university\n",
      "single\n"
     ]
    }
   ],
   "source": [
    "print(data[\"gender\"].mode().values[0])\n",
    "print(data[\"education_level\"].mode().values[0])\n",
    "print(data[\"marital_status\"].mode().values[0])\n",
    "data[\"gender\"]=data[\"gender\"].fillna(data[\"gender\"].mode().values[0])\n",
    "data[\"education_level\"]=data[\"education_level\"].fillna(data[\"education_level\"].mode().values[0])\n",
    "data[\"marital_status\"]=data[\"marital_status\"].fillna(data[\"marital_status\"].mode().values[0])"
   ]
  },
  {
   "cell_type": "code",
   "execution_count": 18,
   "metadata": {},
   "outputs": [
    {
     "data": {
      "text/plain": [
       "id                                                         0\n",
       "credit_limit                                               0\n",
       "gender                                                     0\n",
       "education_level                                            0\n",
       "marital_status                                             0\n",
       "age                                                      234\n",
       "payment_delay_month4(larger value means longer delay)     72\n",
       "payment_delay_month3(larger value means longer delay)     84\n",
       "payment_delay_month2(larger value means longer delay)     24\n",
       "payment_delay_month1(larger value means longer delay)     75\n",
       "bill_amount_month4                                       519\n",
       "bill_amount_month3                                       590\n",
       "bill_amount_month2                                       649\n",
       "bill_amount_month1                                       574\n",
       "previous_payment_month4                                   48\n",
       "previous_payment_month3                                   36\n",
       "previous_payment_month2                                   72\n",
       "previous_payment_month1                                   23\n",
       "dtype: int64"
      ]
     },
     "execution_count": 18,
     "metadata": {},
     "output_type": "execute_result"
    }
   ],
   "source": [
    "data.isnull().sum()"
   ]
  },
  {
   "cell_type": "code",
   "execution_count": 19,
   "metadata": {},
   "outputs": [
    {
     "data": {
      "text/html": [
       "<div>\n",
       "<style scoped>\n",
       "    .dataframe tbody tr th:only-of-type {\n",
       "        vertical-align: middle;\n",
       "    }\n",
       "\n",
       "    .dataframe tbody tr th {\n",
       "        vertical-align: top;\n",
       "    }\n",
       "\n",
       "    .dataframe thead th {\n",
       "        text-align: right;\n",
       "    }\n",
       "</style>\n",
       "<table border=\"1\" class=\"dataframe\">\n",
       "  <thead>\n",
       "    <tr style=\"text-align: right;\">\n",
       "      <th></th>\n",
       "      <th>credit_limit</th>\n",
       "      <th>age</th>\n",
       "      <th>payment_delay_month4(larger value means longer delay)</th>\n",
       "      <th>payment_delay_month3(larger value means longer delay)</th>\n",
       "      <th>payment_delay_month2(larger value means longer delay)</th>\n",
       "      <th>payment_delay_month1(larger value means longer delay)</th>\n",
       "      <th>bill_amount_month4</th>\n",
       "      <th>bill_amount_month3</th>\n",
       "      <th>bill_amount_month2</th>\n",
       "      <th>bill_amount_month1</th>\n",
       "      <th>previous_payment_month4</th>\n",
       "      <th>previous_payment_month3</th>\n",
       "      <th>previous_payment_month2</th>\n",
       "      <th>previous_payment_month1</th>\n",
       "    </tr>\n",
       "  </thead>\n",
       "  <tbody>\n",
       "    <tr>\n",
       "      <th>0</th>\n",
       "      <td>75659.32872</td>\n",
       "      <td>53.0</td>\n",
       "      <td>-1.0</td>\n",
       "      <td>0.0</td>\n",
       "      <td>0.0</td>\n",
       "      <td>0.0</td>\n",
       "      <td>43.673872</td>\n",
       "      <td>97.336043</td>\n",
       "      <td>617.642189</td>\n",
       "      <td>515.513381</td>\n",
       "      <td>97.336043</td>\n",
       "      <td>617.642189</td>\n",
       "      <td>515.513381</td>\n",
       "      <td>0.000000</td>\n",
       "    </tr>\n",
       "    <tr>\n",
       "      <th>1</th>\n",
       "      <td>10119.28851</td>\n",
       "      <td>46.0</td>\n",
       "      <td>0.0</td>\n",
       "      <td>0.0</td>\n",
       "      <td>1.0</td>\n",
       "      <td>1.0</td>\n",
       "      <td>2.378414</td>\n",
       "      <td>217.039935</td>\n",
       "      <td>107.684919</td>\n",
       "      <td>220.712322</td>\n",
       "      <td>209.732445</td>\n",
       "      <td>0.000000</td>\n",
       "      <td>100.594674</td>\n",
       "      <td>22.241495</td>\n",
       "    </tr>\n",
       "    <tr>\n",
       "      <th>2</th>\n",
       "      <td>13374.80610</td>\n",
       "      <td>31.0</td>\n",
       "      <td>1.0</td>\n",
       "      <td>1.0</td>\n",
       "      <td>1.0</td>\n",
       "      <td>1.0</td>\n",
       "      <td>14301.916330</td>\n",
       "      <td>13506.342420</td>\n",
       "      <td>5892.633733</td>\n",
       "      <td>6291.752821</td>\n",
       "      <td>397.170110</td>\n",
       "      <td>752.120619</td>\n",
       "      <td>397.170110</td>\n",
       "      <td>397.501113</td>\n",
       "    </tr>\n",
       "    <tr>\n",
       "      <th>3</th>\n",
       "      <td>157744.09660</td>\n",
       "      <td>34.0</td>\n",
       "      <td>0.0</td>\n",
       "      <td>0.0</td>\n",
       "      <td>0.0</td>\n",
       "      <td>1.0</td>\n",
       "      <td>8154.002723</td>\n",
       "      <td>14278.876050</td>\n",
       "      <td>18234.124720</td>\n",
       "      <td>13042.939540</td>\n",
       "      <td>14368.707270</td>\n",
       "      <td>18400.055470</td>\n",
       "      <td>1547.887184</td>\n",
       "      <td>2.558114</td>\n",
       "    </tr>\n",
       "    <tr>\n",
       "      <th>4</th>\n",
       "      <td>120385.03030</td>\n",
       "      <td>29.0</td>\n",
       "      <td>1.0</td>\n",
       "      <td>1.0</td>\n",
       "      <td>1.0</td>\n",
       "      <td>1.0</td>\n",
       "      <td>10575.092340</td>\n",
       "      <td>7130.249304</td>\n",
       "      <td>1572.472869</td>\n",
       "      <td>706.473134</td>\n",
       "      <td>193.835523</td>\n",
       "      <td>397.170110</td>\n",
       "      <td>0.000000</td>\n",
       "      <td>1395.861422</td>\n",
       "    </tr>\n",
       "  </tbody>\n",
       "</table>\n",
       "</div>"
      ],
      "text/plain": [
       "   credit_limit   age  payment_delay_month4(larger value means longer delay)  \\\n",
       "0   75659.32872  53.0                                               -1.0       \n",
       "1   10119.28851  46.0                                                0.0       \n",
       "2   13374.80610  31.0                                                1.0       \n",
       "3  157744.09660  34.0                                                0.0       \n",
       "4  120385.03030  29.0                                                1.0       \n",
       "\n",
       "   payment_delay_month3(larger value means longer delay)  \\\n",
       "0                                                0.0       \n",
       "1                                                0.0       \n",
       "2                                                1.0       \n",
       "3                                                0.0       \n",
       "4                                                1.0       \n",
       "\n",
       "   payment_delay_month2(larger value means longer delay)  \\\n",
       "0                                                0.0       \n",
       "1                                                1.0       \n",
       "2                                                1.0       \n",
       "3                                                0.0       \n",
       "4                                                1.0       \n",
       "\n",
       "   payment_delay_month1(larger value means longer delay)  bill_amount_month4  \\\n",
       "0                                                0.0               43.673872   \n",
       "1                                                1.0                2.378414   \n",
       "2                                                1.0            14301.916330   \n",
       "3                                                1.0             8154.002723   \n",
       "4                                                1.0            10575.092340   \n",
       "\n",
       "   bill_amount_month3  bill_amount_month2  bill_amount_month1  \\\n",
       "0           97.336043          617.642189          515.513381   \n",
       "1          217.039935          107.684919          220.712322   \n",
       "2        13506.342420         5892.633733         6291.752821   \n",
       "3        14278.876050        18234.124720        13042.939540   \n",
       "4         7130.249304         1572.472869          706.473134   \n",
       "\n",
       "   previous_payment_month4  previous_payment_month3  previous_payment_month2  \\\n",
       "0                97.336043               617.642189               515.513381   \n",
       "1               209.732445                 0.000000               100.594674   \n",
       "2               397.170110               752.120619               397.170110   \n",
       "3             14368.707270             18400.055470              1547.887184   \n",
       "4               193.835523               397.170110                 0.000000   \n",
       "\n",
       "   previous_payment_month1  \n",
       "0                 0.000000  \n",
       "1                22.241495  \n",
       "2               397.501113  \n",
       "3                 2.558114  \n",
       "4              1395.861422  "
      ]
     },
     "execution_count": 19,
     "metadata": {},
     "output_type": "execute_result"
    }
   ],
   "source": [
    "from sklearn.impute import KNNImputer\n",
    "imputer = KNNImputer(n_neighbors=3, weights='uniform', metric='nan_euclidean')\n",
    "columns=[\"credit_limit\"]+list(data.columns[5:].values)\n",
    "temp = imputer.fit_transform(data[columns])\n",
    "temp=pd.DataFrame(temp)\n",
    "temp.columns=columns\n",
    "temp.head()"
   ]
  },
  {
   "cell_type": "code",
   "execution_count": 20,
   "metadata": {},
   "outputs": [
    {
     "name": "stdout",
     "output_type": "stream",
     "text": [
      "(23649, 18)\n"
     ]
    }
   ],
   "source": [
    "new=data[[\"id\",\"gender\",\"education_level\",\"marital_status\"]]\n",
    "new.index=list(range(len(new)))\n",
    "df=pd.concat([new,temp],axis=1)\n",
    "print(df.shape)"
   ]
  },
  {
   "cell_type": "code",
   "execution_count": 21,
   "metadata": {},
   "outputs": [
    {
     "data": {
      "text/plain": [
       "['bill_amount_month4',\n",
       " 'bill_amount_month3',\n",
       " 'bill_amount_month2',\n",
       " 'bill_amount_month1',\n",
       " 'payment_delay_month4(larger value means longer delay)',\n",
       " 'payment_delay_month3(larger value means longer delay)',\n",
       " 'payment_delay_month2(larger value means longer delay)',\n",
       " 'payment_delay_month1(larger value means longer delay)']"
      ]
     },
     "execution_count": 21,
     "metadata": {},
     "output_type": "execute_result"
    }
   ],
   "source": [
    "highly_correlated"
   ]
  },
  {
   "cell_type": "code",
   "execution_count": 22,
   "metadata": {},
   "outputs": [],
   "source": [
    "from sklearn.decomposition import TruncatedSVD\n",
    "n_components = 1\n",
    "tsvd = TruncatedSVD(n_components=n_components)\n",
    "tsvd_result = tsvd.fit_transform(df[highly_correlated])"
   ]
  },
  {
   "cell_type": "code",
   "execution_count": 23,
   "metadata": {},
   "outputs": [
    {
     "name": "stdout",
     "output_type": "stream",
     "text": [
      "(23649, 1)\n",
      "0.9245505171484898\n"
     ]
    }
   ],
   "source": [
    "print(tsvd_result.shape)\n",
    "print(tsvd.explained_variance_ratio_.sum())"
   ]
  },
  {
   "cell_type": "code",
   "execution_count": 24,
   "metadata": {},
   "outputs": [],
   "source": [
    "df=df.drop(highly_correlated,axis=1)\n",
    "df[\"svd\"]=tsvd_result"
   ]
  },
  {
   "cell_type": "code",
   "execution_count": 25,
   "metadata": {},
   "outputs": [],
   "source": [
    "df.drop(\"id\",axis=1,inplace=True)"
   ]
  },
  {
   "cell_type": "code",
   "execution_count": 26,
   "metadata": {},
   "outputs": [
    {
     "data": {
      "text/plain": [
       "Index(['gender', 'education_level', 'marital_status'], dtype='object')"
      ]
     },
     "execution_count": 26,
     "metadata": {},
     "output_type": "execute_result"
    }
   ],
   "source": [
    "df.columns[:3]"
   ]
  },
  {
   "cell_type": "code",
   "execution_count": 27,
   "metadata": {},
   "outputs": [],
   "source": [
    "df=pd.concat([pd.get_dummies(df[df.columns[:3]]),df.drop(df.columns[:3],axis=1)],axis=1)"
   ]
  },
  {
   "cell_type": "code",
   "execution_count": 28,
   "metadata": {},
   "outputs": [
    {
     "name": "stdout",
     "output_type": "stream",
     "text": [
      "(20649, 17) (3000, 17)\n"
     ]
    }
   ],
   "source": [
    "train=df[:train.shape[0]]\n",
    "test=df[train.shape[0]:]\n",
    "print(train.shape,test.shape)"
   ]
  },
  {
   "cell_type": "code",
   "execution_count": 29,
   "metadata": {},
   "outputs": [
    {
     "name": "stdout",
     "output_type": "stream",
     "text": [
      "Requirement already satisfied: xgboost in c:\\users\\tatungss\\anaconda3\\envs\\django\\lib\\site-packages (1.2.0)\n",
      "Requirement already satisfied: scipy in c:\\users\\tatungss\\anaconda3\\envs\\django\\lib\\site-packages (from xgboost) (1.5.2)\n",
      "Requirement already satisfied: numpy in c:\\users\\tatungss\\anaconda3\\envs\\django\\lib\\site-packages (from xgboost) (1.19.1)\n"
     ]
    }
   ],
   "source": [
    "from sklearn.ensemble import RandomForestClassifier\n",
    "!pip install xgboost\n",
    "import xgboost as xgb\n",
    "from sklearn.model_selection import train_test_split\n",
    "from sklearn.metrics import accuracy_score"
   ]
  },
  {
   "cell_type": "code",
   "execution_count": 30,
   "metadata": {},
   "outputs": [],
   "source": [
    "X_train, X_test, y_train1, y_test = train_test_split(train, y_train, test_size=0.2, random_state=1,stratify=y_train,shuffle=True)"
   ]
  },
  {
   "cell_type": "code",
   "execution_count": null,
   "metadata": {},
   "outputs": [],
   "source": [
    "xlf = xgb.XGBClassifier(max_depth=8,\n",
    "\t\t\tlearning_rate=0.005,\n",
    "\t\t\tn_estimators=3000,\n",
    "\t\t\tobjective='binary:logistic',\n",
    "\t\t\tnthread=-1,\n",
    "\t\t\tgamma=0,\n",
    "\t\t\treg_alpha=0.2,\n",
    "            reg_lambda=0.2,            \n",
    "\t\t\tseed=1440,\n",
    "\t\t\tmissing=None)\n",
    "\n",
    "xlf.fit(X_train, y_train1)"
   ]
  },
  {
   "cell_type": "code",
   "execution_count": null,
   "metadata": {},
   "outputs": [],
   "source": [
    "y_pred = xlf.predict(X_test)\n",
    "y_train_pred=xlf.predict(X_train)\n",
    "print('Accuracy (forest): %.5f' % accuracy_score(y_train1, y_train_pred))\n",
    "print('Accuracy (forest): %.5f' % accuracy_score(y_test, y_pred))"
   ]
  },
  {
   "cell_type": "code",
   "execution_count": null,
   "metadata": {},
   "outputs": [],
   "source": [
    "from plot import plot_confusion_matrix\n",
    "from sklearn.metrics import confusion_matrix"
   ]
  },
  {
   "cell_type": "code",
   "execution_count": null,
   "metadata": {},
   "outputs": [],
   "source": [
    "conf_forest = confusion_matrix(y_test, y_pred)\n",
    "plot_confusion_matrix(conf_forest, [0,1],title=\"Forest\"+\"Confusion Matrix plot\", cmap=plt.cm.Reds)"
   ]
  },
  {
   "cell_type": "code",
   "execution_count": null,
   "metadata": {},
   "outputs": [],
   "source": [
    "from sklearn.metrics import roc_auc_score\n",
    "roc_auc_score(y_test, y_pred)"
   ]
  },
  {
   "cell_type": "code",
   "execution_count": null,
   "metadata": {},
   "outputs": [],
   "source": [
    "#y_pred"
   ]
  },
  {
   "cell_type": "code",
   "execution_count": null,
   "metadata": {},
   "outputs": [],
   "source": [
    "ans=[]\n",
    "for i in np.arange(0,1,0.01):\n",
    "    y_pred=np.where(xlf.predict_proba(X_test)[:,1]>=i, 1,0)\n",
    "    ans.append(roc_auc_score(y_test, y_pred))"
   ]
  },
  {
   "cell_type": "code",
   "execution_count": null,
   "metadata": {},
   "outputs": [],
   "source": [
    "i=np.argmax(ans)\n",
    "print(ans[i],np.arange(0,1,0.01)[i])"
   ]
  },
  {
   "cell_type": "code",
   "execution_count": null,
   "metadata": {},
   "outputs": [],
   "source": [
    "y_pred=np.where(xlf.predict_proba(X_test)[:,1]>=np.arange(0,1,0.01)[i],1,0)\n",
    "roc_auc_score(y_test, y_pred)"
   ]
  },
  {
   "cell_type": "markdown",
   "metadata": {},
   "source": [
    "# 根據不同的應用來調整不同的threshold\n",
    "分別去計算不同類型誤判的損失，選擇可以給出最低損失的threshold"
   ]
  },
  {
   "cell_type": "code",
   "execution_count": null,
   "metadata": {},
   "outputs": [],
   "source": [
    "testID=pd.read_csv(\"test.csv\")\n",
    "testID=pd.DataFrame(testID[\"id\"])"
   ]
  },
  {
   "cell_type": "code",
   "execution_count": null,
   "metadata": {},
   "outputs": [],
   "source": [
    "testID[\"predict\"]=xlf.predict(test)"
   ]
  },
  {
   "cell_type": "code",
   "execution_count": null,
   "metadata": {},
   "outputs": [],
   "source": [
    "testID.head()"
   ]
  },
  {
   "cell_type": "code",
   "execution_count": null,
   "metadata": {},
   "outputs": [],
   "source": [
    "pd.value_counts(testID[\"predict\"])"
   ]
  },
  {
   "cell_type": "code",
   "execution_count": null,
   "metadata": {},
   "outputs": [],
   "source": [
    "testID=testID.set_index(\"id\")\n",
    "testID.to_csv(\"final.csv\")"
   ]
  },
  {
   "cell_type": "code",
   "execution_count": null,
   "metadata": {},
   "outputs": [],
   "source": []
  }
 ],
 "metadata": {
  "kernelspec": {
   "display_name": "Python 3",
   "language": "python",
   "name": "python3"
  },
  "language_info": {
   "codemirror_mode": {
    "name": "ipython",
    "version": 3
   },
   "file_extension": ".py",
   "mimetype": "text/x-python",
   "name": "python",
   "nbconvert_exporter": "python",
   "pygments_lexer": "ipython3",
   "version": "3.7.7"
  }
 },
 "nbformat": 4,
 "nbformat_minor": 4
}
