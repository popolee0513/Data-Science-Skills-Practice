{
 "cells": [
  {
   "cell_type": "markdown",
   "metadata": {},
   "source": [
    "# Implementation of Logistic Regression from Scratch\n",
    "\n",
    "Just like we learned how to implement linear regression from scratch, it is very instructive to do the same for logistic regression. We begin with our regular import ritual."
   ]
  },
  {
   "cell_type": "code",
   "execution_count": 1,
   "metadata": {},
   "outputs": [],
   "source": [
    "import os\n",
    "import sys\n",
    "import random\n",
    "%matplotlib inline\n",
    "\n",
    "from sklearn.datasets.samples_generator import make_blobs, make_moons, make_circles\n",
    "from sklearn.model_selection import train_test_split\n",
    "import numpy as np\n",
    "np.seterr(all='raise')\n",
    "np.random.seed(0)\n",
    "import matplotlib.pyplot as plt\n",
    "import matplotlib.animation as animation\n",
    "from mpl_toolkits.mplot3d.axes3d import Axes3D\n",
    "plt.style.use('classic')\n",
    "\n",
    "from IPython.display import HTML"
   ]
  },
  {
   "cell_type": "markdown",
   "metadata": {},
   "source": [
    "We use the Fashion-MNIST data set with batch size 256."
   ]
  },
  {
   "cell_type": "code",
   "execution_count": 2,
   "metadata": {},
   "outputs": [
    {
     "data": {
      "image/png": "[encoded data removed]",
      "text/plain": [
       "<Figure size 432x288 with 1 Axes>"
      ]
     },
     "metadata": {},
     "output_type": "display_data"
    }
   ],
   "source": [
    "def data_iter(batch_size, features, labels):\n",
    "    num_examples = len(features)\n",
    "    indices = list(range(num_examples))\n",
    "    # The examples are read at random, in no particular order\n",
    "    random.shuffle(indices)\n",
    "    for i in range(0, num_examples, batch_size):\n",
    "        j = np.array(indices[i: min(i + batch_size, num_examples)])\n",
    "        yield features.take(j, axis=0), labels.take(j, axis=0)\n",
    "        # The “take” function will then return the corresponding element based\n",
    "        # on the indices\n",
    "\n",
    "X, y = make_blobs(n_samples=64, centers=2, n_features=2, cluster_std=5, random_state=1)\n",
    "# X, y = make_moons(n_samples=64, random_state=1)\n",
    "# X, y = make_circles(n_samples=64, random_state=1)\n",
    "X_train, X_test, y_train, y_test = train_test_split(X, y, test_size=0.5, random_state=42)\n",
    "\n",
    "batch_size = 32\n",
    "\n",
    "colormap = np.array(['r', 'b'])\n",
    "\n",
    "def plot_scatter(X, y):\n",
    "    plt.grid()\n",
    "    plt.xlabel('$x_1$', size=20)\n",
    "    plt.ylabel('$x_2$', size=20)\n",
    "    plt.title('Input 2D points', size=18)\n",
    "    plt.scatter(X[:,0], X[:, 1], s=50, c=colormap[y])\n",
    "    \n",
    "plot_scatter(X, y)"
   ]
  },
  {
   "cell_type": "markdown",
   "metadata": {},
   "source": [
    "## Initialize Model Parameters\n",
    "\n",
    "Just as in linear regression, we use vectors to represent examples. Since each example has $2$ features we can store it as a $2$ dimensional vector. Moreover, since we have 2 categories, the single layer network has an output dimension of 1. Consequently, the weight and bias parameters of the logistic regression are matrices of size $2 \\times 1$ and $1 \\times 1$ respectively. We initialize $W$ with Gaussian noise."
   ]
  },
  {
   "cell_type": "code",
   "execution_count": 3,
   "metadata": {
    "attributes": {
     "classes": [],
     "id": "",
     "n": "9"
    }
   },
   "outputs": [],
   "source": [
    "num_inputs = X.shape[1]\n",
    "num_outputs = 1\n",
    "\n",
    "W = np.random.normal(scale=0.05, loc=0, size=(num_inputs, num_outputs))\n",
    "b = np.zeros(num_outputs)"
   ]
  },
  {
   "cell_type": "markdown",
   "metadata": {},
   "source": [
    "## The Logistic\n",
    "\n",
    "For that we first exponentiate each term using `exp` and then add it with one. Last we divide one by it and return the result. Before looking at the code, let's look at this in equation form:\n",
    "\n",
    "$$\n",
    "\\mathrm{logistic}(\\mathbf{X})_{i} = \\frac{1}{1+e^{-X_{i}}}\n",
    "$$"
   ]
  },
  {
   "cell_type": "code",
   "execution_count": 4,
   "metadata": {
    "attributes": {
     "classes": [],
     "id": "",
     "n": "12"
    }
   },
   "outputs": [],
   "source": [
    "def logistic(X):\n",
    "    # TODO: implement logistic function with numpy exp function\n",
    "    ans=1/(1+np.exp(-X))\n",
    "    return ans"
   ]
  },
  {
   "cell_type": "markdown",
   "metadata": {},
   "source": [
    "## The Model\n",
    "\n",
    "With the logistic operation, we can define the logistic regression model discussed in the last section."
   ]
  },
  {
   "cell_type": "code",
   "execution_count": 5,
   "metadata": {
    "attributes": {
     "classes": [],
     "id": "",
     "n": "14"
    }
   },
   "outputs": [],
   "source": [
    "def net(X):\n",
    "    return logistic(np.dot(X, W) + b)"
   ]
  },
  {
   "cell_type": "markdown",
   "metadata": {},
   "source": [
    "## The Loss Function\n",
    "\n",
    "We introduced the cross-entropy loss function used by logistic regression. It may be the most common loss function you’ll find in all of deep learning. That’s because at the moment, classification problems tend to be far more abundant than regression problems.\n",
    "\n",
    "Recall that it picks the label's predicted probability and takes its logarithm $-\\log p(y|x)$. Rather than having to do this using a Python `for` loop (which tends to be inefficient) we have a `pick` function which allows us to select the appropriate terms from the matrix of logistic entries easily. We illustrate this in the case of 3 categories and 2 examples."
   ]
  },
  {
   "cell_type": "code",
   "execution_count": 6,
   "metadata": {
    "attributes": {
     "classes": [],
     "id": "",
     "n": "15"
    }
   },
   "outputs": [
    {
     "data": {
      "text/plain": [
       "array([0.1, 0.5])"
      ]
     },
     "execution_count": 6,
     "metadata": {},
     "output_type": "execute_result"
    }
   ],
   "source": [
    "y_hat = np.array([[0.1, 0.3, 0.6], [0.3, 0.2, 0.5]])\n",
    "y = np.array([0, 2], dtype='int32')\n",
    "y_hat[np.arange(y_hat.shape[0]), y]"
   ]
  },
  {
   "cell_type": "markdown",
   "metadata": {},
   "source": [
    "This yields the cross-entropy loss function."
   ]
  },
  {
   "cell_type": "code",
   "execution_count": 7,
   "metadata": {
    "attributes": {
     "classes": [],
     "id": "",
     "n": "16"
    }
   },
   "outputs": [],
   "source": [
    "def cross_entropy(y_hat, y):\n",
    "    delta = 1e-8\n",
    "    return - (y.reshape(y_hat.shape) * np.log(y_hat + delta) + (1 - y.reshape(y_hat.shape)) * np.log(1 - y_hat + delta)).mean()"
   ]
  },
  {
   "cell_type": "markdown",
   "metadata": {},
   "source": [
    "## Classification Accuracy\n",
    "\n",
    "Given a class of predicted probability distributions `y_hat`, we use the one with the highest predicted probability as the output category. If it is consistent with the actual category `y`, then this prediction is correct.  The classification accuracy is the ratio between the number of correct predictions and the total number of predictions made.\n",
    "\n",
    "To demostrate how to compute accuracy, the function `accuracy` is defined as follows: `y_hat.argmax(axis=1)` returns the largest element index to matrix `y_hat`, the result has the same shape as variable `y`. Now all we need to do is check whether both match. Since the equality operator `==` is datatype-sensitive (e.g. an `int` and a `float32` are never equal), we also need to convert both to the same type (we pick `float32`). The result is an NDArray containing entries of 0 (false) and 1 (true). Taking the mean yields the desired result."
   ]
  },
  {
   "cell_type": "code",
   "execution_count": 8,
   "metadata": {
    "attributes": {
     "classes": [],
     "id": "",
     "n": "17"
    }
   },
   "outputs": [],
   "source": [
    "def accuracy(y_hat, y):\n",
    "    return (y_hat.argmax(axis=1) == y.astype('float32')).mean()"
   ]
  },
  {
   "cell_type": "markdown",
   "metadata": {},
   "source": [
    "We will continue to use the variables `y_hat` and `y` defined in the `pick` function, as the predicted probability distribution and label, respectively. We can see that the first example's prediction category is 2 (the largest element of the row is 0.6 with an index of 2), which is inconsistent with the actual label, 0. The second example's prediction category is 2 (the largest element of the row is 0.5 with an index of 2), which is consistent with the actual label, 2. Therefore, the classification accuracy rate for these two examples is 0.5."
   ]
  },
  {
   "cell_type": "code",
   "execution_count": 9,
   "metadata": {
    "attributes": {
     "classes": [],
     "id": "",
     "n": "18"
    }
   },
   "outputs": [
    {
     "data": {
      "text/plain": [
       "0.5"
      ]
     },
     "execution_count": 9,
     "metadata": {},
     "output_type": "execute_result"
    }
   ],
   "source": [
    "accuracy(y_hat, y)"
   ]
  },
  {
   "cell_type": "markdown",
   "metadata": {},
   "source": [
    "Similarly, we can evaluate the accuracy for model `net` on the data set `data_iter`."
   ]
  },
  {
   "cell_type": "code",
   "execution_count": 10,
   "metadata": {
    "attributes": {
     "classes": [],
     "id": "",
     "n": "19"
    }
   },
   "outputs": [],
   "source": [
    "def evaluate_accuracy(data_iter, net):\n",
    "    acc_sum, n = 0.0, 0\n",
    "    for X, y in data_iter:\n",
    "        y = y.astype('float32')\n",
    "        y_hat = net(X)\n",
    "        acc_sum += ((y_hat >= 0.5) == y.reshape(y_hat.shape)).sum()\n",
    "        n += y.shape[0]\n",
    "    return acc_sum / (n + 1e-8)"
   ]
  },
  {
   "cell_type": "markdown",
   "metadata": {},
   "source": [
    "Because we initialized the `net` model with random weights, the accuracy of this model should be close to random guessing, i.e. 0.1 for 10 classes."
   ]
  },
  {
   "cell_type": "code",
   "execution_count": 11,
   "metadata": {
    "attributes": {
     "classes": [],
     "id": "",
     "n": "20"
    }
   },
   "outputs": [
    {
     "data": {
      "text/plain": [
       "0.15624999995117186"
      ]
     },
     "execution_count": 11,
     "metadata": {},
     "output_type": "execute_result"
    }
   ],
   "source": [
    "evaluate_accuracy(data_iter(batch_size, X_test, y_test), net)"
   ]
  },
  {
   "cell_type": "markdown",
   "metadata": {},
   "source": [
    "## Model Training\n",
    "\n",
    "The implementation for training softmax regression is very similar to the implementation of linear regression discussed earlier. We still use the mini-batch stochastic gradient descent to optimize the loss function of the model. When training the model, the number of epochs, `num_epochs`, and learning rate `lr` are both adjustable hyper-parameters. By changing their values, we may be able to increase the classification accuracy of the model."
   ]
  },
  {
   "cell_type": "code",
   "execution_count": 12,
   "metadata": {
    "attributes": {
     "classes": [],
     "id": "",
     "n": "21"
    }
   },
   "outputs": [
    {
     "name": "stdout",
     "output_type": "stream",
     "text": [
      "epoch 1, loss 0.0288, train acc 0.344, test acc 0.312\n",
      "epoch 2, loss 0.0254, train acc 0.406, test acc 0.406\n",
      "epoch 3, loss 0.0227, train acc 0.438, test acc 0.531\n",
      "epoch 4, loss 0.0207, train acc 0.625, test acc 0.750\n",
      "epoch 5, loss 0.0191, train acc 0.812, test acc 0.844\n",
      "epoch 6, loss 0.0179, train acc 0.844, test acc 0.875\n",
      "epoch 7, loss 0.0170, train acc 0.844, test acc 0.844\n",
      "epoch 8, loss 0.0162, train acc 0.844, test acc 0.844\n",
      "epoch 9, loss 0.0156, train acc 0.844, test acc 0.844\n",
      "epoch 10, loss 0.0152, train acc 0.812, test acc 0.844\n",
      "epoch 11, loss 0.0148, train acc 0.812, test acc 0.844\n",
      "epoch 12, loss 0.0144, train acc 0.812, test acc 0.844\n",
      "epoch 13, loss 0.0141, train acc 0.812, test acc 0.844\n",
      "epoch 14, loss 0.0139, train acc 0.812, test acc 0.844\n",
      "epoch 15, loss 0.0136, train acc 0.812, test acc 0.844\n",
      "epoch 16, loss 0.0135, train acc 0.812, test acc 0.844\n",
      "epoch 17, loss 0.0133, train acc 0.812, test acc 0.844\n",
      "epoch 18, loss 0.0131, train acc 0.812, test acc 0.844\n",
      "epoch 19, loss 0.0130, train acc 0.812, test acc 0.844\n",
      "epoch 20, loss 0.0129, train acc 0.812, test acc 0.844\n"
     ]
    },
    {
     "data": {
      "image/png": "[encoded data removed]",
      "text/plain": [
       "<Figure size 432x288 with 1 Axes>"
      ]
     },
     "metadata": {},
     "output_type": "display_data"
    }
   ],
   "source": [
    "num_epochs, lr = 20, 1e-2\n",
    "\n",
    "w_cache = []\n",
    "b_cache = []\n",
    "# TODO: define an empty list to store the loss history\n",
    "l_cache = []\n",
    "\n",
    "def sgd(lr, batch_size, w_grad, b_grad):\n",
    "    global W, b\n",
    "    W = W - lr * w_grad / batch_size\n",
    "    b = b - lr * b_grad / batch_size\n",
    "\n",
    "def train_ch3(net, loss, num_epochs, batch_size, params=None, lr=None, trainer=None):\n",
    "    for epoch in range(num_epochs):\n",
    "        train_l_sum, train_acc_sum, n = 0.0, 0.0, 0\n",
    "        for X, y in data_iter(batch_size, X_train, y_train):\n",
    "            y_hat = net(X)\n",
    "            l = loss(y_hat, y).sum()\n",
    "            w_grad =  np.dot(X.T,(y_hat-y.reshape(y_hat.shape)))\n",
    "            b_grad = (y_hat - y.reshape(y_hat.shape)).sum()\n",
    "            sgd(lr, batch_size, w_grad, b_grad)\n",
    "            y = y.astype('float32')\n",
    "            train_l_sum += l\n",
    "            train_acc_sum += ((y_hat >= 0.5) == y.reshape(y_hat.shape)).sum()\n",
    "            n += y.shape[0]\n",
    "            \n",
    "        test_acc = evaluate_accuracy(data_iter(batch_size, X_test, y_test), net)\n",
    "        print('epoch %d, loss %.4f, train acc %.3f, test acc %.3f'\n",
    "              % (epoch + 1, train_l_sum / n, train_acc_sum / n, test_acc))\n",
    "        \n",
    "        w_cache.append(W.copy().reshape(-1))\n",
    "        b_cache.append(b.copy())\n",
    "        l_cache.append(train_l_sum)  \n",
    "\n",
    "def plot_loss(loss_cache):\n",
    "    plt.grid()\n",
    "    plt.title('Loss', size=18)\n",
    "    plt.xlabel('Number of iterations', size=15)\n",
    "    plt.ylabel('Loss', size=15)\n",
    "    ###########################################################################################\n",
    "    # TODO: use the plot function in matplotlib.pyplot to plot the loss curve\n",
    "    ###########################################################################################\n",
    "    plt.plot(range(num_epochs),l_cache)\n",
    "    ###########################################################################################   \n",
    "    \n",
    "train_ch3(net, cross_entropy, num_epochs, batch_size, [W, b], lr)\n",
    "plot_loss(l_cache)"
   ]
  },
  {
   "cell_type": "markdown",
   "metadata": {},
   "source": [
    "## Summary\n",
    "\n",
    "We can use logistic regression to carry out binary category classification. Training is very similar to that of linear regression: retrieve and read data, define models and loss functions, then train models using optimization algorithms. In fact, most common deep learning models have a similar training procedure."
   ]
  },
  {
   "cell_type": "code",
   "execution_count": null,
   "metadata": {
    "collapsed": true
   },
   "outputs": [],
   "source": []
  }
 ],
 "metadata": {
  "kernelspec": {
   "display_name": "Python 3",
   "language": "python",
   "name": "python3"
  },
  "language_info": {
   "codemirror_mode": {
    "name": "ipython",
    "version": 3
   },
   "file_extension": ".py",
   "mimetype": "text/x-python",
   "name": "python",
   "nbconvert_exporter": "python",
   "pygments_lexer": "ipython3",
   "version": "3.6.5"
  }
 },
 "nbformat": 4,
 "nbformat_minor": 2
}
