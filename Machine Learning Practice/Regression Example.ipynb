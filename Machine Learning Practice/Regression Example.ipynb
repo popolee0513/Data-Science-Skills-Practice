{
 "cells": [
  {
   "cell_type": "code",
   "execution_count": 1,
   "metadata": {},
   "outputs": [
    {
     "name": "stderr",
     "output_type": "stream",
     "text": [
      "C:\\Users\\POPO\\Anaconda3\\lib\\site-packages\\ipykernel_launcher.py:3: ParserWarning: Falling back to the 'python' engine because the 'c' engine does not support regex separators (separators > 1 char and different from '\\s+' are interpreted as regex); you can avoid this warning by specifying engine='python'.\n",
      "  This is separate from the ipykernel package so we can avoid doing imports until\n"
     ]
    }
   ],
   "source": [
    "import seaborn as sns\n",
    "import pandas as pd\n",
    "data=pd.read_csv(\"C://Users//POPO//Desktop//pgalpga2008.dat.txt\",header=None,sep='  ')"
   ]
  },
  {
   "cell_type": "code",
   "execution_count": 2,
   "metadata": {},
   "outputs": [
    {
     "data": {
      "text/html": [
       "<div>\n",
       "<style scoped>\n",
       "    .dataframe tbody tr th:only-of-type {\n",
       "        vertical-align: middle;\n",
       "    }\n",
       "\n",
       "    .dataframe tbody tr th {\n",
       "        vertical-align: top;\n",
       "    }\n",
       "\n",
       "    .dataframe thead th {\n",
       "        text-align: right;\n",
       "    }\n",
       "</style>\n",
       "<table border=\"1\" class=\"dataframe\">\n",
       "  <thead>\n",
       "    <tr style=\"text-align: right;\">\n",
       "      <th></th>\n",
       "      <th>average_driving_distance</th>\n",
       "      <th>the_percentage_of_the_player_drives</th>\n",
       "      <th>golfer_sex</th>\n",
       "    </tr>\n",
       "  </thead>\n",
       "  <tbody>\n",
       "    <tr>\n",
       "      <th>0</th>\n",
       "      <td>243.2</td>\n",
       "      <td>67.0</td>\n",
       "      <td>1</td>\n",
       "    </tr>\n",
       "    <tr>\n",
       "      <th>1</th>\n",
       "      <td>254.5</td>\n",
       "      <td>70.1</td>\n",
       "      <td>1</td>\n",
       "    </tr>\n",
       "    <tr>\n",
       "      <th>2</th>\n",
       "      <td>253.1</td>\n",
       "      <td>59.3</td>\n",
       "      <td>1</td>\n",
       "    </tr>\n",
       "    <tr>\n",
       "      <th>3</th>\n",
       "      <td>228.1</td>\n",
       "      <td>70.4</td>\n",
       "      <td>1</td>\n",
       "    </tr>\n",
       "    <tr>\n",
       "      <th>4</th>\n",
       "      <td>240.8</td>\n",
       "      <td>69.5</td>\n",
       "      <td>1</td>\n",
       "    </tr>\n",
       "  </tbody>\n",
       "</table>\n",
       "</div>"
      ],
      "text/plain": [
       "   average_driving_distance  the_percentage_of_the_player_drives  golfer_sex\n",
       "0                     243.2                                 67.0           1\n",
       "1                     254.5                                 70.1           1\n",
       "2                     253.1                                 59.3           1\n",
       "3                     228.1                                 70.4           1\n",
       "4                     240.8                                 69.5           1"
      ]
     },
     "execution_count": 2,
     "metadata": {},
     "output_type": "execute_result"
    }
   ],
   "source": [
    "data=data[[0,2,5]]\n",
    "data.columns=[\"average_driving_distance\",\"the_percentage_of_the_player_drives\",\"golfer_sex\"]\n",
    "data.head()"
   ]
  },
  {
   "cell_type": "code",
   "execution_count": 3,
   "metadata": {},
   "outputs": [
    {
     "data": {
      "text/plain": [
       "Text(0, 0.5, \"the percentage of the player's drives\")"
      ]
     },
     "execution_count": 3,
     "metadata": {},
     "output_type": "execute_result"
    },
    {
     "data": {
      "image/png": "[encoded data removed]",
      "text/plain": [
       "<Figure size 432x288 with 1 Axes>"
      ]
     },
     "metadata": {},
     "output_type": "display_data"
    }
   ],
   "source": [
    "import matplotlib.pyplot as plt\n",
    "plt.scatter(data[data[\"golfer_sex\"]==1][\"average_driving_distance\"],data[data[\"golfer_sex\"]==1][\"the_percentage_of_the_player_drives\"],label=\"woman\",color=\"r\")\n",
    "plt.scatter(data[data[\"golfer_sex\"]==2][\"average_driving_distance\"],data[data[\"golfer_sex\"]==2][\"the_percentage_of_the_player_drives\"],label=\"man\",color='b')\n",
    "plt.legend()\n",
    "plt.xlabel(\"average driving distance\")\n",
    "plt.ylabel(\"the percentage of the player's drives\")"
   ]
  },
  {
   "cell_type": "code",
   "execution_count": 4,
   "metadata": {},
   "outputs": [],
   "source": [
    "#import seaborn as sns\n",
    "#sns.scatterplot(\"average driving distance\",\"the percentage of the player's drives\",hue=\"golfer sex\",data=data)"
   ]
  },
  {
   "cell_type": "code",
   "execution_count": 5,
   "metadata": {},
   "outputs": [
    {
     "name": "stderr",
     "output_type": "stream",
     "text": [
      "C:\\Users\\POPO\\Anaconda3\\lib\\site-packages\\numpy\\core\\fromnumeric.py:2495: FutureWarning: Method .ptp is deprecated and will be removed in a future version. Use numpy.ptp instead.\n",
      "  return ptp(axis=axis, out=out, **kwargs)\n"
     ]
    },
    {
     "data": {
      "text/html": [
       "<table class=\"simpletable\">\n",
       "<caption>OLS Regression Results</caption>\n",
       "<tr>\n",
       "  <th>Dep. Variable:</th>    <td>the_percentage_of_the_player_drives</td> <th>  R-squared:         </th> <td>   0.178</td>\n",
       "</tr>\n",
       "<tr>\n",
       "  <th>Model:</th>                            <td>OLS</td>                 <th>  Adj. R-squared:    </th> <td>   0.173</td>\n",
       "</tr>\n",
       "<tr>\n",
       "  <th>Method:</th>                      <td>Least Squares</td>            <th>  F-statistic:       </th> <td>   33.61</td>\n",
       "</tr>\n",
       "<tr>\n",
       "  <th>Date:</th>                      <td>Sun, 26 Jan 2020</td>           <th>  Prob (F-statistic):</th> <td>3.66e-08</td>\n",
       "</tr>\n",
       "<tr>\n",
       "  <th>Time:</th>                          <td>16:12:05</td>               <th>  Log-Likelihood:    </th> <td> -482.00</td>\n",
       "</tr>\n",
       "<tr>\n",
       "  <th>No. Observations:</th>               <td>   157</td>                <th>  AIC:               </th> <td>   968.0</td>\n",
       "</tr>\n",
       "<tr>\n",
       "  <th>Df Residuals:</th>                   <td>   155</td>                <th>  BIC:               </th> <td>   974.1</td>\n",
       "</tr>\n",
       "<tr>\n",
       "  <th>Df Model:</th>                       <td>     1</td>                <th>                     </th>     <td> </td>   \n",
       "</tr>\n",
       "<tr>\n",
       "  <th>Covariance Type:</th>               <td>nonrobust</td>              <th>                     </th>     <td> </td>   \n",
       "</tr>\n",
       "</table>\n",
       "<table class=\"simpletable\">\n",
       "<tr>\n",
       "              <td></td>                <th>coef</th>     <th>std err</th>      <th>t</th>      <th>P>|t|</th>  <th>[0.025</th>    <th>0.975]</th>  \n",
       "</tr>\n",
       "<tr>\n",
       "  <th>const</th>                    <td>  130.8933</td> <td>   10.928</td> <td>   11.978</td> <td> 0.000</td> <td>  109.307</td> <td>  152.480</td>\n",
       "</tr>\n",
       "<tr>\n",
       "  <th>average_driving_distance</th> <td>   -0.2565</td> <td>    0.044</td> <td>   -5.797</td> <td> 0.000</td> <td>   -0.344</td> <td>   -0.169</td>\n",
       "</tr>\n",
       "</table>\n",
       "<table class=\"simpletable\">\n",
       "<tr>\n",
       "  <th>Omnibus:</th>       <td>38.145</td> <th>  Durbin-Watson:     </th> <td>   2.022</td>\n",
       "</tr>\n",
       "<tr>\n",
       "  <th>Prob(Omnibus):</th> <td> 0.000</td> <th>  Jarque-Bera (JB):  </th> <td>  72.558</td>\n",
       "</tr>\n",
       "<tr>\n",
       "  <th>Skew:</th>          <td>-1.122</td> <th>  Prob(JB):          </th> <td>1.75e-16</td>\n",
       "</tr>\n",
       "<tr>\n",
       "  <th>Kurtosis:</th>      <td> 5.462</td> <th>  Cond. No.          </th> <td>6.45e+03</td>\n",
       "</tr>\n",
       "</table><br/><br/>Warnings:<br/>[1] Standard Errors assume that the covariance matrix of the errors is correctly specified.<br/>[2] The condition number is large, 6.45e+03. This might indicate that there are<br/>strong multicollinearity or other numerical problems."
      ],
      "text/plain": [
       "<class 'statsmodels.iolib.summary.Summary'>\n",
       "\"\"\"\n",
       "                                     OLS Regression Results                                    \n",
       "===============================================================================================\n",
       "Dep. Variable:     the_percentage_of_the_player_drives   R-squared:                       0.178\n",
       "Model:                                             OLS   Adj. R-squared:                  0.173\n",
       "Method:                                  Least Squares   F-statistic:                     33.61\n",
       "Date:                                 Sun, 26 Jan 2020   Prob (F-statistic):           3.66e-08\n",
       "Time:                                         16:12:05   Log-Likelihood:                -482.00\n",
       "No. Observations:                                  157   AIC:                             968.0\n",
       "Df Residuals:                                      155   BIC:                             974.1\n",
       "Df Model:                                            1                                         \n",
       "Covariance Type:                             nonrobust                                         \n",
       "============================================================================================\n",
       "                               coef    std err          t      P>|t|      [0.025      0.975]\n",
       "--------------------------------------------------------------------------------------------\n",
       "const                      130.8933     10.928     11.978      0.000     109.307     152.480\n",
       "average_driving_distance    -0.2565      0.044     -5.797      0.000      -0.344      -0.169\n",
       "==============================================================================\n",
       "Omnibus:                       38.145   Durbin-Watson:                   2.022\n",
       "Prob(Omnibus):                  0.000   Jarque-Bera (JB):               72.558\n",
       "Skew:                          -1.122   Prob(JB):                     1.75e-16\n",
       "Kurtosis:                       5.462   Cond. No.                     6.45e+03\n",
       "==============================================================================\n",
       "\n",
       "Warnings:\n",
       "[1] Standard Errors assume that the covariance matrix of the errors is correctly specified.\n",
       "[2] The condition number is large, 6.45e+03. This might indicate that there are\n",
       "strong multicollinearity or other numerical problems.\n",
       "\"\"\""
      ]
     },
     "execution_count": 5,
     "metadata": {},
     "output_type": "execute_result"
    }
   ],
   "source": [
    "import statsmodels.api as sm\n",
    "new=data[data[\"golfer_sex\"]==1]\n",
    "x=sm.add_constant(new[\"average_driving_distance\"])\n",
    "model = sm.OLS(new[\"the_percentage_of_the_player_drives\"],x )\n",
    "results = model.fit()\n",
    "results.summary()"
   ]
  },
  {
   "cell_type": "code",
   "execution_count": 6,
   "metadata": {},
   "outputs": [
    {
     "data": {
      "text/html": [
       "<table class=\"simpletable\">\n",
       "<caption>OLS Regression Results</caption>\n",
       "<tr>\n",
       "  <th>Dep. Variable:</th>    <td>the_percentage_of_the_player_drives</td> <th>  R-squared:         </th> <td>   0.359</td>\n",
       "</tr>\n",
       "<tr>\n",
       "  <th>Model:</th>                            <td>OLS</td>                 <th>  Adj. R-squared:    </th> <td>   0.355</td>\n",
       "</tr>\n",
       "<tr>\n",
       "  <th>Method:</th>                      <td>Least Squares</td>            <th>  F-statistic:       </th> <td>   98.24</td>\n",
       "</tr>\n",
       "<tr>\n",
       "  <th>Date:</th>                      <td>Sun, 26 Jan 2020</td>           <th>  Prob (F-statistic):</th> <td>1.31e-34</td>\n",
       "</tr>\n",
       "<tr>\n",
       "  <th>Time:</th>                          <td>16:12:05</td>               <th>  Log-Likelihood:    </th> <td> -1055.9</td>\n",
       "</tr>\n",
       "<tr>\n",
       "  <th>No. Observations:</th>               <td>   354</td>                <th>  AIC:               </th> <td>   2118.</td>\n",
       "</tr>\n",
       "<tr>\n",
       "  <th>Df Residuals:</th>                   <td>   351</td>                <th>  BIC:               </th> <td>   2129.</td>\n",
       "</tr>\n",
       "<tr>\n",
       "  <th>Df Model:</th>                       <td>     2</td>                <th>                     </th>     <td> </td>   \n",
       "</tr>\n",
       "<tr>\n",
       "  <th>Covariance Type:</th>               <td>nonrobust</td>              <th>                     </th>     <td> </td>   \n",
       "</tr>\n",
       "</table>\n",
       "<table class=\"simpletable\">\n",
       "<tr>\n",
       "              <td></td>                <th>coef</th>     <th>std err</th>      <th>t</th>      <th>P>|t|</th>  <th>[0.025</th>    <th>0.975]</th>  \n",
       "</tr>\n",
       "<tr>\n",
       "  <th>Intercept</th>                <td>  147.2689</td> <td>    7.035</td> <td>   20.934</td> <td> 0.000</td> <td>  133.433</td> <td>  161.105</td>\n",
       "</tr>\n",
       "<tr>\n",
       "  <th>C(golfer_sex)[T.2]</th>       <td>    8.9489</td> <td>    1.270</td> <td>    7.047</td> <td> 0.000</td> <td>    6.451</td> <td>   11.446</td>\n",
       "</tr>\n",
       "<tr>\n",
       "  <th>average_driving_distance</th> <td>   -0.3228</td> <td>    0.028</td> <td>  -11.343</td> <td> 0.000</td> <td>   -0.379</td> <td>   -0.267</td>\n",
       "</tr>\n",
       "</table>\n",
       "<table class=\"simpletable\">\n",
       "<tr>\n",
       "  <th>Omnibus:</th>       <td>51.119</td> <th>  Durbin-Watson:     </th> <td>   1.780</td>\n",
       "</tr>\n",
       "<tr>\n",
       "  <th>Prob(Omnibus):</th> <td> 0.000</td> <th>  Jarque-Bera (JB):  </th> <td>  98.755</td>\n",
       "</tr>\n",
       "<tr>\n",
       "  <th>Skew:</th>          <td>-0.795</td> <th>  Prob(JB):          </th> <td>3.59e-22</td>\n",
       "</tr>\n",
       "<tr>\n",
       "  <th>Kurtosis:</th>      <td> 5.042</td> <th>  Cond. No.          </th> <td>7.56e+03</td>\n",
       "</tr>\n",
       "</table><br/><br/>Warnings:<br/>[1] Standard Errors assume that the covariance matrix of the errors is correctly specified.<br/>[2] The condition number is large, 7.56e+03. This might indicate that there are<br/>strong multicollinearity or other numerical problems."
      ],
      "text/plain": [
       "<class 'statsmodels.iolib.summary.Summary'>\n",
       "\"\"\"\n",
       "                                     OLS Regression Results                                    \n",
       "===============================================================================================\n",
       "Dep. Variable:     the_percentage_of_the_player_drives   R-squared:                       0.359\n",
       "Model:                                             OLS   Adj. R-squared:                  0.355\n",
       "Method:                                  Least Squares   F-statistic:                     98.24\n",
       "Date:                                 Sun, 26 Jan 2020   Prob (F-statistic):           1.31e-34\n",
       "Time:                                         16:12:05   Log-Likelihood:                -1055.9\n",
       "No. Observations:                                  354   AIC:                             2118.\n",
       "Df Residuals:                                      351   BIC:                             2129.\n",
       "Df Model:                                            2                                         \n",
       "Covariance Type:                             nonrobust                                         \n",
       "============================================================================================\n",
       "                               coef    std err          t      P>|t|      [0.025      0.975]\n",
       "--------------------------------------------------------------------------------------------\n",
       "Intercept                  147.2689      7.035     20.934      0.000     133.433     161.105\n",
       "C(golfer_sex)[T.2]           8.9489      1.270      7.047      0.000       6.451      11.446\n",
       "average_driving_distance    -0.3228      0.028    -11.343      0.000      -0.379      -0.267\n",
       "==============================================================================\n",
       "Omnibus:                       51.119   Durbin-Watson:                   1.780\n",
       "Prob(Omnibus):                  0.000   Jarque-Bera (JB):               98.755\n",
       "Skew:                          -0.795   Prob(JB):                     3.59e-22\n",
       "Kurtosis:                       5.042   Cond. No.                     7.56e+03\n",
       "==============================================================================\n",
       "\n",
       "Warnings:\n",
       "[1] Standard Errors assume that the covariance matrix of the errors is correctly specified.\n",
       "[2] The condition number is large, 7.56e+03. This might indicate that there are\n",
       "strong multicollinearity or other numerical problems.\n",
       "\"\"\""
      ]
     },
     "execution_count": 6,
     "metadata": {},
     "output_type": "execute_result"
    }
   ],
   "source": [
    "import statsmodels.api as sm\n",
    "import statsmodels.formula.api as smf\n",
    "\n",
    "model = smf.ols(\"the_percentage_of_the_player_drives~average_driving_distance+C(golfer_sex)\",data=data)\n",
    "results = model.fit()\n",
    "results.summary()"
   ]
  },
  {
   "cell_type": "code",
   "execution_count": 7,
   "metadata": {},
   "outputs": [],
   "source": [
    "pred_val = results.fittedvalues.copy()\n",
    "true_val = data['the_percentage_of_the_player_drives'].values.copy()\n",
    "residual = true_val - pred_val"
   ]
  },
  {
   "cell_type": "code",
   "execution_count": 8,
   "metadata": {},
   "outputs": [
    {
     "data": {
      "image/png": "[encoded data removed]",
      "text/plain": [
       "<Figure size 432x180 with 1 Axes>"
      ]
     },
     "metadata": {},
     "output_type": "display_data"
    }
   ],
   "source": [
    "fig, ax = plt.subplots(figsize=(6,2.5))\n",
    "_ = ax.scatter(residual, pred_val)"
   ]
  },
  {
   "cell_type": "code",
   "execution_count": null,
   "metadata": {},
   "outputs": [],
   "source": []
  }
 ],
 "metadata": {
  "kernelspec": {
   "display_name": "Python 3",
   "language": "python",
   "name": "python3"
  },
  "language_info": {
   "codemirror_mode": {
    "name": "ipython",
    "version": 3
   },
   "file_extension": ".py",
   "mimetype": "text/x-python",
   "name": "python",
   "nbconvert_exporter": "python",
   "pygments_lexer": "ipython3",
   "version": "3.6.5"
  }
 },
 "nbformat": 4,
 "nbformat_minor": 2
}
