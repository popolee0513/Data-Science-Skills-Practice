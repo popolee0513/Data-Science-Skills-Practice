{
 "cells": [
  {
   "cell_type": "code",
   "execution_count": 1,
   "metadata": {},
   "outputs": [],
   "source": [
    "import pandas as pd\n",
    "data=pd.read_csv(\"C://Users//POPO//Desktop//HW2.csv\")"
   ]
  },
  {
   "cell_type": "code",
   "execution_count": 2,
   "metadata": {},
   "outputs": [
    {
     "data": {
      "text/html": [
       "<div>\n",
       "<style scoped>\n",
       "    .dataframe tbody tr th:only-of-type {\n",
       "        vertical-align: middle;\n",
       "    }\n",
       "\n",
       "    .dataframe tbody tr th {\n",
       "        vertical-align: top;\n",
       "    }\n",
       "\n",
       "    .dataframe thead th {\n",
       "        text-align: right;\n",
       "    }\n",
       "</style>\n",
       "<table border=\"1\" class=\"dataframe\">\n",
       "  <thead>\n",
       "    <tr style=\"text-align: right;\">\n",
       "      <th></th>\n",
       "      <th>Observation</th>\n",
       "      <th>FGPA</th>\n",
       "      <th>SATM</th>\n",
       "      <th>SATV</th>\n",
       "      <th>FEM</th>\n",
       "    </tr>\n",
       "  </thead>\n",
       "  <tbody>\n",
       "    <tr>\n",
       "      <th>0</th>\n",
       "      <td>1</td>\n",
       "      <td>2.518</td>\n",
       "      <td>4.0</td>\n",
       "      <td>4.0</td>\n",
       "      <td>1</td>\n",
       "    </tr>\n",
       "    <tr>\n",
       "      <th>1</th>\n",
       "      <td>2</td>\n",
       "      <td>2.326</td>\n",
       "      <td>4.9</td>\n",
       "      <td>3.1</td>\n",
       "      <td>0</td>\n",
       "    </tr>\n",
       "    <tr>\n",
       "      <th>2</th>\n",
       "      <td>3</td>\n",
       "      <td>3.003</td>\n",
       "      <td>4.4</td>\n",
       "      <td>4.0</td>\n",
       "      <td>1</td>\n",
       "    </tr>\n",
       "    <tr>\n",
       "      <th>3</th>\n",
       "      <td>4</td>\n",
       "      <td>2.111</td>\n",
       "      <td>4.9</td>\n",
       "      <td>3.9</td>\n",
       "      <td>0</td>\n",
       "    </tr>\n",
       "    <tr>\n",
       "      <th>4</th>\n",
       "      <td>5</td>\n",
       "      <td>2.145</td>\n",
       "      <td>4.3</td>\n",
       "      <td>4.7</td>\n",
       "      <td>0</td>\n",
       "    </tr>\n",
       "  </tbody>\n",
       "</table>\n",
       "</div>"
      ],
      "text/plain": [
       "   Observation   FGPA  SATM  SATV  FEM\n",
       "0            1  2.518   4.0   4.0    1\n",
       "1            2  2.326   4.9   3.1    0\n",
       "2            3  3.003   4.4   4.0    1\n",
       "3            4  2.111   4.9   3.9    0\n",
       "4            5  2.145   4.3   4.7    0"
      ]
     },
     "execution_count": 2,
     "metadata": {},
     "output_type": "execute_result"
    }
   ],
   "source": [
    "data.head()"
   ]
  },
  {
   "cell_type": "code",
   "execution_count": 3,
   "metadata": {},
   "outputs": [
    {
     "data": {
      "text/plain": [
       "(609, 5)"
      ]
     },
     "execution_count": 3,
     "metadata": {},
     "output_type": "execute_result"
    }
   ],
   "source": [
    "data.shape"
   ]
  },
  {
   "cell_type": "code",
   "execution_count": 4,
   "metadata": {},
   "outputs": [],
   "source": [
    "import statsmodels.api as sm\n",
    "from statsmodels.sandbox.regression.predstd import wls_prediction_std"
   ]
  },
  {
   "cell_type": "code",
   "execution_count": 5,
   "metadata": {},
   "outputs": [
    {
     "data": {
      "text/html": [
       "<table class=\"simpletable\">\n",
       "<caption>OLS Regression Results</caption>\n",
       "<tr>\n",
       "  <th>Dep. Variable:</th>          <td>FGPA</td>       <th>  R-squared:         </th> <td>   0.963</td> \n",
       "</tr>\n",
       "<tr>\n",
       "  <th>Model:</th>                   <td>OLS</td>       <th>  Adj. R-squared:    </th> <td>   0.963</td> \n",
       "</tr>\n",
       "<tr>\n",
       "  <th>Method:</th>             <td>Least Squares</td>  <th>  F-statistic:       </th> <td>1.588e+04</td>\n",
       "</tr>\n",
       "<tr>\n",
       "  <th>Date:</th>             <td>Mon, 30 Sep 2019</td> <th>  Prob (F-statistic):</th>  <td>  0.00</td>  \n",
       "</tr>\n",
       "<tr>\n",
       "  <th>Time:</th>                 <td>17:40:41</td>     <th>  Log-Likelihood:    </th> <td> -492.74</td> \n",
       "</tr>\n",
       "<tr>\n",
       "  <th>No. Observations:</th>      <td>   609</td>      <th>  AIC:               </th> <td>   987.5</td> \n",
       "</tr>\n",
       "<tr>\n",
       "  <th>Df Residuals:</th>          <td>   608</td>      <th>  BIC:               </th> <td>   991.9</td> \n",
       "</tr>\n",
       "<tr>\n",
       "  <th>Df Model:</th>              <td>     1</td>      <th>                     </th>     <td> </td>    \n",
       "</tr>\n",
       "<tr>\n",
       "  <th>Covariance Type:</th>      <td>nonrobust</td>    <th>                     </th>     <td> </td>    \n",
       "</tr>\n",
       "</table>\n",
       "<table class=\"simpletable\">\n",
       "<tr>\n",
       "    <td></td>      <th>coef</th>     <th>std err</th>      <th>t</th>      <th>P>|t|</th>  <th>[0.025</th>    <th>0.975]</th>  \n",
       "</tr>\n",
       "<tr>\n",
       "  <th>SATV</th> <td>    0.4956</td> <td>    0.004</td> <td>  126.035</td> <td> 0.000</td> <td>    0.488</td> <td>    0.503</td>\n",
       "</tr>\n",
       "</table>\n",
       "<table class=\"simpletable\">\n",
       "<tr>\n",
       "  <th>Omnibus:</th>       <td> 0.446</td> <th>  Durbin-Watson:     </th> <td>   1.766</td>\n",
       "</tr>\n",
       "<tr>\n",
       "  <th>Prob(Omnibus):</th> <td> 0.800</td> <th>  Jarque-Bera (JB):  </th> <td>   0.539</td>\n",
       "</tr>\n",
       "<tr>\n",
       "  <th>Skew:</th>          <td>-0.053</td> <th>  Prob(JB):          </th> <td>   0.764</td>\n",
       "</tr>\n",
       "<tr>\n",
       "  <th>Kurtosis:</th>      <td> 2.900</td> <th>  Cond. No.          </th> <td>    1.00</td>\n",
       "</tr>\n",
       "</table><br/><br/>Warnings:<br/>[1] Standard Errors assume that the covariance matrix of the errors is correctly specified."
      ],
      "text/plain": [
       "<class 'statsmodels.iolib.summary.Summary'>\n",
       "\"\"\"\n",
       "                            OLS Regression Results                            \n",
       "==============================================================================\n",
       "Dep. Variable:                   FGPA   R-squared:                       0.963\n",
       "Model:                            OLS   Adj. R-squared:                  0.963\n",
       "Method:                 Least Squares   F-statistic:                 1.588e+04\n",
       "Date:                Mon, 30 Sep 2019   Prob (F-statistic):               0.00\n",
       "Time:                        17:40:41   Log-Likelihood:                -492.74\n",
       "No. Observations:                 609   AIC:                             987.5\n",
       "Df Residuals:                     608   BIC:                             991.9\n",
       "Df Model:                           1                                         \n",
       "Covariance Type:            nonrobust                                         \n",
       "==============================================================================\n",
       "                 coef    std err          t      P>|t|      [0.025      0.975]\n",
       "------------------------------------------------------------------------------\n",
       "SATV           0.4956      0.004    126.035      0.000       0.488       0.503\n",
       "==============================================================================\n",
       "Omnibus:                        0.446   Durbin-Watson:                   1.766\n",
       "Prob(Omnibus):                  0.800   Jarque-Bera (JB):                0.539\n",
       "Skew:                          -0.053   Prob(JB):                        0.764\n",
       "Kurtosis:                       2.900   Cond. No.                         1.00\n",
       "==============================================================================\n",
       "\n",
       "Warnings:\n",
       "[1] Standard Errors assume that the covariance matrix of the errors is correctly specified.\n",
       "\"\"\""
      ]
     },
     "execution_count": 5,
     "metadata": {},
     "output_type": "execute_result"
    }
   ],
   "source": [
    "model = sm.OLS(data[\"FGPA\"], data[\"SATV\"])\n",
    "results = model.fit()\n",
    "results.summary()"
   ]
  },
  {
   "cell_type": "code",
   "execution_count": 7,
   "metadata": {},
   "outputs": [],
   "source": [
    "#for attr in dir(results):\n",
    "     #if not attr.startswith('_'):\n",
    "      #  print(attr)"
   ]
  },
  {
   "cell_type": "code",
   "execution_count": 8,
   "metadata": {},
   "outputs": [
    {
     "name": "stdout",
     "output_type": "stream",
     "text": [
      "Parameters:  0.496\n",
      "p-value:  0.0\n",
      "standard error of b: 0.004\n"
     ]
    }
   ],
   "source": [
    "from scipy.stats import t\n",
    "print('Parameters: ', round(results.params[0],3))\n",
    "print('p-value: ', round(results.pvalues[0],3))\n",
    "print(\"standard error of b:\",round(results.bse[0],3))"
   ]
  },
  {
   "cell_type": "code",
   "execution_count": 9,
   "metadata": {},
   "outputs": [
    {
     "name": "stdout",
     "output_type": "stream",
     "text": [
      "confidence interval of b: [0.488, 0.503]\n"
     ]
    }
   ],
   "source": [
    "alpha = 0.025\n",
    "a1=t.ppf(1 - alpha, df=607)\n",
    "print(\"confidence interval of b:\",[round(results.params[0]-a1*results.bse[0],3),round(results.params[0]+a1*results.bse[0],3)])"
   ]
  },
  {
   "cell_type": "code",
   "execution_count": 10,
   "metadata": {},
   "outputs": [],
   "source": [
    "model2 = sm.OLS(data[\"FGPA\"],data[[\"SATM\",\"SATV\",\"FEM\"]])\n",
    "results2 = model2.fit()"
   ]
  },
  {
   "cell_type": "code",
   "execution_count": 11,
   "metadata": {},
   "outputs": [],
   "source": [
    "#results2.summary()"
   ]
  },
  {
   "cell_type": "code",
   "execution_count": 12,
   "metadata": {},
   "outputs": [
    {
     "name": "stdout",
     "output_type": "stream",
     "text": [
      "Parameters SATM: 0.339\n",
      "Parameters SATV: 0.102\n",
      "Parameters FEM: 0.247\n",
      "P-values SATM: 0.0\n",
      "P-values SATV: 0.0\n",
      "P-values FEM: 0.0\n",
      "standard error of SATM: 0.023\n",
      "standard error of SATV: 0.026\n",
      "standard error of FEM: 0.038\n",
      "confidence interval SATM: [0.293, 0.384]\n",
      "confidence interval SATV: [0.051, 0.154]\n",
      "confidence interval FEM: [0.171, 0.322]\n"
     ]
    }
   ],
   "source": [
    "for i in range(3):\n",
    "    print(\"Parameters \"+data.columns[i+2]+\":\",round(results2.params[i],3))\n",
    "for i in range(3):\n",
    "    print(\"P-values \"+data.columns[i+2]+\":\",round(results2.pvalues[i],3))\n",
    "for i in range(3):\n",
    "    print(\"standard error of \"+data.columns[i+2]+\":\",round(results2.bse[i],3))\n",
    "alpha = 0.025\n",
    "a1=t.ppf(1 - alpha, df=605)\n",
    "for i in range(3):\n",
    "    print(\"confidence interval \"+data.columns[i+2]+\":\",[round(results2.params[i]-a1*results2.bse[i],3),round(results2.params[i]+a1*results2.bse[i],3)])"
   ]
  },
  {
   "cell_type": "code",
   "execution_count": 13,
   "metadata": {},
   "outputs": [
    {
     "data": {
      "text/html": [
       "<div>\n",
       "<style scoped>\n",
       "    .dataframe tbody tr th:only-of-type {\n",
       "        vertical-align: middle;\n",
       "    }\n",
       "\n",
       "    .dataframe tbody tr th {\n",
       "        vertical-align: top;\n",
       "    }\n",
       "\n",
       "    .dataframe thead th {\n",
       "        text-align: right;\n",
       "    }\n",
       "</style>\n",
       "<table border=\"1\" class=\"dataframe\">\n",
       "  <thead>\n",
       "    <tr style=\"text-align: right;\">\n",
       "      <th></th>\n",
       "      <th>FGPA</th>\n",
       "      <th>SATM</th>\n",
       "      <th>SATV</th>\n",
       "      <th>FEM</th>\n",
       "    </tr>\n",
       "  </thead>\n",
       "  <tbody>\n",
       "    <tr>\n",
       "      <th>FGPA</th>\n",
       "      <td>1.000000</td>\n",
       "      <td>0.195040</td>\n",
       "      <td>0.092167</td>\n",
       "      <td>0.176491</td>\n",
       "    </tr>\n",
       "    <tr>\n",
       "      <th>SATM</th>\n",
       "      <td>0.195040</td>\n",
       "      <td>1.000000</td>\n",
       "      <td>0.287801</td>\n",
       "      <td>-0.162680</td>\n",
       "    </tr>\n",
       "    <tr>\n",
       "      <th>SATV</th>\n",
       "      <td>0.092167</td>\n",
       "      <td>0.287801</td>\n",
       "      <td>1.000000</td>\n",
       "      <td>0.033577</td>\n",
       "    </tr>\n",
       "    <tr>\n",
       "      <th>FEM</th>\n",
       "      <td>0.176491</td>\n",
       "      <td>-0.162680</td>\n",
       "      <td>0.033577</td>\n",
       "      <td>1.000000</td>\n",
       "    </tr>\n",
       "  </tbody>\n",
       "</table>\n",
       "</div>"
      ],
      "text/plain": [
       "          FGPA      SATM      SATV       FEM\n",
       "FGPA  1.000000  0.195040  0.092167  0.176491\n",
       "SATM  0.195040  1.000000  0.287801 -0.162680\n",
       "SATV  0.092167  0.287801  1.000000  0.033577\n",
       "FEM   0.176491 -0.162680  0.033577  1.000000"
      ]
     },
     "execution_count": 13,
     "metadata": {},
     "output_type": "execute_result"
    }
   ],
   "source": [
    "data[data.columns[1:]].corr()"
   ]
  },
  {
   "cell_type": "code",
   "execution_count": 14,
   "metadata": {},
   "outputs": [
    {
     "data": {
      "text/html": [
       "<table class=\"simpletable\">\n",
       "<caption>OLS Regression Results</caption>\n",
       "<tr>\n",
       "  <th>Dep. Variable:</th>          <td>FGPA</td>       <th>  R-squared:         </th> <td>   0.974</td>\n",
       "</tr>\n",
       "<tr>\n",
       "  <th>Model:</th>                   <td>OLS</td>       <th>  Adj. R-squared:    </th> <td>   0.974</td>\n",
       "</tr>\n",
       "<tr>\n",
       "  <th>Method:</th>             <td>Least Squares</td>  <th>  F-statistic:       </th> <td>   7483.</td>\n",
       "</tr>\n",
       "<tr>\n",
       "  <th>Date:</th>             <td>Mon, 30 Sep 2019</td> <th>  Prob (F-statistic):</th>  <td>  0.00</td> \n",
       "</tr>\n",
       "<tr>\n",
       "  <th>Time:</th>                 <td>17:40:53</td>     <th>  Log-Likelihood:    </th> <td> -389.74</td>\n",
       "</tr>\n",
       "<tr>\n",
       "  <th>No. Observations:</th>      <td>   609</td>      <th>  AIC:               </th> <td>   785.5</td>\n",
       "</tr>\n",
       "<tr>\n",
       "  <th>Df Residuals:</th>          <td>   606</td>      <th>  BIC:               </th> <td>   798.7</td>\n",
       "</tr>\n",
       "<tr>\n",
       "  <th>Df Model:</th>              <td>     3</td>      <th>                     </th>     <td> </td>   \n",
       "</tr>\n",
       "<tr>\n",
       "  <th>Covariance Type:</th>      <td>nonrobust</td>    <th>                     </th>     <td> </td>   \n",
       "</tr>\n",
       "</table>\n",
       "<table class=\"simpletable\">\n",
       "<tr>\n",
       "    <td></td>      <th>coef</th>     <th>std err</th>      <th>t</th>      <th>P>|t|</th>  <th>[0.025</th>    <th>0.975]</th>  \n",
       "</tr>\n",
       "<tr>\n",
       "  <th>SATM</th> <td>    0.3387</td> <td>    0.023</td> <td>   14.712</td> <td> 0.000</td> <td>    0.293</td> <td>    0.384</td>\n",
       "</tr>\n",
       "<tr>\n",
       "  <th>SATV</th> <td>    0.1025</td> <td>    0.026</td> <td>    3.923</td> <td> 0.000</td> <td>    0.051</td> <td>    0.154</td>\n",
       "</tr>\n",
       "<tr>\n",
       "  <th>FEM</th>  <td>    0.2466</td> <td>    0.038</td> <td>    6.433</td> <td> 0.000</td> <td>    0.171</td> <td>    0.322</td>\n",
       "</tr>\n",
       "</table>\n",
       "<table class=\"simpletable\">\n",
       "<tr>\n",
       "  <th>Omnibus:</th>       <td> 2.559</td> <th>  Durbin-Watson:     </th> <td>   1.761</td>\n",
       "</tr>\n",
       "<tr>\n",
       "  <th>Prob(Omnibus):</th> <td> 0.278</td> <th>  Jarque-Bera (JB):  </th> <td>   2.402</td>\n",
       "</tr>\n",
       "<tr>\n",
       "  <th>Skew:</th>          <td> 0.090</td> <th>  Prob(JB):          </th> <td>   0.301</td>\n",
       "</tr>\n",
       "<tr>\n",
       "  <th>Kurtosis:</th>      <td> 2.750</td> <th>  Cond. No.          </th> <td>    17.8</td>\n",
       "</tr>\n",
       "</table><br/><br/>Warnings:<br/>[1] Standard Errors assume that the covariance matrix of the errors is correctly specified."
      ],
      "text/plain": [
       "<class 'statsmodels.iolib.summary.Summary'>\n",
       "\"\"\"\n",
       "                            OLS Regression Results                            \n",
       "==============================================================================\n",
       "Dep. Variable:                   FGPA   R-squared:                       0.974\n",
       "Model:                            OLS   Adj. R-squared:                  0.974\n",
       "Method:                 Least Squares   F-statistic:                     7483.\n",
       "Date:                Mon, 30 Sep 2019   Prob (F-statistic):               0.00\n",
       "Time:                        17:40:53   Log-Likelihood:                -389.74\n",
       "No. Observations:                 609   AIC:                             785.5\n",
       "Df Residuals:                     606   BIC:                             798.7\n",
       "Df Model:                           3                                         \n",
       "Covariance Type:            nonrobust                                         \n",
       "==============================================================================\n",
       "                 coef    std err          t      P>|t|      [0.025      0.975]\n",
       "------------------------------------------------------------------------------\n",
       "SATM           0.3387      0.023     14.712      0.000       0.293       0.384\n",
       "SATV           0.1025      0.026      3.923      0.000       0.051       0.154\n",
       "FEM            0.2466      0.038      6.433      0.000       0.171       0.322\n",
       "==============================================================================\n",
       "Omnibus:                        2.559   Durbin-Watson:                   1.761\n",
       "Prob(Omnibus):                  0.278   Jarque-Bera (JB):                2.402\n",
       "Skew:                           0.090   Prob(JB):                        0.301\n",
       "Kurtosis:                       2.750   Cond. No.                         17.8\n",
       "==============================================================================\n",
       "\n",
       "Warnings:\n",
       "[1] Standard Errors assume that the covariance matrix of the errors is correctly specified.\n",
       "\"\"\""
      ]
     },
     "execution_count": 14,
     "metadata": {},
     "output_type": "execute_result"
    }
   ],
   "source": [
    "results2.summary()"
   ]
  },
  {
   "cell_type": "code",
   "execution_count": 15,
   "metadata": {},
   "outputs": [
    {
     "data": {
      "text/html": [
       "<table class=\"simpletable\">\n",
       "<caption>OLS Regression Results</caption>\n",
       "<tr>\n",
       "  <th>Dep. Variable:</th>          <td>FGPA</td>       <th>  R-squared:         </th> <td>   0.973</td> \n",
       "</tr>\n",
       "<tr>\n",
       "  <th>Model:</th>                   <td>OLS</td>       <th>  Adj. R-squared:    </th> <td>   0.973</td> \n",
       "</tr>\n",
       "<tr>\n",
       "  <th>Method:</th>             <td>Least Squares</td>  <th>  F-statistic:       </th> <td>1.096e+04</td>\n",
       "</tr>\n",
       "<tr>\n",
       "  <th>Date:</th>             <td>Mon, 30 Sep 2019</td> <th>  Prob (F-statistic):</th>  <td>  0.00</td>  \n",
       "</tr>\n",
       "<tr>\n",
       "  <th>Time:</th>                 <td>17:40:54</td>     <th>  Log-Likelihood:    </th> <td> -397.37</td> \n",
       "</tr>\n",
       "<tr>\n",
       "  <th>No. Observations:</th>      <td>   609</td>      <th>  AIC:               </th> <td>   798.7</td> \n",
       "</tr>\n",
       "<tr>\n",
       "  <th>Df Residuals:</th>          <td>   607</td>      <th>  BIC:               </th> <td>   807.6</td> \n",
       "</tr>\n",
       "<tr>\n",
       "  <th>Df Model:</th>              <td>     2</td>      <th>                     </th>     <td> </td>    \n",
       "</tr>\n",
       "<tr>\n",
       "  <th>Covariance Type:</th>      <td>nonrobust</td>    <th>                     </th>     <td> </td>    \n",
       "</tr>\n",
       "</table>\n",
       "<table class=\"simpletable\">\n",
       "<tr>\n",
       "    <td></td>      <th>coef</th>     <th>std err</th>      <th>t</th>      <th>P>|t|</th>  <th>[0.025</th>    <th>0.975]</th>  \n",
       "</tr>\n",
       "<tr>\n",
       "  <th>SATM</th> <td>    0.4278</td> <td>    0.004</td> <td>  113.072</td> <td> 0.000</td> <td>    0.420</td> <td>    0.435</td>\n",
       "</tr>\n",
       "<tr>\n",
       "  <th>FEM</th>  <td>    0.2739</td> <td>    0.038</td> <td>    7.180</td> <td> 0.000</td> <td>    0.199</td> <td>    0.349</td>\n",
       "</tr>\n",
       "</table>\n",
       "<table class=\"simpletable\">\n",
       "<tr>\n",
       "  <th>Omnibus:</th>       <td> 3.829</td> <th>  Durbin-Watson:     </th> <td>   1.780</td>\n",
       "</tr>\n",
       "<tr>\n",
       "  <th>Prob(Omnibus):</th> <td> 0.147</td> <th>  Jarque-Bera (JB):  </th> <td>   3.545</td>\n",
       "</tr>\n",
       "<tr>\n",
       "  <th>Skew:</th>          <td> 0.129</td> <th>  Prob(JB):          </th> <td>   0.170</td>\n",
       "</tr>\n",
       "<tr>\n",
       "  <th>Kurtosis:</th>      <td> 2.729</td> <th>  Cond. No.          </th> <td>    12.7</td>\n",
       "</tr>\n",
       "</table><br/><br/>Warnings:<br/>[1] Standard Errors assume that the covariance matrix of the errors is correctly specified."
      ],
      "text/plain": [
       "<class 'statsmodels.iolib.summary.Summary'>\n",
       "\"\"\"\n",
       "                            OLS Regression Results                            \n",
       "==============================================================================\n",
       "Dep. Variable:                   FGPA   R-squared:                       0.973\n",
       "Model:                            OLS   Adj. R-squared:                  0.973\n",
       "Method:                 Least Squares   F-statistic:                 1.096e+04\n",
       "Date:                Mon, 30 Sep 2019   Prob (F-statistic):               0.00\n",
       "Time:                        17:40:54   Log-Likelihood:                -397.37\n",
       "No. Observations:                 609   AIC:                             798.7\n",
       "Df Residuals:                     607   BIC:                             807.6\n",
       "Df Model:                           2                                         \n",
       "Covariance Type:            nonrobust                                         \n",
       "==============================================================================\n",
       "                 coef    std err          t      P>|t|      [0.025      0.975]\n",
       "------------------------------------------------------------------------------\n",
       "SATM           0.4278      0.004    113.072      0.000       0.420       0.435\n",
       "FEM            0.2739      0.038      7.180      0.000       0.199       0.349\n",
       "==============================================================================\n",
       "Omnibus:                        3.829   Durbin-Watson:                   1.780\n",
       "Prob(Omnibus):                  0.147   Jarque-Bera (JB):                3.545\n",
       "Skew:                           0.129   Prob(JB):                        0.170\n",
       "Kurtosis:                       2.729   Cond. No.                         12.7\n",
       "==============================================================================\n",
       "\n",
       "Warnings:\n",
       "[1] Standard Errors assume that the covariance matrix of the errors is correctly specified.\n",
       "\"\"\""
      ]
     },
     "execution_count": 15,
     "metadata": {},
     "output_type": "execute_result"
    }
   ],
   "source": [
    "model3 = sm.OLS(data[\"FGPA\"],data[[\"SATM\",\"FEM\"]])\n",
    "results3 = model3.fit()\n",
    "results3.summary()"
   ]
  },
  {
   "cell_type": "code",
   "execution_count": 16,
   "metadata": {},
   "outputs": [
    {
     "name": "stdout",
     "output_type": "stream",
     "text": [
      "                             Test for Constraints                             \n",
      "==============================================================================\n",
      "                 coef    std err          t      P>|t|      [0.025      0.975]\n",
      "------------------------------------------------------------------------------\n",
      "c0             0.1025      0.026      3.923      0.000       0.051       0.154\n",
      "==============================================================================\n",
      "<F test: F=array([[15.38769372]]), p=9.75743735871614e-05, df_denom=606, df_num=1>\n"
     ]
    }
   ],
   "source": [
    "print(results2.t_test(\"SATV = 0\"))\n",
    "print(results2.f_test(\"SATV = 0\"))"
   ]
  },
  {
   "cell_type": "code",
   "execution_count": 17,
   "metadata": {},
   "outputs": [
    {
     "name": "stdout",
     "output_type": "stream",
     "text": [
      "15.362301485614596\n"
     ]
    }
   ],
   "source": [
    "F=(results2.rsquared-results3.rsquared)/((1-results2.rsquared)/605)\n",
    "print(F)"
   ]
  },
  {
   "cell_type": "code",
   "execution_count": 18,
   "metadata": {},
   "outputs": [
    {
     "name": "stdout",
     "output_type": "stream",
     "text": [
      "3.9227150953737793\n"
     ]
    }
   ],
   "source": [
    "t=(results2.params[1])/results2.bse[1]\n",
    "print(t)"
   ]
  },
  {
   "cell_type": "code",
   "execution_count": 19,
   "metadata": {},
   "outputs": [
    {
     "name": "stdout",
     "output_type": "stream",
     "text": [
      "1.0\n"
     ]
    }
   ],
   "source": [
    "print(round(round(F,2)/round(t**2,2),1))"
   ]
  },
  {
   "cell_type": "code",
   "execution_count": null,
   "metadata": {},
   "outputs": [],
   "source": []
  },
  {
   "cell_type": "code",
   "execution_count": null,
   "metadata": {},
   "outputs": [],
   "source": []
  }
 ],
 "metadata": {
  "kernelspec": {
   "display_name": "Python 3",
   "language": "python",
   "name": "python3"
  },
  "language_info": {
   "codemirror_mode": {
    "name": "ipython",
    "version": 3
   },
   "file_extension": ".py",
   "mimetype": "text/x-python",
   "name": "python",
   "nbconvert_exporter": "python",
   "pygments_lexer": "ipython3",
   "version": "3.6.5"
  }
 },
 "nbformat": 4,
 "nbformat_minor": 2
}
