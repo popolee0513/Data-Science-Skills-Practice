{
 "cells": [
  {
   "cell_type": "code",
   "execution_count": 1,
   "metadata": {},
   "outputs": [],
   "source": [
    "import numpy as np\n",
    "import matplotlib.pyplot as plt\n",
    "def f(x):\n",
    "    y=5*x**3+3*x**2+2*x\n",
    "    return y\n",
    "value_y=[]\n",
    "for i in range(-20,11):\n",
    "    value_y.append(f(i))"
   ]
  },
  {
   "cell_type": "code",
   "execution_count": 2,
   "metadata": {},
   "outputs": [],
   "source": [
    "def cost(y_hat,y):\n",
    "    return np.sum((y-y_hat)**2)"
   ]
  },
  {
   "cell_type": "code",
   "execution_count": null,
   "metadata": {},
   "outputs": [
    {
     "name": "stdout",
     "output_type": "stream",
     "text": [
      "The loss is 5104008183 in iteration 0\n",
      "The loss is 7952 in iteration 10000\n",
      "The loss is 7130 in iteration 20000\n",
      "The loss is 6654 in iteration 30000\n",
      "The loss is 6209 in iteration 40000\n",
      "The loss is 5794 in iteration 50000\n",
      "The loss is 5407 in iteration 60000\n",
      "The loss is 5046 in iteration 70000\n",
      "The loss is 4709 in iteration 80000\n",
      "The loss is 4394 in iteration 90000\n",
      "The loss is 4101 in iteration 100000\n",
      "The loss is 3827 in iteration 110000\n",
      "The loss is 3571 in iteration 120000\n",
      "The loss is 3332 in iteration 130000\n",
      "The loss is 3110 in iteration 140000\n",
      "The loss is 2902 in iteration 150000\n",
      "The loss is 2708 in iteration 160000\n",
      "The loss is 2527 in iteration 170000\n",
      "The loss is 2358 in iteration 180000\n",
      "The loss is 2201 in iteration 190000\n",
      "The loss is 2054 in iteration 200000\n",
      "The loss is 1916 in iteration 210000\n",
      "The loss is 1788 in iteration 220000\n",
      "The loss is 1669 in iteration 230000\n",
      "The loss is 1557 in iteration 240000\n",
      "The loss is 1453 in iteration 250000\n",
      "The loss is 1356 in iteration 260000\n",
      "The loss is 1265 in iteration 270000\n",
      "The loss is 1181 in iteration 280000\n",
      "The loss is 1102 in iteration 290000\n",
      "The loss is 1028 in iteration 300000\n",
      "The loss is 960 in iteration 310000\n",
      "The loss is 895 in iteration 320000\n",
      "The loss is 836 in iteration 330000\n",
      "The loss is 780 in iteration 340000\n",
      "The loss is 728 in iteration 350000\n",
      "The loss is 679 in iteration 360000\n",
      "The loss is 634 in iteration 370000\n",
      "The loss is 591 in iteration 380000\n",
      "The loss is 552 in iteration 390000\n",
      "The loss is 515 in iteration 400000\n",
      "The loss is 480 in iteration 410000\n",
      "The loss is 448 in iteration 420000\n",
      "The loss is 418 in iteration 430000\n",
      "The loss is 390 in iteration 440000\n"
     ]
    }
   ],
   "source": [
    "w=np.random.normal(size=3)\n",
    "x3=(np.array(list(range(-20,11)))**3).reshape(-1,1)\n",
    "x2=(np.array(list(range(-20,11)))**2).reshape(-1,1)\n",
    "x1=(np.array(list(range(-20,11)))).reshape(-1,1)\n",
    "x=np.concatenate((x1, x2,x3), axis=1)\n",
    "y=value_y\n",
    "loss=[]\n",
    "itera=[]\n",
    "def grad(alpha,iter_num,x,y,start):\n",
    "    w=start\n",
    "    for i in range(iter_num):\n",
    "        predict=np.dot(x,w)\n",
    "        Cost=cost(predict,y)\n",
    "        if i%10000==0:\n",
    "            print(\"The loss is %d in iteration %d\"%(Cost,i))\n",
    "            loss.append(Cost)\n",
    "            itera.append(i)\n",
    "        w=w+alpha*np.dot(x.T,(y-predict))\n",
    "    return w\n",
    "grad(0.000000005,1000000,x,y,w)"
   ]
  },
  {
   "cell_type": "code",
   "execution_count": 22,
   "metadata": {},
   "outputs": [
    {
     "data": {
      "text/plain": [
       "[<matplotlib.lines.Line2D at 0x1c553339e80>]"
      ]
     },
     "execution_count": 22,
     "metadata": {},
     "output_type": "execute_result"
    },
    {
     "data": {
      "image/png": "[encoded data removed]",
      "text/plain": [
       "<Figure size 432x288 with 1 Axes>"
      ]
     },
     "metadata": {},
     "output_type": "display_data"
    }
   ],
   "source": [
    "plt.plot(list(range(len(loss[1:]))),loss[1:])"
   ]
  },
  {
   "cell_type": "code",
   "execution_count": null,
   "metadata": {},
   "outputs": [],
   "source": []
  }
 ],
 "metadata": {
  "kernelspec": {
   "display_name": "Python 3",
   "language": "python",
   "name": "python3"
  },
  "language_info": {
   "codemirror_mode": {
    "name": "ipython",
    "version": 3
   },
   "file_extension": ".py",
   "mimetype": "text/x-python",
   "name": "python",
   "nbconvert_exporter": "python",
   "pygments_lexer": "ipython3",
   "version": "3.6.5"
  }
 },
 "nbformat": 4,
 "nbformat_minor": 2
}
