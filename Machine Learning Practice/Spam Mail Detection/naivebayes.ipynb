{
 "cells": [
  {
   "cell_type": "code",
   "execution_count": 1,
   "metadata": {},
   "outputs": [
    {
     "name": "stdout",
     "output_type": "stream",
     "text": [
      "dict finish:  spam\n",
      "The number of text in spam data:  3369\n",
      "dict finish:  ham\n",
      "The number of text in ham data:  1500\n"
     ]
    }
   ],
   "source": [
    "import sys\n",
    "import os.path\n",
    "import numpy as np\n",
    "from collections import Counter\n",
    "import util\n",
    "\n",
    "USAGE = \"%s <test data folder> <spam folder> <ham folder>\"\n",
    "\n",
    "def get_counts(file_list):\n",
    "    \"\"\"\n",
    "    Computes counts for each word that occurs in the files in file_list.\n",
    "\n",
    "    Inputs\n",
    "    ------\n",
    "    file_list : a list of filenames, suitable for use with open() or \n",
    "                util.get_words_in_file()\n",
    "\n",
    "    Output\n",
    "    ------\n",
    "    A dict whose keys are words, and whose values are the number of files the\n",
    "    key occurred in.\n",
    "    \"\"\"\n",
    "    ### TODO: Comment out the following line and write your code here\n",
    "    counter=Counter()\n",
    "    total_text=[]\n",
    "    a=0\n",
    "    for text in util.get_files_in_folder(file_list): \n",
    "        try:  \n",
    "            counter.update(set(util.get_words_in_file(text)))\n",
    "        except:\n",
    "                continue\n",
    "    print(\"dict finish: \",file_list)\n",
    "  \n",
    "            \n",
    "    return counter\n",
    "print(\"The number of text in spam data: \",get_counts(\"spam\").most_common()[0][1])\n",
    "print(\"The number of text in ham data: \",get_counts(\"ham\").most_common()[0][1])"
   ]
  },
  {
   "cell_type": "code",
   "execution_count": null,
   "metadata": {},
   "outputs": [],
   "source": []
  },
  {
   "cell_type": "code",
   "execution_count": 2,
   "metadata": {},
   "outputs": [],
   "source": [
    "#spam  >3369"
   ]
  },
  {
   "cell_type": "code",
   "execution_count": 3,
   "metadata": {},
   "outputs": [],
   "source": [
    "#ham   >1500"
   ]
  },
  {
   "cell_type": "code",
   "execution_count": 4,
   "metadata": {},
   "outputs": [],
   "source": [
    "import numpy as np\n",
    "def get_probabilities(file_list):\n",
    "    \"\"\"\n",
    "    Computes log-frequencies for each word that occurs in the files in \n",
    "    file_list.\n",
    "\n",
    "    Input\n",
    "    -----\n",
    "    file_list : a list of filenames, suitable for use with open() or \n",
    "                util.get_words_in_file()\n",
    "\n",
    "    Output\n",
    "    ------\n",
    "    A dict whose keys are words, and whose values are the log of the smoothed\n",
    "    estimate of the fraction of files the key occurred in.\n",
    "\n",
    "    Hint\n",
    "    ----\n",
    "    The data structure util.DefaultDict will be useful to you here, as will the\n",
    "    get_counts() helper above.\n",
    "    \"\"\"\n",
    "    ### TODO: Comment out the following line and write your code here\n",
    "    new_dict=get_counts(file_list)\n",
    "    total_count= new_dict.most_common()[0][1]\n",
    "    for voc in new_dict:\n",
    "        new_dict[voc]=((new_dict[voc]+1)/(total_count+2))\n",
    "    return new_dict "
   ]
  },
  {
   "cell_type": "code",
   "execution_count": 5,
   "metadata": {},
   "outputs": [],
   "source": [
    "def learn_distributions(file_list):\n",
    "    \"\"\"\n",
    "    Input\n",
    "    -----\n",
    "    A two-element list. The first element is a list of spam files, \n",
    "    and the second element is a list of ham (non-spam) files.\n",
    "\n",
    "    Output\n",
    "    ------\n",
    "    (log_probabilities_by_category, log_prior)\n",
    "\n",
    "    log_probabilities_by_category : A list whose first element is a smoothed\n",
    "                                    estimate for log P(y=w_j|c=spam) (as a dict,\n",
    "                                    just as in get_log_probabilities above), and\n",
    "                                    whose second element is the same for c=ham.\n",
    "\n",
    "    log_prior_by_category : A list of estimates for the log-probabilities for\n",
    "                            each class:\n",
    "                            [est. for log P(c=spam), est. for log P(c=ham)]\n",
    "    \"\"\"\n",
    "    ### TODO: Comment out the following line and write your code here\n",
    "    probabilities_by_category=[]\n",
    "    probabilities_by_category.append(get_probabilities(file_list[0]))\n",
    "    probabilities_by_category.append(get_probabilities(file_list[1]))\n",
    "    prior_by_category=[]\n",
    "    spam=3369\n",
    "    ham=1500\n",
    "    prior_by_category.append(spam/(spam+ham))\n",
    "    prior_by_category.append(ham/(spam+ham))\n",
    "    return (probabilities_by_category,prior_by_category)"
   ]
  },
  {
   "cell_type": "code",
   "execution_count": 6,
   "metadata": {},
   "outputs": [],
   "source": [
    "def classify_email(email_filename,\n",
    "                   probabilities_by_category,\n",
    "                   prior_by_category):\n",
    "    \"\"\"\n",
    "    Uses Naive Bayes classification to classify the email in the given file.\n",
    "\n",
    "    Inputs\n",
    "    ------\n",
    "    email_filename : name of the file containing the email to be classified\n",
    "\n",
    "    log_probabilities_by_category : See output of learn_distributions\n",
    "\n",
    "    log_prior_by_category : See output of learn_distributions\n",
    "\n",
    "    Output\n",
    "    ------\n",
    "    One of the labels in names.\n",
    "    \n",
    "    \"\"\"\n",
    "    spam_prior=prior_by_category[0]\n",
    "    ham_prior= prior_by_category[1]\n",
    "    file =util.get_words_in_file(email_filename)\n",
    "    spam=1\n",
    "    ham=1\n",
    "    for voc in file:\n",
    "        if voc in probabilities_by_category[0].keys():\n",
    "            spam*= probabilities_by_category[0][voc]\n",
    "        else:\n",
    "            spam*= (1/(3369+2))\n",
    "    for voc in file:\n",
    "        if voc in probabilities_by_category[1].keys():\n",
    "            ham*= probabilities_by_category[1][voc]\n",
    "        else:\n",
    "            ham*= (1/(1500+2))   \n",
    "    prob_ham= (ham_prior*ham)\n",
    "    prob_spam= (ham_prior*spam)\n",
    "    ### TODO: Comment out the following line and write your code here\n",
    "    if prob_spam>prob_ham:\n",
    "        return 'spam'\n",
    "    else:\n",
    "        return 'ham'"
   ]
  },
  {
   "cell_type": "code",
   "execution_count": 7,
   "metadata": {},
   "outputs": [],
   "source": [
    "import re\n",
    "from sklearn.metrics import confusion_matrix\n",
    "def main():\n",
    "\n",
    "    ### Learn the distributions\n",
    "    file_lists = [\"spam\",\"ham\"]\n",
    "    (probabilities_by_category, priors_by_category)=learn_distributions(file_lists)\n",
    "    ### Classify and measure performance\n",
    "    a=0\n",
    "    c=0\n",
    "    y_true=[]\n",
    "    y_pred=[]\n",
    "    for filename in util.get_files_in_folder(\"testing\"):\n",
    "        ## Classify\n",
    "        a+=1\n",
    "        label = classify_email(filename,\n",
    "                               probabilities_by_category,\n",
    "                               priors_by_category)\n",
    "        y_true.append(label)\n",
    "        y_pred.append(re.findall(r'spam|ham',filename))\n",
    "        \n",
    "        if label in filename:\n",
    "            c+=1\n",
    "        # Uncomment this line to see which files your classifier\n",
    "        # gets right/wrong:\n",
    "        #print(\"%s : %s\" %(label, filename))\n",
    "    print(\"There are %d emails in test set.\"%(a))\n",
    "    print(\"correct rate = \",c/a)\n",
    "    print(confusion_matrix(y_true, y_pred, labels=[\"spam\",\"ham\"]))"
   ]
  },
  {
   "cell_type": "code",
   "execution_count": 8,
   "metadata": {},
   "outputs": [
    {
     "name": "stdout",
     "output_type": "stream",
     "text": [
      "dict finish:  spam\n",
      "dict finish:  ham\n",
      "There are 100 emails in test set.\n",
      "correct rate =  0.82\n",
      "[[33  2]\n",
      " [16 49]]\n"
     ]
    }
   ],
   "source": [
    "if __name__ == '__main__':\n",
    "    main()"
   ]
  },
  {
   "cell_type": "code",
   "execution_count": null,
   "metadata": {},
   "outputs": [],
   "source": [
    "\n"
   ]
  },
  {
   "cell_type": "code",
   "execution_count": null,
   "metadata": {},
   "outputs": [],
   "source": []
  },
  {
   "cell_type": "code",
   "execution_count": null,
   "metadata": {},
   "outputs": [],
   "source": []
  }
 ],
 "metadata": {
  "kernelspec": {
   "display_name": "Python 3",
   "language": "python",
   "name": "python3"
  },
  "language_info": {
   "codemirror_mode": {
    "name": "ipython",
    "version": 3
   },
   "file_extension": ".py",
   "mimetype": "text/x-python",
   "name": "python",
   "nbconvert_exporter": "python",
   "pygments_lexer": "ipython3",
   "version": "3.6.5"
  }
 },
 "nbformat": 4,
 "nbformat_minor": 2
}
