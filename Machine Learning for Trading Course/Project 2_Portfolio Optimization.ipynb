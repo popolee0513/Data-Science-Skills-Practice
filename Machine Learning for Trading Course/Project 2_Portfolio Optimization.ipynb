{
 "cells": [
  {
   "cell_type": "code",
   "execution_count": 1,
   "metadata": {},
   "outputs": [],
   "source": [
    "import pandas as pd  \n",
    "import matplotlib.pyplot as plt \n",
    "import numpy as np \n",
    "import datetime as dt  \n",
    "from util import get_data, plot_data  \n",
    "import datetime \n",
    "import scipy.optimize as spo\n",
    "import math\n",
    "# This is the function that will be tested by the autograder \n",
    "# The student must update this code to properly implement the functionality\n",
    "def str2dt(strng):  \n",
    "    year,month,day = map(int,strng.split('-')) \n",
    "    return datetime.datetime(year,month,day) \n",
    "def sharpe_ratio(data,allocs):\n",
    "    data*=allocs\n",
    "    data=data.sum(axis=1)\n",
    "    data=data.pct_change(periods=1)\n",
    "    return -(np.mean(data)/np.std(data))*(252)**(1/2)\n",
    "def optimize(data, error_func,guess,cons,bnds):\n",
    "    \n",
    "    result = spo.minimize(error_func, guess, args=(data,), method = 'SLSQP', bounds=bnds,\n",
    "               constraints=cons)\n",
    "    return [round(x,2) for x in result.x]"
   ]
  },
  {
   "cell_type": "code",
   "execution_count": 2,
   "metadata": {},
   "outputs": [],
   "source": [
    "def optimize_portfolio(sd, ed, syms,gen_plot=False ): \n",
    "    dates = pd.date_range(sd, ed)  \n",
    "    prices_all = get_data(syms, dates)  # automatically adds SPY \n",
    "    prices = prices_all[syms]  # only portfolio symbols \n",
    "    prices_all/= prices_all.iloc[0]\n",
    "    prices_SPY = prices_all['SPY']  # only SPY, for comparison later \n",
    "    if 'SPY' in prices_all.columns:\n",
    "        prices_all.drop(\"SPY\",axis=1,inplace=True)\n",
    "    allocs = np.array([1/len(symbols)]*len(symbols))\n",
    "    guess=allocs\n",
    "    constraints = ({ 'type': 'eq', 'fun': lambda inputs: 1.0 - np.sum(inputs)})\n",
    "    bnds=()\n",
    "    for i in range(len(symbols)):\n",
    "        bnds+=((0,1),)\n",
    "    allocs=list(optimize(data= prices_all, error_func= sharpe_ratio,guess=guess,cons=constraints,bnds=bnds))\n",
    "    prices_all*=allocs\n",
    "    prices_all=pd.DataFrame(prices_all.sum(axis=1))\n",
    "    prices_all.columns=[\"Portfolio\"]\n",
    "    prices_all[\"SPY\"]= prices_SPY\n",
    "    if gen_plot:\n",
    "        plot_data(prices_all)\n",
    "    prices_all[\"daily returns\"]=prices_all[\"Portfolio\"].pct_change()\n",
    "    sddr=np.std(prices_all[\"daily returns\"])\n",
    "    adr=np.mean(prices_all[\"daily returns\"])\n",
    "    sr=(adr/sddr)*(252)**(1/2)\n",
    "    cr=(prices_all[\"Portfolio\"].iloc[-1]/prices_all[\"Portfolio\"].iloc[0])-1\n",
    "    return allocs,cr, adr, sddr, sr"
   ]
  },
  {
   "cell_type": "code",
   "execution_count": 3,
   "metadata": {},
   "outputs": [
    {
     "data": {
      "image/png": "[encoded data removed]",
      "text/plain": [
       "<Figure size 432x288 with 1 Axes>"
      ]
     },
     "metadata": {
      "needs_background": "light"
     },
     "output_type": "display_data"
    },
    {
     "data": {
      "text/plain": [
       "[0.0, 0.4, 0.6, 0.0]"
      ]
     },
     "execution_count": 3,
     "metadata": {},
     "output_type": "execute_result"
    }
   ],
   "source": [
    "###test1\n",
    "start_date=str2dt('2010-01-01')\n",
    "end_date=str2dt('2010-12-31')\n",
    "symbols=['GOOG', 'AAPL', 'GLD', 'XOM']\n",
    "optimize_portfolio(start_date, end_date, symbols,gen_plot=True)[0]"
   ]
  },
  {
   "cell_type": "code",
   "execution_count": 4,
   "metadata": {},
   "outputs": [
    {
     "data": {
      "text/plain": [
       "[0.78, 0.22, 0.0, 0.0]"
      ]
     },
     "execution_count": 4,
     "metadata": {},
     "output_type": "execute_result"
    }
   ],
   "source": [
    "###test2\n",
    "start_date=str2dt('2004-01-01')\n",
    "end_date=str2dt('2006-01-01')\n",
    "symbols=['AXP', 'HPQ', 'IBM', 'HNZ'] \n",
    "optimize_portfolio(start_date, end_date, symbols,gen_plot=False)[0]"
   ]
  },
  {
   "cell_type": "code",
   "execution_count": 5,
   "metadata": {},
   "outputs": [
    {
     "data": {
      "text/plain": [
       "[0.0, 0.08, 0.59, 0.34]"
      ]
     },
     "execution_count": 5,
     "metadata": {},
     "output_type": "execute_result"
    }
   ],
   "source": [
    "###test3\n",
    "start_date=str2dt('2004-12-01')\n",
    "end_date=str2dt('2006-05-31')\n",
    "symbols=['YHOO', 'XOM', 'GLD', 'HNZ']\n",
    "optimize_portfolio(start_date, end_date, symbols,gen_plot=False)[0]"
   ]
  },
  {
   "cell_type": "code",
   "execution_count": 6,
   "metadata": {},
   "outputs": [
    {
     "data": {
      "text/plain": [
       "[0.0, 0.1, 0.25, 0.65]"
      ]
     },
     "execution_count": 6,
     "metadata": {},
     "output_type": "execute_result"
    }
   ],
   "source": [
    "###test4\n",
    "start_date=str2dt('2005-12-01')\n",
    "end_date=str2dt('2006-05-31')\n",
    "symbols=['YHOO', 'HPQ', 'GLD', 'HNZ']\n",
    "optimize_portfolio(start_date, end_date, symbols,gen_plot=False)[0]"
   ]
  },
  {
   "cell_type": "code",
   "execution_count": 7,
   "metadata": {},
   "outputs": [
    {
     "data": {
      "text/plain": [
       "[0.0, 0.27, 0.11, 0.62]"
      ]
     },
     "execution_count": 7,
     "metadata": {},
     "output_type": "execute_result"
    }
   ],
   "source": [
    "###test5\n",
    "start_date=str2dt('2005-12-01')\n",
    "end_date=str2dt('2007-05-31')\n",
    "symbols=['MSFT', 'HPQ', 'GLD', 'HNZ']\n",
    "optimize_portfolio(start_date, end_date, symbols,gen_plot=False)[0]"
   ]
  },
  {
   "cell_type": "code",
   "execution_count": 8,
   "metadata": {},
   "outputs": [
    {
     "data": {
      "text/plain": [
       "[0.42, 0.32, 0.0, 0.26]"
      ]
     },
     "execution_count": 8,
     "metadata": {},
     "output_type": "execute_result"
    }
   ],
   "source": [
    "###test6\n",
    "start_date=str2dt('2006-05-31')\n",
    "end_date=str2dt('2007-05-31')\n",
    "symbols=['MSFT', 'AAPL', 'GLD', 'HNZ']  \n",
    "optimize_portfolio(start_date, end_date, symbols,gen_plot=False)[0]"
   ]
  },
  {
   "cell_type": "code",
   "execution_count": 9,
   "metadata": {},
   "outputs": [
    {
     "data": {
      "text/plain": [
       "[0.46, 0.37, 0.0, 0.17]"
      ]
     },
     "execution_count": 9,
     "metadata": {},
     "output_type": "execute_result"
    }
   ],
   "source": [
    "###test7\n",
    "start_date=str2dt('2011-01-01')\n",
    "end_date=str2dt('2011-12-31')\n",
    "symbols=['AAPL', 'GLD', 'GOOG', 'XOM'] \n",
    "optimize_portfolio(start_date, end_date, symbols,gen_plot=False)[0]"
   ]
  },
  {
   "cell_type": "code",
   "execution_count": 10,
   "metadata": {},
   "outputs": [
    {
     "data": {
      "text/plain": [
       "[0.0, 0.0, 0.0, 1.0]"
      ]
     },
     "execution_count": 10,
     "metadata": {},
     "output_type": "execute_result"
    }
   ],
   "source": [
    "###test8\n",
    "start_date=str2dt('2010-01-01')\n",
    "end_date=str2dt('2010-12-31')\n",
    "symbols=['AXP', 'HPQ', 'IBM', 'HNZ']\n",
    "optimize_portfolio(start_date, end_date, symbols,gen_plot=False)[0]"
   ]
  },
  {
   "cell_type": "code",
   "execution_count": null,
   "metadata": {},
   "outputs": [],
   "source": []
  }
 ],
 "metadata": {
  "kernelspec": {
   "display_name": "Python 3",
   "language": "python",
   "name": "python3"
  },
  "language_info": {
   "codemirror_mode": {
    "name": "ipython",
    "version": 3
   },
   "file_extension": ".py",
   "mimetype": "text/x-python",
   "name": "python",
   "nbconvert_exporter": "python",
   "pygments_lexer": "ipython3",
   "version": "3.8.3"
  }
 },
 "nbformat": 4,
 "nbformat_minor": 4
}
