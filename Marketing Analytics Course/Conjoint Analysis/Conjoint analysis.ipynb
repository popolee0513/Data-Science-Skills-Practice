{
 "cells": [
  {
   "cell_type": "code",
   "execution_count": 1,
   "metadata": {},
   "outputs": [],
   "source": [
    "import pandas as pd \n",
    "import numpy as np \n",
    "from statsmodels.formula.api import ols\n",
    "import statsmodels.api as sm\n",
    "import matplotlib.pyplot as plt"
   ]
  },
  {
   "cell_type": "code",
   "execution_count": 2,
   "metadata": {},
   "outputs": [
    {
     "data": {
      "text/html": [
       "<div>\n",
       "<style scoped>\n",
       "    .dataframe tbody tr th:only-of-type {\n",
       "        vertical-align: middle;\n",
       "    }\n",
       "\n",
       "    .dataframe tbody tr th {\n",
       "        vertical-align: top;\n",
       "    }\n",
       "\n",
       "    .dataframe thead th {\n",
       "        text-align: right;\n",
       "    }\n",
       "</style>\n",
       "<table border=\"1\" class=\"dataframe\">\n",
       "  <thead>\n",
       "    <tr style=\"text-align: right;\">\n",
       "      <th></th>\n",
       "      <th>Rating</th>\n",
       "      <th>Career</th>\n",
       "      <th>Fitness</th>\n",
       "      <th>Humor</th>\n",
       "      <th>Religiosity</th>\n",
       "      <th>Interests</th>\n",
       "    </tr>\n",
       "  </thead>\n",
       "  <tbody>\n",
       "    <tr>\n",
       "      <th>0</th>\n",
       "      <td>1</td>\n",
       "      <td>FineArts</td>\n",
       "      <td>NotFit</td>\n",
       "      <td>Serious</td>\n",
       "      <td>SomRel</td>\n",
       "      <td>ShareSome</td>\n",
       "    </tr>\n",
       "    <tr>\n",
       "      <th>1</th>\n",
       "      <td>1</td>\n",
       "      <td>Business</td>\n",
       "      <td>VeryFit</td>\n",
       "      <td>Serious</td>\n",
       "      <td>VeryRel</td>\n",
       "      <td>VeryDiff</td>\n",
       "    </tr>\n",
       "    <tr>\n",
       "      <th>2</th>\n",
       "      <td>1</td>\n",
       "      <td>Business</td>\n",
       "      <td>NotFit</td>\n",
       "      <td>SomeFunny</td>\n",
       "      <td>NotRel</td>\n",
       "      <td>VeryDiff</td>\n",
       "    </tr>\n",
       "    <tr>\n",
       "      <th>3</th>\n",
       "      <td>2</td>\n",
       "      <td>Science</td>\n",
       "      <td>VeryFit</td>\n",
       "      <td>Serious</td>\n",
       "      <td>SomRel</td>\n",
       "      <td>ShareSome</td>\n",
       "    </tr>\n",
       "    <tr>\n",
       "      <th>4</th>\n",
       "      <td>2</td>\n",
       "      <td>Business</td>\n",
       "      <td>SomeFit</td>\n",
       "      <td>VeryFunny</td>\n",
       "      <td>VeryRel</td>\n",
       "      <td>ShareSome</td>\n",
       "    </tr>\n",
       "  </tbody>\n",
       "</table>\n",
       "</div>"
      ],
      "text/plain": [
       "   Rating    Career  Fitness      Humor Religiosity  Interests\n",
       "0       1  FineArts   NotFit    Serious      SomRel  ShareSome\n",
       "1       1  Business  VeryFit    Serious     VeryRel   VeryDiff\n",
       "2       1  Business   NotFit  SomeFunny      NotRel   VeryDiff\n",
       "3       2   Science  VeryFit    Serious      SomRel  ShareSome\n",
       "4       2  Business  SomeFit  VeryFunny     VeryRel  ShareSome"
      ]
     },
     "execution_count": 2,
     "metadata": {},
     "output_type": "execute_result"
    }
   ],
   "source": [
    "df = pd.read_csv(\"conjointData.csv\")\n",
    "df.head()"
   ]
  },
  {
   "cell_type": "code",
   "execution_count": 3,
   "metadata": {},
   "outputs": [],
   "source": [
    "#pd.concat([df[\"Rating\"],pd.get_dummies(df[df.columns[1:]])],axis=1)"
   ]
  },
  {
   "cell_type": "code",
   "execution_count": 4,
   "metadata": {},
   "outputs": [
    {
     "name": "stderr",
     "output_type": "stream",
     "text": [
      "C:\\Users\\POPO\\Anaconda3\\lib\\site-packages\\numpy\\core\\fromnumeric.py:2495: FutureWarning: Method .ptp is deprecated and will be removed in a future version. Use numpy.ptp instead.\n",
      "  return ptp(axis=axis, out=out, **kwargs)\n",
      "C:\\Users\\POPO\\Anaconda3\\lib\\site-packages\\scipy\\stats\\stats.py:1450: UserWarning: kurtosistest only valid for n>=20 ... continuing anyway, n=18\n",
      "  \"anyway, n=%i\" % int(n))\n"
     ]
    },
    {
     "data": {
      "text/html": [
       "<table class=\"simpletable\">\n",
       "<caption>OLS Regression Results</caption>\n",
       "<tr>\n",
       "  <th>Dep. Variable:</th>         <td>Rating</td>      <th>  R-squared:         </th> <td>   0.932</td>\n",
       "</tr>\n",
       "<tr>\n",
       "  <th>Model:</th>                   <td>OLS</td>       <th>  Adj. R-squared:    </th> <td>   0.834</td>\n",
       "</tr>\n",
       "<tr>\n",
       "  <th>Method:</th>             <td>Least Squares</td>  <th>  F-statistic:       </th> <td>   9.532</td>\n",
       "</tr>\n",
       "<tr>\n",
       "  <th>Date:</th>             <td>Thu, 28 Nov 2019</td> <th>  Prob (F-statistic):</th>  <td>0.00339</td>\n",
       "</tr>\n",
       "<tr>\n",
       "  <th>Time:</th>                 <td>21:30:00</td>     <th>  Log-Likelihood:    </th> <td> -10.322</td>\n",
       "</tr>\n",
       "<tr>\n",
       "  <th>No. Observations:</th>      <td>    18</td>      <th>  AIC:               </th> <td>   42.64</td>\n",
       "</tr>\n",
       "<tr>\n",
       "  <th>Df Residuals:</th>          <td>     7</td>      <th>  BIC:               </th> <td>   52.44</td>\n",
       "</tr>\n",
       "<tr>\n",
       "  <th>Df Model:</th>              <td>    10</td>      <th>                     </th>     <td> </td>   \n",
       "</tr>\n",
       "<tr>\n",
       "  <th>Covariance Type:</th>      <td>nonrobust</td>    <th>                     </th>     <td> </td>   \n",
       "</tr>\n",
       "</table>\n",
       "<table class=\"simpletable\">\n",
       "<tr>\n",
       "             <td></td>               <th>coef</th>     <th>std err</th>      <th>t</th>      <th>P>|t|</th>  <th>[0.025</th>    <th>0.975]</th>  \n",
       "</tr>\n",
       "<tr>\n",
       "  <th>Intercept</th>              <td>    0.6818</td> <td>    0.547</td> <td>    1.246</td> <td> 0.253</td> <td>   -0.612</td> <td>    1.975</td>\n",
       "</tr>\n",
       "<tr>\n",
       "  <th>Career[T.FineArts]</th>     <td>    0.8333</td> <td>    0.398</td> <td>    2.096</td> <td> 0.074</td> <td>   -0.107</td> <td>    1.773</td>\n",
       "</tr>\n",
       "<tr>\n",
       "  <th>Career[T.Science]</th>      <td>    0.1667</td> <td>    0.398</td> <td>    0.419</td> <td> 0.688</td> <td>   -0.773</td> <td>    1.107</td>\n",
       "</tr>\n",
       "<tr>\n",
       "  <th>Fitness[T.SomeFit]</th>     <td>    2.3333</td> <td>    0.398</td> <td>    5.870</td> <td> 0.001</td> <td>    1.393</td> <td>    3.273</td>\n",
       "</tr>\n",
       "<tr>\n",
       "  <th>Fitness[T.VeryFit]</th>     <td>    1.6667</td> <td>    0.398</td> <td>    4.193</td> <td> 0.004</td> <td>    0.727</td> <td>    2.607</td>\n",
       "</tr>\n",
       "<tr>\n",
       "  <th>Humor[T.SomeFunny]</th>     <td>    1.3636</td> <td>    0.415</td> <td>    3.284</td> <td> 0.013</td> <td>    0.382</td> <td>    2.345</td>\n",
       "</tr>\n",
       "<tr>\n",
       "  <th>Humor[T.VeryFunny]</th>     <td>    1.8182</td> <td>    0.415</td> <td>    4.379</td> <td> 0.003</td> <td>    0.836</td> <td>    2.800</td>\n",
       "</tr>\n",
       "<tr>\n",
       "  <th>Religiosity[T.SomRel]</th>  <td>    0.8182</td> <td>    0.415</td> <td>    1.971</td> <td> 0.089</td> <td>   -0.164</td> <td>    1.800</td>\n",
       "</tr>\n",
       "<tr>\n",
       "  <th>Religiosity[T.VeryRel]</th> <td>   -1.5455</td> <td>    0.415</td> <td>   -3.722</td> <td> 0.007</td> <td>   -2.527</td> <td>   -0.564</td>\n",
       "</tr>\n",
       "<tr>\n",
       "  <th>Interests[T.ShareSome]</th> <td>   -1.3333</td> <td>    0.398</td> <td>   -3.354</td> <td> 0.012</td> <td>   -2.273</td> <td>   -0.393</td>\n",
       "</tr>\n",
       "<tr>\n",
       "  <th>Interests[T.VeryDiff]</th>  <td>   -0.6667</td> <td>    0.398</td> <td>   -1.677</td> <td> 0.137</td> <td>   -1.607</td> <td>    0.273</td>\n",
       "</tr>\n",
       "</table>\n",
       "<table class=\"simpletable\">\n",
       "<tr>\n",
       "  <th>Omnibus:</th>       <td> 0.291</td> <th>  Durbin-Watson:     </th> <td>   2.714</td>\n",
       "</tr>\n",
       "<tr>\n",
       "  <th>Prob(Omnibus):</th> <td> 0.865</td> <th>  Jarque-Bera (JB):  </th> <td>   0.458</td>\n",
       "</tr>\n",
       "<tr>\n",
       "  <th>Skew:</th>          <td> 0.171</td> <th>  Prob(JB):          </th> <td>   0.795</td>\n",
       "</tr>\n",
       "<tr>\n",
       "  <th>Kurtosis:</th>      <td> 2.297</td> <th>  Cond. No.          </th> <td>    6.66</td>\n",
       "</tr>\n",
       "</table><br/><br/>Warnings:<br/>[1] Standard Errors assume that the covariance matrix of the errors is correctly specified."
      ],
      "text/plain": [
       "<class 'statsmodels.iolib.summary.Summary'>\n",
       "\"\"\"\n",
       "                            OLS Regression Results                            \n",
       "==============================================================================\n",
       "Dep. Variable:                 Rating   R-squared:                       0.932\n",
       "Model:                            OLS   Adj. R-squared:                  0.834\n",
       "Method:                 Least Squares   F-statistic:                     9.532\n",
       "Date:                Thu, 28 Nov 2019   Prob (F-statistic):            0.00339\n",
       "Time:                        21:30:00   Log-Likelihood:                -10.322\n",
       "No. Observations:                  18   AIC:                             42.64\n",
       "Df Residuals:                       7   BIC:                             52.44\n",
       "Df Model:                          10                                         \n",
       "Covariance Type:            nonrobust                                         \n",
       "==========================================================================================\n",
       "                             coef    std err          t      P>|t|      [0.025      0.975]\n",
       "------------------------------------------------------------------------------------------\n",
       "Intercept                  0.6818      0.547      1.246      0.253      -0.612       1.975\n",
       "Career[T.FineArts]         0.8333      0.398      2.096      0.074      -0.107       1.773\n",
       "Career[T.Science]          0.1667      0.398      0.419      0.688      -0.773       1.107\n",
       "Fitness[T.SomeFit]         2.3333      0.398      5.870      0.001       1.393       3.273\n",
       "Fitness[T.VeryFit]         1.6667      0.398      4.193      0.004       0.727       2.607\n",
       "Humor[T.SomeFunny]         1.3636      0.415      3.284      0.013       0.382       2.345\n",
       "Humor[T.VeryFunny]         1.8182      0.415      4.379      0.003       0.836       2.800\n",
       "Religiosity[T.SomRel]      0.8182      0.415      1.971      0.089      -0.164       1.800\n",
       "Religiosity[T.VeryRel]    -1.5455      0.415     -3.722      0.007      -2.527      -0.564\n",
       "Interests[T.ShareSome]    -1.3333      0.398     -3.354      0.012      -2.273      -0.393\n",
       "Interests[T.VeryDiff]     -0.6667      0.398     -1.677      0.137      -1.607       0.273\n",
       "==============================================================================\n",
       "Omnibus:                        0.291   Durbin-Watson:                   2.714\n",
       "Prob(Omnibus):                  0.865   Jarque-Bera (JB):                0.458\n",
       "Skew:                           0.171   Prob(JB):                        0.795\n",
       "Kurtosis:                       2.297   Cond. No.                         6.66\n",
       "==============================================================================\n",
       "\n",
       "Warnings:\n",
       "[1] Standard Errors assume that the covariance matrix of the errors is correctly specified.\n",
       "\"\"\""
      ]
     },
     "execution_count": 4,
     "metadata": {},
     "output_type": "execute_result"
    }
   ],
   "source": [
    "df_add= sm.add_constant(df)\n",
    "#df_add.head()\n",
    "LR= ols('Rating ~Career+Fitness+Humor+Religiosity+Interests', data=df_add).fit()\n",
    "LR.summary()"
   ]
  },
  {
   "cell_type": "code",
   "execution_count": 5,
   "metadata": {},
   "outputs": [
    {
     "data": {
      "text/html": [
       "<div>\n",
       "<style scoped>\n",
       "    .dataframe tbody tr th:only-of-type {\n",
       "        vertical-align: middle;\n",
       "    }\n",
       "\n",
       "    .dataframe tbody tr th {\n",
       "        vertical-align: top;\n",
       "    }\n",
       "\n",
       "    .dataframe thead th {\n",
       "        text-align: right;\n",
       "    }\n",
       "</style>\n",
       "<table border=\"1\" class=\"dataframe\">\n",
       "  <thead>\n",
       "    <tr style=\"text-align: right;\">\n",
       "      <th></th>\n",
       "      <th>param_name</th>\n",
       "      <th>param_w</th>\n",
       "      <th>pval</th>\n",
       "      <th>abs_param_w</th>\n",
       "      <th>is_sig_95</th>\n",
       "      <th>c</th>\n",
       "    </tr>\n",
       "  </thead>\n",
       "  <tbody>\n",
       "    <tr>\n",
       "      <th>Career[T.Science]</th>\n",
       "      <td>Career[T.Science]</td>\n",
       "      <td>0.166667</td>\n",
       "      <td>0.687576</td>\n",
       "      <td>0.166667</td>\n",
       "      <td>False</td>\n",
       "      <td>red</td>\n",
       "    </tr>\n",
       "    <tr>\n",
       "      <th>Interests[T.VeryDiff]</th>\n",
       "      <td>Interests[T.VeryDiff]</td>\n",
       "      <td>-0.666667</td>\n",
       "      <td>0.137417</td>\n",
       "      <td>0.666667</td>\n",
       "      <td>False</td>\n",
       "      <td>red</td>\n",
       "    </tr>\n",
       "    <tr>\n",
       "      <th>Intercept</th>\n",
       "      <td>Intercept</td>\n",
       "      <td>0.681818</td>\n",
       "      <td>0.252721</td>\n",
       "      <td>0.681818</td>\n",
       "      <td>False</td>\n",
       "      <td>red</td>\n",
       "    </tr>\n",
       "    <tr>\n",
       "      <th>Religiosity[T.SomRel]</th>\n",
       "      <td>Religiosity[T.SomRel]</td>\n",
       "      <td>0.818182</td>\n",
       "      <td>0.089402</td>\n",
       "      <td>0.818182</td>\n",
       "      <td>False</td>\n",
       "      <td>red</td>\n",
       "    </tr>\n",
       "    <tr>\n",
       "      <th>Career[T.FineArts]</th>\n",
       "      <td>Career[T.FineArts]</td>\n",
       "      <td>0.833333</td>\n",
       "      <td>0.074263</td>\n",
       "      <td>0.833333</td>\n",
       "      <td>False</td>\n",
       "      <td>red</td>\n",
       "    </tr>\n",
       "  </tbody>\n",
       "</table>\n",
       "</div>"
      ],
      "text/plain": [
       "                                  param_name   param_w      pval  abs_param_w  \\\n",
       "Career[T.Science]          Career[T.Science]  0.166667  0.687576     0.166667   \n",
       "Interests[T.VeryDiff]  Interests[T.VeryDiff] -0.666667  0.137417     0.666667   \n",
       "Intercept                          Intercept  0.681818  0.252721     0.681818   \n",
       "Religiosity[T.SomRel]  Religiosity[T.SomRel]  0.818182  0.089402     0.818182   \n",
       "Career[T.FineArts]        Career[T.FineArts]  0.833333  0.074263     0.833333   \n",
       "\n",
       "                       is_sig_95    c  \n",
       "Career[T.Science]          False  red  \n",
       "Interests[T.VeryDiff]      False  red  \n",
       "Intercept                  False  red  \n",
       "Religiosity[T.SomRel]      False  red  \n",
       "Career[T.FineArts]         False  red  "
      ]
     },
     "execution_count": 5,
     "metadata": {},
     "output_type": "execute_result"
    }
   ],
   "source": [
    "res=LR\n",
    "df_res = pd.DataFrame({\n",
    "    'param_name': res.params.keys()\n",
    "    , 'param_w': res.params.values\n",
    "    , 'pval': res.pvalues\n",
    "})\n",
    "# adding field for absolute of parameters\n",
    "df_res['abs_param_w'] = np.abs(df_res['param_w'])\n",
    "# marking field is significant under 95% confidence interval\n",
    "df_res['is_sig_95'] = (df_res['pval'] < 0.05)\n",
    "# constructing color naming for each param\n",
    "df_res['c'] = ['blue' if x else 'red' for x in df_res['is_sig_95']]\n",
    "\n",
    "# make it sorted by abs of parameter value\n",
    "df_res = df_res.sort_values(by='abs_param_w', ascending=True)\n",
    "df_res.head()"
   ]
  },
  {
   "cell_type": "code",
   "execution_count": 6,
   "metadata": {},
   "outputs": [
    {
     "data": {
      "image/png": "[encoded data removed]",
      "text/plain": [
       "<Figure size 1008x576 with 1 Axes>"
      ]
     },
     "metadata": {},
     "output_type": "display_data"
    }
   ],
   "source": [
    "f, ax = plt.subplots(figsize=(14, 8))\n",
    "plt.title('Part Worth')\n",
    "pwu = df_res['param_w']\n",
    "xbar = np.arange(len(pwu))\n",
    "plt.barh(xbar, pwu, color=df_res['c'])\n",
    "plt.yticks(xbar, labels=df_res['param_name'])\n",
    "plt.show()"
   ]
  },
  {
   "cell_type": "code",
   "execution_count": 7,
   "metadata": {},
   "outputs": [
    {
     "name": "stdout",
     "output_type": "stream",
     "text": [
      "Intercept 0.6818181818181805\n",
      "Career[T.FineArts] 0.8333333333333346\n",
      "Career[T.Science] 0.16666666666666596\n",
      "Fitness[T.SomeFit] 2.3333333333333353\n",
      "Fitness[T.VeryFit] 1.666666666666666\n",
      "Humor[T.SomeFunny] 1.363636363636364\n",
      "Humor[T.VeryFunny] 1.8181818181818188\n",
      "Religiosity[T.SomRel] 0.8181818181818179\n",
      "Religiosity[T.VeryRel] -1.5454545454545467\n",
      "Interests[T.ShareSome] -1.3333333333333335\n",
      "Interests[T.VeryDiff] -0.6666666666666663\n"
     ]
    }
   ],
   "source": [
    "#list(res.params.items())\n",
    "for key, coeff in res.params.items():\n",
    "    print(key,coeff)"
   ]
  },
  {
   "cell_type": "code",
   "execution_count": 8,
   "metadata": {},
   "outputs": [
    {
     "data": {
      "text/plain": [
       "{'Career': [0, 0.8333333333333346, 0.16666666666666596],\n",
       " 'Fitness': [0, 2.3333333333333353, 1.666666666666666],\n",
       " 'Humor': [0, 1.363636363636364, 1.8181818181818188],\n",
       " 'Religiosity': [0, 0.8181818181818179, -1.5454545454545467],\n",
       " 'Interests': [0, -1.3333333333333335, -0.6666666666666663]}"
      ]
     },
     "execution_count": 8,
     "metadata": {},
     "output_type": "execute_result"
    }
   ],
   "source": [
    "# need to assemble per attribute for every level of that attribute in dicionary\n",
    "range_per_feature = dict()\n",
    "for key, coeff in res.params.items():\n",
    "    feature=key.split(\"[\")[0]\n",
    "    if feature not in range_per_feature:\n",
    "        range_per_feature[feature] = [0]   \n",
    "    range_per_feature[feature].append(coeff)\n",
    "del range_per_feature['Intercept']\n",
    "range_per_feature"
   ]
  },
  {
   "cell_type": "code",
   "execution_count": 9,
   "metadata": {},
   "outputs": [],
   "source": [
    "# importance per feature is range of coef in a feature\n",
    "# while range is simply max(x) - min(x)\n",
    "importance_per_feature = {\n",
    "    k: max(v) - min(v) for k, v in range_per_feature.items()\n",
    "}\n",
    "# compute relative importance per feature\n",
    "# or normalized feature importance by dividing \n",
    "# sum of importance for all features\n",
    "total_feature_importance = sum(importance_per_feature.values())\n",
    "relative_importance_per_feature = {\n",
    "    k: 100 * round(v/total_feature_importance, 3) for k, v in importance_per_feature.items()\n",
    "}"
   ]
  },
  {
   "cell_type": "code",
   "execution_count": 10,
   "metadata": {},
   "outputs": [
    {
     "data": {
      "image/png": "[encoded data removed]",
      "text/plain": [
       "<Figure size 720x432 with 1 Axes>"
      ]
     },
     "metadata": {},
     "output_type": "display_data"
    }
   ],
   "source": [
    "alt_data = pd.DataFrame(\n",
    "    list(importance_per_feature.items()), \n",
    "    columns=['attr', 'importance']\n",
    ").sort_values(by='importance', ascending=False)\n",
    "\n",
    "\n",
    "f, ax = plt.subplots(figsize=(10, 6))\n",
    "xbar = np.arange(len(alt_data['attr']))\n",
    "plt.title('Importance')\n",
    "plt.barh(xbar, alt_data['importance'])\n",
    "for i, v in enumerate(alt_data['importance']):\n",
    "    ax.text(v ,i, '{:.2f}'.format(v))\n",
    "plt.ylabel('attributes')\n",
    "plt.xlabel('% importance')\n",
    "plt.yticks(xbar, alt_data['attr'])\n",
    "plt.show()"
   ]
  },
  {
   "cell_type": "code",
   "execution_count": 11,
   "metadata": {},
   "outputs": [
    {
     "data": {
      "image/png": "[encoded data removed]",
      "text/plain": [
       "<Figure size 720x432 with 1 Axes>"
      ]
     },
     "metadata": {},
     "output_type": "display_data"
    }
   ],
   "source": [
    "alt_data = pd.DataFrame(\n",
    "    list(relative_importance_per_feature.items()), \n",
    "    columns=['attr', 'relative_importance (pct)']\n",
    ").sort_values(by='relative_importance (pct)', ascending=False)\n",
    "\n",
    "\n",
    "f, ax = plt.subplots(figsize=(10, 6))\n",
    "xbar = np.arange(len(alt_data['attr']))\n",
    "plt.title('Relative importance / Normalized importance')\n",
    "plt.barh(xbar, alt_data['relative_importance (pct)'])\n",
    "for i, v in enumerate(alt_data['relative_importance (pct)']):\n",
    "    ax.text(v , i + .25, '{:.2f}%'.format(v))\n",
    "plt.ylabel('attributes')\n",
    "plt.xlabel('% relative importance')\n",
    "plt.yticks(xbar, alt_data['attr'])\n",
    "plt.show()"
   ]
  },
  {
   "cell_type": "code",
   "execution_count": 12,
   "metadata": {},
   "outputs": [
    {
     "name": "stdout",
     "output_type": "stream",
     "text": [
      "Requirement already satisfied: iteration_utilities in c:\\users\\popo\\anaconda3\\lib\\site-packages (0.10.1)\n"
     ]
    },
    {
     "name": "stderr",
     "output_type": "stream",
     "text": [
      "You are using pip version 19.0.3, however version 19.3.1 is available.\n",
      "You should consider upgrading via the 'python -m pip install --upgrade pip' command.\n"
     ]
    }
   ],
   "source": [
    "#pd.get_dummies(df[df.columns[1:]])\n",
    "ans=[]\n",
    "for i in range_per_feature.values():\n",
    "    ans.append(i)\n",
    "!pip install iteration_utilities\n",
    "from iteration_utilities import deepflatten\n",
    "new=list(deepflatten(ans))"
   ]
  },
  {
   "cell_type": "code",
   "execution_count": 13,
   "metadata": {},
   "outputs": [
    {
     "data": {
      "text/plain": [
       "array([ 0.31818182, -0.54545455,  0.6969697 ,  1.31818182,  1.27272727,\n",
       "        0.43939394, -0.01515152,  4.96969697,  1.83333333,  3.86363636,\n",
       "        1.65151515,  0.65151515,  0.81818182,  4.46969697,  1.6969697 ,\n",
       "        3.16666667,  4.01515152,  2.10606061])"
      ]
     },
     "execution_count": 13,
     "metadata": {},
     "output_type": "execute_result"
    }
   ],
   "source": [
    "utility_scores=np.dot(np.array(pd.get_dummies(df[df.columns[1:]])),np.array(new))#+res.params[\"Intercept\"]\n",
    "utility_scores"
   ]
  },
  {
   "cell_type": "code",
   "execution_count": 14,
   "metadata": {},
   "outputs": [
    {
     "name": "stdout",
     "output_type": "stream",
     "text": [
      "Rating                 6\n",
      "Career          Business\n",
      "Fitness          SomeFit\n",
      "Humor          VeryFunny\n",
      "Religiosity       SomRel\n",
      "Interests      Identical\n",
      "Name: 7, dtype: object\n"
     ]
    },
    {
     "name": "stderr",
     "output_type": "stream",
     "text": [
      "C:\\Users\\POPO\\Anaconda3\\lib\\site-packages\\ipykernel_launcher.py:2: FutureWarning: \n",
      ".ix is deprecated. Please use\n",
      ".loc for label based indexing or\n",
      ".iloc for positional indexing\n",
      "\n",
      "See the documentation here:\n",
      "http://pandas.pydata.org/pandas-docs/stable/user_guide/indexing.html#ix-indexer-is-deprecated\n",
      "  \n"
     ]
    }
   ],
   "source": [
    "max_utility = np.argmax(utility_scores)\n",
    "print (df.ix[max_utility])"
   ]
  },
  {
   "cell_type": "markdown",
   "metadata": {},
   "source": [
    "# The ideal product for this consumer has the following attribute levels\n",
    "Fine Arts,Some. Fit,Very Funny,Some. Religious,Identical"
   ]
  },
  {
   "cell_type": "code",
   "execution_count": 15,
   "metadata": {},
   "outputs": [],
   "source": [
    "#First Choice Rule/Maximum Utility Rule"
   ]
  },
  {
   "cell_type": "code",
   "execution_count": null,
   "metadata": {},
   "outputs": [],
   "source": []
  }
 ],
 "metadata": {
  "kernelspec": {
   "display_name": "Python 3",
   "language": "python",
   "name": "python3"
  },
  "language_info": {
   "codemirror_mode": {
    "name": "ipython",
    "version": 3
   },
   "file_extension": ".py",
   "mimetype": "text/x-python",
   "name": "python",
   "nbconvert_exporter": "python",
   "pygments_lexer": "ipython3",
   "version": "3.6.5"
  }
 },
 "nbformat": 4,
 "nbformat_minor": 2
}
