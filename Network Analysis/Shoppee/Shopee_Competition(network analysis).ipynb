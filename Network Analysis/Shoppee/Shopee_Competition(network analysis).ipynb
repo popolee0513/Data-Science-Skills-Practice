{
 "cells": [
  {
   "cell_type": "code",
   "execution_count": 1,
   "metadata": {},
   "outputs": [],
   "source": [
    "import networkx as nx"
   ]
  },
  {
   "cell_type": "code",
   "execution_count": 2,
   "metadata": {},
   "outputs": [],
   "source": [
    "import json \n",
    "fr = open(\"contacts.json\",'rb')\n",
    "obj = json.load(fr)"
   ]
  },
  {
   "cell_type": "code",
   "execution_count": 3,
   "metadata": {},
   "outputs": [
    {
     "data": {
      "text/html": [
       "<div>\n",
       "<style scoped>\n",
       "    .dataframe tbody tr th:only-of-type {\n",
       "        vertical-align: middle;\n",
       "    }\n",
       "\n",
       "    .dataframe tbody tr th {\n",
       "        vertical-align: top;\n",
       "    }\n",
       "\n",
       "    .dataframe thead th {\n",
       "        text-align: right;\n",
       "    }\n",
       "</style>\n",
       "<table border=\"1\" class=\"dataframe\">\n",
       "  <thead>\n",
       "    <tr style=\"text-align: right;\">\n",
       "      <th></th>\n",
       "      <th>Id</th>\n",
       "      <th>Email</th>\n",
       "      <th>Phone</th>\n",
       "      <th>Contacts</th>\n",
       "      <th>OrderId</th>\n",
       "    </tr>\n",
       "  </thead>\n",
       "  <tbody>\n",
       "    <tr>\n",
       "      <th>0</th>\n",
       "      <td>0</td>\n",
       "      <td>gkzAbIy@qq.com</td>\n",
       "      <td></td>\n",
       "      <td>1</td>\n",
       "      <td></td>\n",
       "    </tr>\n",
       "    <tr>\n",
       "      <th>1</th>\n",
       "      <td>1</td>\n",
       "      <td></td>\n",
       "      <td>329442681752</td>\n",
       "      <td>4</td>\n",
       "      <td>vDDJJcxfLtSfkooPhbYnJdxov</td>\n",
       "    </tr>\n",
       "    <tr>\n",
       "      <th>2</th>\n",
       "      <td>2</td>\n",
       "      <td></td>\n",
       "      <td>9125983679</td>\n",
       "      <td>0</td>\n",
       "      <td></td>\n",
       "    </tr>\n",
       "    <tr>\n",
       "      <th>3</th>\n",
       "      <td>3</td>\n",
       "      <td>mdllpYmE@gmail.com</td>\n",
       "      <td></td>\n",
       "      <td>0</td>\n",
       "      <td>bHquEnCbbsGLqllwryxPsNOxa</td>\n",
       "    </tr>\n",
       "    <tr>\n",
       "      <th>4</th>\n",
       "      <td>4</td>\n",
       "      <td></td>\n",
       "      <td>300364407</td>\n",
       "      <td>2</td>\n",
       "      <td></td>\n",
       "    </tr>\n",
       "  </tbody>\n",
       "</table>\n",
       "</div>"
      ],
      "text/plain": [
       "   Id               Email         Phone  Contacts                    OrderId\n",
       "0   0      gkzAbIy@qq.com                       1                           \n",
       "1   1                      329442681752         4  vDDJJcxfLtSfkooPhbYnJdxov\n",
       "2   2                        9125983679         0                           \n",
       "3   3  mdllpYmE@gmail.com                       0  bHquEnCbbsGLqllwryxPsNOxa\n",
       "4   4                         300364407         2                           "
      ]
     },
     "execution_count": 3,
     "metadata": {},
     "output_type": "execute_result"
    }
   ],
   "source": [
    "import pandas as pd\n",
    "df = pd.DataFrame(obj)\n",
    "df.head()"
   ]
  },
  {
   "cell_type": "code",
   "execution_count": 4,
   "metadata": {},
   "outputs": [],
   "source": [
    "email_dict = df.groupby('Email')['Id'].apply(list).to_dict()\n",
    "phone_dict = df.groupby('Phone')['Id'].apply(list).to_dict()\n",
    "orderId_dict = df.groupby('OrderId')['Id'].apply(list).to_dict()"
   ]
  },
  {
   "cell_type": "code",
   "execution_count": 5,
   "metadata": {},
   "outputs": [],
   "source": [
    "del email_dict['']\n",
    "del phone_dict['']\n",
    "del orderId_dict['']"
   ]
  },
  {
   "cell_type": "code",
   "execution_count": 6,
   "metadata": {},
   "outputs": [
    {
     "data": {
      "image/png": "[encoded data removed]",
      "text/plain": [
       "<Figure size 432x288 with 1 Axes>"
      ]
     },
     "metadata": {},
     "output_type": "display_data"
    }
   ],
   "source": [
    "from matplotlib import pyplot as plt  \n",
    "g=nx.Graph() \n",
    "g.add_nodes_from([1,2,3,4,5]) \n",
    "g.add_edges_from([(1,2),(1,3),(1,4),(4,5)]) \n",
    "nx.draw_networkx(g,node_color=\"r\",edge_color=\"y\") \n",
    "plt.show()"
   ]
  },
  {
   "cell_type": "code",
   "execution_count": 7,
   "metadata": {},
   "outputs": [],
   "source": [
    "G = nx.Graph()\n",
    "G.add_nodes_from(df.Id.tolist())\n",
    "#G.nodes()"
   ]
  },
  {
   "cell_type": "code",
   "execution_count": 8,
   "metadata": {},
   "outputs": [
    {
     "data": {
      "text/plain": [
       "[[1, 2],\n",
       " [1, 3],\n",
       " [1, 4],\n",
       " [1, 5],\n",
       " [2, 3],\n",
       " [2, 4],\n",
       " [2, 5],\n",
       " [3, 4],\n",
       " [3, 5],\n",
       " [4, 5]]"
      ]
     },
     "execution_count": 8,
     "metadata": {},
     "output_type": "execute_result"
    }
   ],
   "source": [
    "def genEdges(ll):\n",
    "    r = []\n",
    "    for i in range(len(ll)):\n",
    "#         print(i,len(ll))\n",
    "        for j in range(i+1,len(ll)):\n",
    "            if i == j : break\n",
    "#             print(ll[i],'->',ll[j],end=', ')\n",
    "            r.append([ll[i],ll[j]])\n",
    "#         print()\n",
    "    return r\n",
    "genEdges([1,2,3,4,5])"
   ]
  },
  {
   "cell_type": "code",
   "execution_count": 9,
   "metadata": {},
   "outputs": [],
   "source": [
    "email_edges = []\n",
    "for e in email_dict:\n",
    "    email_edges.extend(genEdges(email_dict[e]))\n",
    "G.add_edges_from(email_edges)"
   ]
  },
  {
   "cell_type": "code",
   "execution_count": 10,
   "metadata": {},
   "outputs": [],
   "source": [
    "phone_edges = []\n",
    "for e in phone_dict:\n",
    "    phone_edges.extend(genEdges(phone_dict[e]))\n",
    "    \n",
    "G.add_edges_from(phone_edges)"
   ]
  },
  {
   "cell_type": "code",
   "execution_count": 11,
   "metadata": {},
   "outputs": [],
   "source": [
    "order_edges = []\n",
    "for e in orderId_dict:\n",
    "    order_edges.extend(genEdges(orderId_dict[e]))\n",
    "    \n",
    "G.add_edges_from(order_edges)"
   ]
  },
  {
   "cell_type": "code",
   "execution_count": 12,
   "metadata": {},
   "outputs": [
    {
     "data": {
      "text/plain": [
       "[{0},\n",
       " {1, 2458, 98519, 115061, 140081, 165605, 476346},\n",
       " {2, 159312, 322639, 348955},\n",
       " {3},\n",
       " {4},\n",
       " {5, 50, 212533, 215197, 226720, 383605, 404324, 458692, 482810},\n",
       " {6, 38, 32871, 142067, 236367},\n",
       " {7},\n",
       " {8, 183160, 406623},\n",
       " {9, 13, 16708, 33415, 343161, 417916, 468927, 484896}]"
      ]
     },
     "execution_count": 12,
     "metadata": {},
     "output_type": "execute_result"
    }
   ],
   "source": [
    "components = list(nx.connected_components(G))\n",
    "components[:10]"
   ]
  },
  {
   "cell_type": "code",
   "execution_count": 13,
   "metadata": {},
   "outputs": [
    {
     "data": {
      "text/html": [
       "<div>\n",
       "<style scoped>\n",
       "    .dataframe tbody tr th:only-of-type {\n",
       "        vertical-align: middle;\n",
       "    }\n",
       "\n",
       "    .dataframe tbody tr th {\n",
       "        vertical-align: top;\n",
       "    }\n",
       "\n",
       "    .dataframe thead th {\n",
       "        text-align: right;\n",
       "    }\n",
       "</style>\n",
       "<table border=\"1\" class=\"dataframe\">\n",
       "  <thead>\n",
       "    <tr style=\"text-align: right;\">\n",
       "      <th></th>\n",
       "      <th>Id</th>\n",
       "      <th>Email</th>\n",
       "      <th>Phone</th>\n",
       "      <th>Contacts</th>\n",
       "      <th>OrderId</th>\n",
       "    </tr>\n",
       "  </thead>\n",
       "  <tbody>\n",
       "    <tr>\n",
       "      <th>159312</th>\n",
       "      <td>159312</td>\n",
       "      <td>EQnHOWbVizLZxRnm@gmail.com</td>\n",
       "      <td>5994952372</td>\n",
       "      <td>1</td>\n",
       "      <td>FTUBZYkUAEPIYmYvxtxKYYlqt</td>\n",
       "    </tr>\n",
       "    <tr>\n",
       "      <th>2</th>\n",
       "      <td>2</td>\n",
       "      <td></td>\n",
       "      <td>9125983679</td>\n",
       "      <td>0</td>\n",
       "      <td></td>\n",
       "    </tr>\n",
       "    <tr>\n",
       "      <th>348955</th>\n",
       "      <td>348955</td>\n",
       "      <td>EQnHOWbVizLZxRnm@gmail.com</td>\n",
       "      <td>9125983679</td>\n",
       "      <td>0</td>\n",
       "      <td></td>\n",
       "    </tr>\n",
       "    <tr>\n",
       "      <th>322639</th>\n",
       "      <td>322639</td>\n",
       "      <td>EQnHOWbVizLZxRnm@gmail.com</td>\n",
       "      <td></td>\n",
       "      <td>3</td>\n",
       "      <td>zDhCFyaTJEqyxtEqiHxdTPmPt</td>\n",
       "    </tr>\n",
       "  </tbody>\n",
       "</table>\n",
       "</div>"
      ],
      "text/plain": [
       "            Id                       Email       Phone  Contacts  \\\n",
       "159312  159312  EQnHOWbVizLZxRnm@gmail.com  5994952372         1   \n",
       "2            2                              9125983679         0   \n",
       "348955  348955  EQnHOWbVizLZxRnm@gmail.com  9125983679         0   \n",
       "322639  322639  EQnHOWbVizLZxRnm@gmail.com                     3   \n",
       "\n",
       "                          OrderId  \n",
       "159312  FTUBZYkUAEPIYmYvxtxKYYlqt  \n",
       "2                                  \n",
       "348955                             \n",
       "322639  zDhCFyaTJEqyxtEqiHxdTPmPt  "
      ]
     },
     "execution_count": 13,
     "metadata": {},
     "output_type": "execute_result"
    }
   ],
   "source": [
    "temp_df = df.iloc[list(components[2]),:]\n",
    "temp_df"
   ]
  },
  {
   "cell_type": "code",
   "execution_count": 14,
   "metadata": {},
   "outputs": [],
   "source": [
    "def com2str(temp_df):\n",
    "    Id_list = temp_df.Id.tolist()\n",
    "    Id_list.sort()\n",
    "#     Id_list\n",
    "    total_conacts=temp_df.Contacts.sum()\n",
    "#     total_conacts\n",
    "    column2_str = \"-\".join([str(x) for x in Id_list])+\", \"+str(total_conacts)\n",
    "    return column2_str"
   ]
  },
  {
   "cell_type": "code",
   "execution_count": 15,
   "metadata": {},
   "outputs": [
    {
     "data": {
      "text/plain": [
       "'2-159312-322639-348955, 4'"
      ]
     },
     "execution_count": 15,
     "metadata": {},
     "output_type": "execute_result"
    }
   ],
   "source": [
    "com2str(temp_df)"
   ]
  },
  {
   "cell_type": "code",
   "execution_count": 16,
   "metadata": {},
   "outputs": [],
   "source": [
    "df['ticket_trace/contact']=['']*5000*100\n",
    "assert (df['ticket_trace/contact']=='').sum() ==5000*100"
   ]
  },
  {
   "cell_type": "code",
   "execution_count": 17,
   "metadata": {},
   "outputs": [],
   "source": [
    "for i in range(len(components)):\n",
    "    id_list = list(components[i])\n",
    "    temp_df = df.iloc[id_list,:]\n",
    "    column2_str = com2str(temp_df)\n",
    "    \n",
    "    for ii in id_list:\n",
    "        df.at[ii,'ticket_trace/contact']= column2_str"
   ]
  },
  {
   "cell_type": "code",
   "execution_count": 18,
   "metadata": {},
   "outputs": [],
   "source": [
    "assert (df['ticket_trace/contact']=='').sum() ==0"
   ]
  },
  {
   "cell_type": "code",
   "execution_count": 19,
   "metadata": {},
   "outputs": [
    {
     "data": {
      "text/html": [
       "<div>\n",
       "<style scoped>\n",
       "    .dataframe tbody tr th:only-of-type {\n",
       "        vertical-align: middle;\n",
       "    }\n",
       "\n",
       "    .dataframe tbody tr th {\n",
       "        vertical-align: top;\n",
       "    }\n",
       "\n",
       "    .dataframe thead th {\n",
       "        text-align: right;\n",
       "    }\n",
       "</style>\n",
       "<table border=\"1\" class=\"dataframe\">\n",
       "  <thead>\n",
       "    <tr style=\"text-align: right;\">\n",
       "      <th></th>\n",
       "      <th>ticket_id</th>\n",
       "      <th>ticket_trace/contact</th>\n",
       "    </tr>\n",
       "  </thead>\n",
       "  <tbody>\n",
       "    <tr>\n",
       "      <th>0</th>\n",
       "      <td>0</td>\n",
       "      <td>0, 1</td>\n",
       "    </tr>\n",
       "    <tr>\n",
       "      <th>1</th>\n",
       "      <td>1</td>\n",
       "      <td>1-2458-98519-115061-140081-165605-476346, 12</td>\n",
       "    </tr>\n",
       "    <tr>\n",
       "      <th>2</th>\n",
       "      <td>2</td>\n",
       "      <td>2-159312-322639-348955, 4</td>\n",
       "    </tr>\n",
       "    <tr>\n",
       "      <th>3</th>\n",
       "      <td>3</td>\n",
       "      <td>3, 0</td>\n",
       "    </tr>\n",
       "    <tr>\n",
       "      <th>4</th>\n",
       "      <td>4</td>\n",
       "      <td>4, 2</td>\n",
       "    </tr>\n",
       "  </tbody>\n",
       "</table>\n",
       "</div>"
      ],
      "text/plain": [
       "   ticket_id                          ticket_trace/contact\n",
       "0          0                                          0, 1\n",
       "1          1  1-2458-98519-115061-140081-165605-476346, 12\n",
       "2          2                     2-159312-322639-348955, 4\n",
       "3          3                                          3, 0\n",
       "4          4                                          4, 2"
      ]
     },
     "execution_count": 19,
     "metadata": {},
     "output_type": "execute_result"
    }
   ],
   "source": [
    "output_df = df[['Id','ticket_trace/contact']]\n",
    "output_df.columns = ['ticket_id','ticket_trace/contact']\n",
    "output_df.head()"
   ]
  },
  {
   "cell_type": "code",
   "execution_count": null,
   "metadata": {},
   "outputs": [],
   "source": []
  },
  {
   "cell_type": "code",
   "execution_count": null,
   "metadata": {},
   "outputs": [],
   "source": []
  }
 ],
 "metadata": {
  "kernelspec": {
   "display_name": "Python 3",
   "language": "python",
   "name": "python3"
  },
  "language_info": {
   "codemirror_mode": {
    "name": "ipython",
    "version": 3
   },
   "file_extension": ".py",
   "mimetype": "text/x-python",
   "name": "python",
   "nbconvert_exporter": "python",
   "pygments_lexer": "ipython3",
   "version": "3.8.3"
  }
 },
 "nbformat": 4,
 "nbformat_minor": 4
}
