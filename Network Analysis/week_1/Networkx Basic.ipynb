{
 "cells": [
  {
   "cell_type": "code",
   "execution_count": 1,
   "metadata": {},
   "outputs": [],
   "source": [
    "import networkx as nx"
   ]
  },
  {
   "cell_type": "code",
   "execution_count": 2,
   "metadata": {},
   "outputs": [
    {
     "data": {
      "image/png": "[encoded data removed]",
      "text/plain": [
       "<Figure size 432x288 with 1 Axes>"
      ]
     },
     "metadata": {},
     "output_type": "display_data"
    }
   ],
   "source": [
    "G=nx.Graph()\n",
    "G.add_edge('A','B')\n",
    "G.add_edge('B','C')\n",
    "nx.draw_networkx(G)"
   ]
  },
  {
   "cell_type": "code",
   "execution_count": 3,
   "metadata": {},
   "outputs": [
    {
     "data": {
      "image/png": "[encoded data removed]",
      "text/plain": [
       "<Figure size 432x288 with 1 Axes>"
      ]
     },
     "metadata": {},
     "output_type": "display_data"
    }
   ],
   "source": [
    "G=nx.DiGraph()\n",
    "G.add_edge('B', 'A')\n",
    "G.add_edge('B','C')\n",
    "nx.draw_networkx(G)"
   ]
  },
  {
   "cell_type": "code",
   "execution_count": 4,
   "metadata": {},
   "outputs": [],
   "source": [
    "G=nx.Graph()\n",
    "G.add_edge('A','B', weight= 6, relation = 'family')\n",
    "G.add_edge('B','C', weight= 13, relation = 'friend')"
   ]
  },
  {
   "cell_type": "code",
   "execution_count": 5,
   "metadata": {
    "scrolled": true
   },
   "outputs": [
    {
     "name": "stdout",
     "output_type": "stream",
     "text": [
      "[('A', 'B', {'weight': 6, 'relation': 'family'}), ('B', 'C', {'weight': 13, 'relation': 'friend'})]\n",
      "[('A', 'B', 'family'), ('B', 'C', 'friend')]\n",
      "[('A', 'B', 6), ('B', 'C', 13)]\n",
      "{'weight': 6, 'relation': 'family'}\n",
      "6\n"
     ]
    }
   ],
   "source": [
    "print(G.edges(data= True))\n",
    "print(G.edges(data= 'relation'))\n",
    "print(G.edges(data= 'weight'))\n",
    "print(G.edges[(\"A\",\"B\")])\n",
    "print(G.edges[(\"A\",\"B\")]['weight'])"
   ]
  },
  {
   "cell_type": "code",
   "execution_count": 6,
   "metadata": {},
   "outputs": [
    {
     "name": "stdout",
     "output_type": "stream",
     "text": [
      "[('A', 'B', {'weight': 6, 'relation': 'family'}), ('A', 'B', {'weight': 18, 'relation': 'friend'}), ('C', 'B', {'weight': 13, 'relation': 'friend'})]\n",
      "family\n"
     ]
    }
   ],
   "source": [
    "G=nx.MultiDiGraph()\n",
    "G.add_edge('A','B', weight= 6, relation = 'family')\n",
    "G.add_edge('A','B', weight= 18, relation = 'friend')\n",
    "G.add_edge('C','B', weight= 13, relation = 'friend')\n",
    "print(G.edges(data= True))\n",
    "print(G.edges[(\"A\",\"B\",0)]['relation'])"
   ]
  },
  {
   "cell_type": "code",
   "execution_count": 7,
   "metadata": {},
   "outputs": [
    {
     "name": "stdout",
     "output_type": "stream",
     "text": [
      "[('A', 'B', {'weight': 6, 'relation': 'family'}), ('B', 'C', {'weight': 13, 'relation': 'friend'})]\n",
      "[('A', {'role': 'trader'}), ('B', {'role': 'trader'}), ('C', {'role': 'manager'})]\n",
      "['A', 'B', 'C']\n"
     ]
    }
   ],
   "source": [
    "G=nx.Graph()\n",
    "G.add_edge('A','B', weight= 6, relation = 'family')\n",
    "G.add_edge('B','C', weight= 13, relation = 'friend')\n",
    "G.add_node('A', role = 'trader')\n",
    "G.add_node('B', role = 'trader')\n",
    "G.add_node('C', role = 'manager')\n",
    "print(G.edges(data= True))\n",
    "print(G.nodes(data=True))\n",
    "print(G.nodes())"
   ]
  },
  {
   "cell_type": "code",
   "execution_count": 8,
   "metadata": {},
   "outputs": [],
   "source": [
    "from networkx.algorithms import bipartite"
   ]
  },
  {
   "cell_type": "code",
   "execution_count": 9,
   "metadata": {},
   "outputs": [
    {
     "name": "stdout",
     "output_type": "stream",
     "text": [
      "True\n",
      "True\n",
      "False\n",
      "{'D', 'H', 'E', 'A', 'C', 'J', 'I', 'F', 'B', 'G'}\n",
      "{1, 2, 3, 4}\n"
     ]
    }
   ],
   "source": [
    "B = nx.Graph()\n",
    "B.add_edges_from([('A',1), ('B',1),\n",
    "('C',1),('D',1),('H',1), ('B', 2), ('C', 2), ('D',\n",
    "2),('E', 2), ('G', 2), ('E', 3), ('F', 3), ('H', 3),\n",
    "('J', 3), ('E', 4), ('I', 4), ('J', 4) ])\n",
    "X = set(['A','B','C','D', 'E', 'F','G', 'H', 'I','J'])\n",
    "print(bipartite.is_bipartite_node_set(B,X))\n",
    "X = set([1,2,3,4])\n",
    "print(bipartite.is_bipartite_node_set(B,X))\n",
    "X = set([1,2,3,4, 'A'])\n",
    "print(bipartite.is_bipartite_node_set(B,X))\n",
    "nodeset1, nodeset2 = bipartite.sets(B)\n",
    "print(nodeset1)\n",
    "print(nodeset2)"
   ]
  },
  {
   "cell_type": "code",
   "execution_count": 12,
   "metadata": {},
   "outputs": [],
   "source": [
    "X={1, 2, 3, 4}\n",
    "P = bipartite.projected_graph(B, X)"
   ]
  },
  {
   "cell_type": "code",
   "execution_count": 13,
   "metadata": {},
   "outputs": [
    {
     "data": {
      "image/png": "[encoded data removed]",
      "text/plain": [
       "<Figure size 432x288 with 1 Axes>"
      ]
     },
     "metadata": {},
     "output_type": "display_data"
    }
   ],
   "source": [
    "nx.draw_networkx(P)"
   ]
  },
  {
   "cell_type": "code",
   "execution_count": 14,
   "metadata": {},
   "outputs": [
    {
     "data": {
      "text/plain": [
       "EdgeDataView([(1, 2, {'weight': 3}), (1, 3, {'weight': 1}), (2, 3, {'weight': 1}), (2, 4, {'weight': 1}), (3, 4, {'weight': 2})])"
      ]
     },
     "execution_count": 14,
     "metadata": {},
     "output_type": "execute_result"
    }
   ],
   "source": [
    "bipartite.weighted_projected_graph(B, X).edges(data=True)"
   ]
  },
  {
   "cell_type": "code",
   "execution_count": null,
   "metadata": {},
   "outputs": [],
   "source": []
  }
 ],
 "metadata": {
  "kernelspec": {
   "display_name": "Python 3",
   "language": "python",
   "name": "python3"
  },
  "language_info": {
   "codemirror_mode": {
    "name": "ipython",
    "version": 3
   },
   "file_extension": ".py",
   "mimetype": "text/x-python",
   "name": "python",
   "nbconvert_exporter": "python",
   "pygments_lexer": "ipython3",
   "version": "3.8.3"
  }
 },
 "nbformat": 4,
 "nbformat_minor": 4
}
