{
 "cells": [
  {
   "cell_type": "markdown",
   "metadata": {},
   "source": [
    "# Creating a feature matrix from a networkx graph\n",
    "\n",
    "In this notebook we will look at a few ways to quickly create a feature matrix from a networkx graph."
   ]
  },
  {
   "cell_type": "code",
   "execution_count": 1,
   "metadata": {
    "collapsed": true
   },
   "outputs": [],
   "source": [
    "import networkx as nx\n",
    "import pandas as pd\n",
    "\n",
    "G = nx.read_gpickle('major_us_cities')"
   ]
  },
  {
   "cell_type": "markdown",
   "metadata": {},
   "source": [
    "## Node based features"
   ]
  },
  {
   "cell_type": "code",
   "execution_count": 2,
   "metadata": {
    "scrolled": true
   },
   "outputs": [
    {
     "data": {
      "text/plain": [
       "[('El Paso, TX', {'location': (-106, 31), 'population': 674433}),\n",
       " ('Long Beach, CA', {'location': (-118, 33), 'population': 469428}),\n",
       " ('Dallas, TX', {'location': (-96, 32), 'population': 1257676}),\n",
       " ('Oakland, CA', {'location': (-122, 37), 'population': 406253}),\n",
       " ('Albuquerque, NM', {'location': (-106, 35), 'population': 556495}),\n",
       " ('Baltimore, MD', {'location': (-76, 39), 'population': 622104}),\n",
       " ('Raleigh, NC', {'location': (-78, 35), 'population': 431746}),\n",
       " ('Mesa, AZ', {'location': (-111, 33), 'population': 457587}),\n",
       " ('Arlington, TX', {'location': (-97, 32), 'population': 379577}),\n",
       " ('Sacramento, CA', {'location': (-121, 38), 'population': 479686})]"
      ]
     },
     "execution_count": 2,
     "metadata": {},
     "output_type": "execute_result"
    }
   ],
   "source": [
    "G.nodes(data=True)[:10]"
   ]
  },
  {
   "cell_type": "code",
   "execution_count": 3,
   "metadata": {
    "collapsed": true
   },
   "outputs": [],
   "source": [
    "# Initialize the dataframe, using the nodes as the index\n",
    "df = pd.DataFrame(index=G.nodes())"
   ]
  },
  {
   "cell_type": "markdown",
   "metadata": {},
   "source": [
    "### Extracting attributes\n",
    "\n",
    "Using `nx.get_node_attributes` it's easy to extract the node attributes in the graph into DataFrame columns."
   ]
  },
  {
   "cell_type": "code",
   "execution_count": 4,
   "metadata": {},
   "outputs": [
    {
     "data": {
      "text/html": [
       "<div>\n",
       "<style>\n",
       "    .dataframe thead tr:only-child th {\n",
       "        text-align: right;\n",
       "    }\n",
       "\n",
       "    .dataframe thead th {\n",
       "        text-align: left;\n",
       "    }\n",
       "\n",
       "    .dataframe tbody tr th {\n",
       "        vertical-align: top;\n",
       "    }\n",
       "</style>\n",
       "<table border=\"1\" class=\"dataframe\">\n",
       "  <thead>\n",
       "    <tr style=\"text-align: right;\">\n",
       "      <th></th>\n",
       "      <th>location</th>\n",
       "      <th>population</th>\n",
       "    </tr>\n",
       "  </thead>\n",
       "  <tbody>\n",
       "    <tr>\n",
       "      <th>El Paso, TX</th>\n",
       "      <td>(-106, 31)</td>\n",
       "      <td>674433</td>\n",
       "    </tr>\n",
       "    <tr>\n",
       "      <th>Long Beach, CA</th>\n",
       "      <td>(-118, 33)</td>\n",
       "      <td>469428</td>\n",
       "    </tr>\n",
       "    <tr>\n",
       "      <th>Dallas, TX</th>\n",
       "      <td>(-96, 32)</td>\n",
       "      <td>1257676</td>\n",
       "    </tr>\n",
       "    <tr>\n",
       "      <th>Oakland, CA</th>\n",
       "      <td>(-122, 37)</td>\n",
       "      <td>406253</td>\n",
       "    </tr>\n",
       "    <tr>\n",
       "      <th>Albuquerque, NM</th>\n",
       "      <td>(-106, 35)</td>\n",
       "      <td>556495</td>\n",
       "    </tr>\n",
       "  </tbody>\n",
       "</table>\n",
       "</div>"
      ],
      "text/plain": [
       "                   location  population\n",
       "El Paso, TX      (-106, 31)      674433\n",
       "Long Beach, CA   (-118, 33)      469428\n",
       "Dallas, TX        (-96, 32)     1257676\n",
       "Oakland, CA      (-122, 37)      406253\n",
       "Albuquerque, NM  (-106, 35)      556495"
      ]
     },
     "execution_count": 4,
     "metadata": {},
     "output_type": "execute_result"
    }
   ],
   "source": [
    "df['location'] = pd.Series(nx.get_node_attributes(G, 'location'))\n",
    "df['population'] = pd.Series(nx.get_node_attributes(G, 'population'))\n",
    "\n",
    "df.head()"
   ]
  },
  {
   "cell_type": "markdown",
   "metadata": {},
   "source": [
    "### Creating node based features\n",
    "\n",
    "Most of the networkx functions related to nodes return a dictionary, which can also easily be added to our dataframe."
   ]
  },
  {
   "cell_type": "code",
   "execution_count": 5,
   "metadata": {
    "scrolled": true
   },
   "outputs": [
    {
     "data": {
      "text/html": [
       "<div>\n",
       "<style>\n",
       "    .dataframe thead tr:only-child th {\n",
       "        text-align: right;\n",
       "    }\n",
       "\n",
       "    .dataframe thead th {\n",
       "        text-align: left;\n",
       "    }\n",
       "\n",
       "    .dataframe tbody tr th {\n",
       "        vertical-align: top;\n",
       "    }\n",
       "</style>\n",
       "<table border=\"1\" class=\"dataframe\">\n",
       "  <thead>\n",
       "    <tr style=\"text-align: right;\">\n",
       "      <th></th>\n",
       "      <th>location</th>\n",
       "      <th>population</th>\n",
       "      <th>clustering</th>\n",
       "      <th>degree</th>\n",
       "    </tr>\n",
       "  </thead>\n",
       "  <tbody>\n",
       "    <tr>\n",
       "      <th>El Paso, TX</th>\n",
       "      <td>(-106, 31)</td>\n",
       "      <td>674433</td>\n",
       "      <td>0.700000</td>\n",
       "      <td>5</td>\n",
       "    </tr>\n",
       "    <tr>\n",
       "      <th>Long Beach, CA</th>\n",
       "      <td>(-118, 33)</td>\n",
       "      <td>469428</td>\n",
       "      <td>0.745455</td>\n",
       "      <td>11</td>\n",
       "    </tr>\n",
       "    <tr>\n",
       "      <th>Dallas, TX</th>\n",
       "      <td>(-96, 32)</td>\n",
       "      <td>1257676</td>\n",
       "      <td>0.763636</td>\n",
       "      <td>11</td>\n",
       "    </tr>\n",
       "    <tr>\n",
       "      <th>Oakland, CA</th>\n",
       "      <td>(-122, 37)</td>\n",
       "      <td>406253</td>\n",
       "      <td>1.000000</td>\n",
       "      <td>8</td>\n",
       "    </tr>\n",
       "    <tr>\n",
       "      <th>Albuquerque, NM</th>\n",
       "      <td>(-106, 35)</td>\n",
       "      <td>556495</td>\n",
       "      <td>0.523810</td>\n",
       "      <td>7</td>\n",
       "    </tr>\n",
       "  </tbody>\n",
       "</table>\n",
       "</div>"
      ],
      "text/plain": [
       "                   location  population  clustering  degree\n",
       "El Paso, TX      (-106, 31)      674433    0.700000       5\n",
       "Long Beach, CA   (-118, 33)      469428    0.745455      11\n",
       "Dallas, TX        (-96, 32)     1257676    0.763636      11\n",
       "Oakland, CA      (-122, 37)      406253    1.000000       8\n",
       "Albuquerque, NM  (-106, 35)      556495    0.523810       7"
      ]
     },
     "execution_count": 5,
     "metadata": {},
     "output_type": "execute_result"
    }
   ],
   "source": [
    "df['clustering'] = pd.Series(nx.clustering(G))\n",
    "df['degree'] = pd.Series(G.degree())\n",
    "\n",
    "df.head()"
   ]
  },
  {
   "cell_type": "markdown",
   "metadata": {},
   "source": [
    "# Edge based features"
   ]
  },
  {
   "cell_type": "code",
   "execution_count": 6,
   "metadata": {},
   "outputs": [
    {
     "data": {
      "text/plain": [
       "[('El Paso, TX', 'Albuquerque, NM', {'weight': 367.88584356108345}),\n",
       " ('El Paso, TX', 'Mesa, AZ', {'weight': 536.256659972679}),\n",
       " ('El Paso, TX', 'Tucson, AZ', {'weight': 425.41386739988224}),\n",
       " ('El Paso, TX', 'Phoenix, AZ', {'weight': 558.7835703774161}),\n",
       " ('El Paso, TX', 'Colorado Springs, CO', {'weight': 797.7517116740046}),\n",
       " ('Long Beach, CA', 'Oakland, CA', {'weight': 579.5829987228403}),\n",
       " ('Long Beach, CA', 'Mesa, AZ', {'weight': 590.156204210031}),\n",
       " ('Long Beach, CA', 'Sacramento, CA', {'weight': 611.0649790490104}),\n",
       " ('Long Beach, CA', 'Tucson, AZ', {'weight': 698.6566667728368}),\n",
       " ('Long Beach, CA', 'San Jose, CA', {'weight': 518.2330606219175})]"
      ]
     },
     "execution_count": 6,
     "metadata": {},
     "output_type": "execute_result"
    }
   ],
   "source": [
    "G.edges(data=True)[:10]"
   ]
  },
  {
   "cell_type": "code",
   "execution_count": 7,
   "metadata": {
    "collapsed": true
   },
   "outputs": [],
   "source": [
    "# Initialize the dataframe, using the edges as the index\n",
    "df = pd.DataFrame(index=G.edges())"
   ]
  },
  {
   "cell_type": "markdown",
   "metadata": {},
   "source": [
    "### Extracting attributes\n",
    "\n",
    "Using `nx.get_edge_attributes`, it's easy to extract the edge attributes in the graph into DataFrame columns."
   ]
  },
  {
   "cell_type": "code",
   "execution_count": 8,
   "metadata": {
    "scrolled": true
   },
   "outputs": [
    {
     "data": {
      "text/html": [
       "<div>\n",
       "<style>\n",
       "    .dataframe thead tr:only-child th {\n",
       "        text-align: right;\n",
       "    }\n",
       "\n",
       "    .dataframe thead th {\n",
       "        text-align: left;\n",
       "    }\n",
       "\n",
       "    .dataframe tbody tr th {\n",
       "        vertical-align: top;\n",
       "    }\n",
       "</style>\n",
       "<table border=\"1\" class=\"dataframe\">\n",
       "  <thead>\n",
       "    <tr style=\"text-align: right;\">\n",
       "      <th></th>\n",
       "      <th>weight</th>\n",
       "    </tr>\n",
       "  </thead>\n",
       "  <tbody>\n",
       "    <tr>\n",
       "      <th>(El Paso, TX, Albuquerque, NM)</th>\n",
       "      <td>367.885844</td>\n",
       "    </tr>\n",
       "    <tr>\n",
       "      <th>(El Paso, TX, Mesa, AZ)</th>\n",
       "      <td>536.256660</td>\n",
       "    </tr>\n",
       "    <tr>\n",
       "      <th>(El Paso, TX, Tucson, AZ)</th>\n",
       "      <td>425.413867</td>\n",
       "    </tr>\n",
       "    <tr>\n",
       "      <th>(El Paso, TX, Phoenix, AZ)</th>\n",
       "      <td>558.783570</td>\n",
       "    </tr>\n",
       "    <tr>\n",
       "      <th>(El Paso, TX, Colorado Springs, CO)</th>\n",
       "      <td>797.751712</td>\n",
       "    </tr>\n",
       "  </tbody>\n",
       "</table>\n",
       "</div>"
      ],
      "text/plain": [
       "                                         weight\n",
       "(El Paso, TX, Albuquerque, NM)       367.885844\n",
       "(El Paso, TX, Mesa, AZ)              536.256660\n",
       "(El Paso, TX, Tucson, AZ)            425.413867\n",
       "(El Paso, TX, Phoenix, AZ)           558.783570\n",
       "(El Paso, TX, Colorado Springs, CO)  797.751712"
      ]
     },
     "execution_count": 8,
     "metadata": {},
     "output_type": "execute_result"
    }
   ],
   "source": [
    "df['weight'] = pd.Series(nx.get_edge_attributes(G, 'weight'))\n",
    "\n",
    "df.head()"
   ]
  },
  {
   "cell_type": "markdown",
   "metadata": {},
   "source": [
    "### Creating edge based features\n",
    "\n",
    "Many of the networkx functions related to edges return a nested data structures. We can extract the relevant data using list comprehension."
   ]
  },
  {
   "cell_type": "code",
   "execution_count": 9,
   "metadata": {},
   "outputs": [
    {
     "data": {
      "text/html": [
       "<div>\n",
       "<style>\n",
       "    .dataframe thead tr:only-child th {\n",
       "        text-align: right;\n",
       "    }\n",
       "\n",
       "    .dataframe thead th {\n",
       "        text-align: left;\n",
       "    }\n",
       "\n",
       "    .dataframe tbody tr th {\n",
       "        vertical-align: top;\n",
       "    }\n",
       "</style>\n",
       "<table border=\"1\" class=\"dataframe\">\n",
       "  <thead>\n",
       "    <tr style=\"text-align: right;\">\n",
       "      <th></th>\n",
       "      <th>weight</th>\n",
       "      <th>preferential attachment</th>\n",
       "    </tr>\n",
       "  </thead>\n",
       "  <tbody>\n",
       "    <tr>\n",
       "      <th>(El Paso, TX, Albuquerque, NM)</th>\n",
       "      <td>367.885844</td>\n",
       "      <td>35</td>\n",
       "    </tr>\n",
       "    <tr>\n",
       "      <th>(El Paso, TX, Mesa, AZ)</th>\n",
       "      <td>536.256660</td>\n",
       "      <td>40</td>\n",
       "    </tr>\n",
       "    <tr>\n",
       "      <th>(El Paso, TX, Tucson, AZ)</th>\n",
       "      <td>425.413867</td>\n",
       "      <td>40</td>\n",
       "    </tr>\n",
       "    <tr>\n",
       "      <th>(El Paso, TX, Phoenix, AZ)</th>\n",
       "      <td>558.783570</td>\n",
       "      <td>45</td>\n",
       "    </tr>\n",
       "    <tr>\n",
       "      <th>(El Paso, TX, Colorado Springs, CO)</th>\n",
       "      <td>797.751712</td>\n",
       "      <td>30</td>\n",
       "    </tr>\n",
       "  </tbody>\n",
       "</table>\n",
       "</div>"
      ],
      "text/plain": [
       "                                         weight  preferential attachment\n",
       "(El Paso, TX, Albuquerque, NM)       367.885844                       35\n",
       "(El Paso, TX, Mesa, AZ)              536.256660                       40\n",
       "(El Paso, TX, Tucson, AZ)            425.413867                       40\n",
       "(El Paso, TX, Phoenix, AZ)           558.783570                       45\n",
       "(El Paso, TX, Colorado Springs, CO)  797.751712                       30"
      ]
     },
     "execution_count": 9,
     "metadata": {},
     "output_type": "execute_result"
    }
   ],
   "source": [
    "df['preferential attachment'] = [i[2] for i in nx.preferential_attachment(G, df.index)]\n",
    "\n",
    "df.head()"
   ]
  },
  {
   "cell_type": "markdown",
   "metadata": {},
   "source": [
    "In the case where the function expects two nodes to be passed in, we can map the index to a lamda function."
   ]
  },
  {
   "cell_type": "code",
   "execution_count": 10,
   "metadata": {},
   "outputs": [
    {
     "data": {
      "text/html": [
       "<div>\n",
       "<style>\n",
       "    .dataframe thead tr:only-child th {\n",
       "        text-align: right;\n",
       "    }\n",
       "\n",
       "    .dataframe thead th {\n",
       "        text-align: left;\n",
       "    }\n",
       "\n",
       "    .dataframe tbody tr th {\n",
       "        vertical-align: top;\n",
       "    }\n",
       "</style>\n",
       "<table border=\"1\" class=\"dataframe\">\n",
       "  <thead>\n",
       "    <tr style=\"text-align: right;\">\n",
       "      <th></th>\n",
       "      <th>weight</th>\n",
       "      <th>preferential attachment</th>\n",
       "      <th>Common Neighbors</th>\n",
       "    </tr>\n",
       "  </thead>\n",
       "  <tbody>\n",
       "    <tr>\n",
       "      <th>(El Paso, TX, Albuquerque, NM)</th>\n",
       "      <td>367.885844</td>\n",
       "      <td>35</td>\n",
       "      <td>4</td>\n",
       "    </tr>\n",
       "    <tr>\n",
       "      <th>(El Paso, TX, Mesa, AZ)</th>\n",
       "      <td>536.256660</td>\n",
       "      <td>40</td>\n",
       "      <td>3</td>\n",
       "    </tr>\n",
       "    <tr>\n",
       "      <th>(El Paso, TX, Tucson, AZ)</th>\n",
       "      <td>425.413867</td>\n",
       "      <td>40</td>\n",
       "      <td>3</td>\n",
       "    </tr>\n",
       "    <tr>\n",
       "      <th>(El Paso, TX, Phoenix, AZ)</th>\n",
       "      <td>558.783570</td>\n",
       "      <td>45</td>\n",
       "      <td>3</td>\n",
       "    </tr>\n",
       "    <tr>\n",
       "      <th>(El Paso, TX, Colorado Springs, CO)</th>\n",
       "      <td>797.751712</td>\n",
       "      <td>30</td>\n",
       "      <td>1</td>\n",
       "    </tr>\n",
       "  </tbody>\n",
       "</table>\n",
       "</div>"
      ],
      "text/plain": [
       "                                         weight  preferential attachment  \\\n",
       "(El Paso, TX, Albuquerque, NM)       367.885844                       35   \n",
       "(El Paso, TX, Mesa, AZ)              536.256660                       40   \n",
       "(El Paso, TX, Tucson, AZ)            425.413867                       40   \n",
       "(El Paso, TX, Phoenix, AZ)           558.783570                       45   \n",
       "(El Paso, TX, Colorado Springs, CO)  797.751712                       30   \n",
       "\n",
       "                                     Common Neighbors  \n",
       "(El Paso, TX, Albuquerque, NM)                      4  \n",
       "(El Paso, TX, Mesa, AZ)                             3  \n",
       "(El Paso, TX, Tucson, AZ)                           3  \n",
       "(El Paso, TX, Phoenix, AZ)                          3  \n",
       "(El Paso, TX, Colorado Springs, CO)                 1  "
      ]
     },
     "execution_count": 10,
     "metadata": {},
     "output_type": "execute_result"
    }
   ],
   "source": [
    "df['Common Neighbors'] = df.index.map(lambda city: len(list(nx.common_neighbors(G, city[0], city[1]))))\n",
    "\n",
    "df.head()"
   ]
  },
  {
   "cell_type": "code",
   "execution_count": null,
   "metadata": {
    "collapsed": true
   },
   "outputs": [],
   "source": []
  },
  {
   "cell_type": "code",
   "execution_count": null,
   "metadata": {
    "collapsed": true
   },
   "outputs": [],
   "source": []
  }
 ],
 "metadata": {
  "kernelspec": {
   "display_name": "Python 3",
   "language": "python",
   "name": "python3"
  },
  "language_info": {
   "codemirror_mode": {
    "name": "ipython",
    "version": 3
   },
   "file_extension": ".py",
   "mimetype": "text/x-python",
   "name": "python",
   "nbconvert_exporter": "python",
   "pygments_lexer": "ipython3",
   "version": "3.6.2"
  }
 },
 "nbformat": 4,
 "nbformat_minor": 2
}
