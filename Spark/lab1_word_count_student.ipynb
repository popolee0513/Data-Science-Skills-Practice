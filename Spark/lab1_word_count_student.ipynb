{
  "nbformat": 4,
  "nbformat_minor": 0,
  "metadata": {
    "colab": {
      "name": "lab1_word_count_student.ipynb",
      "provenance": [],
      "collapsed_sections": [
        "NNpxWPdSxfH2",
        "9Mo3ijQsxfIP",
        "hNApM6TnxfIc",
        "lCEzJCUvxfIf",
        "cfYizSX3xfIj"
      ]
    },
    "kernelspec": {
      "name": "python3",
      "display_name": "Python 3"
    }
  },
  "cells": [
    {
      "cell_type": "markdown",
      "metadata": {
        "id": "5xwd_qOtxfHU",
        "colab_type": "text"
      },
      "source": [
        "#![Spark Logo](http://spark-mooc.github.io/web-assets/images/ta_Spark-logo-small.png) + ![Python Logo](http://spark-mooc.github.io/web-assets/images/python-logo-master-v3-TM-flattened_small.png)\n",
        "# **Word Count Lab: Building a word count application**\n",
        "#### This lab will build on the techniques covered in the Spark tutorial to develop a simple word count application.  The volume of unstructured text in existence is growing dramatically, and Spark is an excellent tool for analyzing this type of data.  In this lab, we will write code that calculates the most common words in the [Complete Works of William Shakespeare](http://www.gutenberg.org/ebooks/100) retrieved from [Project Gutenberg](http://www.gutenberg.org/wiki/Main_Page).  This could also be scaled to find the most common words on the Internet.\n",
        "#### ** During this lab we will cover: **\n",
        "#### *Part 1:* Creating a base RDD and pair RDDs\n",
        "#### *Part 2:* Counting with pair RDDs\n",
        "#### *Part 3:* Finding unique words and a mean value\n",
        "#### *Part 4:* Apply word count to a file\n",
        "#### Note that, for reference, you can look up the details of the relevant methods in [Spark's Python API](https://spark.apache.org/docs/latest/api/python/pyspark.html#pyspark.RDD)"
      ]
    },
    {
      "cell_type": "markdown",
      "metadata": {
        "id": "qF5XmTUbxfHV",
        "colab_type": "text"
      },
      "source": [
        "### ** Part 1: Creating a base RDD and pair RDDs **"
      ]
    },
    {
      "cell_type": "markdown",
      "metadata": {
        "id": "U-bZ6qDJxfHV",
        "colab_type": "text"
      },
      "source": [
        "#### In this part of the lab, we will explore creating a base RDD with `parallelize` and using pair RDDs to count words."
      ]
    },
    {
      "cell_type": "markdown",
      "metadata": {
        "id": "ERHsrHnGxfHW",
        "colab_type": "text"
      },
      "source": [
        "#### ** (1a) Create a base RDD **\n",
        "#### We'll start by generating a base RDD by using a Python list and the `sc.parallelize` method.  Then we'll print out the type of the base RDD."
      ]
    },
    {
      "cell_type": "code",
      "metadata": {
        "id": "GK2EsH1KxodW",
        "colab_type": "code",
        "colab": {
          "base_uri": "https://localhost:8080/",
          "height": 52
        },
        "outputId": "df8b31e1-12d8-4fb7-c706-207a4e89731a"
      },
      "source": [
        "!apt-get install openjdk-8-jdk-headless -qq > /dev/null\n",
        "!wget -q https://www-us.apache.org/dist/spark/spark-2.4.6/spark-2.4.6-bin-hadoop2.7.tgz\n",
        "!tar xf spark-2.4.6-bin-hadoop2.7.tgz\n",
        "!pip install -q findspark\n",
        "import os\n",
        "os.environ[\"JAVA_HOME\"] = \"/usr/lib/jvm/java-8-openjdk-amd64\"\n",
        "os.environ[\"SPARK_HOME\"] = \"/content/spark-2.4.6-bin-hadoop2.7\"\n",
        "!pip install pyspark\n",
        "import pyspark\n",
        "from pyspark import SparkContext as sc\n",
        "from pyspark import SparkConf\n",
        "conf=SparkConf().setAppName(\"miniProject\").setMaster(\"local[*]\")\n",
        "sc=sc.getOrCreate(conf)"
      ],
      "execution_count": 1,
      "outputs": [
        {
          "output_type": "stream",
          "text": [
            "Requirement already satisfied: pyspark in /usr/local/lib/python3.6/dist-packages (2.4.6)\n",
            "Requirement already satisfied: py4j==0.10.7 in /usr/local/lib/python3.6/dist-packages (from pyspark) (0.10.7)\n"
          ],
          "name": "stdout"
        }
      ]
    },
    {
      "cell_type": "code",
      "metadata": {
        "id": "sNxWW7HSxfHX",
        "colab_type": "code",
        "colab": {
          "base_uri": "https://localhost:8080/",
          "height": 35
        },
        "outputId": "4f45e71c-51a9-4c04-ff7c-1e2ab7c339bb"
      },
      "source": [
        "wordsList = ['cat', 'elephant', 'rat', 'rat', 'cat']\n",
        "wordsRDD = sc.parallelize(wordsList, 4)\n",
        "# Print out the type of wordsRDD\n",
        "print (type(wordsRDD))"
      ],
      "execution_count": 2,
      "outputs": [
        {
          "output_type": "stream",
          "text": [
            "<class 'pyspark.rdd.RDD'>\n"
          ],
          "name": "stdout"
        }
      ]
    },
    {
      "cell_type": "markdown",
      "metadata": {
        "id": "fSixsxllxfHZ",
        "colab_type": "text"
      },
      "source": [
        "#### ** (1b) Pluralize and test **\n",
        "#### Let's use a `map()` transformation to add the letter 's' to each string in the base RDD we just created. We'll define a Python function that returns the word with an 's' at the end of the word.  Please replace `<FILL IN>` with your solution.  If you have trouble, the next cell has the solution.  After you have defined `makePlural` you can run the third cell which contains a test.  If you implementation is correct it will print `1 test passed`.\n",
        "#### This is the general form that exercises will take, except that no example solution will be provided.  Exercises will include an explanation of what is expected, followed by code cells where one cell will have one or more `<FILL IN>` sections.  The cell that needs to be modified will have `# TODO: Replace <FILL IN> with appropriate code` on its first line.  Once the `<FILL IN>` sections are updated and the code is run, the test cell can then be run to verify the correctness of your solution.  The last code cell before the next markdown section will contain the tests."
      ]
    },
    {
      "cell_type": "code",
      "metadata": {
        "id": "180HjBtaxfHa",
        "colab_type": "code",
        "colab": {
          "base_uri": "https://localhost:8080/",
          "height": 35
        },
        "outputId": "1f39a1a6-9c43-4414-8f41-7bd7c75a8e71"
      },
      "source": [
        "# TODO: Replace <FILL IN> with appropriate code\n",
        "def makePlural(word):\n",
        "    \"\"\"Adds an 's' to `word`.\n",
        "\n",
        "    Note:\n",
        "        This is a simple function that only adds an 's'.  No attempt is made to follow proper\n",
        "        pluralization rules.\n",
        "\n",
        "    Args:\n",
        "        word (str): A string.\n",
        "\n",
        "    Returns:\n",
        "        str: A string with 's' added to it.\n",
        "    \"\"\"\n",
        "    return word+\"s\"\n",
        "\n",
        "print(makePlural('cat'))"
      ],
      "execution_count": 3,
      "outputs": [
        {
          "output_type": "stream",
          "text": [
            "cats\n"
          ],
          "name": "stdout"
        }
      ]
    },
    {
      "cell_type": "code",
      "metadata": {
        "id": "VnXq6dGmxfHc",
        "colab_type": "code",
        "colab": {
          "base_uri": "https://localhost:8080/",
          "height": 35
        },
        "outputId": "c52c929c-3e58-422e-abbe-18ab134a68db"
      },
      "source": [
        "# One way of completing the function\n",
        "def makePlural(word):\n",
        "    return word + 's'\n",
        "\n",
        "print (makePlural('cat'))"
      ],
      "execution_count": 4,
      "outputs": [
        {
          "output_type": "stream",
          "text": [
            "cats\n"
          ],
          "name": "stdout"
        }
      ]
    },
    {
      "cell_type": "code",
      "metadata": {
        "id": "CAmvJhobxfHe",
        "colab_type": "code",
        "colab": {
          "resources": {
            "http://localhost:8080/nbextensions/google.colab/files.js": {
              "data": "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",
              "ok": true,
              "headers": [
                [
                  "content-type",
                  "application/javascript"
                ]
              ],
              "status": 200,
              "status_text": ""
            }
          },
          "base_uri": "https://localhost:8080/",
          "height": 93
        },
        "outputId": "c4243996-e732-4dc2-9697-ef817a1675a6"
      },
      "source": [
        "# Load in the testing code and check to see if your answer is correct\n",
        "# If incorrect it will report back '1 test failed' for each failed test\n",
        "# Make sure to rerun any cell you change before trying the test again\n",
        "from google.colab import files\n",
        "src = list(files.upload().values())[0]\n",
        "open('test_helper.py','wb').write(src)\n",
        "from test_helper import Test\n",
        "# TEST Pluralize and test (1b)\n",
        "Test.assertEquals(makePlural('rat'), 'rats', 'incorrect result: makePlural does not add an s')"
      ],
      "execution_count": 6,
      "outputs": [
        {
          "output_type": "display_data",
          "data": {
            "text/html": [
              "\n",
              "     <input type=\"file\" id=\"files-060623c7-ac68-44c3-9b70-2d48151fa553\" name=\"files[]\" multiple disabled />\n",
              "     <output id=\"result-060623c7-ac68-44c3-9b70-2d48151fa553\">\n",
              "      Upload widget is only available when the cell has been executed in the\n",
              "      current browser session. Please rerun this cell to enable.\n",
              "      </output>\n",
              "      <script src=\"/nbextensions/google.colab/files.js\"></script> "
            ],
            "text/plain": [
              "<IPython.core.display.HTML object>"
            ]
          },
          "metadata": {
            "tags": []
          }
        },
        {
          "output_type": "stream",
          "text": [
            "Saving test_helper.py to test_helper (1).py\n",
            "1 test passed.\n"
          ],
          "name": "stdout"
        }
      ]
    },
    {
      "cell_type": "markdown",
      "metadata": {
        "id": "5RJzrFlNxfHh",
        "colab_type": "text"
      },
      "source": [
        "#### ** (1c) Apply `makePlural` to the base RDD **\n",
        "#### Now pass each item in the base RDD into a [map()](http://spark.apache.org/docs/latest/api/python/pyspark.html#pyspark.RDD.map) transformation that applies the `makePlural()` function to each element. And then call the [collect()](http://spark.apache.org/docs/latest/api/python/pyspark.html#pyspark.RDD.collect) action to see the transformed RDD."
      ]
    },
    {
      "cell_type": "code",
      "metadata": {
        "id": "S37nJjbbxfHh",
        "colab_type": "code",
        "colab": {
          "base_uri": "https://localhost:8080/",
          "height": 35
        },
        "outputId": "e462bf85-78c9-43a7-cc2e-55ae4c7ace44"
      },
      "source": [
        "# TODO: Replace <FILL IN> with appropriate code\n",
        "pluralRDD = wordsRDD.map(makePlural)\n",
        "print (pluralRDD.collect())"
      ],
      "execution_count": 7,
      "outputs": [
        {
          "output_type": "stream",
          "text": [
            "['cats', 'elephants', 'rats', 'rats', 'cats']\n"
          ],
          "name": "stdout"
        }
      ]
    },
    {
      "cell_type": "code",
      "metadata": {
        "id": "dleBOsBJxfHk",
        "colab_type": "code",
        "colab": {
          "base_uri": "https://localhost:8080/",
          "height": 35
        },
        "outputId": "9acca301-9967-452b-8ebd-143b29f5dcbc"
      },
      "source": [
        "# TEST Apply makePlural to the base RDD(1c)\n",
        "Test.assertEquals(pluralRDD.collect(), ['cats', 'elephants', 'rats', 'rats', 'cats'],\n",
        "                  'incorrect values for pluralRDD')"
      ],
      "execution_count": 8,
      "outputs": [
        {
          "output_type": "stream",
          "text": [
            "1 test passed.\n"
          ],
          "name": "stdout"
        }
      ]
    },
    {
      "cell_type": "markdown",
      "metadata": {
        "id": "5PxLXFosxfHm",
        "colab_type": "text"
      },
      "source": [
        "#### ** (1d) Pass a `lambda` function to `map` **\n",
        "#### Let's create the same RDD using a `lambda` function."
      ]
    },
    {
      "cell_type": "code",
      "metadata": {
        "id": "1LMFIsNnxfHn",
        "colab_type": "code",
        "colab": {
          "base_uri": "https://localhost:8080/",
          "height": 35
        },
        "outputId": "67145db3-bb9f-462c-f26c-792c2e28096d"
      },
      "source": [
        "# TODO: Replace <FILL IN> with appropriate code\n",
        "pluralLambdaRDD = wordsRDD.map(lambda x :makePlural(x))\n",
        "print (pluralLambdaRDD.collect())"
      ],
      "execution_count": 9,
      "outputs": [
        {
          "output_type": "stream",
          "text": [
            "['cats', 'elephants', 'rats', 'rats', 'cats']\n"
          ],
          "name": "stdout"
        }
      ]
    },
    {
      "cell_type": "code",
      "metadata": {
        "id": "Qi_XDpNrxfHp",
        "colab_type": "code",
        "colab": {
          "base_uri": "https://localhost:8080/",
          "height": 35
        },
        "outputId": "796a8f7c-e592-49e2-86a0-5f3708d51279"
      },
      "source": [
        "# TEST Pass a lambda function to map (1d)\n",
        "Test.assertEquals(pluralLambdaRDD.collect(), ['cats', 'elephants', 'rats', 'rats', 'cats'],\n",
        "                  'incorrect values for pluralLambdaRDD (1d)')"
      ],
      "execution_count": 10,
      "outputs": [
        {
          "output_type": "stream",
          "text": [
            "1 test passed.\n"
          ],
          "name": "stdout"
        }
      ]
    },
    {
      "cell_type": "markdown",
      "metadata": {
        "id": "h8LVukRoxfHs",
        "colab_type": "text"
      },
      "source": [
        "#### ** (1e) Length of each word **\n",
        "#### Now use `map()` and a `lambda` function to return the number of characters in each word.  We'll `collect` this result directly into a variable."
      ]
    },
    {
      "cell_type": "code",
      "metadata": {
        "id": "_rOozi00xfHt",
        "colab_type": "code",
        "colab": {
          "base_uri": "https://localhost:8080/",
          "height": 35
        },
        "outputId": "98fc8fc1-388d-4aa7-9875-1c0aeacb455d"
      },
      "source": [
        "# TODO: Replace <FILL IN> with appropriate code\n",
        "pluralLengths = (pluralRDD\n",
        "                 .map(len)\n",
        "                 .collect())\n",
        "print (pluralLengths)"
      ],
      "execution_count": 11,
      "outputs": [
        {
          "output_type": "stream",
          "text": [
            "[4, 9, 4, 4, 4]\n"
          ],
          "name": "stdout"
        }
      ]
    },
    {
      "cell_type": "code",
      "metadata": {
        "id": "M3IxbJhyxfHv",
        "colab_type": "code",
        "colab": {
          "base_uri": "https://localhost:8080/",
          "height": 35
        },
        "outputId": "666ca9b9-0d58-4871-c261-20a06aa89136"
      },
      "source": [
        "# TEST Length of each word (1e)\n",
        "Test.assertEquals(pluralLengths, [4, 9, 4, 4, 4],\n",
        "                  'incorrect values for pluralLengths')"
      ],
      "execution_count": 12,
      "outputs": [
        {
          "output_type": "stream",
          "text": [
            "1 test passed.\n"
          ],
          "name": "stdout"
        }
      ]
    },
    {
      "cell_type": "markdown",
      "metadata": {
        "id": "xosB7kskxfHx",
        "colab_type": "text"
      },
      "source": [
        "#### ** (1f) Pair RDDs **\n",
        "#### The next step in writing our word counting program is to create a new type of RDD, called a pair RDD. A pair RDD is an RDD where each element is a pair tuple `(k, v)` where `k` is the key and `v` is the value. In this example, we will create a pair consisting of `('<word>', 1)` for each word element in the RDD.\n",
        "#### We can create the pair RDD using the `map()` transformation with a `lambda()` function to create a new RDD."
      ]
    },
    {
      "cell_type": "code",
      "metadata": {
        "id": "k0PwQSHgxfHx",
        "colab_type": "code",
        "colab": {
          "base_uri": "https://localhost:8080/",
          "height": 35
        },
        "outputId": "19147431-9cf1-4003-9b19-235684d7247a"
      },
      "source": [
        "# TODO: Replace <FILL IN> with appropriate code\n",
        "wordPairs = wordsRDD.map(lambda x:(x,1))\n",
        "print (wordPairs.collect())"
      ],
      "execution_count": 13,
      "outputs": [
        {
          "output_type": "stream",
          "text": [
            "[('cat', 1), ('elephant', 1), ('rat', 1), ('rat', 1), ('cat', 1)]\n"
          ],
          "name": "stdout"
        }
      ]
    },
    {
      "cell_type": "code",
      "metadata": {
        "id": "tLMOCQrDxfHz",
        "colab_type": "code",
        "colab": {
          "base_uri": "https://localhost:8080/",
          "height": 35
        },
        "outputId": "cbb00b5f-6797-4bd9-d861-d7eabffc6f36"
      },
      "source": [
        "# TEST Pair RDDs (1f)\n",
        "Test.assertEquals(wordPairs.collect(),\n",
        "                  [('cat', 1), ('elephant', 1), ('rat', 1), ('rat', 1), ('cat', 1)],\n",
        "                  'incorrect value for wordPairs')"
      ],
      "execution_count": 14,
      "outputs": [
        {
          "output_type": "stream",
          "text": [
            "1 test passed.\n"
          ],
          "name": "stdout"
        }
      ]
    },
    {
      "cell_type": "markdown",
      "metadata": {
        "id": "EoJzar8pxfH1",
        "colab_type": "text"
      },
      "source": [
        "### ** Part 2: Counting with pair RDDs **"
      ]
    },
    {
      "cell_type": "markdown",
      "metadata": {
        "id": "NNpxWPdSxfH2",
        "colab_type": "text"
      },
      "source": [
        "#### Now, let's count the number of times a particular word appears in the RDD. There are multiple ways to perform the counting, but some are much less efficient than others.\n",
        "#### A naive approach would be to `collect()` all of the elements and count them in the driver program. While this approach could work for small datasets, we want an approach that will work for any size dataset including terabyte- or petabyte-sized datasets. In addition, performing all of the work in the driver program is slower than performing it in parallel in the workers. For these reasons, we will use data parallel operations."
      ]
    },
    {
      "cell_type": "markdown",
      "metadata": {
        "id": "oFHu08j0xfH2",
        "colab_type": "text"
      },
      "source": [
        "#### ** (2a) `groupByKey()` approach **\n",
        "#### An approach you might first consider (we'll see shortly that there are better ways) is based on using the [groupByKey()](http://spark.apache.org/docs/latest/api/python/pyspark.html#pyspark.RDD.groupByKey) transformation. As the name implies, the `groupByKey()` transformation groups all the elements of the RDD with the same key into a single list in one of the partitions. There are two problems with using `groupByKey()`:\n",
        "  + #### The operation requires a lot of data movement to move all the values into the appropriate partitions.\n",
        "  + #### The lists can be very large. Consider a word count of English Wikipedia: the lists for common words (e.g., the, a, etc.) would be huge and could exhaust the available memory in a worker.\n",
        " \n",
        "#### Use `groupByKey()` to generate a pair RDD of type `('word', iterator)`."
      ]
    },
    {
      "cell_type": "code",
      "metadata": {
        "id": "GiI3xHBNxfH2",
        "colab_type": "code",
        "colab": {
          "base_uri": "https://localhost:8080/",
          "height": 69
        },
        "outputId": "f8dd6ce0-c11a-4038-9d39-0bc024206b9c"
      },
      "source": [
        "# TODO: Replace <FILL IN> with appropriate code\n",
        "# Note that groupByKey requires no parameters\n",
        "wordsGrouped = wordPairs.groupByKey().mapValues(lambda x: list(x))\n",
        "for key, value in wordsGrouped.collect():\n",
        "    print ('{0}: {1}'.format(key, list(value)))"
      ],
      "execution_count": 15,
      "outputs": [
        {
          "output_type": "stream",
          "text": [
            "cat: [1, 1]\n",
            "elephant: [1]\n",
            "rat: [1, 1]\n"
          ],
          "name": "stdout"
        }
      ]
    },
    {
      "cell_type": "code",
      "metadata": {
        "id": "NLEXVKrgxfH4",
        "colab_type": "code",
        "colab": {
          "base_uri": "https://localhost:8080/",
          "height": 35
        },
        "outputId": "90f6c919-22d5-452f-944e-072030b4c7e0"
      },
      "source": [
        "# TEST groupByKey() approach (2a)\n",
        "Test.assertEquals(sorted(wordsGrouped.mapValues(lambda x: list(x)).collect()),\n",
        "                  [('cat', [1, 1]), ('elephant', [1]), ('rat', [1, 1])],\n",
        "                  'incorrect value for wordsGrouped')"
      ],
      "execution_count": 16,
      "outputs": [
        {
          "output_type": "stream",
          "text": [
            "1 test passed.\n"
          ],
          "name": "stdout"
        }
      ]
    },
    {
      "cell_type": "markdown",
      "metadata": {
        "id": "lclY6G_rxfH6",
        "colab_type": "text"
      },
      "source": [
        "#### ** (2b) Use `groupByKey()` to obtain the counts **\n",
        "#### Using the `groupByKey()` transformation creates an RDD containing 3 elements, each of which is a pair of a word and a Python iterator.\n",
        "#### Now sum the iterator using a `map()` transformation.  The result should be a pair RDD consisting of (word, count) pairs."
      ]
    },
    {
      "cell_type": "code",
      "metadata": {
        "id": "KFp9NxrGxfH6",
        "colab_type": "code",
        "colab": {
          "base_uri": "https://localhost:8080/",
          "height": 52
        },
        "outputId": "a95a00a6-ce76-481a-9b06-59d292553af2"
      },
      "source": [
        "# TODO: Replace <FILL IN> with appropriate code\n",
        "print(wordsGrouped.collect())\n",
        "wordCountsGrouped = wordsGrouped.mapValues(lambda x:sum(x))\n",
        "print (wordCountsGrouped.collect())"
      ],
      "execution_count": 17,
      "outputs": [
        {
          "output_type": "stream",
          "text": [
            "[('cat', [1, 1]), ('elephant', [1]), ('rat', [1, 1])]\n",
            "[('cat', 2), ('elephant', 1), ('rat', 2)]\n"
          ],
          "name": "stdout"
        }
      ]
    },
    {
      "cell_type": "code",
      "metadata": {
        "id": "EBFHOz4uxfH8",
        "colab_type": "code",
        "colab": {
          "base_uri": "https://localhost:8080/",
          "height": 35
        },
        "outputId": "c4300c46-d68c-46fc-95b6-fcc62d600d60"
      },
      "source": [
        "# TEST Use groupByKey() to obtain the counts (2b)\n",
        "Test.assertEquals(sorted(wordCountsGrouped.collect()),\n",
        "                  [('cat', 2), ('elephant', 1), ('rat', 2)],\n",
        "                  'incorrect value for wordCountsGrouped')"
      ],
      "execution_count": 18,
      "outputs": [
        {
          "output_type": "stream",
          "text": [
            "1 test passed.\n"
          ],
          "name": "stdout"
        }
      ]
    },
    {
      "cell_type": "markdown",
      "metadata": {
        "id": "qwczNHjXxfH-",
        "colab_type": "text"
      },
      "source": [
        "#### ** (2c) Counting using `reduceByKey` **\n",
        "#### A better approach is to start from the pair RDD and then use the [reduceByKey()](http://spark.apache.org/docs/latest/api/python/pyspark.html#pyspark.RDD.reduceByKey) transformation to create a new pair RDD. The `reduceByKey()` transformation gathers together pairs that have the same key and applies the function provided to two values at a time, iteratively reducing all of the values to a single value. `reduceByKey()` operates by applying the function first within each partition on a per-key basis and then across the partitions, allowing it to scale efficiently to large datasets."
      ]
    },
    {
      "cell_type": "code",
      "metadata": {
        "id": "XCWyPJduxfH_",
        "colab_type": "code",
        "colab": {
          "base_uri": "https://localhost:8080/",
          "height": 52
        },
        "outputId": "68fcd124-0762-4ae4-f34c-fa304399b3a9"
      },
      "source": [
        "# TODO: Replace <FILL IN> with appropriate code\n",
        "# Note that reduceByKey takes in a function that accepts two values and returns a single value\n",
        "from operator import add\n",
        "print(wordPairs.collect())\n",
        "wordCounts = wordPairs.reduceByKey(add)\n",
        "print (wordCounts.collect())"
      ],
      "execution_count": 19,
      "outputs": [
        {
          "output_type": "stream",
          "text": [
            "[('cat', 1), ('elephant', 1), ('rat', 1), ('rat', 1), ('cat', 1)]\n",
            "[('cat', 2), ('elephant', 1), ('rat', 2)]\n"
          ],
          "name": "stdout"
        }
      ]
    },
    {
      "cell_type": "code",
      "metadata": {
        "id": "sM1iIeB-xfIA",
        "colab_type": "code",
        "colab": {
          "base_uri": "https://localhost:8080/",
          "height": 35
        },
        "outputId": "044542fe-101e-4d55-8138-cfbcc7eeebe2"
      },
      "source": [
        "# TEST Counting using reduceByKey (2c)\n",
        "Test.assertEquals(sorted(wordCounts.collect()), [('cat', 2), ('elephant', 1), ('rat', 2)],\n",
        "                  'incorrect value for wordCounts')"
      ],
      "execution_count": 20,
      "outputs": [
        {
          "output_type": "stream",
          "text": [
            "1 test passed.\n"
          ],
          "name": "stdout"
        }
      ]
    },
    {
      "cell_type": "markdown",
      "metadata": {
        "id": "TPCi18wrxfIC",
        "colab_type": "text"
      },
      "source": [
        "#### ** (2d) All together **\n",
        "#### The expert version of the code performs the `map()` to pair RDD, `reduceByKey()` transformation, and `collect` in one statement."
      ]
    },
    {
      "cell_type": "code",
      "metadata": {
        "id": "LeoHn6_wxfIC",
        "colab_type": "code",
        "colab": {
          "base_uri": "https://localhost:8080/",
          "height": 35
        },
        "outputId": "140029a0-c97f-4108-a090-bcad3de4bd02"
      },
      "source": [
        "# TODO: Replace <FILL IN> with appropriate code\n",
        "wordCountsCollected = (wordsRDD\n",
        "                       .map(lambda x:(x,1))\n",
        "                       .reduceByKey(add)\n",
        "                       .collect())\n",
        "print (wordCountsCollected)"
      ],
      "execution_count": 21,
      "outputs": [
        {
          "output_type": "stream",
          "text": [
            "[('cat', 2), ('elephant', 1), ('rat', 2)]\n"
          ],
          "name": "stdout"
        }
      ]
    },
    {
      "cell_type": "code",
      "metadata": {
        "id": "GcBTGwKSxfIE",
        "colab_type": "code",
        "colab": {
          "base_uri": "https://localhost:8080/",
          "height": 35
        },
        "outputId": "f03dbbe8-0f19-4691-95c1-a71106384c37"
      },
      "source": [
        "# TEST All together (2d)\n",
        "Test.assertEquals(sorted(wordCountsCollected), [('cat', 2), ('elephant', 1), ('rat', 2)],\n",
        "                  'incorrect value for wordCountsCollected')"
      ],
      "execution_count": 22,
      "outputs": [
        {
          "output_type": "stream",
          "text": [
            "1 test passed.\n"
          ],
          "name": "stdout"
        }
      ]
    },
    {
      "cell_type": "markdown",
      "metadata": {
        "id": "pkRNjkTyxfIG",
        "colab_type": "text"
      },
      "source": [
        "### ** Part 3: Finding unique words and a mean value **"
      ]
    },
    {
      "cell_type": "markdown",
      "metadata": {
        "id": "fgdWwcxXxfIG",
        "colab_type": "text"
      },
      "source": [
        "#### ** (3a) Unique words **\n",
        "#### Calculate the number of unique words in `wordsRDD`.  You can use other RDDs that you have already created to make this easier."
      ]
    },
    {
      "cell_type": "code",
      "metadata": {
        "id": "W69hJ_bgxfIG",
        "colab_type": "code",
        "colab": {
          "base_uri": "https://localhost:8080/",
          "height": 35
        },
        "outputId": "43ba2aa6-9fc5-4491-c453-31e5516891cd"
      },
      "source": [
        "# TODO: Replace <FILL IN> with appropriate code\n",
        "uniqueWords = len(wordCountsCollected)\n",
        "print (uniqueWords)"
      ],
      "execution_count": 23,
      "outputs": [
        {
          "output_type": "stream",
          "text": [
            "3\n"
          ],
          "name": "stdout"
        }
      ]
    },
    {
      "cell_type": "code",
      "metadata": {
        "id": "HZqonTQdxfIJ",
        "colab_type": "code",
        "colab": {
          "base_uri": "https://localhost:8080/",
          "height": 35
        },
        "outputId": "129d2722-1188-4a35-bfa1-15cf3bd5293d"
      },
      "source": [
        "# TEST Unique words (3a)\n",
        "Test.assertEquals(uniqueWords, 3, 'incorrect count of uniqueWords')"
      ],
      "execution_count": 24,
      "outputs": [
        {
          "output_type": "stream",
          "text": [
            "1 test passed.\n"
          ],
          "name": "stdout"
        }
      ]
    },
    {
      "cell_type": "markdown",
      "metadata": {
        "id": "SITPtOufxfIL",
        "colab_type": "text"
      },
      "source": [
        "#### ** (3b) Mean using `reduce` **\n",
        "#### Find the mean number of words per unique word in `wordCounts`.\n",
        "#### Use a `reduce()` action to sum the counts in `wordCounts` and then divide by the number of unique words.  First `map()` the pair RDD `wordCounts`, which consists of (key, value) pairs, to an RDD of values."
      ]
    },
    {
      "cell_type": "code",
      "metadata": {
        "id": "4FFJV2ih2JbD",
        "colab_type": "code",
        "colab": {
          "base_uri": "https://localhost:8080/",
          "height": 35
        },
        "outputId": "ca54fde0-e258-4649-d317-45a752085b29"
      },
      "source": [
        "wordCounts.map(lambda x:x[1]).collect()"
      ],
      "execution_count": 25,
      "outputs": [
        {
          "output_type": "execute_result",
          "data": {
            "text/plain": [
              "[2, 1, 2]"
            ]
          },
          "metadata": {
            "tags": []
          },
          "execution_count": 25
        }
      ]
    },
    {
      "cell_type": "code",
      "metadata": {
        "id": "me7JEIk7xfIL",
        "colab_type": "code",
        "colab": {
          "base_uri": "https://localhost:8080/",
          "height": 52
        },
        "outputId": "50bbd150-0595-41bc-ba54-4f64fff96873"
      },
      "source": [
        "# TODO: Replace <FILL IN> with appropriate code\n",
        "from operator import add\n",
        "totalCount = (wordCounts\n",
        "              .map(lambda x:x[1])\n",
        "              .reduce(add))\n",
        "average = totalCount / float(len(wordCounts.collect()))\n",
        "print(totalCount)\n",
        "print (round(average, 2))"
      ],
      "execution_count": 26,
      "outputs": [
        {
          "output_type": "stream",
          "text": [
            "5\n",
            "1.67\n"
          ],
          "name": "stdout"
        }
      ]
    },
    {
      "cell_type": "code",
      "metadata": {
        "id": "vE9HPeIhxfIO",
        "colab_type": "code",
        "colab": {
          "base_uri": "https://localhost:8080/",
          "height": 35
        },
        "outputId": "a3d220d1-c1bc-49ae-96a3-26d2ae715ef6"
      },
      "source": [
        "# TEST Mean using reduce (3b)\n",
        "Test.assertEquals(round(average, 2), 1.67, 'incorrect value of average')"
      ],
      "execution_count": 27,
      "outputs": [
        {
          "output_type": "stream",
          "text": [
            "1 test passed.\n"
          ],
          "name": "stdout"
        }
      ]
    },
    {
      "cell_type": "markdown",
      "metadata": {
        "id": "49C1uImrxfIP",
        "colab_type": "text"
      },
      "source": [
        "### ** Part 4: Apply word count to a file **"
      ]
    },
    {
      "cell_type": "markdown",
      "metadata": {
        "id": "9Mo3ijQsxfIP",
        "colab_type": "text"
      },
      "source": [
        "#### In this section we will finish developing our word count application.  We'll have to build the `wordCount` function, deal with real world problems like capitalization and punctuation, load in our data source, and compute the word count on the new data."
      ]
    },
    {
      "cell_type": "markdown",
      "metadata": {
        "id": "Xa6EcbgDxfIQ",
        "colab_type": "text"
      },
      "source": [
        "#### ** (4a) `wordCount` function **\n",
        "#### First, define a function for word counting.  You should reuse the techniques that have been covered in earlier parts of this lab.  This function should take in an RDD that is a list of words like `wordsRDD` and return a pair RDD that has all of the words and their associated counts."
      ]
    },
    {
      "cell_type": "code",
      "metadata": {
        "id": "iralxhtV2uEP",
        "colab_type": "code",
        "colab": {
          "base_uri": "https://localhost:8080/",
          "height": 35
        },
        "outputId": "2c9d78d1-5835-4820-a8ca-fe701683572b"
      },
      "source": [
        "wordsRDD.collect()"
      ],
      "execution_count": 28,
      "outputs": [
        {
          "output_type": "execute_result",
          "data": {
            "text/plain": [
              "['cat', 'elephant', 'rat', 'rat', 'cat']"
            ]
          },
          "metadata": {
            "tags": []
          },
          "execution_count": 28
        }
      ]
    },
    {
      "cell_type": "code",
      "metadata": {
        "id": "wYqQHUjPxfIQ",
        "colab_type": "code",
        "colab": {
          "base_uri": "https://localhost:8080/",
          "height": 35
        },
        "outputId": "d3007433-ad0d-4c1f-c7b3-aab423fa80b8"
      },
      "source": [
        "# TODO: Replace <FILL IN> with appropriate code\n",
        "def wordCount(wordListRDD):\n",
        "    \"\"\"Creates a pair RDD with word counts from an RDD of words.\n",
        "\n",
        "    Args:\n",
        "        wordListRDD (RDD of str): An RDD consisting of words.\n",
        "\n",
        "    Returns:\n",
        "        RDD of (str, int): An RDD consisting of (word, count) tuples.\n",
        "    \"\"\"\n",
        "    return wordListRDD.map(lambda x:(x,1)).groupByKey().mapValues(lambda x: sum(x))\n",
        "    \n",
        "print (wordCount(wordsRDD).collect())"
      ],
      "execution_count": 29,
      "outputs": [
        {
          "output_type": "stream",
          "text": [
            "[('cat', 2), ('elephant', 1), ('rat', 2)]\n"
          ],
          "name": "stdout"
        }
      ]
    },
    {
      "cell_type": "code",
      "metadata": {
        "id": "t_1F9FkdxfIS",
        "colab_type": "code",
        "colab": {
          "base_uri": "https://localhost:8080/",
          "height": 35
        },
        "outputId": "860d465e-b5a2-4dea-b379-046af9d8d881"
      },
      "source": [
        "# TEST wordCount function (4a)\n",
        "Test.assertEquals(sorted(wordCount(wordsRDD).collect()),\n",
        "                  [('cat', 2), ('elephant', 1), ('rat', 2)],\n",
        "                  'incorrect definition for wordCount function')"
      ],
      "execution_count": 30,
      "outputs": [
        {
          "output_type": "stream",
          "text": [
            "1 test passed.\n"
          ],
          "name": "stdout"
        }
      ]
    },
    {
      "cell_type": "code",
      "metadata": {
        "id": "xwkbdB8EBMIy",
        "colab_type": "code",
        "colab": {
          "base_uri": "https://localhost:8080/",
          "height": 35
        },
        "outputId": "d8bf8f81-7353-42c0-a281-4d656e51ec2e"
      },
      "source": [
        "wordsRDD.collect()"
      ],
      "execution_count": 31,
      "outputs": [
        {
          "output_type": "execute_result",
          "data": {
            "text/plain": [
              "['cat', 'elephant', 'rat', 'rat', 'cat']"
            ]
          },
          "metadata": {
            "tags": []
          },
          "execution_count": 31
        }
      ]
    },
    {
      "cell_type": "markdown",
      "metadata": {
        "id": "FCV8ufqaxfIT",
        "colab_type": "text"
      },
      "source": [
        "#### ** (4b) Capitalization and punctuation **\n",
        "#### Real world files are more complicated than the data we have been using in this lab. Some of the issues we have to address are:\n",
        "  + #### Words should be counted independent of their capitialization (e.g., Spark and spark should be counted as the same word).\n",
        "  + #### All punctuation should be removed.\n",
        "  + #### Any leading or trailing spaces on a line should be removed.\n",
        " \n",
        "#### Define the function `removePunctuation` that converts all text to lower case, removes any punctuation, and removes leading and trailing spaces.  Use the Python [re](https://docs.python.org/2/library/re.html) module to remove any text that is not a letter, number, or space. Reading `help(re.sub)` might be useful."
      ]
    },
    {
      "cell_type": "code",
      "metadata": {
        "id": "UsG5zqx-xfIU",
        "colab_type": "code",
        "colab": {
          "base_uri": "https://localhost:8080/",
          "height": 52
        },
        "outputId": "d10f5ffa-9fc6-418e-f3ac-88ecf2b19f89"
      },
      "source": [
        "# TODO: Replace <FILL IN> with appropriate code\n",
        "import re\n",
        "import string\n",
        "def removePunctuation(text):\n",
        "    \"\"\"Removes punctuation, changes to lower case, and strips leading and trailing spaces.\n",
        "\n",
        "    Note:\n",
        "        Only spaces, letters, and numbers should be retained.  Other characters should should be\n",
        "        eliminated (e.g. it's becomes its).  Leading and trailing spaces should be removed after\n",
        "        punctuation is removed.\n",
        "\n",
        "    Args:\n",
        "        text (str): A string.\n",
        "\n",
        "    Returns:\n",
        "        str: The cleaned up string.\n",
        "    \"\"\"\n",
        "    text=text.translate(str.maketrans('', '', string.punctuation))\n",
        "    \n",
        "    return text.lower().strip()\n",
        "\n",
        "print (removePunctuation('Hi, you!'))\n",
        "print (removePunctuation(' No under_score!'))"
      ],
      "execution_count": 32,
      "outputs": [
        {
          "output_type": "stream",
          "text": [
            "hi you\n",
            "no underscore\n"
          ],
          "name": "stdout"
        }
      ]
    },
    {
      "cell_type": "code",
      "metadata": {
        "id": "ZXOlaSYVxfIW",
        "colab_type": "code",
        "colab": {
          "base_uri": "https://localhost:8080/",
          "height": 35
        },
        "outputId": "2afb3c95-c72c-49cf-a02a-a00456da0d9c"
      },
      "source": [
        "# TEST Capitalization and punctuation (4b)\n",
        "Test.assertEquals(removePunctuation(\" The Elephant's 4 cats. \"),\n",
        "                  'the elephants 4 cats',\n",
        "                  'incorrect definition for removePunctuation function')"
      ],
      "execution_count": 33,
      "outputs": [
        {
          "output_type": "stream",
          "text": [
            "1 test passed.\n"
          ],
          "name": "stdout"
        }
      ]
    },
    {
      "cell_type": "markdown",
      "metadata": {
        "id": "n8bnhCekxfIa",
        "colab_type": "text"
      },
      "source": [
        "#### ** (4c) Load a text file **\n",
        "#### For the next part of this lab, we will use the [Complete Works of William Shakespeare](http://www.gutenberg.org/ebooks/100) from [Project Gutenberg](http://www.gutenberg.org/wiki/Main_Page). To convert a text file into an RDD, we use the `SparkContext.textFile()` method. We also apply the recently defined `removePunctuation()` function using a `map()` transformation to strip out the punctuation and change all text to lowercase.  Since the file is large we use `take(15)`, so that we only print 15 lines."
      ]
    },
    {
      "cell_type": "code",
      "metadata": {
        "id": "IajLkDS0xfIa",
        "colab_type": "code",
        "colab": {
          "base_uri": "https://localhost:8080/",
          "height": 312
        },
        "outputId": "93c9f3b5-5856-4d23-9572-e233e5c71207"
      },
      "source": [
        "# Just run this code\n",
        "#import os.path\n",
        "#baseDir = os.path.join('data')\n",
        "#inputPath = os.path.join('cs100', 'lab1', 'shakespeare.txt')\n",
        "from google.colab import drive\n",
        "drive.mount('/content/drive',force_remount=True)\n",
        "fileName = \"/content/drive/My Drive/shakespeare.txt\"\n",
        "\n",
        "shakespeareRDD = (sc\n",
        "                  .textFile(fileName, 8)\n",
        "                  .map(removePunctuation))\n",
        "print()\n",
        "print ('\\n'.join(shakespeareRDD\n",
        "                .zipWithIndex()  # to (line, lineNum)\n",
        "                .map(lambda num: '{0}: {1}'.format(num[1], num[0]))  # to 'lineNum: line'\n",
        "                .take(15)))"
      ],
      "execution_count": 42,
      "outputs": [
        {
          "output_type": "stream",
          "text": [
            "Mounted at /content/drive\n",
            "\n",
            "0: 1609\n",
            "1: \n",
            "2: the sonnets\n",
            "3: \n",
            "4: by william shakespeare\n",
            "5: \n",
            "6: \n",
            "7: \n",
            "8: 1\n",
            "9: from fairest creatures we desire increase\n",
            "10: that thereby beautys rose might never die\n",
            "11: but as the riper should by time decease\n",
            "12: his tender heir might bear his memory\n",
            "13: but thou contracted to thine own bright eyes\n",
            "14: feedst thy lights flame with selfsubstantial fuel\n"
          ],
          "name": "stdout"
        }
      ]
    },
    {
      "cell_type": "markdown",
      "metadata": {
        "id": "hNApM6TnxfIc",
        "colab_type": "text"
      },
      "source": [
        "#### ** (4d) Words from lines **\n",
        "#### Before we can use the `wordcount()` function, we have to address two issues with the format of the RDD:\n",
        "  + #### The first issue is that  that we need to split each line by its spaces.\n",
        "  + #### The second issue is we need to filter out empty lines.\n",
        " \n",
        "#### Apply a transformation that will split each element of the RDD by its spaces. For each element of the RDD, you should apply Python's string [split()](https://docs.python.org/2/library/string.html#string.split) function. You might think that a `map()` transformation is the way to do this, but think about what the result of the `split()` function will be."
      ]
    },
    {
      "cell_type": "code",
      "metadata": {
        "id": "jTufsY305OWU",
        "colab_type": "code",
        "colab": {
          "base_uri": "https://localhost:8080/",
          "height": 191
        },
        "outputId": "66273860-cbef-479a-e95b-fee98d393f8b"
      },
      "source": [
        "shakespeareRDD.take(10)"
      ],
      "execution_count": 43,
      "outputs": [
        {
          "output_type": "execute_result",
          "data": {
            "text/plain": [
              "['1609',\n",
              " '',\n",
              " 'the sonnets',\n",
              " '',\n",
              " 'by william shakespeare',\n",
              " '',\n",
              " '',\n",
              " '',\n",
              " '1',\n",
              " 'from fairest creatures we desire increase']"
            ]
          },
          "metadata": {
            "tags": []
          },
          "execution_count": 43
        }
      ]
    },
    {
      "cell_type": "code",
      "metadata": {
        "id": "v4yPzyJ3xfIc",
        "colab_type": "code",
        "colab": {
          "base_uri": "https://localhost:8080/",
          "height": 69
        },
        "outputId": "bffba175-8d25-4b5b-ee8f-81badea0d174"
      },
      "source": [
        "# TODO: Replace <FILL IN> with appropriate code\n",
        "shakespeareWordsRDD = shakespeareRDD.flatMap(lambda x:x.split())\n",
        "shakespeareWordCount = shakespeareWordsRDD.count()\n",
        "print(shakespeareWordsRDD.take(10))\n",
        "print (shakespeareWordsRDD.top(5))\n",
        "print (shakespeareWordCount)"
      ],
      "execution_count": 45,
      "outputs": [
        {
          "output_type": "stream",
          "text": [
            "['1609', 'the', 'sonnets', 'by', 'william', 'shakespeare', '1', 'from', 'fairest', 'creatures']\n",
            "['zwaggerd', 'zounds', 'zounds', 'zounds', 'zounds']\n",
            "882996\n"
          ],
          "name": "stdout"
        }
      ]
    },
    {
      "cell_type": "code",
      "metadata": {
        "id": "AxXM5DH2xfId",
        "colab_type": "code",
        "colab": {
          "base_uri": "https://localhost:8080/",
          "height": 35
        },
        "outputId": "b24c4fbd-c8d2-40c0-92a7-0b885ee86d63"
      },
      "source": [
        "# TEST Words from lines (4d)\n",
        "# This test allows for leading spaces to be removed either before or after\n",
        "# punctuation is removed.\n",
        "\n",
        "Test.assertEquals(shakespeareWordsRDD.top(5),\n",
        "                  [u'zwaggerd', u'zounds', u'zounds', u'zounds', u'zounds'],\n",
        "                  'incorrect value for shakespeareWordsRDD')"
      ],
      "execution_count": 46,
      "outputs": [
        {
          "output_type": "stream",
          "text": [
            "1 test passed.\n"
          ],
          "name": "stdout"
        }
      ]
    },
    {
      "cell_type": "markdown",
      "metadata": {
        "id": "lCEzJCUvxfIf",
        "colab_type": "text"
      },
      "source": [
        "#### ** (4e) Remove empty elements **\n",
        "#### The next step is to filter out the empty elements.  Remove all entries where the word is `''`."
      ]
    },
    {
      "cell_type": "code",
      "metadata": {
        "id": "C6UWWD8JxfIf",
        "colab_type": "code",
        "colab": {
          "base_uri": "https://localhost:8080/",
          "height": 35
        },
        "outputId": "ca853bf5-97be-46d8-ecab-68c6057f7243"
      },
      "source": [
        "# TODO: Replace <FILL IN> with appropriate code\n",
        "shakeWordsRDD = shakespeareWordsRDD.filter(lambda x: len(x)!=0)\n",
        "shakeWordCount = shakeWordsRDD.count()\n",
        "print (shakeWordCount)"
      ],
      "execution_count": 47,
      "outputs": [
        {
          "output_type": "stream",
          "text": [
            "882996\n"
          ],
          "name": "stdout"
        }
      ]
    },
    {
      "cell_type": "code",
      "metadata": {
        "id": "wBTbM1uexfIh",
        "colab_type": "code",
        "colab": {
          "base_uri": "https://localhost:8080/",
          "height": 35
        },
        "outputId": "d24d602e-6d65-462d-e8d5-eb9afd773984"
      },
      "source": [
        "#TEST Remove empty elements (4e)\n",
        "Test.assertEquals(shakeWordCount, 882996, 'incorrect value for shakeWordCount')"
      ],
      "execution_count": 49,
      "outputs": [
        {
          "output_type": "stream",
          "text": [
            "1 test passed.\n"
          ],
          "name": "stdout"
        }
      ]
    },
    {
      "cell_type": "markdown",
      "metadata": {
        "id": "cfYizSX3xfIj",
        "colab_type": "text"
      },
      "source": [
        "#### ** (4f) Count the words **\n",
        "#### We now have an RDD that is only words.  Next, let's apply the `wordCount()` function to produce a list of word counts. We can view the top 15 words by using the `takeOrdered()` action; however, since the elements of the RDD are pairs, we need a custom sort function that sorts using the value part of the pair.\n",
        "#### You'll notice that many of the words are common English words. These are called stopwords. In a later lab, we will see how to eliminate them from the results.\n",
        "#### Use the `wordCount()` function and `takeOrdered()` to obtain the fifteen most common words and their counts."
      ]
    },
    {
      "cell_type": "code",
      "metadata": {
        "id": "JCUhWXazxfIj",
        "colab_type": "code",
        "colab": {
          "base_uri": "https://localhost:8080/",
          "height": 315
        },
        "outputId": "8e184e60-172b-4c2a-fdc3-9c9c3f9ba55e"
      },
      "source": [
        "# TODO: Replace <FILL IN> with appropriate code\n",
        "top15WordsAndCounts = wordCount(shakespeareWordsRDD).takeOrdered(15, lambda s: -s[1])\n",
        "print(top15WordsAndCounts)\n",
        "print ('\\n'.join(map(lambda w: '{0}: {1}'.format(w[0], w[1]), top15WordsAndCounts)))"
      ],
      "execution_count": 50,
      "outputs": [
        {
          "output_type": "stream",
          "text": [
            "[('the', 27361), ('and', 26028), ('i', 20681), ('to', 19150), ('of', 17463), ('a', 14593), ('you', 13615), ('my', 12481), ('in', 10956), ('that', 10890), ('is', 9134), ('not', 8497), ('with', 7771), ('me', 7769), ('it', 7678)]\n",
            "the: 27361\n",
            "and: 26028\n",
            "i: 20681\n",
            "to: 19150\n",
            "of: 17463\n",
            "a: 14593\n",
            "you: 13615\n",
            "my: 12481\n",
            "in: 10956\n",
            "that: 10890\n",
            "is: 9134\n",
            "not: 8497\n",
            "with: 7771\n",
            "me: 7769\n",
            "it: 7678\n"
          ],
          "name": "stdout"
        }
      ]
    },
    {
      "cell_type": "code",
      "metadata": {
        "id": "_wiJxyvXxfIl",
        "colab_type": "code",
        "colab": {
          "base_uri": "https://localhost:8080/",
          "height": 35
        },
        "outputId": "13e8b67e-6cd5-4d63-cc66-47d63e05152b"
      },
      "source": [
        "# TEST Count the words (4f)\n",
        "Test.assertEquals(top15WordsAndCounts,\n",
        "                  [(u'the', 27361), (u'and', 26028), (u'i', 20681), (u'to', 19150), (u'of', 17463),\n",
        "                   (u'a', 14593), (u'you', 13615), (u'my', 12481), (u'in', 10956), (u'that', 10890),\n",
        "                   (u'is', 9134), (u'not', 8497), (u'with', 7771), (u'me', 7769), (u'it', 7678)],\n",
        "                  'incorrect value for top15WordsAndCounts')"
      ],
      "execution_count": 51,
      "outputs": [
        {
          "output_type": "stream",
          "text": [
            "1 test passed.\n"
          ],
          "name": "stdout"
        }
      ]
    },
    {
      "cell_type": "code",
      "metadata": {
        "id": "75W9len0BiGA",
        "colab_type": "code",
        "colab": {}
      },
      "source": [
        ""
      ],
      "execution_count": 0,
      "outputs": []
    }
  ]
}