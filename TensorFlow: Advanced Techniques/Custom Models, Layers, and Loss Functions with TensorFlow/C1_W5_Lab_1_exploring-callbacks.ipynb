{
 "cells": [
  {
   "cell_type": "markdown",
   "metadata": {
    "colab_type": "text",
    "id": "view-in-github"
   },
   "source": [
    "<a href=\"https://colab.research.google.com/github/https-deeplearning-ai/tensorflow-3-public/blob/main/Course%201%20-%20Custom%20Models%2C%20Layers%20and%20Loss%20Functions/Week%205%20-%20Callbacks/C1_W5_Lab_1_exploring-callbacks.ipynb\" target=\"_parent\"><img src=\"https://colab.research.google.com/assets/colab-badge.svg\" alt=\"Open In Colab\"/></a>"
   ]
  },
  {
   "cell_type": "markdown",
   "metadata": {
    "colab_type": "text",
    "id": "0c_TYhQOUe1j"
   },
   "source": [
    "# Ungraded Lab: Introduction to Keras callbacks\n",
    "\n",
    "In Keras, `Callback` is a Python class meant to be subclassed to provide specific functionality, with a set of methods called at various stages of training (including batch/epoch start and ends), testing, and predicting. Callbacks are useful to get a view on internal states and statistics of the model during training. The methods of the callbacks can  be called at different stages of training/evaluating/inference. Keras has available [callbacks](https://keras.io/api/callbacks/) and we'll show how you can use it in the following sections. Please click the **Open in Colab** badge above to complete this exercise in Colab. This will allow you to take advantage of the free GPU runtime (for faster training) and compatibility with all the packages needed in this notebook."
   ]
  },
  {
   "cell_type": "markdown",
   "metadata": {
    "colab_type": "text",
    "id": "Uyl69EyRQx-f"
   },
   "source": [
    "## Model methods that take callbacks\n",
    "Users can supply a list of callbacks to the following `tf.keras.Model` methods:\n",
    "* [`fit()`](https://www.tensorflow.org/versions/r2.0/api_docs/python/tf/keras/Model#fit), [`fit_generator()`](https://www.tensorflow.org/versions/r2.0/api_docs/python/tf/keras/Model#fit_generator)\n",
    "Trains the model for a fixed number of epochs (iterations over a dataset, or data yielded batch-by-batch by a Python generator).\n",
    "* [`evaluate()`](https://www.tensorflow.org/versions/r2.0/api_docs/python/tf/keras/Model#evaluate), [`evaluate_generator()`](https://www.tensorflow.org/versions/r2.0/api_docs/python/tf/keras/Model#evaluate_generator)\n",
    "Evaluates the model for given data or data generator. Outputs the loss and metric values from the evaluation.\n",
    "* [`predict()`](https://www.tensorflow.org/versions/r2.0/api_docs/python/tf/keras/Model#predict), [`predict_generator()`](https://www.tensorflow.org/versions/r2.0/api_docs/python/tf/keras/Model#predict_generator)\n",
    "Generates output predictions for the input data or data generator."
   ]
  },
  {
   "cell_type": "markdown",
   "metadata": {},
   "source": [
    "## Imports"
   ]
  },
  {
   "cell_type": "code",
   "execution_count": 1,
   "metadata": {
    "colab": {},
    "colab_type": "code",
    "id": "AlT1Kh3uA9lZ"
   },
   "outputs": [
    {
     "name": "stdout",
     "output_type": "stream",
     "text": [
      "Version:  2.4.1\n"
     ]
    }
   ],
   "source": [
    "from __future__ import absolute_import, division, print_function, unicode_literals\n",
    "\n",
    "try:\n",
    "    # %tensorflow_version only exists in Colab.\n",
    "    %tensorflow_version 2.x\n",
    "except Exception:\n",
    "    pass\n",
    "\n",
    "import tensorflow as tf\n",
    "import tensorflow_datasets as tfds\n",
    "import matplotlib.pyplot as plt\n",
    "import io\n",
    "from PIL import Image\n",
    "\n",
    "from tensorflow.keras.callbacks import TensorBoard, EarlyStopping, LearningRateScheduler, ModelCheckpoint, CSVLogger, ReduceLROnPlateau\n",
    "%load_ext tensorboard\n",
    "\n",
    "import os\n",
    "import matplotlib.pylab as plt\n",
    "import numpy as np\n",
    "import math\n",
    "import datetime\n",
    "import pandas as pd\n",
    "\n",
    "print(\"Version: \", tf.__version__)\n",
    "tf.get_logger().setLevel('INFO')"
   ]
  },
  {
   "cell_type": "markdown",
   "metadata": {
    "colab_type": "text",
    "id": "HnSljqtsXKfb"
   },
   "source": [
    "# Examples of Keras callback applications\n",
    "The following section will guide you through creating simple [Callback](https://keras.io/api/callbacks/) applications."
   ]
  },
  {
   "cell_type": "code",
   "execution_count": 2,
   "metadata": {
    "colab": {},
    "colab_type": "code",
    "id": "spskRuxvCYQE"
   },
   "outputs": [],
   "source": [
    "# Download and prepare the horses or humans dataset\n",
    "\n",
    "splits, info = tfds.load('horses_or_humans', as_supervised=True, with_info=True, split=['train[:80%]', 'train[80%:]', 'test'])\n",
    "\n",
    "(train_examples, validation_examples, test_examples) = splits\n",
    "\n",
    "num_examples = info.splits['train'].num_examples\n",
    "num_classes = info.features['label'].num_classes"
   ]
  },
  {
   "cell_type": "code",
   "execution_count": 3,
   "metadata": {
    "colab": {},
    "colab_type": "code",
    "id": "veIsubKTCZsN"
   },
   "outputs": [],
   "source": [
    "SIZE = 150 #@param {type:\"slider\", min:64, max:300, step:1}\n",
    "IMAGE_SIZE = (SIZE, SIZE)"
   ]
  },
  {
   "cell_type": "code",
   "execution_count": 4,
   "metadata": {
    "colab": {},
    "colab_type": "code",
    "id": "faajLlErCb1S"
   },
   "outputs": [],
   "source": [
    "def format_image(image, label):\n",
    "    image = tf.image.resize(image, IMAGE_SIZE) / 255.0\n",
    "    return  image, label"
   ]
  },
  {
   "cell_type": "code",
   "execution_count": 5,
   "metadata": {
    "colab": {},
    "colab_type": "code",
    "id": "AVXPuU12Cdka"
   },
   "outputs": [],
   "source": [
    "BATCH_SIZE = 32 #@param {type:\"integer\"}"
   ]
  },
  {
   "cell_type": "code",
   "execution_count": 6,
   "metadata": {
    "colab": {},
    "colab_type": "code",
    "id": "0lHDkFVaCe48"
   },
   "outputs": [],
   "source": [
    "train_batches = train_examples.shuffle(num_examples // 4).map(format_image).batch(BATCH_SIZE).prefetch(1)\n",
    "validation_batches = validation_examples.map(format_image).batch(BATCH_SIZE).prefetch(1)\n",
    "test_batches = test_examples.map(format_image).batch(1)"
   ]
  },
  {
   "cell_type": "code",
   "execution_count": 7,
   "metadata": {
    "colab": {},
    "colab_type": "code",
    "id": "DxsCqEIkCgUt"
   },
   "outputs": [
    {
     "data": {
      "text/plain": [
       "TensorShape([32, 150, 150, 3])"
      ]
     },
     "execution_count": 7,
     "metadata": {},
     "output_type": "execute_result"
    }
   ],
   "source": [
    "for image_batch, label_batch in train_batches.take(1):\n",
    "  pass\n",
    "\n",
    "image_batch.shape"
   ]
  },
  {
   "cell_type": "code",
   "execution_count": 8,
   "metadata": {
    "colab": {},
    "colab_type": "code",
    "id": "iDBpWvHXCh2A"
   },
   "outputs": [],
   "source": [
    "def build_model(dense_units, input_shape=IMAGE_SIZE + (3,)):\n",
    "  model = tf.keras.models.Sequential([\n",
    "      tf.keras.layers.Conv2D(16, (3, 3), activation='relu', input_shape=input_shape),\n",
    "      tf.keras.layers.MaxPooling2D(2, 2),\n",
    "      tf.keras.layers.Conv2D(32, (3, 3), activation='relu'),\n",
    "      tf.keras.layers.MaxPooling2D(2, 2),\n",
    "      tf.keras.layers.Conv2D(64, (3, 3), activation='relu'),\n",
    "      tf.keras.layers.MaxPooling2D(2, 2),\n",
    "      tf.keras.layers.Flatten(),\n",
    "      tf.keras.layers.Dense(dense_units, activation='relu'),\n",
    "      tf.keras.layers.Dense(2, activation='softmax')\n",
    "  ])\n",
    "  return model"
   ]
  },
  {
   "cell_type": "markdown",
   "metadata": {
    "colab_type": "text",
    "id": "wv9H4Pc2Mfl7"
   },
   "source": [
    "## [Model Checkpoint](https://keras.io/api/callbacks/model_checkpoint/)\n",
    "\n",
    "Callback to save the Keras model or model weights at some frequency."
   ]
  },
  {
   "cell_type": "code",
   "execution_count": 9,
   "metadata": {
    "colab": {},
    "colab_type": "code",
    "id": "PYV4FJ8iMmDq"
   },
   "outputs": [
    {
     "name": "stdout",
     "output_type": "stream",
     "text": [
      "Epoch 1/5\n",
      "26/26 - 9s - loss: 0.6879 - accuracy: 0.4988 - val_loss: 0.6923 - val_accuracy: 0.4341\n",
      "\n",
      "Epoch 00001: saving model to weights.01-0.69.h5\n",
      "Epoch 2/5\n",
      "26/26 - 8s - loss: 0.6701 - accuracy: 0.5365 - val_loss: 0.6799 - val_accuracy: 0.4390\n",
      "\n",
      "Epoch 00002: saving model to weights.02-0.68.h5\n",
      "Epoch 3/5\n",
      "26/26 - 8s - loss: 0.6490 - accuracy: 0.5998 - val_loss: 0.6548 - val_accuracy: 0.5122\n",
      "\n",
      "Epoch 00003: saving model to weights.03-0.65.h5\n",
      "Epoch 4/5\n",
      "26/26 - 7s - loss: 0.6135 - accuracy: 0.7287 - val_loss: 0.5941 - val_accuracy: 0.8439\n",
      "\n",
      "Epoch 00004: saving model to weights.04-0.59.h5\n",
      "Epoch 5/5\n",
      "26/26 - 8s - loss: 0.5566 - accuracy: 0.8139 - val_loss: 0.5579 - val_accuracy: 0.7366\n",
      "\n",
      "Epoch 00005: saving model to weights.05-0.56.h5\n"
     ]
    },
    {
     "data": {
      "text/plain": [
       "<tensorflow.python.keras.callbacks.History at 0x2454b5ede50>"
      ]
     },
     "execution_count": 9,
     "metadata": {},
     "output_type": "execute_result"
    }
   ],
   "source": [
    "model = build_model(dense_units=256)\n",
    "model.compile(\n",
    "    optimizer='sgd',\n",
    "    loss='sparse_categorical_crossentropy', \n",
    "    metrics=['accuracy'])\n",
    "  \n",
    "model.fit(train_batches, \n",
    "          epochs=5, \n",
    "          validation_data=validation_batches, \n",
    "          verbose=2,\n",
    "          callbacks=[ModelCheckpoint('weights.{epoch:02d}-{val_loss:.2f}.h5', verbose=1),\n",
    "          ])"
   ]
  },
  {
   "cell_type": "code",
   "execution_count": 10,
   "metadata": {
    "colab": {},
    "colab_type": "code",
    "id": "Y1ConwoB0EjD"
   },
   "outputs": [
    {
     "name": "stdout",
     "output_type": "stream",
     "text": [
      "Epoch 1/10\n",
      "26/26 - 8s - loss: 0.6640 - accuracy: 0.5876 - val_loss: 0.6374 - val_accuracy: 0.7268\n",
      "\n",
      "Epoch 00001: saving model to model-01-0.73.h5\n",
      "Epoch 2/10\n",
      "26/26 - 7s - loss: 0.6219 - accuracy: 0.6752 - val_loss: 0.6422 - val_accuracy: 0.5415\n",
      "\n",
      "Epoch 00002: saving model to model-02-0.54.h5\n",
      "Epoch 3/10\n",
      "26/26 - 7s - loss: 0.5826 - accuracy: 0.7141 - val_loss: 0.5376 - val_accuracy: 0.7805\n",
      "\n",
      "Epoch 00003: saving model to model-03-0.78.h5\n",
      "Epoch 4/10\n",
      "26/26 - 7s - loss: 0.5289 - accuracy: 0.7494 - val_loss: 0.5139 - val_accuracy: 0.6976\n",
      "\n",
      "Epoch 00004: saving model to model-04-0.70.h5\n",
      "Epoch 5/10\n",
      "26/26 - 7s - loss: 0.4651 - accuracy: 0.8005 - val_loss: 0.4286 - val_accuracy: 0.8049\n",
      "\n",
      "Epoch 00005: saving model to model-05-0.80.h5\n",
      "Epoch 6/10\n",
      "26/26 - 7s - loss: 0.3961 - accuracy: 0.8431 - val_loss: 0.4911 - val_accuracy: 0.7463\n",
      "\n",
      "Epoch 00006: saving model to model-06-0.75.h5\n",
      "Epoch 7/10\n",
      "26/26 - 8s - loss: 0.3616 - accuracy: 0.8589 - val_loss: 0.3060 - val_accuracy: 0.8829\n",
      "\n",
      "Epoch 00007: saving model to model-07-0.88.h5\n",
      "Epoch 8/10\n",
      "26/26 - 8s - loss: 0.2706 - accuracy: 0.9088 - val_loss: 0.2119 - val_accuracy: 0.9268\n",
      "\n",
      "Epoch 00008: saving model to model-08-0.93.h5\n",
      "Epoch 9/10\n",
      "26/26 - 9s - loss: 0.2381 - accuracy: 0.9258 - val_loss: 0.1936 - val_accuracy: 0.9171\n",
      "\n",
      "Epoch 00009: saving model to model-09-0.92.h5\n",
      "Epoch 10/10\n",
      "26/26 - 9s - loss: 0.1863 - accuracy: 0.9501 - val_loss: 0.1525 - val_accuracy: 0.9366\n",
      "\n",
      "Epoch 00010: saving model to model-10-0.94.h5\n"
     ]
    },
    {
     "data": {
      "text/plain": [
       "<tensorflow.python.keras.callbacks.History at 0x2454bd38f70>"
      ]
     },
     "execution_count": 10,
     "metadata": {},
     "output_type": "execute_result"
    }
   ],
   "source": [
    "model = build_model(dense_units=256)\n",
    "model.compile(\n",
    "    optimizer='sgd',\n",
    "    loss='sparse_categorical_crossentropy', \n",
    "    metrics=['accuracy'])\n",
    "  \n",
    "model.fit(train_batches, \n",
    "          epochs=10, \n",
    "          validation_data=validation_batches, \n",
    "          verbose=2,\n",
    "          callbacks=[ModelCheckpoint('model-{epoch:02d}-{val_accuracy:.2f}.h5', verbose=1)\n",
    "          ])"
   ]
  },
  {
   "cell_type": "markdown",
   "metadata": {
    "colab_type": "text",
    "id": "kptNF0--Lznv"
   },
   "source": [
    "## [Early stopping](https://keras.io/api/callbacks/early_stopping/)\n",
    "\n",
    "Stop training when a monitored metric has stopped improving."
   ]
  },
  {
   "cell_type": "code",
   "execution_count": 17,
   "metadata": {
    "colab": {},
    "colab_type": "code",
    "id": "KJOJTJYdCkdY"
   },
   "outputs": [
    {
     "name": "stdout",
     "output_type": "stream",
     "text": [
      "Epoch 1/50\n",
      "26/26 - 7s - loss: 0.6592 - accuracy: 0.6363 - val_loss: 0.6507 - val_accuracy: 0.5463\n",
      "Epoch 2/50\n",
      "26/26 - 7s - loss: 0.6192 - accuracy: 0.6509 - val_loss: 0.5562 - val_accuracy: 0.8927\n",
      "Epoch 3/50\n",
      "26/26 - 7s - loss: 0.5484 - accuracy: 0.7701 - val_loss: 0.7139 - val_accuracy: 0.5122\n",
      "Epoch 4/50\n",
      "26/26 - 7s - loss: 0.5043 - accuracy: 0.7968 - val_loss: 0.4247 - val_accuracy: 0.9122\n",
      "Epoch 5/50\n",
      "26/26 - 7s - loss: 0.4431 - accuracy: 0.8358 - val_loss: 0.3813 - val_accuracy: 0.9024\n",
      "Epoch 6/50\n",
      "26/26 - 7s - loss: 0.3874 - accuracy: 0.8552 - val_loss: 0.5415 - val_accuracy: 0.6634\n",
      "Epoch 7/50\n",
      "26/26 - 7s - loss: 0.3398 - accuracy: 0.8881 - val_loss: 0.2508 - val_accuracy: 0.9610\n",
      "Epoch 8/50\n",
      "26/26 - 7s - loss: 0.2464 - accuracy: 0.9380 - val_loss: 0.1841 - val_accuracy: 0.9707\n",
      "Epoch 9/50\n",
      "26/26 - 7s - loss: 0.2074 - accuracy: 0.9440 - val_loss: 0.1569 - val_accuracy: 0.9707\n",
      "Epoch 10/50\n",
      "26/26 - 7s - loss: 0.1943 - accuracy: 0.9428 - val_loss: 0.1440 - val_accuracy: 0.9707\n",
      "Epoch 11/50\n",
      "26/26 - 7s - loss: 0.1301 - accuracy: 0.9720 - val_loss: 0.1010 - val_accuracy: 0.9805\n",
      "Epoch 12/50\n",
      "26/26 - 7s - loss: 0.1178 - accuracy: 0.9745 - val_loss: 0.0911 - val_accuracy: 0.9805\n",
      "Epoch 13/50\n",
      "26/26 - 7s - loss: 0.0940 - accuracy: 0.9757 - val_loss: 0.0890 - val_accuracy: 0.9707\n",
      "Epoch 14/50\n",
      "26/26 - 7s - loss: 0.0753 - accuracy: 0.9842 - val_loss: 0.1420 - val_accuracy: 0.9366\n",
      "Restoring model weights from the end of the best epoch.\n",
      "Epoch 00014: early stopping\n"
     ]
    },
    {
     "data": {
      "text/plain": [
       "<tensorflow.python.keras.callbacks.History at 0x245532b8400>"
      ]
     },
     "execution_count": 17,
     "metadata": {},
     "output_type": "execute_result"
    }
   ],
   "source": [
    "model = build_model(dense_units=256)\n",
    "model.compile(\n",
    "    optimizer='sgd',\n",
    "    loss='sparse_categorical_crossentropy', \n",
    "    metrics=['accuracy'])\n",
    "  \n",
    "model.fit(train_batches, \n",
    "          epochs=50, \n",
    "          validation_data=validation_batches, \n",
    "          verbose=2,\n",
    "          callbacks=[EarlyStopping(\n",
    "              patience=3,\n",
    "              min_delta=0.002,\n",
    "              mode='max',\n",
    "              monitor='val_accuracy',\n",
    "              restore_best_weights=True,\n",
    "              verbose=1)\n",
    "          ])"
   ]
  },
  {
   "cell_type": "code",
   "execution_count": 19,
   "metadata": {},
   "outputs": [
    {
     "name": "stdout",
     "output_type": "stream",
     "text": [
      "7/7 [==============================] - 0s 60ms/step - loss: 0.1010 - accuracy: 0.9805\n"
     ]
    }
   ],
   "source": [
    "results=model.evaluate(validation_batches)"
   ]
  },
  {
   "cell_type": "markdown",
   "metadata": {
    "colab_type": "text",
    "id": "8mDzWUD4Pqq5"
   },
   "source": [
    "## [CSV Logger](https://keras.io/api/callbacks/csv_logger/)\n",
    "\n",
    "Callback that streams epoch results to a CSV file."
   ]
  },
  {
   "cell_type": "code",
   "execution_count": 13,
   "metadata": {
    "colab": {},
    "colab_type": "code",
    "id": "cffnMpmGPtMh"
   },
   "outputs": [
    {
     "name": "stdout",
     "output_type": "stream",
     "text": [
      "Epoch 1/5\n",
      "26/26 [==============================] - 8s 295ms/step - loss: 0.6778 - accuracy: 0.5570 - val_loss: 0.6620 - val_accuracy: 0.5122\n",
      "Epoch 2/5\n",
      "26/26 [==============================] - 8s 295ms/step - loss: 0.6318 - accuracy: 0.6982 - val_loss: 0.6176 - val_accuracy: 0.6195\n",
      "Epoch 3/5\n",
      "26/26 [==============================] - 8s 302ms/step - loss: 0.5742 - accuracy: 0.7281 - val_loss: 0.5348 - val_accuracy: 0.8146\n",
      "Epoch 4/5\n",
      "26/26 [==============================] - 7s 286ms/step - loss: 0.5070 - accuracy: 0.7846 - val_loss: 0.4672 - val_accuracy: 0.8537\n",
      "Epoch 5/5\n",
      "26/26 [==============================] - 8s 302ms/step - loss: 0.4666 - accuracy: 0.8288 - val_loss: 0.4366 - val_accuracy: 0.8537\n"
     ]
    },
    {
     "data": {
      "text/plain": [
       "<tensorflow.python.keras.callbacks.History at 0x2454c450670>"
      ]
     },
     "execution_count": 13,
     "metadata": {},
     "output_type": "execute_result"
    }
   ],
   "source": [
    "model = build_model(dense_units=256)\n",
    "model.compile(\n",
    "    optimizer='sgd',\n",
    "    loss='sparse_categorical_crossentropy', \n",
    "    metrics=['accuracy'])\n",
    "  \n",
    "csv_file = 'training.csv'\n",
    "\n",
    "model.fit(train_batches, \n",
    "          epochs=5, \n",
    "          validation_data=validation_batches, \n",
    "          callbacks=[CSVLogger(csv_file)\n",
    "          ])"
   ]
  },
  {
   "cell_type": "code",
   "execution_count": 14,
   "metadata": {
    "colab": {},
    "colab_type": "code",
    "id": "B9tkYi03QV7R"
   },
   "outputs": [
    {
     "data": {
      "text/html": [
       "<div>\n",
       "<style scoped>\n",
       "    .dataframe tbody tr th:only-of-type {\n",
       "        vertical-align: middle;\n",
       "    }\n",
       "\n",
       "    .dataframe tbody tr th {\n",
       "        vertical-align: top;\n",
       "    }\n",
       "\n",
       "    .dataframe thead th {\n",
       "        text-align: right;\n",
       "    }\n",
       "</style>\n",
       "<table border=\"1\" class=\"dataframe\">\n",
       "  <thead>\n",
       "    <tr style=\"text-align: right;\">\n",
       "      <th></th>\n",
       "      <th>epoch</th>\n",
       "      <th>accuracy</th>\n",
       "      <th>loss</th>\n",
       "      <th>val_accuracy</th>\n",
       "      <th>val_loss</th>\n",
       "    </tr>\n",
       "  </thead>\n",
       "  <tbody>\n",
       "    <tr>\n",
       "      <th>0</th>\n",
       "      <td>0</td>\n",
       "      <td>0.608272</td>\n",
       "      <td>0.667445</td>\n",
       "      <td>0.512195</td>\n",
       "      <td>0.661966</td>\n",
       "    </tr>\n",
       "    <tr>\n",
       "      <th>1</th>\n",
       "      <td>1</td>\n",
       "      <td>0.699513</td>\n",
       "      <td>0.620532</td>\n",
       "      <td>0.619512</td>\n",
       "      <td>0.617616</td>\n",
       "    </tr>\n",
       "    <tr>\n",
       "      <th>2</th>\n",
       "      <td>2</td>\n",
       "      <td>0.726277</td>\n",
       "      <td>0.568708</td>\n",
       "      <td>0.814634</td>\n",
       "      <td>0.534779</td>\n",
       "    </tr>\n",
       "    <tr>\n",
       "      <th>3</th>\n",
       "      <td>3</td>\n",
       "      <td>0.753041</td>\n",
       "      <td>0.522784</td>\n",
       "      <td>0.853659</td>\n",
       "      <td>0.467217</td>\n",
       "    </tr>\n",
       "    <tr>\n",
       "      <th>4</th>\n",
       "      <td>4</td>\n",
       "      <td>0.815085</td>\n",
       "      <td>0.451332</td>\n",
       "      <td>0.853659</td>\n",
       "      <td>0.436551</td>\n",
       "    </tr>\n",
       "  </tbody>\n",
       "</table>\n",
       "</div>"
      ],
      "text/plain": [
       "   epoch  accuracy      loss  val_accuracy  val_loss\n",
       "0      0  0.608272  0.667445      0.512195  0.661966\n",
       "1      1  0.699513  0.620532      0.619512  0.617616\n",
       "2      2  0.726277  0.568708      0.814634  0.534779\n",
       "3      3  0.753041  0.522784      0.853659  0.467217\n",
       "4      4  0.815085  0.451332      0.853659  0.436551"
      ]
     },
     "execution_count": 14,
     "metadata": {},
     "output_type": "execute_result"
    }
   ],
   "source": [
    "pd.read_csv(csv_file).head()"
   ]
  },
  {
   "cell_type": "markdown",
   "metadata": {
    "colab_type": "text",
    "id": "Dt9C2Y9fRBKN"
   },
   "source": [
    "## [Learning Rate Scheduler](https://keras.io/api/callbacks/learning_rate_scheduler/)\n",
    "\n",
    "Updates the learning rate during training."
   ]
  },
  {
   "cell_type": "code",
   "execution_count": 15,
   "metadata": {
    "colab": {},
    "colab_type": "code",
    "id": "aJi-xY2VRC03"
   },
   "outputs": [
    {
     "name": "stdout",
     "output_type": "stream",
     "text": [
      "Epoch 1/5\n",
      "\n",
      "Epoch 00001: LearningRateScheduler reducing learning rate to 0.005.\n",
      "26/26 [==============================] - 8s 287ms/step - loss: 0.6829 - accuracy: 0.5274 - val_loss: 0.6936 - val_accuracy: 0.4341\n",
      "Epoch 2/5\n",
      "\n",
      "Epoch 00002: LearningRateScheduler reducing learning rate to 0.0025.\n",
      "26/26 [==============================] - 8s 308ms/step - loss: 0.6643 - accuracy: 0.5287 - val_loss: 0.6740 - val_accuracy: 0.4439\n",
      "Epoch 3/5\n",
      "\n",
      "Epoch 00003: LearningRateScheduler reducing learning rate to 0.00125.\n",
      "26/26 [==============================] - 8s 302ms/step - loss: 0.6555 - accuracy: 0.5530 - val_loss: 0.6678 - val_accuracy: 0.4585\n",
      "Epoch 4/5\n",
      "\n",
      "Epoch 00004: LearningRateScheduler reducing learning rate to 0.000625.\n",
      "26/26 [==============================] - 7s 283ms/step - loss: 0.6425 - accuracy: 0.5714 - val_loss: 0.6619 - val_accuracy: 0.5220\n",
      "Epoch 5/5\n",
      "\n",
      "Epoch 00005: LearningRateScheduler reducing learning rate to 0.0003125.\n",
      "26/26 [==============================] - 8s 294ms/step - loss: 0.6435 - accuracy: 0.6085 - val_loss: 0.6608 - val_accuracy: 0.5268\n"
     ]
    },
    {
     "data": {
      "text/plain": [
       "<tensorflow.python.keras.callbacks.History at 0x24552ef4fa0>"
      ]
     },
     "execution_count": 15,
     "metadata": {},
     "output_type": "execute_result"
    }
   ],
   "source": [
    "model = build_model(dense_units=256)\n",
    "model.compile(\n",
    "    optimizer='sgd',\n",
    "    loss='sparse_categorical_crossentropy', \n",
    "    metrics=['accuracy'])\n",
    "  \n",
    "def step_decay(epoch):\n",
    "\tinitial_lr = 0.01\n",
    "\tdrop = 0.5\n",
    "\tepochs_drop = 1\n",
    "\tlr = initial_lr * math.pow(drop, math.floor((1+epoch)/epochs_drop))\n",
    "\treturn lr\n",
    "\n",
    "model.fit(train_batches, \n",
    "          epochs=5, \n",
    "          validation_data=validation_batches, \n",
    "          callbacks=[LearningRateScheduler(step_decay, verbose=1)])"
   ]
  },
  {
   "cell_type": "code",
   "execution_count": null,
   "metadata": {},
   "outputs": [],
   "source": []
  }
 ],
 "metadata": {
  "colab": {
   "collapsed_sections": [],
   "include_colab_link": true,
   "name": "ExploringCallbacks.ipynb",
   "provenance": []
  },
  "kernelspec": {
   "display_name": "Python 3",
   "language": "python",
   "name": "python3"
  },
  "language_info": {
   "codemirror_mode": {
    "name": "ipython",
    "version": 3
   },
   "file_extension": ".py",
   "mimetype": "text/x-python",
   "name": "python",
   "nbconvert_exporter": "python",
   "pygments_lexer": "ipython3",
   "version": "3.8.3"
  }
 },
 "nbformat": 4,
 "nbformat_minor": 4
}
