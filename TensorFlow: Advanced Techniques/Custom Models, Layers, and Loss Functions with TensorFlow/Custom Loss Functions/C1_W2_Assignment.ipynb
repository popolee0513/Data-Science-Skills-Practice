{
 "cells": [
  {
   "cell_type": "markdown",
   "metadata": {},
   "source": [
    "# W2 Assignment: Creating a Custom Loss Function"
   ]
  },
  {
   "cell_type": "markdown",
   "metadata": {},
   "source": [
    "This short exercise will require you to write a simple linear regression neural network that is trained on two arrays: $xs$ (inputs) and $ys$ (labels), where the relationship between each corresponding element is $y=2x-1$.\n",
    "\n",
    "\n",
    "$xs = [-1.0,  0.0, 1.0, 2.0, 3.0, 4.0]$\n",
    "\n",
    "$ys = [-3.0, -1.0, 1.0, 3.0, 5.0, 7.0]$\n",
    "\n",
    "\n",
    "You will need to implement a custom loss function that returns the root mean square error (RMSE) of $y_{true} - y_{pred}$. Let's begin!"
   ]
  },
  {
   "cell_type": "code",
   "execution_count": 1,
   "metadata": {
    "colab": {},
    "colab_type": "code",
    "id": "0pajvrhrInPa"
   },
   "outputs": [],
   "source": [
    "import tensorflow as tf\n",
    "import numpy as np\n",
    "from tensorflow import keras\n",
    "from tensorflow.keras import backend as K\n",
    "\n",
    "import utils"
   ]
  },
  {
   "cell_type": "code",
   "execution_count": 2,
   "metadata": {},
   "outputs": [],
   "source": [
    "# inputs\n",
    "xs = np.array([-1.0,  0.0, 1.0, 2.0, 3.0, 4.0], dtype=float)\n",
    "\n",
    "# labels. relationship with the inputs above is y=2x-1.\n",
    "ys = np.array([-3.0, -1.0, 1.0, 3.0, 5.0, 7.0], dtype=float)"
   ]
  },
  {
   "cell_type": "markdown",
   "metadata": {},
   "source": [
    "### Define the custom loss function (TODO)\n",
    "Define the custom loss function below called `my_rmse()` that returns the RMSE between the target (`y_true`) and prediction (`y_pred`). \n",
    "\n",
    "You will return $\\sqrt{error}$, where $error$ = $mean((y_{true} - y_{pred})^2)$\n",
    "- error: the difference between the true label and predicted label.\n",
    "- sqr_error: the square of the error.\n",
    "- mean_sqr_error: the mean of the square of the error\n",
    "- sqrt_mean_sqr_error: the square root of hte mean of the square of the error (the root mean squared error).\n",
    "- Please use `K.mean`, `K.square`, and `K.sqrt`\n",
    "- The steps are broken down into separate lines of code for clarity.  Feel free to combine them, and just remember to return the root mean squared error."
   ]
  },
  {
   "cell_type": "code",
   "execution_count": 6,
   "metadata": {
    "colab": {},
    "colab_type": "code",
    "deletable": false,
    "id": "bXNGIkq2Azmf",
    "nbgrader": {
     "cell_type": "code",
     "checksum": "8301324615aba1e02e1f756b4bf1b092",
     "grade": false,
     "grade_id": "cell-31648b482908e493",
     "locked": false,
     "schema_version": 3,
     "solution": true,
     "task": false
    }
   },
   "outputs": [],
   "source": [
    "## Please uncomment all lines in this cell and replace those marked with `# YOUR CODE HERE`.\n",
    "## You can select all lines in this code cell with Ctrl+A (Windows/Linux) or Cmd+A (Mac), then press Ctrl+/ (Windows/Linux) or Cmd+/ (Mac) to uncomment.\n",
    "\n",
    "def my_rmse(y_true, y_pred):\n",
    "    error = y_true-y_pred\n",
    "    sqr_error = K.square(error)\n",
    "    mean_sqr_error = K.mean(sqr_error)\n",
    "    sqrt_mean_sqr_error = K.sqrt(mean_sqr_error)\n",
    "    return sqrt_mean_sqr_error"
   ]
  },
  {
   "cell_type": "code",
   "execution_count": 7,
   "metadata": {
    "deletable": false,
    "editable": false,
    "nbgrader": {
     "cell_type": "code",
     "checksum": "afa4ace3428496820b8b6fb542ca5117",
     "grade": true,
     "grade_id": "cell-578f76b36f8ee858",
     "locked": true,
     "points": 1,
     "schema_version": 3,
     "solution": false,
     "task": false
    }
   },
   "outputs": [
    {
     "name": "stdout",
     "output_type": "stream",
     "text": [
      "\u001b[92m All public tests passed\n"
     ]
    }
   ],
   "source": [
    "utils.test_my_rmse(my_rmse)\n"
   ]
  },
  {
   "cell_type": "markdown",
   "metadata": {},
   "source": [
    "### Define a model using the custom loss function (TODO)\n",
    "Similar to the ungraded labs, you will define a simple model and pass the function you just coded as the loss.\n",
    "- When compiling the model, you'll choose the `sgd` optimizer and set the `loss` parameter to the custom loss function that you just defined.\n",
    "- For grading purposes, please leave the other parameter values as is."
   ]
  },
  {
   "cell_type": "code",
   "execution_count": 10,
   "metadata": {
    "colab": {
     "base_uri": "https://localhost:8080/",
     "height": 34
    },
    "colab_type": "code",
    "deletable": false,
    "id": "2eY7fw0EHwda",
    "nbgrader": {
     "cell_type": "code",
     "checksum": "8af71f8408d04ff7abaf41eb3414c8f6",
     "grade": false,
     "grade_id": "cell-5a29bb71c93124fc",
     "locked": false,
     "schema_version": 3,
     "solution": true,
     "task": false
    },
    "outputId": "a3ea92e4-050e-463d-82c9-9b149554ae41"
   },
   "outputs": [
    {
     "name": "stdout",
     "output_type": "stream",
     "text": [
      "[[18.939829]]\n"
     ]
    }
   ],
   "source": [
    "## Please uncomment all lines in this cell and replace those marked with `# YOUR CODE HERE`.\n",
    "## You can select all lines in this code cell with Ctrl+A (Windows/Linux) or Cmd+A (Mac), then press Ctrl+/ (Windows/Linux) or Cmd+/ (Mac) to uncomment.\n",
    "\n",
    "\n",
    "\n",
    "# # define the model architecture\n",
    "model = tf.keras.Sequential([keras.layers.Dense(units=1, input_shape=[1])])\n",
    "\n",
    "# # use the function you just coded as the loss\n",
    "model.compile(optimizer='sgd', loss=my_rmse)\n",
    "              \n",
    "# # train the model \n",
    "model.fit(xs, ys, epochs=500,verbose=0)\n",
    "              \n",
    "# # test with a sample input\n",
    "print(model.predict([10.0]))"
   ]
  },
  {
   "cell_type": "code",
   "execution_count": 11,
   "metadata": {
    "deletable": false,
    "editable": false,
    "nbgrader": {
     "cell_type": "code",
     "checksum": "b8da4dc42fa87a1722251adddae9516c",
     "grade": true,
     "grade_id": "cell-e46bc4e00375b387",
     "locked": true,
     "points": 1,
     "schema_version": 3,
     "solution": false,
     "task": false
    }
   },
   "outputs": [
    {
     "name": "stdout",
     "output_type": "stream",
     "text": [
      "\u001b[92m All public tests passed\n"
     ]
    }
   ],
   "source": [
    "utils.test_model_loss(model.loss)\n"
   ]
  },
  {
   "cell_type": "code",
   "execution_count": null,
   "metadata": {},
   "outputs": [],
   "source": []
  }
 ],
 "metadata": {
  "colab": {
   "include_colab_link": true,
   "name": "exercise-answer.ipynb",
   "provenance": []
  },
  "kernelspec": {
   "display_name": "Python 3",
   "language": "python",
   "name": "python3"
  },
  "language_info": {
   "codemirror_mode": {
    "name": "ipython",
    "version": 3
   },
   "file_extension": ".py",
   "mimetype": "text/x-python",
   "name": "python",
   "nbconvert_exporter": "python",
   "pygments_lexer": "ipython3",
   "version": "3.7.6"
  }
 },
 "nbformat": 4,
 "nbformat_minor": 4
}
