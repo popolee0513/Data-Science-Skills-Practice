{
 "cells": [
  {
   "cell_type": "code",
   "execution_count": 1,
   "metadata": {},
   "outputs": [
    {
     "name": "stdout",
     "output_type": "stream",
     "text": [
      "[nltk_data] Downloading package stopwords to\n",
      "[nltk_data]     C:\\Users\\POPO\\AppData\\Roaming\\nltk_data...\n",
      "[nltk_data]   Package stopwords is already up-to-date!\n"
     ]
    }
   ],
   "source": [
    "from os import listdir\n",
    "import os,sys\n",
    "import nltk\n",
    "import numpy as np\n",
    "from nltk.tokenize import word_tokenize\n",
    "from nltk.corpus import stopwords\n",
    "nltk.download('stopwords')\n",
    "stopword_list = stopwords.words('english')\n",
    "import string\n",
    "def load_files(directory):\n",
    "    \"\"\"\n",
    "    Given a directory name, return a dictionary mapping the filename of each\n",
    "    `.txt` file inside that directory to the file's contents as a string.\n",
    "    \"\"\"\n",
    "    datafile = os.path.abspath(os.path.dirname(directory)+\"corpus\")\n",
    "    ans=os.listdir(datafile)\n",
    "    final={}\n",
    "    for i in range(len(ans)):\n",
    "        with open(os.path.join(datafile,ans[i]),encoding='utf-8') as fin:\n",
    "                document = fin.read()\n",
    "        final[os.path.join(datafile,ans[i])]=document\n",
    "    return final\n",
    "def remove_punctuation_marks(tokens):\n",
    "    clean_tokens = []\n",
    "    for tok in tokens:\n",
    "        if tok not in string.punctuation:\n",
    "            clean_tokens.append(tok)\n",
    "    return clean_tokens\n",
    "def tokenize(document):\n",
    "    \"\"\"\n",
    "    Given a document (represented as a string), return a list of all of the\n",
    "    words in that document, in order.\n",
    "\n",
    "    Process document by coverting all words to lowercase, and removing any\n",
    "    punctuation or English stopwords.\n",
    "    \"\"\"\n",
    "    \n",
    "    tokens=word_tokenize(document)\n",
    "    tokens_clean = []\n",
    "    for tok in tokens:\n",
    "        if tok not in stopword_list:\n",
    "            tokens_clean.append(tok)\n",
    "    new=remove_punctuation_marks(tokens_clean)\n",
    "    tokens_lower = []\n",
    "    for tok in new:\n",
    "        tokens_lower.append(tok.lower())\n",
    "    return tokens_lower\n",
    "def compute_idfs(documents):\n",
    "    \"\"\"\n",
    "    Given a dictionary of `documents` that maps names of documents to a list\n",
    "    of words, return a dictionary that maps words to their IDF values.\n",
    "\n",
    "    Any word that appears in at least one of the documents should be in the\n",
    "    resulting dictionary.\n",
    "    \"\"\"\n",
    "    idf={}\n",
    "    for i in documents.keys():\n",
    "        for j in set(documents[i]):\n",
    "            if j not in idf:\n",
    "                idf[j]=1\n",
    "            else:\n",
    "                idf[j]+=1\n",
    "\n",
    "    idf_final=dict((k,np.log(len(documents.keys())/v) ) for k, v in idf.items())\n",
    "    return idf_final"
   ]
  },
  {
   "cell_type": "code",
   "execution_count": 2,
   "metadata": {},
   "outputs": [],
   "source": [
    "files = load_files(sys.argv[1])"
   ]
  },
  {
   "cell_type": "code",
   "execution_count": 3,
   "metadata": {},
   "outputs": [],
   "source": [
    "file_words = {\n",
    "        filename: tokenize(files[filename])\n",
    "        for filename in files\n",
    "    }\n",
    "file_idfs = compute_idfs(file_words)"
   ]
  },
  {
   "cell_type": "code",
   "execution_count": 12,
   "metadata": {},
   "outputs": [
    {
     "name": "stdout",
     "output_type": "stream",
     "text": [
      "Query: When was Python 3.0 released?\n"
     ]
    },
    {
     "data": {
      "text/plain": [
       "{'3.0', 'python', 'released', 'when'}"
      ]
     },
     "execution_count": 12,
     "metadata": {},
     "output_type": "execute_result"
    }
   ],
   "source": [
    "query = set(tokenize(input(\"Query: \")))\n",
    "query"
   ]
  },
  {
   "cell_type": "code",
   "execution_count": 13,
   "metadata": {},
   "outputs": [],
   "source": [
    "files_=file_words\n",
    "idfs=file_idfs\n",
    "def top_files(query, files_, idfs, n):\n",
    "    \"\"\"\n",
    "    Given a `query` (a set of words), `files` (a dictionary mapping names of\n",
    "    files to a list of their words), and `idfs` (a dictionary mapping words\n",
    "    to their IDF values), return a list of the filenames of the the `n` top\n",
    "    files that match the query, ranked according to tf-idf.\n",
    "    \"\"\"\n",
    "    answer=dict()\n",
    "    for i in files_.keys():\n",
    "        answer[i]=0\n",
    "        temp=dict()\n",
    "        dist = nltk.FreqDist(files_[i])\n",
    "        for k in query:\n",
    "            if k in dist.keys():\n",
    "                temp[k]=dist[k]\n",
    "        for m in temp.keys():\n",
    "            temp[m]=temp[m]*idfs[m]\n",
    "        answer[i]=sum(temp.values())\n",
    "    return list({k: answer[k] for k in sorted(answer, key=answer.get, reverse=True)}.keys())[:n]"
   ]
  },
  {
   "cell_type": "code",
   "execution_count": 14,
   "metadata": {},
   "outputs": [
    {
     "data": {
      "text/plain": [
       "['C:\\\\Users\\\\POPO\\\\Downloads\\\\questions\\\\corpus\\\\python.txt']"
      ]
     },
     "execution_count": 14,
     "metadata": {},
     "output_type": "execute_result"
    }
   ],
   "source": [
    "filenames = top_files(query, files_, file_idfs, n=1)\n",
    "filenames"
   ]
  },
  {
   "cell_type": "code",
   "execution_count": 15,
   "metadata": {},
   "outputs": [],
   "source": [
    "sentences = dict()\n",
    "for filename in filenames:\n",
    "    for passage in files[filename].split(\"\\n\"):\n",
    "        for sentence in nltk.sent_tokenize(passage):\n",
    "            tokens = tokenize(sentence)\n",
    "            if tokens:\n",
    "                sentences[sentence] = tokens"
   ]
  },
  {
   "cell_type": "code",
   "execution_count": 16,
   "metadata": {},
   "outputs": [],
   "source": [
    "idfs = compute_idfs(sentences)"
   ]
  },
  {
   "cell_type": "code",
   "execution_count": 17,
   "metadata": {},
   "outputs": [],
   "source": [
    "def similar(s1, s2):\n",
    "    sameWords = set.intersection(set(s1), set(s2))\n",
    "    return len(sameWords)\n",
    "def top_sentences(query, sentences, idfs, n):\n",
    "    \"\"\"\n",
    "    Given a `query` (a set of words), `sentences` (a dictionary mapping\n",
    "    sentences to a list of their words), and `idfs` (a dictionary mapping words\n",
    "    to their IDF values), return a list of the `n` top sentences that match\n",
    "    the query, ranked according to idf. If there are ties, preference should\n",
    "    be given to sentences that have a higher query term density.\n",
    "    \"\"\"\n",
    "    answer=dict()\n",
    "    for i in sentences.keys():\n",
    "        answer[i]=0\n",
    "        temp=dict()\n",
    "        for k in query:\n",
    "            for j in tokenize(i):\n",
    "                if j==k:\n",
    "                    if j not in temp:\n",
    "                        temp[j]=1  \n",
    "        for m in temp.keys():\n",
    "            temp[m]*=idfs[m]\n",
    "        answer[i]=(sum(temp.values()),similar(query,[i.lower() for i in i.split(\" \")]))\n",
    "        #print(answer[i],i,query)\n",
    "    return [t[0] for t in sorted(answer.items(), key=lambda x:(x[1][0],x[1][1]),reverse=True)][:n]"
   ]
  },
  {
   "cell_type": "code",
   "execution_count": 11,
   "metadata": {},
   "outputs": [
    {
     "name": "stdout",
     "output_type": "stream",
     "text": [
      "{'types', 'what', 'supervised', 'learning'}\n"
     ]
    },
    {
     "data": {
      "text/plain": [
       "['Types of supervised learning algorithms include Active learning , classification and regression.']"
      ]
     },
     "execution_count": 11,
     "metadata": {},
     "output_type": "execute_result"
    }
   ],
   "source": [
    "n=1\n",
    "print(query)\n",
    "#What are the types of supervised learning?\n",
    "top_sentences(query, sentences, idfs, n)"
   ]
  },
  {
   "cell_type": "code",
   "execution_count": 18,
   "metadata": {},
   "outputs": [
    {
     "name": "stdout",
     "output_type": "stream",
     "text": [
      "{'python', 'when', '3.0', 'released'}\n"
     ]
    },
    {
     "data": {
      "text/plain": [
       "['Python 3.0 was released on 3 December 2008.']"
      ]
     },
     "execution_count": 18,
     "metadata": {},
     "output_type": "execute_result"
    }
   ],
   "source": [
    "n=1\n",
    "print(query)\n",
    "#When was Python 3.0 released?\n",
    "top_sentences(query, sentences, idfs, n)"
   ]
  },
  {
   "cell_type": "code",
   "execution_count": null,
   "metadata": {},
   "outputs": [],
   "source": []
  }
 ],
 "metadata": {
  "kernelspec": {
   "display_name": "Python 3",
   "language": "python",
   "name": "python3"
  },
  "language_info": {
   "codemirror_mode": {
    "name": "ipython",
    "version": 3
   },
   "file_extension": ".py",
   "mimetype": "text/x-python",
   "name": "python",
   "nbconvert_exporter": "python",
   "pygments_lexer": "ipython3",
   "version": "3.6.5"
  }
 },
 "nbformat": 4,
 "nbformat_minor": 2
}
