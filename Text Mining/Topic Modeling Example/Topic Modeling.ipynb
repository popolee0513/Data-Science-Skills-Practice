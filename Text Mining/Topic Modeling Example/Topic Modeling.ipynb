{
 "cells": [
  {
   "cell_type": "code",
   "execution_count": 1,
   "metadata": {},
   "outputs": [
    {
     "name": "stdout",
     "output_type": "stream",
     "text": [
      "[nltk_data] Downloading package wordnet to\n",
      "[nltk_data]     C:\\Users\\POPO\\AppData\\Roaming\\nltk_data...\n",
      "[nltk_data]   Package wordnet is already up-to-date!\n"
     ]
    },
    {
     "data": {
      "text/plain": [
       "True"
      ]
     },
     "execution_count": 1,
     "metadata": {},
     "output_type": "execute_result"
    }
   ],
   "source": [
    "import pandas as pd\n",
    "import gensim\n",
    "from gensim import corpora, models\n",
    "from gensim.utils import simple_preprocess\n",
    "from gensim.parsing.preprocessing import STOPWORDS\n",
    "from nltk.stem import WordNetLemmatizer, SnowballStemmer\n",
    "from nltk.stem.porter import *\n",
    "from pprint import pprint\n",
    "import numpy as np\n",
    "import nltk\n",
    "nltk.download('wordnet')"
   ]
  },
  {
   "cell_type": "code",
   "execution_count": 8,
   "metadata": {},
   "outputs": [
    {
     "name": "stdout",
     "output_type": "stream",
     "text": [
      "1186018\n",
      "                                       headline_text  index\n",
      "0  aba decides against community broadcasting lic...      0\n",
      "1     act fire witnesses must be aware of defamation      1\n",
      "2     a g calls for infrastructure protection summit      2\n",
      "3           air nz staff in aust strike for pay rise      3\n",
      "4      air nz strike to affect australian travellers      4\n"
     ]
    }
   ],
   "source": [
    "data = pd.read_csv('abcnews-date-text.csv', error_bad_lines=False);\n",
    "data_text = data[['headline_text']]\n",
    "data_text['index'] = data_text.index\n",
    "documents = data_text\n",
    "print(len(documents))\n",
    "print(documents[:5])"
   ]
  },
  {
   "cell_type": "code",
   "execution_count": 6,
   "metadata": {},
   "outputs": [],
   "source": [
    "stemmer = SnowballStemmer('english')\n",
    " \n",
    "#提取词幹,词性還原\n",
    "def lemmatize_stemming(text):\n",
    "    return stemmer.stem(WordNetLemmatizer().lemmatize(text, pos='v'))\n",
    " \n",
    "#過濾停用词和長度小於3的单词\n",
    "def preprocess(text):\n",
    "    #gensim.utils.simple_preprocess \n",
    "    \"\"\"\"\n",
    "    將英文字母小寫化處理,\n",
    "    刪除文本中所有的標點符號。\n",
    "    刪除所有少於min_len(預設2)和大於max_len(預設15)個字符的單詞\n",
    "    \"\"\"\n",
    "    result = []\n",
    "    for token in gensim.utils.simple_preprocess(text):\n",
    "        if token not in gensim.parsing.preprocessing.STOPWORDS and len(token) > 3:\n",
    "            result.append(lemmatize_stemming(token))\n",
    "    return result"
   ]
  },
  {
   "cell_type": "code",
   "execution_count": 9,
   "metadata": {},
   "outputs": [
    {
     "name": "stdout",
     "output_type": "stream",
     "text": [
      "original document: \n",
      "['more', 'women', 'urged', 'to', 'become', 'councillors']\n",
      "\n",
      "\n",
      " tokenized and lemmatized document: \n",
      "['women', 'urg', 'councillor']\n"
     ]
    }
   ],
   "source": [
    "doc_sample = documents[documents['index'] == 100].values[0][0]\n",
    " \n",
    "print('original document: ')\n",
    "words = []\n",
    "for word in doc_sample.split(' '):\n",
    "    words.append(word)\n",
    "print(words)\n",
    "print('\\n\\n tokenized and lemmatized document: ')\n",
    "print(preprocess(doc_sample))"
   ]
  },
  {
   "cell_type": "code",
   "execution_count": 10,
   "metadata": {},
   "outputs": [
    {
     "data": {
      "text/plain": [
       "0            [decid, communiti, broadcast, licenc]\n",
       "1                               [wit, awar, defam]\n",
       "2           [call, infrastructur, protect, summit]\n",
       "3                      [staff, aust, strike, rise]\n",
       "4             [strike, affect, australian, travel]\n",
       "5               [ambiti, olsson, win, tripl, jump]\n",
       "6           [antic, delight, record, break, barca]\n",
       "7    [aussi, qualifi, stosur, wast, memphi, match]\n",
       "8            [aust, address, secur, council, iraq]\n",
       "9                         [australia, lock, timet]\n",
       "Name: headline_text, dtype: object"
      ]
     },
     "execution_count": 10,
     "metadata": {},
     "output_type": "execute_result"
    }
   ],
   "source": [
    "processed_docs = documents['headline_text'].map(preprocess)\n",
    "processed_docs[:10]"
   ]
  },
  {
   "cell_type": "code",
   "execution_count": 11,
   "metadata": {},
   "outputs": [
    {
     "name": "stdout",
     "output_type": "stream",
     "text": [
      "0 broadcast 430\n",
      "1 communiti 6074\n",
      "2 decid 1365\n",
      "3 licenc 1248\n",
      "4 awar 589\n",
      "5 defam 466\n",
      "6 wit 1814\n",
      "7 call 10377\n",
      "8 infrastructur 1124\n",
      "9 protect 3410\n",
      "number of total words: 67118\n"
     ]
    }
   ],
   "source": [
    "dictionary = gensim.corpora.Dictionary(processed_docs)\n",
    "for i in range(10):\n",
    "    print(i,dictionary[i],dictionary.dfs[i])  #統計的是文檔數而非真正意義上的詞頻\n",
    "print('number of total words:',len(dictionary))\n"
   ]
  },
  {
   "cell_type": "code",
   "execution_count": 12,
   "metadata": {},
   "outputs": [
    {
     "name": "stdout",
     "output_type": "stream",
     "text": [
      "number of total words: 24642\n"
     ]
    }
   ],
   "source": [
    "dictionary.filter_extremes(no_below=5, no_above=0.5, keep_n=100000)\n",
    "#過濾掉詞頻低於5次的詞\n",
    "#過濾掉高於總詞頻50%的詞\n",
    "#完成上述兩個步驟後，只保留前100000個最頻繁的詞\n",
    "len(dictionary)\n",
    "print('number of total words:',len(dictionary))"
   ]
  },
  {
   "cell_type": "code",
   "execution_count": 14,
   "metadata": {},
   "outputs": [
    {
     "name": "stdout",
     "output_type": "stream",
     "text": [
      "Word 0 (\"broadcast\") appears 1 time.\n",
      "Word 1 (\"communiti\") appears 1 time.\n",
      "Word 2 (\"decid\") appears 1 time.\n",
      "Word 3 (\"licenc\") appears 1 time.\n"
     ]
    }
   ],
   "source": [
    "bow_corpus = [dictionary.doc2bow(doc) for doc in processed_docs]\n",
    "bow_doc_0 = bow_corpus[0]\n",
    "for i in range(len(bow_doc_0)):\n",
    "    print(\"Word {} (\\\"{}\\\") appears {} time.\".format(bow_doc_0[i][0], \n",
    "                                               dictionary[bow_doc_0[i][0]], \n",
    "bow_doc_0[i][1]))"
   ]
  },
  {
   "cell_type": "code",
   "execution_count": 15,
   "metadata": {},
   "outputs": [
    {
     "name": "stdout",
     "output_type": "stream",
     "text": [
      "[(0, 0.5850076620505259),\n",
      " (1, 0.38947256567331934),\n",
      " (2, 0.4997099083387053),\n",
      " (3, 0.5063271308533074)]\n"
     ]
    }
   ],
   "source": [
    "tfidf = models.TfidfModel(bow_corpus)\n",
    "corpus_tfidf = tfidf[bow_corpus]\n",
    "for doc in corpus_tfidf:\n",
    "    pprint(doc)\n",
    "    break"
   ]
  },
  {
   "cell_type": "code",
   "execution_count": 22,
   "metadata": {},
   "outputs": [
    {
     "name": "stdout",
     "output_type": "stream",
     "text": [
      "1186018\n",
      "1186018\n"
     ]
    }
   ],
   "source": [
    "print(len(bow_corpus))\n",
    "print(len(processed_docs))"
   ]
  },
  {
   "cell_type": "markdown",
   "metadata": {},
   "source": [
    "# 在詞袋語料庫上訓練LDA模型"
   ]
  },
  {
   "cell_type": "code",
   "execution_count": 23,
   "metadata": {},
   "outputs": [],
   "source": [
    "lda_model = gensim.models.LdaMulticore(bow_corpus, num_topics=10, id2word=dictionary, passes=2, workers=2)"
   ]
  },
  {
   "cell_type": "markdown",
   "metadata": {},
   "source": [
    "訓練完成後,對於每個主題，我們查看一下該主題中出現的單詞及其相對權重:"
   ]
  },
  {
   "cell_type": "code",
   "execution_count": 62,
   "metadata": {},
   "outputs": [
    {
     "name": "stdout",
     "output_type": "stream",
     "text": [
      "Topic: 0 \n",
      "Words: 0.025*\"world\" + 0.020*\"market\" + 0.020*\"australia\" + 0.017*\"adelaid\" + 0.016*\"live\" + 0.016*\"open\" + 0.014*\"test\" + 0.014*\"final\" + 0.014*\"miss\" + 0.013*\"record\"\n",
      "Topic: 1 \n",
      "Words: 0.034*\"polic\" + 0.029*\"charg\" + 0.026*\"court\" + 0.024*\"murder\" + 0.017*\"face\" + 0.017*\"alleg\" + 0.016*\"jail\" + 0.015*\"accus\" + 0.012*\"death\" + 0.012*\"life\"\n",
      "Topic: 2 \n",
      "Words: 0.040*\"sydney\" + 0.019*\"water\" + 0.019*\"farmer\" + 0.017*\"trial\" + 0.016*\"investig\" + 0.016*\"child\" + 0.016*\"interview\" + 0.015*\"perth\" + 0.015*\"abus\" + 0.012*\"hear\"\n",
      "Topic: 3 \n",
      "Words: 0.058*\"australian\" + 0.030*\"kill\" + 0.029*\"attack\" + 0.022*\"shoot\" + 0.014*\"fall\" + 0.014*\"dead\" + 0.013*\"polic\" + 0.012*\"stori\" + 0.010*\"return\" + 0.009*\"star\"\n",
      "Topic: 4 \n",
      "Words: 0.029*\"year\" + 0.022*\"hous\" + 0.021*\"coast\" + 0.018*\"royal\" + 0.017*\"south\" + 0.015*\"home\" + 0.014*\"gold\" + 0.013*\"island\" + 0.013*\"time\" + 0.011*\"find\"\n",
      "Topic: 5 \n",
      "Words: 0.053*\"say\" + 0.038*\"australia\" + 0.016*\"protest\" + 0.014*\"rise\" + 0.014*\"claim\" + 0.014*\"speak\" + 0.013*\"street\" + 0.013*\"guilti\" + 0.011*\"drum\" + 0.010*\"hobart\"\n",
      "Topic: 6 \n",
      "Words: 0.016*\"school\" + 0.014*\"health\" + 0.013*\"help\" + 0.013*\"state\" + 0.012*\"tasmanian\" + 0.011*\"countri\" + 0.011*\"fund\" + 0.011*\"busi\" + 0.011*\"high\" + 0.010*\"children\"\n",
      "Topic: 7 \n",
      "Words: 0.026*\"crash\" + 0.026*\"woman\" + 0.025*\"donald\" + 0.022*\"die\" + 0.014*\"victim\" + 0.012*\"near\" + 0.012*\"victorian\" + 0.012*\"trade\" + 0.011*\"john\" + 0.011*\"public\"\n",
      "Topic: 8 \n",
      "Words: 0.028*\"govern\" + 0.015*\"chang\" + 0.014*\"plan\" + 0.011*\"elect\" + 0.011*\"commiss\" + 0.011*\"peopl\" + 0.011*\"communiti\" + 0.011*\"meet\" + 0.010*\"park\" + 0.010*\"budget\"\n",
      "Topic: 9 \n",
      "Words: 0.044*\"trump\" + 0.028*\"queensland\" + 0.020*\"news\" + 0.020*\"north\" + 0.018*\"feder\" + 0.015*\"rural\" + 0.014*\"bushfir\" + 0.014*\"death\" + 0.013*\"nation\" + 0.013*\"victoria\"\n"
     ]
    }
   ],
   "source": [
    "for idx, topic in lda_model.print_topics(-1):\n",
    "    print('Topic: {} \\nWords: {}'.format(idx, topic))"
   ]
  },
  {
   "cell_type": "markdown",
   "metadata": {},
   "source": [
    "# 使用LDA的詞袋模型對文檔進行分類的性能評估"
   ]
  },
  {
   "cell_type": "code",
   "execution_count": 45,
   "metadata": {},
   "outputs": [
    {
     "name": "stdout",
     "output_type": "stream",
     "text": [
      "more women urged to become councillors\n",
      "['women', 'urg', 'councillor']\n",
      "[(0, 0.025005981), (1, 0.025004901), (2, 0.025002966), (3, 0.025002966), (4, 0.025002966), (5, 0.025002966), (6, 0.5250369), (7, 0.025004596), (8, 0.27493283), (9, 0.025002966)]\n",
      "\n",
      "Score: 0.5250368714332581\t \n",
      "Topic6: 0.016*\"school\" + 0.014*\"health\" + 0.013*\"help\" + 0.013*\"state\" + 0.012*\"tasmanian\" + 0.011*\"countri\" + 0.011*\"fund\" + 0.011*\"busi\" + 0.011*\"high\" + 0.010*\"children\"\n",
      "\n",
      "Score: 0.2749328315258026\t \n",
      "Topic8: 0.028*\"govern\" + 0.015*\"chang\" + 0.014*\"plan\" + 0.011*\"elect\" + 0.011*\"commiss\" + 0.011*\"peopl\" + 0.011*\"communiti\" + 0.011*\"meet\" + 0.010*\"park\" + 0.010*\"budget\"\n",
      "\n",
      "Score: 0.025005945935845375\t \n",
      "Topic0: 0.025*\"world\" + 0.020*\"market\" + 0.020*\"australia\" + 0.017*\"adelaid\" + 0.016*\"live\" + 0.016*\"open\" + 0.014*\"test\" + 0.014*\"final\" + 0.014*\"miss\" + 0.013*\"record\"\n",
      "\n",
      "Score: 0.025004902854561806\t \n",
      "Topic1: 0.034*\"polic\" + 0.029*\"charg\" + 0.026*\"court\" + 0.024*\"murder\" + 0.017*\"face\" + 0.017*\"alleg\" + 0.016*\"jail\" + 0.015*\"accus\" + 0.012*\"death\" + 0.012*\"life\"\n",
      "\n",
      "Score: 0.025004597380757332\t \n",
      "Topic7: 0.026*\"crash\" + 0.026*\"woman\" + 0.025*\"donald\" + 0.022*\"die\" + 0.014*\"victim\" + 0.012*\"near\" + 0.012*\"victorian\" + 0.012*\"trade\" + 0.011*\"john\" + 0.011*\"public\"\n",
      "\n",
      "Score: 0.025002967566251755\t \n",
      "Topic2: 0.040*\"sydney\" + 0.019*\"water\" + 0.019*\"farmer\" + 0.017*\"trial\" + 0.016*\"investig\" + 0.016*\"child\" + 0.016*\"interview\" + 0.015*\"perth\" + 0.015*\"abus\" + 0.012*\"hear\"\n",
      "\n",
      "Score: 0.025002967566251755\t \n",
      "Topic3: 0.058*\"australian\" + 0.030*\"kill\" + 0.029*\"attack\" + 0.022*\"shoot\" + 0.014*\"fall\" + 0.014*\"dead\" + 0.013*\"polic\" + 0.012*\"stori\" + 0.010*\"return\" + 0.009*\"star\"\n",
      "\n",
      "Score: 0.025002967566251755\t \n",
      "Topic4: 0.029*\"year\" + 0.022*\"hous\" + 0.021*\"coast\" + 0.018*\"royal\" + 0.017*\"south\" + 0.015*\"home\" + 0.014*\"gold\" + 0.013*\"island\" + 0.013*\"time\" + 0.011*\"find\"\n",
      "\n",
      "Score: 0.025002967566251755\t \n",
      "Topic5: 0.053*\"say\" + 0.038*\"australia\" + 0.016*\"protest\" + 0.014*\"rise\" + 0.014*\"claim\" + 0.014*\"speak\" + 0.013*\"street\" + 0.013*\"guilti\" + 0.011*\"drum\" + 0.010*\"hobart\"\n",
      "\n",
      "Score: 0.025002967566251755\t \n",
      "Topic9: 0.044*\"trump\" + 0.028*\"queensland\" + 0.020*\"news\" + 0.020*\"north\" + 0.018*\"feder\" + 0.015*\"rural\" + 0.014*\"bushfir\" + 0.014*\"death\" + 0.013*\"nation\" + 0.013*\"victoria\"\n"
     ]
    }
   ],
   "source": [
    "docId=100\n",
    "print(documents['headline_text'][docId])\n",
    "print(processed_docs[docId])\n",
    "print(lda_model[bow_corpus[docId]])\n",
    "\n",
    "for index, score in sorted(lda_model[bow_corpus[docId]], key=lambda tup: -1*tup[1]):\n",
    "    print(\"\\nScore: {}\\t \\nTopic{}: {}\".format(score,index, lda_model.print_topic(index, 10)))"
   ]
  },
  {
   "cell_type": "code",
   "execution_count": 64,
   "metadata": {},
   "outputs": [
    {
     "data": {
      "text/plain": [
       "'0.044*\"trump\" + 0.028*\"queensland\" + 0.020*\"news\" + 0.020*\"north\" + 0.018*\"feder\" + 0.015*\"rural\" + 0.014*\"bushfir\" + 0.014*\"death\" + 0.013*\"nation\" + 0.013*\"victoria\"'"
      ]
     },
     "execution_count": 64,
     "metadata": {},
     "output_type": "execute_result"
    }
   ],
   "source": [
    "lda_model.print_topic(-1)"
   ]
  },
  {
   "cell_type": "markdown",
   "metadata": {},
   "source": [
    "# 在TF-IDF預料庫上訓練LDA模型"
   ]
  },
  {
   "cell_type": "code",
   "execution_count": 65,
   "metadata": {},
   "outputs": [
    {
     "name": "stdout",
     "output_type": "stream",
     "text": [
      "Topic: 0 Word: 0.012*\"royal\" + 0.011*\"health\" + 0.010*\"commiss\" + 0.007*\"mental\" + 0.006*\"abbott\" + 0.006*\"marriag\" + 0.006*\"hospit\" + 0.005*\"govern\" + 0.005*\"foreign\" + 0.005*\"toni\"\n",
      "Topic: 1 Word: 0.019*\"polic\" + 0.018*\"charg\" + 0.016*\"murder\" + 0.012*\"alleg\" + 0.012*\"court\" + 0.011*\"woman\" + 0.010*\"death\" + 0.010*\"jail\" + 0.009*\"arrest\" + 0.009*\"shoot\"\n",
      "Topic: 2 Word: 0.014*\"interview\" + 0.010*\"weather\" + 0.007*\"grandstand\" + 0.006*\"speak\" + 0.005*\"alan\" + 0.005*\"smith\" + 0.005*\"game\" + 0.005*\"john\" + 0.005*\"extend\" + 0.005*\"mount\"\n",
      "Topic: 3 Word: 0.013*\"stori\" + 0.010*\"friday\" + 0.010*\"turnbul\" + 0.010*\"wednesday\" + 0.009*\"christma\" + 0.009*\"morrison\" + 0.009*\"sport\" + 0.008*\"david\" + 0.006*\"tasmanian\" + 0.006*\"malcolm\"\n",
      "Topic: 4 Word: 0.026*\"trump\" + 0.014*\"donald\" + 0.014*\"crash\" + 0.013*\"kill\" + 0.010*\"dead\" + 0.010*\"die\" + 0.007*\"injur\" + 0.006*\"plead\" + 0.006*\"truck\" + 0.005*\"insid\"\n",
      "Topic: 5 Word: 0.009*\"elect\" + 0.008*\"thursday\" + 0.007*\"sexual\" + 0.007*\"financ\" + 0.006*\"andrew\" + 0.006*\"fiji\" + 0.006*\"novemb\" + 0.006*\"liber\" + 0.006*\"parti\" + 0.005*\"music\"\n",
      "Topic: 6 Word: 0.023*\"news\" + 0.018*\"market\" + 0.015*\"rural\" + 0.011*\"drum\" + 0.009*\"tuesday\" + 0.009*\"share\" + 0.008*\"nation\" + 0.008*\"busi\" + 0.006*\"peter\" + 0.006*\"australian\"\n",
      "Topic: 7 Word: 0.010*\"live\" + 0.010*\"tasmania\" + 0.009*\"coast\" + 0.008*\"queensland\" + 0.008*\"farmer\" + 0.008*\"drought\" + 0.008*\"price\" + 0.007*\"wall\" + 0.007*\"farm\" + 0.006*\"cattl\"\n",
      "Topic: 8 Word: 0.010*\"final\" + 0.010*\"world\" + 0.009*\"australia\" + 0.006*\"leagu\" + 0.006*\"march\" + 0.006*\"mark\" + 0.006*\"open\" + 0.006*\"cricket\" + 0.006*\"violenc\" + 0.005*\"septemb\"\n",
      "Topic: 9 Word: 0.019*\"countri\" + 0.014*\"hour\" + 0.010*\"climat\" + 0.008*\"chang\" + 0.006*\"octob\" + 0.005*\"korea\" + 0.005*\"quiz\" + 0.005*\"april\" + 0.005*\"govern\" + 0.005*\"outback\"\n"
     ]
    }
   ],
   "source": [
    "lda_model_tfidf = gensim.models.LdaMulticore(corpus_tfidf, num_topics=10, id2word=dictionary, passes=2, workers=4)\n",
    " \n",
    "for idx, topic in lda_model_tfidf.print_topics(-1):\n",
    "    print('Topic: {} Word: {}'.format(idx, topic))"
   ]
  },
  {
   "cell_type": "markdown",
   "metadata": {},
   "source": [
    "# 使用LDA的TF-IDF詞袋模型對文檔進行分類的性能評估"
   ]
  },
  {
   "cell_type": "code",
   "execution_count": 66,
   "metadata": {},
   "outputs": [
    {
     "name": "stdout",
     "output_type": "stream",
     "text": [
      "more women urged to become councillors\n",
      "['women', 'urg', 'councillor']\n",
      "-------------------------------------\n",
      "\n",
      "Score: 0.7749364972114563\t \n",
      "Topic5: 0.009*\"elect\" + 0.008*\"thursday\" + 0.007*\"sexual\" + 0.007*\"financ\" + 0.006*\"andrew\" + 0.006*\"fiji\" + 0.006*\"novemb\" + 0.006*\"liber\" + 0.006*\"parti\" + 0.005*\"music\"\n",
      "\n",
      "Score: 0.02501094713807106\t \n",
      "Topic0: 0.012*\"royal\" + 0.011*\"health\" + 0.010*\"commiss\" + 0.007*\"mental\" + 0.006*\"abbott\" + 0.006*\"marriag\" + 0.006*\"hospit\" + 0.005*\"govern\" + 0.005*\"foreign\" + 0.005*\"toni\"\n",
      "\n",
      "Score: 0.02500954270362854\t \n",
      "Topic8: 0.010*\"final\" + 0.010*\"world\" + 0.009*\"australia\" + 0.006*\"leagu\" + 0.006*\"march\" + 0.006*\"mark\" + 0.006*\"open\" + 0.006*\"cricket\" + 0.006*\"violenc\" + 0.005*\"septemb\"\n",
      "\n",
      "Score: 0.025008613243699074\t \n",
      "Topic3: 0.013*\"stori\" + 0.010*\"friday\" + 0.010*\"turnbul\" + 0.010*\"wednesday\" + 0.009*\"christma\" + 0.009*\"morrison\" + 0.009*\"sport\" + 0.008*\"david\" + 0.006*\"tasmanian\" + 0.006*\"malcolm\"\n",
      "\n",
      "Score: 0.02500835433602333\t \n",
      "Topic9: 0.019*\"countri\" + 0.014*\"hour\" + 0.010*\"climat\" + 0.008*\"chang\" + 0.006*\"octob\" + 0.005*\"korea\" + 0.005*\"quiz\" + 0.005*\"april\" + 0.005*\"govern\" + 0.005*\"outback\"\n",
      "\n",
      "Score: 0.025007128715515137\t \n",
      "Topic6: 0.023*\"news\" + 0.018*\"market\" + 0.015*\"rural\" + 0.011*\"drum\" + 0.009*\"tuesday\" + 0.009*\"share\" + 0.008*\"nation\" + 0.008*\"busi\" + 0.006*\"peter\" + 0.006*\"australian\"\n",
      "\n",
      "Score: 0.025006569921970367\t \n",
      "Topic7: 0.010*\"live\" + 0.010*\"tasmania\" + 0.009*\"coast\" + 0.008*\"queensland\" + 0.008*\"farmer\" + 0.008*\"drought\" + 0.008*\"price\" + 0.007*\"wall\" + 0.007*\"farm\" + 0.006*\"cattl\"\n",
      "\n",
      "Score: 0.025004347786307335\t \n",
      "Topic1: 0.019*\"polic\" + 0.018*\"charg\" + 0.016*\"murder\" + 0.012*\"alleg\" + 0.012*\"court\" + 0.011*\"woman\" + 0.010*\"death\" + 0.010*\"jail\" + 0.009*\"arrest\" + 0.009*\"shoot\"\n",
      "\n",
      "Score: 0.025004267692565918\t \n",
      "Topic4: 0.026*\"trump\" + 0.014*\"donald\" + 0.014*\"crash\" + 0.013*\"kill\" + 0.010*\"dead\" + 0.010*\"die\" + 0.007*\"injur\" + 0.006*\"plead\" + 0.006*\"truck\" + 0.005*\"insid\"\n",
      "\n",
      "Score: 0.025003766641020775\t \n",
      "Topic2: 0.014*\"interview\" + 0.010*\"weather\" + 0.007*\"grandstand\" + 0.006*\"speak\" + 0.005*\"alan\" + 0.005*\"smith\" + 0.005*\"game\" + 0.005*\"john\" + 0.005*\"extend\" + 0.005*\"mount\"\n"
     ]
    }
   ],
   "source": [
    "print(documents['headline_text'][docId])\n",
    "print(processed_docs[docId])\n",
    "print('-------------------------------------')\n",
    "for index, score in sorted(lda_model_tfidf[bow_corpus[docId]], key=lambda tup: -1*tup[1]):\n",
    "    print(\"\\nScore: {}\\t \\nTopic{}: {}\".format(score,index, lda_model_tfidf.print_topic(index, 10)))"
   ]
  },
  {
   "cell_type": "markdown",
   "metadata": {},
   "source": [
    "# 使用數據集以外的文檔對模型進行測試"
   ]
  },
  {
   "cell_type": "code",
   "execution_count": 68,
   "metadata": {},
   "outputs": [
    {
     "name": "stdout",
     "output_type": "stream",
     "text": [
      "Score: 0.41241928935050964\t Topic: 0.034*\"polic\" + 0.029*\"charg\" + 0.026*\"court\" + 0.024*\"murder\" + 0.017*\"face\"\n",
      "Score: 0.2250247448682785\t Topic: 0.058*\"australian\" + 0.030*\"kill\" + 0.029*\"attack\" + 0.022*\"shoot\" + 0.014*\"fall\"\n",
      "Score: 0.2223723977804184\t Topic: 0.026*\"crash\" + 0.026*\"woman\" + 0.025*\"donald\" + 0.022*\"die\" + 0.014*\"victim\"\n",
      "Score: 0.020027846097946167\t Topic: 0.029*\"year\" + 0.022*\"hous\" + 0.021*\"coast\" + 0.018*\"royal\" + 0.017*\"south\"\n",
      "Score: 0.020026206970214844\t Topic: 0.028*\"govern\" + 0.015*\"chang\" + 0.014*\"plan\" + 0.011*\"elect\" + 0.011*\"commiss\"\n",
      "Score: 0.020026087760925293\t Topic: 0.044*\"trump\" + 0.028*\"queensland\" + 0.020*\"news\" + 0.020*\"north\" + 0.018*\"feder\"\n",
      "Score: 0.02002592757344246\t Topic: 0.025*\"world\" + 0.020*\"market\" + 0.020*\"australia\" + 0.017*\"adelaid\" + 0.016*\"live\"\n",
      "Score: 0.020025884732604027\t Topic: 0.053*\"say\" + 0.038*\"australia\" + 0.016*\"protest\" + 0.014*\"rise\" + 0.014*\"claim\"\n",
      "Score: 0.020025866106152534\t Topic: 0.016*\"school\" + 0.014*\"health\" + 0.013*\"help\" + 0.013*\"state\" + 0.012*\"tasmanian\"\n",
      "Score: 0.020025748759508133\t Topic: 0.040*\"sydney\" + 0.019*\"water\" + 0.019*\"farmer\" + 0.017*\"trial\" + 0.016*\"investig\"\n"
     ]
    }
   ],
   "source": [
    "unseen_document = \"Five bystanders shot during police shootout in New Orleans\"\n",
    "bow_vector = dictionary.doc2bow(preprocess(unseen_document))\n",
    " \n",
    "for index, score in sorted(lda_model_tfidf[bow_vector], key=lambda tup: -1*tup[1]):\n",
    "    print(\"Score: {}\\t Topic: {}\".format(score, lda_model.print_topic(index, 5)))"
   ]
  },
  {
   "cell_type": "code",
   "execution_count": null,
   "metadata": {},
   "outputs": [],
   "source": []
  }
 ],
 "metadata": {
  "kernelspec": {
   "display_name": "Python 3",
   "language": "python",
   "name": "python3"
  },
  "language_info": {
   "codemirror_mode": {
    "name": "ipython",
    "version": 3
   },
   "file_extension": ".py",
   "mimetype": "text/x-python",
   "name": "python",
   "nbconvert_exporter": "python",
   "pygments_lexer": "ipython3",
   "version": "3.6.5"
  }
 },
 "nbformat": 4,
 "nbformat_minor": 2
}
