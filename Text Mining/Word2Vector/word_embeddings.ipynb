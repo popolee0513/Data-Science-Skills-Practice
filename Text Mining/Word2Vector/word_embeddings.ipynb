{
 "cells": [
  {
   "cell_type": "markdown",
   "metadata": {},
   "source": [
    "# Word Embeddings"
   ]
  },
  {
   "cell_type": "markdown",
   "metadata": {},
   "source": [
    "## Load Pre-trained Word Embeddings"
   ]
  },
  {
   "cell_type": "markdown",
   "metadata": {},
   "source": [
    "Load the pre-trained FastText word embedding provided by Facebook. \n",
    "https://github.com/facebookresearch/fastText/blob/master/pretrained-vectors.md\n",
    "\n",
    "This version only contains top 5000 words. "
   ]
  },
  {
   "cell_type": "code",
   "execution_count": 1,
   "metadata": {},
   "outputs": [
    {
     "name": "stdout",
     "output_type": "stream",
     "text": [
      "Number of words: 5000\n"
     ]
    }
   ],
   "source": [
    "from gensim.models import KeyedVectors\n",
    "w2v = KeyedVectors.load_word2vec_format(\"wiki.en.5k.vec\", binary=False)\n",
    "print(\"Number of words: %d\" % len(w2v.vocab))"
   ]
  },
  {
   "cell_type": "markdown",
   "metadata": {},
   "source": [
    "## Word Similarity"
   ]
  },
  {
   "cell_type": "code",
   "execution_count": 2,
   "metadata": {},
   "outputs": [
    {
     "name": "stdout",
     "output_type": "stream",
     "text": [
      "[-3.7518e-01  2.9000e-01 -2.3914e-02  2.1455e-01 -5.8593e-02  4.8193e-02\n",
      "  3.1506e-01 -3.9259e-02 -2.7525e-02  5.3540e-01 -2.8230e-01  5.6714e-01\n",
      "  9.3813e-02  9.2664e-02  4.8761e-02 -9.4374e-02  8.4925e-02 -1.9372e-01\n",
      "  6.5348e-01  1.5214e-02 -3.3648e-01 -8.8303e-02 -3.8034e-01 -3.2440e-01\n",
      " -9.3732e-02 -1.5610e-01 -4.6248e-01  1.5584e-01  3.2326e-01  5.3039e-02\n",
      "  3.7053e-02  2.7317e-01 -7.3461e-01 -9.2249e-02 -1.5369e-01  1.9083e-01\n",
      "  8.6497e-02 -4.5127e-03 -2.0048e-01 -1.9983e-01  6.4252e-02  2.3410e-01\n",
      "  2.8670e-02  1.4806e-01  7.9216e-02  1.4361e-01 -2.4750e-01  8.3084e-02\n",
      " -2.8028e-01  6.8699e-02 -2.1377e-01 -4.2123e-01  3.9940e-01  5.9221e-02\n",
      "  1.2218e-01  2.9633e-01  1.3683e-02  1.3073e-01  5.1317e-02 -1.8742e-01\n",
      "  1.7622e-02 -4.7196e-01  2.8897e-01  1.1879e-01 -1.4669e-01  1.4271e-01\n",
      "  2.8189e-02  3.0163e-01  9.7564e-02 -1.4091e-01 -2.6867e-01  1.5017e-01\n",
      "  2.4055e-01 -2.6390e-01 -4.8686e-01  4.1241e-02  5.6252e-02 -6.4265e-02\n",
      "  1.7506e-01 -1.6706e-02  3.5092e-01  1.8170e-01 -1.1316e-01 -2.1886e-01\n",
      " -7.7267e-02 -1.1362e-01 -8.9897e-02  1.3592e-01  2.6297e-01  1.1650e-01\n",
      "  1.4325e-01  8.5233e-02  5.1829e-01 -1.3349e-01  2.2552e-01  2.1011e-02\n",
      " -1.1172e-02 -2.5199e-01  1.7661e-01  1.5065e-01  2.5251e-01 -7.1947e-02\n",
      "  3.2593e-02  1.6568e-01  2.5434e-02  4.1273e-02 -1.2043e-01  1.9151e-01\n",
      "  1.0916e-01  8.2791e-03  8.0645e-02 -8.6830e-02 -2.9643e-01  6.8512e-02\n",
      "  7.8454e-04 -2.4871e-01 -1.8441e-01 -2.2060e-01 -1.9833e-01  5.9674e-02\n",
      "  9.3457e-02 -5.5328e-03 -9.5403e-02  2.2548e-01 -2.9028e-01  8.7934e-02\n",
      " -1.6711e-01 -1.3500e-01 -1.2626e-01  3.6360e-01  5.8987e-02  4.6902e-01\n",
      " -1.6427e-01 -7.2117e-02  6.7542e-02  4.4139e-02 -1.3377e-01  3.8002e-01\n",
      " -2.3986e-02  6.5441e-01  3.2892e-01 -2.3679e-01  5.2041e-01  7.6816e-03\n",
      " -8.0834e-02  3.9328e-01 -1.5020e-01 -6.0676e-02  1.4013e-01 -3.2665e-02\n",
      "  1.0219e-01 -1.3580e-01 -4.9234e-01 -9.0217e-02 -3.9429e-01 -4.2058e-01\n",
      "  2.4903e-01 -5.0369e-02 -2.0456e-01 -1.5288e-02 -9.1494e-03  7.0333e-02\n",
      " -3.7276e-01  7.3085e-02 -5.6994e-03  1.7425e-02 -1.2920e-02 -2.5098e-01\n",
      "  1.3594e-01  2.0295e-01 -1.2952e-01 -1.7483e-01  1.7298e-01 -5.6901e-01\n",
      "  3.2767e-01  2.6931e-01 -2.4921e-02  2.2960e-01  2.4559e-02 -1.8279e-01\n",
      "  1.9382e-01 -9.9037e-02 -1.2924e-01 -7.9143e-03 -2.9852e-02  1.6518e-01\n",
      " -1.4921e-01 -5.2421e-03  2.6834e-01 -3.3291e-01 -3.4595e-01 -8.1510e-03\n",
      "  6.0822e-04  1.4195e-02 -5.4727e-01 -2.2146e-01  1.2647e-01  2.9175e-01\n",
      " -3.6658e-01  1.5511e-01 -5.2920e-02  4.7585e-01 -1.2488e-01 -9.7357e-02\n",
      "  5.8205e-02 -7.8665e-02 -3.9705e-02  4.9378e-02  4.8005e-01 -8.3775e-02\n",
      "  3.7331e-01 -2.2646e-01  2.0837e-01 -2.7248e-01 -2.4062e-01 -5.8130e-02\n",
      " -1.3064e-02 -3.3357e-01 -6.2673e-02 -1.8591e-01 -9.6532e-03  4.2218e-01\n",
      " -2.0384e-02  9.9136e-03 -1.1158e-01  7.5296e-02 -1.7870e-01 -1.7851e-01\n",
      " -6.4300e-02  1.8369e-02 -1.5820e-01 -2.8940e-01  1.2724e-01 -4.2047e-01\n",
      " -4.5396e-02  9.1702e-02  1.0790e-01  2.0359e-01 -3.4684e-01 -2.3394e-02\n",
      "  3.6144e-01  1.8299e-01  1.6680e-01  8.4126e-02 -3.9069e-01  3.2692e-01\n",
      " -1.4871e-01 -1.2071e-01 -5.4178e-02 -9.7344e-02 -5.7430e-02  3.5128e-02\n",
      " -8.6676e-02 -1.3239e-01 -3.1513e-01  1.9565e-01 -1.9557e-01 -2.6499e-01\n",
      " -1.1598e-01  2.0752e-01  7.7503e-02 -7.4465e-03 -4.2686e-01 -3.3447e-01\n",
      " -3.7755e-01 -2.1960e-01 -1.5877e-01 -9.7486e-03  9.8018e-03 -9.7204e-02\n",
      " -5.1198e-01  4.4550e-02 -1.9534e-01  1.7085e-01 -3.0830e-02 -3.2392e-02\n",
      " -2.2419e-01  3.6188e-01 -9.0711e-02 -3.1420e-01  2.4638e-01 -2.2277e-02\n",
      "  1.9827e-03 -1.6628e-01 -1.5777e-02 -1.6151e-01  1.2346e-01  1.1046e-02\n",
      " -4.3662e-02 -1.0843e-01  1.4185e-01  1.1200e-01  1.6129e-01 -8.9137e-02\n",
      "  1.1626e-01 -1.8159e-02  2.2805e-01 -1.0496e-01  4.2678e-01  1.6460e-01]\n"
     ]
    }
   ],
   "source": [
    "print(w2v[\"fast\"])"
   ]
  },
  {
   "cell_type": "code",
   "execution_count": 3,
   "metadata": {},
   "outputs": [
    {
     "name": "stdout",
     "output_type": "stream",
     "text": [
      "[ 9.6523e-03  2.9594e-01  8.7192e-02  1.4251e-02 -6.2758e-01  1.4494e-01\n",
      " -3.1512e-04 -4.3654e-01 -1.4803e-01 -3.5733e-01 -2.8666e-01 -1.9130e-01\n",
      "  9.8917e-02 -2.0994e-01  2.0118e-01 -2.8731e-01  1.0561e-01 -4.0479e-03\n",
      "  5.5040e-01  1.7419e-01 -1.5684e-01  2.4033e-01  1.0947e-01 -1.7691e-02\n",
      " -2.8782e-01  5.1930e-01  2.8683e-01  5.9717e-02 -1.8463e-01 -3.3210e-01\n",
      " -3.2824e-01  2.1625e-01 -1.5339e-01  6.8707e-01 -4.2779e-01  1.6954e-01\n",
      "  1.2408e-01 -3.6369e-01  4.0434e-01  4.6514e-01 -6.4378e-01 -2.6312e-01\n",
      "  1.8545e-01  1.6788e-01  1.3870e-01  6.9593e-02 -7.0434e-02 -4.8797e-02\n",
      " -1.1680e-01 -2.6751e-01  2.0893e-01 -3.1818e-01 -1.1809e-01 -7.2132e-02\n",
      " -4.1897e-01  1.0179e-01 -7.4415e-03  3.5534e-01  7.0169e-02  2.5135e-01\n",
      "  1.2294e-01 -9.1569e-02 -4.0842e-02 -2.3755e-01  5.4077e-02 -2.4699e-01\n",
      " -3.5040e-01 -2.5217e-01  1.2314e-01  3.9869e-02  2.5982e-02 -2.6672e-01\n",
      "  6.1487e-02  5.2644e-02 -3.6487e-01  4.8748e-01  5.0030e-01  3.7484e-01\n",
      "  7.6510e-02  1.4107e-01 -1.2549e-01 -3.0338e-02  3.4975e-02 -3.0483e-01\n",
      " -7.8405e-02 -2.6523e-01 -5.2463e-01  5.4873e-01  3.1705e-02  2.7283e-01\n",
      "  1.8115e-01 -2.1256e-01  2.9584e-01 -1.8590e-01  1.0925e-01  1.8754e-02\n",
      " -5.8304e-01  1.2989e-01 -1.5034e-02 -3.6848e-01  1.4093e-01  1.8796e-01\n",
      "  3.3456e-01 -2.6100e-01 -4.1059e-01  7.0917e-02 -1.1608e-01  3.0808e-01\n",
      "  2.4176e-01  6.4659e-02  8.0909e-03 -2.4954e-01  6.0331e-01 -1.1735e-01\n",
      "  1.5585e-01 -7.4365e-02 -2.3927e-01 -2.0352e-01  2.9225e-01 -2.0683e-01\n",
      "  2.5730e-01 -2.2697e-01 -1.3582e-01  1.2365e-01  5.1500e-01 -3.8673e-02\n",
      " -3.2073e-02 -1.1763e-01 -2.4624e-01 -2.1793e-01  2.1019e-01  4.9852e-02\n",
      "  2.0812e-01 -4.9074e-02  2.1422e-01  2.8391e-01 -2.3564e-01 -1.1722e-01\n",
      " -5.1890e-02  5.0016e-01  1.3438e-01 -1.2130e-02 -1.0971e-01  4.4193e-01\n",
      "  6.6878e-02  3.7237e-01  5.0562e-01 -3.0633e-02  2.7693e-01  3.3441e-01\n",
      "  4.7540e-02 -1.1416e-01 -3.1516e-01  2.9750e-02 -2.7162e-01  1.0309e-01\n",
      "  1.0878e-02 -2.8785e-01  9.3577e-02  2.4536e-01  4.5684e-01  1.6401e-01\n",
      " -3.3714e-01  1.7897e-01  7.0318e-01  4.0167e-02 -5.5359e-02  2.6282e-02\n",
      "  4.7133e-01  3.2762e-01  8.4115e-03 -1.1981e-01 -2.3564e-01 -7.5251e-02\n",
      "  2.5871e-01 -5.9482e-01 -2.5007e-02 -2.1002e-02  3.5705e-01  4.4600e-01\n",
      " -2.6596e-02  5.4596e-03  8.3103e-02 -1.6966e-01  2.0050e-01  4.2837e-02\n",
      "  1.3175e-01 -2.6859e-01  2.3041e-01 -8.2292e-02 -6.7622e-01 -4.4203e-01\n",
      "  2.6781e-01  4.6220e-01 -3.0663e-01 -2.0500e-01  1.4135e-01 -1.8173e-01\n",
      " -4.2665e-01  6.3585e-02  4.4941e-01 -1.0760e-01 -7.5692e-02 -1.2512e-01\n",
      "  3.7174e-01 -5.4252e-01 -1.0888e-01  9.3425e-02  6.7205e-01  3.5517e-01\n",
      "  3.3639e-01 -3.0976e-01  4.5757e-02 -3.8399e-01  5.1915e-02 -3.6973e-01\n",
      "  2.6851e-01 -3.0026e-01 -4.2189e-01  1.0450e-01 -1.5941e-01 -3.9549e-01\n",
      "  2.0662e-01 -7.3999e-02  1.7181e-01 -3.6790e-01 -5.5208e-01 -3.1249e-01\n",
      " -1.7508e-01 -1.6667e-01 -1.4078e-01 -2.5917e-02 -7.5833e-02  2.5673e-01\n",
      "  5.8753e-01 -1.7433e-01  5.6877e-02 -5.6656e-01 -3.0349e-01  5.0024e-02\n",
      "  5.6558e-02  1.4802e-01 -3.7620e-02 -2.2353e-02  1.3057e-01 -8.4798e-03\n",
      "  8.5063e-02  2.7326e-01 -2.1357e-01  2.7458e-01  5.2926e-01 -2.8615e-01\n",
      "  6.3463e-02 -9.7928e-02  3.5179e-01  5.7411e-01 -1.5099e-01 -3.8597e-01\n",
      "  5.1694e-01  2.2451e-01 -5.3734e-02 -1.2494e-01  1.7291e-01 -6.3553e-01\n",
      " -5.0112e-01 -4.3920e-01  2.9727e-01  2.4375e-01  1.2061e-01 -2.1322e-01\n",
      "  1.4090e-01  6.6010e-02 -6.6503e-02 -3.1777e-01 -1.1134e-01 -1.4056e-01\n",
      " -3.0090e-01  3.1443e-01  2.3985e-01  4.8350e-02  1.1584e-01 -3.4514e-02\n",
      "  5.1891e-02 -1.1821e-01  3.3497e-01  2.5008e-01 -7.3015e-02 -1.2232e-01\n",
      " -2.5211e-01  4.0237e-01 -3.9002e-01 -1.5639e-01 -2.0981e-01 -1.4468e-02\n",
      "  5.4258e-03 -1.1084e-01 -2.0970e-01 -2.8378e-01 -2.2145e-02 -2.5031e-01]\n"
     ]
    }
   ],
   "source": [
    "print(w2v[\"taiwan\"])"
   ]
  },
  {
   "cell_type": "code",
   "execution_count": 4,
   "metadata": {},
   "outputs": [],
   "source": [
    "#print(w2v[\"taipei\"])"
   ]
  },
  {
   "cell_type": "code",
   "execution_count": 5,
   "metadata": {},
   "outputs": [
    {
     "name": "stdout",
     "output_type": "stream",
     "text": [
      "0.60910374\n",
      "0.45045793\n",
      "0.27487028\n",
      "0.6704173\n",
      "0.33816254\n",
      "0.3600589\n",
      "0.46580052\n",
      "0.52325076\n",
      "0.30507404\n",
      "0.6153761\n",
      "0.3688634\n",
      "0.64244974\n",
      "0.53335226\n",
      "0.09129018\n"
     ]
    }
   ],
   "source": [
    "print(w2v.similarity(\"nice\", \"good\"))\n",
    "print(w2v.similarity(\"nice\", \"bad\"))\n",
    "print(w2v.similarity(\"nice\", \"fast\"))\n",
    "\n",
    "print(w2v.similarity(\"good\", \"bad\"))\n",
    "\n",
    "\n",
    "print(w2v.similarity(\"red\", \"sky\"))\n",
    "print(w2v.similarity(\"yellow\", \"sky\"))\n",
    "print(w2v.similarity(\"blue\", \"sky\"))\n",
    "\n",
    "print(w2v.similarity(\"tiger\", \"lion\"))\n",
    "print(w2v.similarity(\"tiger\", \"bird\"))\n",
    "\n",
    "print(w2v.similarity(\"france\", \"paris\"))\n",
    "print(w2v.similarity(\"italy\", \"paris\"))\n",
    "print(w2v.similarity(\"italy\", \"rome\"))\n",
    "print(w2v.similarity(\"paris\", \"rome\"))\n",
    "print(w2v.similarity(\"good\", \"paris\"))"
   ]
  },
  {
   "cell_type": "markdown",
   "metadata": {},
   "source": [
    "Most similar words"
   ]
  },
  {
   "cell_type": "code",
   "execution_count": 6,
   "metadata": {},
   "outputs": [
    {
     "name": "stdout",
     "output_type": "stream",
     "text": [
      "[('excellent', 0.7223856449127197), ('bad', 0.670417308807373), ('nice', 0.6091036796569824), ('better', 0.5967727303504944), ('perfect', 0.5752175450325012), ('reasonable', 0.5712679028511047), ('faith', 0.5607122778892517), ('helpful', 0.5578594207763672), ('poor', 0.5506519079208374), ('definitely', 0.5472526550292969)]\n",
      "[('france', 0.6153761148452759), ('vienna', 0.5634822845458984), ('berlin', 0.5617253184318542), ('london', 0.5515710115432739), ('munich', 0.5390844345092773), ('rome', 0.5333521366119385), ('madrid', 0.5264111757278442), ('moscow', 0.5238058567047119), ('prague', 0.5211637020111084), ('french', 0.5190050601959229)]\n",
      "[('tigers', 0.5982854962348938), ('cats', 0.5247116088867188), ('lion', 0.5232507586479187), ('lions', 0.49344372749328613), ('hamilton', 0.46046364307403564), ('dragon', 0.4476792514324188), ('cat', 0.430864542722702), ('woods', 0.43060770630836487), ('bear', 0.4008936882019043), ('wolf', 0.3999537229537964)]\n",
      "[('left', 0.6660147905349731), ('hand', 0.5235728025436401), ('handed', 0.512216329574585), ('wrong', 0.47229379415512085), ('arm', 0.4591131806373596), ('just', 0.4399382174015045), ('bottom', 0.4254627227783203), ('exactly', 0.4170149564743042), ('align', 0.4089397192001343), ('way', 0.4043542742729187)]\n"
     ]
    }
   ],
   "source": [
    "print(w2v.most_similar(\"good\"))\n",
    "print(w2v.most_similar(\"paris\"))\n",
    "print(w2v.most_similar(\"tiger\"))\n",
    "print(w2v.most_similar(\"right\"))"
   ]
  },
  {
   "cell_type": "markdown",
   "metadata": {},
   "source": [
    "### Analogy"
   ]
  },
  {
   "cell_type": "code",
   "execution_count": 7,
   "metadata": {},
   "outputs": [
    {
     "name": "stdout",
     "output_type": "stream",
     "text": [
      "[('rome', 0.9118089079856873), ('milan', 0.8868755102157593), ('vienna', 0.8417393565177917), ('venice', 0.8385935425758362), ('florence', 0.8238525390625), ('munich', 0.8000103831291199), ('prague', 0.7927053570747375), ('italian', 0.784573495388031), ('madrid', 0.7796931862831116), ('athens', 0.779522180557251)]\n",
      "[('paris', 1.0550767183303833), ('rome', 0.8601745367050171), ('munich', 0.8483597636222839), ('amsterdam', 0.8383409380912781), ('berlin', 0.8285969495773315), ('venice', 0.8250125050544739), ('french', 0.816684365272522), ('barcelona', 0.8140460848808289), ('england', 0.8124412894248962), ('vienna', 0.8115441799163818)]\n",
      "[('queen', 0.8924742341041565), ('princess', 0.8137581944465637), ('kings', 0.8062561750411987), ('reign', 0.78184574842453), ('kingdom', 0.7693678736686707), ('throne', 0.7536834478378296), ('royal', 0.7402397990226746), ('prince', 0.7384786605834961), ('crown', 0.7332648634910583), ('elizabeth', 0.7213146090507507)]\n",
      "[('tea', 0.8334957361221313), ('beer', 0.8212701082229614), ('sugar', 0.8099021911621094), ('milk', 0.7977914810180664), ('wine', 0.7942050099372864), ('fruit', 0.7887060046195984), ('food', 0.7804028987884521), ('rice', 0.7542921900749207), ('restaurant', 0.7530092597007751), ('restaurants', 0.7307345271110535)]\n",
      "[('vehicles', 0.9059291481971741), ('cars', 0.9036244750022888), ('vehicle', 0.8967863917350769), ('motor', 0.8891515731811523), ('locomotives', 0.8754465579986572), ('engines', 0.8740257620811462), ('passenger', 0.8730894327163696), ('engine', 0.8665419816970825), ('diesel', 0.8630682826042175), ('car', 0.8622882962226868)]\n",
      "[('good', 0.8663628101348877), ('wrong', 0.8139793276786804), ('hoax', 0.8080534338951111), ('poor', 0.7989814877510071), ('worse', 0.794325590133667), ('nothing', 0.7809121012687683), ('just', 0.7766373157501221), ('obviously', 0.7740558385848999), ('faith', 0.7691490650177002), ('plenty', 0.7675331234931946)]\n",
      "[('excellent', 0.8916696310043335), ('plenty', 0.8705934286117554), ('interesting', 0.8577498197555542), ('bad', 0.842410147190094), ('quick', 0.8329883217811584), ('nice', 0.8289033770561218), ('better', 0.827112078666687), ('definitely', 0.8242558836936951), ('poor', 0.813267171382904), ('nothing', 0.8125602006912231)]\n"
     ]
    }
   ],
   "source": [
    "#  France : Paris = Italy : ?\n",
    "#  Pairs - France + Italy\n",
    "print(w2v.most_similar_cosmul([\"paris\", \"italy\"], [\"france\"]))\n",
    "\n",
    "#  UK : London = France : ?\n",
    "print(w2v.most_similar_cosmul([\"london\", \"france\"], [\"uk\"]))\n",
    "\n",
    "#  Male : King = Female :？\n",
    "print(w2v.most_similar_cosmul([\"king\", \"female\"], [\"male\"]))\n",
    "\n",
    "#  Black : Coffee  = Red : ?\n",
    "print(w2v.most_similar_cosmul([\"coffee\", \"red\"], [\"black\"]))\n",
    "\n",
    "#  Wing : Aircraft = Wheel : ?\n",
    "print(w2v.most_similar_cosmul([\"aircraft\", \"wheel\"], [\"wing\"]))\n",
    "\n",
    "#  Microsoft : Google = Bad : ?\n",
    "print(w2v.most_similar_cosmul([\"google\", \"bad\"], [\"microsoft\"]))\n",
    "\n",
    "#  Microsoft : Google = Good : ?\n",
    "print(w2v.most_similar_cosmul([\"google\", \"good\"], [\"microsoft\"]))"
   ]
  },
  {
   "cell_type": "markdown",
   "metadata": {},
   "source": [
    "## Train Word Embeddings"
   ]
  },
  {
   "cell_type": "markdown",
   "metadata": {},
   "source": [
    "Load a corpus. "
   ]
  },
  {
   "cell_type": "code",
   "execution_count": 8,
   "metadata": {},
   "outputs": [
    {
     "name": "stdout",
     "output_type": "stream",
     "text": [
      "Number of characters: 2221405\n"
     ]
    }
   ],
   "source": [
    "with open(\"wealth_of_nations.txt\", encoding=\"utf8\") as fin:\n",
    "    text = fin.read()\n",
    "print(\"Number of characters: %d\" % len(text))"
   ]
  },
  {
   "cell_type": "markdown",
   "metadata": {},
   "source": [
    "## Preprocessing"
   ]
  },
  {
   "cell_type": "markdown",
   "metadata": {},
   "source": [
    "### Sentence Tokenization"
   ]
  },
  {
   "cell_type": "code",
   "execution_count": 14,
   "metadata": {},
   "outputs": [
    {
     "name": "stdout",
     "output_type": "stream",
     "text": [
      "[nltk_data] Downloading package punkt to\n",
      "[nltk_data]     C:\\Users\\POPO\\AppData\\Roaming\\nltk_data...\n",
      "[nltk_data]   Package punkt is already up-to-date!\n",
      "[nltk_data] Downloading package averaged_perceptron_tagger to\n",
      "[nltk_data]     C:\\Users\\POPO\\AppData\\Roaming\\nltk_data...\n",
      "[nltk_data]   Package averaged_perceptron_tagger is already up-to-\n",
      "[nltk_data]       date!\n",
      "Number of sentences: 11914\n",
      "﻿AN INQUIRY INTO THE NATURE AND CAUSES OF THE WEALTH OF NATIONS.\n",
      "By Adam Smith\n",
      "\n",
      "\n",
      "\n",
      "\n",
      "INTRODUCTION AND PLAN OF THE WORK.\n",
      "['\\ufeffAN INQUIRY INTO THE NATURE AND CAUSES OF THE WEALTH OF NATIONS.', 'By Adam Smith\\n\\n\\n\\n\\nINTRODUCTION AND PLAN OF THE WORK.']\n",
      "Each individual becomes\n",
      "more expert in his own peculiar branch, more work is done upon the\n",
      "whole, and the quantity of science is considerably increased by it.\n"
     ]
    }
   ],
   "source": [
    "import nltk\n",
    "nltk.download('punkt')\n",
    "nltk.download('averaged_perceptron_tagger')\n",
    "from nltk.tokenize import sent_tokenize\n",
    "#sent_tokenize 可以幫助我們斷句\n",
    "sents = sent_tokenize(text)\n",
    "print(\"Number of sentences: %d\" % len(sents))\n",
    "\n",
    "print(sents[0])\n",
    "print(sents[1])\n",
    "\n",
    "print(sents[:2])\n",
    "\n",
    "print(sents[100])"
   ]
  },
  {
   "cell_type": "markdown",
   "metadata": {},
   "source": [
    "### Word Tokenization"
   ]
  },
  {
   "cell_type": "code",
   "execution_count": 15,
   "metadata": {},
   "outputs": [
    {
     "name": "stdout",
     "output_type": "stream",
     "text": [
      "['\\ufeffan', 'inquiry', 'into', 'the', 'nature', 'and', 'causes', 'of', 'the', 'wealth', 'of', 'nations', '.']\n",
      "['by', 'adam', 'smith', 'introduction', 'and', 'plan', 'of', 'the', 'work', '.']\n",
      "['each', 'individual', 'becomes', 'more', 'expert', 'in', 'his', 'own', 'peculiar', 'branch', ',', 'more', 'work', 'is', 'done', 'upon', 'the', 'whole', ',', 'and', 'the', 'quantity', 'of', 'science', 'is', 'considerably', 'increased', 'by', 'it', '.']\n"
     ]
    }
   ],
   "source": [
    "from nltk.corpus import stopwords\n",
    "stopword_list = stopwords.words('english')\n",
    "\n",
    "from nltk.tokenize import word_tokenize\n",
    "#使用 word_tokenize 可以進行斷詞\n",
    "sent_tokens = []\n",
    "for sent in sents:\n",
    "    sent_tokens.append(word_tokenize(sent.lower()))\n",
    "\n",
    "print(sent_tokens[0])\n",
    "print(sent_tokens[1])\n",
    "print(sent_tokens[100])"
   ]
  },
  {
   "cell_type": "markdown",
   "metadata": {},
   "source": [
    "## Train Word2Vec"
   ]
  },
  {
   "cell_type": "code",
   "execution_count": 16,
   "metadata": {},
   "outputs": [
    {
     "name": "stderr",
     "output_type": "stream",
     "text": [
      "C:\\Users\\POPO\\Anaconda3\\lib\\site-packages\\gensim\\models\\base_any2vec.py:743: UserWarning: C extension not loaded, training will be slow. Install a C compiler and reinstall gensim for fast training.\n",
      "  \"C extension not loaded, training will be slow. \"\n"
     ]
    }
   ],
   "source": [
    "from gensim.models import Word2Vec\n",
    "model = Word2Vec(sent_tokens, min_count=5, size=100, sg=1,iter=10)\n",
    "#https://www.kaggle.com/jerrykuo7727/word2vec"
   ]
  },
  {
   "cell_type": "code",
   "execution_count": 17,
   "metadata": {},
   "outputs": [
    {
     "name": "stdout",
     "output_type": "stream",
     "text": [
      "[-0.04484851  0.3183737   0.3125611   0.07186935 -0.32937127  0.18513188\n",
      "  0.16312055  0.18113694 -0.38665092 -0.42930183  0.2638072   0.14685114\n",
      " -0.6091108   0.1517852  -0.17306504 -0.07450995 -0.03417581 -0.15168747\n",
      "  0.40177685  0.4476324  -0.01454926  0.04296114 -0.29566962 -0.37123504\n",
      " -0.02613176  0.19429591 -0.2077466  -0.03908151  0.33184433  0.48857033\n",
      " -0.18949439  0.51772016  0.2735548   0.43702552 -0.02671506  0.1936086\n",
      "  0.17687665 -0.265081   -0.61368173 -0.13853072  0.01644632  0.23521255\n",
      " -0.21350798  0.2628937   0.12484953 -0.2748076   0.17310207 -0.12097382\n",
      " -0.01023094  0.17623278 -0.23959026  0.49915358  0.15062407  0.20215872\n",
      " -0.00451078  0.01436131  0.41065422  0.10198328 -0.2567169  -0.18313618\n",
      " -0.3685657  -0.00244574 -0.05989822 -0.702093   -0.06907208  0.35239947\n",
      " -0.0567804  -0.15489298 -0.2388634   0.42327425  0.01161093 -0.0057916\n",
      "  0.86040294  0.04909876  0.06552418 -0.033694    0.05229237 -0.17897522\n",
      "  0.6435339  -0.10690913 -0.28422683 -0.266821    0.3521356  -0.09414171\n",
      " -0.05854435 -0.2820807   0.35203376 -0.5787121  -0.02662168  0.29149157\n",
      " -0.17483903  0.30399108 -0.1646632  -0.33845633  0.17821404  0.5688077\n",
      " -0.02931602  0.12061002 -0.16069092  0.0767398 ]\n",
      "100\n"
     ]
    },
    {
     "name": "stderr",
     "output_type": "stream",
     "text": [
      "C:\\Users\\POPO\\Anaconda3\\lib\\site-packages\\ipykernel_launcher.py:1: DeprecationWarning: Call to deprecated `__getitem__` (Method will be removed in 4.0.0, use self.wv.__getitem__() instead).\n",
      "  \"\"\"Entry point for launching an IPython kernel.\n",
      "C:\\Users\\POPO\\Anaconda3\\lib\\site-packages\\ipykernel_launcher.py:3: DeprecationWarning: Call to deprecated `__getitem__` (Method will be removed in 4.0.0, use self.wv.__getitem__() instead).\n",
      "  This is separate from the ipykernel package so we can avoid doing imports until\n"
     ]
    }
   ],
   "source": [
    "print(model[\"class\"])\n",
    "\n",
    "print(len(model[\"class\"]))"
   ]
  },
  {
   "cell_type": "code",
   "execution_count": 18,
   "metadata": {},
   "outputs": [
    {
     "name": "stdout",
     "output_type": "stream",
     "text": [
      "Number of words: 3976\n"
     ]
    }
   ],
   "source": [
    "print(\"Number of words: %d\" % len(model.wv.vocab))"
   ]
  },
  {
   "cell_type": "markdown",
   "metadata": {},
   "source": [
    "## Similarity"
   ]
  },
  {
   "cell_type": "code",
   "execution_count": 19,
   "metadata": {},
   "outputs": [
    {
     "name": "stdout",
     "output_type": "stream",
     "text": [
      "[('riches', 0.8235873579978943), ('greatness', 0.74846351146698), ('population', 0.7343631982803345), ('enjoyments', 0.6993454694747925), ('complement', 0.6942211985588074), ('abundance', 0.6759267449378967), ('declension', 0.6717263460159302), ('populousness', 0.6690629720687866), ('national', 0.662330150604248), ('diminishes', 0.6610269546508789)]\n",
      "[('nations', 0.6955490112304688), ('monarchy', 0.6759740114212036), ('civilized', 0.6356399655342102), ('engross', 0.6346082091331482), ('reside', 0.6284360885620117), ('jealousy', 0.6266876459121704), ('exigency', 0.6218796372413635), ('river', 0.6197736859321594), ('offer', 0.6170259118080139), ('illustration', 0.6154717206954956)]\n",
      "[('holders', 0.6237101554870605), ('paper', 0.6089375019073486), ('receipt', 0.6023333072662354), ('nominal', 0.5801808834075928), ('carcase', 0.5752255916595459), ('bullion', 0.5728284120559692), ('bank', 0.5634946227073669), ('receipts', 0.5519442558288574), ('melted', 0.5519027709960938), ('answering', 0.5507395267486572)]\n"
     ]
    },
    {
     "name": "stderr",
     "output_type": "stream",
     "text": [
      "C:\\Users\\POPO\\Anaconda3\\lib\\site-packages\\ipykernel_launcher.py:1: DeprecationWarning: Call to deprecated `most_similar` (Method will be removed in 4.0.0, use self.wv.most_similar() instead).\n",
      "  \"\"\"Entry point for launching an IPython kernel.\n",
      "C:\\Users\\POPO\\Anaconda3\\lib\\site-packages\\ipykernel_launcher.py:2: DeprecationWarning: Call to deprecated `most_similar` (Method will be removed in 4.0.0, use self.wv.most_similar() instead).\n",
      "  \n",
      "C:\\Users\\POPO\\Anaconda3\\lib\\site-packages\\ipykernel_launcher.py:3: DeprecationWarning: Call to deprecated `most_similar` (Method will be removed in 4.0.0, use self.wv.most_similar() instead).\n",
      "  This is separate from the ipykernel package so we can avoid doing imports until\n"
     ]
    }
   ],
   "source": [
    "print(model.most_similar(\"wealth\"))\n",
    "print(model.most_similar(\"nation\"))\n",
    "print(model.most_similar(\"money\"))"
   ]
  },
  {
   "cell_type": "code",
   "execution_count": 20,
   "metadata": {},
   "outputs": [
    {
     "name": "stdout",
     "output_type": "stream",
     "text": [
      "Distance between class and classes: 0.609714\n",
      "Distance between country and national: 0.570283\n",
      "Distance between rich and poor: 0.759587\n"
     ]
    },
    {
     "name": "stderr",
     "output_type": "stream",
     "text": [
      "C:\\Users\\POPO\\Anaconda3\\lib\\site-packages\\ipykernel_launcher.py:1: DeprecationWarning: Call to deprecated `similarity` (Method will be removed in 4.0.0, use self.wv.similarity() instead).\n",
      "  \"\"\"Entry point for launching an IPython kernel.\n",
      "C:\\Users\\POPO\\Anaconda3\\lib\\site-packages\\ipykernel_launcher.py:2: DeprecationWarning: Call to deprecated `similarity` (Method will be removed in 4.0.0, use self.wv.similarity() instead).\n",
      "  \n",
      "C:\\Users\\POPO\\Anaconda3\\lib\\site-packages\\ipykernel_launcher.py:3: DeprecationWarning: Call to deprecated `similarity` (Method will be removed in 4.0.0, use self.wv.similarity() instead).\n",
      "  This is separate from the ipykernel package so we can avoid doing imports until\n"
     ]
    }
   ],
   "source": [
    "print(\"Distance between %s and %s: %f\" % (\"class\", \"classes\", model.similarity(\"class\", \"classes\")))\n",
    "print(\"Distance between %s and %s: %f\" % (\"country\", \"national\", model.similarity(\"country\", \"nation\")))\n",
    "print(\"Distance between %s and %s: %f\" % (\"rich\", \"poor\", model.similarity(\"rich\", \"poor\")))"
   ]
  },
  {
   "cell_type": "code",
   "execution_count": 21,
   "metadata": {},
   "outputs": [
    {
     "name": "stdout",
     "output_type": "stream",
     "text": [
      "[('labourer', 0.9254930019378662), ('tenant', 0.888738214969635), ('food', 0.8885176181793213), ('clearing', 0.8701487183570862), ('farmer', 0.869392991065979), ('degrade', 0.86702561378479), ('raise', 0.8656668663024902), ('ground-rents', 0.8632464408874512), ('regulates', 0.8560130000114441), ('hardship', 0.8555074334144592)]\n"
     ]
    },
    {
     "name": "stderr",
     "output_type": "stream",
     "text": [
      "C:\\Users\\POPO\\Anaconda3\\lib\\site-packages\\ipykernel_launcher.py:2: DeprecationWarning: Call to deprecated `most_similar_cosmul` (Method will be removed in 4.0.0, use self.wv.most_similar_cosmul() instead).\n",
      "  \n"
     ]
    }
   ],
   "source": [
    "#  Capital : Landlord = Labour : ?\n",
    "print(model.most_similar_cosmul([\"landlord\", \"labour\"], [\"capital\"]))"
   ]
  },
  {
   "cell_type": "markdown",
   "metadata": {},
   "source": [
    "## Visualization"
   ]
  },
  {
   "cell_type": "code",
   "execution_count": 22,
   "metadata": {},
   "outputs": [],
   "source": [
    "%matplotlib inline\n",
    "import matplotlib.pyplot as plt"
   ]
  },
  {
   "cell_type": "code",
   "execution_count": 23,
   "metadata": {},
   "outputs": [
    {
     "data": {
      "image/png": "[encoded data removed]",
      "text/plain": [
       "<Figure size 432x288 with 1 Axes>"
      ]
     },
     "metadata": {},
     "output_type": "display_data"
    }
   ],
   "source": [
    "plt.scatter(x=[1, 3], y=[-2, 4])\n",
    "plt.axis('equal');"
   ]
  },
  {
   "cell_type": "markdown",
   "metadata": {},
   "source": [
    "## Principal Component Analysis"
   ]
  },
  {
   "cell_type": "code",
   "execution_count": 24,
   "metadata": {},
   "outputs": [
    {
     "name": "stderr",
     "output_type": "stream",
     "text": [
      "C:\\Users\\POPO\\Anaconda3\\lib\\site-packages\\ipykernel_launcher.py:7: DeprecationWarning: Call to deprecated `__getitem__` (Method will be removed in 4.0.0, use self.wv.__getitem__() instead).\n",
      "  import sys\n"
     ]
    },
    {
     "data": {
      "text/plain": [
       "PCA(copy=True, iterated_power='auto', n_components=2, random_state=None,\n",
       "    svd_solver='auto', tol=0.0, whiten=False)"
      ]
     },
     "execution_count": 24,
     "metadata": {},
     "output_type": "execute_result"
    }
   ],
   "source": [
    "from sklearn.decomposition import PCA\n",
    "pca = PCA(n_components=2)\n",
    "\n",
    "words = [\"landlord\", \"labour\", \"labourer\", \"class\", \"rich\", \"money\", \"wealth\", \"farmer\"]\n",
    "X = []\n",
    "for word in words:\n",
    "    X.append(model[word])\n",
    "pca.fit(X)"
   ]
  },
  {
   "cell_type": "code",
   "execution_count": 25,
   "metadata": {},
   "outputs": [
    {
     "name": "stdout",
     "output_type": "stream",
     "text": [
      "[[-0.40260084 -1.58901857]\n",
      " [-1.40387796  0.43812141]\n",
      " [-0.27340152 -0.28295899]\n",
      " [-0.47293401  0.8407073 ]\n",
      " [-0.11379997  0.77205261]\n",
      " [ 2.9155449  -0.39508147]\n",
      " [ 0.32175258  1.85859065]\n",
      " [-0.57068317 -1.64241295]]\n"
     ]
    }
   ],
   "source": [
    "points = pca.transform(X)\n",
    "\n",
    "print(points)"
   ]
  },
  {
   "cell_type": "code",
   "execution_count": 26,
   "metadata": {},
   "outputs": [
    {
     "data": {
      "image/png": "[encoded data removed]",
      "text/plain": [
       "<Figure size 432x288 with 1 Axes>"
      ]
     },
     "metadata": {},
     "output_type": "display_data"
    }
   ],
   "source": [
    "for i in range(len(points)):\n",
    "    label = words[i]\n",
    "    x = points[i][0]\n",
    "    y = points[i][1]\n",
    "    plt.scatter(x, y)\n",
    "    plt.annotate(label, xy=(x, y))\n",
    "plt.axis('equal');"
   ]
  },
  {
   "cell_type": "code",
   "execution_count": 27,
   "metadata": {},
   "outputs": [
    {
     "data": {
      "image/png": "[encoded data removed]",
      "text/plain": [
       "<Figure size 432x288 with 1 Axes>"
      ]
     },
     "metadata": {},
     "output_type": "display_data"
    }
   ],
   "source": [
    "from sklearn.decomposition import PCA\n",
    "pca = PCA(n_components=2)\n",
    "\n",
    "words = [\"france\", \"usa\", \"uk\", \"china\", \"taiwan\", \"german\", \"italy\", \"ireland\", \"england\", \"scotland\", \"japan\", \"india\", \"russia\"]\n",
    "X = []\n",
    "for word in words:\n",
    "    X.append(w2v[word])\n",
    "pca.fit(X)\n",
    "points = pca.transform(X)\n",
    "\n",
    "for i in range(len(points)):\n",
    "    label = words[i]\n",
    "    x = points[i][0]\n",
    "    y = points[i][1]\n",
    "    plt.scatter(x, y)\n",
    "    plt.annotate(label, xy=(x, y))\n",
    "plt.axis('equal');"
   ]
  },
  {
   "cell_type": "code",
   "execution_count": null,
   "metadata": {},
   "outputs": [],
   "source": []
  }
 ],
 "metadata": {
  "kernelspec": {
   "display_name": "Python 3",
   "language": "python",
   "name": "python3"
  },
  "language_info": {
   "codemirror_mode": {
    "name": "ipython",
    "version": 3
   },
   "file_extension": ".py",
   "mimetype": "text/x-python",
   "name": "python",
   "nbconvert_exporter": "python",
   "pygments_lexer": "ipython3",
   "version": "3.6.5"
  }
 },
 "nbformat": 4,
 "nbformat_minor": 1
}
