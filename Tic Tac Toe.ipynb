{
 "cells": [
  {
   "cell_type": "code",
   "execution_count": 1,
   "metadata": {},
   "outputs": [],
   "source": [
    "from  random import randint\n",
    "from IPython.display import clear_output"
   ]
  },
  {
   "cell_type": "code",
   "execution_count": 2,
   "metadata": {},
   "outputs": [],
   "source": [
    "def draw(board):\n",
    "    \"\"\"\n",
    "    Draw the `board` table.\n",
    "    \n",
    "    The board reflects the current state of the game, a number indicates an available location.\n",
    "      \n",
    "    args:\n",
    "        board: 3x3 table (list of lists) containing the current state of the game\n",
    "        \n",
    "    returns:\n",
    "        None\n",
    "        \n",
    "    examples:\n",
    "        At the beginning of the game: board = [['7', '8', '9'], ['4', '5', '6'], ['1', '2', '3']]\n",
    "        The printout should look like:\n",
    "\n",
    "         7 | 8 | 9 \n",
    "        -----------\n",
    "         4 | 5 | 6 \n",
    "        -----------\n",
    "         1 | 2 | 3 \n",
    "\n",
    "         After a few marks: board = [['7', '8', 'X'], ['O', 'O', '6'], ['1', 'X', '3']]\n",
    "         The printout should look like:\n",
    "         7 | 8 | X \n",
    "        -----------\n",
    "         O | O | 6 \n",
    "        -----------\n",
    "         1 | X | 3 \n",
    "    \"\"\"\n",
    "    for i in range(len(board)):\n",
    "        for j in range(len(board[i])-1):\n",
    "            print(\" \",end=\"\")\n",
    "            print(board[i][j], end=\"\")\n",
    "            print(\" \",end=\"\")\n",
    "            print(\"|\",end=\"\")\n",
    "        print(\" \",end=\"\")\n",
    "        print(board[i][j+1])\n",
    "        if i!=2:\n",
    "            print(\"-----------\")\n",
    "    return None"
   ]
  },
  {
   "cell_type": "code",
   "execution_count": 3,
   "metadata": {},
   "outputs": [
    {
     "name": "stdout",
     "output_type": "stream",
     "text": [
      " 7 | 8 | X\n",
      "-----------\n",
      " O | O | 6\n",
      "-----------\n",
      " 1 | X | 3\n"
     ]
    }
   ],
   "source": [
    "draw( [['7', '8', 'X'], ['O', 'O', '6'], ['1', 'X', '3']])"
   ]
  },
  {
   "cell_type": "code",
   "execution_count": 4,
   "metadata": {},
   "outputs": [],
   "source": [
    "def available(location, board):\n",
    "    \"\"\"\n",
    "    Check the availability of a `location` on the current `board`\n",
    "    \n",
    "    An available location on the board contains a number between 1 and 9 stored as a string.\n",
    "    If the location contains 'X' or 'O', the location is not available and the function should return False;\n",
    "    otherwise, the function should return True indicating the location is available\n",
    "    \n",
    "    args:\n",
    "        location: a number between 1 and 9 stored as a string\n",
    "        board: 3x3 table (list of lists) containing the current state of the game\n",
    "    \n",
    "    returns:\n",
    "        True if the location is available. False if the location is not available\n",
    "        \n",
    "    examples:\n",
    "        At the beginning of the game: board = [['7', '8', '9'], ['4', '5', '6'], ['1', '2', '3']]\n",
    "        The printout should look like:\n",
    "\n",
    "         7 | 8 | 9 \n",
    "        -----------\n",
    "         4 | 5 | 6 \n",
    "        -----------\n",
    "         1 | 2 | 3 \n",
    "         \n",
    "         available(\"1\", board) --> returns True\n",
    "         available(\"9\", board) --> returns True\n",
    "\n",
    "\n",
    "         After a few marks: board = [['7', '8', 'X'], ['O', 'O', '6'], ['1', 'X', '3']]\n",
    "         The printout should look like:\n",
    "         7 | 8 | X \n",
    "        -----------\n",
    "         O | O | 6 \n",
    "        -----------\n",
    "         1 | X | 3 \n",
    "        \n",
    "         available(\"1\", board) --> returns True, because there is a number\n",
    "         available(\"5\", board) --> returns False, because there is 'O'\n",
    "         available(\"9\", board) --> returns False, because there is 'X'\n",
    "    \"\"\"\n",
    "    #TODO\n",
    "    ans=[]\n",
    "    for i in range(len(board)):\n",
    "        for j in range(len(board[i])):\n",
    "            ans.append(board[i][j])\n",
    "    if location in ans:\n",
    "        return True\n",
    "    else:\n",
    "        return False"
   ]
  },
  {
   "cell_type": "code",
   "execution_count": 5,
   "metadata": {},
   "outputs": [],
   "source": [
    "board = [['7', '8', 'X'], ['O', 'O', '6'], ['1', 'X', '3']]"
   ]
  },
  {
   "cell_type": "code",
   "execution_count": 6,
   "metadata": {},
   "outputs": [
    {
     "name": "stdout",
     "output_type": "stream",
     "text": [
      "True\n",
      "False\n",
      "False\n"
     ]
    }
   ],
   "source": [
    "print(available(\"1\", board)) \n",
    "print(available(\"5\", board)) \n",
    "print(available(\"9\", board))"
   ]
  },
  {
   "cell_type": "code",
   "execution_count": 7,
   "metadata": {},
   "outputs": [],
   "source": [
    "def mark(player, location, board):\n",
    "    \"\"\"\n",
    "    Mark `location` on the `board` with the `player` symbol.\n",
    "    \n",
    "    Should replace the `location` number on the board with `X` or `O`\n",
    "    \n",
    "    args:\n",
    "        player: player's symbol, either 'X' or 'O'\n",
    "        location: a number between 1 and 9 stored as a string\n",
    "        board: 3x3 table (list of lists) containing the current state of the game\n",
    "    \n",
    "    returns:\n",
    "        None\n",
    "        \n",
    "    examples:\n",
    "        At the beginning of the game: board = [['7', '8', '9'], ['4', '5', '6'], ['1', '2', '3']]\n",
    "        The printout should look like:\n",
    "\n",
    "         7 | 8 | 9 \n",
    "        -----------\n",
    "         4 | 5 | 6 \n",
    "        -----------\n",
    "         1 | 2 | 3 \n",
    "         \n",
    "         After mark('O', '4', board)\n",
    "         The printout should look like:\n",
    "         7 | 8 | 9 \n",
    "        -----------\n",
    "         O | 5 | 6 \n",
    "        -----------\n",
    "         1 | 2 | 3 \n",
    "        \n",
    "         After mark('X', '3', board)\n",
    "         The printout should look like:\n",
    "         7 | 8 | 9 \n",
    "        -----------\n",
    "         O | 5 | 6 \n",
    "        -----------\n",
    "         1 | 2 | X \n",
    "         \n",
    "         After mark('O', '9', board)\n",
    "         The printout should look like:\n",
    "         7 | 8 | O \n",
    "        -----------\n",
    "         O | 5 | 6 \n",
    "        -----------\n",
    "         1 | 2 | X \n",
    "    \"\"\"\n",
    "    for i in range(len(board)):\n",
    "        for j in range(len(board[i])):\n",
    "            if board[i][j]==location:\n",
    "                board[i][j]=player\n",
    "            else:\n",
    "                board[i][j]=board[i][j]\n",
    "    \n",
    "    return draw(board)"
   ]
  },
  {
   "cell_type": "code",
   "execution_count": 8,
   "metadata": {},
   "outputs": [
    {
     "name": "stdout",
     "output_type": "stream",
     "text": [
      " 7 | 8 | 9\n",
      "-----------\n",
      " O | 5 | 6\n",
      "-----------\n",
      " 1 | 2 | 3\n"
     ]
    }
   ],
   "source": [
    "board = [['7', '8', '9'], ['4', '5', '6'], ['1', '2', '3']]\n",
    "mark('O', '4', board)"
   ]
  },
  {
   "cell_type": "code",
   "execution_count": 9,
   "metadata": {},
   "outputs": [
    {
     "name": "stdout",
     "output_type": "stream",
     "text": [
      " 7 | 8 | 9\n",
      "-----------\n",
      " O | 5 | 6\n",
      "-----------\n",
      " 1 | 2 | X\n"
     ]
    }
   ],
   "source": [
    " mark('X', '3', board)"
   ]
  },
  {
   "cell_type": "code",
   "execution_count": 10,
   "metadata": {},
   "outputs": [],
   "source": [
    "def check_win(board):\n",
    "    ans=False\n",
    "    for i in range(len(board)):\n",
    "        if board[i][0]==board[i][1] and board[i][1]==board[i][2]:\n",
    "            ans=True\n",
    "        if board[0][i]==board[1][i] and board[1][i]==board[2][i]:\n",
    "            ans=True\n",
    "    if board[0][0]==board[1][1] and board[1][1]==board[2][2]:\n",
    "        ans=True\n",
    "    if board[0][2]==board[1][1] and board[1][1]==board[2][0]:\n",
    "        ans=True\n",
    "    return ans"
   ]
  },
  {
   "cell_type": "code",
   "execution_count": 11,
   "metadata": {},
   "outputs": [
    {
     "data": {
      "text/plain": [
       "False"
      ]
     },
     "execution_count": 11,
     "metadata": {},
     "output_type": "execute_result"
    }
   ],
   "source": [
    "board = [['o', '8', '9'], ['4', 'x', 'x'], ['x', 'o', 'o']]\n",
    "check_win(board)"
   ]
  },
  {
   "cell_type": "code",
   "execution_count": 13,
   "metadata": {},
   "outputs": [],
   "source": [
    "def dashes():\n",
    "    \"\"\"Print a fancy line of dashes\"\"\"\n",
    "    print(\"o\" + 35 *'-' + \"o\")"
   ]
  },
  {
   "cell_type": "code",
   "execution_count": 14,
   "metadata": {},
   "outputs": [],
   "source": [
    "def display(message):\n",
    "    \"\"\"\n",
    "    Print `message` in the center of a 35 characters string\n",
    "    \n",
    "    args:\n",
    "        message: string to display\n",
    "    \n",
    "    returns:\n",
    "        None\n",
    "    \"\"\"\n",
    "    print(\"|{:^35s}|\".format(message))"
   ]
  },
  {
   "cell_type": "code",
   "execution_count": 15,
   "metadata": {},
   "outputs": [],
   "source": [
    "def check_tie(board):\n",
    "    \"\"\"\n",
    "    Check the game for a tie, no available locations and no winners.\n",
    "    \n",
    "    args:\n",
    "        board: 3x3 table (list of lists) containing the current state of the game\n",
    "        \n",
    "    returns:\n",
    "        True if there is a tie. False the board is not full yet or there is a winner\n",
    "        \n",
    "    examples:\n",
    "\n",
    "         O | O | X \n",
    "        -----------\n",
    "         X | X | O \n",
    "        -----------\n",
    "         O | O | X \n",
    "         \n",
    "        check_tie(board) --> returns True\n",
    "         \n",
    "\n",
    "\n",
    "         O | O | 9 \n",
    "        -----------\n",
    "         X | X | 6 \n",
    "        -----------\n",
    "         X | O | 3 \n",
    "         \n",
    "        check_tie(board) --> returns False, because there are still available location\n",
    "    \"\"\"\n",
    "    ans=False\n",
    "    if check_win(board)==True:\n",
    "        ans=False\n",
    "    newlist=[]\n",
    "    for i in range(len(board)):\n",
    "        for j in range(len(board[i])):\n",
    "            newlist.append(board[i][j])\n",
    "    new=[x for x in newlist if x.isdigit()]\n",
    "    if new==[]:\n",
    "        if check_win(board)==False:\n",
    "            ans=True\n",
    "    if new!=[]:\n",
    "        ans=False\n",
    "    return ans"
   ]
  },
  {
   "cell_type": "code",
   "execution_count": 16,
   "metadata": {},
   "outputs": [
    {
     "data": {
      "text/plain": [
       "True"
      ]
     },
     "execution_count": 16,
     "metadata": {},
     "output_type": "execute_result"
    }
   ],
   "source": [
    "board = [['o', 'o', 'x'], ['x', 'x', 'o'], ['o', 'o', 'x']]\n",
    "check_tie(board)"
   ]
  },
  {
   "cell_type": "code",
   "execution_count": 17,
   "metadata": {},
   "outputs": [],
   "source": [
    "def main():\n",
    "    # initializing game\n",
    "    board = [['7', '8', '9'], ['4', '5', '6'], ['1', '2', '3']]\n",
    "    # select the first player randomly\n",
    "    player = ['X', 'O']\n",
    "    turn = randint(0, 1)\n",
    "    win = False\n",
    "    tie = False\n",
    "    while(not win and not tie):\n",
    "        # switch players\n",
    "        turn = (turn + 1) % 2\n",
    "        current_player = player[turn] # contains 'X' or 'O'\n",
    "        clear_output()\n",
    "\n",
    "        \n",
    "        # display header\n",
    "        dashes()\n",
    "        display(\"TIC TAC TOE\")\n",
    "        dashes()\n",
    "        \n",
    "        # display game board\n",
    "        print()\n",
    "        draw(board)\n",
    "        print()\n",
    "\n",
    "        # display footer\n",
    "        dashes()\n",
    "        # player select a location to mark\n",
    "        while True:\n",
    "            location = input(\"|{:s} Turn, select a number (1, 9): \".format(current_player))\n",
    "            if available(location, board):\n",
    "                break # Only the user input loop, main loop does NOT break\n",
    "            else:\n",
    "                print(\"Selection not available!\")\n",
    "        dashes()\n",
    "        # mark selected location with player symbol ('X' or 'O')\n",
    "        mark(current_player, location, board)\n",
    "        # check for win(每下一步都去檢查輸贏或是平手)\n",
    "        win = check_win(board)\n",
    "        # check for tie\n",
    "        tie = check_tie(board)\n",
    "    # Display game over message after a win or a tie\n",
    "    clear_output()\n",
    "    # display header\n",
    "    dashes()\n",
    "    display(\"TIC TAC TOE\")\n",
    "    dashes()\n",
    "    # display game board (Necessary to draw the latest selection)\n",
    "    print()\n",
    "    draw(board)\n",
    "    print()\n",
    "\n",
    "    # display footer\n",
    "    dashes()\n",
    "    display(\"Game Over!\")\n",
    "    if(tie):\n",
    "        display(\"Tie!\")\n",
    "    elif(win):\n",
    "        display(\"Winner:\")\n",
    "        display(current_player)\n",
    "    dashes()"
   ]
  },
  {
   "cell_type": "code",
   "execution_count": 18,
   "metadata": {},
   "outputs": [
    {
     "name": "stdout",
     "output_type": "stream",
     "text": [
      "o-----------------------------------o\n",
      "|            TIC TAC TOE            |\n",
      "o-----------------------------------o\n",
      "\n",
      " O | 8 | 9\n",
      "-----------\n",
      " X | O | X\n",
      "-----------\n",
      " 1 | 2 | O\n",
      "\n",
      "o-----------------------------------o\n",
      "|            Game Over!             |\n",
      "|              Winner:              |\n",
      "|                 O                 |\n",
      "o-----------------------------------o\n"
     ]
    }
   ],
   "source": [
    "main()"
   ]
  },
  {
   "cell_type": "code",
   "execution_count": null,
   "metadata": {},
   "outputs": [],
   "source": []
  },
  {
   "cell_type": "code",
   "execution_count": null,
   "metadata": {},
   "outputs": [],
   "source": []
  }
 ],
 "metadata": {
  "kernelspec": {
   "display_name": "Python 3",
   "language": "python",
   "name": "python3"
  },
  "language_info": {
   "codemirror_mode": {
    "name": "ipython",
    "version": 3
   },
   "file_extension": ".py",
   "mimetype": "text/x-python",
   "name": "python",
   "nbconvert_exporter": "python",
   "pygments_lexer": "ipython3",
   "version": "3.7.0"
  }
 },
 "nbformat": 4,
 "nbformat_minor": 2
}
