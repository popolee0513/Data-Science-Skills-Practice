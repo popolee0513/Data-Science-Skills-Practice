{
 "cells": [
  {
   "cell_type": "code",
   "execution_count": 1,
   "metadata": {},
   "outputs": [
    {
     "name": "stdout",
     "output_type": "stream",
     "text": [
      "Cannot divide by zero!\n",
      "Program is still running\n"
     ]
    }
   ],
   "source": [
    "try:\n",
    "    5/0  #code that may raise an exception\n",
    "except ZeroDivisionError:   #error type\n",
    "    print(\"Cannot divide by zero!\")  #code block to handle exception\n",
    "\n",
    "print(\"Program is still running\")"
   ]
  },
  {
   "cell_type": "code",
   "execution_count": 2,
   "metadata": {},
   "outputs": [
    {
     "name": "stdout",
     "output_type": "stream",
     "text": [
      "Cannot divide strings\n",
      "5.0\n",
      "print executed\n",
      "6.0\n",
      "print executed\n",
      "Cannot access out of range elements\n",
      "Cannot access out of range elements\n"
     ]
    }
   ],
   "source": [
    "lst = ['text', 5, 12]\n",
    "for i in range(5):\n",
    "    try:        \n",
    "        print(lst[i] / i)\n",
    "        print(\"print executed\")\n",
    "    except TypeError:\n",
    "        print(\"Cannot divide strings\")\n",
    "    except IndexError:\n",
    "        print(\"Cannot access out of range elements\")"
   ]
  },
  {
   "cell_type": "code",
   "execution_count": 3,
   "metadata": {},
   "outputs": [
    {
     "name": "stdout",
     "output_type": "stream",
     "text": [
      "Unexpected error\n"
     ]
    }
   ],
   "source": [
    "x = [5]\n",
    "try:\n",
    "    x / 0\n",
    "except ZeroDivisionError:\n",
    "    print(\"Cannot divide by zero!\")\n",
    "except:   #code block to handle unexpected exceptions of any type\n",
    "    print(\"Unexpected error\")"
   ]
  },
  {
   "cell_type": "code",
   "execution_count": 4,
   "metadata": {},
   "outputs": [
    {
     "name": "stdout",
     "output_type": "stream",
     "text": [
      "1.5\n",
      "All good! No exceptions were raised.\n"
     ]
    }
   ],
   "source": [
    "x = 3\n",
    "y = 2\n",
    "try:\n",
    "    print(x/y)\n",
    "except ZeroDivisionError:\n",
    "    print(\"Cannot divide by zero\")\n",
    "else: # code block to run when no exceptions were raised\n",
    "    print(\"All good! No exceptions were raised.\")"
   ]
  },
  {
   "cell_type": "code",
   "execution_count": 5,
   "metadata": {},
   "outputs": [
    {
     "name": "stdout",
     "output_type": "stream",
     "text": [
      "Cannot divide by zero\n",
      "Code that will run whether an exception was raised or not\n"
     ]
    }
   ],
   "source": [
    "x = 3\n",
    "y = 0\n",
    "try:\n",
    "    print(x/y)\n",
    "except ZeroDivisionError:\n",
    "    print(\"Cannot divide by zero\")\n",
    "finally: #code that will always execute whether an exception was raised or not\n",
    "    print(\"Code that will run whether an exception was raised or not\")"
   ]
  },
  {
   "cell_type": "code",
   "execution_count": 6,
   "metadata": {},
   "outputs": [
    {
     "name": "stdout",
     "output_type": "stream",
     "text": [
      "Enter a number between 1 and 10: 666\n",
      "The number is outside of the acceptable range\n",
      "Enter a number between 1 and 10: popo\n",
      "invalid literal for int() with base 10: 'popo'\n",
      "Enter a number between 1 and 10: 6\n",
      "6 was accepted\n"
     ]
    }
   ],
   "source": [
    "def isValid(num):\n",
    "    if ((num < 1) or (num > 10)):\n",
    "        raise ValueError(\"The number is outside of the acceptable range\") \n",
    "        #The ExceptionType can be one of the built-in exceptions supported by Python, or you can define a new type.\n",
    "    else:\n",
    "        return num\n",
    "\n",
    "valid = False\n",
    "while not valid:\n",
    "    try:\n",
    "        x = int(input(\"Enter a number between 1 and 10: \"))\n",
    "        x = isValid(x)\n",
    "        valid = True\n",
    "    except ValueError as except_object:\n",
    "        print(\"{}\".format(except_object))\n",
    "\n",
    "print(\"{:d} was accepted\".format(x))"
   ]
  },
  {
   "cell_type": "code",
   "execution_count": 8,
   "metadata": {},
   "outputs": [
    {
     "name": "stdout",
     "output_type": "stream",
     "text": [
      "math domain error\n"
     ]
    }
   ],
   "source": [
    "from math import sqrt\n",
    "x = -3\n",
    "try:\n",
    "    sqrt(x)\n",
    "except ValueError as exception_object: # Storing the error message in exception_object\n",
    "    print(exception_object)"
   ]
  },
  {
   "cell_type": "code",
   "execution_count": 7,
   "metadata": {},
   "outputs": [
    {
     "ename": "ValueError",
     "evalue": "math domain error",
     "output_type": "error",
     "traceback": [
      "\u001b[1;31m---------------------------------------------------------------------------\u001b[0m",
      "\u001b[1;31mValueError\u001b[0m                                Traceback (most recent call last)",
      "\u001b[1;32m<ipython-input-7-5249446c7aca>\u001b[0m in \u001b[0;36m<module>\u001b[1;34m()\u001b[0m\n\u001b[0;32m      1\u001b[0m \u001b[1;32mfrom\u001b[0m \u001b[0mmath\u001b[0m \u001b[1;32mimport\u001b[0m \u001b[0msqrt\u001b[0m\u001b[1;33m\u001b[0m\u001b[0m\n\u001b[0;32m      2\u001b[0m \u001b[0mx\u001b[0m \u001b[1;33m=\u001b[0m \u001b[1;33m-\u001b[0m\u001b[1;36m3\u001b[0m\u001b[1;33m\u001b[0m\u001b[0m\n\u001b[1;32m----> 3\u001b[1;33m \u001b[0msqrt\u001b[0m\u001b[1;33m(\u001b[0m\u001b[0mx\u001b[0m\u001b[1;33m)\u001b[0m\u001b[1;33m\u001b[0m\u001b[0m\n\u001b[0m",
      "\u001b[1;31mValueError\u001b[0m: math domain error"
     ]
    }
   ],
   "source": [
    "from math import sqrt\n",
    "x = -3\n",
    "sqrt(x)"
   ]
  },
  {
   "cell_type": "code",
   "execution_count": 9,
   "metadata": {},
   "outputs": [
    {
     "name": "stdout",
     "output_type": "stream",
     "text": [
      "List appended with 2.0\n",
      "Cannot divide 12 by <class 'str'>\n",
      "Cannot divide 12 by <class 'list'>\n",
      "Cannot divide by 0\n",
      "List appended with 4.0\n",
      "Unexpected error: list index out of range\n",
      "\n",
      "The new list is: [2.0, 4.0]\n"
     ]
    }
   ],
   "source": [
    "old_lst = [6, 'word', [2, 5], 0, 3]\n",
    "new_lst = []\n",
    "\n",
    "for i in range(6):\n",
    "    try:\n",
    "        tmp = 12 / old_lst[i]\n",
    "        new_lst.append(tmp)\n",
    "        print(\"List appended with\", tmp)\n",
    "    except TypeError:\n",
    "        print(\"Cannot divide {0:d} by {1:}\".format(12, type(old_lst[i])))\n",
    "    except ZeroDivisionError:\n",
    "        print(\"Cannot divide by 0\")\n",
    "    # Handling unexpected exceptions, by showing the associated error message\n",
    "    except Exception as exception_object:\n",
    "        print(\"Unexpected error: {0:}\".format(exception_object))\n",
    "        \n",
    "print()\n",
    "print(\"The new list is:\", new_lst)"
   ]
  },
  {
   "cell_type": "code",
   "execution_count": null,
   "metadata": {},
   "outputs": [],
   "source": []
  }
 ],
 "metadata": {
  "kernelspec": {
   "display_name": "Python 3",
   "language": "python",
   "name": "python3"
  },
  "language_info": {
   "codemirror_mode": {
    "name": "ipython",
    "version": 3
   },
   "file_extension": ".py",
   "mimetype": "text/x-python",
   "name": "python",
   "nbconvert_exporter": "python",
   "pygments_lexer": "ipython3",
   "version": "3.7.0"
  }
 },
 "nbformat": 4,
 "nbformat_minor": 2
}
