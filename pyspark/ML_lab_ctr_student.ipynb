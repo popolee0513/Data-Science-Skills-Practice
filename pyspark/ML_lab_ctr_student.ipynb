{
  "nbformat": 4,
  "nbformat_minor": 0,
  "metadata": {
    "colab": {
      "name": "ML_lab_ctr_student.ipynb",
      "provenance": [],
      "collapsed_sections": []
    },
    "language_info": {
      "name": "python"
    },
    "kernelspec": {
      "name": "python3",
      "display_name": "Python 3"
    }
  },
  "cells": [
    {
      "cell_type": "markdown",
      "metadata": {
        "id": "WvAxUNFz75Mt"
      },
      "source": [
        "![ML Logo](http://spark-mooc.github.io/web-assets/images/CS190.1x_Banner_300.png)\n",
        "# **Click-Through Rate Prediction Lab**\n",
        "#### This lab covers the steps for creating a click-through rate (CTR) prediction pipeline.  You will work with the [Criteo Labs](http://labs.criteo.com/) dataset that was used for a recent [Kaggle competition](https://www.kaggle.com/c/criteo-display-ad-challenge).\n",
        "#### ** This lab will cover: **\n",
        "+  ####*Part 1:* Featurize categorical data using one-hot-encoding (OHE)\n",
        "+  ####*Part 2:* Construct an OHE dictionary\n",
        "+  ####*Part 3:* Parse CTR data and generate OHE features\n",
        " + #### *Visualization 1:* Feature frequency\n",
        "+  ####*Part 4:* CTR prediction and logloss evaluation\n",
        " + #### *Visualization 2:* ROC curve\n",
        "\n",
        " \n",
        "#### Note that, for reference, you can look up the details of the relevant Spark methods in [Spark's Python API](https://spark.apache.org/docs/latest/api/python/pyspark.html#pyspark.RDD) and the relevant NumPy methods in the [NumPy Reference](http://docs.scipy.org/doc/numpy/reference/index.html)"
      ]
    },
    {
      "cell_type": "code",
      "metadata": {
        "colab": {
          "base_uri": "https://localhost:8080/"
        },
        "id": "Pted355P75My",
        "outputId": "cc23a954-b9ea-4005-eb04-9af0059e74f3"
      },
      "source": [
        "from google.colab import drive\n",
        "drive.mount('/content/drive/')\n",
        "%cd /content/drive/My Drive/Colab Notebooks/\n",
        "!apt-get -y install openjdk-8-jre-headless\n",
        "!pip install pyspark\n",
        "\n",
        "import pyspark\n",
        "from pyspark import SparkContext as sc\n",
        "from pyspark import SparkConf\n",
        "\n",
        "### The master parameter for a SparkContext determines which type and size of cluster to use\n",
        "### local[K] : run Spark locally with K worker threads \n",
        "### local\t: run Spark locally with one worker thread \n",
        "\n",
        "conf=SparkConf().setAppName(\"miniProject\").setMaster(\"local[*]\")\n",
        "sc=sc.getOrCreate(conf)\n",
        "labVersion = 'cs190_week4_v_1_3'"
      ],
      "execution_count": 1,
      "outputs": [
        {
          "output_type": "stream",
          "name": "stdout",
          "text": [
            "Drive already mounted at /content/drive/; to attempt to forcibly remount, call drive.mount(\"/content/drive/\", force_remount=True).\n",
            "/content/drive/My Drive/Colab Notebooks\n",
            "Reading package lists... Done\n",
            "Building dependency tree       \n",
            "Reading state information... Done\n",
            "openjdk-8-jre-headless is already the newest version (8u292-b10-0ubuntu1~18.04).\n",
            "The following package was automatically installed and is no longer required:\n",
            "  libnvidia-common-460\n",
            "Use 'apt autoremove' to remove it.\n",
            "0 upgraded, 0 newly installed, 0 to remove and 40 not upgraded.\n",
            "Requirement already satisfied: pyspark in /usr/local/lib/python3.7/dist-packages (3.1.2)\n",
            "Requirement already satisfied: py4j==0.10.9 in /usr/local/lib/python3.7/dist-packages (from pyspark) (0.10.9)\n"
          ]
        }
      ]
    },
    {
      "cell_type": "markdown",
      "metadata": {
        "id": "-NIHAmK875Mz"
      },
      "source": [
        "### ** Part 1: Featurize categorical data using one-hot-encoding **"
      ]
    },
    {
      "cell_type": "markdown",
      "metadata": {
        "id": "lDioiA9q75M0"
      },
      "source": [
        "#### ** (1a) One-hot-encoding **\n",
        "#### We would like to develop code to convert categorical features to numerical ones, and to build intuition, we will work with a sample unlabeled dataset with three data points, with each data point representing an animal. The first feature indicates the type of animal (bear, cat, mouse); the second feature describes the animal's color (black, tabby); and the third (optional) feature describes what the animal eats (mouse, salmon).\n",
        "#### In a one-hot-encoding (OHE) scheme, we want to represent each tuple of `(featureID, category)` via its own binary feature.  We can do this in Python by creating a dictionary that maps each tuple to a distinct integer, where the integer corresponds to a binary feature. To start, manually enter the entries in the OHE dictionary associated with the sample dataset by mapping the tuples to consecutive integers starting from zero,  ordering the tuples first by featureID and next by category.\n",
        "#### Later in this lab, we'll use OHE dictionaries to transform data points into compact lists of features that can be used in machine learning algorithms."
      ]
    },
    {
      "cell_type": "code",
      "metadata": {
        "id": "kpFgiO7p75M1"
      },
      "source": [
        "# Data for manual OHE\n",
        "# Note: the first data point does not include any value for the optional third feature\n",
        "sampleOne = [(0, 'mouse'), (1, 'black')]\n",
        "sampleTwo = [(0, 'cat'), (1, 'tabby'), (2, 'mouse')]\n",
        "sampleThree =  [(0, 'bear'), (1, 'black'), (2, 'salmon')]\n",
        "sampleDataRDD = sc.parallelize([sampleOne, sampleTwo, sampleThree])"
      ],
      "execution_count": 2,
      "outputs": []
    },
    {
      "cell_type": "code",
      "metadata": {
        "id": "bwxdBj6r75M1"
      },
      "source": [
        "# TODO: Replace <FILL IN> with appropriate code\n",
        "sampleOHEDictManual = {}\n",
        "sampleOHEDictManual[(0,'bear')] = 0\n",
        "sampleOHEDictManual[(0,'cat')] = 1\n",
        "sampleOHEDictManual[(0,'mouse')] = 2\n",
        "sampleOHEDictManual[(1, 'black')] = 3 \n",
        "sampleOHEDictManual[(1, 'tabby')] = 4\n",
        "sampleOHEDictManual[(2, 'mouse')] = 5\n",
        "sampleOHEDictManual[(2, 'salmon')] = 6"
      ],
      "execution_count": 3,
      "outputs": []
    },
    {
      "cell_type": "code",
      "metadata": {
        "colab": {
          "base_uri": "https://localhost:8080/"
        },
        "id": "NaOp4lNR75M2",
        "outputId": "1bddbe46-9230-4906-c162-1dcf845efc24"
      },
      "source": [
        "# TEST One-hot-encoding (1a)\n",
        "from test_helper import Test\n",
        "\n",
        "Test.assertEquals(len(sampleOHEDictManual.keys()), 7,\n",
        "                  'incorrect number of keys in sampleOHEDictManual')"
      ],
      "execution_count": 4,
      "outputs": [
        {
          "output_type": "stream",
          "name": "stdout",
          "text": [
            "1 test passed.\n"
          ]
        }
      ]
    },
    {
      "cell_type": "markdown",
      "metadata": {
        "id": "cpM7lWZG75M4"
      },
      "source": [
        "#### ** (1b) Sparse vectors **\n",
        "#### Data points can typically be represented with a small number of non-zero OHE features relative to the total number of features that occur in the dataset.  By leveraging this sparsity and using sparse vector representations of OHE data, we can reduce storage and computational burdens.  Below are a few sample vectors represented as dense numpy arrays.  Use [SparseVector](https://spark.apache.org/docs/latest/api/python/pyspark.mllib.html#pyspark.mllib.linalg.SparseVector) to represent them in a sparse fashion, and verify that both the sparse and dense representations yield the same results when computing [dot products](http://en.wikipedia.org/wiki/Dot_product) (we will later use MLlib to train classifiers via gradient descent, and MLlib will need to compute dot products between SparseVectors and dense parameter vectors).\n",
        "#### Use `SparseVector(size, *args)` to create a new sparse vector where size is the length of the vector and args is either a dictionary, a list of (index, value) pairs, or two separate arrays of indices and values (sorted by index).  You'll need to create a sparse vector representation of each dense vector `aDense` and `bDense`."
      ]
    },
    {
      "cell_type": "code",
      "metadata": {
        "id": "gixPVz3675M5"
      },
      "source": [
        "import numpy as np\n",
        "from pyspark.mllib.linalg import SparseVector"
      ],
      "execution_count": 5,
      "outputs": []
    },
    {
      "cell_type": "code",
      "metadata": {
        "colab": {
          "base_uri": "https://localhost:8080/"
        },
        "id": "BixCHIS_75M7",
        "outputId": "ee1a795f-ff1f-4298-d74b-3eca1ccbcce2"
      },
      "source": [
        "# TODO: Replace <FILL IN> with appropriate code\n",
        "aDense = np.array([0., 3., 0., 4.])\n",
        "aSparse = SparseVector(len(aDense),[1,3],[3,4])\n",
        "\n",
        "bDense = np.array([0., 0., 0., 1.])\n",
        "bSparse = SparseVector(len(bDense),[3],[1])\n",
        "\n",
        "w = np.array([0.4, 3.1, -1.4, -.5])\n",
        "print (aDense.dot(w))\n",
        "print (aSparse.dot(w))\n",
        "print (bDense.dot(w))\n",
        "print (bSparse.dot(w))"
      ],
      "execution_count": 6,
      "outputs": [
        {
          "output_type": "stream",
          "name": "stdout",
          "text": [
            "7.300000000000001\n",
            "7.300000000000001\n",
            "-0.5\n",
            "-0.5\n"
          ]
        }
      ]
    },
    {
      "cell_type": "code",
      "metadata": {
        "colab": {
          "base_uri": "https://localhost:8080/"
        },
        "id": "6ifLmIxx75M7",
        "outputId": "081cf5d8-64af-42c9-8e9b-0b92650e2a21"
      },
      "source": [
        "# TEST Sparse Vectors (1b)\n",
        "Test.assertTrue(isinstance(aSparse, SparseVector), 'aSparse needs to be an instance of SparseVector')\n",
        "Test.assertTrue(isinstance(bSparse, SparseVector), 'aSparse needs to be an instance of SparseVector')\n",
        "Test.assertTrue(aDense.dot(w) == aSparse.dot(w),\n",
        "                'dot product of aDense and w should equal dot product of aSparse and w')\n",
        "Test.assertTrue(bDense.dot(w) == bSparse.dot(w),\n",
        "                'dot product of bDense and w should equal dot product of bSparse and w')"
      ],
      "execution_count": 7,
      "outputs": [
        {
          "output_type": "stream",
          "name": "stdout",
          "text": [
            "1 test passed.\n",
            "1 test passed.\n",
            "1 test passed.\n",
            "1 test passed.\n"
          ]
        }
      ]
    },
    {
      "cell_type": "markdown",
      "metadata": {
        "id": "59qCDGiW75M8"
      },
      "source": [
        "#### **(1c) OHE features as sparse vectors **\n",
        "#### Now let's see how we can represent the OHE features for points in our sample dataset.  Using the mapping defined by the OHE dictionary from Part (1a), manually define OHE features for the three sample data points using SparseVector format.  Any feature that occurs in a point should have the value 1.0.  For example, the `DenseVector` for a point with features 2 and 4 would be `[0.0, 0.0, 1.0, 0.0, 1.0, 0.0, 0.0]`."
      ]
    },
    {
      "cell_type": "code",
      "metadata": {
        "colab": {
          "base_uri": "https://localhost:8080/"
        },
        "id": "ioAjomC-75M9",
        "outputId": "d9e95430-8e1e-48b5-c996-d34cad19bbc0"
      },
      "source": [
        "# Reminder of the sample features\n",
        "# sampleOne = [(0, 'mouse'), (1, 'black')]\n",
        "# sampleTwo = [(0, 'cat'), (1, 'tabby'), (2, 'mouse')]\n",
        "# sampleThree =  [(0, 'bear'), (1, 'black'), (2, 'salmon')]\n",
        "sampleOHEDictManual"
      ],
      "execution_count": 8,
      "outputs": [
        {
          "output_type": "execute_result",
          "data": {
            "text/plain": [
              "{(0, 'bear'): 0,\n",
              " (0, 'cat'): 1,\n",
              " (0, 'mouse'): 2,\n",
              " (1, 'black'): 3,\n",
              " (1, 'tabby'): 4,\n",
              " (2, 'mouse'): 5,\n",
              " (2, 'salmon'): 6}"
            ]
          },
          "metadata": {},
          "execution_count": 8
        }
      ]
    },
    {
      "cell_type": "code",
      "metadata": {
        "id": "9AwxKZwX75M9"
      },
      "source": [
        "# TODO: Replace <FILL IN> with appropriate code\n",
        "sampleOneOHEFeatManual = SparseVector(len(sampleOHEDictManual),[2,3] ,[1,1])\n",
        "sampleTwoOHEFeatManual = SparseVector(len(sampleOHEDictManual),[1,4,5] ,[1,1,1])\n",
        "sampleThreeOHEFeatManual = SparseVector(len(sampleOHEDictManual),[0,3,6] ,[1,1,1])"
      ],
      "execution_count": 9,
      "outputs": []
    },
    {
      "cell_type": "code",
      "metadata": {
        "colab": {
          "base_uri": "https://localhost:8080/"
        },
        "id": "_ZmPl1Pt75M9",
        "outputId": "fa6e2ba1-dc85-4254-dbe8-37ffd7656a2c"
      },
      "source": [
        "# TEST OHE Features as sparse vectors (1c)\n",
        "Test.assertTrue(isinstance(sampleOneOHEFeatManual, SparseVector),\n",
        "                'sampleOneOHEFeatManual needs to be a SparseVector')\n",
        "Test.assertTrue(isinstance(sampleTwoOHEFeatManual, SparseVector),\n",
        "                'sampleTwoOHEFeatManual needs to be a SparseVector')\n",
        "Test.assertTrue(isinstance(sampleThreeOHEFeatManual, SparseVector),\n",
        "                'sampleThreeOHEFeatManual needs to be a SparseVector')\n"
      ],
      "execution_count": 10,
      "outputs": [
        {
          "output_type": "stream",
          "name": "stdout",
          "text": [
            "1 test passed.\n",
            "1 test passed.\n",
            "1 test passed.\n"
          ]
        }
      ]
    },
    {
      "cell_type": "markdown",
      "metadata": {
        "id": "q3WAsirr75M-"
      },
      "source": [
        "#### **(1d) Define a OHE function **\n",
        "#### Next we will use the OHE dictionary from Part (1a) to programatically generate OHE features from the original categorical data.  First write a function called `oneHotEncoding` that creates OHE feature vectors in `SparseVector` format.  Then use this function to create OHE features for the first sample data point and verify that the result matches the result from Part (1c)."
      ]
    },
    {
      "cell_type": "code",
      "metadata": {
        "colab": {
          "base_uri": "https://localhost:8080/"
        },
        "id": "6ECktn6175M-",
        "outputId": "d8cea3c9-35ef-4742-8a79-596cc2c3e41f"
      },
      "source": [
        "# TODO: Replace <FILL IN> with appropriate code\n",
        "def oneHotEncoding(rawFeats, OHEDict, numOHEFeats):\n",
        "    \"\"\"Produce a one-hot-encoding from a list of features and an OHE dictionary.\n",
        "\n",
        "    Note:\n",
        "        You should ensure that the indices used to create a SparseVector are sorted.\n",
        "\n",
        "    Args:\n",
        "        rawFeats (list of (int, str)): The features corresponding to a single observation.  Each\n",
        "            feature consists of a tuple of featureID and the feature's value. (e.g. sampleOne)\n",
        "        OHEDict (dict): A mapping of (featureID, value) to unique integer.\n",
        "        numOHEFeats (int): The total number of unique OHE features (combinations of featureID and\n",
        "            value).\n",
        "\n",
        "    Returns:\n",
        "        SparseVector: A SparseVector of length numOHEFeats with indicies equal to the unique\n",
        "            identifiers for the (featureID, value) combinations that occur in the observation and\n",
        "            with values equal to 1.0.\n",
        "    \"\"\"\n",
        "    index = sorted([OHEDict[x] for x in rawFeats])\n",
        "    return SparseVector(numOHEFeats,index,[1]*len(index))\n",
        "\n",
        "\n",
        "# Calculate the number of features in sampleOHEDictManual\n",
        "\n",
        "numSampleOHEFeats = len(sampleOHEDictManual)\n",
        "\n",
        "# Run oneHotEnoding on sampleOne\n",
        "sampleOneOHEFeat = oneHotEncoding(sampleOne,sampleOHEDictManual,numSampleOHEFeats )\n",
        "\n",
        "print (sampleOneOHEFeat)"
      ],
      "execution_count": 11,
      "outputs": [
        {
          "output_type": "stream",
          "name": "stdout",
          "text": [
            "(7,[2,3],[1.0,1.0])\n"
          ]
        }
      ]
    },
    {
      "cell_type": "code",
      "metadata": {
        "colab": {
          "base_uri": "https://localhost:8080/"
        },
        "id": "cN0p9SxR75M_",
        "outputId": "26f6d2eb-8142-4a7e-da12-fb31bc2e8a98"
      },
      "source": [
        "# TEST Define an OHE Function (1d)\n",
        "Test.assertTrue(sampleOneOHEFeat == sampleOneOHEFeatManual,\n",
        "                'sampleOneOHEFeat should equal sampleOneOHEFeatManual')\n",
        "Test.assertEquals(sampleOneOHEFeat, SparseVector(7, [2,3], [1.0,1.0]),\n",
        "                  'incorrect value for sampleOneOHEFeat')\n",
        "Test.assertEquals(oneHotEncoding([(1, 'black'), (0, 'mouse')], sampleOHEDictManual,\n",
        "                                 numSampleOHEFeats), SparseVector(7, [2,3], [1.0,1.0]),\n",
        "                  'incorrect definition for oneHotEncoding')"
      ],
      "execution_count": 12,
      "outputs": [
        {
          "output_type": "stream",
          "name": "stdout",
          "text": [
            "1 test passed.\n",
            "1 test passed.\n",
            "1 test passed.\n"
          ]
        }
      ]
    },
    {
      "cell_type": "markdown",
      "metadata": {
        "id": "YhhpjRgZ75NA"
      },
      "source": [
        "#### **(1e) Apply OHE to a dataset **\n",
        "#### Finally, use the function from Part (1d) to create OHE features for all 3 data points in the sample dataset."
      ]
    },
    {
      "cell_type": "code",
      "metadata": {
        "colab": {
          "base_uri": "https://localhost:8080/"
        },
        "id": "E6T2O-Wa75NA",
        "outputId": "48efa894-c63f-42d1-c263-5c6664da9c2e"
      },
      "source": [
        "# TODO: Replace <FILL IN> with appropriate code\n",
        "sampleOHEData = sampleDataRDD.map(lambda x:oneHotEncoding(x,sampleOHEDictManual,numSampleOHEFeats ))\n",
        "print (sampleOHEData.collect())"
      ],
      "execution_count": 13,
      "outputs": [
        {
          "output_type": "stream",
          "name": "stdout",
          "text": [
            "[SparseVector(7, {2: 1.0, 3: 1.0}), SparseVector(7, {1: 1.0, 4: 1.0, 5: 1.0}), SparseVector(7, {0: 1.0, 3: 1.0, 6: 1.0})]\n"
          ]
        }
      ]
    },
    {
      "cell_type": "code",
      "metadata": {
        "colab": {
          "base_uri": "https://localhost:8080/"
        },
        "id": "LgARAP0G75NB",
        "outputId": "cd4d8afc-8141-4a47-8e05-b8c43ac2b179"
      },
      "source": [
        "# TEST Apply OHE to a dataset (1e)\n",
        "sampleOHEDataValues = sampleOHEData.collect()\n",
        "Test.assertTrue(len(sampleOHEDataValues) == 3, 'sampleOHEData should have three elements')\n",
        "Test.assertEquals(sampleOHEDataValues[0], SparseVector(7, {2: 1.0, 3: 1.0}),\n",
        "                  'incorrect OHE for first sample')\n",
        "Test.assertEquals(sampleOHEDataValues[1], SparseVector(7, {1: 1.0, 4: 1.0, 5: 1.0}),\n",
        "                  'incorrect OHE for second sample')\n",
        "Test.assertEquals(sampleOHEDataValues[2], SparseVector(7, {0: 1.0, 3: 1.0, 6: 1.0}),\n",
        "                  'incorrect OHE for third sample')"
      ],
      "execution_count": 14,
      "outputs": [
        {
          "output_type": "stream",
          "name": "stdout",
          "text": [
            "1 test passed.\n",
            "1 test passed.\n",
            "1 test passed.\n",
            "1 test passed.\n"
          ]
        }
      ]
    },
    {
      "cell_type": "markdown",
      "metadata": {
        "id": "Buna8nki75NB"
      },
      "source": [
        "### ** Part 2: Construct an OHE dictionary **"
      ]
    },
    {
      "cell_type": "markdown",
      "metadata": {
        "id": "upAm6_q175NB"
      },
      "source": [
        "#### **(2a) Pair RDD of `(featureID, category)` **\n",
        "#### To start, create an RDD of distinct `(featureID, category)` tuples. In our sample dataset, the 7 items in the resulting RDD are `(0, 'bear')`, `(0, 'cat')`, `(0, 'mouse')`, `(1, 'black')`, `(1, 'tabby')`, `(2, 'mouse')`, `(2, 'salmon')`. Notably `'black'` appears twice in the dataset but only contributes one item to the RDD: `(1, 'black')`, while `'mouse'` also appears twice and contributes two items: `(0, 'mouse')` and `(2, 'mouse')`.  Use [flatMap](https://spark.apache.org/docs/latest/api/python/pyspark.html#pyspark.RDD.flatMap) and [distinct](https://spark.apache.org/docs/latest/api/python/pyspark.html#pyspark.RDD.distinct)."
      ]
    },
    {
      "cell_type": "code",
      "metadata": {
        "id": "MzKo3SEg75NC"
      },
      "source": [
        "# TODO: Replace <FILL IN> with appropriate code\n",
        "sampleDistinctFeats = (sampleDataRDD\n",
        "                    .flatMap(lambda x:x).distinct())"
      ],
      "execution_count": 15,
      "outputs": []
    },
    {
      "cell_type": "code",
      "metadata": {
        "colab": {
          "base_uri": "https://localhost:8080/"
        },
        "id": "3T3zNOjI75NC",
        "outputId": "677ca7ec-475b-42ad-a467-5fec6d13e148"
      },
      "source": [
        "# TEST Pair RDD of (featureID, category) (2a)\n",
        "Test.assertEquals(sorted(sampleDistinctFeats.collect()),\n",
        "                  [(0, 'bear'), (0, 'cat'), (0, 'mouse'), (1, 'black'),\n",
        "                   (1, 'tabby'), (2, 'mouse'), (2, 'salmon')],\n",
        "                  'incorrect value for sampleDistinctFeats')"
      ],
      "execution_count": 16,
      "outputs": [
        {
          "output_type": "stream",
          "name": "stdout",
          "text": [
            "1 test passed.\n"
          ]
        }
      ]
    },
    {
      "cell_type": "markdown",
      "metadata": {
        "id": "Q8F2TQfq75NC"
      },
      "source": [
        "#### ** (2b) OHE Dictionary from distinct features **\n",
        "#### Next, create an `RDD` of key-value tuples, where each `(featureID, category)` tuple in `sampleDistinctFeats` is a key and the values are distinct integers ranging from 0 to (number of keys - 1).  Then convert this `RDD` into a dictionary, which can be done using the `collectAsMap` action.  Note that there is no unique mapping from keys to values, as all we require is that each `(featureID, category)` key be mapped to a unique integer between 0 and the number of keys.  In this exercise, any valid mapping is acceptable.  Use [zipWithIndex](https://spark.apache.org/docs/latest/api/python/pyspark.html#pyspark.RDD.zipWithIndex) followed by [collectAsMap](https://spark.apache.org/docs/latest/api/python/pyspark.html#pyspark.RDD.collectAsMap).\n",
        "#### In our sample dataset, one valid list of key-value tuples is: `[((0, 'bear'), 0), ((2, 'salmon'), 1), ((1, 'tabby'), 2), ((2, 'mouse'), 3), ((0, 'mouse'), 4), ((0, 'cat'), 5), ((1, 'black'), 6)]`. The dictionary defined in Part (1a) illustrates another valid mapping between keys and integers."
      ]
    },
    {
      "cell_type": "code",
      "metadata": {
        "colab": {
          "base_uri": "https://localhost:8080/"
        },
        "id": "nVehsCj775ND",
        "outputId": "b5c2a2b9-44ec-4c94-867e-12736b9b31ec"
      },
      "source": [
        "# TODO: Replace <FILL IN> with appropriate code\n",
        "sampleOHEDict = (sampleDistinctFeats.zipWithIndex().collectAsMap()\n",
        "                    )\n",
        "print (sampleOHEDict)"
      ],
      "execution_count": 17,
      "outputs": [
        {
          "output_type": "stream",
          "name": "stdout",
          "text": [
            "{(0, 'mouse'): 0, (1, 'black'): 1, (0, 'cat'): 2, (1, 'tabby'): 3, (2, 'mouse'): 4, (0, 'bear'): 5, (2, 'salmon'): 6}\n"
          ]
        }
      ]
    },
    {
      "cell_type": "code",
      "metadata": {
        "colab": {
          "base_uri": "https://localhost:8080/"
        },
        "id": "wFeUeVzt75ND",
        "outputId": "7e74506f-b729-4502-eefc-6bb53b8888a8"
      },
      "source": [
        "# TEST OHE Dictionary from distinct features (2b)\n",
        "Test.assertEquals(sorted(sampleOHEDict.keys()),\n",
        "                  [(0, 'bear'), (0, 'cat'), (0, 'mouse'), (1, 'black'),\n",
        "                   (1, 'tabby'), (2, 'mouse'), (2, 'salmon')],\n",
        "                  'sampleOHEDict has unexpected keys')\n",
        "Test.assertEquals(sorted(sampleOHEDict.values()), list(range(7)), 'sampleOHEDict has unexpected values')"
      ],
      "execution_count": 18,
      "outputs": [
        {
          "output_type": "stream",
          "name": "stdout",
          "text": [
            "1 test passed.\n",
            "1 test passed.\n"
          ]
        }
      ]
    },
    {
      "cell_type": "markdown",
      "metadata": {
        "id": "2O4HsizJ75ND"
      },
      "source": [
        "#### **(2c) Automated creation of an OHE dictionary **\n",
        "#### Now use the code from Parts (2a) and (2b) to write a function that takes an input dataset and outputs an OHE dictionary.  Then use this function to create an OHE dictionary for the sample dataset, and verify that it matches the dictionary from Part (2b)."
      ]
    },
    {
      "cell_type": "code",
      "metadata": {
        "colab": {
          "base_uri": "https://localhost:8080/"
        },
        "id": "ut8jjbje75ND",
        "outputId": "b018eccb-043a-474a-bcd4-c5d245bdfa03"
      },
      "source": [
        "# TODO: Replace <FILL IN> with appropriate code\n",
        "def createOneHotDict(inputData):\n",
        "    \"\"\"Creates a one-hot-encoder dictionary based on the input data.\n",
        "\n",
        "    Args:\n",
        "        inputData (RDD of lists of (int, str)): An RDD of observations where each observation is\n",
        "            made up of a list of (featureID, value) tuples.\n",
        "\n",
        "    Returns:\n",
        "        dict: A dictionary where the keys are (featureID, value) tuples and map to values that are\n",
        "            unique integers.\n",
        "    \"\"\"\n",
        "    DistinctFeats = inputData.flatMap(lambda x:x).distinct()\n",
        "    Dict = DistinctFeats.zipWithIndex().collectAsMap()\n",
        "    return Dict\n",
        "sampleOHEDictAuto = createOneHotDict(sampleDataRDD)\n",
        "print (sampleOHEDictAuto)"
      ],
      "execution_count": 19,
      "outputs": [
        {
          "output_type": "stream",
          "name": "stdout",
          "text": [
            "{(0, 'mouse'): 0, (1, 'black'): 1, (0, 'cat'): 2, (1, 'tabby'): 3, (2, 'mouse'): 4, (0, 'bear'): 5, (2, 'salmon'): 6}\n"
          ]
        }
      ]
    },
    {
      "cell_type": "code",
      "metadata": {
        "colab": {
          "base_uri": "https://localhost:8080/"
        },
        "id": "B6EjOSW775NE",
        "outputId": "4565867c-1b9c-44e1-feca-b64c871979bd"
      },
      "source": [
        "# TEST Automated creation of an OHE dictionary (2c)\n",
        "Test.assertEquals(sorted(sampleOHEDictAuto.keys()),\n",
        "                  [(0, 'bear'), (0, 'cat'), (0, 'mouse'), (1, 'black'),\n",
        "                   (1, 'tabby'), (2, 'mouse'), (2, 'salmon')],\n",
        "                  'sampleOHEDictAuto has unexpected keys')\n",
        "Test.assertEquals(sorted(sampleOHEDictAuto.values()), list(range(7)),\n",
        "                  'sampleOHEDictAuto has unexpected values')"
      ],
      "execution_count": 20,
      "outputs": [
        {
          "output_type": "stream",
          "name": "stdout",
          "text": [
            "1 test passed.\n",
            "1 test passed.\n"
          ]
        }
      ]
    },
    {
      "cell_type": "markdown",
      "metadata": {
        "id": "rNAn5ONI75NE"
      },
      "source": [
        "### **Part 3: Parse CTR data and generate OHE features**"
      ]
    },
    {
      "cell_type": "markdown",
      "metadata": {
        "id": "PyON8g8P75NE"
      },
      "source": [
        "#### Before we can proceed, you'll first need to obtain the data from Criteo.  If you have already completed this step in the setup lab, just run the cells below and the data will be loaded into the `rawData` variable.\n",
        "#### Below is Criteo's data sharing agreement.  After you accept the agreement, you can obtain the download URL by right-clicking on the \"Download Sample\" button and clicking \"Copy link address\" or \"Copy Link Location\", depending on your browser.  Paste the URL into the `# TODO` cell below.  The file is 8.4 MB compressed.  The script below will download the file to the virtual machine (VM) and then extract the data.\n",
        "#### If running the cell below does not render a webpage, open the [Criteo agreement](http://labs.criteo.com/downloads/2014-kaggle-display-advertising-challenge-dataset/) in a separate browser tab.  After you accept the agreement, you can obtain the download URL by right-clicking on the \"Download Sample\" button and clicking \"Copy link address\" or \"Copy Link Location\", depending on your browser.  Paste the URL into the `# TODO` cell below.\n",
        "#### Note that the download could take a few minutes, depending upon your connection speed."
      ]
    },
    {
      "cell_type": "code",
      "metadata": {
        "colab": {
          "base_uri": "https://localhost:8080/"
        },
        "id": "s-MTyTIH75NF",
        "outputId": "c30dd728-ac0a-472d-8040-1a2b887e9346"
      },
      "source": [
        "import os.path\n",
        "\n",
        "inputPath = os.path.join('cs190', 'dac_sample.txt')\n",
        "fileName = inputPath\n",
        "\n",
        "if os.path.isfile(fileName):\n",
        "    rawData = (sc\n",
        "               .textFile(fileName, 2)\n",
        "               .map(lambda x: x.replace('\\t', ',')))  # work with either ',' or '\\t' separated data\n",
        "    print (rawData.take(1))"
      ],
      "execution_count": 21,
      "outputs": [
        {
          "output_type": "stream",
          "name": "stdout",
          "text": [
            "['0,1,1,5,0,1382,4,15,2,181,1,2,,2,68fd1e64,80e26c9b,fb936136,7b4723c4,25c83c98,7e0ccccf,de7995b8,1f89b562,a73ee510,a8cd5504,b2cb9c98,37c9c164,2824a5f6,1adce6ef,8ba8b39a,891b62e7,e5ba7672,f54016b9,21ddcdc9,b1252a9d,07b5194c,,3a171ecb,c5c50484,e8b83407,9727dd16']\n"
          ]
        }
      ]
    },
    {
      "cell_type": "markdown",
      "metadata": {
        "id": "47UfT2FK75NF"
      },
      "source": [
        "#### **(3a) Loading and splitting the data **\n",
        "#### We are now ready to start working with the actual CTR data, and our first task involves splitting it into training, validation, and test sets.  Use the [randomSplit method](https://spark.apache.org/docs/latest/api/python/pyspark.html#pyspark.RDD.randomSplit) with the specified weights and seed to create RDDs storing each of these datasets, and then [cache](https://spark.apache.org/docs/latest/api/python/pyspark.html#pyspark.RDD.cache) each of these RDDs, as we will be accessing them multiple times in the remainder of this lab. Finally, compute the size of each dataset."
      ]
    },
    {
      "cell_type": "code",
      "metadata": {
        "colab": {
          "base_uri": "https://localhost:8080/"
        },
        "id": "LkxOMFWI75NG",
        "outputId": "0238d39b-d911-433e-96f0-64b353e279cf"
      },
      "source": [
        "# TODO: Replace <FILL IN> with appropriate code\n",
        "weights = [.8, .1, .1]\n",
        "seed = 42\n",
        "# Use randomSplit with weights and seed\n",
        "rawTrainData, rawValidationData, rawTestData = rawData.randomSplit([.8, .1, .1],42)\n",
        "# Cache the data\n",
        "rawTrainData.cache()\n",
        "rawValidationData.cache()\n",
        "rawTestData.cache()\n",
        "\n",
        "\n",
        "nTrain = rawTrainData.count()\n",
        "nVal = rawValidationData.count()\n",
        "nTest = rawTestData.count()\n",
        "print (nTrain, nVal, nTest, nTrain + nVal + nTest)\n",
        "print (rawData.take(1))"
      ],
      "execution_count": 22,
      "outputs": [
        {
          "output_type": "stream",
          "name": "stdout",
          "text": [
            "80053 9941 10006 100000\n",
            "['0,1,1,5,0,1382,4,15,2,181,1,2,,2,68fd1e64,80e26c9b,fb936136,7b4723c4,25c83c98,7e0ccccf,de7995b8,1f89b562,a73ee510,a8cd5504,b2cb9c98,37c9c164,2824a5f6,1adce6ef,8ba8b39a,891b62e7,e5ba7672,f54016b9,21ddcdc9,b1252a9d,07b5194c,,3a171ecb,c5c50484,e8b83407,9727dd16']\n"
          ]
        }
      ]
    },
    {
      "cell_type": "code",
      "metadata": {
        "colab": {
          "base_uri": "https://localhost:8080/"
        },
        "id": "V0SvLAEe75NH",
        "outputId": "bd079bf2-e331-4aac-b839-711f9f64f6b9"
      },
      "source": [
        "# TEST Loading and splitting the data (3a)\n",
        "Test.assertTrue(all([rawTrainData.is_cached, rawValidationData.is_cached, rawTestData.is_cached]),\n",
        "                'you must cache the split data')"
      ],
      "execution_count": 23,
      "outputs": [
        {
          "output_type": "stream",
          "name": "stdout",
          "text": [
            "1 test passed.\n"
          ]
        }
      ]
    },
    {
      "cell_type": "markdown",
      "metadata": {
        "id": "mQEcZbtw75NH"
      },
      "source": [
        "#### ** (3b) Extract features **\n",
        "#### We will now parse the raw training data to create an RDD that we can subsequently use to create an OHE dictionary. Note from the `take()` command in Part (3a) that each raw data point is a string containing several fields separated by some delimiter.  For now, we will ignore the first field (which is the 0-1 label), and parse the remaining fields (or raw features).  To do this, complete the implemention of the `parsePoint` function."
      ]
    },
    {
      "cell_type": "code",
      "metadata": {
        "colab": {
          "base_uri": "https://localhost:8080/"
        },
        "id": "ukTGNesh75NH",
        "outputId": "35499f17-fae7-4537-9f84-a0c5896ca602"
      },
      "source": [
        "# TODO: Replace <FILL IN> with appropriate code\n",
        "def parsePoint(point):\n",
        "    \"\"\"Converts a comma separated string into a list of (featureID, value) tuples.\n",
        "\n",
        "    Note:\n",
        "        featureIDs should start at 0 and increase to the number of features - 1.\n",
        "\n",
        "    Args:\n",
        "        point (str): A comma separated string where the first value is the label and the rest\n",
        "            are features.\n",
        "\n",
        "    Returns:\n",
        "        list: A list of (featureID, value) tuples.\n",
        "    \"\"\"\n",
        "    point = point.split(\",\")[1:]\n",
        "    featureID = list(range(len(point)))\n",
        "    answer = list(zip(featureID,point))\n",
        "    return answer\n",
        "\n",
        "parsedTrainFeat = rawTrainData.map(parsePoint)\n",
        "\n",
        "numCategories = (parsedTrainFeat\n",
        "                 .flatMap(lambda x: x)\n",
        "                 .distinct()\n",
        "                 .map(lambda x: (x[0], 1))\n",
        "                 .reduceByKey(lambda x, y: x + y)\n",
        "                 .sortByKey()\n",
        "                 .collect())\n",
        "\n",
        "print (numCategories[2][1])\n",
        "\n",
        "print (numCategories)"
      ],
      "execution_count": 24,
      "outputs": [
        {
          "output_type": "stream",
          "name": "stdout",
          "text": [
            "864\n",
            "[(0, 145), (1, 2483), (2, 864), (3, 130), (4, 20352), (5, 1899), (6, 583), (7, 131), (8, 1803), (9, 8), (10, 84), (11, 66), (12, 254), (13, 484), (14, 495), (15, 36200), (16, 21463), (17, 134), (18, 12), (19, 7236), (20, 232), (21, 3), (22, 9863), (23, 3682), (24, 34184), (25, 2748), (26, 26), (27, 4864), (28, 28933), (29, 10), (30, 2416), (31, 1230), (32, 4), (33, 32056), (34, 10), (35, 14), (36, 10849), (37, 49), (38, 8359)]\n"
          ]
        }
      ]
    },
    {
      "cell_type": "code",
      "metadata": {
        "colab": {
          "base_uri": "https://localhost:8080/"
        },
        "id": "B7m18vmk75NH",
        "outputId": "a523aff1-134a-4502-92fa-3c8e21ff2800"
      },
      "source": [
        "# TEST Extract features (3b)\n",
        "Test.assertEquals(numCategories[2][1], 864, 'incorrect implementation of parsePoint')\n",
        "Test.assertEquals(numCategories[32][1], 4, 'incorrect implementation of parsePoint')"
      ],
      "execution_count": 25,
      "outputs": [
        {
          "output_type": "stream",
          "name": "stdout",
          "text": [
            "1 test passed.\n",
            "1 test passed.\n"
          ]
        }
      ]
    },
    {
      "cell_type": "markdown",
      "metadata": {
        "id": "3Ci-7J9M75NI"
      },
      "source": [
        "#### **(3c) Create an OHE dictionary from the dataset **\n",
        "#### Note that parsePoint returns a data point as a list of `(featureID, category)` tuples, which is the same format as the sample dataset studied in Parts 1 and 2 of this lab.  Using this observation, create an OHE dictionary using the function implemented in Part (2c). Note that we will assume for simplicity that all features in our CTR dataset are categorical."
      ]
    },
    {
      "cell_type": "code",
      "metadata": {
        "colab": {
          "base_uri": "https://localhost:8080/"
        },
        "id": "-3nOhFWF75NI",
        "outputId": "cf3161cf-d6ec-414d-b691-e2756697749a"
      },
      "source": [
        "# TODO: Replace <FILL IN> with appropriate code\n",
        "ctrOHEDict = createOneHotDict(parsedTrainFeat)\n",
        "numCtrOHEFeats = len(ctrOHEDict.keys())\n",
        "print (numCtrOHEFeats)\n",
        "print (ctrOHEDict[(0, '')])"
      ],
      "execution_count": 26,
      "outputs": [
        {
          "output_type": "stream",
          "name": "stdout",
          "text": [
            "234358\n",
            "50\n"
          ]
        }
      ]
    },
    {
      "cell_type": "code",
      "metadata": {
        "colab": {
          "base_uri": "https://localhost:8080/"
        },
        "id": "ltzm7n6f75NI",
        "outputId": "76dd9535-a017-4e59-e82b-cff79b1a4169"
      },
      "source": [
        "# TEST Create an OHE dictionary from the dataset (3c)\n",
        "Test.assertTrue((0, '') in ctrOHEDict, 'incorrect features in ctrOHEDict')"
      ],
      "execution_count": 27,
      "outputs": [
        {
          "output_type": "stream",
          "name": "stdout",
          "text": [
            "1 test passed.\n"
          ]
        }
      ]
    },
    {
      "cell_type": "markdown",
      "metadata": {
        "id": "l-sQRS1j75NI"
      },
      "source": [
        "#### ** (3d) Apply OHE to the dataset **\n",
        "#### Now let's use this OHE dictionary by starting with the raw training data and creating an RDD of [LabeledPoint](http://spark.apache.org/docs/1.3.1/api/python/pyspark.mllib.html#pyspark.mllib.regression.LabeledPoint) objects using OHE features.  To do this, complete the implementation of the `parseOHEPoint` function. Hint: `parseOHEPoint` is an extension of the `parsePoint` function from Part (3b) and it uses the `oneHotEncoding` function from Part (1d)."
      ]
    },
    {
      "cell_type": "code",
      "metadata": {
        "id": "cEtD4PNy75NI"
      },
      "source": [
        "from pyspark.mllib.regression import LabeledPoint"
      ],
      "execution_count": 28,
      "outputs": []
    },
    {
      "cell_type": "code",
      "metadata": {
        "colab": {
          "base_uri": "https://localhost:8080/"
        },
        "id": "IsTfmIRb75NI",
        "outputId": "e9d826da-c058-4c7e-d9c2-53f4a426c642"
      },
      "source": [
        "# TODO: Replace <FILL IN> with appropriate code\n",
        "def parseOHEPoint(point, OHEDict, numOHEFeats):\n",
        "    \"\"\"Obtain the label and feature vector for this raw observation.\n",
        "\n",
        "    Note:\n",
        "        You must use the function `oneHotEncoding` in this implementation or later portions\n",
        "        of this lab may not function as expected.\n",
        "\n",
        "    Args:\n",
        "        point (str): A comma separated string where the first value is the label and the rest\n",
        "            are features.\n",
        "        OHEDict (dict of (int, str) to int): Mapping of (featureID, value) to unique integer.\n",
        "        numOHEFeats (int): The number of unique features in the training dataset.\n",
        "\n",
        "    Returns:\n",
        "        LabeledPoint: Contains the label for the observation and the one-hot-encoding of the\n",
        "            raw features based on the provided OHE dictionary.\n",
        "    \"\"\"\n",
        "\n",
        "   \n",
        "    return LabeledPoint(point.split(',')[0],oneHotEncoding(parsePoint(point), OHEDict, numCtrOHEFeats))\n",
        "\n",
        "\n",
        "OHETrainData = rawTrainData.map(lambda point: parseOHEPoint(point, ctrOHEDict, numCtrOHEFeats))\n",
        "OHETrainData.cache()\n",
        "print (OHETrainData.take(1))\n",
        "\n",
        "# Check that oneHotEncoding function was used in parseOHEPoint\n",
        "backupOneHot = oneHotEncoding\n",
        "oneHotEncoding = None\n",
        "withOneHot = False\n",
        "try: \n",
        "  parseOHEPoint(rawTrainData.take(1)[0], ctrOHEDict, numCtrOHEFeats)\n",
        "  print(parseOHEPoint(rawTrainData.take(1)[0], ctrOHEDict, numCtrOHEFeats))\n",
        "except TypeError: \n",
        "  withOneHot = True\n",
        "oneHotEncoding = backupOneHot"
      ],
      "execution_count": 29,
      "outputs": [
        {
          "output_type": "stream",
          "name": "stdout",
          "text": [
            "[LabeledPoint(0.0, (234358,[0,1,2,3,4,5,6,7,8,9,10,11,12,13,14,15,16,17,117215,117216,117217,117218,117219,117220,117221,117222,117223,117224,117225,117226,117227,117228,117229,117230,117231,117232,117233,117234,117235],[1.0,1.0,1.0,1.0,1.0,1.0,1.0,1.0,1.0,1.0,1.0,1.0,1.0,1.0,1.0,1.0,1.0,1.0,1.0,1.0,1.0,1.0,1.0,1.0,1.0,1.0,1.0,1.0,1.0,1.0,1.0,1.0,1.0,1.0,1.0,1.0,1.0,1.0,1.0]))]\n"
          ]
        }
      ]
    },
    {
      "cell_type": "code",
      "metadata": {
        "colab": {
          "base_uri": "https://localhost:8080/"
        },
        "id": "5ysxeU1UMYTU",
        "outputId": "5f14a51f-3949-4cb7-f1f4-816b407a60b4"
      },
      "source": [
        "OHETrainData.map(lambda lp:lp.features.indices).take(1)"
      ],
      "execution_count": 30,
      "outputs": [
        {
          "output_type": "execute_result",
          "data": {
            "text/plain": [
              "[array([     0,      1,      2,      3,      4,      5,      6,      7,\n",
              "             8,      9,     10,     11,     12,     13,     14,     15,\n",
              "            16,     17, 117215, 117216, 117217, 117218, 117219, 117220,\n",
              "        117221, 117222, 117223, 117224, 117225, 117226, 117227, 117228,\n",
              "        117229, 117230, 117231, 117232, 117233, 117234, 117235],\n",
              "       dtype=int32)]"
            ]
          },
          "metadata": {},
          "execution_count": 30
        }
      ]
    },
    {
      "cell_type": "code",
      "metadata": {
        "colab": {
          "base_uri": "https://localhost:8080/"
        },
        "id": "SOZhEYwH75NJ",
        "outputId": "a35a4346-641a-4c57-c2ed-e960ef080f93"
      },
      "source": [
        "# TEST Apply OHE to the dataset (3d)\n",
        "numNZ = sum(parsedTrainFeat.map(lambda x: len(x)).take(5))\n",
        "numNZAlt = sum(OHETrainData.map(lambda lp: len(lp.features.indices)).take(5))\n",
        "\n",
        "Test.assertEquals(numNZ, numNZAlt, 'incorrect implementation of parseOHEPoint')\n",
        "Test.assertTrue(withOneHot, 'oneHotEncoding not present in parseOHEPoint')"
      ],
      "execution_count": 31,
      "outputs": [
        {
          "output_type": "stream",
          "name": "stdout",
          "text": [
            "1 test passed.\n",
            "1 test passed.\n"
          ]
        }
      ]
    },
    {
      "cell_type": "markdown",
      "metadata": {
        "id": "SWoNzWgL75NJ"
      },
      "source": [
        "#### **Visualization 1: Feature frequency **\n",
        "#### We will now visualize the number of times each of the 233,286 OHE features appears in the training data. We first compute the number of times each feature appears, then bucket the features by these counts.  The buckets are sized by powers of 2, so the first bucket corresponds to features that appear exactly once ( $ \\scriptsize 2^0 $ ), the second to features that appear twice ( $ \\scriptsize 2^1 $ ), the third to features that occur between three and four ( $ \\scriptsize 2^2 $ ) times, the fifth bucket is five to eight ( $ \\scriptsize 2^3 $ ) times and so on. The scatter plot below shows the logarithm of the bucket thresholds versus the logarithm of the number of features that have counts that fall in the buckets."
      ]
    },
    {
      "cell_type": "code",
      "metadata": {
        "colab": {
          "base_uri": "https://localhost:8080/"
        },
        "id": "rdprehd175NJ",
        "outputId": "334c34a5-92ae-44f2-d4f1-3d367976ae23"
      },
      "source": [
        "def bucketFeatByCount(featCount):\n",
        "    \"\"\"Bucket the counts by powers of two.\"\"\"\n",
        "    for i in range(11):\n",
        "        size = 2 ** i\n",
        "        if featCount <= size:\n",
        "            return size\n",
        "    return -1\n",
        "\n",
        "featCounts = (OHETrainData\n",
        "              .flatMap(lambda lp: lp.features.indices)\n",
        "              .map(lambda x: (x, 1))\n",
        "              .reduceByKey(lambda x, y: x + y))\n",
        "print(featCounts.take(3))\n",
        "\n",
        "featCountsBuckets = (featCounts\n",
        "                     .map(lambda x: (bucketFeatByCount(x[1]), 1))\n",
        "                     .filter(lambda k: k[0] != -1)\n",
        "                     .reduceByKey(lambda x, y: x + y)\n",
        "                     .collect())\n",
        "print (featCountsBuckets)\n",
        "\n",
        "#(1, 164030) >>> 很多feature只出現一次"
      ],
      "execution_count": 32,
      "outputs": [
        {
          "output_type": "stream",
          "name": "stdout",
          "text": [
            "[(0, 7515), (2, 5479), (4, 3251)]\n",
            "[(8, 11480), (2, 23578), (16, 7750), (128, 1504), (64, 2663), (256, 733), (32, 4792), (512, 416), (1024, 251), (4, 16870), (1, 164030)]\n"
          ]
        }
      ]
    },
    {
      "cell_type": "code",
      "metadata": {
        "colab": {
          "base_uri": "https://localhost:8080/",
          "height": 392
        },
        "id": "ZqNVUvWD75NJ",
        "outputId": "4935d183-38b5-42b9-8579-58749b21cc7b"
      },
      "source": [
        "import matplotlib.pyplot as plt\n",
        "\n",
        "x, y = zip(*featCountsBuckets)\n",
        "x, y = np.log(x), np.log(y)\n",
        "\n",
        "def preparePlot(xticks, yticks, figsize=(10.5, 6), hideLabels=False, gridColor='#999999',\n",
        "                gridWidth=1.0):\n",
        "    \"\"\"Template for generating the plot layout.\"\"\"\n",
        "    plt.close()\n",
        "    fig, ax = plt.subplots(figsize=figsize, facecolor='white', edgecolor='white')\n",
        "    ax.axes.tick_params(labelcolor='#999999', labelsize='10')\n",
        "    for axis, ticks in [(ax.get_xaxis(), xticks), (ax.get_yaxis(), yticks)]:\n",
        "        axis.set_ticks_position('none')\n",
        "        axis.set_ticks(ticks)\n",
        "        axis.label.set_color('#999999')\n",
        "        if hideLabels: axis.set_ticklabels([])\n",
        "    plt.grid(color=gridColor, linewidth=gridWidth, linestyle='-')\n",
        "    map(lambda position: ax.spines[position].set_visible(False), ['bottom', 'top', 'left', 'right'])\n",
        "    return fig, ax\n",
        "\n",
        "# generate layout and plot data\n",
        "fig, ax = preparePlot(np.arange(0, 10, 1), np.arange(4, 14, 2))\n",
        "ax.set_xlabel(r'$\\log_e(bucketSize)$'), ax.set_ylabel(r'$\\log_e(countInBucket)$')\n",
        "plt.scatter(x, y, s=14**2, c='#d6ebf2', edgecolors='#8cbfd0', alpha=0.75)\n",
        "pass"
      ],
      "execution_count": 33,
      "outputs": [
        {
          "output_type": "display_data",
          "data": {
            "image/png": "[encoded data removed]",
            "text/plain": [
              "<Figure size 756x432 with 1 Axes>"
            ]
          },
          "metadata": {}
        }
      ]
    },
    {
      "cell_type": "markdown",
      "metadata": {
        "id": "IZvA_Kx175NK"
      },
      "source": [
        "#### **(3e) Handling unseen features **\n",
        "#### We naturally would like to repeat the process from Part (3d), e.g., to compute OHE features for the validation and test datasets.  However, we must be careful, as some categorical values will likely appear in new data that did not exist in the training data. To deal with this situation, update the `oneHotEncoding()` function from Part (1d) to ignore previously unseen categories, and then compute OHE features for the validation data."
      ]
    },
    {
      "cell_type": "code",
      "metadata": {
        "colab": {
          "base_uri": "https://localhost:8080/"
        },
        "id": "JuKGtQoU75NK",
        "outputId": "d34b7c92-bc37-43f5-d9e4-e61397bc72fc"
      },
      "source": [
        "# TODO: Replace <FILL IN> with appropriate code\n",
        "def oneHotEncoding(rawFeats, OHEDict, numOHEFeats):\n",
        "    \"\"\"Produce a one-hot-encoding from a list of features and an OHE dictionary.\n",
        "\n",
        "    Note:\n",
        "        If a (featureID, value) tuple doesn't have a corresponding key in OHEDict it should be\n",
        "        ignored.\n",
        "\n",
        "    Args:\n",
        "        rawFeats (list of (int, str)): The features corresponding to a single observation.  Each\n",
        "            feature consists of a tuple of featureID and the feature's value. (e.g. sampleOne)\n",
        "        OHEDict (dict): A mapping of (featureID, value) to unique integer.\n",
        "        numOHEFeats (int): The total number of unique OHE features (combinations of featureID and\n",
        "            value).\n",
        "\n",
        "    Returns:\n",
        "        SparseVector: A SparseVector of length numOHEFeats with indicies equal to the unique\n",
        "            identifiers for the (featureID, value) combinations that occur in the observation and\n",
        "            with values equal to 1.0.\n",
        "    \"\"\"\n",
        "    index = sorted([OHEDict[x] for x in rawFeats if x in OHEDict.keys()])\n",
        "    return SparseVector(numOHEFeats,index,[1]*len(index))\n",
        "\n",
        "OHEValidationData = rawValidationData.map(lambda point: parseOHEPoint(point, ctrOHEDict, numCtrOHEFeats))\n",
        "OHEValidationData.cache()\n",
        "print (OHEValidationData.take(1))"
      ],
      "execution_count": 34,
      "outputs": [
        {
          "output_type": "stream",
          "name": "stdout",
          "text": [
            "[LabeledPoint(0.0, (234358,[2,8,15,21,45,49,50,52,61,96,135,160,164,671,1355,5140,5141,5142,117223,117226,117238,117242,117258,117261,117262,117267,117269,117284,117287,118378,119236,120375,122236,122237,122238,122239,122240,122241,170030],[1.0,1.0,1.0,1.0,1.0,1.0,1.0,1.0,1.0,1.0,1.0,1.0,1.0,1.0,1.0,1.0,1.0,1.0,1.0,1.0,1.0,1.0,1.0,1.0,1.0,1.0,1.0,1.0,1.0,1.0,1.0,1.0,1.0,1.0,1.0,1.0,1.0,1.0,1.0]))]\n"
          ]
        }
      ]
    },
    {
      "cell_type": "code",
      "metadata": {
        "colab": {
          "base_uri": "https://localhost:8080/"
        },
        "id": "8byoTRz975NK",
        "outputId": "0696bf57-b76a-434e-a13b-7d4538652167"
      },
      "source": [
        "# TEST Handling unseen features (3e)\n",
        "numNZVal = (OHEValidationData\n",
        "            .map(lambda lp: len(lp.features.indices))\n",
        "            .sum())\n",
        "print(numNZVal)\n"
      ],
      "execution_count": 35,
      "outputs": [
        {
          "output_type": "stream",
          "name": "stdout",
          "text": [
            "367585\n"
          ]
        }
      ]
    },
    {
      "cell_type": "markdown",
      "metadata": {
        "id": "yMeQWEIv75NL"
      },
      "source": [
        "### ** Part 4: CTR prediction and logloss evaluation **"
      ]
    },
    {
      "cell_type": "markdown",
      "metadata": {
        "id": "Z7NmXxll75NL"
      },
      "source": [
        "#### ** (4a) Logistic regression **\n",
        "#### We are now ready to train our first CTR classifier.  A natural classifier to use in this setting is logistic regression, since it models the probability of a click-through event rather than returning a binary response, and when working with rare events, probabilistic predictions are useful.  First use [LogisticRegressionWithSGD](https://spark.apache.org/docs/latest/api/python/pyspark.mllib.html#pyspark.mllib.classification.LogisticRegressionWithSGD) to train a model using `OHETrainData` with the given hyperparameter configuration.  `LogisticRegressionWithSGD` returns a [LogisticRegressionModel](https://spark.apache.org/docs/latest/api/python/pyspark.mllib.html#pyspark.mllib.regression.LogisticRegressionModel).  Next, use the `LogisticRegressionModel.weights` and `LogisticRegressionModel.intercept` attributes to print out the model's parameters.  Note that these are the names of the object's attributes and should be called using a syntax like `model.weights` for a given `model`."
      ]
    },
    {
      "cell_type": "code",
      "metadata": {
        "id": "jPqasmIu75NL"
      },
      "source": [
        "from pyspark.mllib.classification import LogisticRegressionWithSGD\n"
      ],
      "execution_count": 36,
      "outputs": []
    },
    {
      "cell_type": "code",
      "metadata": {
        "id": "S9kEW1VG75NL",
        "colab": {
          "base_uri": "https://localhost:8080/"
        },
        "outputId": "4311b133-cbf5-4b6c-82ad-5452a015505a"
      },
      "source": [
        "# TODO: Replace <FILL IN> with appropriate code\n",
        "model0 = LogisticRegressionWithSGD.train(OHETrainData,iterations=50,step=10,intercept=True,regType=\"l2\",regParam = 1e-6)\n",
        "\n",
        "sortedWeights = sorted(model0.weights)\n",
        "print (sortedWeights[:5], model0.intercept)"
      ],
      "execution_count": 37,
      "outputs": [
        {
          "output_type": "stream",
          "name": "stdout",
          "text": [
            "[-0.4629715942627959, -0.390402301828179, -0.38712819858279246, -0.35815003494268316, -0.349632414954747] 0.5616041364601838\n"
          ]
        }
      ]
    },
    {
      "cell_type": "markdown",
      "metadata": {
        "id": "wBuKdcVm75NL"
      },
      "source": [
        "#### ** (4b) Log loss **\n",
        "#### Throughout this lab, we will use log loss to evaluate the quality of models.  Log loss is defined as: $$  \\begin{align} \\scriptsize \\ell_{log}(p, y) = \\begin{cases} -\\log (p) & \\text{if } y = 1 \\\\\\ -\\log(1-p) & \\text{if } y = 0 \\end{cases} \\end{align} $$ where $ \\scriptsize p$ is a probability between 0 and 1 and $ \\scriptsize y$ is a label of either 0 or 1. Log loss is a standard evaluation criterion when predicting rare-events such as click-through rate prediction (it is also the criterion used in the [Criteo Kaggle competition](https://www.kaggle.com/c/criteo-display-ad-challenge)).  Write a function to compute log loss, and evaluate it on some sample inputs."
      ]
    },
    {
      "cell_type": "code",
      "metadata": {
        "id": "0BAdogqp75NM",
        "colab": {
          "base_uri": "https://localhost:8080/"
        },
        "outputId": "6702a6c9-94b3-48ff-f507-11349c83cf18"
      },
      "source": [
        "# TODO: Replace <FILL IN> with appropriate code\n",
        "from math import log\n",
        "\n",
        "def computeLogLoss(p, y):\n",
        "    \"\"\"Calculates the value of log loss for a given probabilty and label.\n",
        "\n",
        "    Note:\n",
        "        log(0) is undefined, so when p is 0 we need to add a small value (epsilon) to it\n",
        "        and when p is 1 we need to subtract a small value (epsilon) from it.\n",
        "\n",
        "    Args:\n",
        "        p (float): A probabilty between 0 and 1.\n",
        "        y (int): A label.  Takes on the values 0 and 1.\n",
        "\n",
        "    Returns:\n",
        "        float: The log loss value.\n",
        "    \"\"\"\n",
        "    epsilon = 10e-12\n",
        "    if p==1:\n",
        "      p-=epsilon\n",
        "    elif p==0:\n",
        "      p+=epsilon\n",
        "    else:\n",
        "      p=p\n",
        "    return -(y*log(p)+(1-y)*log(1-p))\n",
        "\n",
        "print (computeLogLoss(.5, 1))\n",
        "print (computeLogLoss(.5, 0))\n",
        "print (computeLogLoss(.99, 1))\n",
        "print (computeLogLoss(.99, 0))\n",
        "print (computeLogLoss(.01, 1))\n",
        "print (computeLogLoss(.01, 0))\n",
        "print (computeLogLoss(0, 1))\n",
        "print (computeLogLoss(1, 1))\n",
        "print (computeLogLoss(1, 0))"
      ],
      "execution_count": 38,
      "outputs": [
        {
          "output_type": "stream",
          "name": "stdout",
          "text": [
            "0.6931471805599453\n",
            "0.6931471805599453\n",
            "0.01005033585350145\n",
            "4.605170185988091\n",
            "4.605170185988091\n",
            "0.01005033585350145\n",
            "25.328436022934504\n",
            "1.000000082745371e-11\n",
            "25.328435940194137\n"
          ]
        }
      ]
    },
    {
      "cell_type": "code",
      "metadata": {
        "id": "Foga7t4875NM",
        "colab": {
          "base_uri": "https://localhost:8080/"
        },
        "outputId": "a26364ca-626e-4cc0-bffb-9edd0b665890"
      },
      "source": [
        "# TEST Log loss (4b)\n",
        "Test.assertTrue(np.allclose([computeLogLoss(.5, 1), computeLogLoss(.01, 0), computeLogLoss(.01, 1)],\n",
        "                            [0.69314718056, 0.0100503358535, 4.60517018599]),\n",
        "                'computeLogLoss is not correct')\n",
        "Test.assertTrue(np.allclose([computeLogLoss(0, 1), computeLogLoss(1, 1), computeLogLoss(1, 0)],\n",
        "                            [25.3284360229, 1.00000008275e-11, 25.3284360229]),\n",
        "                'computeLogLoss needs to bound p away from 0 and 1 by epsilon')"
      ],
      "execution_count": 39,
      "outputs": [
        {
          "output_type": "stream",
          "name": "stdout",
          "text": [
            "1 test passed.\n",
            "1 test passed.\n"
          ]
        }
      ]
    },
    {
      "cell_type": "markdown",
      "metadata": {
        "id": "Fceh2myM75NM"
      },
      "source": [
        "#### ** (4c)  Baseline log loss **\n",
        "#### Next we will use the function we wrote in Part (4b) to compute the baseline log loss on the training data. A very simple yet natural baseline model is one where we always make the same prediction independent of the given datapoint, setting the predicted value equal to the fraction of training points that correspond to click-through events (i.e., where the label is one). Compute this value (which is simply the mean of the training labels), and then use it to compute the training log loss for the baseline model.  The log loss for multiple observations is the mean of the individual log loss values."
      ]
    },
    {
      "cell_type": "code",
      "metadata": {
        "id": "9EzNLPb875NM",
        "colab": {
          "base_uri": "https://localhost:8080/"
        },
        "outputId": "2e8321aa-ba5b-4d0a-8ee8-0fba164596c6"
      },
      "source": [
        "# TODO: Replace <FILL IN> with appropriate code\n",
        "# Note that our dataset has a very high click-through rate by design\n",
        "# In practice click-through rate can be one to two orders of magnitude lower\n",
        "classOneFracTrain = OHETrainData.map(lambda x:x.label).mean()\n",
        "print (classOneFracTrain)\n",
        "\n",
        "logLossTrBase = OHETrainData.map(lambda x:computeLogLoss(classOneFracTrain,x.label)).mean()\n",
        "print ('Baseline Train Logloss = {0:.3f}\\n'.format(logLossTrBase))"
      ],
      "execution_count": 40,
      "outputs": [
        {
          "output_type": "stream",
          "name": "stdout",
          "text": [
            "0.2271245299988764\n",
            "Baseline Train Logloss = 0.536\n",
            "\n"
          ]
        }
      ]
    },
    {
      "cell_type": "markdown",
      "metadata": {
        "id": "Ry1TPOl975NN"
      },
      "source": [
        "#### ** (4d) Predicted probability **\n",
        "#### In order to compute the log loss for the model we trained in Part (4a), we need to write code to generate predictions from this model. Write a function that computes the raw linear prediction from this logistic regression model and then passes it through a [sigmoid function](http://en.wikipedia.org/wiki/Sigmoid_function) $ \\scriptsize \\sigma(t) = (1+ e^{-t})^{-1} $ to return the model's probabilistic prediction. Then compute probabilistic predictions on the training data.\n",
        "#### Note that when incorporating an intercept into our predictions, we simply add the intercept to the value of the prediction obtained from the weights and features.  Alternatively, if the intercept was included as the first weight, we would need to add a corresponding feature to our data where the feature has the value one.  This is not the case here."
      ]
    },
    {
      "cell_type": "code",
      "metadata": {
        "id": "PQW1LyNk75NN",
        "colab": {
          "base_uri": "https://localhost:8080/"
        },
        "outputId": "dadb7b3e-1a6d-49f2-9a53-31726024ae08"
      },
      "source": [
        "# TODO: Replace <FILL IN> with appropriate code\n",
        "from math import exp #  exp(-t) = e^-t\n",
        "import numpy as np\n",
        "def getP(x, w, intercept):\n",
        "    \"\"\"Calculate the probability for an observation given a set of weights and intercept.\n",
        "\n",
        "    Note:\n",
        "        We'll bound our raw prediction between 20 and -20 for numerical purposes.\n",
        "\n",
        "    Args:\n",
        "        x (SparseVector): A vector with values of 1.0 for features that exist in this\n",
        "            observation and 0.0 otherwise.\n",
        "        w (DenseVector): A vector of weights (betas) for the model.\n",
        "        intercept (float): The model's intercept.\n",
        "\n",
        "    Returns:\n",
        "        float: A probability between 0 and 1.\n",
        "    \"\"\"\n",
        "    rawPrediction = w.dot(x)+intercept\n",
        "\n",
        "    # Bound the raw prediction value\n",
        "    rawPrediction = min(rawPrediction, 20)\n",
        "    rawPrediction = max(rawPrediction, -20)\n",
        "    return 1/(1+np.exp(-rawPrediction))\n",
        "\n",
        "trainingPredictions = OHETrainData.map(lambda x: getP(x.features,model0.weights,model0.intercept))\n",
        "\n",
        "print (trainingPredictions.take(5))"
      ],
      "execution_count": 41,
      "outputs": [
        {
          "output_type": "stream",
          "name": "stdout",
          "text": [
            "[0.28030535919449734, 0.094841892570971, 0.2828812845591475, 0.16384346875926228, 0.5695978450809586]\n"
          ]
        }
      ]
    },
    {
      "cell_type": "code",
      "metadata": {
        "colab": {
          "base_uri": "https://localhost:8080/"
        },
        "id": "4OLg5lMzSWF9",
        "outputId": "d715af90-58c2-4fe5-eed2-a28d3f458827"
      },
      "source": [
        "print(trainingPredictions.sum())"
      ],
      "execution_count": 42,
      "outputs": [
        {
          "output_type": "stream",
          "name": "stdout",
          "text": [
            "18198.852517465508\n"
          ]
        }
      ]
    },
    {
      "cell_type": "markdown",
      "metadata": {
        "id": "KaA1aoz875NN"
      },
      "source": [
        "#### ** (4e) Evaluate the model **\n",
        "#### We are now ready to evaluate the quality of the model we trained in Part (4a). To do this, first write a general function that takes as input a model and data, and outputs the log loss.  Then run this function on the OHE training data, and compare the result with the baseline log loss."
      ]
    },
    {
      "cell_type": "code",
      "metadata": {
        "id": "wltBhQDy75NO",
        "colab": {
          "base_uri": "https://localhost:8080/"
        },
        "outputId": "102e1419-815b-4ce9-95c7-3db9ea524a47"
      },
      "source": [
        "# TODO: Replace <FILL IN> with appropriate code\n",
        "def evaluateResults(model, data):\n",
        "    \"\"\"Calculates the log loss for the data given the model.\n",
        "\n",
        "    Args:\n",
        "        model (LogisticRegressionModel): A trained logistic regression model.\n",
        "        data (RDD of LabeledPoint): Labels and features for each observation.\n",
        "\n",
        "    Returns:\n",
        "        float: Log loss for the data.\n",
        "    \"\"\"\n",
        "    return data.map(lambda x:computeLogLoss(getP(x.features,model.weights,model.intercept),x.label)).mean()\n",
        "\n",
        "logLossTrLR0 = evaluateResults(model0, OHETrainData)\n",
        "print ('OHE Features Train Logloss:\\n\\tBaseline = {0:.3f}\\n\\tLogReg = {1:.3f}'\n",
        "       .format(logLossTrBase, logLossTrLR0))"
      ],
      "execution_count": 43,
      "outputs": [
        {
          "output_type": "stream",
          "name": "stdout",
          "text": [
            "OHE Features Train Logloss:\n",
            "\tBaseline = 0.536\n",
            "\tLogReg = 0.457\n"
          ]
        }
      ]
    },
    {
      "cell_type": "markdown",
      "metadata": {
        "id": "oWkMdl2s75NO"
      },
      "source": [
        "#### ** (4f) Validation log loss **\n",
        "#### Next, following the same logic as in Parts (4c) and 4(e), compute the validation log loss for both the baseline and logistic regression models. Notably, the baseline model for the validation data should still be based on the label fraction from the training dataset."
      ]
    },
    {
      "cell_type": "code",
      "metadata": {
        "id": "70G5uk-T75NO",
        "colab": {
          "base_uri": "https://localhost:8080/"
        },
        "outputId": "2306c7c6-b2c8-4779-f625-a66c9953c697"
      },
      "source": [
        "# TODO: Replace <FILL IN> with appropriate code\n",
        "logLossValBase = OHEValidationData.map(lambda x:computeLogLoss(classOneFracTrain,x.label)).mean()\n",
        "\n",
        "logLossValLR0 = evaluateResults(model0, OHEValidationData)\n",
        "print ('OHE Features Validation Logloss:\\n\\tBaseline = {0:.3f}\\n\\tLogReg = {1:.3f}'\n",
        "       .format(logLossValBase, logLossValLR0))"
      ],
      "execution_count": 44,
      "outputs": [
        {
          "output_type": "stream",
          "name": "stdout",
          "text": [
            "OHE Features Validation Logloss:\n",
            "\tBaseline = 0.527\n",
            "\tLogReg = 0.458\n"
          ]
        }
      ]
    },
    {
      "cell_type": "markdown",
      "metadata": {
        "id": "itl0YDUN75NO"
      },
      "source": [
        "#### **Visualization 2: ROC curve **\n",
        "#### We will now visualize how well the model predicts our target.  To do this we generate a plot of the ROC curve.  The ROC curve shows us the trade-off between the false positive rate and true positive rate, as we liberalize the threshold required to predict a positive outcome.  A random model is represented by the dashed line."
      ]
    },
    {
      "cell_type": "code",
      "metadata": {
        "id": "F4qYanr275NP",
        "colab": {
          "base_uri": "https://localhost:8080/",
          "height": 388
        },
        "outputId": "aaa291b6-dc9e-442e-ea67-4c65d26cb55c"
      },
      "source": [
        "labelsAndScores = OHEValidationData.map(lambda lp:\n",
        "                                            (lp.label, getP(lp.features, model0.weights, model0.intercept)))\n",
        "labelsAndWeights = labelsAndScores.collect()\n",
        "labelsAndWeights.sort(key=lambda k: k[1], reverse=True)\n",
        "labelsByWeight = np.array([k for (k, v) in labelsAndWeights])\n",
        "\n",
        "length = labelsByWeight.size\n",
        "truePositives = labelsByWeight.cumsum()\n",
        "numPositive = truePositives[-1]\n",
        "falsePositives = np.arange(1.0, length + 1, 1.) - truePositives\n",
        "\n",
        "truePositiveRate = truePositives / numPositive\n",
        "falsePositiveRate = falsePositives / (length - numPositive)\n",
        "\n",
        "# Generate layout and plot data\n",
        "fig, ax = preparePlot(np.arange(0., 1.1, 0.1), np.arange(0., 1.1, 0.1))\n",
        "ax.set_xlim(-.05, 1.05), ax.set_ylim(-.05, 1.05)\n",
        "ax.set_ylabel('True Positive Rate (Sensitivity)')\n",
        "ax.set_xlabel('False Positive Rate (1 - Specificity)')\n",
        "plt.plot(falsePositiveRate, truePositiveRate, color='#8cbfd0', linestyle='-', linewidth=3.)\n",
        "plt.plot((0., 1.), (0., 1.), linestyle='--', color='#d6ebf2', linewidth=2.)  # Baseline model\n",
        "pass"
      ],
      "execution_count": 55,
      "outputs": [
        {
          "output_type": "display_data",
          "data": {
            "image/png": "[encoded data removed]",
            "text/plain": [
              "<Figure size 756x432 with 1 Axes>"
            ]
          },
          "metadata": {}
        }
      ]
    },
    {
      "cell_type": "code",
      "metadata": {
        "id": "dezIHx0pbdhz"
      },
      "source": [
        ""
      ],
      "execution_count": null,
      "outputs": []
    }
  ]
}