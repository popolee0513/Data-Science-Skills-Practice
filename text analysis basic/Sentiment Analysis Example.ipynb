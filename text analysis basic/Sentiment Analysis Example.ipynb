{
 "cells": [
  {
   "cell_type": "code",
   "execution_count": 1,
   "metadata": {},
   "outputs": [
    {
     "data": {
      "text/html": [
       "<div>\n",
       "<style scoped>\n",
       "    .dataframe tbody tr th:only-of-type {\n",
       "        vertical-align: middle;\n",
       "    }\n",
       "\n",
       "    .dataframe tbody tr th {\n",
       "        vertical-align: top;\n",
       "    }\n",
       "\n",
       "    .dataframe thead th {\n",
       "        text-align: right;\n",
       "    }\n",
       "</style>\n",
       "<table border=\"1\" class=\"dataframe\">\n",
       "  <thead>\n",
       "    <tr style=\"text-align: right;\">\n",
       "      <th></th>\n",
       "      <th>tag</th>\n",
       "      <th>text</th>\n",
       "    </tr>\n",
       "  </thead>\n",
       "  <tbody>\n",
       "    <tr>\n",
       "      <th>0</th>\n",
       "      <td>P</td>\n",
       "      <td>店家很給力，快遞也是相當快，第三次光顧啦</td>\n",
       "    </tr>\n",
       "    <tr>\n",
       "      <th>1</th>\n",
       "      <td>N</td>\n",
       "      <td>這樣的配置用Vista系統還是有點卡。 指紋收集器。 沒送原裝滑鼠還需要自己買，不太好。</td>\n",
       "    </tr>\n",
       "    <tr>\n",
       "      <th>2</th>\n",
       "      <td>P</td>\n",
       "      <td>不錯，在同等檔次酒店中應該是值得推薦的！</td>\n",
       "    </tr>\n",
       "    <tr>\n",
       "      <th>3</th>\n",
       "      <td>N</td>\n",
       "      <td>哎！ 不會是蒙牛乾的吧 嚴懲真凶！</td>\n",
       "    </tr>\n",
       "    <tr>\n",
       "      <th>4</th>\n",
       "      <td>N</td>\n",
       "      <td>空尤其是三立電視臺女主播做的序尤其無趣像是硬湊那麼多字</td>\n",
       "    </tr>\n",
       "  </tbody>\n",
       "</table>\n",
       "</div>"
      ],
      "text/plain": [
       "  tag                                          text\n",
       "0   P                          店家很給力，快遞也是相當快，第三次光顧啦\n",
       "1   N  這樣的配置用Vista系統還是有點卡。 指紋收集器。 沒送原裝滑鼠還需要自己買，不太好。\n",
       "2   P                          不錯，在同等檔次酒店中應該是值得推薦的！\n",
       "3   N                             哎！ 不會是蒙牛乾的吧 嚴懲真凶！\n",
       "4   N                   空尤其是三立電視臺女主播做的序尤其無趣像是硬湊那麼多字"
      ]
     },
     "execution_count": 1,
     "metadata": {},
     "output_type": "execute_result"
    }
   ],
   "source": [
    "import pandas as pd\n",
    "df = pd.read_csv('sentiment.csv')\n",
    "df.head(5)"
   ]
  },
  {
   "cell_type": "code",
   "execution_count": 2,
   "metadata": {},
   "outputs": [
    {
     "name": "stdout",
     "output_type": "stream",
     "text": [
      "6388\n",
      "N    3347\n",
      "P    3041\n",
      "Name: tag, dtype: int64\n"
     ]
    }
   ],
   "source": [
    "print(len(df))\n",
    "print(df['tag'].value_counts())"
   ]
  },
  {
   "cell_type": "code",
   "execution_count": 3,
   "metadata": {},
   "outputs": [],
   "source": [
    "with open('停用詞.txt','r',encoding=\"utf-8\") as f:\n",
    "    ans=[]\n",
    "    for line in f.readlines():\n",
    "        stop_words=line.strip('\\n')\n",
    "        ans.append(stop_words)"
   ]
  },
  {
   "cell_type": "code",
   "execution_count": 6,
   "metadata": {},
   "outputs": [
    {
     "data": {
      "text/html": [
       "<div>\n",
       "<style scoped>\n",
       "    .dataframe tbody tr th:only-of-type {\n",
       "        vertical-align: middle;\n",
       "    }\n",
       "\n",
       "    .dataframe tbody tr th {\n",
       "        vertical-align: top;\n",
       "    }\n",
       "\n",
       "    .dataframe thead th {\n",
       "        text-align: right;\n",
       "    }\n",
       "</style>\n",
       "<table border=\"1\" class=\"dataframe\">\n",
       "  <thead>\n",
       "    <tr style=\"text-align: right;\">\n",
       "      <th></th>\n",
       "      <th>tag</th>\n",
       "      <th>text</th>\n",
       "      <th>token_text</th>\n",
       "    </tr>\n",
       "  </thead>\n",
       "  <tbody>\n",
       "    <tr>\n",
       "      <th>0</th>\n",
       "      <td>P</td>\n",
       "      <td>店家很給力，快遞也是相當快，第三次光顧啦</td>\n",
       "      <td>[店家, 給力, 快遞, 相當快, 第三次, 光顧]</td>\n",
       "    </tr>\n",
       "    <tr>\n",
       "      <th>1</th>\n",
       "      <td>N</td>\n",
       "      <td>這樣的配置用Vista系統還是有點卡。 指紋收集器。 沒送原裝滑鼠還需要自己買，不太好。</td>\n",
       "      <td>[配置, Vista, 系統, 有點, 卡, 指紋, 收集器, 沒送, 原裝, 滑鼠, 需要...</td>\n",
       "    </tr>\n",
       "    <tr>\n",
       "      <th>2</th>\n",
       "      <td>P</td>\n",
       "      <td>不錯，在同等檔次酒店中應該是值得推薦的！</td>\n",
       "      <td>[不錯, 同等, 檔次, 酒店, 中應, 值得, 推薦]</td>\n",
       "    </tr>\n",
       "    <tr>\n",
       "      <th>3</th>\n",
       "      <td>N</td>\n",
       "      <td>哎！ 不會是蒙牛乾的吧 嚴懲真凶！</td>\n",
       "      <td>[不會, 蒙牛, 乾, 嚴懲, 真凶]</td>\n",
       "    </tr>\n",
       "    <tr>\n",
       "      <th>4</th>\n",
       "      <td>N</td>\n",
       "      <td>空尤其是三立電視臺女主播做的序尤其無趣像是硬湊那麼多字</td>\n",
       "      <td>[空, 尤其, 三立, 電視, 臺, 女主播, 做, 序, 尤其, 無趣, 像是, 硬, 湊...</td>\n",
       "    </tr>\n",
       "  </tbody>\n",
       "</table>\n",
       "</div>"
      ],
      "text/plain": [
       "  tag                                          text  \\\n",
       "0   P                          店家很給力，快遞也是相當快，第三次光顧啦   \n",
       "1   N  這樣的配置用Vista系統還是有點卡。 指紋收集器。 沒送原裝滑鼠還需要自己買，不太好。   \n",
       "2   P                          不錯，在同等檔次酒店中應該是值得推薦的！   \n",
       "3   N                             哎！ 不會是蒙牛乾的吧 嚴懲真凶！   \n",
       "4   N                   空尤其是三立電視臺女主播做的序尤其無趣像是硬湊那麼多字   \n",
       "\n",
       "                                          token_text  \n",
       "0                         [店家, 給力, 快遞, 相當快, 第三次, 光顧]  \n",
       "1  [配置, Vista, 系統, 有點, 卡, 指紋, 收集器, 沒送, 原裝, 滑鼠, 需要...  \n",
       "2                       [不錯, 同等, 檔次, 酒店, 中應, 值得, 推薦]  \n",
       "3                                [不會, 蒙牛, 乾, 嚴懲, 真凶]  \n",
       "4  [空, 尤其, 三立, 電視, 臺, 女主播, 做, 序, 尤其, 無趣, 像是, 硬, 湊...  "
      ]
     },
     "execution_count": 6,
     "metadata": {},
     "output_type": "execute_result"
    }
   ],
   "source": [
    "import jieba\n",
    "df['token_text'] = df['text'].apply(lambda x:list(jieba.cut(x)))\n",
    "def remove_stop_words(seg_list):\n",
    "    new_list=[]\n",
    "    for seg in seg_list:\n",
    "        if seg not in ans:\n",
    "            new_list.append(seg) #若在for loop裡用remove的話則會改變總長度\n",
    "    return new_list\n",
    "df['token_text']=df[\"token_text\"].apply(remove_stop_words)\n",
    "def remove(x):\n",
    "    new=[]\n",
    "    for i in x:\n",
    "        if i!=\" \":\n",
    "            new.append(i)\n",
    "    return new\n",
    "df[\"token_text\"]=df[\"token_text\"].apply(remove)\n",
    "df.head()"
   ]
  },
  {
   "cell_type": "code",
   "execution_count": 7,
   "metadata": {},
   "outputs": [],
   "source": [
    "def count(data):\n",
    "    term_dict = {}\n",
    "    for doc in data:\n",
    "        for term in doc:\n",
    "            if term not in term_dict:\n",
    "                term_dict[term] = 1\n",
    "            else:\n",
    "                term_dict[term] = term_dict[term] +1\n",
    "    return term_dict\n",
    "df_p = df[df['tag']==\"P\"]\n",
    "df_n = df[df['tag']==\"N\"]\n",
    "word_p = count(df_p['token_text'])\n",
    "word_p = pd.DataFrame(list(word_p.items()), columns=['word', 'TF_p'])\n",
    "\n",
    "word_n = count(df_n['token_text'])\n",
    "word_n = pd.DataFrame(list(word_n.items()), columns=['word', 'TF_n'])"
   ]
  },
  {
   "cell_type": "code",
   "execution_count": 8,
   "metadata": {},
   "outputs": [
    {
     "data": {
      "text/html": [
       "<div>\n",
       "<style scoped>\n",
       "    .dataframe tbody tr th:only-of-type {\n",
       "        vertical-align: middle;\n",
       "    }\n",
       "\n",
       "    .dataframe tbody tr th {\n",
       "        vertical-align: top;\n",
       "    }\n",
       "\n",
       "    .dataframe thead th {\n",
       "        text-align: right;\n",
       "    }\n",
       "</style>\n",
       "<table border=\"1\" class=\"dataframe\">\n",
       "  <thead>\n",
       "    <tr style=\"text-align: right;\">\n",
       "      <th></th>\n",
       "      <th>TF_p</th>\n",
       "      <th>word</th>\n",
       "      <th>TF_n</th>\n",
       "    </tr>\n",
       "  </thead>\n",
       "  <tbody>\n",
       "    <tr>\n",
       "      <th>0</th>\n",
       "      <td>7</td>\n",
       "      <td>店家</td>\n",
       "      <td>1</td>\n",
       "    </tr>\n",
       "    <tr>\n",
       "      <th>1</th>\n",
       "      <td>18</td>\n",
       "      <td>快遞</td>\n",
       "      <td>9</td>\n",
       "    </tr>\n",
       "    <tr>\n",
       "      <th>2</th>\n",
       "      <td>10</td>\n",
       "      <td>第三次</td>\n",
       "      <td>1</td>\n",
       "    </tr>\n",
       "    <tr>\n",
       "      <th>3</th>\n",
       "      <td>855</td>\n",
       "      <td>不錯</td>\n",
       "      <td>52</td>\n",
       "    </tr>\n",
       "    <tr>\n",
       "      <th>4</th>\n",
       "      <td>7</td>\n",
       "      <td>同等</td>\n",
       "      <td>1</td>\n",
       "    </tr>\n",
       "  </tbody>\n",
       "</table>\n",
       "</div>"
      ],
      "text/plain": [
       "   TF_p word  TF_n\n",
       "0     7   店家     1\n",
       "1    18   快遞     9\n",
       "2    10  第三次     1\n",
       "3   855   不錯    52\n",
       "4     7   同等     1"
      ]
     },
     "execution_count": 8,
     "metadata": {},
     "output_type": "execute_result"
    }
   ],
   "source": [
    "word_p['len'] = word_p['word'].apply(lambda x: len(x))\n",
    "word_n['len'] = word_n['word'].apply(lambda x: len(x))\n",
    "word_p = word_p[word_p.len>1]\n",
    "word_n = word_n[word_n.len>1]\n",
    "word_all = pd.merge(word_p[['TF_p','word']], word_n[['TF_n','word']], how='inner')\n",
    "word_all.head(5)"
   ]
  },
  {
   "cell_type": "code",
   "execution_count": 9,
   "metadata": {},
   "outputs": [
    {
     "data": {
      "text/html": [
       "<div>\n",
       "<style scoped>\n",
       "    .dataframe tbody tr th:only-of-type {\n",
       "        vertical-align: middle;\n",
       "    }\n",
       "\n",
       "    .dataframe tbody tr th {\n",
       "        vertical-align: top;\n",
       "    }\n",
       "\n",
       "    .dataframe thead th {\n",
       "        text-align: right;\n",
       "    }\n",
       "</style>\n",
       "<table border=\"1\" class=\"dataframe\">\n",
       "  <thead>\n",
       "    <tr style=\"text-align: right;\">\n",
       "      <th></th>\n",
       "      <th>TF_p</th>\n",
       "      <th>word</th>\n",
       "      <th>TF_n</th>\n",
       "      <th>positive</th>\n",
       "      <th>negative</th>\n",
       "      <th>log_ratio</th>\n",
       "      <th>type</th>\n",
       "    </tr>\n",
       "  </thead>\n",
       "  <tbody>\n",
       "    <tr>\n",
       "      <th>417</th>\n",
       "      <td>64</td>\n",
       "      <td>比高</td>\n",
       "      <td>1</td>\n",
       "      <td>0.003301</td>\n",
       "      <td>0.000053</td>\n",
       "      <td>4.126757</td>\n",
       "      <td>Positive</td>\n",
       "    </tr>\n",
       "    <tr>\n",
       "      <th>270</th>\n",
       "      <td>49</td>\n",
       "      <td>時尚</td>\n",
       "      <td>1</td>\n",
       "      <td>0.002527</td>\n",
       "      <td>0.000053</td>\n",
       "      <td>3.859694</td>\n",
       "      <td>Positive</td>\n",
       "    </tr>\n",
       "    <tr>\n",
       "      <th>338</th>\n",
       "      <td>29</td>\n",
       "      <td>光明</td>\n",
       "      <td>1</td>\n",
       "      <td>0.001496</td>\n",
       "      <td>0.000053</td>\n",
       "      <td>3.335169</td>\n",
       "      <td>Positive</td>\n",
       "    </tr>\n",
       "    <tr>\n",
       "      <th>91</th>\n",
       "      <td>29</td>\n",
       "      <td>感謝</td>\n",
       "      <td>1</td>\n",
       "      <td>0.001496</td>\n",
       "      <td>0.000053</td>\n",
       "      <td>3.335169</td>\n",
       "      <td>Positive</td>\n",
       "    </tr>\n",
       "    <tr>\n",
       "      <th>381</th>\n",
       "      <td>27</td>\n",
       "      <td>正品</td>\n",
       "      <td>1</td>\n",
       "      <td>0.001393</td>\n",
       "      <td>0.000053</td>\n",
       "      <td>3.263710</td>\n",
       "      <td>Positive</td>\n",
       "    </tr>\n",
       "    <tr>\n",
       "      <th>383</th>\n",
       "      <td>26</td>\n",
       "      <td>好吃</td>\n",
       "      <td>1</td>\n",
       "      <td>0.001341</td>\n",
       "      <td>0.000053</td>\n",
       "      <td>3.225970</td>\n",
       "      <td>Positive</td>\n",
       "    </tr>\n",
       "    <tr>\n",
       "      <th>305</th>\n",
       "      <td>26</td>\n",
       "      <td>合適</td>\n",
       "      <td>1</td>\n",
       "      <td>0.001341</td>\n",
       "      <td>0.000053</td>\n",
       "      <td>3.225970</td>\n",
       "      <td>Positive</td>\n",
       "    </tr>\n",
       "    <tr>\n",
       "      <th>148</th>\n",
       "      <td>25</td>\n",
       "      <td>幸福</td>\n",
       "      <td>1</td>\n",
       "      <td>0.001289</td>\n",
       "      <td>0.000053</td>\n",
       "      <td>3.186749</td>\n",
       "      <td>Positive</td>\n",
       "    </tr>\n",
       "    <tr>\n",
       "      <th>743</th>\n",
       "      <td>25</td>\n",
       "      <td>挺快</td>\n",
       "      <td>1</td>\n",
       "      <td>0.001289</td>\n",
       "      <td>0.000053</td>\n",
       "      <td>3.186749</td>\n",
       "      <td>Positive</td>\n",
       "    </tr>\n",
       "    <tr>\n",
       "      <th>377</th>\n",
       "      <td>123</td>\n",
       "      <td>漂亮</td>\n",
       "      <td>5</td>\n",
       "      <td>0.006344</td>\n",
       "      <td>0.000266</td>\n",
       "      <td>3.170620</td>\n",
       "      <td>Positive</td>\n",
       "    </tr>\n",
       "  </tbody>\n",
       "</table>\n",
       "</div>"
      ],
      "text/plain": [
       "     TF_p word  TF_n  positive  negative  log_ratio      type\n",
       "417    64   比高     1  0.003301  0.000053   4.126757  Positive\n",
       "270    49   時尚     1  0.002527  0.000053   3.859694  Positive\n",
       "338    29   光明     1  0.001496  0.000053   3.335169  Positive\n",
       "91     29   感謝     1  0.001496  0.000053   3.335169  Positive\n",
       "381    27   正品     1  0.001393  0.000053   3.263710  Positive\n",
       "383    26   好吃     1  0.001341  0.000053   3.225970  Positive\n",
       "305    26   合適     1  0.001341  0.000053   3.225970  Positive\n",
       "148    25   幸福     1  0.001289  0.000053   3.186749  Positive\n",
       "743    25   挺快     1  0.001289  0.000053   3.186749  Positive\n",
       "377   123   漂亮     5  0.006344  0.000266   3.170620  Positive"
      ]
     },
     "execution_count": 9,
     "metadata": {},
     "output_type": "execute_result"
    }
   ],
   "source": [
    "import numpy as np\n",
    "word_all['positive'] = word_all.TF_p/sum(word_all.TF_p)\n",
    "word_all['negative'] = word_all.TF_n/sum(word_all.TF_n)\n",
    "word_all['log_ratio'] = np.log(word_all['positive']/word_all['negative'])\n",
    "word_all['type'] = word_all['log_ratio'].apply(lambda x: 'Positive' if x>=0 else 'Negative')\n",
    "word_all = word_all.sort_values(by='log_ratio', ascending=False)\n",
    "most_p = word_all[:10]\n",
    "most_p"
   ]
  },
  {
   "cell_type": "code",
   "execution_count": 10,
   "metadata": {},
   "outputs": [
    {
     "data": {
      "text/html": [
       "<div>\n",
       "<style scoped>\n",
       "    .dataframe tbody tr th:only-of-type {\n",
       "        vertical-align: middle;\n",
       "    }\n",
       "\n",
       "    .dataframe tbody tr th {\n",
       "        vertical-align: top;\n",
       "    }\n",
       "\n",
       "    .dataframe thead th {\n",
       "        text-align: right;\n",
       "    }\n",
       "</style>\n",
       "<table border=\"1\" class=\"dataframe\">\n",
       "  <thead>\n",
       "    <tr style=\"text-align: right;\">\n",
       "      <th></th>\n",
       "      <th>TF_p</th>\n",
       "      <th>word</th>\n",
       "      <th>TF_n</th>\n",
       "      <th>positive</th>\n",
       "      <th>negative</th>\n",
       "      <th>log_ratio</th>\n",
       "      <th>type</th>\n",
       "    </tr>\n",
       "  </thead>\n",
       "  <tbody>\n",
       "    <tr>\n",
       "      <th>1799</th>\n",
       "      <td>2</td>\n",
       "      <td>關機</td>\n",
       "      <td>32</td>\n",
       "      <td>0.000103</td>\n",
       "      <td>0.001704</td>\n",
       "      <td>-2.804715</td>\n",
       "      <td>Negative</td>\n",
       "    </tr>\n",
       "    <tr>\n",
       "      <th>1946</th>\n",
       "      <td>1</td>\n",
       "      <td>太慢</td>\n",
       "      <td>17</td>\n",
       "      <td>0.000052</td>\n",
       "      <td>0.000905</td>\n",
       "      <td>-2.865340</td>\n",
       "      <td>Negative</td>\n",
       "    </tr>\n",
       "    <tr>\n",
       "      <th>1087</th>\n",
       "      <td>1</td>\n",
       "      <td>招待所</td>\n",
       "      <td>17</td>\n",
       "      <td>0.000052</td>\n",
       "      <td>0.000905</td>\n",
       "      <td>-2.865340</td>\n",
       "      <td>Negative</td>\n",
       "    </tr>\n",
       "    <tr>\n",
       "      <th>684</th>\n",
       "      <td>2</td>\n",
       "      <td>再也</td>\n",
       "      <td>36</td>\n",
       "      <td>0.000103</td>\n",
       "      <td>0.001917</td>\n",
       "      <td>-2.922498</td>\n",
       "      <td>Negative</td>\n",
       "    </tr>\n",
       "    <tr>\n",
       "      <th>1275</th>\n",
       "      <td>2</td>\n",
       "      <td>太差</td>\n",
       "      <td>48</td>\n",
       "      <td>0.000103</td>\n",
       "      <td>0.002556</td>\n",
       "      <td>-3.210180</td>\n",
       "      <td>Negative</td>\n",
       "    </tr>\n",
       "    <tr>\n",
       "      <th>1783</th>\n",
       "      <td>2</td>\n",
       "      <td>垃圾</td>\n",
       "      <td>63</td>\n",
       "      <td>0.000103</td>\n",
       "      <td>0.003355</td>\n",
       "      <td>-3.482114</td>\n",
       "      <td>Negative</td>\n",
       "    </tr>\n",
       "    <tr>\n",
       "      <th>1760</th>\n",
       "      <td>4</td>\n",
       "      <td>抵制</td>\n",
       "      <td>134</td>\n",
       "      <td>0.000206</td>\n",
       "      <td>0.007137</td>\n",
       "      <td>-3.543672</td>\n",
       "      <td>Negative</td>\n",
       "    </tr>\n",
       "    <tr>\n",
       "      <th>1867</th>\n",
       "      <td>1</td>\n",
       "      <td>不了</td>\n",
       "      <td>36</td>\n",
       "      <td>0.000052</td>\n",
       "      <td>0.001917</td>\n",
       "      <td>-3.615645</td>\n",
       "      <td>Negative</td>\n",
       "    </tr>\n",
       "    <tr>\n",
       "      <th>2253</th>\n",
       "      <td>1</td>\n",
       "      <td>根本</td>\n",
       "      <td>39</td>\n",
       "      <td>0.000052</td>\n",
       "      <td>0.002077</td>\n",
       "      <td>-3.695688</td>\n",
       "      <td>Negative</td>\n",
       "    </tr>\n",
       "    <tr>\n",
       "      <th>1697</th>\n",
       "      <td>2</td>\n",
       "      <td>內容</td>\n",
       "      <td>116</td>\n",
       "      <td>0.000103</td>\n",
       "      <td>0.006178</td>\n",
       "      <td>-4.092569</td>\n",
       "      <td>Negative</td>\n",
       "    </tr>\n",
       "  </tbody>\n",
       "</table>\n",
       "</div>"
      ],
      "text/plain": [
       "      TF_p word  TF_n  positive  negative  log_ratio      type\n",
       "1799     2   關機    32  0.000103  0.001704  -2.804715  Negative\n",
       "1946     1   太慢    17  0.000052  0.000905  -2.865340  Negative\n",
       "1087     1  招待所    17  0.000052  0.000905  -2.865340  Negative\n",
       "684      2   再也    36  0.000103  0.001917  -2.922498  Negative\n",
       "1275     2   太差    48  0.000103  0.002556  -3.210180  Negative\n",
       "1783     2   垃圾    63  0.000103  0.003355  -3.482114  Negative\n",
       "1760     4   抵制   134  0.000206  0.007137  -3.543672  Negative\n",
       "1867     1   不了    36  0.000052  0.001917  -3.615645  Negative\n",
       "2253     1   根本    39  0.000052  0.002077  -3.695688  Negative\n",
       "1697     2   內容   116  0.000103  0.006178  -4.092569  Negative"
      ]
     },
     "execution_count": 10,
     "metadata": {},
     "output_type": "execute_result"
    }
   ],
   "source": [
    "most_n = word_all[-10:]\n",
    "most_n"
   ]
  },
  {
   "cell_type": "code",
   "execution_count": 11,
   "metadata": {},
   "outputs": [
    {
     "data": {
      "text/plain": [
       "<Figure size 800x600 with 1 Axes>"
      ]
     },
     "metadata": {},
     "output_type": "display_data"
    }
   ],
   "source": [
    "import matplotlib.pyplot as plt\n",
    "import seaborn as sns\n",
    "from matplotlib.font_manager import FontProperties\n",
    "import seaborn as sns\n",
    "sns.set(font=['sans-serif'])\n",
    "sns.set_style(\"whitegrid\",{\"font.sans-serif\":['Microsoft JhengHei']})\n",
    "plt.figure(figsize=(8, 6)) \n",
    "plt.rcParams.update({'font.size': 12})\n",
    "\n",
    "plt.barh(most_p['word'],most_p['log_ratio'], label=\"Positive\")\n",
    "plt.barh(most_n['word'],most_n['log_ratio'], label=\"Nagative\")\n",
    "plt.legend()\n",
    "plt.show()"
   ]
  },
  {
   "cell_type": "code",
   "execution_count": 12,
   "metadata": {},
   "outputs": [],
   "source": [
    "ans=[]\n",
    "for i in range(len(df)):\n",
    "   ans.append(df['token_text'][i])\n",
    "ans=[val for sublist in ans for val in sublist]"
   ]
  },
  {
   "cell_type": "code",
   "execution_count": 13,
   "metadata": {},
   "outputs": [],
   "source": [
    "seg_list=' '.join(ans)"
   ]
  },
  {
   "cell_type": "code",
   "execution_count": 14,
   "metadata": {},
   "outputs": [],
   "source": [
    "from wordcloud import WordCloud"
   ]
  },
  {
   "cell_type": "code",
   "execution_count": 20,
   "metadata": {},
   "outputs": [
    {
     "data": {
      "image/png": "[encoded data removed]",
      "text/plain": [
       "<Figure size 432x288 with 1 Axes>"
      ]
     },
     "metadata": {},
     "output_type": "display_data"
    },
    {
     "data": {
      "text/plain": [
       "<Figure size 2000x2000 with 0 Axes>"
      ]
     },
     "metadata": {},
     "output_type": "display_data"
    }
   ],
   "source": [
    "#https://medium.com/@fsflyingsoar/%E7%AD%86%E8%A8%98-for-python-jieba-wordcloud-b814f5e04e01\n",
    "#https://medium.com/pyladies-taiwan/%E4%BB%A5-jieba-%E8%88%87-gensim-%E6%8E%A2%E7%B4%A2%E6%96%87%E6%9C%AC%E4%B8%BB%E9%A1%8C-%E4%BA%94%E6%9C%88%E5%A4%A9%E4%BA%BA%E7%94%9F%E7%84%A1%E9%99%90%E5%85%AC%E5%8F%B8%E6%AD%8C%E8%A9%9E%E5%88%86%E6%9E%90-i-cd2147b89083\n",
    "wc = WordCloud(background_color='black',font_path=\"NotoSerifCJKtc-Black.otf\",max_words = 2000)\n",
    "wc.generate(seg_list)\n",
    "import matplotlib.pyplot as plt\n",
    "font_path = './KAIU.TTF' \n",
    "plt.imshow(wc)\n",
    "plt.axis(\"off\")\n",
    "plt.figure(figsize=(20,20), dpi = 100)\n",
    "plt.show()"
   ]
  },
  {
   "cell_type": "code",
   "execution_count": 21,
   "metadata": {},
   "outputs": [
    {
     "name": "stderr",
     "output_type": "stream",
     "text": [
      "C:\\Users\\POPO\\Anaconda3\\lib\\site-packages\\gensim\\models\\base_any2vec.py:743: UserWarning: C extension not loaded, training will be slow. Install a C compiler and reinstall gensim for fast training.\n",
      "  \"C extension not loaded, training will be slow. \"\n"
     ]
    }
   ],
   "source": [
    "from gensim.models import Word2Vec\n",
    "model = Word2Vec(df['token_text'],size=300, min_count=1,sg=1, window=5) "
   ]
  },
  {
   "cell_type": "code",
   "execution_count": 28,
   "metadata": {},
   "outputs": [
    {
     "name": "stderr",
     "output_type": "stream",
     "text": [
      "C:\\Users\\POPO\\Anaconda3\\lib\\site-packages\\ipykernel_launcher.py:2: DeprecationWarning: Call to deprecated `__contains__` (Method will be removed in 4.0.0, use self.wv.__contains__() instead).\n",
      "  \n",
      "C:\\Users\\POPO\\Anaconda3\\lib\\site-packages\\ipykernel_launcher.py:2: DeprecationWarning: Call to deprecated `__getitem__` (Method will be removed in 4.0.0, use self.wv.__getitem__() instead).\n",
      "  \n",
      "C:\\Users\\POPO\\Anaconda3\\lib\\site-packages\\ipykernel_launcher.py:7: SettingWithCopyWarning: \n",
      "A value is trying to be set on a copy of a slice from a DataFrame.\n",
      "Try using .loc[row_indexer,col_indexer] = value instead\n",
      "\n",
      "See the caveats in the documentation: http://pandas.pydata.org/pandas-docs/stable/user_guide/indexing.html#returning-a-view-versus-a-copy\n",
      "  import sys\n"
     ]
    },
    {
     "data": {
      "text/html": [
       "<div>\n",
       "<style scoped>\n",
       "    .dataframe tbody tr th:only-of-type {\n",
       "        vertical-align: middle;\n",
       "    }\n",
       "\n",
       "    .dataframe tbody tr th {\n",
       "        vertical-align: top;\n",
       "    }\n",
       "\n",
       "    .dataframe thead th {\n",
       "        text-align: right;\n",
       "    }\n",
       "</style>\n",
       "<table border=\"1\" class=\"dataframe\">\n",
       "  <thead>\n",
       "    <tr style=\"text-align: right;\">\n",
       "      <th></th>\n",
       "      <th>tag</th>\n",
       "      <th>text</th>\n",
       "      <th>token_text</th>\n",
       "      <th>doc_vec</th>\n",
       "      <th>length</th>\n",
       "    </tr>\n",
       "  </thead>\n",
       "  <tbody>\n",
       "    <tr>\n",
       "      <th>0</th>\n",
       "      <td>P</td>\n",
       "      <td>店家很給力，快遞也是相當快，第三次光顧啦</td>\n",
       "      <td>[店家, 給力, 快遞, 相當快, 第三次, 光顧]</td>\n",
       "      <td>[0.06595946, 0.06516674, 0.014508425, 0.137314...</td>\n",
       "      <td>6</td>\n",
       "    </tr>\n",
       "    <tr>\n",
       "      <th>1</th>\n",
       "      <td>N</td>\n",
       "      <td>這樣的配置用Vista系統還是有點卡。 指紋收集器。 沒送原裝滑鼠還需要自己買，不太好。</td>\n",
       "      <td>[配置, Vista, 系統, 有點, 卡, 指紋, 收集器, 沒送, 原裝, 滑鼠, 需要...</td>\n",
       "      <td>[0.120944805, 0.11033152, 0.01643006, 0.254232...</td>\n",
       "      <td>13</td>\n",
       "    </tr>\n",
       "    <tr>\n",
       "      <th>2</th>\n",
       "      <td>P</td>\n",
       "      <td>不錯，在同等檔次酒店中應該是值得推薦的！</td>\n",
       "      <td>[不錯, 同等, 檔次, 酒店, 中應, 值得, 推薦]</td>\n",
       "      <td>[0.08634144, 0.060902007, 0.049975593, 0.23337...</td>\n",
       "      <td>7</td>\n",
       "    </tr>\n",
       "    <tr>\n",
       "      <th>3</th>\n",
       "      <td>N</td>\n",
       "      <td>哎！ 不會是蒙牛乾的吧 嚴懲真凶！</td>\n",
       "      <td>[不會, 蒙牛, 乾, 嚴懲, 真凶]</td>\n",
       "      <td>[0.08313079, 0.09727796, 0.009873659, 0.127557...</td>\n",
       "      <td>5</td>\n",
       "    </tr>\n",
       "    <tr>\n",
       "      <th>4</th>\n",
       "      <td>N</td>\n",
       "      <td>空尤其是三立電視臺女主播做的序尤其無趣像是硬湊那麼多字</td>\n",
       "      <td>[空, 尤其, 三立, 電視, 臺, 女主播, 做, 序, 尤其, 無趣, 像是, 硬, 湊...</td>\n",
       "      <td>[0.07334383, 0.069294795, 0.018629383, 0.15480...</td>\n",
       "      <td>14</td>\n",
       "    </tr>\n",
       "  </tbody>\n",
       "</table>\n",
       "</div>"
      ],
      "text/plain": [
       "  tag                                          text  \\\n",
       "0   P                          店家很給力，快遞也是相當快，第三次光顧啦   \n",
       "1   N  這樣的配置用Vista系統還是有點卡。 指紋收集器。 沒送原裝滑鼠還需要自己買，不太好。   \n",
       "2   P                          不錯，在同等檔次酒店中應該是值得推薦的！   \n",
       "3   N                             哎！ 不會是蒙牛乾的吧 嚴懲真凶！   \n",
       "4   N                   空尤其是三立電視臺女主播做的序尤其無趣像是硬湊那麼多字   \n",
       "\n",
       "                                          token_text  \\\n",
       "0                         [店家, 給力, 快遞, 相當快, 第三次, 光顧]   \n",
       "1  [配置, Vista, 系統, 有點, 卡, 指紋, 收集器, 沒送, 原裝, 滑鼠, 需要...   \n",
       "2                       [不錯, 同等, 檔次, 酒店, 中應, 值得, 推薦]   \n",
       "3                                [不會, 蒙牛, 乾, 嚴懲, 真凶]   \n",
       "4  [空, 尤其, 三立, 電視, 臺, 女主播, 做, 序, 尤其, 無趣, 像是, 硬, 湊...   \n",
       "\n",
       "                                             doc_vec  length  \n",
       "0  [0.06595946, 0.06516674, 0.014508425, 0.137314...       6  \n",
       "1  [0.120944805, 0.11033152, 0.01643006, 0.254232...      13  \n",
       "2  [0.08634144, 0.060902007, 0.049975593, 0.23337...       7  \n",
       "3  [0.08313079, 0.09727796, 0.009873659, 0.127557...       5  \n",
       "4  [0.07334383, 0.069294795, 0.018629383, 0.15480...      14  "
      ]
     },
     "execution_count": 28,
     "metadata": {},
     "output_type": "execute_result"
    }
   ],
   "source": [
    "def avg_w2v_vector(text_list):\n",
    "    sum_vec = sum([model[word] if word in model else np.zeros(300) for word in text_list])\n",
    "    result = sum_vec/(len(text_list))\n",
    "    return result\n",
    "df[\"length\"]=df['token_text'].apply(lambda x: len(x))\n",
    "df=df[df[\"length\"]!=0]\n",
    "df['doc_vec'] = df['token_text'].apply(lambda x: avg_w2v_vector(x))\n",
    "df.head()"
   ]
  },
  {
   "cell_type": "code",
   "execution_count": 29,
   "metadata": {},
   "outputs": [
    {
     "name": "stdout",
     "output_type": "stream",
     "text": [
      "5104\n",
      "1277\n"
     ]
    }
   ],
   "source": [
    "from sklearn.model_selection import train_test_split\n",
    "train, test = train_test_split(df, test_size = 0.2, random_state = 123)\n",
    "print(len(train))\n",
    "print(len(test))"
   ]
  },
  {
   "cell_type": "code",
   "execution_count": 36,
   "metadata": {},
   "outputs": [
    {
     "data": {
      "text/plain": [
       "RandomForestClassifier(bootstrap=True, class_weight=None, criterion='gini',\n",
       "                       max_depth=15, max_features='auto', max_leaf_nodes=None,\n",
       "                       min_impurity_decrease=0.0, min_impurity_split=None,\n",
       "                       min_samples_leaf=1, min_samples_split=2,\n",
       "                       min_weight_fraction_leaf=0.0, n_estimators=800,\n",
       "                       n_jobs=None, oob_score=False, random_state=0, verbose=0,\n",
       "                       warm_start=False)"
      ]
     },
     "execution_count": 36,
     "metadata": {},
     "output_type": "execute_result"
    }
   ],
   "source": [
    "from sklearn.ensemble import RandomForestClassifier\n",
    "clf=RandomForestClassifier(n_estimators=800, max_depth=15,random_state=0)\n",
    "clf.fit(list(train['doc_vec']), train['tag'])"
   ]
  },
  {
   "cell_type": "code",
   "execution_count": 37,
   "metadata": {},
   "outputs": [
    {
     "name": "stderr",
     "output_type": "stream",
     "text": [
      "C:\\Users\\POPO\\Anaconda3\\lib\\site-packages\\ipykernel_launcher.py:2: SettingWithCopyWarning: \n",
      "A value is trying to be set on a copy of a slice from a DataFrame.\n",
      "Try using .loc[row_indexer,col_indexer] = value instead\n",
      "\n",
      "See the caveats in the documentation: http://pandas.pydata.org/pandas-docs/stable/user_guide/indexing.html#returning-a-view-versus-a-copy\n",
      "  \n"
     ]
    }
   ],
   "source": [
    "result = clf.predict(list(test['doc_vec']))\n",
    "test['predict_log'] = result"
   ]
  },
  {
   "cell_type": "code",
   "execution_count": 38,
   "metadata": {},
   "outputs": [
    {
     "name": "stdout",
     "output_type": "stream",
     "text": [
      "0.759592795614722\n"
     ]
    }
   ],
   "source": [
    "print(sum(test['tag']==test['predict_log'])/len(test))"
   ]
  },
  {
   "cell_type": "code",
   "execution_count": null,
   "metadata": {},
   "outputs": [],
   "source": []
  }
 ],
 "metadata": {
  "kernelspec": {
   "display_name": "Python 3",
   "language": "python",
   "name": "python3"
  },
  "language_info": {
   "codemirror_mode": {
    "name": "ipython",
    "version": 3
   },
   "file_extension": ".py",
   "mimetype": "text/x-python",
   "name": "python",
   "nbconvert_exporter": "python",
   "pygments_lexer": "ipython3",
   "version": "3.6.5"
  }
 },
 "nbformat": 4,
 "nbformat_minor": 2
}
