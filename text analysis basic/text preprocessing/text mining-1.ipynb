{
 "cells": [
  {
   "cell_type": "markdown",
   "metadata": {},
   "source": [
    "# Text Mining I"
   ]
  },
  {
   "cell_type": "markdown",
   "metadata": {},
   "source": [
    "## Data Preparation"
   ]
  },
  {
   "cell_type": "markdown",
   "metadata": {},
   "source": [
    "Open the corpus in the file \"hindu.txt\" from https://en.wikipedia.org/wiki/Hindu\n",
    "\n",
    "Other public resource: \n",
    "http://www.gutenberg.org/\n",
    "\n",
    "Never \"push\" protected text to Github or other publicly available platforms.  "
   ]
  },
  {
   "cell_type": "code",
   "execution_count": 1,
   "metadata": {},
   "outputs": [],
   "source": [
    "with open(\"hindu.txt\") as fin:\n",
    "    text = fin.read()"
   ]
  },
  {
   "cell_type": "markdown",
   "metadata": {},
   "source": [
    "Length of the corpus (in characters) "
   ]
  },
  {
   "cell_type": "code",
   "execution_count": 2,
   "metadata": {},
   "outputs": [
    {
     "name": "stdout",
     "output_type": "stream",
     "text": [
      "The lenght of the corpus: 2747\n"
     ]
    }
   ],
   "source": [
    "print(\"The lenght of the corpus: %d\" % len(text))"
   ]
  },
  {
   "cell_type": "code",
   "execution_count": 3,
   "metadata": {},
   "outputs": [
    {
     "name": "stdout",
     "output_type": "stream",
     "text": [
      "Hindu refers to any person who regards themselves as culturally, ethnically, or religiously adhering to aspects of Hinduism.[1][2] It has historically been used as a geographical, cultural, and later religious identifier for people indigenous to the Indian subcontinent.[3][4]\n",
      "\n",
      "The historical meaning of the term Hindu has evolved with time. Starting with the Persian and Greek references to the land of the Indus in the 1st millennium BCE through the texts of the medieval era,[5] the term Hindu implied a geographic, ethnic or cultural identifier for people living in the Indian subcontinent around or beyond the Sindhu (Indus) river.[6] By the 16th century, the term began to refer to residents of the subcontinent who were not Turkic or Muslims.[6][a][b]\n",
      "\n",
      "The historical development of Hindu self-identity within the local South Asian population, in a religious or cultural sense, is unclear.[3][7] Competing theories state that Hindu identity developed in the British colonial era, or that it developed post-8th century CE after the Islamic invasion and medieval Hindu-Muslim wars.[7][8][9] A sense of Hindu identity and the term Hindu appears in some texts dated between the 13th and 18th century in Sanskrit and regional languages.[8][10] The 14th- and 18th-century Indian poets such as Vidyapati, Kabir and Eknath used the phrase Hindu dharma (Hinduism) and contrasted it with Turaka dharma (Islam).[11] The Christian friar Sebastiao Manrique used the term 'Hindu' in religious context in 1649.[12] In the 18th century, the European merchants and colonists began to refer to the followers of Indian religions collectively as Hindus, in contrast to Mohamedans for Mughals and Arabs following Islam.[3][6] By the mid-19th century, colonial orientalist texts further distinguished Hindus from Buddhists, Sikhs and Jains,[3] but the colonial laws continued to consider all of them to be within the scope of the term Hindu until about mid-20th century.[13] Scholars state that the custom of distinguishing between Hindus, Buddhists, Jains and Sikhs is a modern phenomenon.[14][15] Hindoo is an archaic spelling variant, whose use today may be considered derogatory.[16][17]\n",
      "\n",
      "At more than 1.03 billion,[18] Hindus are the world's third largest group after Christians and Muslims. The vast majority of Hindus, approximately 966 million, live in India, according to India's 2011 census.[19] After India, the next 9 countries with the largest Hindu populations are, in decreasing order: Nepal, Bangladesh, Indonesia, Pakistan, Sri Lanka, United States, Malaysia, United Kingdom and Myanmar.[20] These together accounted for 99% of the world's Hindu population, and the remaining nations of the world together had about 6 million Hindus in 2010.[20]\n"
     ]
    }
   ],
   "source": [
    "print(text)"
   ]
  },
  {
   "cell_type": "markdown",
   "metadata": {},
   "source": [
    "## Tokenization"
   ]
  },
  {
   "cell_type": "code",
   "execution_count": 4,
   "metadata": {},
   "outputs": [
    {
     "name": "stdout",
     "output_type": "stream",
     "text": [
      "['Hindu', 'refers', 'to', 'any', 'person', 'who', 'regards', 'themselves', 'as', 'culturally,', 'ethnically,', 'or', 'religiously', 'adhering', 'to', 'aspects', 'of', 'Hinduism.[1][2]', 'It', 'has', 'historically', 'been', 'used', 'as', 'a', 'geographical,', 'cultural,', 'and', 'later', 'religious', 'identifier', 'for', 'people', 'indigenous', 'to', 'the', 'Indian', 'subcontinent.[3][4]\\n\\nThe', 'historical', 'meaning', 'of', 'the', 'term', 'Hindu', 'has', 'evolved', 'with', 'time.', 'Starting', 'with', 'the', 'Persian', 'and', 'Greek', 'references', 'to', 'the', 'land', 'of', 'the', 'Indus', 'in', 'the', '1st', 'millennium', 'BCE', 'through', 'the', 'texts', 'of', 'the', 'medieval', 'era,[5]', 'the', 'term', 'Hindu', 'implied', 'a', 'geographic,', 'ethnic', 'or', 'cultural', 'identifier', 'for', 'people', 'living', 'in', 'the', 'Indian', 'subcontinent', 'around', 'or', 'beyond', 'the', 'Sindhu', '(Indus)', 'river.[6]', 'By', 'the', '16th', 'century,', 'the', 'term', 'began', 'to', 'refer', 'to', 'residents', 'of', 'the', 'subcontinent', 'who', 'were', 'not', 'Turkic', 'or', 'Muslims.[6][a][b]\\n\\nThe', 'historical', 'development', 'of', 'Hindu', 'self-identity', 'within', 'the', 'local', 'South', 'Asian', 'population,', 'in', 'a', 'religious', 'or', 'cultural', 'sense,', 'is', 'unclear.[3][7]', 'Competing', 'theories', 'state', 'that', 'Hindu', 'identity', 'developed', 'in', 'the', 'British', 'colonial', 'era,', 'or', 'that', 'it', 'developed', 'post-8th', 'century', 'CE', 'after', 'the', 'Islamic', 'invasion', 'and', 'medieval', 'Hindu-Muslim', 'wars.[7][8][9]', 'A', 'sense', 'of', 'Hindu', 'identity', 'and', 'the', 'term', 'Hindu', 'appears', 'in', 'some', 'texts', 'dated', 'between', 'the', '13th', 'and', '18th', 'century', 'in', 'Sanskrit', 'and', 'regional', 'languages.[8][10]', 'The', '14th-', 'and', '18th-century', 'Indian', 'poets', 'such', 'as', 'Vidyapati,', 'Kabir', 'and', 'Eknath', 'used', 'the', 'phrase', 'Hindu', 'dharma', '(Hinduism)', 'and', 'contrasted', 'it', 'with', 'Turaka', 'dharma', '(Islam).[11]', 'The', 'Christian', 'friar', 'Sebastiao', 'Manrique', 'used', 'the', 'term', \"'Hindu'\", 'in', 'religious', 'context', 'in', '1649.[12]', 'In', 'the', '18th', 'century,', 'the', 'European', 'merchants', 'and', 'colonists', 'began', 'to', 'refer', 'to', 'the', 'followers', 'of', 'Indian', 'religions', 'collectively', 'as', 'Hindus,', 'in', 'contrast', 'to', 'Mohamedans', 'for', 'Mughals', 'and', 'Arabs', 'following', 'Islam.[3][6]', 'By', 'the', 'mid-19th', 'century,', 'colonial', 'orientalist', 'texts', 'further', 'distinguished', 'Hindus', 'from', 'Buddhists,', 'Sikhs', 'and', 'Jains,[3]', 'but', 'the', 'colonial', 'laws', 'continued', 'to', 'consider', 'all', 'of', 'them', 'to', 'be', 'within', 'the', 'scope', 'of', 'the', 'term', 'Hindu', 'until', 'about', 'mid-20th', 'century.[13]', 'Scholars', 'state', 'that', 'the', 'custom', 'of', 'distinguishing', 'between', 'Hindus,', 'Buddhists,', 'Jains', 'and', 'Sikhs', 'is', 'a', 'modern', 'phenomenon.[14][15]', 'Hindoo', 'is', 'an', 'archaic', 'spelling', 'variant,', 'whose', 'use', 'today', 'may', 'be', 'considered', 'derogatory.[16][17]\\n\\nAt', 'more', 'than', '1.03', 'billion,[18]', 'Hindus', 'are', 'the', \"world's\", 'third', 'largest', 'group', 'after', 'Christians', 'and', 'Muslims.', 'The', 'vast', 'majority', 'of', 'Hindus,', 'approximately', '966', 'million,', 'live', 'in', 'India,', 'according', 'to', \"India's\", '2011', 'census.[19]', 'After', 'India,', 'the', 'next', '9', 'countries', 'with', 'the', 'largest', 'Hindu', 'populations', 'are,', 'in', 'decreasing', 'order:', 'Nepal,', 'Bangladesh,', 'Indonesia,', 'Pakistan,', 'Sri', 'Lanka,', 'United', 'States,', 'Malaysia,', 'United', 'Kingdom', 'and', 'Myanmar.[20]', 'These', 'together', 'accounted', 'for', '99%', 'of', 'the', \"world's\", 'Hindu', 'population,', 'and', 'the', 'remaining', 'nations', 'of', 'the', 'world', 'together', 'had', 'about', '6', 'million', 'Hindus', 'in', '2010.[20]']\n"
     ]
    }
   ],
   "source": [
    "print(text.split(\" \"))"
   ]
  },
  {
   "cell_type": "code",
   "execution_count": 5,
   "metadata": {},
   "outputs": [
    {
     "name": "stdout",
     "output_type": "stream",
     "text": [
      "['Hindu', 'refers', 'to', 'any', 'person', 'who', 'regards', 'themselves', 'as', 'culturally', ',', 'ethnically', ',', 'or', 'religiously', 'adhering', 'to', 'aspects', 'of', 'Hinduism', '.', '[', '1', ']', '[', '2', ']', 'It', 'has', 'historically', 'been', 'used', 'as', 'a', 'geographical', ',', 'cultural', ',', 'and', 'later', 'religious', 'identifier', 'for', 'people', 'indigenous', 'to', 'the', 'Indian', 'subcontinent', '.', '[', '3', ']', '[', '4', ']', 'The', 'historical', 'meaning', 'of', 'the', 'term', 'Hindu', 'has', 'evolved', 'with', 'time', '.', 'Starting', 'with', 'the', 'Persian', 'and', 'Greek', 'references', 'to', 'the', 'land', 'of', 'the', 'Indus', 'in', 'the', '1st', 'millennium', 'BCE', 'through', 'the', 'texts', 'of', 'the', 'medieval', 'era', ',', '[', '5', ']', 'the', 'term', 'Hindu', 'implied', 'a', 'geographic', ',', 'ethnic', 'or', 'cultural', 'identifier', 'for', 'people', 'living', 'in', 'the', 'Indian', 'subcontinent', 'around', 'or', 'beyond', 'the', 'Sindhu', '(', 'Indus', ')', 'river', '.', '[', '6', ']', 'By', 'the', '16th', 'century', ',', 'the', 'term', 'began', 'to', 'refer', 'to', 'residents', 'of', 'the', 'subcontinent', 'who', 'were', 'not', 'Turkic', 'or', 'Muslims', '.', '[', '6', ']', '[', 'a', ']', '[', 'b', ']', 'The', 'historical', 'development', 'of', 'Hindu', 'self-identity', 'within', 'the', 'local', 'South', 'Asian', 'population', ',', 'in', 'a', 'religious', 'or', 'cultural', 'sense', ',', 'is', 'unclear', '.', '[', '3', ']', '[', '7', ']', 'Competing', 'theories', 'state', 'that', 'Hindu', 'identity', 'developed', 'in', 'the', 'British', 'colonial', 'era', ',', 'or', 'that', 'it', 'developed', 'post-8th', 'century', 'CE', 'after', 'the', 'Islamic', 'invasion', 'and', 'medieval', 'Hindu-Muslim', 'wars', '.', '[', '7', ']', '[', '8', ']', '[', '9', ']', 'A', 'sense', 'of', 'Hindu', 'identity', 'and', 'the', 'term', 'Hindu', 'appears', 'in', 'some', 'texts', 'dated', 'between', 'the', '13th', 'and', '18th', 'century', 'in', 'Sanskrit', 'and', 'regional', 'languages', '.', '[', '8', ']', '[', '10', ']', 'The', '14th-', 'and', '18th-century', 'Indian', 'poets', 'such', 'as', 'Vidyapati', ',', 'Kabir', 'and', 'Eknath', 'used', 'the', 'phrase', 'Hindu', 'dharma', '(', 'Hinduism', ')', 'and', 'contrasted', 'it', 'with', 'Turaka', 'dharma', '(', 'Islam', ')', '.', '[', '11', ']', 'The', 'Christian', 'friar', 'Sebastiao', 'Manrique', 'used', 'the', 'term', \"'Hindu\", \"'\", 'in', 'religious', 'context', 'in', '1649', '.', '[', '12', ']', 'In', 'the', '18th', 'century', ',', 'the', 'European', 'merchants', 'and', 'colonists', 'began', 'to', 'refer', 'to', 'the', 'followers', 'of', 'Indian', 'religions', 'collectively', 'as', 'Hindus', ',', 'in', 'contrast', 'to', 'Mohamedans', 'for', 'Mughals', 'and', 'Arabs', 'following', 'Islam', '.', '[', '3', ']', '[', '6', ']', 'By', 'the', 'mid-19th', 'century', ',', 'colonial', 'orientalist', 'texts', 'further', 'distinguished', 'Hindus', 'from', 'Buddhists', ',', 'Sikhs', 'and', 'Jains', ',', '[', '3', ']', 'but', 'the', 'colonial', 'laws', 'continued', 'to', 'consider', 'all', 'of', 'them', 'to', 'be', 'within', 'the', 'scope', 'of', 'the', 'term', 'Hindu', 'until', 'about', 'mid-20th', 'century', '.', '[', '13', ']', 'Scholars', 'state', 'that', 'the', 'custom', 'of', 'distinguishing', 'between', 'Hindus', ',', 'Buddhists', ',', 'Jains', 'and', 'Sikhs', 'is', 'a', 'modern', 'phenomenon', '.', '[', '14', ']', '[', '15', ']', 'Hindoo', 'is', 'an', 'archaic', 'spelling', 'variant', ',', 'whose', 'use', 'today', 'may', 'be', 'considered', 'derogatory', '.', '[', '16', ']', '[', '17', ']', 'At', 'more', 'than', '1.03', 'billion', ',', '[', '18', ']', 'Hindus', 'are', 'the', 'world', \"'s\", 'third', 'largest', 'group', 'after', 'Christians', 'and', 'Muslims', '.', 'The', 'vast', 'majority', 'of', 'Hindus', ',', 'approximately', '966', 'million', ',', 'live', 'in', 'India', ',', 'according', 'to', 'India', \"'s\", '2011', 'census', '.', '[', '19', ']', 'After', 'India', ',', 'the', 'next', '9', 'countries', 'with', 'the', 'largest', 'Hindu', 'populations', 'are', ',', 'in', 'decreasing', 'order', ':', 'Nepal', ',', 'Bangladesh', ',', 'Indonesia', ',', 'Pakistan', ',', 'Sri', 'Lanka', ',', 'United', 'States', ',', 'Malaysia', ',', 'United', 'Kingdom', 'and', 'Myanmar', '.', '[', '20', ']', 'These', 'together', 'accounted', 'for', '99', '%', 'of', 'the', 'world', \"'s\", 'Hindu', 'population', ',', 'and', 'the', 'remaining', 'nations', 'of', 'the', 'world', 'together', 'had', 'about', '6', 'million', 'Hindus', 'in', '2010', '.', '[', '20', ']']\n"
     ]
    }
   ],
   "source": [
    "from nltk.tokenize import word_tokenize\n",
    "print(word_tokenize(text))   #a better solution for split(\" \")"
   ]
  },
  {
   "cell_type": "markdown",
   "metadata": {},
   "source": [
    "## Counting"
   ]
  },
  {
   "cell_type": "code",
   "execution_count": 6,
   "metadata": {},
   "outputs": [
    {
     "name": "stdout",
     "output_type": "stream",
     "text": [
      "the\t35\n",
      ",\t33\n",
      "[\t30\n",
      "]\t30\n",
      ".\t18\n",
      "and\t16\n",
      "of\t14\n",
      "to\t12\n",
      "in\t12\n",
      "Hindu\t11\n"
     ]
    }
   ],
   "source": [
    "from collections import Counter\n",
    "\n",
    "tokens = word_tokenize(text)\n",
    "word_count = Counter(tokens)\n",
    "\n",
    "for w, c in word_count.most_common(10):\n",
    "    print(\"%s\\t%d\" % (w, c))"
   ]
  },
  {
   "cell_type": "markdown",
   "metadata": {},
   "source": [
    "## Removal of Punctuation Marks"
   ]
  },
  {
   "cell_type": "code",
   "execution_count": 7,
   "metadata": {},
   "outputs": [
    {
     "name": "stdout",
     "output_type": "stream",
     "text": [
      "!\"#$%&'()*+,-./:;<=>?@[\\]^_`{|}~\n"
     ]
    }
   ],
   "source": [
    "import string\n",
    "print(string.punctuation)       "
   ]
  },
  {
   "cell_type": "code",
   "execution_count": 8,
   "metadata": {},
   "outputs": [
    {
     "name": "stdout",
     "output_type": "stream",
     "text": [
      "['Hindu', 'refers', 'to', 'any', 'person', 'who', 'regards', 'themselves', 'as', 'culturally', 'ethnically', 'or', 'religiously', 'adhering', 'to', 'aspects', 'of', 'Hinduism', '1', '2', 'It', 'has', 'historically', 'been', 'used', 'as', 'a', 'geographical', 'cultural', 'and', 'later', 'religious', 'identifier', 'for', 'people', 'indigenous', 'to', 'the', 'Indian', 'subcontinent', '3', '4', 'The', 'historical', 'meaning', 'of', 'the', 'term', 'Hindu', 'has', 'evolved', 'with', 'time', 'Starting', 'with', 'the', 'Persian', 'and', 'Greek', 'references', 'to', 'the', 'land', 'of', 'the', 'Indus', 'in', 'the', '1st', 'millennium', 'BCE', 'through', 'the', 'texts', 'of', 'the', 'medieval', 'era', '5', 'the', 'term', 'Hindu', 'implied', 'a', 'geographic', 'ethnic', 'or', 'cultural', 'identifier', 'for', 'people', 'living', 'in', 'the', 'Indian', 'subcontinent', 'around', 'or', 'beyond', 'the', 'Sindhu', 'Indus', 'river', '6', 'By', 'the', '16th', 'century', 'the', 'term', 'began', 'to', 'refer', 'to', 'residents', 'of', 'the', 'subcontinent', 'who', 'were', 'not', 'Turkic', 'or', 'Muslims', '6', 'a', 'b', 'The', 'historical', 'development', 'of', 'Hindu', 'self-identity', 'within', 'the', 'local', 'South', 'Asian', 'population', 'in', 'a', 'religious', 'or', 'cultural', 'sense', 'is', 'unclear', '3', '7', 'Competing', 'theories', 'state', 'that', 'Hindu', 'identity', 'developed', 'in', 'the', 'British', 'colonial', 'era', 'or', 'that', 'it', 'developed', 'post-8th', 'century', 'CE', 'after', 'the', 'Islamic', 'invasion', 'and', 'medieval', 'Hindu-Muslim', 'wars', '7', '8', '9', 'A', 'sense', 'of', 'Hindu', 'identity', 'and', 'the', 'term', 'Hindu', 'appears', 'in', 'some', 'texts', 'dated', 'between', 'the', '13th', 'and', '18th', 'century', 'in', 'Sanskrit', 'and', 'regional', 'languages', '8', '10', 'The', '14th-', 'and', '18th-century', 'Indian', 'poets', 'such', 'as', 'Vidyapati', 'Kabir', 'and', 'Eknath', 'used', 'the', 'phrase', 'Hindu', 'dharma', 'Hinduism', 'and', 'contrasted', 'it', 'with', 'Turaka', 'dharma', 'Islam', '11', 'The', 'Christian', 'friar', 'Sebastiao', 'Manrique', 'used', 'the', 'term', \"'Hindu\", 'in', 'religious', 'context', 'in', '1649', '12', 'In', 'the', '18th', 'century', 'the', 'European', 'merchants', 'and', 'colonists', 'began', 'to', 'refer', 'to', 'the', 'followers', 'of', 'Indian', 'religions', 'collectively', 'as', 'Hindus', 'in', 'contrast', 'to', 'Mohamedans', 'for', 'Mughals', 'and', 'Arabs', 'following', 'Islam', '3', '6', 'By', 'the', 'mid-19th', 'century', 'colonial', 'orientalist', 'texts', 'further', 'distinguished', 'Hindus', 'from', 'Buddhists', 'Sikhs', 'and', 'Jains', '3', 'but', 'the', 'colonial', 'laws', 'continued', 'to', 'consider', 'all', 'of', 'them', 'to', 'be', 'within', 'the', 'scope', 'of', 'the', 'term', 'Hindu', 'until', 'about', 'mid-20th', 'century', '13', 'Scholars', 'state', 'that', 'the', 'custom', 'of', 'distinguishing', 'between', 'Hindus', 'Buddhists', 'Jains', 'and', 'Sikhs', 'is', 'a', 'modern', 'phenomenon', '14', '15', 'Hindoo', 'is', 'an', 'archaic', 'spelling', 'variant', 'whose', 'use', 'today', 'may', 'be', 'considered', 'derogatory', '16', '17', 'At', 'more', 'than', '1.03', 'billion', '18', 'Hindus', 'are', 'the', 'world', \"'s\", 'third', 'largest', 'group', 'after', 'Christians', 'and', 'Muslims', 'The', 'vast', 'majority', 'of', 'Hindus', 'approximately', '966', 'million', 'live', 'in', 'India', 'according', 'to', 'India', \"'s\", '2011', 'census', '19', 'After', 'India', 'the', 'next', '9', 'countries', 'with', 'the', 'largest', 'Hindu', 'populations', 'are', 'in', 'decreasing', 'order', 'Nepal', 'Bangladesh', 'Indonesia', 'Pakistan', 'Sri', 'Lanka', 'United', 'States', 'Malaysia', 'United', 'Kingdom', 'and', 'Myanmar', '20', 'These', 'together', 'accounted', 'for', '99', 'of', 'the', 'world', \"'s\", 'Hindu', 'population', 'and', 'the', 'remaining', 'nations', 'of', 'the', 'world', 'together', 'had', 'about', '6', 'million', 'Hindus', 'in', '2010', '20']\n"
     ]
    }
   ],
   "source": [
    "#way to remove Punctuation Marks\n",
    "def remove_punctuation_marks(tokens):\n",
    "    clean_tokens = []\n",
    "    for tok in tokens:\n",
    "        if tok not in string.punctuation:\n",
    "            clean_tokens.append(tok)\n",
    "    return clean_tokens\n",
    "\n",
    "print(remove_punctuation_marks(tokens))"
   ]
  },
  {
   "cell_type": "markdown",
   "metadata": {},
   "source": [
    "Removing all tokens that contain characters other than letters. "
   ]
  },
  {
   "cell_type": "code",
   "execution_count": 10,
   "metadata": {},
   "outputs": [
    {
     "name": "stdout",
     "output_type": "stream",
     "text": [
      "['Hindu', 'refers', 'to', 'any', 'person', 'who', 'regards', 'themselves', 'as', 'culturally', 'ethnically', 'or', 'religiously', 'adhering', 'to', 'aspects', 'of', 'Hinduism', 'It', 'has', 'historically', 'been', 'used', 'as', 'a', 'geographical', 'cultural', 'and', 'later', 'religious', 'identifier', 'for', 'people', 'indigenous', 'to', 'the', 'Indian', 'subcontinent', 'The', 'historical', 'meaning', 'of', 'the', 'term', 'Hindu', 'has', 'evolved', 'with', 'time', 'Starting', 'with', 'the', 'Persian', 'and', 'Greek', 'references', 'to', 'the', 'land', 'of', 'the', 'Indus', 'in', 'the', 'millennium', 'BCE', 'through', 'the', 'texts', 'of', 'the', 'medieval', 'era', 'the', 'term', 'Hindu', 'implied', 'a', 'geographic', 'ethnic', 'or', 'cultural', 'identifier', 'for', 'people', 'living', 'in', 'the', 'Indian', 'subcontinent', 'around', 'or', 'beyond', 'the', 'Sindhu', 'Indus', 'river', 'By', 'the', 'century', 'the', 'term', 'began', 'to', 'refer', 'to', 'residents', 'of', 'the', 'subcontinent', 'who', 'were', 'not', 'Turkic', 'or', 'Muslims', 'a', 'b', 'The', 'historical', 'development', 'of', 'Hindu', 'within', 'the', 'local', 'South', 'Asian', 'population', 'in', 'a', 'religious', 'or', 'cultural', 'sense', 'is', 'unclear', 'Competing', 'theories', 'state', 'that', 'Hindu', 'identity', 'developed', 'in', 'the', 'British', 'colonial', 'era', 'or', 'that', 'it', 'developed', 'century', 'CE', 'after', 'the', 'Islamic', 'invasion', 'and', 'medieval', 'wars', 'A', 'sense', 'of', 'Hindu', 'identity', 'and', 'the', 'term', 'Hindu', 'appears', 'in', 'some', 'texts', 'dated', 'between', 'the', 'and', 'century', 'in', 'Sanskrit', 'and', 'regional', 'languages', 'The', 'and', 'Indian', 'poets', 'such', 'as', 'Vidyapati', 'Kabir', 'and', 'Eknath', 'used', 'the', 'phrase', 'Hindu', 'dharma', 'Hinduism', 'and', 'contrasted', 'it', 'with', 'Turaka', 'dharma', 'Islam', 'The', 'Christian', 'friar', 'Sebastiao', 'Manrique', 'used', 'the', 'term', 'in', 'religious', 'context', 'in', 'In', 'the', 'century', 'the', 'European', 'merchants', 'and', 'colonists', 'began', 'to', 'refer', 'to', 'the', 'followers', 'of', 'Indian', 'religions', 'collectively', 'as', 'Hindus', 'in', 'contrast', 'to', 'Mohamedans', 'for', 'Mughals', 'and', 'Arabs', 'following', 'Islam', 'By', 'the', 'century', 'colonial', 'orientalist', 'texts', 'further', 'distinguished', 'Hindus', 'from', 'Buddhists', 'Sikhs', 'and', 'Jains', 'but', 'the', 'colonial', 'laws', 'continued', 'to', 'consider', 'all', 'of', 'them', 'to', 'be', 'within', 'the', 'scope', 'of', 'the', 'term', 'Hindu', 'until', 'about', 'century', 'Scholars', 'state', 'that', 'the', 'custom', 'of', 'distinguishing', 'between', 'Hindus', 'Buddhists', 'Jains', 'and', 'Sikhs', 'is', 'a', 'modern', 'phenomenon', 'Hindoo', 'is', 'an', 'archaic', 'spelling', 'variant', 'whose', 'use', 'today', 'may', 'be', 'considered', 'derogatory', 'At', 'more', 'than', 'billion', 'Hindus', 'are', 'the', 'world', 'third', 'largest', 'group', 'after', 'Christians', 'and', 'Muslims', 'The', 'vast', 'majority', 'of', 'Hindus', 'approximately', 'million', 'live', 'in', 'India', 'according', 'to', 'India', 'census', 'After', 'India', 'the', 'next', 'countries', 'with', 'the', 'largest', 'Hindu', 'populations', 'are', 'in', 'decreasing', 'order', 'Nepal', 'Bangladesh', 'Indonesia', 'Pakistan', 'Sri', 'Lanka', 'United', 'States', 'Malaysia', 'United', 'Kingdom', 'and', 'Myanmar', 'These', 'together', 'accounted', 'for', 'of', 'the', 'world', 'Hindu', 'population', 'and', 'the', 'remaining', 'nations', 'of', 'the', 'world', 'together', 'had', 'about', 'million', 'Hindus', 'in']\n"
     ]
    }
   ],
   "source": [
    "def remove_punctuation_marks(tokens):\n",
    "    clean_tokens = []\n",
    "    for tok in tokens:\n",
    "        if tok.isalpha():\n",
    "            clean_tokens.append(tok)\n",
    "    return clean_tokens\n",
    "\n",
    "print(remove_punctuation_marks(tokens))"
   ]
  },
  {
   "cell_type": "markdown",
   "metadata": {},
   "source": [
    "A shorter implementation with Python generator."
   ]
  },
  {
   "cell_type": "code",
   "execution_count": 11,
   "metadata": {},
   "outputs": [
    {
     "name": "stdout",
     "output_type": "stream",
     "text": [
      "['Hindu', 'refers', 'to', 'any', 'person', 'who', 'regards', 'themselves', 'as', 'culturally', 'ethnically', 'or', 'religiously', 'adhering', 'to', 'aspects', 'of', 'Hinduism', 'It', 'has', 'historically', 'been', 'used', 'as', 'a', 'geographical', 'cultural', 'and', 'later', 'religious', 'identifier', 'for', 'people', 'indigenous', 'to', 'the', 'Indian', 'subcontinent', 'The', 'historical', 'meaning', 'of', 'the', 'term', 'Hindu', 'has', 'evolved', 'with', 'time', 'Starting', 'with', 'the', 'Persian', 'and', 'Greek', 'references', 'to', 'the', 'land', 'of', 'the', 'Indus', 'in', 'the', 'millennium', 'BCE', 'through', 'the', 'texts', 'of', 'the', 'medieval', 'era', 'the', 'term', 'Hindu', 'implied', 'a', 'geographic', 'ethnic', 'or', 'cultural', 'identifier', 'for', 'people', 'living', 'in', 'the', 'Indian', 'subcontinent', 'around', 'or', 'beyond', 'the', 'Sindhu', 'Indus', 'river', 'By', 'the', 'century', 'the', 'term', 'began', 'to', 'refer', 'to', 'residents', 'of', 'the', 'subcontinent', 'who', 'were', 'not', 'Turkic', 'or', 'Muslims', 'a', 'b', 'The', 'historical', 'development', 'of', 'Hindu', 'within', 'the', 'local', 'South', 'Asian', 'population', 'in', 'a', 'religious', 'or', 'cultural', 'sense', 'is', 'unclear', 'Competing', 'theories', 'state', 'that', 'Hindu', 'identity', 'developed', 'in', 'the', 'British', 'colonial', 'era', 'or', 'that', 'it', 'developed', 'century', 'CE', 'after', 'the', 'Islamic', 'invasion', 'and', 'medieval', 'wars', 'A', 'sense', 'of', 'Hindu', 'identity', 'and', 'the', 'term', 'Hindu', 'appears', 'in', 'some', 'texts', 'dated', 'between', 'the', 'and', 'century', 'in', 'Sanskrit', 'and', 'regional', 'languages', 'The', 'and', 'Indian', 'poets', 'such', 'as', 'Vidyapati', 'Kabir', 'and', 'Eknath', 'used', 'the', 'phrase', 'Hindu', 'dharma', 'Hinduism', 'and', 'contrasted', 'it', 'with', 'Turaka', 'dharma', 'Islam', 'The', 'Christian', 'friar', 'Sebastiao', 'Manrique', 'used', 'the', 'term', 'in', 'religious', 'context', 'in', 'In', 'the', 'century', 'the', 'European', 'merchants', 'and', 'colonists', 'began', 'to', 'refer', 'to', 'the', 'followers', 'of', 'Indian', 'religions', 'collectively', 'as', 'Hindus', 'in', 'contrast', 'to', 'Mohamedans', 'for', 'Mughals', 'and', 'Arabs', 'following', 'Islam', 'By', 'the', 'century', 'colonial', 'orientalist', 'texts', 'further', 'distinguished', 'Hindus', 'from', 'Buddhists', 'Sikhs', 'and', 'Jains', 'but', 'the', 'colonial', 'laws', 'continued', 'to', 'consider', 'all', 'of', 'them', 'to', 'be', 'within', 'the', 'scope', 'of', 'the', 'term', 'Hindu', 'until', 'about', 'century', 'Scholars', 'state', 'that', 'the', 'custom', 'of', 'distinguishing', 'between', 'Hindus', 'Buddhists', 'Jains', 'and', 'Sikhs', 'is', 'a', 'modern', 'phenomenon', 'Hindoo', 'is', 'an', 'archaic', 'spelling', 'variant', 'whose', 'use', 'today', 'may', 'be', 'considered', 'derogatory', 'At', 'more', 'than', 'billion', 'Hindus', 'are', 'the', 'world', 'third', 'largest', 'group', 'after', 'Christians', 'and', 'Muslims', 'The', 'vast', 'majority', 'of', 'Hindus', 'approximately', 'million', 'live', 'in', 'India', 'according', 'to', 'India', 'census', 'After', 'India', 'the', 'next', 'countries', 'with', 'the', 'largest', 'Hindu', 'populations', 'are', 'in', 'decreasing', 'order', 'Nepal', 'Bangladesh', 'Indonesia', 'Pakistan', 'Sri', 'Lanka', 'United', 'States', 'Malaysia', 'United', 'Kingdom', 'and', 'Myanmar', 'These', 'together', 'accounted', 'for', 'of', 'the', 'world', 'Hindu', 'population', 'and', 'the', 'remaining', 'nations', 'of', 'the', 'world', 'together', 'had', 'about', 'million', 'Hindus', 'in']\n"
     ]
    }
   ],
   "source": [
    "def remove_punctuation_marks(tokens):\n",
    "    return [tok for tok in tokens if tok.isalpha()]\n",
    "\n",
    "print(remove_punctuation_marks(tokens))"
   ]
  },
  {
   "cell_type": "markdown",
   "metadata": {},
   "source": [
    "New counting results with the removal of punctuations and digits."
   ]
  },
  {
   "cell_type": "code",
   "execution_count": 12,
   "metadata": {},
   "outputs": [
    {
     "name": "stdout",
     "output_type": "stream",
     "text": [
      "the\t35\n",
      "and\t16\n",
      "of\t14\n",
      "to\t12\n",
      "in\t12\n",
      "Hindu\t11\n",
      "or\t6\n",
      "term\t6\n",
      "century\t6\n",
      "Hindus\t6\n"
     ]
    }
   ],
   "source": [
    "tokens = remove_punctuation_marks(tokens)\n",
    "word_count = Counter(tokens)\n",
    "\n",
    "for w, c in word_count.most_common(10):\n",
    "    print(\"%s\\t%d\" % (w, c))"
   ]
  },
  {
   "cell_type": "markdown",
   "metadata": {},
   "source": [
    "## Stopword Removal"
   ]
  },
  {
   "cell_type": "markdown",
   "metadata": {},
   "source": [
    "Load an English stopword list from NTLK."
   ]
  },
  {
   "cell_type": "code",
   "execution_count": 13,
   "metadata": {},
   "outputs": [
    {
     "name": "stdout",
     "output_type": "stream",
     "text": [
      "[nltk_data] Downloading package stopwords to\n",
      "[nltk_data]     C:\\Users\\POPO\\AppData\\Roaming\\nltk_data...\n",
      "[nltk_data]   Unzipping corpora\\stopwords.zip.\n",
      "['i', 'me', 'my', 'myself', 'we', 'our', 'ours', 'ourselves', 'you', \"you're\", \"you've\", \"you'll\", \"you'd\", 'your', 'yours', 'yourself', 'yourselves', 'he', 'him', 'his', 'himself', 'she', \"she's\", 'her', 'hers', 'herself', 'it', \"it's\", 'its', 'itself', 'they', 'them', 'their', 'theirs', 'themselves', 'what', 'which', 'who', 'whom', 'this', 'that', \"that'll\", 'these', 'those', 'am', 'is', 'are', 'was', 'were', 'be', 'been', 'being', 'have', 'has', 'had', 'having', 'do', 'does', 'did', 'doing', 'a', 'an', 'the', 'and', 'but', 'if', 'or', 'because', 'as', 'until', 'while', 'of', 'at', 'by', 'for', 'with', 'about', 'against', 'between', 'into', 'through', 'during', 'before', 'after', 'above', 'below', 'to', 'from', 'up', 'down', 'in', 'out', 'on', 'off', 'over', 'under', 'again', 'further', 'then', 'once', 'here', 'there', 'when', 'where', 'why', 'how', 'all', 'any', 'both', 'each', 'few', 'more', 'most', 'other', 'some', 'such', 'no', 'nor', 'not', 'only', 'own', 'same', 'so', 'than', 'too', 'very', 's', 't', 'can', 'will', 'just', 'don', \"don't\", 'should', \"should've\", 'now', 'd', 'll', 'm', 'o', 're', 've', 'y', 'ain', 'aren', \"aren't\", 'couldn', \"couldn't\", 'didn', \"didn't\", 'doesn', \"doesn't\", 'hadn', \"hadn't\", 'hasn', \"hasn't\", 'haven', \"haven't\", 'isn', \"isn't\", 'ma', 'mightn', \"mightn't\", 'mustn', \"mustn't\", 'needn', \"needn't\", 'shan', \"shan't\", 'shouldn', \"shouldn't\", 'wasn', \"wasn't\", 'weren', \"weren't\", 'won', \"won't\", 'wouldn', \"wouldn't\"]\n"
     ]
    }
   ],
   "source": [
    "import nltk\n",
    "from nltk.corpus import stopwords\n",
    "nltk.download('stopwords')\n",
    "stopword_list = stopwords.words('english')\n",
    "print(stopword_list)"
   ]
  },
  {
   "cell_type": "markdown",
   "metadata": {},
   "source": [
    "Remove stopwords from the tokens."
   ]
  },
  {
   "cell_type": "code",
   "execution_count": 15,
   "metadata": {},
   "outputs": [
    {
     "name": "stdout",
     "output_type": "stream",
     "text": [
      "['Hindu', 'refers', 'person', 'regards', 'culturally', 'ethnically', 'religiously', 'adhering', 'aspects', 'Hinduism', 'It', 'historically', 'used', 'geographical', 'cultural', 'later', 'religious', 'identifier', 'people', 'indigenous', 'Indian', 'subcontinent', 'The', 'historical', 'meaning', 'term', 'Hindu', 'evolved', 'time', 'Starting', 'Persian', 'Greek', 'references', 'land', 'Indus', 'millennium', 'BCE', 'texts', 'medieval', 'era', 'term', 'Hindu', 'implied', 'geographic', 'ethnic', 'cultural', 'identifier', 'people', 'living', 'Indian', 'subcontinent', 'around', 'beyond', 'Sindhu', 'Indus', 'river', 'By', 'century', 'term', 'began', 'refer', 'residents', 'subcontinent', 'Turkic', 'Muslims', 'b', 'The', 'historical', 'development', 'Hindu', 'within', 'local', 'South', 'Asian', 'population', 'religious', 'cultural', 'sense', 'unclear', 'Competing', 'theories', 'state', 'Hindu', 'identity', 'developed', 'British', 'colonial', 'era', 'developed', 'century', 'CE', 'Islamic', 'invasion', 'medieval', 'wars', 'A', 'sense', 'Hindu', 'identity', 'term', 'Hindu', 'appears', 'texts', 'dated', 'century', 'Sanskrit', 'regional', 'languages', 'The', 'Indian', 'poets', 'Vidyapati', 'Kabir', 'Eknath', 'used', 'phrase', 'Hindu', 'dharma', 'Hinduism', 'contrasted', 'Turaka', 'dharma', 'Islam', 'The', 'Christian', 'friar', 'Sebastiao', 'Manrique', 'used', 'term', 'religious', 'context', 'In', 'century', 'European', 'merchants', 'colonists', 'began', 'refer', 'followers', 'Indian', 'religions', 'collectively', 'Hindus', 'contrast', 'Mohamedans', 'Mughals', 'Arabs', 'following', 'Islam', 'By', 'century', 'colonial', 'orientalist', 'texts', 'distinguished', 'Hindus', 'Buddhists', 'Sikhs', 'Jains', 'colonial', 'laws', 'continued', 'consider', 'within', 'scope', 'term', 'Hindu', 'century', 'Scholars', 'state', 'custom', 'distinguishing', 'Hindus', 'Buddhists', 'Jains', 'Sikhs', 'modern', 'phenomenon', 'Hindoo', 'archaic', 'spelling', 'variant', 'whose', 'use', 'today', 'may', 'considered', 'derogatory', 'At', 'billion', 'Hindus', 'world', 'third', 'largest', 'group', 'Christians', 'Muslims', 'The', 'vast', 'majority', 'Hindus', 'approximately', 'million', 'live', 'India', 'according', 'India', 'census', 'After', 'India', 'next', 'countries', 'largest', 'Hindu', 'populations', 'decreasing', 'order', 'Nepal', 'Bangladesh', 'Indonesia', 'Pakistan', 'Sri', 'Lanka', 'United', 'States', 'Malaysia', 'United', 'Kingdom', 'Myanmar', 'These', 'together', 'accounted', 'world', 'Hindu', 'population', 'remaining', 'nations', 'world', 'together', 'million', 'Hindus']\n"
     ]
    }
   ],
   "source": [
    "def remove_stopwords(tokens):\n",
    "    tokens_clean = []\n",
    "    for tok in tokens:\n",
    "        if tok not in stopword_list:\n",
    "            tokens_clean.append(tok)\n",
    "    return tokens_clean\n",
    "\n",
    "print(remove_stopwords(tokens))"
   ]
  },
  {
   "cell_type": "markdown",
   "metadata": {},
   "source": [
    "Handle Capitalization in English"
   ]
  },
  {
   "cell_type": "markdown",
   "metadata": {},
   "source": [
    "Solution 1: Converting all characters to lowercase. "
   ]
  },
  {
   "cell_type": "code",
   "execution_count": 16,
   "metadata": {},
   "outputs": [
    {
     "name": "stdout",
     "output_type": "stream",
     "text": [
      "['hindu', 'refers', 'person', 'regards', 'culturally', 'ethnically', 'religiously', 'adhering', 'aspects', 'hinduism', 'historically', 'used', 'geographical', 'cultural', 'later', 'religious', 'identifier', 'people', 'indigenous', 'indian', 'subcontinent', 'historical', 'meaning', 'term', 'hindu', 'evolved', 'time', 'starting', 'persian', 'greek', 'references', 'land', 'indus', 'millennium', 'bce', 'texts', 'medieval', 'era', 'term', 'hindu', 'implied', 'geographic', 'ethnic', 'cultural', 'identifier', 'people', 'living', 'indian', 'subcontinent', 'around', 'beyond', 'sindhu', 'indus', 'river', 'century', 'term', 'began', 'refer', 'residents', 'subcontinent', 'turkic', 'muslims', 'b', 'historical', 'development', 'hindu', 'within', 'local', 'south', 'asian', 'population', 'religious', 'cultural', 'sense', 'unclear', 'competing', 'theories', 'state', 'hindu', 'identity', 'developed', 'british', 'colonial', 'era', 'developed', 'century', 'ce', 'islamic', 'invasion', 'medieval', 'wars', 'sense', 'hindu', 'identity', 'term', 'hindu', 'appears', 'texts', 'dated', 'century', 'sanskrit', 'regional', 'languages', 'indian', 'poets', 'vidyapati', 'kabir', 'eknath', 'used', 'phrase', 'hindu', 'dharma', 'hinduism', 'contrasted', 'turaka', 'dharma', 'islam', 'christian', 'friar', 'sebastiao', 'manrique', 'used', 'term', 'religious', 'context', 'century', 'european', 'merchants', 'colonists', 'began', 'refer', 'followers', 'indian', 'religions', 'collectively', 'hindus', 'contrast', 'mohamedans', 'mughals', 'arabs', 'following', 'islam', 'century', 'colonial', 'orientalist', 'texts', 'distinguished', 'hindus', 'buddhists', 'sikhs', 'jains', 'colonial', 'laws', 'continued', 'consider', 'within', 'scope', 'term', 'hindu', 'century', 'scholars', 'state', 'custom', 'distinguishing', 'hindus', 'buddhists', 'jains', 'sikhs', 'modern', 'phenomenon', 'hindoo', 'archaic', 'spelling', 'variant', 'whose', 'use', 'today', 'may', 'considered', 'derogatory', 'billion', 'hindus', 'world', 'third', 'largest', 'group', 'christians', 'muslims', 'vast', 'majority', 'hindus', 'approximately', 'million', 'live', 'india', 'according', 'india', 'census', 'india', 'next', 'countries', 'largest', 'hindu', 'populations', 'decreasing', 'order', 'nepal', 'bangladesh', 'indonesia', 'pakistan', 'sri', 'lanka', 'united', 'states', 'malaysia', 'united', 'kingdom', 'myanmar', 'together', 'accounted', 'world', 'hindu', 'population', 'remaining', 'nations', 'world', 'together', 'million', 'hindus']\n"
     ]
    }
   ],
   "source": [
    "def lowercase(tokens):\n",
    "    tokens_lower = []\n",
    "    for tok in tokens:\n",
    "        tokens_lower.append(tok.lower())\n",
    "    return tokens_lower\n",
    "\n",
    "print(remove_stopwords(lowercase(tokens)))\n"
   ]
  },
  {
   "cell_type": "markdown",
   "metadata": {},
   "source": [
    "Solution 2: Maintain the capitalization."
   ]
  },
  {
   "cell_type": "code",
   "execution_count": 17,
   "metadata": {},
   "outputs": [
    {
     "name": "stdout",
     "output_type": "stream",
     "text": [
      "['Hindu', 'refers', 'person', 'regards', 'culturally', 'ethnically', 'religiously', 'adhering', 'aspects', 'Hinduism', 'historically', 'used', 'geographical', 'cultural', 'later', 'religious', 'identifier', 'people', 'indigenous', 'Indian', 'subcontinent', 'historical', 'meaning', 'term', 'Hindu', 'evolved', 'time', 'Starting', 'Persian', 'Greek', 'references', 'land', 'Indus', 'millennium', 'BCE', 'texts', 'medieval', 'era', 'term', 'Hindu', 'implied', 'geographic', 'ethnic', 'cultural', 'identifier', 'people', 'living', 'Indian', 'subcontinent', 'around', 'beyond', 'Sindhu', 'Indus', 'river', 'century', 'term', 'began', 'refer', 'residents', 'subcontinent', 'Turkic', 'Muslims', 'b', 'historical', 'development', 'Hindu', 'within', 'local', 'South', 'Asian', 'population', 'religious', 'cultural', 'sense', 'unclear', 'Competing', 'theories', 'state', 'Hindu', 'identity', 'developed', 'British', 'colonial', 'era', 'developed', 'century', 'CE', 'Islamic', 'invasion', 'medieval', 'wars', 'sense', 'Hindu', 'identity', 'term', 'Hindu', 'appears', 'texts', 'dated', 'century', 'Sanskrit', 'regional', 'languages', 'Indian', 'poets', 'Vidyapati', 'Kabir', 'Eknath', 'used', 'phrase', 'Hindu', 'dharma', 'Hinduism', 'contrasted', 'Turaka', 'dharma', 'Islam', 'Christian', 'friar', 'Sebastiao', 'Manrique', 'used', 'term', 'religious', 'context', 'century', 'European', 'merchants', 'colonists', 'began', 'refer', 'followers', 'Indian', 'religions', 'collectively', 'Hindus', 'contrast', 'Mohamedans', 'Mughals', 'Arabs', 'following', 'Islam', 'century', 'colonial', 'orientalist', 'texts', 'distinguished', 'Hindus', 'Buddhists', 'Sikhs', 'Jains', 'colonial', 'laws', 'continued', 'consider', 'within', 'scope', 'term', 'Hindu', 'century', 'Scholars', 'state', 'custom', 'distinguishing', 'Hindus', 'Buddhists', 'Jains', 'Sikhs', 'modern', 'phenomenon', 'Hindoo', 'archaic', 'spelling', 'variant', 'whose', 'use', 'today', 'may', 'considered', 'derogatory', 'billion', 'Hindus', 'world', 'third', 'largest', 'group', 'Christians', 'Muslims', 'vast', 'majority', 'Hindus', 'approximately', 'million', 'live', 'India', 'according', 'India', 'census', 'India', 'next', 'countries', 'largest', 'Hindu', 'populations', 'decreasing', 'order', 'Nepal', 'Bangladesh', 'Indonesia', 'Pakistan', 'Sri', 'Lanka', 'United', 'States', 'Malaysia', 'United', 'Kingdom', 'Myanmar', 'together', 'accounted', 'world', 'Hindu', 'population', 'remaining', 'nations', 'world', 'together', 'million', 'Hindus']\n"
     ]
    }
   ],
   "source": [
    "def remove_stopwords(tokens):\n",
    "    tokens_clean = []\n",
    "    for tok in tokens:\n",
    "        if tok.lower() not in stopword_list:\n",
    "            tokens_clean.append(tok)\n",
    "    return tokens_clean\n",
    "print(remove_stopwords(tokens))\n"
   ]
  },
  {
   "cell_type": "markdown",
   "metadata": {},
   "source": [
    "New counting results with the removal of stopwords."
   ]
  },
  {
   "cell_type": "code",
   "execution_count": 18,
   "metadata": {},
   "outputs": [
    {
     "name": "stdout",
     "output_type": "stream",
     "text": [
      "Hindu\t11\n",
      "term\t6\n",
      "century\t6\n",
      "Hindus\t6\n",
      "Indian\t4\n",
      "used\t3\n",
      "cultural\t3\n",
      "religious\t3\n",
      "subcontinent\t3\n",
      "texts\t3\n",
      "colonial\t3\n",
      "world\t3\n",
      "India\t3\n",
      "Hinduism\t2\n",
      "identifier\t2\n",
      "people\t2\n",
      "historical\t2\n",
      "Indus\t2\n",
      "medieval\t2\n",
      "era\t2\n",
      "began\t2\n",
      "refer\t2\n",
      "Muslims\t2\n",
      "within\t2\n",
      "population\t2\n",
      "sense\t2\n",
      "state\t2\n",
      "identity\t2\n",
      "developed\t2\n",
      "dharma\t2\n",
      "Islam\t2\n",
      "Buddhists\t2\n",
      "Sikhs\t2\n",
      "Jains\t2\n",
      "largest\t2\n",
      "million\t2\n",
      "United\t2\n",
      "together\t2\n",
      "refers\t1\n",
      "person\t1\n",
      "regards\t1\n",
      "culturally\t1\n",
      "ethnically\t1\n",
      "religiously\t1\n",
      "adhering\t1\n",
      "aspects\t1\n",
      "historically\t1\n",
      "geographical\t1\n",
      "later\t1\n",
      "indigenous\t1\n"
     ]
    }
   ],
   "source": [
    "word_count = Counter(remove_stopwords(tokens))\n",
    "\n",
    "for w, c in word_count.most_common(50):\n",
    "    print(\"%s\\t%d\" % (w, c))"
   ]
  },
  {
   "cell_type": "markdown",
   "metadata": {},
   "source": [
    "Unicase results with the removal of stopwords."
   ]
  },
  {
   "cell_type": "code",
   "execution_count": 19,
   "metadata": {},
   "outputs": [
    {
     "name": "stdout",
     "output_type": "stream",
     "text": [
      "hindu\t11\n",
      "term\t6\n",
      "century\t6\n",
      "hindus\t6\n",
      "indian\t4\n",
      "used\t3\n",
      "cultural\t3\n",
      "religious\t3\n",
      "subcontinent\t3\n",
      "texts\t3\n",
      "colonial\t3\n",
      "world\t3\n",
      "india\t3\n",
      "hinduism\t2\n",
      "identifier\t2\n",
      "people\t2\n",
      "historical\t2\n",
      "indus\t2\n",
      "medieval\t2\n",
      "era\t2\n",
      "began\t2\n",
      "refer\t2\n",
      "muslims\t2\n",
      "within\t2\n",
      "population\t2\n",
      "sense\t2\n",
      "state\t2\n",
      "identity\t2\n",
      "developed\t2\n",
      "dharma\t2\n",
      "islam\t2\n",
      "buddhists\t2\n",
      "sikhs\t2\n",
      "jains\t2\n",
      "largest\t2\n",
      "million\t2\n",
      "united\t2\n",
      "together\t2\n",
      "refers\t1\n",
      "person\t1\n",
      "regards\t1\n",
      "culturally\t1\n",
      "ethnically\t1\n",
      "religiously\t1\n",
      "adhering\t1\n",
      "aspects\t1\n",
      "historically\t1\n",
      "geographical\t1\n",
      "later\t1\n",
      "indigenous\t1\n"
     ]
    }
   ],
   "source": [
    "word_count = Counter(remove_stopwords(lowercase(tokens)))\n",
    "\n",
    "for w, c in word_count.most_common(50):\n",
    "    print(\"%s\\t%d\" % (w, c))"
   ]
  },
  {
   "cell_type": "markdown",
   "metadata": {},
   "source": [
    "## Stemming"
   ]
  },
  {
   "cell_type": "markdown",
   "metadata": {},
   "source": [
    "Stemming with Snowball algorithm implemented by NLTK.\n",
    "\n",
    "Reference: http://snowball.tartarus.org/texts/introduction.html"
   ]
  },
  {
   "cell_type": "code",
   "execution_count": 21,
   "metadata": {},
   "outputs": [
    {
     "name": "stdout",
     "output_type": "stream",
     "text": [
      "hindu\t11\n",
      "term\t6\n",
      "centuri\t6\n",
      "hindus\t6\n",
      "refer\t4\n",
      "cultur\t4\n",
      "religi\t4\n",
      "use\t4\n",
      "indian\t4\n",
      "histor\t3\n",
      "subcontin\t3\n",
      "text\t3\n",
      "develop\t3\n",
      "popul\t3\n",
      "state\t3\n",
      "coloni\t3\n",
      "islam\t3\n",
      "world\t3\n",
      "india\t3\n",
      "ethnic\t2\n",
      "hinduism\t2\n",
      "geograph\t2\n",
      "identifi\t2\n",
      "peopl\t2\n",
      "indus\t2\n",
      "mediev\t2\n",
      "era\t2\n",
      "live\t2\n",
      "began\t2\n",
      "muslim\t2\n",
      "within\t2\n",
      "sens\t2\n",
      "ident\t2\n",
      "dharma\t2\n",
      "contrast\t2\n",
      "christian\t2\n",
      "follow\t2\n",
      "distinguish\t2\n",
      "buddhist\t2\n",
      "sikh\t2\n",
      "jain\t2\n",
      "consid\t2\n",
      "largest\t2\n",
      "million\t2\n",
      "unit\t2\n",
      "togeth\t2\n",
      "person\t1\n",
      "regard\t1\n",
      "adher\t1\n",
      "aspect\t1\n"
     ]
    }
   ],
   "source": [
    "from nltk.stem.snowball import SnowballStemmer\n",
    "stemmer = SnowballStemmer(\"english\")\n",
    "\n",
    "stemmed_tokens = []\n",
    "for tok in remove_stopwords(tokens):\n",
    "    stemmed_tokens.append(stemmer.stem(tok))\n",
    "word_count = Counter(stemmed_tokens)\n",
    "\n",
    "for w, c in word_count.most_common(50):\n",
    "    print(\"%s\\t%d\" % (w, c))"
   ]
  },
  {
   "cell_type": "markdown",
   "metadata": {},
   "source": [
    "## Lemmatization"
   ]
  },
  {
   "cell_type": "markdown",
   "metadata": {},
   "source": [
    "Perform lemmatization with WordNet, a lexical ontology, via NLTK.\n",
    "\n",
    "This is a lazy version that does not require part-of-speech information given. "
   ]
  },
  {
   "cell_type": "code",
   "execution_count": 33,
   "metadata": {},
   "outputs": [
    {
     "name": "stdout",
     "output_type": "stream",
     "text": [
      "Dogs\n",
      "dog\n",
      "hit\n"
     ]
    }
   ],
   "source": [
    "from nltk.stem import WordNetLemmatizer\n",
    "wordnet_lemmatizer = WordNetLemmatizer()\n",
    "\n",
    "def lemmatize(token):\n",
    "    # ADJ (a), ADJ_SAT (s), ADV (r), NOUN (n) or VERB (v)\n",
    "    for p in ['v', 'n', 'a', 'r', 's']:\n",
    "        l = wordnet_lemmatizer.lemmatize(token, pos=p)\n",
    "        if l != token:\n",
    "            return l\n",
    "    return token\n",
    "\n",
    "print(lemmatize('Dogs'))\n",
    "print(lemmatize('dogs'))\n",
    "print(lemmatize('hits'))\n"
   ]
  },
  {
   "cell_type": "markdown",
   "metadata": {},
   "source": [
    "Show the differences between stemming and lemmatization."
   ]
  },
  {
   "cell_type": "code",
   "execution_count": 34,
   "metadata": {},
   "outputs": [
    {
     "name": "stdout",
     "output_type": "stream",
     "text": [
      "unopened\tunopen\tunopened\n",
      "decompose\tdecompos\tdecompose\n",
      "decomposes\tdecompos\tdecompose\n",
      "decomposed\tdecompos\tdecompose\n",
      "decomposing\tdecompos\tdecompose\n",
      "does\tdoe\tdo\n",
      "did\tdid\tdo\n",
      "wrote\twrote\twrite\n",
      "written\twritten\twrite\n",
      "ran\tran\trun\n",
      "gave\tgave\tgive\n",
      "held\theld\thold\n",
      "went\twent\tgo\n",
      "gone\tgone\tgo\n",
      "lain\tlain\tlie\n",
      "people\tpeopl\tpeople\n",
      "feet\tfeet\tfoot\n",
      "women\twomen\twoman\n",
      "smoothly\tsmooth\tsmoothly\n",
      "firstly\tfirst\tfirstly\n",
      "secondly\tsecond\tsecondly\n",
      "install\tinstal\tinstall\n",
      "uninstall\tuninstal\tuninstall\n",
      "internalization\tintern\tinternalization\n",
      "internationalization\tinternation\tinternationalization\n",
      "decontextualization\tdecontextu\tdecontextualization\n",
      "decontextualized\tdecontextu\tdecontextualized\n",
      "decentralization\tdecentr\tdecentralization\n",
      "decentralized\tdecentr\tdecentralize\n"
     ]
    }
   ],
   "source": [
    "for w in [\n",
    "    'open', 'opens', 'opened', 'opening', 'unopened',\n",
    "    'talk', 'talks', 'talked', 'talking',\n",
    "    'decompose', 'decomposes', 'decomposed', 'decomposing',\n",
    "    'do', 'does', 'did', \n",
    "    'wrote', 'written', 'ran', 'gave', 'held', 'went', 'gone',\n",
    "    'lied', 'lies', 'lay', 'lain', 'lying', \n",
    "    'cats', 'people', 'feet', 'women', 'smoothly', 'firstly', 'secondly', \n",
    "    'install', 'installed', 'uninstall',\n",
    "    'internalization', 'internationalization',\n",
    "    'decontextualization', 'decontextualized', 'decentralization', 'decentralized']:\n",
    "    s = snowball_stemmer.stem(w)\n",
    "    l = lemmatize(w)\n",
    "    if s != l:\n",
    "        print(\"%s\\t%s\\t%s\" % (w, s, l))\n"
   ]
  },
  {
   "cell_type": "markdown",
   "metadata": {
    "collapsed": true
   },
   "source": [
    "New counting results with lemmatization. "
   ]
  },
  {
   "cell_type": "code",
   "execution_count": 35,
   "metadata": {},
   "outputs": [
    {
     "name": "stdout",
     "output_type": "stream",
     "text": [
      "Hindu\t11\n",
      "term\t6\n",
      "century\t6\n",
      "Hindus\t6\n",
      "use\t4\n",
      "Indian\t4\n",
      "refer\t3\n",
      "cultural\t3\n",
      "religious\t3\n",
      "subcontinent\t3\n",
      "text\t3\n",
      "population\t3\n",
      "colonial\t3\n",
      "world\t3\n",
      "India\t3\n",
      "Hinduism\t2\n",
      "identifier\t2\n",
      "people\t2\n",
      "historical\t2\n",
      "Indus\t2\n",
      "medieval\t2\n",
      "era\t2\n",
      "live\t2\n",
      "begin\t2\n",
      "Muslims\t2\n",
      "within\t2\n",
      "sense\t2\n",
      "state\t2\n",
      "identity\t2\n",
      "develop\t2\n",
      "dharma\t2\n",
      "contrast\t2\n",
      "Islam\t2\n",
      "distinguish\t2\n",
      "Buddhists\t2\n",
      "Sikhs\t2\n",
      "Jains\t2\n",
      "consider\t2\n",
      "large\t2\n",
      "million\t2\n",
      "United\t2\n",
      "together\t2\n",
      "person\t1\n",
      "regard\t1\n",
      "culturally\t1\n",
      "ethnically\t1\n",
      "religiously\t1\n",
      "adhere\t1\n",
      "aspect\t1\n",
      "historically\t1\n"
     ]
    }
   ],
   "source": [
    "lemmatized_tokens = []\n",
    "for tok in remove_stopwords(tokens):\n",
    "    lemmatized_tokens.append(lemmatize(tok))\n",
    "word_count = Counter(lemmatized_tokens)\n",
    "\n",
    "for w, c in word_count.most_common(50):\n",
    "    print(\"%s\\t%d\" % (w, c))\n"
   ]
  },
  {
   "cell_type": "markdown",
   "metadata": {},
   "source": [
    "Genearte data for WordCloud rendering. \n",
    "\n",
    "https://www.jasondavies.com/wordcloud/"
   ]
  },
  {
   "cell_type": "code",
   "execution_count": 25,
   "metadata": {},
   "outputs": [
    {
     "name": "stdout",
     "output_type": "stream",
     "text": [
      "Hindu Hindu Hindu Hindu Hindu Hindu Hindu Hindu Hindu Hindu Hindu term term term term term term century century century century century century Hindus Hindus Hindus Hindus Hindus Hindus use use use use Indian Indian Indian Indian refer refer refer cultural cultural cultural religious religious religious subcontinent subcontinent subcontinent text text text population population population colonial colonial colonial world world world India India India Hinduism Hinduism identifier identifier people people historical historical Indus Indus medieval medieval era era live live begin begin Muslims Muslims within within sense sense state state identity identity develop develop dharma dharma contrast contrast Islam Islam distinguish distinguish Buddhists Buddhists Sikhs Sikhs Jains Jains consider consider large large million million United United together together person regard culturally ethnically religiously adhere aspect historically geographical late indigenous mean evolve time Starting Persian Greek reference land millennium BCE imply geographic ethnic around beyond Sindhu river resident Turkic b development local South Asian unclear Competing theory British CE Islamic invasion war appear date Sanskrit regional language poet Vidyapati Kabir Eknath phrase Turaka Christian friar Sebastiao Manrique context European merchant colonist follower religion collectively Mohamedans Mughals Arabs follow orientalist law continue scope Scholars custom modern phenomenon Hindoo archaic spell variant whose today may derogatory billion third group Christians vast majority approximately accord census next country decrease order Nepal Bangladesh Indonesia Pakistan Sri Lanka States Malaysia Kingdom Myanmar account remain nation\n"
     ]
    }
   ],
   "source": [
    "repeated_tokens = []\n",
    "for w, c in word_count.most_common():\n",
    "    for i in range(c):\n",
    "        repeated_tokens.append(w)\n",
    "print(\" \".join(repeated_tokens))\n"
   ]
  },
  {
   "cell_type": "code",
   "execution_count": 36,
   "metadata": {},
   "outputs": [
    {
     "name": "stdout",
     "output_type": "stream",
     "text": [
      "dog\n",
      "work\n"
     ]
    }
   ],
   "source": [
    "from nltk.stem import WordNetLemmatizer\n",
    "\n",
    "lemmatizer = WordNetLemmatizer()\n",
    "print (lemmatizer.lemmatize( 'dogs' ))\n",
    "print (lemmatizer.lemmatize( 'working' , pos= 'v' ))"
   ]
  },
  {
   "cell_type": "markdown",
   "metadata": {},
   "source": [
    "# 詞形還原(Lemmatization)\n",
    "在英文當中，一些詞會在不同的情況中有不同的形態：名詞有單複數，動詞有時態和語態，形容詞有比較級。而在自然語言處理的一些場景中，這種形態的差異是沒有意義的甚至有乾擾作用，需要將不同形態的詞轉換為其原型，這種處理就稱為\"詞形還原(Lemmatization/Lemmatisation) \" ，得到的原型被稱為\"詞元(Lemma)\" 。\n",
    "\n",
    "舉例子:\n",
    "\n",
    "dogs -> dog, cats -> cat\n",
    "\n",
    "doing -> do, done -> do\n",
    "\n",
    "better -> good"
   ]
  },
  {
   "cell_type": "code",
   "execution_count": null,
   "metadata": {},
   "outputs": [],
   "source": []
  }
 ],
 "metadata": {
  "kernelspec": {
   "display_name": "Python 3",
   "language": "python",
   "name": "python3"
  },
  "language_info": {
   "codemirror_mode": {
    "name": "ipython",
    "version": 3
   },
   "file_extension": ".py",
   "mimetype": "text/x-python",
   "name": "python",
   "nbconvert_exporter": "python",
   "pygments_lexer": "ipython3",
   "version": "3.6.5"
  }
 },
 "nbformat": 4,
 "nbformat_minor": 1
}
